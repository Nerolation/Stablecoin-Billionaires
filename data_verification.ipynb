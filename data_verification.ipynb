{
 "cells": [
  {
   "cell_type": "markdown",
   "metadata": {},
   "source": [
    "# Stablecoin Billionaires<br> Descriptive Analysis of the Ethereum-based Stablecoin ecosystem "
   ]
  },
  {
   "cell_type": "markdown",
   "metadata": {},
   "source": [
    "## by Anton Wahrstätter, 01.07.2020"
   ]
  },
  {
   "cell_type": "markdown",
   "metadata": {},
   "source": [
    "# Tests\n",
    "\n",
    "The test data is received from independent files which were  created by connecting to an Infura node and using a JSON-RPC connection. The Events were mined blockwise to ensure 100% integrity."
   ]
  },
  {
   "cell_type": "code",
   "execution_count": null,
   "metadata": {},
   "outputs": [],
   "source": [
    "import pandas as pd\n",
    "import numpy as np"
   ]
  },
  {
   "cell_type": "code",
   "execution_count": null,
   "metadata": {},
   "outputs": [],
   "source": [
    "#tether\n",
    "tether_chunk_0 = 'data/tether/transfer/0_tether_transfer_4638568-8513778.csv'\n",
    "tether_chunk_1 = 'data/tether/transfer/1_tether_transfer_8513799-8999999.csv'\n",
    "tether_chunk_2 = 'data/tether/transfer/2_tether_transfer_9000000-9799999.csv'\n",
    "tether_chunk_3 = 'data/tether/transfer/3_tether_transfer_9800000-10037842.csv'\n",
    "tether_chunk_4 = 'data/tether/transfer/4_tether_transfer_10037843-10176690.csv'\n",
    "tether_chunk_5 = 'data/tether/transfer/5_tether_transfer_10176691-10370273.csv' \n",
    "tether_chunk_0_1 = 'data/tether/transfer/0_tether_transfer_4638568-8999999.csv'\n",
    "tether_transfer = 'data/tether/transfer/tether_transfers.csv'\n",
    "\n",
    "#usdc\n",
    "usdc_transfer = 'data/usdc/transfer/0_usdc_transfer_6082465-10370273.csv' \n",
    "\n",
    "#paxos\n",
    "paxos_transfer = 'data/paxos/transfer/0_paxos_transfer_6294931-10370273.csv' \n",
    "\n",
    "#dai\n",
    "dai_transfer = 'data/dai/transfer/0_dai_transfer_8928158-10370273.csv' \n",
    "\n",
    "#trueusd\n",
    "trueusd_transfer = 'data/trueusd/transfer/0_trueUSD_transfer_5198636-10370273.csv' \n",
    "\n",
    "#binanceusd\n",
    "binanceusd_transfer = 'data/binanceusd/transfer/0_binanceusd_transfer_8493105-10370273.csv' \n",
    "\n",
    "#husd\n",
    "husd_transfer = 'data/husd/transfer/0_husd_transfer_8174400-10370273.csv' \n"
   ]
  },
  {
   "cell_type": "markdown",
   "metadata": {},
   "source": [
    "## Test Data"
   ]
  },
  {
   "cell_type": "code",
   "execution_count": null,
   "metadata": {},
   "outputs": [],
   "source": [
    "test0 = 'data/tether/transfer/tests/test0_8000000-8009997.csv' \n",
    "test1 = 'data/tether/transfer/tests/test1_8600000_8620000.csv' \n",
    "test2 = 'data/tether/transfer/tests/test2_9400000-9429998.csv' \n",
    "test3 = 'data/tether/transfer/tests/test3_10000000-10005998.csv'\n",
    "test4 = 'data/tether/transfer/tests/test4_8512000_8531999.csv'\n",
    "test5 = 'data/tether/transfer/tests/test5_8510000_8519999.csv'\n",
    "test6 = 'data/tether/transfer/tests/test6_9123456_9133456.csv'\n",
    "test7 = 'data/tether/transfer/tests/test7_9133000_9153000.csv'\n",
    "test8 = 'data/tether/transfer/tests/test8_7800000_7820000.csv'\n",
    "test9 = 'data/tether/transfer/tests/test9_8100000_8110000.csv'\n",
    "test10 = 'data/tether/transfer/tests/test10_4638568-7500000.csv'\n",
    "test11 = 'data/tether/transfer/tests/test11_8293025_8293284.csv'\n",
    "test12 = 'data/tether/transfer/tests/test12_8293000_8294000.csv'\n",
    "test13 = 'data/tether/transfer/tests/test13_10176691-10177760.csv'\n",
    "test14 = 'data/tether/transfer/tests/test14_10177762-10180122.csv'\n",
    "test15 = 'data/tether/transfer/tests/test15_10198571-10200684.csv'\n",
    "test16 = 'data/tether/transfer/tests/test16_10200685-10203687.csv'\n",
    "test17 = 'data/tether/transfer/tests/test17_10360000-10370272.csv'"
   ]
  },
  {
   "cell_type": "markdown",
   "metadata": {},
   "source": [
    "<center></center>"
   ]
  },
  {
   "cell_type": "markdown",
   "metadata": {},
   "source": [
    "<center></center>"
   ]
  },
  {
   "cell_type": "markdown",
   "metadata": {},
   "source": [
    "## Check for NaNs"
   ]
  },
  {
   "cell_type": "code",
   "execution_count": null,
   "metadata": {},
   "outputs": [],
   "source": [
    "for chunk in [tether_transfer, usdc_transfer, paxos_transfer, \n",
    "              dai_transfer, trueusd_transfer, husd_transfer, binanceusd_transfer]:\n",
    "    df = pd.read_csv(chunk)\n",
    "    print('NaNs in {}: {}'.format(chunk, df.isnull().values.any()))"
   ]
  },
  {
   "cell_type": "markdown",
   "metadata": {},
   "source": [
    "<center></center>"
   ]
  },
  {
   "cell_type": "markdown",
   "metadata": {},
   "source": [
    "<center></center>"
   ]
  },
  {
   "cell_type": "markdown",
   "metadata": {},
   "source": [
    "## Verify duplicated txs hashes manually"
   ]
  },
  {
   "cell_type": "code",
   "execution_count": null,
   "metadata": {},
   "outputs": [],
   "source": [
    "for chunk in [tether_transfer, usdc_transfer, paxos_transfer, \n",
    "              dai_transfer, trueusd_transfer, husd_transfer, binanceusd_transfer]:\n",
    "    df = pd.read_csv(chunk)\n",
    "    dups = set(i for i in df['txhash'][df.duplicated(keep=False)])\n",
    "    print(dups)"
   ]
  },
  {
   "cell_type": "markdown",
   "metadata": {},
   "source": [
    "<center></center>"
   ]
  },
  {
   "cell_type": "markdown",
   "metadata": {},
   "source": [
    "<center></center>"
   ]
  },
  {
   "cell_type": "markdown",
   "metadata": {},
   "source": [
    "## Automated Testing"
   ]
  },
  {
   "cell_type": "code",
   "execution_count": null,
   "metadata": {},
   "outputs": [],
   "source": [
    "def test_data(df_prod, test):\n",
    "    df_test = pd.read_csv(test, index_col=False)\n",
    "    fr, to = df_test['blnr'].iloc[0], df_test['blnr'].iloc[-1]\n",
    "    df_prod = df_prod.query('blocknumber >= {} & blocknumber <= {}'.format(fr, to))\n",
    "    try:\n",
    "        print('Test successful: {}'.format(all(df_prod['txhash'].values == df_test['txhash'].values)))\n",
    "    except:\n",
    "        print('Test failed')\n",
    "    return\n",
    "        \n",
    "\n",
    "df_prod = pd.read_csv(tether_transfer)\n",
    "test_data(df_prod, test0)\n",
    "#..."
   ]
  }
 ],
 "metadata": {
  "kernelspec": {
   "display_name": "master_thesis",
   "language": "python",
   "name": "master_thesis"
  },
  "language_info": {
   "codemirror_mode": {
    "name": "ipython",
    "version": 3
   },
   "file_extension": ".py",
   "mimetype": "text/x-python",
   "name": "python",
   "nbconvert_exporter": "python",
   "pygments_lexer": "ipython3",
   "version": "3.6.9"
  }
 },
 "nbformat": 4,
 "nbformat_minor": 4
}
