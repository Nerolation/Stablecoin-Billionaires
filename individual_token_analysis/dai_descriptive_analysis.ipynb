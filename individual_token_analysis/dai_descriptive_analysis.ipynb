{
 "cells": [
  {
   "cell_type": "markdown",
   "metadata": {},
   "source": [
    "# Stablecoin Billionaires<br> Descriptive Analysis of the Ethereum-based Stablecoin ecosystem "
   ]
  },
  {
   "cell_type": "markdown",
   "metadata": {},
   "source": [
    "## by Anton Wahrstätter, 01.07.2020"
   ]
  },
  {
   "cell_type": "markdown",
   "metadata": {},
   "source": [
    "# Part V - DAI"
   ]
  },
  {
   "cell_type": "code",
   "execution_count": 1,
   "metadata": {},
   "outputs": [],
   "source": [
    "import numpy as np\n",
    "import pandas as pd\n",
    "import matplotlib.pyplot as plt\n",
    "from datetime import datetime\n",
    "from collections import Counter\n",
    "from matplotlib import rc\n",
    "import re\n",
    "import random\n",
    "\n",
    "rc('font', **{'family':'serif','serif': ['Computer Modern']})\n",
    "rc('text', usetex=True)\n",
    "\n",
    "#decimals\n",
    "dec = 18"
   ]
  },
  {
   "cell_type": "code",
   "execution_count": 2,
   "metadata": {},
   "outputs": [],
   "source": [
    "#plots\n",
    "tx_over_date = '../plots/dai/dai_txs_over_date.csv'\n",
    "unique_senders_over_date = '../plots/dai/dai_unique_senders_over_date.csv'\n",
    "unique_recipients_over_date = '../plots/dai/dai_unique_recipients_over_date.csv'\n",
    "tx_count_to = '../plots/dai/dai_tx_count_to.csv'\n",
    "tx_count_from = '../plots/dai/dai_tx_count_from.csv'\n",
    "tx_over_date = '../plots/dai/dai_txs_over_date.csv'\n",
    "balances = '../plots/dai/dai_balances.csv'\n",
    "avg_gas_over_date = '../plots/dai/dai_avg_gas_over_date.csv'\n",
    "avg_value_over_date = '../plots/dai/dai_avg_value_over_date.csv'\n",
    "positive_cumulated_balances = '../plots/dai/dai_positive_cumulated_balances.csv'\n",
    "circulating_supply = '../plots/dai/dai_circulating_supply.csv'\n",
    "unique_recipients_per_day_over_date = '../plots/dai/dai_unique_recipients_per_day_over_date.csv'\n",
    "unique_senders_per_day_over_date = '../plots/dai/dai_unique_senders_per_day_over_date.csv'\n",
    "exchanges = '../plots/exchanges.csv'\n",
    "\n",
    "#data \n",
    "transfer = '../data/dai/transfer/0_dai_transfer_8928158-10370273.csv'\n",
    "mint = '../data/dai/mint/dai_mint.csv'\n",
    "burn = '../data/dai/burn/dai_burn.csv'"
   ]
  },
  {
   "cell_type": "markdown",
   "metadata": {},
   "source": [
    "<center></center>"
   ]
  },
  {
   "cell_type": "markdown",
   "metadata": {},
   "source": [
    "# Data"
   ]
  },
  {
   "cell_type": "code",
   "execution_count": 3,
   "metadata": {},
   "outputs": [],
   "source": [
    "df = pd.read_csv(transfer)\n",
    "pd.set_option('display.float_format', lambda x: '%.3f' % x)"
   ]
  },
  {
   "cell_type": "markdown",
   "metadata": {},
   "source": [
    "## Basics"
   ]
  },
  {
   "cell_type": "code",
   "execution_count": 4,
   "metadata": {},
   "outputs": [],
   "source": [
    "df['txvalue'] = df['txvalue'].astype(float)/10**18"
   ]
  },
  {
   "cell_type": "code",
   "execution_count": 5,
   "metadata": {},
   "outputs": [
    {
     "data": {
      "text/html": [
       "<div>\n",
       "<style scoped>\n",
       "    .dataframe tbody tr th:only-of-type {\n",
       "        vertical-align: middle;\n",
       "    }\n",
       "\n",
       "    .dataframe tbody tr th {\n",
       "        vertical-align: top;\n",
       "    }\n",
       "\n",
       "    .dataframe thead th {\n",
       "        text-align: right;\n",
       "    }\n",
       "</style>\n",
       "<table border=\"1\" class=\"dataframe\">\n",
       "  <thead>\n",
       "    <tr style=\"text-align: right;\">\n",
       "      <th></th>\n",
       "      <th>timestamp</th>\n",
       "      <th>blocknumber</th>\n",
       "      <th>txindex</th>\n",
       "      <th>txvalue</th>\n",
       "      <th>gas_price</th>\n",
       "      <th>gas_used</th>\n",
       "    </tr>\n",
       "  </thead>\n",
       "  <tbody>\n",
       "    <tr>\n",
       "      <th>count</th>\n",
       "      <td>2647517.000</td>\n",
       "      <td>2647517.000</td>\n",
       "      <td>2647517.000</td>\n",
       "      <td>2647517.000</td>\n",
       "      <td>2647517.000</td>\n",
       "      <td>2647517.000</td>\n",
       "    </tr>\n",
       "    <tr>\n",
       "      <th>mean</th>\n",
       "      <td>1584358681.685</td>\n",
       "      <td>9684350.148</td>\n",
       "      <td>70.544</td>\n",
       "      <td>6699.322</td>\n",
       "      <td>17711503439.366</td>\n",
       "      <td>472827.895</td>\n",
       "    </tr>\n",
       "    <tr>\n",
       "      <th>std</th>\n",
       "      <td>4941685.255</td>\n",
       "      <td>365613.697</td>\n",
       "      <td>48.573</td>\n",
       "      <td>52366.654</td>\n",
       "      <td>93473470594.835</td>\n",
       "      <td>672465.581</td>\n",
       "    </tr>\n",
       "    <tr>\n",
       "      <th>min</th>\n",
       "      <td>1573680153.000</td>\n",
       "      <td>8928674.000</td>\n",
       "      <td>0.000</td>\n",
       "      <td>0.000</td>\n",
       "      <td>0.000</td>\n",
       "      <td>19755.000</td>\n",
       "    </tr>\n",
       "    <tr>\n",
       "      <th>25%</th>\n",
       "      <td>1580973744.000</td>\n",
       "      <td>9427728.000</td>\n",
       "      <td>32.000</td>\n",
       "      <td>18.881</td>\n",
       "      <td>5000000000.000</td>\n",
       "      <td>82222.000</td>\n",
       "    </tr>\n",
       "    <tr>\n",
       "      <th>50%</th>\n",
       "      <td>1584032736.000</td>\n",
       "      <td>9657955.000</td>\n",
       "      <td>62.000</td>\n",
       "      <td>265.893</td>\n",
       "      <td>8800000000.000</td>\n",
       "      <td>238754.000</td>\n",
       "    </tr>\n",
       "    <tr>\n",
       "      <th>75%</th>\n",
       "      <td>1588177180.000</td>\n",
       "      <td>9968490.000</td>\n",
       "      <td>101.000</td>\n",
       "      <td>3085.972</td>\n",
       "      <td>20000000000.000</td>\n",
       "      <td>548253.000</td>\n",
       "    </tr>\n",
       "    <tr>\n",
       "      <th>max</th>\n",
       "      <td>1593561562.000</td>\n",
       "      <td>10370272.000</td>\n",
       "      <td>509.000</td>\n",
       "      <td>12000717.498</td>\n",
       "      <td>47925761363714.000</td>\n",
       "      <td>10022870.000</td>\n",
       "    </tr>\n",
       "  </tbody>\n",
       "</table>\n",
       "</div>"
      ],
      "text/plain": [
       "           timestamp  blocknumber     txindex      txvalue          gas_price  \\\n",
       "count    2647517.000  2647517.000 2647517.000  2647517.000        2647517.000   \n",
       "mean  1584358681.685  9684350.148      70.544     6699.322    17711503439.366   \n",
       "std      4941685.255   365613.697      48.573    52366.654    93473470594.835   \n",
       "min   1573680153.000  8928674.000       0.000        0.000              0.000   \n",
       "25%   1580973744.000  9427728.000      32.000       18.881     5000000000.000   \n",
       "50%   1584032736.000  9657955.000      62.000      265.893     8800000000.000   \n",
       "75%   1588177180.000  9968490.000     101.000     3085.972    20000000000.000   \n",
       "max   1593561562.000 10370272.000     509.000 12000717.498 47925761363714.000   \n",
       "\n",
       "          gas_used  \n",
       "count  2647517.000  \n",
       "mean    472827.895  \n",
       "std     672465.581  \n",
       "min      19755.000  \n",
       "25%      82222.000  \n",
       "50%     238754.000  \n",
       "75%     548253.000  \n",
       "max   10022870.000  "
      ]
     },
     "execution_count": 5,
     "metadata": {},
     "output_type": "execute_result"
    }
   ],
   "source": [
    "df.describe()"
   ]
  },
  {
   "cell_type": "markdown",
   "metadata": {},
   "source": [
    "<center></center>"
   ]
  },
  {
   "cell_type": "markdown",
   "metadata": {},
   "source": [
    "## Dataset"
   ]
  },
  {
   "cell_type": "code",
   "execution_count": 6,
   "metadata": {},
   "outputs": [
    {
     "name": "stdout",
     "output_type": "stream",
     "text": [
      "Start:\n",
      "Block:            8928674            \n",
      "Timestamp:      1573680153     \n",
      "UTC Time:    2019-11-13 22:22:33   \n",
      "\n",
      "End:\n",
      "Block:            10370272           \n",
      "Timestamp:      1593561562     \n",
      "UTC Time:    2020-07-01 01:59:22   \n",
      "\n"
     ]
    }
   ],
   "source": [
    "print('Start:')\n",
    "print('Block: {:^30}\\nTimestamp: {:^20}\\nUTC Time: {:^25}\\n'.format(df['blocknumber'].iloc[0],\n",
    "                                                        df['timestamp'].iloc[0],\n",
    "                                                        str(datetime.fromtimestamp(df['timestamp'].iloc[0]))\n",
    "                                                       ))\n",
    "print('End:')\n",
    "print('Block: {:^30}\\nTimestamp: {:^20}\\nUTC Time: {:^25}\\n'.format(df['blocknumber'].iloc[-1],\n",
    "                                                        df['timestamp'].iloc[-1],\n",
    "                                                        str(datetime.fromtimestamp(df['timestamp'].iloc[-1]))\n",
    "                                                       ))"
   ]
  },
  {
   "cell_type": "markdown",
   "metadata": {},
   "source": [
    "## Total Nr. of Blocks"
   ]
  },
  {
   "cell_type": "code",
   "execution_count": 7,
   "metadata": {
    "scrolled": true
   },
   "outputs": [
    {
     "name": "stdout",
     "output_type": "stream",
     "text": [
      "Total Nr. of Blocks: 1441598\n"
     ]
    }
   ],
   "source": [
    "print('Total Nr. of Blocks: {}'.format(df['blocknumber'].iloc[-1]-df['blocknumber'].iloc[0]))"
   ]
  },
  {
   "cell_type": "markdown",
   "metadata": {},
   "source": [
    "<center></center>"
   ]
  },
  {
   "cell_type": "markdown",
   "metadata": {},
   "source": [
    "## Total Nr. of Transfer Events"
   ]
  },
  {
   "cell_type": "code",
   "execution_count": 8,
   "metadata": {},
   "outputs": [
    {
     "name": "stdout",
     "output_type": "stream",
     "text": [
      "Total Nr. of Events: 2,647,517\n"
     ]
    }
   ],
   "source": [
    "print('Total Nr. of Events: {:,.0f}'.format(df.describe().loc['count','timestamp']))"
   ]
  },
  {
   "cell_type": "markdown",
   "metadata": {},
   "source": [
    "<center></center>"
   ]
  },
  {
   "cell_type": "markdown",
   "metadata": {},
   "source": [
    "## Total Nr. of Addresses"
   ]
  },
  {
   "cell_type": "code",
   "execution_count": 9,
   "metadata": {},
   "outputs": [
    {
     "name": "stdout",
     "output_type": "stream",
     "text": [
      "Total Nr. of Addresses: 249665\n"
     ]
    }
   ],
   "source": [
    "print('Total Nr. of Addresses: {}'.format(len(df['txto'].unique())))"
   ]
  },
  {
   "cell_type": "markdown",
   "metadata": {},
   "source": [
    "<center></center>"
   ]
  },
  {
   "cell_type": "markdown",
   "metadata": {},
   "source": [
    "## Addresses with funds"
   ]
  },
  {
   "cell_type": "code",
   "execution_count": 10,
   "metadata": {},
   "outputs": [
    {
     "name": "stdout",
     "output_type": "stream",
     "text": [
      "Total Nr. of Addresses with funds: 100149\n"
     ]
    }
   ],
   "source": [
    "bal = pd.read_csv(balances)\n",
    "print('Total Nr. of Addresses with funds: {}'.format(len(bal[bal['txvalue']>0])))"
   ]
  },
  {
   "cell_type": "markdown",
   "metadata": {},
   "source": [
    "<center></center>"
   ]
  },
  {
   "cell_type": "markdown",
   "metadata": {},
   "source": [
    "## Avg. Transaction Value"
   ]
  },
  {
   "cell_type": "code",
   "execution_count": 11,
   "metadata": {},
   "outputs": [
    {
     "name": "stdout",
     "output_type": "stream",
     "text": [
      "Avg. Transaction Value: 0 DAI\n"
     ]
    }
   ],
   "source": [
    "print('Avg. Transaction Value: {:,.0f} DAI'.format(np.mean(df['txvalue']/10**dec)))"
   ]
  },
  {
   "cell_type": "markdown",
   "metadata": {},
   "source": [
    "<center></center>"
   ]
  },
  {
   "cell_type": "markdown",
   "metadata": {},
   "source": [
    "## Total Gas Costs"
   ]
  },
  {
   "cell_type": "code",
   "execution_count": 12,
   "metadata": {},
   "outputs": [
    {
     "name": "stdout",
     "output_type": "stream",
     "text": [
      "Total Gas spent for Transfers: 19,600.790 ether\n"
     ]
    }
   ],
   "source": [
    "df['costs'] = (df['gas_price']/10**dec) * df['gas_used']\n",
    "print('Total Gas spent for Transfers: {:,.3f} ether'.format(sum(df['costs'])))"
   ]
  },
  {
   "cell_type": "markdown",
   "metadata": {},
   "source": [
    "<center></center>"
   ]
  },
  {
   "cell_type": "markdown",
   "metadata": {},
   "source": [
    "## Total DAI Supply"
   ]
  },
  {
   "cell_type": "markdown",
   "metadata": {},
   "source": [
    "<center></center>"
   ]
  },
  {
   "cell_type": "code",
   "execution_count": 13,
   "metadata": {},
   "outputs": [
    {
     "data": {
      "text/plain": [
       "1.0657674329683546e-10"
      ]
     },
     "execution_count": 13,
     "metadata": {},
     "output_type": "execute_result"
    }
   ],
   "source": [
    "#other method\n",
    "sum(df[df['txfrom'] == '0x0000000000000000000000000000000000000000'][\"txvalue\"].astype(float))/(10**dec)- sum(df[df['txto'] == '0x0000000000000000000000000000000000000000'][\"txvalue\"].astype(float))/(10**dec)"
   ]
  },
  {
   "cell_type": "code",
   "execution_count": 14,
   "metadata": {},
   "outputs": [
    {
     "data": {
      "text/plain": [
       "106576743.29690687"
      ]
     },
     "execution_count": 14,
     "metadata": {},
     "output_type": "execute_result"
    }
   ],
   "source": [
    "(sum(pd.read_csv(mint)['txvalue'].astype(float))-sum(pd.read_csv(burn)['txvalue'].astype(float)))/(10**dec)"
   ]
  },
  {
   "cell_type": "markdown",
   "metadata": {},
   "source": [
    "<center></center>"
   ]
  },
  {
   "cell_type": "markdown",
   "metadata": {},
   "source": [
    "<center></center>"
   ]
  },
  {
   "cell_type": "markdown",
   "metadata": {},
   "source": [
    "<center></center>"
   ]
  },
  {
   "cell_type": "markdown",
   "metadata": {},
   "source": [
    "# I. Event analysis"
   ]
  },
  {
   "cell_type": "markdown",
   "metadata": {},
   "source": [
    "## I.I. Mint Event"
   ]
  },
  {
   "cell_type": "markdown",
   "metadata": {},
   "source": [
    "## Plot new issued tokens over date"
   ]
  },
  {
   "cell_type": "code",
   "execution_count": null,
   "metadata": {},
   "outputs": [],
   "source": [
    "print('\\n\\n')\n",
    "fig = plt.figure(figsize=(40,25), dpi=250)\n",
    "ax = fig.subplots()\n",
    "plt.grid()\n",
    "plt.title(r'I s s u e d \\ \\ D A I'+'\\n', size= 120)\n",
    "ax.yaxis.get_offset_text().set_fontsize(50)\n",
    "plt.xlabel('\\n'+r'D a t e ', size=120)\n",
    "plt.ylabel(r'D A I'+'\\n', size=120)\n",
    "plt.yticks(fontsize=60)\n",
    "plt.xticks(labels=[\"\\nNov '19\",\"Jan '20\",\"\\nMar '20\",\"May '20\", \"\\nJul '20\"], \n",
    "           ticks=[0, 49, 109, 170, 231], fontsize=60)\n",
    "\n",
    "def plot_issue_over_date():\n",
    "    _issue = pd.read_csv(mint)\n",
    "    _issue[\"txvalue\"] = _issue[\"txvalue\"].astype(float)\n",
    "    iss = _issue.loc[:, ['timestamp', 'txvalue']]\n",
    "    iss['utc'] = iss['timestamp'].apply(lambda x: str(datetime.utcfromtimestamp(x))[0:10])\n",
    "    iss = iss.groupby('utc', as_index = False)['txvalue'].sum()\n",
    "    a = iss['utc'].iloc[0]\n",
    "    b = iss['utc'].iloc[-1]\n",
    "    idx = pd.date_range(a,b)\n",
    "    iss = iss.set_index('utc')\n",
    "    iss.index = pd.DatetimeIndex(iss.index)\n",
    "    iss = iss.reindex(idx, fill_value=0)\n",
    "    counter = 0\n",
    "    for i in range(0, len(iss)):\n",
    "        plt.plot([counter,counter], [0, iss['txvalue'].iloc[counter]/(10**dec)], color= 'black', linewidth=3)\n",
    "        counter += 1\n",
    "    return \n",
    "\n",
    "plt.tight_layout(pad=5)\n",
    "dfis = plot_issue_over_date()\n",
    "plt.savefig('../pics/dai/dai_issued_dai_over_date.pdf')"
   ]
  },
  {
   "cell_type": "markdown",
   "metadata": {},
   "source": [
    "## Further info"
   ]
  },
  {
   "cell_type": "code",
   "execution_count": 15,
   "metadata": {},
   "outputs": [
    {
     "name": "stdout",
     "output_type": "stream",
     "text": [
      "Issue Events: 150131\n",
      "Issued DAI: 1,397,176,191\n",
      "\n",
      "Largest issue: 10,000,612 DAI\n",
      " . . . to address: 0x55fe002aeff02f77364de339a1292923a15844b8\n",
      "\n"
     ]
    }
   ],
   "source": [
    "df = pd.read_csv(mint)\n",
    "df['txvalue'] = df['txvalue'].astype(float)\n",
    "#print(df[df['txvalue'] == max(df['txvalue'])])\n",
    "print('Issue Events: {}\\nIssued DAI: {:,.0f}\\n'.format(len(df), sum(df['txvalue'])/10**dec, ':,0f'))\n",
    "print('Largest issue: {:,.0f} DAI\\n . . . to address: {}\\n'.format(df.loc[137647, 'txvalue']//10**dec,'0x55fe002aeff02f77364de339a1292923a15844b8'))"
   ]
  },
  {
   "cell_type": "markdown",
   "metadata": {},
   "source": [
    "<center></center>"
   ]
  },
  {
   "cell_type": "markdown",
   "metadata": {},
   "source": [
    "<center></center>"
   ]
  },
  {
   "cell_type": "markdown",
   "metadata": {},
   "source": [
    "## I.II. Burn Event"
   ]
  },
  {
   "cell_type": "markdown",
   "metadata": {},
   "source": [
    "## Plot burned tokens over date"
   ]
  },
  {
   "cell_type": "code",
   "execution_count": null,
   "metadata": {},
   "outputs": [],
   "source": [
    "print('\\n\\n')\n",
    "fig = plt.figure(figsize=(40,25))\n",
    "ax = fig.subplots()\n",
    "plt.grid()\n",
    "plt.title(r'B u r n e d \\ \\ D A I'+'\\n', size= 120)\n",
    "ax.yaxis.get_offset_text().set_fontsize(50)\n",
    "plt.xlabel('\\n'+r'D a t e', size=120)\n",
    "plt.ylabel(r'D A I'+'\\n', size=120)\n",
    "plt.yticks(fontsize=60)\n",
    "plt.xticks(labels=[\"\\nNov '19\",\"Jan '20\",\"\\nMar '20\",\"May '20\", \"\\nJul '20\"], \n",
    "           ticks=[0, 44, 104, 165, 226], fontsize=60)\n",
    "\n",
    "def plot_burn_over_date():\n",
    "    _dbf = pd.read_csv(burn)\n",
    "    _dbf[\"txvalue\"] = _dbf[\"txvalue\"].astype(float)\n",
    "    dbf = _dbf.loc[:, ['timestamp', 'txvalue']]\n",
    "    dbf['utc'] = dbf['timestamp'].apply(lambda x: str(datetime.utcfromtimestamp(x))[0:10])\n",
    "    dbf = dbf.groupby('utc', as_index = False)['txvalue'].sum()\n",
    "    a = dbf['utc'].iloc[0]\n",
    "    b = dbf['utc'].iloc[-1]\n",
    "    idx = pd.date_range(a,b)\n",
    "    dbf = dbf.set_index('utc')\n",
    "    dbf.index = pd.DatetimeIndex(dbf.index)\n",
    "    dbf = dbf.reindex(idx, fill_value=0)\n",
    "    counter = 0\n",
    "    for i in range(0, len(dbf)):\n",
    "        plt.plot([counter,counter], [0, dbf['txvalue'].iloc[counter]/(10**dec)], color= 'black', linewidth=3)\n",
    "        counter += 1\n",
    "    \n",
    "    return\n",
    "\n",
    "plt.tight_layout(pad=5)\n",
    "plot_burn_over_date()\n",
    "plt.savefig('../pics/dai/dai_burned_dai_over_date.pdf')"
   ]
  },
  {
   "cell_type": "markdown",
   "metadata": {},
   "source": [
    "## Further info"
   ]
  },
  {
   "cell_type": "code",
   "execution_count": 16,
   "metadata": {},
   "outputs": [
    {
     "name": "stdout",
     "output_type": "stream",
     "text": [
      "Burn Events: 167956\n",
      "Burned DAI: 1,290,599,447\n",
      ". . . from 15471 addesses\n",
      "\n",
      "Largest burn: 12,000,717 DAI\n",
      " . . . from address: 0x0000000000000000000000000000000000000000\n",
      "\n"
     ]
    }
   ],
   "source": [
    "df = pd.read_csv(burn)\n",
    "df['txvalue'] = df['txvalue'].astype(float)\n",
    "idx = df[df['txvalue'] == max(df['txvalue'])].index[0]\n",
    "\n",
    "\n",
    "print('Burn Events: {}\\nBurned DAI: {:,.0f}'.format(len(df), sum(df['txvalue'])/10**dec, ':,0f'))\n",
    "print('. . . from {} addesses\\n'.format(len(df['address'].unique())))\n",
    "print('Largest burn: {:,.0f} DAI\\n . . . from address: {}\\n'.format(df['txvalue'].iloc[idx]/(10**dec), \n",
    "                                                                     df.groupby(\"address\")[\"txvalue\"].sum().index[0]))"
   ]
  },
  {
   "cell_type": "markdown",
   "metadata": {},
   "source": [
    "<center></center>"
   ]
  },
  {
   "cell_type": "markdown",
   "metadata": {},
   "source": [
    "<center></center>"
   ]
  },
  {
   "cell_type": "markdown",
   "metadata": {},
   "source": [
    "## Plot circulating supply"
   ]
  },
  {
   "cell_type": "code",
   "execution_count": null,
   "metadata": {},
   "outputs": [],
   "source": [
    "print('\\n\\n')\n",
    "fig = plt.figure(figsize=(20,12), dpi=500)\n",
    "ax = fig.subplots()\n",
    "plt.grid(True)\n",
    "plt.title(r'C i r c u l a t i n g \\ \\ D A I \\ \\ S u p p l y'+'\\n', size=60)\n",
    "plt.xlabel('\\n'+r'D a t e', size= 60)\n",
    "plt.ylabel(r'D A I'+'\\n', size= 60)\n",
    "ax.yaxis.get_offset_text().set_fontsize(25)\n",
    "\n",
    "plt.yticks(fontsize=30)\n",
    "plt.xticks(labels=[\"\\nNov '19\",\"Jan '20\",\"\\nMar '20\",\"May '20\", \"\\nJul '20\"], \n",
    "           ticks=[0, 49, 109, 170, 231], fontsize=30)\n",
    "circ = pd.read_csv(circulating_supply, index_col='Unnamed: 0')\n",
    "\n",
    "plt.plot(range(0, 231), circ['txvalue'].cumsum()/10**dec, color='black', linewidth = 4, label = 'DAI supply')\n",
    "plt.fill_between(range(0, 231),0 , circ['txvalue'].cumsum()/10**dec, alpha=0.2, facecolor='#2D728F')\n",
    "lgnd = plt.legend(loc='upper left', fontsize=40)\n",
    "plt.tight_layout(pad=5)\n",
    "plt.savefig('../pics/dai/dai_cirulating_supply.pdf')"
   ]
  },
  {
   "cell_type": "markdown",
   "metadata": {},
   "source": [
    "<center></center>"
   ]
  },
  {
   "cell_type": "markdown",
   "metadata": {},
   "source": [
    "<center></center>"
   ]
  },
  {
   "cell_type": "markdown",
   "metadata": {},
   "source": [
    "<center></center>"
   ]
  },
  {
   "cell_type": "markdown",
   "metadata": {},
   "source": [
    "## I.III. Transfer Event"
   ]
  },
  {
   "cell_type": "markdown",
   "metadata": {},
   "source": [
    "## Plot transfers over date"
   ]
  },
  {
   "cell_type": "code",
   "execution_count": null,
   "metadata": {},
   "outputs": [],
   "source": [
    "print('\\n\\n')\n",
    "fig = plt.figure(figsize=(20,12), dpi=500)\n",
    "ax = fig.subplots()\n",
    "plt.grid(True)\n",
    "plt.title(r'D A I \\ \\ T r a n s f e r s'+'\\n', size=60)\n",
    "plt.xlabel('\\n'+r'D a t e', size= 50)\n",
    "plt.ylabel(r'T r a n s f e r s'+'\\n', size= 50)\n",
    "plt.yticks(np.arange(0, 50001, 10000), \n",
    "           np.vectorize(lambda x: f'{x:,.0f}')(np.arange(0, 50001, 10000)), \n",
    "           fontsize=30)\n",
    "plt.xticks(labels=[\"\\nNov '19\",\"Jan '20\",\"\\nMar '20\",\"May '20\", \"\\nJul '20\"], \n",
    "           ticks=[0, 49, 109, 170, 231], fontsize=30)\n",
    "\n",
    "def plot_txs_over_date(df, lwd, label, col = '#2D728F', fillbetween=False):\n",
    "    plt.plot(np.arange(0 , len(df['txs'])), df['txs'], color = col, linewidth = lwd, label = label)\n",
    "    if fillbetween:\n",
    "        plt.fill_between(np.arange(0 , len(df['txs'])),0 , df['txs'], alpha=0.2, facecolor='#2D728F')  \n",
    "    \n",
    "plot_txs_over_date(df = pd.read_csv(tx_over_date, index_col=0), \n",
    "                   col = 'black', lwd = 2, label = 'Transfers', fillbetween=True)\n",
    "\n",
    "plot_txs_over_date(pd.read_csv(unique_recipients_per_day_over_date, index_col='Unnamed: 0'), \n",
    "                   lwd = 2, label = 'Unique Recipients per day')\n",
    "\n",
    "plot_txs_over_date(pd.read_csv(unique_senders_per_day_over_date, index_col='Unnamed: 0'), \n",
    "                   col='#9DB469', lwd = 2, label =  'Unique Senders per day')\n",
    "\n",
    "lgnd = ax.legend(loc='upper left', fontsize=35)\n",
    "lgnd.legendHandles[0].set_linewidth(5.0)\n",
    "lgnd.legendHandles[1].set_linewidth(5.0)\n",
    "lgnd.legendHandles[2].set_linewidth(5.0)\n",
    "\n",
    "plt.tight_layout(pad=5)\n",
    "plt.savefig('../pics/dai/dai_tx_over_date.pdf')\n",
    "plt.show()"
   ]
  },
  {
   "cell_type": "markdown",
   "metadata": {},
   "source": [
    "<center></center>"
   ]
  },
  {
   "cell_type": "markdown",
   "metadata": {},
   "source": [
    "## Most active addresses"
   ]
  },
  {
   "cell_type": "markdown",
   "metadata": {},
   "source": [
    "From:"
   ]
  },
  {
   "cell_type": "code",
   "execution_count": 17,
   "metadata": {},
   "outputs": [
    {
     "data": {
      "text/html": [
       "<div>\n",
       "<style scoped>\n",
       "    .dataframe tbody tr th:only-of-type {\n",
       "        vertical-align: middle;\n",
       "    }\n",
       "\n",
       "    .dataframe tbody tr th {\n",
       "        vertical-align: top;\n",
       "    }\n",
       "\n",
       "    .dataframe thead th {\n",
       "        text-align: right;\n",
       "    }\n",
       "</style>\n",
       "<table border=\"1\" class=\"dataframe\">\n",
       "  <thead>\n",
       "    <tr style=\"text-align: right;\">\n",
       "      <th></th>\n",
       "      <th>txs</th>\n",
       "      <th>tag</th>\n",
       "    </tr>\n",
       "  </thead>\n",
       "  <tbody>\n",
       "    <tr>\n",
       "      <th>0x794e6e91555438afc3ccf1c5076a74f42133d08d</th>\n",
       "      <td>168172</td>\n",
       "      <td>OasisDEX</td>\n",
       "    </tr>\n",
       "    <tr>\n",
       "      <th>0x0000000000000000000000000000000000000000</th>\n",
       "      <td>150131</td>\n",
       "      <td>-</td>\n",
       "    </tr>\n",
       "    <tr>\n",
       "      <th>0x2a1530c4c41db0b0b2bb646cb5eb1a67b7158667</th>\n",
       "      <td>106571</td>\n",
       "      <td>Uniswap: DAI</td>\n",
       "    </tr>\n",
       "    <tr>\n",
       "      <th>0x65bf64ff5f51272f729bdcd7acfb00677ced86cd</th>\n",
       "      <td>104557</td>\n",
       "      <td>Kyber: Contract</td>\n",
       "    </tr>\n",
       "    <tr>\n",
       "      <th>0x39755357759ce0d7f32dc8dc45414cca409ae24e</th>\n",
       "      <td>83087</td>\n",
       "      <td>Eth2Dai: Old Contract</td>\n",
       "    </tr>\n",
       "    <tr>\n",
       "      <th>0x5d3a536e4d6dbd6114cc1ead35777bab948e3643</th>\n",
       "      <td>72819</td>\n",
       "      <td>Compound Dai</td>\n",
       "    </tr>\n",
       "    <tr>\n",
       "      <th>0xa57bd00134b2850b2a1c55860c9e9ea100fdd6cf</th>\n",
       "      <td>59125</td>\n",
       "      <td>-</td>\n",
       "    </tr>\n",
       "    <tr>\n",
       "      <th>0xd3e52099a6a48f132cb23b1364b7dee212d862f6</th>\n",
       "      <td>44973</td>\n",
       "      <td>-</td>\n",
       "    </tr>\n",
       "    <tr>\n",
       "      <th>0x11111254369792b2ca5d084ab5eea397ca8fa48b</th>\n",
       "      <td>41365</td>\n",
       "      <td>1inch.exchange</td>\n",
       "    </tr>\n",
       "    <tr>\n",
       "      <th>0xd152f549545093347a162dce210e7293f1452150</th>\n",
       "      <td>41269</td>\n",
       "      <td>Disperse.app</td>\n",
       "    </tr>\n",
       "    <tr>\n",
       "      <th>0x31e085afd48a1d6e51cc193153d625e8f0514c7f</th>\n",
       "      <td>36148</td>\n",
       "      <td>Kyber: Reserve Uniswap</td>\n",
       "    </tr>\n",
       "  </tbody>\n",
       "</table>\n",
       "</div>"
      ],
      "text/plain": [
       "                                               txs                     tag\n",
       "0x794e6e91555438afc3ccf1c5076a74f42133d08d  168172                OasisDEX\n",
       "0x0000000000000000000000000000000000000000  150131                       -\n",
       "0x2a1530c4c41db0b0b2bb646cb5eb1a67b7158667  106571            Uniswap: DAI\n",
       "0x65bf64ff5f51272f729bdcd7acfb00677ced86cd  104557         Kyber: Contract\n",
       "0x39755357759ce0d7f32dc8dc45414cca409ae24e   83087   Eth2Dai: Old Contract\n",
       "0x5d3a536e4d6dbd6114cc1ead35777bab948e3643   72819           Compound Dai \n",
       "0xa57bd00134b2850b2a1c55860c9e9ea100fdd6cf   59125                       -\n",
       "0xd3e52099a6a48f132cb23b1364b7dee212d862f6   44973                       -\n",
       "0x11111254369792b2ca5d084ab5eea397ca8fa48b   41365          1inch.exchange\n",
       "0xd152f549545093347a162dce210e7293f1452150   41269            Disperse.app\n",
       "0x31e085afd48a1d6e51cc193153d625e8f0514c7f   36148  Kyber: Reserve Uniswap"
      ]
     },
     "execution_count": 17,
     "metadata": {},
     "output_type": "execute_result"
    }
   ],
   "source": [
    "fr = pd.read_csv(tx_count_from, index_col='Unnamed: 0').sort_values('txs', ascending = False)\n",
    "to = pd.read_csv(tx_count_to, index_col='Unnamed: 0').sort_values('txs', ascending = False)\n",
    "fr = pd.DataFrame(fr.loc[:fr.index[10],'txs'])\n",
    "fr['tag'] = ['OasisDEX', '-', 'Uniswap: DAI', 'Kyber: Contract', 'Eth2Dai: Old Contract', 'Compound Dai ', '-', '-', '1inch.exchange', 'Disperse.app', 'Kyber: Reserve Uniswap']\n",
    "fr"
   ]
  },
  {
   "cell_type": "markdown",
   "metadata": {},
   "source": [
    "To:"
   ]
  },
  {
   "cell_type": "code",
   "execution_count": 18,
   "metadata": {},
   "outputs": [
    {
     "data": {
      "text/html": [
       "<div>\n",
       "<style scoped>\n",
       "    .dataframe tbody tr th:only-of-type {\n",
       "        vertical-align: middle;\n",
       "    }\n",
       "\n",
       "    .dataframe tbody tr th {\n",
       "        vertical-align: top;\n",
       "    }\n",
       "\n",
       "    .dataframe thead th {\n",
       "        text-align: right;\n",
       "    }\n",
       "</style>\n",
       "<table border=\"1\" class=\"dataframe\">\n",
       "  <thead>\n",
       "    <tr style=\"text-align: right;\">\n",
       "      <th></th>\n",
       "      <th>txs</th>\n",
       "      <th>tag</th>\n",
       "    </tr>\n",
       "  </thead>\n",
       "  <tbody>\n",
       "    <tr>\n",
       "      <th>0x0000000000000000000000000000000000000000</th>\n",
       "      <td>167956</td>\n",
       "      <td>-</td>\n",
       "    </tr>\n",
       "    <tr>\n",
       "      <th>0x794e6e91555438afc3ccf1c5076a74f42133d08d</th>\n",
       "      <td>137676</td>\n",
       "      <td>OasisDEX</td>\n",
       "    </tr>\n",
       "    <tr>\n",
       "      <th>0x2a1530c4c41db0b0b2bb646cb5eb1a67b7158667</th>\n",
       "      <td>112147</td>\n",
       "      <td>Uniswap: DAI</td>\n",
       "    </tr>\n",
       "    <tr>\n",
       "      <th>0x65bf64ff5f51272f729bdcd7acfb00677ced86cd</th>\n",
       "      <td>101304</td>\n",
       "      <td>Kyber: Contract</td>\n",
       "    </tr>\n",
       "    <tr>\n",
       "      <th>0x5d3a536e4d6dbd6114cc1ead35777bab948e3643</th>\n",
       "      <td>73711</td>\n",
       "      <td>Compound Dai</td>\n",
       "    </tr>\n",
       "    <tr>\n",
       "      <th>0x39755357759ce0d7f32dc8dc45414cca409ae24e</th>\n",
       "      <td>71271</td>\n",
       "      <td>Eth2Dai: Old Contract</td>\n",
       "    </tr>\n",
       "    <tr>\n",
       "      <th>0xa57bd00134b2850b2a1c55860c9e9ea100fdd6cf</th>\n",
       "      <td>62699</td>\n",
       "      <td>-</td>\n",
       "    </tr>\n",
       "    <tr>\n",
       "      <th>0x11111254369792b2ca5d084ab5eea397ca8fa48b</th>\n",
       "      <td>36908</td>\n",
       "      <td>1inch.exchange</td>\n",
       "    </tr>\n",
       "    <tr>\n",
       "      <th>0x31e085afd48a1d6e51cc193153d625e8f0514c7f</th>\n",
       "      <td>36148</td>\n",
       "      <td>Kyber: Reserve Uniswap</td>\n",
       "    </tr>\n",
       "    <tr>\n",
       "      <th>0x1f487a4435f3b730d742aa4b6ef8c9e0a6b9a027</th>\n",
       "      <td>34494</td>\n",
       "      <td>-</td>\n",
       "    </tr>\n",
       "    <tr>\n",
       "      <th>0xeb91a27e79bddbac9569d512f15064c8466883da</th>\n",
       "      <td>25227</td>\n",
       "      <td>-</td>\n",
       "    </tr>\n",
       "  </tbody>\n",
       "</table>\n",
       "</div>"
      ],
      "text/plain": [
       "                                               txs                     tag\n",
       "0x0000000000000000000000000000000000000000  167956                       -\n",
       "0x794e6e91555438afc3ccf1c5076a74f42133d08d  137676                OasisDEX\n",
       "0x2a1530c4c41db0b0b2bb646cb5eb1a67b7158667  112147            Uniswap: DAI\n",
       "0x65bf64ff5f51272f729bdcd7acfb00677ced86cd  101304         Kyber: Contract\n",
       "0x5d3a536e4d6dbd6114cc1ead35777bab948e3643   73711            Compound Dai\n",
       "0x39755357759ce0d7f32dc8dc45414cca409ae24e   71271   Eth2Dai: Old Contract\n",
       "0xa57bd00134b2850b2a1c55860c9e9ea100fdd6cf   62699                       -\n",
       "0x11111254369792b2ca5d084ab5eea397ca8fa48b   36908          1inch.exchange\n",
       "0x31e085afd48a1d6e51cc193153d625e8f0514c7f   36148  Kyber: Reserve Uniswap\n",
       "0x1f487a4435f3b730d742aa4b6ef8c9e0a6b9a027   34494                       -\n",
       "0xeb91a27e79bddbac9569d512f15064c8466883da   25227                       -"
      ]
     },
     "execution_count": 18,
     "metadata": {},
     "output_type": "execute_result"
    }
   ],
   "source": [
    "to = pd.DataFrame(to.loc[:to.index[10],'txs'])\n",
    "to['tag'] = ['-', 'OasisDEX', 'Uniswap: DAI', 'Kyber: Contract', 'Compound Dai', 'Eth2Dai: Old Contract', '-', '1inch.exchange', 'Kyber: Reserve Uniswap', '-', '-']\n",
    "to"
   ]
  },
  {
   "cell_type": "markdown",
   "metadata": {},
   "source": [
    "<center></center>"
   ]
  },
  {
   "cell_type": "markdown",
   "metadata": {},
   "source": [
    "<center></center>"
   ]
  },
  {
   "cell_type": "markdown",
   "metadata": {},
   "source": [
    "## Activity distribution"
   ]
  },
  {
   "cell_type": "code",
   "execution_count": 19,
   "metadata": {},
   "outputs": [
    {
     "name": "stdout",
     "output_type": "stream",
     "text": [
      "250327 addresses in total\n"
     ]
    },
    {
     "data": {
      "text/html": [
       "<div>\n",
       "<style scoped>\n",
       "    .dataframe tbody tr th:only-of-type {\n",
       "        vertical-align: middle;\n",
       "    }\n",
       "\n",
       "    .dataframe tbody tr th {\n",
       "        vertical-align: top;\n",
       "    }\n",
       "\n",
       "    .dataframe thead th {\n",
       "        text-align: right;\n",
       "    }\n",
       "</style>\n",
       "<table border=\"1\" class=\"dataframe\">\n",
       "  <thead>\n",
       "    <tr style=\"text-align: right;\">\n",
       "      <th></th>\n",
       "      <th>Transactions</th>\n",
       "      <th>Addresses</th>\n",
       "    </tr>\n",
       "  </thead>\n",
       "  <tbody>\n",
       "    <tr>\n",
       "      <th>0</th>\n",
       "      <td>&gt; 500.000</td>\n",
       "      <td>0</td>\n",
       "    </tr>\n",
       "    <tr>\n",
       "      <th>1</th>\n",
       "      <td>100.000-500.000</td>\n",
       "      <td>7</td>\n",
       "    </tr>\n",
       "    <tr>\n",
       "      <th>2</th>\n",
       "      <td>50.000-100.000</td>\n",
       "      <td>4</td>\n",
       "    </tr>\n",
       "    <tr>\n",
       "      <th>3</th>\n",
       "      <td>10.000-50.000</td>\n",
       "      <td>41</td>\n",
       "    </tr>\n",
       "    <tr>\n",
       "      <th>4</th>\n",
       "      <td>1.000-10.000</td>\n",
       "      <td>281</td>\n",
       "    </tr>\n",
       "    <tr>\n",
       "      <th>5</th>\n",
       "      <td>100-1.000</td>\n",
       "      <td>2412</td>\n",
       "    </tr>\n",
       "    <tr>\n",
       "      <th>6</th>\n",
       "      <td>10-100</td>\n",
       "      <td>26904</td>\n",
       "    </tr>\n",
       "    <tr>\n",
       "      <th>7</th>\n",
       "      <td>&lt; 10</td>\n",
       "      <td>223935</td>\n",
       "    </tr>\n",
       "    <tr>\n",
       "      <th>8</th>\n",
       "      <td>1</td>\n",
       "      <td>35199</td>\n",
       "    </tr>\n",
       "  </tbody>\n",
       "</table>\n",
       "</div>"
      ],
      "text/plain": [
       "      Transactions  Addresses\n",
       "0        > 500.000          0\n",
       "1  100.000-500.000          7\n",
       "2   50.000-100.000          4\n",
       "3    10.000-50.000         41\n",
       "4     1.000-10.000        281\n",
       "5        100-1.000       2412\n",
       "6           10-100      26904\n",
       "7             < 10     223935\n",
       "8                1      35199"
      ]
     },
     "execution_count": 19,
     "metadata": {},
     "output_type": "execute_result"
    }
   ],
   "source": [
    "df_from = pd.read_csv(tx_count_from, index_col=0)\n",
    "df_to = pd.read_csv(tx_count_to, index_col=0)\n",
    "df_all = pd.concat([df_from, df_to])\n",
    "df = df_all.groupby(df_all.index).sum()\n",
    "print('{} addresses in total'.format(len(df)))\n",
    "df = df.sort_values('txs')\n",
    "gr0 = len(df.loc[df['txs'] >= 500000])\n",
    "gra = len(df.loc[df['txs'] >= 100000]) - gr0 \n",
    "grb = len(df.loc[df['txs'] >= 50000]) - gr0 - gra\n",
    "grc = len(df.loc[df['txs'] >= 10000]) - gr0 - gra - grb\n",
    "grd = len(df.loc[df['txs'] >= 1000]) - gr0 - gra - grb - grc\n",
    "gre = len(df.loc[df['txs'] >= 100]) - gr0 - gra - grb - grc - grd\n",
    "grf = len(df.loc[df['txs'] >= 10]) - gr0 - gra - grb - grc - grd - gre\n",
    "grg = len(df.loc[df['txs'] <= 10])\n",
    "grh = len(df.loc[df['txs'] == 1]) \n",
    "pd.DataFrame({'Transactions': ['> 500.000','100.000-500.000',\n",
    "                               '50.000-100.000',\n",
    "                               '10.000-50.000',\n",
    "                               '1.000-10.000',\n",
    "                               '100-1.000',\n",
    "                               '10-100',\n",
    "                               '< 10', \n",
    "                               '1'], \n",
    "              'Addresses':[gr0,gra,grb,grc,grd,gre,grf,grg,grh]\n",
    "             })"
   ]
  },
  {
   "cell_type": "markdown",
   "metadata": {},
   "source": [
    "<center></center>"
   ]
  },
  {
   "cell_type": "markdown",
   "metadata": {},
   "source": [
    "<center></center>"
   ]
  },
  {
   "cell_type": "markdown",
   "metadata": {},
   "source": [
    "## Plot average transfer amount"
   ]
  },
  {
   "cell_type": "markdown",
   "metadata": {},
   "source": [
    "## Jan '20 - Jul '20"
   ]
  },
  {
   "cell_type": "code",
   "execution_count": 20,
   "metadata": {},
   "outputs": [],
   "source": [
    "df = pd.read_csv(avg_value_over_date, index_col=0)\n",
    "df = df.loc[df.index[49]:,:]"
   ]
  },
  {
   "cell_type": "code",
   "execution_count": null,
   "metadata": {},
   "outputs": [],
   "source": [
    "print('\\n\\n')\n",
    "plt.figure(figsize=(12, 7), dpi=800)\n",
    "plt.grid(True)\n",
    "plt.plot(np.arange(0 , len(df.index.tolist())), df['txvalue'], color = 'black', label = 'Avg. Amount/Day', linewidth = 2)\n",
    "plt.fill_between(np.arange(0 , len(df.index.tolist())),0 , df['txvalue'], alpha=0.2, facecolor='#2D728F')\n",
    "plt.xlabel('\\n'+'D a t e', fontsize=35)\n",
    "plt.ylabel('D A I'+'\\n', fontsize=30)\n",
    "plt.title(\"D A I\\nA v g. \\ \\ T r a n s f e r \\ \\ A m o u n t\"+\"\\n\", size = 30)\n",
    "plt.legend(loc=\"upper right\", fontsize=20, shadow= True)\n",
    "plt.ticklabel_format(style = 'plain')\n",
    "plt.xticks(labels=[\"\\nJan '20\",\"Feb '20\",\"\\nMar '20\",\"Apr '20\",\"\\nMay '20\",\"Jun '20\",\"\\nJul '20\"], \n",
    "           ticks=[0,31,60,90,121,152,182], fontsize=23) \n",
    "plt.yticks(np.arange(0, 50001, 10000), \n",
    "           np.vectorize(lambda x: f'{x:,.0f}')(np.arange(0, 50001, 10000)), \n",
    "           fontsize=15)\n",
    "plt.tight_layout(pad=1)\n",
    "plt.savefig('../pics/dai/dai_avgtxvalue_jan20.pdf')"
   ]
  },
  {
   "cell_type": "markdown",
   "metadata": {},
   "source": [
    "<center></center>"
   ]
  },
  {
   "cell_type": "markdown",
   "metadata": {},
   "source": [
    "## Further Info"
   ]
  },
  {
   "cell_type": "code",
   "execution_count": 21,
   "metadata": {},
   "outputs": [
    {
     "data": {
      "text/html": [
       "<div>\n",
       "<style scoped>\n",
       "    .dataframe tbody tr th:only-of-type {\n",
       "        vertical-align: middle;\n",
       "    }\n",
       "\n",
       "    .dataframe tbody tr th {\n",
       "        vertical-align: top;\n",
       "    }\n",
       "\n",
       "    .dataframe thead th {\n",
       "        text-align: right;\n",
       "    }\n",
       "</style>\n",
       "<table border=\"1\" class=\"dataframe\">\n",
       "  <thead>\n",
       "    <tr style=\"text-align: right;\">\n",
       "      <th></th>\n",
       "      <th>txvalue</th>\n",
       "    </tr>\n",
       "  </thead>\n",
       "  <tbody>\n",
       "    <tr>\n",
       "      <th>count</th>\n",
       "      <td>182.000</td>\n",
       "    </tr>\n",
       "    <tr>\n",
       "      <th>mean</th>\n",
       "      <td>6095.243</td>\n",
       "    </tr>\n",
       "    <tr>\n",
       "      <th>std</th>\n",
       "      <td>2474.995</td>\n",
       "    </tr>\n",
       "    <tr>\n",
       "      <th>min</th>\n",
       "      <td>2027.100</td>\n",
       "    </tr>\n",
       "    <tr>\n",
       "      <th>25%</th>\n",
       "      <td>4265.388</td>\n",
       "    </tr>\n",
       "    <tr>\n",
       "      <th>50%</th>\n",
       "      <td>5797.787</td>\n",
       "    </tr>\n",
       "    <tr>\n",
       "      <th>75%</th>\n",
       "      <td>7317.255</td>\n",
       "    </tr>\n",
       "    <tr>\n",
       "      <th>max</th>\n",
       "      <td>17183.192</td>\n",
       "    </tr>\n",
       "  </tbody>\n",
       "</table>\n",
       "</div>"
      ],
      "text/plain": [
       "        txvalue\n",
       "count   182.000\n",
       "mean   6095.243\n",
       "std    2474.995\n",
       "min    2027.100\n",
       "25%    4265.388\n",
       "50%    5797.787\n",
       "75%    7317.255\n",
       "max   17183.192"
      ]
     },
     "execution_count": 21,
     "metadata": {},
     "output_type": "execute_result"
    }
   ],
   "source": [
    "df.describe()"
   ]
  },
  {
   "cell_type": "markdown",
   "metadata": {},
   "source": [
    "<center></center>"
   ]
  },
  {
   "cell_type": "markdown",
   "metadata": {},
   "source": [
    "<center></center>"
   ]
  },
  {
   "cell_type": "markdown",
   "metadata": {},
   "source": [
    "## Plot average gas costs"
   ]
  },
  {
   "cell_type": "markdown",
   "metadata": {},
   "source": [
    "## Jan '20 - Jul '20"
   ]
  },
  {
   "cell_type": "code",
   "execution_count": 22,
   "metadata": {},
   "outputs": [],
   "source": [
    "df = pd.read_csv(avg_gas_over_date)\n",
    "df = df.loc[df.index[49]:,:]"
   ]
  },
  {
   "cell_type": "code",
   "execution_count": null,
   "metadata": {},
   "outputs": [],
   "source": [
    "print('\\n\\n')\n",
    "plt.figure(figsize=(12, 7), dpi=800)\n",
    "plt.grid(True)\n",
    "plt.plot(np.arange(0 , len(df.index.tolist())), df['gas'], color = 'black', label = 'Avg. Gas Costs/Day', linewidth = 2)\n",
    "plt.fill_between(np.arange(0 , len(df.index.tolist())),0 , df['gas'], alpha=0.2, facecolor='#2D728F')\n",
    "plt.xlabel('\\nD a t e', fontsize=35)\n",
    "plt.ylabel('E t h e r\\n', fontsize=30)\n",
    "plt.title(\"D A I\\nA v g. \\ \\ G a s \\ \\ C o s t s\\n\", size = 30)\n",
    "lgnd = plt.legend(loc='upper left', fontsize=20, shadow= True)\n",
    "plt.ticklabel_format(style = 'plain')\n",
    "plt.xticks(labels=[\"\\nJan '20\",\"Feb '20\",\"\\nMar '20\",\"Apr '20\",\"\\nMay '20\",\"Jun '20\",\"\\nJul '20\"], \n",
    "           ticks=[0,31,60,90,121,152,182], fontsize=20) \n",
    "plt.yticks(np.arange(0, 0.05, 0.01), \n",
    "           np.vectorize(lambda x: f'{x:,.3f}')(np.arange(0, 0.05, 0.01)), \n",
    "           fontsize=15)\n",
    "plt.tight_layout(pad=1)\n",
    "lgnd.legendHandles[0].set_linewidth(3.0)\n",
    "plt.savefig('../pics/dai/dai_avggascosts_jan20.pdf') "
   ]
  },
  {
   "cell_type": "code",
   "execution_count": 23,
   "metadata": {},
   "outputs": [
    {
     "data": {
      "text/html": [
       "<div>\n",
       "<style scoped>\n",
       "    .dataframe tbody tr th:only-of-type {\n",
       "        vertical-align: middle;\n",
       "    }\n",
       "\n",
       "    .dataframe tbody tr th {\n",
       "        vertical-align: top;\n",
       "    }\n",
       "\n",
       "    .dataframe thead th {\n",
       "        text-align: right;\n",
       "    }\n",
       "</style>\n",
       "<table border=\"1\" class=\"dataframe\">\n",
       "  <thead>\n",
       "    <tr style=\"text-align: right;\">\n",
       "      <th></th>\n",
       "      <th>gas</th>\n",
       "    </tr>\n",
       "  </thead>\n",
       "  <tbody>\n",
       "    <tr>\n",
       "      <th>count</th>\n",
       "      <td>182.000000</td>\n",
       "    </tr>\n",
       "    <tr>\n",
       "      <th>mean</th>\n",
       "      <td>0.006787</td>\n",
       "    </tr>\n",
       "    <tr>\n",
       "      <th>std</th>\n",
       "      <td>0.006357</td>\n",
       "    </tr>\n",
       "    <tr>\n",
       "      <th>min</th>\n",
       "      <td>0.001658</td>\n",
       "    </tr>\n",
       "    <tr>\n",
       "      <th>25%</th>\n",
       "      <td>0.002785</td>\n",
       "    </tr>\n",
       "    <tr>\n",
       "      <th>50%</th>\n",
       "      <td>0.004300</td>\n",
       "    </tr>\n",
       "    <tr>\n",
       "      <th>75%</th>\n",
       "      <td>0.008930</td>\n",
       "    </tr>\n",
       "    <tr>\n",
       "      <th>max</th>\n",
       "      <td>0.049057</td>\n",
       "    </tr>\n",
       "  </tbody>\n",
       "</table>\n",
       "</div>"
      ],
      "text/plain": [
       "             gas\n",
       "count 182.000000\n",
       "mean    0.006787\n",
       "std     0.006357\n",
       "min     0.001658\n",
       "25%     0.002785\n",
       "50%     0.004300\n",
       "75%     0.008930\n",
       "max     0.049057"
      ]
     },
     "execution_count": 23,
     "metadata": {},
     "output_type": "execute_result"
    }
   ],
   "source": [
    "pd.set_option('display.float_format', lambda x: '%.6f' % x)\n",
    "df.describe()"
   ]
  },
  {
   "cell_type": "markdown",
   "metadata": {},
   "source": [
    "<center></center>"
   ]
  },
  {
   "cell_type": "markdown",
   "metadata": {},
   "source": [
    "<center></center>"
   ]
  },
  {
   "cell_type": "markdown",
   "metadata": {},
   "source": [
    "# II. Balances Analysis"
   ]
  },
  {
   "cell_type": "code",
   "execution_count": 24,
   "metadata": {},
   "outputs": [
    {
     "data": {
      "text/html": [
       "<div>\n",
       "<style scoped>\n",
       "    .dataframe tbody tr th:only-of-type {\n",
       "        vertical-align: middle;\n",
       "    }\n",
       "\n",
       "    .dataframe tbody tr th {\n",
       "        vertical-align: top;\n",
       "    }\n",
       "\n",
       "    .dataframe thead th {\n",
       "        text-align: right;\n",
       "    }\n",
       "</style>\n",
       "<table border=\"1\" class=\"dataframe\">\n",
       "  <thead>\n",
       "    <tr style=\"text-align: right;\">\n",
       "      <th></th>\n",
       "      <th>address</th>\n",
       "      <th>balance</th>\n",
       "      <th>cum</th>\n",
       "    </tr>\n",
       "  </thead>\n",
       "  <tbody>\n",
       "    <tr>\n",
       "      <th>0</th>\n",
       "      <td>0x5790254ee1ca100ce43e744dc44067eb81d3c07a</td>\n",
       "      <td>0.000000</td>\n",
       "      <td>0.000000</td>\n",
       "    </tr>\n",
       "    <tr>\n",
       "      <th>1</th>\n",
       "      <td>0x08e49debc47125a5d344a6c8f07cda9c3a08c553</td>\n",
       "      <td>0.000000</td>\n",
       "      <td>0.000000</td>\n",
       "    </tr>\n",
       "    <tr>\n",
       "      <th>2</th>\n",
       "      <td>0x282d304c5ca7f8bdf63cb71ac75d17e2f6dce55e</td>\n",
       "      <td>0.000000</td>\n",
       "      <td>0.000000</td>\n",
       "    </tr>\n",
       "    <tr>\n",
       "      <th>3</th>\n",
       "      <td>0x7b06f98842243be271f0e066343264ebada1a488</td>\n",
       "      <td>0.000000</td>\n",
       "      <td>0.000000</td>\n",
       "    </tr>\n",
       "    <tr>\n",
       "      <th>4</th>\n",
       "      <td>0x5c9c2f412ceeffcd4c36ac1c0a85827000878fbc</td>\n",
       "      <td>0.000000</td>\n",
       "      <td>0.000000</td>\n",
       "    </tr>\n",
       "    <tr>\n",
       "      <th>...</th>\n",
       "      <td>...</td>\n",
       "      <td>...</td>\n",
       "      <td>...</td>\n",
       "    </tr>\n",
       "    <tr>\n",
       "      <th>100144</th>\n",
       "      <td>0xa478c2975ab1ea89e8196811f51a7b7ade33eb11</td>\n",
       "      <td>3050646.603235</td>\n",
       "      <td>90235193.362147</td>\n",
       "    </tr>\n",
       "    <tr>\n",
       "      <th>100145</th>\n",
       "      <td>0xa5407eae9ba41422680e2e00537571bcc53efbfd</td>\n",
       "      <td>3401415.450793</td>\n",
       "      <td>93636608.812940</td>\n",
       "    </tr>\n",
       "    <tr>\n",
       "      <th>100146</th>\n",
       "      <td>0x6dcb8492b5de636fd9e0a32413514647d00ef8d0</td>\n",
       "      <td>3646557.295292</td>\n",
       "      <td>97283166.108233</td>\n",
       "    </tr>\n",
       "    <tr>\n",
       "      <th>100147</th>\n",
       "      <td>0x07bb41df8c1d275c4259cdd0dbf0189d6a9a5f32</td>\n",
       "      <td>4500000.000000</td>\n",
       "      <td>101783166.108233</td>\n",
       "    </tr>\n",
       "    <tr>\n",
       "      <th>100148</th>\n",
       "      <td>0x1e0447b19bb6ecfdae1e4ae1694b0c3659614e4e</td>\n",
       "      <td>4793577.188617</td>\n",
       "      <td>106576743.296850</td>\n",
       "    </tr>\n",
       "  </tbody>\n",
       "</table>\n",
       "<p>100149 rows × 3 columns</p>\n",
       "</div>"
      ],
      "text/plain": [
       "                                           address        balance  \\\n",
       "0       0x5790254ee1ca100ce43e744dc44067eb81d3c07a       0.000000   \n",
       "1       0x08e49debc47125a5d344a6c8f07cda9c3a08c553       0.000000   \n",
       "2       0x282d304c5ca7f8bdf63cb71ac75d17e2f6dce55e       0.000000   \n",
       "3       0x7b06f98842243be271f0e066343264ebada1a488       0.000000   \n",
       "4       0x5c9c2f412ceeffcd4c36ac1c0a85827000878fbc       0.000000   \n",
       "...                                            ...            ...   \n",
       "100144  0xa478c2975ab1ea89e8196811f51a7b7ade33eb11 3050646.603235   \n",
       "100145  0xa5407eae9ba41422680e2e00537571bcc53efbfd 3401415.450793   \n",
       "100146  0x6dcb8492b5de636fd9e0a32413514647d00ef8d0 3646557.295292   \n",
       "100147  0x07bb41df8c1d275c4259cdd0dbf0189d6a9a5f32 4500000.000000   \n",
       "100148  0x1e0447b19bb6ecfdae1e4ae1694b0c3659614e4e 4793577.188617   \n",
       "\n",
       "                    cum  \n",
       "0              0.000000  \n",
       "1              0.000000  \n",
       "2              0.000000  \n",
       "3              0.000000  \n",
       "4              0.000000  \n",
       "...                 ...  \n",
       "100144  90235193.362147  \n",
       "100145  93636608.812940  \n",
       "100146  97283166.108233  \n",
       "100147 101783166.108233  \n",
       "100148 106576743.296850  \n",
       "\n",
       "[100149 rows x 3 columns]"
      ]
     },
     "execution_count": 24,
     "metadata": {},
     "output_type": "execute_result"
    }
   ],
   "source": [
    "df = pd.read_csv(positive_cumulated_balances, index_col='Unnamed: 0')\n",
    "df"
   ]
  },
  {
   "cell_type": "markdown",
   "metadata": {},
   "source": [
    "<center></center>"
   ]
  },
  {
   "cell_type": "markdown",
   "metadata": {},
   "source": [
    "## II.I. Quick Summary"
   ]
  },
  {
   "cell_type": "code",
   "execution_count": 25,
   "metadata": {},
   "outputs": [
    {
     "data": {
      "text/plain": [
       "count     100149.000000\n",
       "mean        1064.181802\n",
       "std        37707.088593\n",
       "min            0.000000\n",
       "25%            0.080000\n",
       "50%            1.927820\n",
       "75%           39.892653\n",
       "max      4793577.188617\n",
       "Name: balance, dtype: object"
      ]
     },
     "execution_count": 25,
     "metadata": {},
     "output_type": "execute_result"
    }
   ],
   "source": [
    "(df[df['balance']>0]['balance']).describe().apply(lambda x: format(x, 'f'))"
   ]
  },
  {
   "cell_type": "code",
   "execution_count": 26,
   "metadata": {},
   "outputs": [
    {
     "name": "stdout",
     "output_type": "stream",
     "text": [
      "43204/100149 with less than 1 DAI\n"
     ]
    }
   ],
   "source": [
    "print('{}/{} with less than 1 DAI' .format(len(df[df['balance']<1]['balance']), len(df['balance'])))"
   ]
  },
  {
   "cell_type": "markdown",
   "metadata": {},
   "source": [
    "<center></center>"
   ]
  },
  {
   "cell_type": "markdown",
   "metadata": {},
   "source": [
    "## II.II. Balance Table"
   ]
  },
  {
   "cell_type": "code",
   "execution_count": 27,
   "metadata": {},
   "outputs": [
    {
     "data": {
      "text/html": [
       "<div>\n",
       "<style scoped>\n",
       "    .dataframe tbody tr th:only-of-type {\n",
       "        vertical-align: middle;\n",
       "    }\n",
       "\n",
       "    .dataframe tbody tr th {\n",
       "        vertical-align: top;\n",
       "    }\n",
       "\n",
       "    .dataframe thead th {\n",
       "        text-align: right;\n",
       "    }\n",
       "</style>\n",
       "<table border=\"1\" class=\"dataframe\">\n",
       "  <thead>\n",
       "    <tr style=\"text-align: right;\">\n",
       "      <th></th>\n",
       "      <th>Accounts in total</th>\n",
       "      <th>&lt;% of total supply</th>\n",
       "      <th>DAI amount</th>\n",
       "    </tr>\n",
       "  </thead>\n",
       "  <tbody>\n",
       "    <tr>\n",
       "      <th>0.1% of the richest accounts</th>\n",
       "      <td>100</td>\n",
       "      <td>68.450000</td>\n",
       "      <td>72,946,572</td>\n",
       "    </tr>\n",
       "    <tr>\n",
       "      <th>1% of the richest accounts</th>\n",
       "      <td>1,001</td>\n",
       "      <td>91.280000</td>\n",
       "      <td>97,283,400</td>\n",
       "    </tr>\n",
       "    <tr>\n",
       "      <th>5% of the richest accounts</th>\n",
       "      <td>5,007</td>\n",
       "      <td>97.140000</td>\n",
       "      <td>103,523,804</td>\n",
       "    </tr>\n",
       "    <tr>\n",
       "      <th>10% of the richest accounts</th>\n",
       "      <td>10,015</td>\n",
       "      <td>98.340000</td>\n",
       "      <td>104,806,506</td>\n",
       "    </tr>\n",
       "  </tbody>\n",
       "</table>\n",
       "</div>"
      ],
      "text/plain": [
       "                             Accounts in total  <% of total supply  \\\n",
       "0.1% of the richest accounts               100           68.450000   \n",
       "1% of the richest accounts               1,001           91.280000   \n",
       "5% of the richest accounts               5,007           97.140000   \n",
       "10% of the richest accounts             10,015           98.340000   \n",
       "\n",
       "                               DAI amount  \n",
       "0.1% of the richest accounts   72,946,572  \n",
       "1% of the richest accounts     97,283,400  \n",
       "5% of the richest accounts    103,523,804  \n",
       "10% of the richest accounts   104,806,506  "
      ]
     },
     "execution_count": 27,
     "metadata": {},
     "output_type": "execute_result"
    }
   ],
   "source": [
    "df = pd.read_csv(positive_cumulated_balances, index_col=0)\n",
    "def get_distribution(perc):\n",
    "    per = round(df.index[-1]*perc)\n",
    "    entities = df.index[-1]- per\n",
    "    upper = df.loc[per:,:]\n",
    "    lower = df.loc[:per,:]\n",
    "    lower_ = lower['cum'].iloc[-1]\n",
    "    upper_ = (upper['cum'].iloc[-1] - upper['cum'].iloc[0])\n",
    "    return entities, lower_, upper_, lower_/ upper['cum'].iloc[-1], upper_/(upper['cum'].iloc[-1])\n",
    "\n",
    "idx90, lower90, upper90, per10, per90 = get_distribution(0.90)\n",
    "idx95, lower95, upper95, per05, per95 = get_distribution(0.95)\n",
    "idx99, lower99, upper99, per01, per99 = get_distribution(0.99)\n",
    "idx999, lower999, upper999, per001, per999 = get_distribution(0.999)\n",
    "\n",
    "df = pd.DataFrame([[f'{idx999:,.0f}', round(per999*100,2), f'{upper999:,.0f}'],\n",
    "             [f'{idx99:,.0f}', round(per99*100,2),f'{upper99:,.0f}'],\n",
    "             [f'{idx95:,.0f}', round(per95*100,2),f'{upper95:,.0f}'],\n",
    "             [f'{idx90:,.0f}', round(per90*100,2),f'{upper90:,.0f}']],\n",
    "                  index=['0.1% of the richest accounts', '1% of the richest accounts','5% of the richest accounts','10% of the richest accounts'],\n",
    "                   columns=['Accounts in total', '<% of total supply', 'DAI amount'])\n",
    "df"
   ]
  },
  {
   "cell_type": "markdown",
   "metadata": {},
   "source": [
    "<center></center>"
   ]
  },
  {
   "cell_type": "markdown",
   "metadata": {},
   "source": [
    "<center></center>"
   ]
  },
  {
   "cell_type": "markdown",
   "metadata": {},
   "source": [
    "## II.III. Rich list"
   ]
  },
  {
   "cell_type": "code",
   "execution_count": 28,
   "metadata": {},
   "outputs": [
    {
     "data": {
      "text/html": [
       "<div>\n",
       "<style scoped>\n",
       "    .dataframe tbody tr th:only-of-type {\n",
       "        vertical-align: middle;\n",
       "    }\n",
       "\n",
       "    .dataframe tbody tr th {\n",
       "        vertical-align: top;\n",
       "    }\n",
       "\n",
       "    .dataframe thead th {\n",
       "        text-align: right;\n",
       "    }\n",
       "</style>\n",
       "<table border=\"1\" class=\"dataframe\">\n",
       "  <thead>\n",
       "    <tr style=\"text-align: right;\">\n",
       "      <th></th>\n",
       "      <th>Unnamed: 0</th>\n",
       "      <th>address</th>\n",
       "      <th>balance</th>\n",
       "      <th>cum</th>\n",
       "      <th>nametag</th>\n",
       "    </tr>\n",
       "  </thead>\n",
       "  <tbody>\n",
       "    <tr>\n",
       "      <th>100139</th>\n",
       "      <td>100139</td>\n",
       "      <td>0x66c57bf505a85a74609d2c83e94aabb26d691e1f</td>\n",
       "      <td>2231996.912159</td>\n",
       "      <td>76536876.098052</td>\n",
       "      <td>NaN</td>\n",
       "    </tr>\n",
       "    <tr>\n",
       "      <th>100140</th>\n",
       "      <td>100140</td>\n",
       "      <td>0x631bca95cda1133ffb48aac6154c975adb9be4fa</td>\n",
       "      <td>2330384.049738</td>\n",
       "      <td>78867260.147789</td>\n",
       "      <td>NaN</td>\n",
       "    </tr>\n",
       "    <tr>\n",
       "      <th>100141</th>\n",
       "      <td>100141</td>\n",
       "      <td>0x68eefd1926b99c70e22e5bc6c095d9cf2f776490</td>\n",
       "      <td>2448094.976387</td>\n",
       "      <td>81315355.124176</td>\n",
       "      <td>NaN</td>\n",
       "    </tr>\n",
       "    <tr>\n",
       "      <th>100142</th>\n",
       "      <td>100142</td>\n",
       "      <td>0x8430b778d08c569e0fc6b8e0722839329a329586</td>\n",
       "      <td>2822977.964007</td>\n",
       "      <td>84138333.088183</td>\n",
       "      <td>NaN</td>\n",
       "    </tr>\n",
       "    <tr>\n",
       "      <th>100143</th>\n",
       "      <td>100143</td>\n",
       "      <td>0x9eb7f2591ed42dee9315b6e2aaf21ba85ea69f8c</td>\n",
       "      <td>3046213.670729</td>\n",
       "      <td>87184546.758912</td>\n",
       "      <td>NaN</td>\n",
       "    </tr>\n",
       "    <tr>\n",
       "      <th>100144</th>\n",
       "      <td>100144</td>\n",
       "      <td>0xa478c2975ab1ea89e8196811f51a7b7ade33eb11</td>\n",
       "      <td>3050646.603235</td>\n",
       "      <td>90235193.362147</td>\n",
       "      <td>Uniswap V2: DAI</td>\n",
       "    </tr>\n",
       "    <tr>\n",
       "      <th>100145</th>\n",
       "      <td>100145</td>\n",
       "      <td>0xa5407eae9ba41422680e2e00537571bcc53efbfd</td>\n",
       "      <td>3401415.450793</td>\n",
       "      <td>93636608.812940</td>\n",
       "      <td>Curve.fi: sUSD v2 Swap</td>\n",
       "    </tr>\n",
       "    <tr>\n",
       "      <th>100146</th>\n",
       "      <td>100146</td>\n",
       "      <td>0x6dcb8492b5de636fd9e0a32413514647d00ef8d0</td>\n",
       "      <td>3646557.295292</td>\n",
       "      <td>97283166.108233</td>\n",
       "      <td>NaN</td>\n",
       "    </tr>\n",
       "    <tr>\n",
       "      <th>100147</th>\n",
       "      <td>100147</td>\n",
       "      <td>0x07bb41df8c1d275c4259cdd0dbf0189d6a9a5f32</td>\n",
       "      <td>4500000.000000</td>\n",
       "      <td>101783166.108233</td>\n",
       "      <td>NaN</td>\n",
       "    </tr>\n",
       "    <tr>\n",
       "      <th>100148</th>\n",
       "      <td>100148</td>\n",
       "      <td>0x1e0447b19bb6ecfdae1e4ae1694b0c3659614e4e</td>\n",
       "      <td>4793577.188617</td>\n",
       "      <td>106576743.296850</td>\n",
       "      <td>dYdX: Solo Margin</td>\n",
       "    </tr>\n",
       "  </tbody>\n",
       "</table>\n",
       "</div>"
      ],
      "text/plain": [
       "        Unnamed: 0                                     address        balance  \\\n",
       "100139      100139  0x66c57bf505a85a74609d2c83e94aabb26d691e1f 2231996.912159   \n",
       "100140      100140  0x631bca95cda1133ffb48aac6154c975adb9be4fa 2330384.049738   \n",
       "100141      100141  0x68eefd1926b99c70e22e5bc6c095d9cf2f776490 2448094.976387   \n",
       "100142      100142  0x8430b778d08c569e0fc6b8e0722839329a329586 2822977.964007   \n",
       "100143      100143  0x9eb7f2591ed42dee9315b6e2aaf21ba85ea69f8c 3046213.670729   \n",
       "100144      100144  0xa478c2975ab1ea89e8196811f51a7b7ade33eb11 3050646.603235   \n",
       "100145      100145  0xa5407eae9ba41422680e2e00537571bcc53efbfd 3401415.450793   \n",
       "100146      100146  0x6dcb8492b5de636fd9e0a32413514647d00ef8d0 3646557.295292   \n",
       "100147      100147  0x07bb41df8c1d275c4259cdd0dbf0189d6a9a5f32 4500000.000000   \n",
       "100148      100148  0x1e0447b19bb6ecfdae1e4ae1694b0c3659614e4e 4793577.188617   \n",
       "\n",
       "                    cum                  nametag  \n",
       "100139  76536876.098052                      NaN  \n",
       "100140  78867260.147789                      NaN  \n",
       "100141  81315355.124176                      NaN  \n",
       "100142  84138333.088183                      NaN  \n",
       "100143  87184546.758912                      NaN  \n",
       "100144  90235193.362147         Uniswap V2: DAI   \n",
       "100145  93636608.812940  Curve.fi: sUSD v2 Swap   \n",
       "100146  97283166.108233                      NaN  \n",
       "100147 101783166.108233                      NaN  \n",
       "100148 106576743.296850        dYdX: Solo Margin  "
      ]
     },
     "execution_count": 28,
     "metadata": {},
     "output_type": "execute_result"
    }
   ],
   "source": [
    "pd.options.mode.chained_assignment = None\n",
    "df = pd.read_csv(positive_cumulated_balances)\n",
    "balance = df\n",
    "rich = df.loc[df.index[-10]:,:]\n",
    "ex = pd.read_csv(exchanges, header=None)\n",
    "loop = rich.iterrows()\n",
    "for i, j in loop:\n",
    "    if j['address'] in ex[0].tolist():\n",
    "        rich.loc[i,'nametag'] = ex[ex[0] == j['address']][1].values[0]\n",
    "\n",
    "\n",
    "rich.loc[100145,'nametag'] = 'Curve.fi: sUSD v2 Swap '\n",
    "rich.loc[100144,'nametag'] = 'Uniswap V2: DAI '\n",
    "\n",
    "rich"
   ]
  },
  {
   "cell_type": "markdown",
   "metadata": {},
   "source": [
    "<center></center>"
   ]
  },
  {
   "cell_type": "markdown",
   "metadata": {},
   "source": [
    "<center></center>"
   ]
  },
  {
   "cell_type": "markdown",
   "metadata": {},
   "source": [
    "## Huobi"
   ]
  },
  {
   "cell_type": "code",
   "execution_count": 29,
   "metadata": {},
   "outputs": [],
   "source": [
    "ex = pd.read_csv(exchanges, header=None)"
   ]
  },
  {
   "cell_type": "code",
   "execution_count": 30,
   "metadata": {},
   "outputs": [
    {
     "name": "stdout",
     "output_type": "stream",
     "text": [
      "Huobi Total Balance: 0\n",
      "0.00% of Total\n"
     ]
    }
   ],
   "source": [
    "df = ex.loc[0:73,:]\n",
    "bal = 0 \n",
    "for i in df[0]:\n",
    "    val = balance['balance'][balance['address'] == i]\n",
    "    if not val.empty:\n",
    "        bal += balance['balance'][balance['address'] == i].values[0]\n",
    "    else:\n",
    "        pass\n",
    "print('Huobi Total Balance: {:.0f}\\n{:.2f}% of Total'.format(bal, bal/balance.loc[balance.index[-1], 'cum']*100))"
   ]
  },
  {
   "cell_type": "markdown",
   "metadata": {},
   "source": [
    "<center></center>"
   ]
  },
  {
   "cell_type": "markdown",
   "metadata": {},
   "source": [
    "## Binance"
   ]
  },
  {
   "cell_type": "code",
   "execution_count": 31,
   "metadata": {},
   "outputs": [
    {
     "name": "stdout",
     "output_type": "stream",
     "text": [
      "Binance Total Balance: 7\n",
      "0.00% of Total\n"
     ]
    }
   ],
   "source": [
    "df = ex.loc[74:88,:]\n",
    "bal = 0 \n",
    "for i in df[0]:\n",
    "    val = balance['balance'][balance['address'] == i]\n",
    "    if not val.empty:\n",
    "        bal += balance['balance'][balance['address'] == i].values[0]\n",
    "    else:\n",
    "        pass\n",
    "print('Binance Total Balance: {:.0f}\\n{:.2f}% of Total'.format(bal, bal/balance.loc[balance.index[-1], 'cum']*100))"
   ]
  },
  {
   "cell_type": "markdown",
   "metadata": {},
   "source": [
    "<center></center>"
   ]
  },
  {
   "cell_type": "markdown",
   "metadata": {},
   "source": [
    "## Bitfinex"
   ]
  },
  {
   "cell_type": "code",
   "execution_count": 32,
   "metadata": {},
   "outputs": [
    {
     "name": "stdout",
     "output_type": "stream",
     "text": [
      "Bitfinex Total Balance: 854060\n",
      "0.80% of Total\n"
     ]
    }
   ],
   "source": [
    "df = ex.loc[89:110,:]\n",
    "bal = 0 \n",
    "for i in df[0]:\n",
    "    val = balance['balance'][balance['address'] == i]\n",
    "    if not val.empty:\n",
    "        bal += balance['balance'][balance['address'] == i].values[0]\n",
    "    else:\n",
    "        pass\n",
    "print('Bitfinex Total Balance: {:.0f}\\n{:.2f}% of Total'.format(bal, bal/balance.loc[balance.index[-1], 'cum']*100))"
   ]
  },
  {
   "cell_type": "markdown",
   "metadata": {},
   "source": [
    "<center></center>"
   ]
  },
  {
   "cell_type": "markdown",
   "metadata": {},
   "source": [
    "## OKEx"
   ]
  },
  {
   "cell_type": "code",
   "execution_count": 33,
   "metadata": {},
   "outputs": [
    {
     "name": "stdout",
     "output_type": "stream",
     "text": [
      "OKEx Total Balance: 796770\n",
      "0.75% of Total\n"
     ]
    }
   ],
   "source": [
    "df = ex.loc[111:115,:]\n",
    "bal = 0 \n",
    "for i in df[0]:\n",
    "    val = balance['balance'][balance['address'] == i]\n",
    "    if not val.empty:\n",
    "        bal += balance['balance'][balance['address'] == i].values[0]\n",
    "    else:\n",
    "        pass\n",
    "print('OKEx Total Balance: {:.0f}\\n{:.2f}% of Total'.format(bal, bal/balance.loc[balance.index[-1], 'cum']*100))"
   ]
  },
  {
   "cell_type": "markdown",
   "metadata": {},
   "source": [
    "<center></center>"
   ]
  },
  {
   "cell_type": "markdown",
   "metadata": {},
   "source": [
    "## Bittrex"
   ]
  },
  {
   "cell_type": "code",
   "execution_count": 34,
   "metadata": {},
   "outputs": [
    {
     "name": "stdout",
     "output_type": "stream",
     "text": [
      "Bittrex Total Balance: 438391\n",
      "0.41% of Total\n"
     ]
    }
   ],
   "source": [
    "df = ex.loc[116:119,:]\n",
    "bal = 0 \n",
    "for i in df[0]:\n",
    "    val = balance['balance'][balance['address'] == i]\n",
    "    if not val.empty:\n",
    "        bal += balance['balance'][balance['address'] == i].values[0]\n",
    "    else:\n",
    "        pass\n",
    "print('Bittrex Total Balance: {:.0f}\\n{:.2f}% of Total'.format(bal, bal/balance.loc[balance.index[-1], 'cum']*100))"
   ]
  },
  {
   "cell_type": "markdown",
   "metadata": {},
   "source": [
    "<center></center>"
   ]
  },
  {
   "cell_type": "markdown",
   "metadata": {},
   "source": [
    "## Compound"
   ]
  },
  {
   "cell_type": "code",
   "execution_count": 35,
   "metadata": {},
   "outputs": [
    {
     "name": "stdout",
     "output_type": "stream",
     "text": [
      "Compound Total Balance: 214\n",
      "0.00% of Total\n"
     ]
    }
   ],
   "source": [
    "df = ex.loc[151:179,:]\n",
    "bal = 0 \n",
    "for i in df[0]:\n",
    "    val = balance['balance'][balance['address'] == i]\n",
    "    if not val.empty:\n",
    "        bal += balance['balance'][balance['address'] == i].values[0]\n",
    "    else:\n",
    "        pass\n",
    "print('Compound Total Balance: {:.0f}\\n{:.2f}% of Total'.format(bal, bal/balance.loc[balance.index[-1], 'cum']*100))"
   ]
  },
  {
   "cell_type": "markdown",
   "metadata": {},
   "source": [
    "<center></center>"
   ]
  },
  {
   "cell_type": "markdown",
   "metadata": {},
   "source": [
    "## Poloniex"
   ]
  },
  {
   "cell_type": "code",
   "execution_count": 36,
   "metadata": {},
   "outputs": [
    {
     "name": "stdout",
     "output_type": "stream",
     "text": [
      "Poloniex Total Balance: 61165\n",
      "0.06% of Total\n"
     ]
    }
   ],
   "source": [
    "df = ex.loc[247:266,:]\n",
    "bal = 0 \n",
    "for i in df[0]:\n",
    "    val = balance['balance'][balance['address'] == i]\n",
    "    if not val.empty:\n",
    "        bal += balance['balance'][balance['address'] == i].values[0]\n",
    "    else:\n",
    "        pass\n",
    "print('Poloniex Total Balance: {:.0f}\\n{:.2f}% of Total'.format(bal, bal/balance.loc[balance.index[-1], 'cum']*100))"
   ]
  },
  {
   "cell_type": "markdown",
   "metadata": {},
   "source": [
    "## dYdX"
   ]
  },
  {
   "cell_type": "code",
   "execution_count": 37,
   "metadata": {},
   "outputs": [
    {
     "name": "stdout",
     "output_type": "stream",
     "text": [
      "dYdX Total Balance: 4793577\n",
      "4.50% of Total\n"
     ]
    }
   ],
   "source": [
    "df = ex.loc[267:298,:]\n",
    "bal = 0 \n",
    "for i in df[0]:\n",
    "    val = balance['balance'][balance['address'] == i]\n",
    "    if not val.empty:\n",
    "        bal += balance['balance'][balance['address'] == i].values[0]\n",
    "    else:\n",
    "        pass\n",
    "print('dYdX Total Balance: {:.0f}\\n{:.2f}% of Total'.format(bal, bal/balance.loc[balance.index[-1], 'cum']*100))"
   ]
  },
  {
   "cell_type": "markdown",
   "metadata": {},
   "source": [
    "<center></center>"
   ]
  },
  {
   "cell_type": "markdown",
   "metadata": {},
   "source": [
    "## Maker"
   ]
  },
  {
   "cell_type": "code",
   "execution_count": 38,
   "metadata": {},
   "outputs": [
    {
     "name": "stdout",
     "output_type": "stream",
     "text": [
      "MakerDAO Total Balance: 1610832\n",
      "1.51% of Total\n"
     ]
    }
   ],
   "source": [
    "df = ex.loc[180:246,:]\n",
    "bal = 0 \n",
    "for i in df[0]:\n",
    "    val = balance['balance'][balance['address'] == i]\n",
    "    if not val.empty:\n",
    "        bal += balance['balance'][balance['address'] == i].values[0]\n",
    "    else:\n",
    "        pass\n",
    "print('MakerDAO Total Balance: {:.0f}\\n{:.2f}% of Total'.format(bal, bal/balance.loc[balance.index[-1], 'cum']*100))"
   ]
  },
  {
   "cell_type": "markdown",
   "metadata": {},
   "source": [
    "<center></center>"
   ]
  },
  {
   "cell_type": "markdown",
   "metadata": {},
   "source": [
    "<center></center>"
   ]
  },
  {
   "cell_type": "markdown",
   "metadata": {},
   "source": [
    "# II. IV. Pie Chart"
   ]
  },
  {
   "cell_type": "code",
   "execution_count": null,
   "metadata": {},
   "outputs": [],
   "source": [
    "df = pd.read_csv(positive_cumulated_balances, index_col='Unnamed: 0')\n",
    "aa = df.iloc[df.index[-1]-80:]\n",
    "bb = df['balance'].iloc[:df.index[-1]-80]\n",
    "df = aa.append(pd.DataFrame({'address': 'others', 'balance': sum(bb)}, index=[0]))\n",
    "label = []\n",
    "counter = 0\n",
    "def getlabel(i):\n",
    "    global counter\n",
    "    if i:\n",
    "        if not i == 'others':\n",
    "            label.append(i + '...')\n",
    "        else:\n",
    "            label.append(i)\n",
    "    else:\n",
    "        label.append('')\n",
    "    counter += 1\n",
    "    \n",
    "[getlabel(i[:6]) if counter >= len(df)-11 else getlabel('') for i in df['address']  ]\n",
    "print()"
   ]
  },
  {
   "cell_type": "code",
   "execution_count": null,
   "metadata": {},
   "outputs": [],
   "source": [
    "print('\\n\\n')\n",
    "# Colorspace colors by: https://colorspace.r-forge.r-project.org/index.html\n",
    "\n",
    "colorspace_set3 = ['#EEBD92','#FFB3B5','#85D0F2','#BCC3FE','#E7B5F5', \n",
    "                 '#FEAFDA', '#61D8D6','#76D9B1','#A4D390','#CFC982']\n",
    "colorsp_dynamic =['#DB9D85', '#87AEDF', '#9DB469', '#6DBC86', '#3DBEAB', \n",
    "                  '#4CB9CC', '#C2A968', '#BB9FE0', '#DA95CC', '#E494AB']\n",
    "colorspa_dark_3 = ['#B675E0','#5991E4','#00AA5A','#6F9F00','#CE7D3B']\n",
    "colorspa_dyna_5 = ['#9DB469','#87AEDF','#DA95CC', '#DB9D85','#3DBEAB']\n",
    "\n",
    "fig = plt.figure(figsize=(25,15), dpi=400)\n",
    "ax = fig.add_subplot()\n",
    "aa = plt.pie(df['balance'],colors=colorsp_dynamic, \n",
    "             labels=label,\n",
    "             autopct=lambda x: r'{:.1f}\\%'.format(x) if x > 1.5 else r'{:.0f}\\%'.format(x) if x > 5  else '', \n",
    "             pctdistance= 0.8, \n",
    "             labeldistance= 1.05, \n",
    "             radius=1, \n",
    "             explode=[0.05 for i in range(0, len(df['balance']))],\n",
    "             wedgeprops = {'linewidth': 0.8, 'edgecolor':'k'}, \n",
    "             startangle=200) \n",
    "\n",
    "# Custom Modifications\n",
    "#aa[-1][-1].set_x(-0.7268917458682129)\n",
    "aa[-1][-1].set_fontsize(35)\n",
    "aa[-1][-2].set_fontsize(30)\n",
    "#aa[-1][-2].set_x(0.19977073082370535)\n",
    "#aa[-1][-2].set_y(0.8000006952023211)\n",
    "aa[-1][-3].set_fontsize(27)\n",
    "aa[-1][-4].set_fontsize(23)\n",
    "aa[-1][-5].set_fontsize(20)\n",
    "aa[-1][-6].set_fontsize(16)\n",
    "aa[-1][-7].set_fontsize(13)\n",
    "aa[-1][-8].set_fontsize(9)\n",
    "aa[-1][-9].set_fontsize(9)\n",
    "aa[-1][-10].set_fontsize(9)\n",
    "aa[-1][-11].set_fontsize(8)\n",
    "\n",
    "fontsize = -43\n",
    "for i in aa[1]:\n",
    "    i.set_fontsize(fontsize)\n",
    "    fontsize += 1\n",
    "aa[1][-1].set_fontsize(55)\n",
    "plt.tight_layout(pad=5)\n",
    "plt.title('D A I \\ \\ D i s t r i b u t i o n', fontsize = 50)\n",
    "circ = plt.Circle((0,0),0.5,color='black', fc='white',linewidth=1.25)\n",
    "ax.add_artist(circ)\n",
    "plt.savefig('../pics/dai/dai_distribution_pie.pdf')"
   ]
  },
  {
   "cell_type": "markdown",
   "metadata": {},
   "source": [
    "## II.V. Lorenz curve"
   ]
  },
  {
   "cell_type": "code",
   "execution_count": null,
   "metadata": {},
   "outputs": [],
   "source": [
    "df = pd.read_csv(positive_cumulated_balances, index_col = 'Unnamed: 0')\n",
    "df"
   ]
  },
  {
   "cell_type": "code",
   "execution_count": null,
   "metadata": {},
   "outputs": [],
   "source": [
    "y_all = df['cum']/df['cum'].iloc[-1]\n",
    "x_all = (np.arange(start = 0 , stop = len(df['cum']), step = 1)/(len(df['cum'])))\n",
    "\n",
    "y_25_75 = df['cum'].iloc[int(df.index[-1]*0.25):int(df.index[-1]*0.75)]\n",
    "y_25_75 = y_25_75/max(y_25_75)\n",
    "x_25_75 = np.arange(start = 0 , stop = len(y_25_75), step = 1)/(len(y_25_75))"
   ]
  },
  {
   "cell_type": "code",
   "execution_count": null,
   "metadata": {},
   "outputs": [],
   "source": [
    "print('Q3-Q1 (in DAI):')\n",
    "df['balance'].iloc[int(df.index[-1]*0.25):int(df.index[-1]*0.75)].describe().apply(lambda x: format(x/(10**0), 'f'))"
   ]
  },
  {
   "cell_type": "code",
   "execution_count": null,
   "metadata": {},
   "outputs": [],
   "source": [
    "print('\\n\\n')\n",
    "fig = plt.figure(figsize=(15,15))\n",
    "ax = fig.add_subplot()\n",
    "plt.grid()\n",
    "plt.title(r'L o r e n z \\ \\ C u r v e'+'\\n', fontsize=50)\n",
    "plt.xlabel('\\n'+r'\\% \\ \\ of \\ \\ A d d r e s s e s', fontsize=30)\n",
    "plt.ylabel(r'\\% \\ o f \\ \\ t o t a l \\ \\ D A I \\ \\ s u p p l y'+'\\n',  fontsize=30)\n",
    "plt.xticks(fontsize=20)\n",
    "plt.yticks(fontsize=20)\n",
    "ax.plot(x_all,y_all, linewidth = 5, color = '#2D728F', label = r'$\\ All$')\n",
    "ax.plot(x_25_75,y_25_75, linewidth = 5, color = '#87AEDF', label = r'$\\ Q_3 - Q_1$')\n",
    "plt.legend(fontsize= 35)\n",
    "plt.plot([0, 1], [0, 1], transform=ax.transAxes, linewidth = 4, ls = (0, (5, 10)), color = 'black')\n",
    "ax.set_xlim([0,1.05])\n",
    "plt.savefig('../pics/dai/dai_lorenzcurve.pdf')"
   ]
  }
 ],
 "metadata": {
  "kernelspec": {
   "display_name": "master_thesis",
   "language": "python",
   "name": "master_thesis"
  },
  "language_info": {
   "codemirror_mode": {
    "name": "ipython",
    "version": 3
   },
   "file_extension": ".py",
   "mimetype": "text/x-python",
   "name": "python",
   "nbconvert_exporter": "python",
   "pygments_lexer": "ipython3",
   "version": "3.6.9"
  }
 },
 "nbformat": 4,
 "nbformat_minor": 4
}
