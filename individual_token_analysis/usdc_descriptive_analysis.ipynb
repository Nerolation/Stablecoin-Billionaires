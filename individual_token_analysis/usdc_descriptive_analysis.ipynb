{
 "cells": [
  {
   "cell_type": "markdown",
   "metadata": {},
   "source": [
    "<h1><center>Stablecoin Billionaires<br> Descriptive Analysis of the Ethereum-based <br>\n",
    "    Stablecoin ecosystem</center></h1>  "
   ]
  },
  {
   "cell_type": "markdown",
   "metadata": {},
   "source": [
    "<h2><center> by Anton Wahrstätter<br>01.07.2020</h2></center>"
   ]
  },
  {
   "cell_type": "markdown",
   "metadata": {},
   "source": [
    "<h2><center>Part II - USDC</h2></center>"
   ]
  },
  {
   "cell_type": "code",
   "execution_count": 1,
   "metadata": {},
   "outputs": [],
   "source": [
    "import numpy as np\n",
    "import pandas as pd\n",
    "import matplotlib.pyplot as plt\n",
    "from datetime import datetime\n",
    "from collections import Counter\n",
    "from matplotlib import rc\n",
    "import re\n",
    "import random\n",
    "\n",
    "rc('font', **{'family':'serif','serif': ['Computer Modern']})\n",
    "rc('text', usetex=True)\n",
    "\n",
    "#decimals\n",
    "dec = 6"
   ]
  },
  {
   "cell_type": "code",
   "execution_count": 2,
   "metadata": {},
   "outputs": [],
   "source": [
    "#plots\n",
    "tx_over_date = '../plots/usdc/usdc_txs_over_date.csv'\n",
    "unique_senders_over_date = '../plots/usdc/usdc_unique_senders_over_date.csv'\n",
    "unique_recipients_over_date = '../plots/usdc/usdc_unique_recipients_over_date.csv'\n",
    "tx_count_to = '../plots/usdc/usdc_tx_count_to.csv'\n",
    "tx_count_from = '../plots/usdc/usdc_tx_count_from.csv'\n",
    "tx_over_date = '../plots/usdc/usdc_txs_over_date.csv'\n",
    "balances = '../plots/usdc/usdc_balances.csv'\n",
    "avg_gas_over_date = '../plots/usdc/usdc_avg_gas_over_date.csv'\n",
    "avg_value_over_date = '../plots/usdc/usdc_avg_value_over_date.csv'\n",
    "positive_cumulated_balances = '../plots/usdc/usdc_positive_cumulated_balances.csv'\n",
    "circulating_supply = '../plots/usdc/usdc_circulating_supply.csv'\n",
    "unique_recipients_per_day_over_date = '../plots/usdc/usdc_unique_recipients_per_day_over_date.csv'\n",
    "unique_senders_per_day_over_date = '../plots/usdc/usdc_unique_senders_per_day_over_date.csv'\n",
    "exchanges = '../plots/exchanges.csv'\n",
    "\n",
    "#data \n",
    "transfer = '../data/usdc/transfer/0_usdc_transfer_6082465-10370273.csv'\n",
    "mint = '../data/usdc/mint/usdc_mint.csv'\n",
    "burn = '../data/usdc/burn/usdc_burn.csv'"
   ]
  },
  {
   "cell_type": "markdown",
   "metadata": {},
   "source": [
    "<center></center>"
   ]
  },
  {
   "cell_type": "markdown",
   "metadata": {},
   "source": [
    "# Data"
   ]
  },
  {
   "cell_type": "code",
   "execution_count": 3,
   "metadata": {},
   "outputs": [],
   "source": [
    "df = pd.read_csv(transfer)\n",
    "pd.set_option('display.float_format', lambda x: '%.3f' % x)"
   ]
  },
  {
   "cell_type": "markdown",
   "metadata": {},
   "source": [
    "## Basics"
   ]
  },
  {
   "cell_type": "code",
   "execution_count": 4,
   "metadata": {},
   "outputs": [],
   "source": [
    "df['txvalue'] = df['txvalue'].astype(float)/10**dec"
   ]
  },
  {
   "cell_type": "code",
   "execution_count": 5,
   "metadata": {},
   "outputs": [
    {
     "data": {
      "text/html": [
       "<div>\n",
       "<style scoped>\n",
       "    .dataframe tbody tr th:only-of-type {\n",
       "        vertical-align: middle;\n",
       "    }\n",
       "\n",
       "    .dataframe tbody tr th {\n",
       "        vertical-align: top;\n",
       "    }\n",
       "\n",
       "    .dataframe thead th {\n",
       "        text-align: right;\n",
       "    }\n",
       "</style>\n",
       "<table border=\"1\" class=\"dataframe\">\n",
       "  <thead>\n",
       "    <tr style=\"text-align: right;\">\n",
       "      <th></th>\n",
       "      <th>timestamp</th>\n",
       "      <th>blocknumber</th>\n",
       "      <th>txindex</th>\n",
       "      <th>txvalue</th>\n",
       "      <th>gas_price</th>\n",
       "      <th>gas_used</th>\n",
       "    </tr>\n",
       "  </thead>\n",
       "  <tbody>\n",
       "    <tr>\n",
       "      <th>count</th>\n",
       "      <td>2991712.000</td>\n",
       "      <td>2991712.000</td>\n",
       "      <td>2991712.000</td>\n",
       "      <td>2991712.000</td>\n",
       "      <td>2991712.000</td>\n",
       "      <td>2991712.000</td>\n",
       "    </tr>\n",
       "    <tr>\n",
       "      <th>mean</th>\n",
       "      <td>1578075103.840</td>\n",
       "      <td>9235110.935</td>\n",
       "      <td>69.711</td>\n",
       "      <td>19654.911</td>\n",
       "      <td>20520686635.884</td>\n",
       "      <td>385927.692</td>\n",
       "    </tr>\n",
       "    <tr>\n",
       "      <th>std</th>\n",
       "      <td>12929237.595</td>\n",
       "      <td>935130.380</td>\n",
       "      <td>51.528</td>\n",
       "      <td>273109.645</td>\n",
       "      <td>46618869660.360</td>\n",
       "      <td>945830.322</td>\n",
       "    </tr>\n",
       "    <tr>\n",
       "      <th>min</th>\n",
       "      <td>1536604001.000</td>\n",
       "      <td>6307510.000</td>\n",
       "      <td>0.000</td>\n",
       "      <td>0.000</td>\n",
       "      <td>0.000</td>\n",
       "      <td>23570.000</td>\n",
       "    </tr>\n",
       "    <tr>\n",
       "      <th>25%</th>\n",
       "      <td>1568763809.750</td>\n",
       "      <td>8569978.250</td>\n",
       "      <td>28.000</td>\n",
       "      <td>48.836</td>\n",
       "      <td>7000000000.000</td>\n",
       "      <td>39733.000</td>\n",
       "    </tr>\n",
       "    <tr>\n",
       "      <th>50%</th>\n",
       "      <td>1582816426.000</td>\n",
       "      <td>9566426.000</td>\n",
       "      <td>60.000</td>\n",
       "      <td>399.000</td>\n",
       "      <td>13000000000.000</td>\n",
       "      <td>54733.000</td>\n",
       "    </tr>\n",
       "    <tr>\n",
       "      <th>75%</th>\n",
       "      <td>1588318472.000</td>\n",
       "      <td>9979015.000</td>\n",
       "      <td>102.000</td>\n",
       "      <td>2500.000</td>\n",
       "      <td>27000000000.000</td>\n",
       "      <td>210578.000</td>\n",
       "    </tr>\n",
       "    <tr>\n",
       "      <th>max</th>\n",
       "      <td>1593561580.000</td>\n",
       "      <td>10370273.000</td>\n",
       "      <td>503.000</td>\n",
       "      <td>100145359.514</td>\n",
       "      <td>16918478016357.000</td>\n",
       "      <td>10022870.000</td>\n",
       "    </tr>\n",
       "  </tbody>\n",
       "</table>\n",
       "</div>"
      ],
      "text/plain": [
       "           timestamp  blocknumber     txindex       txvalue  \\\n",
       "count    2991712.000  2991712.000 2991712.000   2991712.000   \n",
       "mean  1578075103.840  9235110.935      69.711     19654.911   \n",
       "std     12929237.595   935130.380      51.528    273109.645   \n",
       "min   1536604001.000  6307510.000       0.000         0.000   \n",
       "25%   1568763809.750  8569978.250      28.000        48.836   \n",
       "50%   1582816426.000  9566426.000      60.000       399.000   \n",
       "75%   1588318472.000  9979015.000     102.000      2500.000   \n",
       "max   1593561580.000 10370273.000     503.000 100145359.514   \n",
       "\n",
       "               gas_price     gas_used  \n",
       "count        2991712.000  2991712.000  \n",
       "mean     20520686635.884   385927.692  \n",
       "std      46618869660.360   945830.322  \n",
       "min                0.000    23570.000  \n",
       "25%       7000000000.000    39733.000  \n",
       "50%      13000000000.000    54733.000  \n",
       "75%      27000000000.000   210578.000  \n",
       "max   16918478016357.000 10022870.000  "
      ]
     },
     "execution_count": 5,
     "metadata": {},
     "output_type": "execute_result"
    }
   ],
   "source": [
    "df.describe()"
   ]
  },
  {
   "cell_type": "code",
   "execution_count": 7,
   "metadata": {},
   "outputs": [
    {
     "data": {
      "text/plain": [
       "count     2991712.000\n",
       "mean        19654.911\n",
       "std        273109.645\n",
       "min             0.000\n",
       "25%            48.836\n",
       "50%           399.000\n",
       "75%          2500.000\n",
       "max     100145359.514\n",
       "Name: txvalue, dtype: float64"
      ]
     },
     "execution_count": 7,
     "metadata": {},
     "output_type": "execute_result"
    }
   ],
   "source": [
    "(df['txvalue']/10**6).describe()"
   ]
  },
  {
   "cell_type": "markdown",
   "metadata": {},
   "source": [
    "<center></center>"
   ]
  },
  {
   "cell_type": "markdown",
   "metadata": {},
   "source": [
    "## Dataset"
   ]
  },
  {
   "cell_type": "code",
   "execution_count": 6,
   "metadata": {},
   "outputs": [
    {
     "name": "stdout",
     "output_type": "stream",
     "text": [
      "Start:\n",
      "Block:            6307510            \n",
      "Timestamp:      1536604001     \n",
      "UTC Time:    2018-09-10 20:26:41   \n",
      "\n",
      "End:\n",
      "Block:            10370273           \n",
      "Timestamp:      1593561580     \n",
      "UTC Time:    2020-07-01 01:59:40   \n",
      "\n"
     ]
    }
   ],
   "source": [
    "print('Start:')\n",
    "print('Block: {:^30}\\nTimestamp: {:^20}\\nUTC Time: {:^25}\\n'.format(df['blocknumber'].iloc[0],\n",
    "                                                        df['timestamp'].iloc[0],\n",
    "                                                        str(datetime.fromtimestamp(df['timestamp'].iloc[0]))\n",
    "                                                       ))\n",
    "print('End:')\n",
    "print('Block: {:^30}\\nTimestamp: {:^20}\\nUTC Time: {:^25}\\n'.format(df['blocknumber'].iloc[-1],\n",
    "                                                        df['timestamp'].iloc[-1],\n",
    "                                                        str(datetime.fromtimestamp(df['timestamp'].iloc[-1]))\n",
    "                                                       ))"
   ]
  },
  {
   "cell_type": "markdown",
   "metadata": {},
   "source": [
    "## Total Nr. of Blocks"
   ]
  },
  {
   "cell_type": "code",
   "execution_count": 7,
   "metadata": {
    "scrolled": true
   },
   "outputs": [
    {
     "name": "stdout",
     "output_type": "stream",
     "text": [
      "Total Nr. of Blocks: 4062763\n"
     ]
    }
   ],
   "source": [
    "print('Total Nr. of Blocks: {}'.format(df['blocknumber'].iloc[-1]-df['blocknumber'].iloc[0]))"
   ]
  },
  {
   "cell_type": "markdown",
   "metadata": {},
   "source": [
    "<center></center>"
   ]
  },
  {
   "cell_type": "markdown",
   "metadata": {},
   "source": [
    "## Total Nr. of Transfer Events"
   ]
  },
  {
   "cell_type": "code",
   "execution_count": 8,
   "metadata": {},
   "outputs": [
    {
     "name": "stdout",
     "output_type": "stream",
     "text": [
      "Total Nr. of Events: 2,991,712\n"
     ]
    }
   ],
   "source": [
    "print('Total Nr. of Events: {:,.0f}'.format(df.describe().loc['count','timestamp']))"
   ]
  },
  {
   "cell_type": "markdown",
   "metadata": {},
   "source": [
    "<center></center>"
   ]
  },
  {
   "cell_type": "markdown",
   "metadata": {},
   "source": [
    "## Total Nr. of Addresses"
   ]
  },
  {
   "cell_type": "code",
   "execution_count": 9,
   "metadata": {},
   "outputs": [
    {
     "name": "stdout",
     "output_type": "stream",
     "text": [
      "Total Nr. of Addresses: 778227\n"
     ]
    }
   ],
   "source": [
    "print('Total Nr. of Addresses: {}'.format(len(df['txto'].unique())))"
   ]
  },
  {
   "cell_type": "markdown",
   "metadata": {},
   "source": [
    "<center></center>"
   ]
  },
  {
   "cell_type": "markdown",
   "metadata": {},
   "source": [
    "## Addresses with funds"
   ]
  },
  {
   "cell_type": "code",
   "execution_count": 10,
   "metadata": {},
   "outputs": [
    {
     "name": "stdout",
     "output_type": "stream",
     "text": [
      "Total Nr. of Addresses with funds: 177495\n"
     ]
    }
   ],
   "source": [
    "bal = pd.read_csv(balances)\n",
    "print('Total Nr. of Addresses with funds: {}'.format(len(bal[bal['txvalue']>0])))"
   ]
  },
  {
   "cell_type": "markdown",
   "metadata": {},
   "source": [
    "<center></center>"
   ]
  },
  {
   "cell_type": "markdown",
   "metadata": {},
   "source": [
    "## Avg. Transaction Value"
   ]
  },
  {
   "cell_type": "code",
   "execution_count": 11,
   "metadata": {},
   "outputs": [
    {
     "name": "stdout",
     "output_type": "stream",
     "text": [
      "Avg. Transaction Value: 19,655 USDC\n"
     ]
    }
   ],
   "source": [
    "print('Avg. Transaction Value: {:,.0f} USDC'.format(np.mean(df['txvalue']/ 10**6)))"
   ]
  },
  {
   "cell_type": "markdown",
   "metadata": {},
   "source": [
    "<center></center>"
   ]
  },
  {
   "cell_type": "markdown",
   "metadata": {},
   "source": [
    "## Total Gas Costs"
   ]
  },
  {
   "cell_type": "code",
   "execution_count": 13,
   "metadata": {},
   "outputs": [
    {
     "name": "stdout",
     "output_type": "stream",
     "text": [
      "Total Gas spent for Transfers: 19,143.105 ether\n"
     ]
    }
   ],
   "source": [
    "df['costs'] = (df['gas_price']/10**18) * df['gas_used']\n",
    "print('Total Gas spent for Transfers: {:,.3f} ether'.format(sum(df['costs'])))"
   ]
  },
  {
   "cell_type": "markdown",
   "metadata": {},
   "source": [
    "<center></center>"
   ]
  },
  {
   "cell_type": "markdown",
   "metadata": {},
   "source": [
    "## Initial USDC Supply"
   ]
  },
  {
   "cell_type": "code",
   "execution_count": 15,
   "metadata": {},
   "outputs": [],
   "source": [
    "#first mint event\n",
    "#0xdc6bb2a1aff2dbb2613113984b5fbd560e582c0a4369149402d7ea83b0f5983e"
   ]
  },
  {
   "cell_type": "markdown",
   "metadata": {},
   "source": [
    "<center></center>"
   ]
  },
  {
   "cell_type": "markdown",
   "metadata": {},
   "source": [
    "## Total USDC Supply"
   ]
  },
  {
   "cell_type": "code",
   "execution_count": 4,
   "metadata": {},
   "outputs": [
    {
     "data": {
      "text/plain": [
       "985540179.8800354"
      ]
     },
     "execution_count": 4,
     "metadata": {},
     "output_type": "execute_result"
    }
   ],
   "source": [
    "sum(pd.read_csv(mint)['txvalue']/10**6)-sum(pd.read_csv(burn)['txvalue']/10**6)"
   ]
  },
  {
   "cell_type": "code",
   "execution_count": 5,
   "metadata": {},
   "outputs": [
    {
     "data": {
      "text/plain": [
       "985540179.8800001"
      ]
     },
     "execution_count": 5,
     "metadata": {},
     "output_type": "execute_result"
    }
   ],
   "source": [
    "df = pd.read_csv(transfer)\n",
    "sum(df[df['txfrom'] == '0x0000000000000000000000000000000000000000'][\"txvalue\"].astype(float))/(10**6)- sum(df[df['txto'] == '0x0000000000000000000000000000000000000000'][\"txvalue\"].astype(float))/(10**6)"
   ]
  },
  {
   "cell_type": "markdown",
   "metadata": {},
   "source": [
    "<center></center>"
   ]
  },
  {
   "cell_type": "markdown",
   "metadata": {},
   "source": [
    "<center></center>"
   ]
  },
  {
   "cell_type": "markdown",
   "metadata": {},
   "source": [
    "<center></center>"
   ]
  },
  {
   "cell_type": "markdown",
   "metadata": {},
   "source": [
    "# I. Event analysis"
   ]
  },
  {
   "cell_type": "markdown",
   "metadata": {},
   "source": [
    "## I.I. Mint Event"
   ]
  },
  {
   "cell_type": "markdown",
   "metadata": {},
   "source": [
    "## Plot new issued tokens over date"
   ]
  },
  {
   "cell_type": "code",
   "execution_count": null,
   "metadata": {},
   "outputs": [],
   "source": [
    "print('\\n\\n')\n",
    "fig = plt.figure(figsize=(40,25), dpi=250)\n",
    "ax = fig.subplots()\n",
    "plt.grid()\n",
    "plt.title(r'I s s u e d \\ \\ U S D C'+'\\n', size= 120)\n",
    "ax.yaxis.get_offset_text().set_fontsize(50)\n",
    "plt.xlabel('\\n'+r'D a t e ', size=120)\n",
    "plt.ylabel(r'U S D C'+'\\n', size=120)\n",
    "plt.yticks(fontsize=60)\n",
    "plt.xticks(labels=[\"Okt '18\",\"\\nJan '19\",\n",
    "                   \"Apr '19\",\"\\nJul '19\",\"Oct '19\",\n",
    "                   \"\\nJan '20\",\"Apr '20\",\"\\nJul '20\"], \n",
    "           ticks=[21,113,\n",
    "                  203,294,386,\n",
    "                  478,569,660], fontsize=60)\n",
    "\n",
    "def plot_issue_over_date():\n",
    "    _issue = pd.read_csv(mint)\n",
    "    iss = _issue.loc[:, ['timestamp', 'txvalue']]\n",
    "    iss['utc'] = iss['timestamp'].apply(lambda x: str(datetime.utcfromtimestamp(x))[0:10])\n",
    "    iss = iss.groupby('utc', as_index = False)['txvalue'].sum()\n",
    "    a = iss['utc'].iloc[0]\n",
    "    b = iss['utc'].iloc[-1]\n",
    "    idx = pd.date_range(a,b)\n",
    "    iss = iss.set_index('utc')\n",
    "    iss.index = pd.DatetimeIndex(iss.index)\n",
    "    iss = iss.reindex(idx, fill_value=0)\n",
    "    counter = 0\n",
    "    for i in range(0, len(iss)):\n",
    "        plt.plot([counter,counter], [0, iss['txvalue'].iloc[counter]/(10**6)], color= 'black', linewidth=3)\n",
    "        counter += 1\n",
    "    return \n",
    "\n",
    "plt.tight_layout(pad=5)\n",
    "dfis = plot_issue_over_date()\n",
    "plt.savefig('../pics/usdc/usdc_issued_usdc_over_date.pdf')"
   ]
  },
  {
   "cell_type": "markdown",
   "metadata": {},
   "source": [
    "## Further info"
   ]
  },
  {
   "cell_type": "code",
   "execution_count": 17,
   "metadata": {},
   "outputs": [
    {
     "name": "stdout",
     "output_type": "stream",
     "text": [
      "Issue Events: 5358\n",
      "Issued USDC: 2,645,276,543\n",
      "\n",
      "Largest issue: 35,028,441 USDC\n",
      " . . . to address: 0x55fe002aeff02f77364de339a1292923a15844b8\n",
      "\n"
     ]
    }
   ],
   "source": [
    "df = pd.read_csv(mint)\n",
    "#df[df['txvalue'] == max(df['txvalue'])]\n",
    "print('Issue Events: {}\\nIssued USDC: {:,.0f}\\n'.format(len(df), sum(df['txvalue'])/10**6, ':,0f'))\n",
    "print('Largest issue: {:,.0f} USDC\\n . . . to address: {}\\n'.format(df.loc[3274, 'txvalue']//10**6,'0x55fe002aeff02f77364de339a1292923a15844b8'))"
   ]
  },
  {
   "cell_type": "markdown",
   "metadata": {},
   "source": [
    "<center></center>"
   ]
  },
  {
   "cell_type": "markdown",
   "metadata": {},
   "source": [
    "<center></center>"
   ]
  },
  {
   "cell_type": "markdown",
   "metadata": {},
   "source": [
    "## I.II. Burn Event"
   ]
  },
  {
   "cell_type": "markdown",
   "metadata": {},
   "source": [
    "## Plot burned tokens over date"
   ]
  },
  {
   "cell_type": "code",
   "execution_count": null,
   "metadata": {},
   "outputs": [],
   "source": [
    "print('\\n\\n')\n",
    "fig = plt.figure(figsize=(40,25))\n",
    "ax = fig.subplots()\n",
    "plt.grid()\n",
    "plt.title(r'B u r n e d \\ \\ U S D C \\ \\ o v e r \\ \\ D a t e'+'\\n', size= 120)\n",
    "ax.yaxis.get_offset_text().set_fontsize(50)\n",
    "plt.xlabel('\\n'+r'D a t e', size=120)\n",
    "plt.ylabel(r'U S D C'+'\\n', size=120)\n",
    "plt.yticks(fontsize=60)\n",
    "plt.xticks(labels=[\"Okt '18\",\"\\nJan '19\",\n",
    "                   \"Apr '19\",\"\\nJul '19\",\"Oct '19\",\n",
    "                   \"\\nJan '20\",\"Apr '20\",\"\\nJul '20\"], \n",
    "           ticks=[6,98,\n",
    "                  188,279,371,\n",
    "                  463,554,645], fontsize=60)\n",
    "\n",
    "def plot_burn_over_date():\n",
    "    _dbf = pd.read_csv(burn)\n",
    "    dbf = _dbf.loc[:, ['timestamp', 'txvalue']]\n",
    "    dbf['utc'] = dbf['timestamp'].apply(lambda x: str(datetime.utcfromtimestamp(x))[0:10])\n",
    "    dbf = dbf.groupby('utc', as_index = False)['txvalue'].sum()\n",
    "    a = dbf['utc'].iloc[0]\n",
    "    b = dbf['utc'].iloc[-1]\n",
    "    idx = pd.date_range(a,b)\n",
    "    dbf = dbf.set_index('utc')\n",
    "    dbf.index = pd.DatetimeIndex(dbf.index)\n",
    "    dbf = dbf.reindex(idx, fill_value=0)\n",
    "    counter = 0\n",
    "    for i in range(0, len(dbf)):\n",
    "        plt.plot([counter,counter], [0, dbf['txvalue'].iloc[counter]/(10**6)], color= 'black', linewidth=3)\n",
    "        counter += 1\n",
    "    \n",
    "    return\n",
    "\n",
    "plt.tight_layout(pad=5)\n",
    "plot_burn_over_date()\n",
    "plt.savefig('../pics/usdc/usdc_burned_usdc_over_date.pdf')"
   ]
  },
  {
   "cell_type": "markdown",
   "metadata": {},
   "source": [
    "## Further info"
   ]
  },
  {
   "cell_type": "code",
   "execution_count": 20,
   "metadata": {},
   "outputs": [
    {
     "name": "stdout",
     "output_type": "stream",
     "text": [
      "Burn Events: 4659\n",
      "Burned usdc: 1,659,736,363\n",
      ". . . from 3 addesses\n",
      "\n",
      "Largest burn: 200 usdc\n",
      " . . . from address: 0x24bdd8771b08c2ea6fe0e898126e65bd49021be3\n",
      "\n"
     ]
    }
   ],
   "source": [
    "df = pd.read_csv(burn)\n",
    "\n",
    "print('Burn Events: {}\\nBurned usdc: {:,.0f}'.format(len(df), sum(df['txvalue'])/10**6, ':,0f'))\n",
    "print('. . . from {} addesses\\n'.format(len(df['address'].unique())))\n",
    "print('Largest burn: {:,.0f} usdc\\n . . . from address: {}\\n'.format(df.groupby('address')['txvalue'].sum()[0]/10**6,df.groupby(\"address\")[\"txvalue\"].sum().index[0]))"
   ]
  },
  {
   "cell_type": "markdown",
   "metadata": {},
   "source": [
    "<center></center>"
   ]
  },
  {
   "cell_type": "markdown",
   "metadata": {},
   "source": [
    "<center></center>"
   ]
  },
  {
   "cell_type": "markdown",
   "metadata": {},
   "source": [
    "## Plot circulating supply"
   ]
  },
  {
   "cell_type": "code",
   "execution_count": null,
   "metadata": {},
   "outputs": [],
   "source": [
    "print('\\n\\n')\n",
    "fig = plt.figure(figsize=(20,12), dpi=500)\n",
    "ax = fig.subplots()\n",
    "plt.grid(True)\n",
    "plt.title(r'C i r c u l a t i n g \\ \\ U S D C \\ \\ S u p p l y'+'\\n', size=60)\n",
    "plt.xlabel('\\n'+r'D a t e', size= 60)\n",
    "plt.ylabel(r'U S D C'+'\\n', size= 60)\n",
    "ax.yaxis.get_offset_text().set_fontsize(25)\n",
    "\n",
    "plt.yticks(fontsize=30)\n",
    "plt.xticks(labels=[\"Okt '18\",\"\\nJan '19\",\n",
    "                   \"Apr '19\",\"\\nJul '19\",\"Oct '19\",\n",
    "                   \"\\nJan '20\",\"Apr '20\",\"\\nJul '20\"], \n",
    "           ticks=[21,113,\n",
    "                  203,294,386,\n",
    "                  478,569,660], fontsize=30)\n",
    "\n",
    "circ = pd.read_csv(circulating_supply, index_col='Unnamed: 0')\n",
    "\n",
    "plt.plot(range(0, 660), circ['txvalue'].cumsum()/10**6, color='black', linewidth = 4, label = 'USDC supply')\n",
    "plt.fill_between(range(0, 660),0 , circ['txvalue'].cumsum()/10**6, alpha=0.2, facecolor='#2D728F')\n",
    "lgnd = plt.legend(loc='upper left', fontsize=40)\n",
    "plt.tight_layout(pad=5)\n",
    "plt.savefig('../pics/usdc/usdc_cirulating_supply.pdf')"
   ]
  },
  {
   "cell_type": "markdown",
   "metadata": {},
   "source": [
    "<center></center>"
   ]
  },
  {
   "cell_type": "markdown",
   "metadata": {},
   "source": [
    "<center></center>"
   ]
  },
  {
   "cell_type": "markdown",
   "metadata": {},
   "source": [
    "<center></center>"
   ]
  },
  {
   "cell_type": "markdown",
   "metadata": {},
   "source": [
    "## I.III. Transfer Event"
   ]
  },
  {
   "cell_type": "markdown",
   "metadata": {},
   "source": [
    "## Plot transfers over date"
   ]
  },
  {
   "cell_type": "code",
   "execution_count": null,
   "metadata": {},
   "outputs": [],
   "source": [
    "print('\\n\\n')\n",
    "fig = plt.figure(figsize=(20,12), dpi=500)\n",
    "ax = fig.subplots()\n",
    "plt.grid(True)\n",
    "plt.title(r'U S D C \\ \\ T r a n s f e r s'+'\\n', size=60)\n",
    "plt.xlabel('\\n'+r'D a t e', size= 50)\n",
    "plt.ylabel(r'U S D C'+'\\n', size= 50)\n",
    "plt.yticks(np.arange(0, 30001, 5000), \n",
    "           np.vectorize(lambda x: f'{x:,.0f}')(np.arange(0, 30001, 5000)), \n",
    "           fontsize=30)\n",
    "plt.xticks(labels=[\"Okt '18\",\"\\nJan '19\",\n",
    "                   \"Apr '19\",\"\\nJul '19\",\"Oct '19\",\n",
    "                   \"\\nJan '20\",\"Apr '20\",\"\\nJul '20\"], \n",
    "           ticks=[21,113,\n",
    "                  203,294,386,\n",
    "                  478,569,660], fontsize=30)\n",
    "\n",
    "def plot_txs_over_date(df, lwd, label, col = '#2D728F', plusbetween = False):\n",
    "    plt.plot(np.arange(0 , len(df['txs'])), df['txs'], color = col, linewidth = lwd, label = label)\n",
    "    if plusbetween:\n",
    "        plt.fill_between(np.arange(0 , len(df['txs'])),0 , df['txs'], alpha=0.1, facecolor='#2D728F')\n",
    " \n",
    "    \n",
    "plot_txs_over_date(df = pd.read_csv(tx_over_date, index_col=0), \n",
    "                   col = 'black', lwd = 2, label = 'Transfers', plusbetween=True)\n",
    "\n",
    "plot_txs_over_date(pd.read_csv(unique_senders_per_day_over_date, index_col='Unnamed: 0'), \n",
    "                   col='#9DB469', lwd = 2, label =  'Unique Senders per day')\n",
    "\n",
    "plot_txs_over_date(pd.read_csv(unique_recipients_per_day_over_date, index_col='Unnamed: 0'), \n",
    "                   lwd = 2, label = 'Unique Recipients per day')\n",
    "\n",
    "\n",
    "\n",
    "\n",
    "lgnd = ax.legend(loc='upper left', fontsize=35)\n",
    "lgnd.legendHandles[0].set_linewidth(5.0)\n",
    "lgnd.legendHandles[1].set_linewidth(5.0)\n",
    "lgnd.legendHandles[2].set_linewidth(5.0)\n",
    "\n",
    "plt.tight_layout(pad=5)\n",
    "plt.savefig('../pics/usdc/usdc_tx_over_date.pdf')\n",
    "plt.show()"
   ]
  },
  {
   "cell_type": "markdown",
   "metadata": {},
   "source": [
    "<center></center>"
   ]
  },
  {
   "cell_type": "markdown",
   "metadata": {},
   "source": [
    "## Most active addresses"
   ]
  },
  {
   "cell_type": "markdown",
   "metadata": {},
   "source": [
    "From:"
   ]
  },
  {
   "cell_type": "code",
   "execution_count": 23,
   "metadata": {},
   "outputs": [
    {
     "data": {
      "text/html": [
       "<div>\n",
       "<style scoped>\n",
       "    .dataframe tbody tr th:only-of-type {\n",
       "        vertical-align: middle;\n",
       "    }\n",
       "\n",
       "    .dataframe tbody tr th {\n",
       "        vertical-align: top;\n",
       "    }\n",
       "\n",
       "    .dataframe thead th {\n",
       "        text-align: right;\n",
       "    }\n",
       "</style>\n",
       "<table border=\"1\" class=\"dataframe\">\n",
       "  <thead>\n",
       "    <tr style=\"text-align: right;\">\n",
       "      <th></th>\n",
       "      <th>txs</th>\n",
       "      <th>tag</th>\n",
       "    </tr>\n",
       "  </thead>\n",
       "  <tbody>\n",
       "    <tr>\n",
       "      <th>0xd152f549545093347a162dce210e7293f1452150</th>\n",
       "      <td>107945</td>\n",
       "      <td>Disperse.app</td>\n",
       "    </tr>\n",
       "    <tr>\n",
       "      <th>0x97dec872013f6b5fb443861090ad931542878126</th>\n",
       "      <td>74945</td>\n",
       "      <td>Uniswap: USDC</td>\n",
       "    </tr>\n",
       "    <tr>\n",
       "      <th>0x3f5ce5fbfe3e9af3971dd833d26ba9b5c936f0be</th>\n",
       "      <td>68905</td>\n",
       "      <td>Binance</td>\n",
       "    </tr>\n",
       "    <tr>\n",
       "      <th>0x65bf64ff5f51272f729bdcd7acfb00677ced86cd</th>\n",
       "      <td>54927</td>\n",
       "      <td>Kyber: Contract</td>\n",
       "    </tr>\n",
       "    <tr>\n",
       "      <th>0x39aa39c021dfbae8fac545936693ac917d5e7563</th>\n",
       "      <td>40434</td>\n",
       "      <td>Compound USD Coin</td>\n",
       "    </tr>\n",
       "    <tr>\n",
       "      <th>0xd551234ae421e3bcba99a0da6d736074f22192ff</th>\n",
       "      <td>38190</td>\n",
       "      <td>Binance 2</td>\n",
       "    </tr>\n",
       "    <tr>\n",
       "      <th>0x0681d8db095565fe8a346fa0277bffde9c0edbbf</th>\n",
       "      <td>38089</td>\n",
       "      <td>Binance 4</td>\n",
       "    </tr>\n",
       "    <tr>\n",
       "      <th>0x564286362092d8e7936f0549571a803b203aaced</th>\n",
       "      <td>37665</td>\n",
       "      <td>Binance 3</td>\n",
       "    </tr>\n",
       "    <tr>\n",
       "      <th>0x11111254369792b2ca5d084ab5eea397ca8fa48b</th>\n",
       "      <td>27518</td>\n",
       "      <td>1inch.exchange</td>\n",
       "    </tr>\n",
       "    <tr>\n",
       "      <th>0xa910f92acdaf488fa6ef02174fb86208ad7722ba</th>\n",
       "      <td>27358</td>\n",
       "      <td>Poloniex 4</td>\n",
       "    </tr>\n",
       "    <tr>\n",
       "      <th>0x56178a0d5f301baf6cf3e1cd53d9863437345bf9</th>\n",
       "      <td>25719</td>\n",
       "      <td>-</td>\n",
       "    </tr>\n",
       "  </tbody>\n",
       "</table>\n",
       "</div>"
      ],
      "text/plain": [
       "                                               txs                tag\n",
       "0xd152f549545093347a162dce210e7293f1452150  107945       Disperse.app\n",
       "0x97dec872013f6b5fb443861090ad931542878126   74945      Uniswap: USDC\n",
       "0x3f5ce5fbfe3e9af3971dd833d26ba9b5c936f0be   68905            Binance\n",
       "0x65bf64ff5f51272f729bdcd7acfb00677ced86cd   54927    Kyber: Contract\n",
       "0x39aa39c021dfbae8fac545936693ac917d5e7563   40434  Compound USD Coin\n",
       "0xd551234ae421e3bcba99a0da6d736074f22192ff   38190          Binance 2\n",
       "0x0681d8db095565fe8a346fa0277bffde9c0edbbf   38089          Binance 4\n",
       "0x564286362092d8e7936f0549571a803b203aaced   37665          Binance 3\n",
       "0x11111254369792b2ca5d084ab5eea397ca8fa48b   27518     1inch.exchange\n",
       "0xa910f92acdaf488fa6ef02174fb86208ad7722ba   27358         Poloniex 4\n",
       "0x56178a0d5f301baf6cf3e1cd53d9863437345bf9   25719                  -"
      ]
     },
     "execution_count": 23,
     "metadata": {},
     "output_type": "execute_result"
    }
   ],
   "source": [
    "fr = pd.read_csv(tx_count_from, index_col='Unnamed: 0').sort_values('txs', ascending = False)\n",
    "to = pd.read_csv(tx_count_to, index_col='Unnamed: 0').sort_values('txs', ascending = False)\n",
    "fr = pd.DataFrame(fr.loc[:fr.index[10],'txs'])\n",
    "fr['tag'] = ['Disperse.app', 'Uniswap: USDC', 'Binance', 'Kyber: Contract', 'Compound USD Coin', 'Binance 2', 'Binance 4', 'Binance 3', '1inch.exchange', 'Poloniex 4', '-']\n",
    "fr"
   ]
  },
  {
   "cell_type": "markdown",
   "metadata": {},
   "source": [
    "To:"
   ]
  },
  {
   "cell_type": "code",
   "execution_count": 24,
   "metadata": {},
   "outputs": [
    {
     "data": {
      "text/html": [
       "<div>\n",
       "<style scoped>\n",
       "    .dataframe tbody tr th:only-of-type {\n",
       "        vertical-align: middle;\n",
       "    }\n",
       "\n",
       "    .dataframe tbody tr th {\n",
       "        vertical-align: top;\n",
       "    }\n",
       "\n",
       "    .dataframe thead th {\n",
       "        text-align: right;\n",
       "    }\n",
       "</style>\n",
       "<table border=\"1\" class=\"dataframe\">\n",
       "  <thead>\n",
       "    <tr style=\"text-align: right;\">\n",
       "      <th></th>\n",
       "      <th>txs</th>\n",
       "      <th>tag</th>\n",
       "    </tr>\n",
       "  </thead>\n",
       "  <tbody>\n",
       "    <tr>\n",
       "      <th>0x3f5ce5fbfe3e9af3971dd833d26ba9b5c936f0be</th>\n",
       "      <td>162764</td>\n",
       "      <td>Binance</td>\n",
       "    </tr>\n",
       "    <tr>\n",
       "      <th>0x97dec872013f6b5fb443861090ad931542878126</th>\n",
       "      <td>88425</td>\n",
       "      <td>Uniswap: USDC</td>\n",
       "    </tr>\n",
       "    <tr>\n",
       "      <th>0x65bf64ff5f51272f729bdcd7acfb00677ced86cd</th>\n",
       "      <td>53334</td>\n",
       "      <td>Kyber: Contract</td>\n",
       "    </tr>\n",
       "    <tr>\n",
       "      <th>0x39aa39c021dfbae8fac545936693ac917d5e7563</th>\n",
       "      <td>48035</td>\n",
       "      <td>Compound USD Coin</td>\n",
       "    </tr>\n",
       "    <tr>\n",
       "      <th>0x11111254369792b2ca5d084ab5eea397ca8fa48b</th>\n",
       "      <td>25217</td>\n",
       "      <td>1inch.exchange</td>\n",
       "    </tr>\n",
       "    <tr>\n",
       "      <th>0x9ae49c0d7f8f9ef4b864e004fe86ac8294e20950</th>\n",
       "      <td>24682</td>\n",
       "      <td>Kyber: Old Contract</td>\n",
       "    </tr>\n",
       "    <tr>\n",
       "      <th>0x04046027549f739edfd5b2a78efdbaf0f0bf4514</th>\n",
       "      <td>24513</td>\n",
       "      <td>BlockFi</td>\n",
       "    </tr>\n",
       "    <tr>\n",
       "      <th>0x65b0bf8ee4947edd2a500d74e50a3d757dc79de0</th>\n",
       "      <td>21353</td>\n",
       "      <td>Nexo: Wallet</td>\n",
       "    </tr>\n",
       "    <tr>\n",
       "      <th>0x32a3256a4b15badd4a6e072a03d23404d925a5cf</th>\n",
       "      <td>19751</td>\n",
       "      <td>Celsius Network: Contract</td>\n",
       "    </tr>\n",
       "    <tr>\n",
       "      <th>0x56178a0d5f301baf6cf3e1cd53d9863437345bf9</th>\n",
       "      <td>19420</td>\n",
       "      <td>-</td>\n",
       "    </tr>\n",
       "    <tr>\n",
       "      <th>0xaf38668f4719ecf9452dc0300be3f6c83cbf3721</th>\n",
       "      <td>17283</td>\n",
       "      <td>Nuo Network: Kernel Escrow</td>\n",
       "    </tr>\n",
       "  </tbody>\n",
       "</table>\n",
       "</div>"
      ],
      "text/plain": [
       "                                               txs                         tag\n",
       "0x3f5ce5fbfe3e9af3971dd833d26ba9b5c936f0be  162764                     Binance\n",
       "0x97dec872013f6b5fb443861090ad931542878126   88425               Uniswap: USDC\n",
       "0x65bf64ff5f51272f729bdcd7acfb00677ced86cd   53334             Kyber: Contract\n",
       "0x39aa39c021dfbae8fac545936693ac917d5e7563   48035           Compound USD Coin\n",
       "0x11111254369792b2ca5d084ab5eea397ca8fa48b   25217              1inch.exchange\n",
       "0x9ae49c0d7f8f9ef4b864e004fe86ac8294e20950   24682         Kyber: Old Contract\n",
       "0x04046027549f739edfd5b2a78efdbaf0f0bf4514   24513                     BlockFi\n",
       "0x65b0bf8ee4947edd2a500d74e50a3d757dc79de0   21353                Nexo: Wallet\n",
       "0x32a3256a4b15badd4a6e072a03d23404d925a5cf   19751  Celsius Network: Contract \n",
       "0x56178a0d5f301baf6cf3e1cd53d9863437345bf9   19420                           -\n",
       "0xaf38668f4719ecf9452dc0300be3f6c83cbf3721   17283  Nuo Network: Kernel Escrow"
      ]
     },
     "execution_count": 24,
     "metadata": {},
     "output_type": "execute_result"
    }
   ],
   "source": [
    "to = pd.DataFrame(to.loc[:to.index[10],'txs'])\n",
    "to['tag'] = ['Binance', 'Uniswap: USDC', 'Kyber: Contract', 'Compound USD Coin', '1inch.exchange', 'Kyber: Old Contract', 'BlockFi', 'Nexo: Wallet', 'Celsius Network: Contract ', '-', 'Nuo Network: Kernel Escrow']\n",
    "to"
   ]
  },
  {
   "cell_type": "markdown",
   "metadata": {},
   "source": [
    "<center></center>"
   ]
  },
  {
   "cell_type": "markdown",
   "metadata": {},
   "source": [
    "<center></center>"
   ]
  },
  {
   "cell_type": "markdown",
   "metadata": {},
   "source": [
    "## Activity distribution"
   ]
  },
  {
   "cell_type": "code",
   "execution_count": 25,
   "metadata": {},
   "outputs": [
    {
     "name": "stdout",
     "output_type": "stream",
     "text": [
      "778574 addresses in total\n"
     ]
    },
    {
     "data": {
      "text/html": [
       "<div>\n",
       "<style scoped>\n",
       "    .dataframe tbody tr th:only-of-type {\n",
       "        vertical-align: middle;\n",
       "    }\n",
       "\n",
       "    .dataframe tbody tr th {\n",
       "        vertical-align: top;\n",
       "    }\n",
       "\n",
       "    .dataframe thead th {\n",
       "        text-align: right;\n",
       "    }\n",
       "</style>\n",
       "<table border=\"1\" class=\"dataframe\">\n",
       "  <thead>\n",
       "    <tr style=\"text-align: right;\">\n",
       "      <th></th>\n",
       "      <th>Transactions</th>\n",
       "      <th>Addresses</th>\n",
       "    </tr>\n",
       "  </thead>\n",
       "  <tbody>\n",
       "    <tr>\n",
       "      <th>0</th>\n",
       "      <td>&gt; 500.000</td>\n",
       "      <td>0</td>\n",
       "    </tr>\n",
       "    <tr>\n",
       "      <th>1</th>\n",
       "      <td>100.000-500.000</td>\n",
       "      <td>4</td>\n",
       "    </tr>\n",
       "    <tr>\n",
       "      <th>2</th>\n",
       "      <td>50.000-100.000</td>\n",
       "      <td>2</td>\n",
       "    </tr>\n",
       "    <tr>\n",
       "      <th>3</th>\n",
       "      <td>10.000-50.000</td>\n",
       "      <td>48</td>\n",
       "    </tr>\n",
       "    <tr>\n",
       "      <th>4</th>\n",
       "      <td>1.000-10.000</td>\n",
       "      <td>283</td>\n",
       "    </tr>\n",
       "    <tr>\n",
       "      <th>5</th>\n",
       "      <td>100-1.000</td>\n",
       "      <td>2430</td>\n",
       "    </tr>\n",
       "    <tr>\n",
       "      <th>6</th>\n",
       "      <td>10-100</td>\n",
       "      <td>40673</td>\n",
       "    </tr>\n",
       "    <tr>\n",
       "      <th>7</th>\n",
       "      <td>&lt; 10</td>\n",
       "      <td>740553</td>\n",
       "    </tr>\n",
       "    <tr>\n",
       "      <th>8</th>\n",
       "      <td>1</td>\n",
       "      <td>39655</td>\n",
       "    </tr>\n",
       "  </tbody>\n",
       "</table>\n",
       "</div>"
      ],
      "text/plain": [
       "      Transactions  Addresses\n",
       "0        > 500.000          0\n",
       "1  100.000-500.000          4\n",
       "2   50.000-100.000          2\n",
       "3    10.000-50.000         48\n",
       "4     1.000-10.000        283\n",
       "5        100-1.000       2430\n",
       "6           10-100      40673\n",
       "7             < 10     740553\n",
       "8                1      39655"
      ]
     },
     "execution_count": 25,
     "metadata": {},
     "output_type": "execute_result"
    }
   ],
   "source": [
    "df_from = pd.read_csv(tx_count_from, index_col=0)\n",
    "df_to = pd.read_csv(tx_count_to, index_col=0)\n",
    "df_all = pd.concat([df_from, df_to])\n",
    "df = df_all.groupby(df_all.index).sum()\n",
    "print('{} addresses in total'.format(len(df)))\n",
    "df = df.sort_values('txs')\n",
    "gr0 = len(df.loc[df['txs'] >= 500000])\n",
    "gra = len(df.loc[df['txs'] >= 100000]) - gr0 \n",
    "grb = len(df.loc[df['txs'] >= 50000]) - gr0 - gra\n",
    "grc = len(df.loc[df['txs'] >= 10000]) - gr0 - gra - grb\n",
    "grd = len(df.loc[df['txs'] >= 1000]) - gr0 - gra - grb - grc\n",
    "gre = len(df.loc[df['txs'] >= 100]) - gr0 - gra - grb - grc - grd\n",
    "grf = len(df.loc[df['txs'] >= 10]) - gr0 - gra - grb - grc - grd - gre\n",
    "grg = len(df.loc[df['txs'] <= 10])\n",
    "grh = len(df.loc[df['txs'] == 1]) \n",
    "pd.DataFrame({'Transactions': ['> 500.000','100.000-500.000',\n",
    "                               '50.000-100.000',\n",
    "                               '10.000-50.000',\n",
    "                               '1.000-10.000',\n",
    "                               '100-1.000',\n",
    "                               '10-100',\n",
    "                               '< 10', \n",
    "                               '1'], \n",
    "              'Addresses':[gr0,gra,grb,grc,grd,gre,grf,grg,grh]\n",
    "             })"
   ]
  },
  {
   "cell_type": "markdown",
   "metadata": {},
   "source": [
    "<center></center>"
   ]
  },
  {
   "cell_type": "markdown",
   "metadata": {},
   "source": [
    "<center></center>"
   ]
  },
  {
   "cell_type": "markdown",
   "metadata": {},
   "source": [
    "## Plot average transfer amount"
   ]
  },
  {
   "cell_type": "markdown",
   "metadata": {},
   "source": [
    "## Jan '20 - Jul '20"
   ]
  },
  {
   "cell_type": "code",
   "execution_count": null,
   "metadata": {},
   "outputs": [],
   "source": [
    "print('\\n\\n')\n",
    "df = pd.read_csv(avg_value_over_date, index_col=0)\n",
    "df = df.loc[df.index[478]:,:]\n",
    "plt.figure(figsize=(12, 7), dpi=800)\n",
    "\n",
    "plt.grid(True)\n",
    "plt.plot(np.arange(0 , len(df.index.tolist())), df['txvalue'], color = 'black', label = 'Avg. Amount/Day', linewidth = 2)\n",
    "plt.fill_between(np.arange(0 , len(df.index.tolist())),0 , df['txvalue'], alpha=0.2, facecolor='#2D728F')\n",
    "plt.xlabel('\\n'+'D a t e', fontsize=45)\n",
    "plt.ylabel('U S D C'+'\\n', fontsize=35)\n",
    "plt.title(\"A v e r a g e \\ \\ T r a n s f e r \\ \\ A m o u n t\"+\"\\n\"+\"J a n \\ \\ ' 2 0 \\ \\ - \\ \\ J u l \\ \\ ' 2 0\\n\", size = 30)\n",
    "plt.legend(loc='upper right', fontsize=20, shadow= True)\n",
    "plt.ticklabel_format(style = 'plain')\n",
    "plt.xticks(labels=[\"\\nJan '20\",\"Feb '20\",\"\\nMar '20\",\"Apr '20\",\"\\nMay '20\",\"Jun '20\",\"\\nJul '20\"], \n",
    "           ticks=[0,31,60,90,121,152,182], fontsize=23) \n",
    "plt.yticks(np.arange(0, 50001, 10000), \n",
    "           np.vectorize(lambda x: f'{x:,.0f}')(np.arange(0, 50001, 10000)), \n",
    "           fontsize=15)\n",
    "plt.tight_layout(pad=1)\n",
    "plt.savefig('../pics/usdc/usdc_avgtxvalue_jan20.pdf')"
   ]
  },
  {
   "cell_type": "markdown",
   "metadata": {},
   "source": [
    "<center></center>"
   ]
  },
  {
   "cell_type": "markdown",
   "metadata": {},
   "source": [
    "## Further Info"
   ]
  },
  {
   "cell_type": "code",
   "execution_count": 27,
   "metadata": {},
   "outputs": [
    {
     "data": {
      "text/html": [
       "<div>\n",
       "<style scoped>\n",
       "    .dataframe tbody tr th:only-of-type {\n",
       "        vertical-align: middle;\n",
       "    }\n",
       "\n",
       "    .dataframe tbody tr th {\n",
       "        vertical-align: top;\n",
       "    }\n",
       "\n",
       "    .dataframe thead th {\n",
       "        text-align: right;\n",
       "    }\n",
       "</style>\n",
       "<table border=\"1\" class=\"dataframe\">\n",
       "  <thead>\n",
       "    <tr style=\"text-align: right;\">\n",
       "      <th></th>\n",
       "      <th>txvalue</th>\n",
       "    </tr>\n",
       "  </thead>\n",
       "  <tbody>\n",
       "    <tr>\n",
       "      <th>count</th>\n",
       "      <td>182.000</td>\n",
       "    </tr>\n",
       "    <tr>\n",
       "      <th>mean</th>\n",
       "      <td>16167.790</td>\n",
       "    </tr>\n",
       "    <tr>\n",
       "      <th>std</th>\n",
       "      <td>8216.938</td>\n",
       "    </tr>\n",
       "    <tr>\n",
       "      <th>min</th>\n",
       "      <td>4850.018</td>\n",
       "    </tr>\n",
       "    <tr>\n",
       "      <th>25%</th>\n",
       "      <td>10625.421</td>\n",
       "    </tr>\n",
       "    <tr>\n",
       "      <th>50%</th>\n",
       "      <td>14527.489</td>\n",
       "    </tr>\n",
       "    <tr>\n",
       "      <th>75%</th>\n",
       "      <td>19706.437</td>\n",
       "    </tr>\n",
       "    <tr>\n",
       "      <th>max</th>\n",
       "      <td>46592.556</td>\n",
       "    </tr>\n",
       "  </tbody>\n",
       "</table>\n",
       "</div>"
      ],
      "text/plain": [
       "        txvalue\n",
       "count   182.000\n",
       "mean  16167.790\n",
       "std    8216.938\n",
       "min    4850.018\n",
       "25%   10625.421\n",
       "50%   14527.489\n",
       "75%   19706.437\n",
       "max   46592.556"
      ]
     },
     "execution_count": 27,
     "metadata": {},
     "output_type": "execute_result"
    }
   ],
   "source": [
    "df.describe()"
   ]
  },
  {
   "cell_type": "markdown",
   "metadata": {},
   "source": [
    "<center></center>"
   ]
  },
  {
   "cell_type": "markdown",
   "metadata": {},
   "source": [
    "<center></center>"
   ]
  },
  {
   "cell_type": "markdown",
   "metadata": {},
   "source": [
    "## Plot average gas costs"
   ]
  },
  {
   "cell_type": "markdown",
   "metadata": {},
   "source": [
    "## Jan '20 - Jul '20"
   ]
  },
  {
   "cell_type": "code",
   "execution_count": null,
   "metadata": {},
   "outputs": [],
   "source": [
    "print('\\n\\n')\n",
    "df = pd.read_csv(avg_gas_over_date)\n",
    "df = df.loc[df.index[478]:,:]\n",
    "plt.figure(figsize=(12, 7), dpi=800)\n",
    "plt.grid(True)\n",
    "plt.plot(np.arange(0 , len(df.index.tolist())), df['gas'], color = 'black', label = 'Avg. Gas Costs/Day', linewidth = 2)\n",
    "plt.fill_between(np.arange(0 , len(df.index.tolist())),0 , df['gas'], alpha=0.2, facecolor='#2D728F')\n",
    "plt.xlabel('\\n'+'D a t e', fontsize=35)\n",
    "plt.ylabel('E t h e r'+'\\n', fontsize=30)\n",
    "plt.title(\"U S D C\\nA v g. \\ \\ G a s \\ \\ C o s t s\\n\", size = 30)\n",
    "lgnd = plt.legend(loc='upper left', fontsize=20, shadow= True)\n",
    "plt.ticklabel_format(style = 'plain')\n",
    "plt.xticks(labels=[\"\\nJan '20\",\"Feb '20\",\"\\nMar '20\",\"Apr '20\",\"\\nMay '20\",\"Jun '20\",\"\\nJul '20\"], \n",
    "           ticks=[0,31,60,90,121,152,182], fontsize=20) \n",
    "plt.yticks(np.arange(0, 0.05, 0.01), \n",
    "           np.vectorize(lambda x: f'{x:,.3f}')(np.arange(0, 0.05, 0.01)), \n",
    "           fontsize=15)\n",
    "plt.tight_layout(pad=1)\n",
    "lgnd.legendHandles[0].set_linewidth(3.0)\n",
    "plt.savefig('../pics/usdc/usdc_avggascosts_jan20.pdf') "
   ]
  },
  {
   "cell_type": "code",
   "execution_count": 29,
   "metadata": {},
   "outputs": [
    {
     "data": {
      "text/html": [
       "<div>\n",
       "<style scoped>\n",
       "    .dataframe tbody tr th:only-of-type {\n",
       "        vertical-align: middle;\n",
       "    }\n",
       "\n",
       "    .dataframe tbody tr th {\n",
       "        vertical-align: top;\n",
       "    }\n",
       "\n",
       "    .dataframe thead th {\n",
       "        text-align: right;\n",
       "    }\n",
       "</style>\n",
       "<table border=\"1\" class=\"dataframe\">\n",
       "  <thead>\n",
       "    <tr style=\"text-align: right;\">\n",
       "      <th></th>\n",
       "      <th>gas</th>\n",
       "    </tr>\n",
       "  </thead>\n",
       "  <tbody>\n",
       "    <tr>\n",
       "      <th>count</th>\n",
       "      <td>182.000</td>\n",
       "    </tr>\n",
       "    <tr>\n",
       "      <th>mean</th>\n",
       "      <td>0.007</td>\n",
       "    </tr>\n",
       "    <tr>\n",
       "      <th>std</th>\n",
       "      <td>0.008</td>\n",
       "    </tr>\n",
       "    <tr>\n",
       "      <th>min</th>\n",
       "      <td>0.001</td>\n",
       "    </tr>\n",
       "    <tr>\n",
       "      <th>25%</th>\n",
       "      <td>0.002</td>\n",
       "    </tr>\n",
       "    <tr>\n",
       "      <th>50%</th>\n",
       "      <td>0.004</td>\n",
       "    </tr>\n",
       "    <tr>\n",
       "      <th>75%</th>\n",
       "      <td>0.007</td>\n",
       "    </tr>\n",
       "    <tr>\n",
       "      <th>max</th>\n",
       "      <td>0.036</td>\n",
       "    </tr>\n",
       "  </tbody>\n",
       "</table>\n",
       "</div>"
      ],
      "text/plain": [
       "          gas\n",
       "count 182.000\n",
       "mean    0.007\n",
       "std     0.008\n",
       "min     0.001\n",
       "25%     0.002\n",
       "50%     0.004\n",
       "75%     0.007\n",
       "max     0.036"
      ]
     },
     "execution_count": 29,
     "metadata": {},
     "output_type": "execute_result"
    }
   ],
   "source": [
    "df.describe()"
   ]
  },
  {
   "cell_type": "markdown",
   "metadata": {},
   "source": [
    "<center></center>"
   ]
  },
  {
   "cell_type": "markdown",
   "metadata": {},
   "source": [
    "<center></center>"
   ]
  },
  {
   "cell_type": "markdown",
   "metadata": {},
   "source": [
    "# II. Balances Analysis"
   ]
  },
  {
   "cell_type": "code",
   "execution_count": 30,
   "metadata": {},
   "outputs": [
    {
     "data": {
      "text/html": [
       "<div>\n",
       "<style scoped>\n",
       "    .dataframe tbody tr th:only-of-type {\n",
       "        vertical-align: middle;\n",
       "    }\n",
       "\n",
       "    .dataframe tbody tr th {\n",
       "        vertical-align: top;\n",
       "    }\n",
       "\n",
       "    .dataframe thead th {\n",
       "        text-align: right;\n",
       "    }\n",
       "</style>\n",
       "<table border=\"1\" class=\"dataframe\">\n",
       "  <thead>\n",
       "    <tr style=\"text-align: right;\">\n",
       "      <th></th>\n",
       "      <th>address</th>\n",
       "      <th>balance</th>\n",
       "      <th>cum</th>\n",
       "    </tr>\n",
       "  </thead>\n",
       "  <tbody>\n",
       "    <tr>\n",
       "      <th>0</th>\n",
       "      <td>0x692150239766b8918be10328fbe844c47fd6f630</td>\n",
       "      <td>0.000</td>\n",
       "      <td>0.000</td>\n",
       "    </tr>\n",
       "    <tr>\n",
       "      <th>1</th>\n",
       "      <td>0x4e757d73a7fb5b1c94f8c513fc1427d535c928d5</td>\n",
       "      <td>0.000</td>\n",
       "      <td>0.000</td>\n",
       "    </tr>\n",
       "    <tr>\n",
       "      <th>2</th>\n",
       "      <td>0x2df21064209a73f46d55498add4864a2c78a1277</td>\n",
       "      <td>0.000</td>\n",
       "      <td>0.000</td>\n",
       "    </tr>\n",
       "    <tr>\n",
       "      <th>3</th>\n",
       "      <td>0x12277af4ed779a95612110ad47717c06311a5a2e</td>\n",
       "      <td>0.000</td>\n",
       "      <td>0.000</td>\n",
       "    </tr>\n",
       "    <tr>\n",
       "      <th>4</th>\n",
       "      <td>0xbcfb3ae38127ea37872739388c8a743ba2c3c4c0</td>\n",
       "      <td>0.000</td>\n",
       "      <td>0.000</td>\n",
       "    </tr>\n",
       "    <tr>\n",
       "      <th>...</th>\n",
       "      <td>...</td>\n",
       "      <td>...</td>\n",
       "      <td>...</td>\n",
       "    </tr>\n",
       "    <tr>\n",
       "      <th>177490</th>\n",
       "      <td>0x230f5fca76585c5bc023747ac880bdaab2c16aba</td>\n",
       "      <td>26756986.108</td>\n",
       "      <td>668278358.746</td>\n",
       "    </tr>\n",
       "    <tr>\n",
       "      <th>177491</th>\n",
       "      <td>0xf977814e90da44bfa03b6295a0616a897441acec</td>\n",
       "      <td>30000000.000</td>\n",
       "      <td>698278358.746</td>\n",
       "    </tr>\n",
       "    <tr>\n",
       "      <th>177492</th>\n",
       "      <td>0x8cee3eeab46774c1cde4f6368e3ae68bccd760bf</td>\n",
       "      <td>40000000.000</td>\n",
       "      <td>738278358.746</td>\n",
       "    </tr>\n",
       "    <tr>\n",
       "      <th>177493</th>\n",
       "      <td>0x92d7796c04ee34d1d16c57fab92fc2bccf434468</td>\n",
       "      <td>43192368.088</td>\n",
       "      <td>781470726.834</td>\n",
       "    </tr>\n",
       "    <tr>\n",
       "      <th>177494</th>\n",
       "      <td>0x39aa39c021dfbae8fac545936693ac917d5e7563</td>\n",
       "      <td>204069453.046</td>\n",
       "      <td>985540179.880</td>\n",
       "    </tr>\n",
       "  </tbody>\n",
       "</table>\n",
       "<p>177495 rows × 3 columns</p>\n",
       "</div>"
      ],
      "text/plain": [
       "                                           address       balance           cum\n",
       "0       0x692150239766b8918be10328fbe844c47fd6f630         0.000         0.000\n",
       "1       0x4e757d73a7fb5b1c94f8c513fc1427d535c928d5         0.000         0.000\n",
       "2       0x2df21064209a73f46d55498add4864a2c78a1277         0.000         0.000\n",
       "3       0x12277af4ed779a95612110ad47717c06311a5a2e         0.000         0.000\n",
       "4       0xbcfb3ae38127ea37872739388c8a743ba2c3c4c0         0.000         0.000\n",
       "...                                            ...           ...           ...\n",
       "177490  0x230f5fca76585c5bc023747ac880bdaab2c16aba  26756986.108 668278358.746\n",
       "177491  0xf977814e90da44bfa03b6295a0616a897441acec  30000000.000 698278358.746\n",
       "177492  0x8cee3eeab46774c1cde4f6368e3ae68bccd760bf  40000000.000 738278358.746\n",
       "177493  0x92d7796c04ee34d1d16c57fab92fc2bccf434468  43192368.088 781470726.834\n",
       "177494  0x39aa39c021dfbae8fac545936693ac917d5e7563 204069453.046 985540179.880\n",
       "\n",
       "[177495 rows x 3 columns]"
      ]
     },
     "execution_count": 30,
     "metadata": {},
     "output_type": "execute_result"
    }
   ],
   "source": [
    "df = pd.read_csv(positive_cumulated_balances, index_col='Unnamed: 0')\n",
    "df"
   ]
  },
  {
   "cell_type": "markdown",
   "metadata": {},
   "source": [
    "<center></center>"
   ]
  },
  {
   "cell_type": "markdown",
   "metadata": {},
   "source": [
    "## II.I. Quick Summary"
   ]
  },
  {
   "cell_type": "code",
   "execution_count": 31,
   "metadata": {},
   "outputs": [
    {
     "data": {
      "text/plain": [
       "count       177495.000000\n",
       "mean          5552.495450\n",
       "std         529361.084474\n",
       "min              0.000001\n",
       "25%              0.047176\n",
       "50%              0.880000\n",
       "75%              9.085000\n",
       "max      204069453.045605\n",
       "Name: balance, dtype: object"
      ]
     },
     "execution_count": 31,
     "metadata": {},
     "output_type": "execute_result"
    }
   ],
   "source": [
    "(df[df['balance']>0]['balance']).describe().apply(lambda x: format(x, 'f'))"
   ]
  },
  {
   "cell_type": "code",
   "execution_count": 32,
   "metadata": {},
   "outputs": [
    {
     "name": "stdout",
     "output_type": "stream",
     "text": [
      "92454/177495 with less than 1 usdc\n"
     ]
    }
   ],
   "source": [
    "print('{}/{} with less than 1 usdc' .format(len(df[df['balance']<1]['balance']), len(df['balance'])))"
   ]
  },
  {
   "cell_type": "markdown",
   "metadata": {},
   "source": [
    "<center></center>"
   ]
  },
  {
   "cell_type": "markdown",
   "metadata": {},
   "source": [
    "## II.II. Balance Table"
   ]
  },
  {
   "cell_type": "code",
   "execution_count": 33,
   "metadata": {},
   "outputs": [
    {
     "data": {
      "text/html": [
       "<div>\n",
       "<style scoped>\n",
       "    .dataframe tbody tr th:only-of-type {\n",
       "        vertical-align: middle;\n",
       "    }\n",
       "\n",
       "    .dataframe tbody tr th {\n",
       "        vertical-align: top;\n",
       "    }\n",
       "\n",
       "    .dataframe thead th {\n",
       "        text-align: right;\n",
       "    }\n",
       "</style>\n",
       "<table border=\"1\" class=\"dataframe\">\n",
       "  <thead>\n",
       "    <tr style=\"text-align: right;\">\n",
       "      <th></th>\n",
       "      <th>Accounts in total</th>\n",
       "      <th>% of total supply</th>\n",
       "      <th>usdc amount</th>\n",
       "    </tr>\n",
       "  </thead>\n",
       "  <tbody>\n",
       "    <tr>\n",
       "      <th>0.1% of the richest accounts</th>\n",
       "      <td>177</td>\n",
       "      <td>79.660</td>\n",
       "      <td>785,110,532</td>\n",
       "    </tr>\n",
       "    <tr>\n",
       "      <th>1% of the richest accounts</th>\n",
       "      <td>1,775</td>\n",
       "      <td>94.390</td>\n",
       "      <td>930,271,502</td>\n",
       "    </tr>\n",
       "    <tr>\n",
       "      <th>5% of the richest accounts</th>\n",
       "      <td>8,875</td>\n",
       "      <td>99.040</td>\n",
       "      <td>976,070,976</td>\n",
       "    </tr>\n",
       "    <tr>\n",
       "      <th>10% of the richest accounts</th>\n",
       "      <td>17,749</td>\n",
       "      <td>99.810</td>\n",
       "      <td>983,659,731</td>\n",
       "    </tr>\n",
       "  </tbody>\n",
       "</table>\n",
       "</div>"
      ],
      "text/plain": [
       "                             Accounts in total  % of total supply  usdc amount\n",
       "0.1% of the richest accounts               177             79.660  785,110,532\n",
       "1% of the richest accounts               1,775             94.390  930,271,502\n",
       "5% of the richest accounts               8,875             99.040  976,070,976\n",
       "10% of the richest accounts             17,749             99.810  983,659,731"
      ]
     },
     "execution_count": 33,
     "metadata": {},
     "output_type": "execute_result"
    }
   ],
   "source": [
    "df = pd.read_csv(positive_cumulated_balances, index_col=0)\n",
    "def get_distribution(perc):\n",
    "    per = round(df.index[-1]*perc)\n",
    "    entities = df.index[-1]- per\n",
    "    upper = df.loc[per:,:]\n",
    "    lower = df.loc[:per,:]\n",
    "    lower_ = lower['cum'].iloc[-1]\n",
    "    upper_ = (upper['cum'].iloc[-1] - upper['cum'].iloc[0])\n",
    "    return entities, lower_, upper_, lower_/ upper['cum'].iloc[-1], upper_/(upper['cum'].iloc[-1])\n",
    "\n",
    "idx90, lower90, upper90, per10, per90 = get_distribution(0.90)\n",
    "idx95, lower95, upper95, per05, per95 = get_distribution(0.95)\n",
    "idx99, lower99, upper99, per01, per99 = get_distribution(0.99)\n",
    "idx999, lower999, upper999, per001, per999 = get_distribution(0.999)\n",
    "\n",
    "df = pd.DataFrame([[f'{idx999:,.0f}', round(per999*100,2), f'{upper999:,.0f}'],\n",
    "             [f'{idx99:,.0f}', round(per99*100,2),f'{upper99:,.0f}'],\n",
    "             [f'{idx95:,.0f}', round(per95*100,2),f'{upper95:,.0f}'],\n",
    "             [f'{idx90:,.0f}', round(per90*100,2),f'{upper90:,.0f}']],\n",
    "                  index=['0.1% of the richest accounts', '1% of the richest accounts','5% of the richest accounts','10% of the richest accounts'],\n",
    "                   columns=['Accounts in total', '% of total supply', 'usdc amount'])\n",
    "df"
   ]
  },
  {
   "cell_type": "markdown",
   "metadata": {},
   "source": [
    "<center></center>"
   ]
  },
  {
   "cell_type": "markdown",
   "metadata": {},
   "source": [
    "<center></center>"
   ]
  },
  {
   "cell_type": "markdown",
   "metadata": {},
   "source": [
    "## II.III. Rich list"
   ]
  },
  {
   "cell_type": "code",
   "execution_count": 36,
   "metadata": {},
   "outputs": [
    {
     "data": {
      "text/html": [
       "<div>\n",
       "<style scoped>\n",
       "    .dataframe tbody tr th:only-of-type {\n",
       "        vertical-align: middle;\n",
       "    }\n",
       "\n",
       "    .dataframe tbody tr th {\n",
       "        vertical-align: top;\n",
       "    }\n",
       "\n",
       "    .dataframe thead th {\n",
       "        text-align: right;\n",
       "    }\n",
       "</style>\n",
       "<table border=\"1\" class=\"dataframe\">\n",
       "  <thead>\n",
       "    <tr style=\"text-align: right;\">\n",
       "      <th></th>\n",
       "      <th>Unnamed: 0</th>\n",
       "      <th>address</th>\n",
       "      <th>balance</th>\n",
       "      <th>cum</th>\n",
       "      <th>nametag</th>\n",
       "    </tr>\n",
       "  </thead>\n",
       "  <tbody>\n",
       "    <tr>\n",
       "      <th>177485</th>\n",
       "      <td>177485</td>\n",
       "      <td>0x769e8aac6e97aaae9f71d442a1737b7d256be97b</td>\n",
       "      <td>15000000.000</td>\n",
       "      <td>574385259.134</td>\n",
       "      <td>NaN</td>\n",
       "    </tr>\n",
       "    <tr>\n",
       "      <th>177486</th>\n",
       "      <td>177486</td>\n",
       "      <td>0xb8722127fa57a6b00c8716ad8d82512db87437fb</td>\n",
       "      <td>15000000.000</td>\n",
       "      <td>589385259.134</td>\n",
       "      <td>NaN</td>\n",
       "    </tr>\n",
       "    <tr>\n",
       "      <th>177487</th>\n",
       "      <td>177487</td>\n",
       "      <td>0xbe0eb53f46cd790cd13851d5eff43d12404d33e8</td>\n",
       "      <td>15590717.794</td>\n",
       "      <td>604975976.928</td>\n",
       "      <td>Binance 7</td>\n",
       "    </tr>\n",
       "    <tr>\n",
       "      <th>177488</th>\n",
       "      <td>177488</td>\n",
       "      <td>0x3f5ce5fbfe3e9af3971dd833d26ba9b5c936f0be</td>\n",
       "      <td>18120241.051</td>\n",
       "      <td>623096217.979</td>\n",
       "      <td>Binance</td>\n",
       "    </tr>\n",
       "    <tr>\n",
       "      <th>177489</th>\n",
       "      <td>177489</td>\n",
       "      <td>0x04046027549f739edfd5b2a78efdbaf0f0bf4514</td>\n",
       "      <td>18425154.658</td>\n",
       "      <td>641521372.638</td>\n",
       "      <td>NaN</td>\n",
       "    </tr>\n",
       "    <tr>\n",
       "      <th>177490</th>\n",
       "      <td>177490</td>\n",
       "      <td>0x230f5fca76585c5bc023747ac880bdaab2c16aba</td>\n",
       "      <td>26756986.108</td>\n",
       "      <td>668278358.746</td>\n",
       "      <td>NaN</td>\n",
       "    </tr>\n",
       "    <tr>\n",
       "      <th>177491</th>\n",
       "      <td>177491</td>\n",
       "      <td>0xf977814e90da44bfa03b6295a0616a897441acec</td>\n",
       "      <td>30000000.000</td>\n",
       "      <td>698278358.746</td>\n",
       "      <td>Binance 8</td>\n",
       "    </tr>\n",
       "    <tr>\n",
       "      <th>177492</th>\n",
       "      <td>177492</td>\n",
       "      <td>0x8cee3eeab46774c1cde4f6368e3ae68bccd760bf</td>\n",
       "      <td>40000000.000</td>\n",
       "      <td>738278358.746</td>\n",
       "      <td>Binance</td>\n",
       "    </tr>\n",
       "    <tr>\n",
       "      <th>177493</th>\n",
       "      <td>177493</td>\n",
       "      <td>0x92d7796c04ee34d1d16c57fab92fc2bccf434468</td>\n",
       "      <td>43192368.088</td>\n",
       "      <td>781470726.834</td>\n",
       "      <td>Binance</td>\n",
       "    </tr>\n",
       "    <tr>\n",
       "      <th>177494</th>\n",
       "      <td>177494</td>\n",
       "      <td>0x39aa39c021dfbae8fac545936693ac917d5e7563</td>\n",
       "      <td>204069453.046</td>\n",
       "      <td>985540179.880</td>\n",
       "      <td>Compound USD Coin</td>\n",
       "    </tr>\n",
       "  </tbody>\n",
       "</table>\n",
       "</div>"
      ],
      "text/plain": [
       "        Unnamed: 0                                     address       balance  \\\n",
       "177485      177485  0x769e8aac6e97aaae9f71d442a1737b7d256be97b  15000000.000   \n",
       "177486      177486  0xb8722127fa57a6b00c8716ad8d82512db87437fb  15000000.000   \n",
       "177487      177487  0xbe0eb53f46cd790cd13851d5eff43d12404d33e8  15590717.794   \n",
       "177488      177488  0x3f5ce5fbfe3e9af3971dd833d26ba9b5c936f0be  18120241.051   \n",
       "177489      177489  0x04046027549f739edfd5b2a78efdbaf0f0bf4514  18425154.658   \n",
       "177490      177490  0x230f5fca76585c5bc023747ac880bdaab2c16aba  26756986.108   \n",
       "177491      177491  0xf977814e90da44bfa03b6295a0616a897441acec  30000000.000   \n",
       "177492      177492  0x8cee3eeab46774c1cde4f6368e3ae68bccd760bf  40000000.000   \n",
       "177493      177493  0x92d7796c04ee34d1d16c57fab92fc2bccf434468  43192368.088   \n",
       "177494      177494  0x39aa39c021dfbae8fac545936693ac917d5e7563 204069453.046   \n",
       "\n",
       "                 cum            nametag  \n",
       "177485 574385259.134                NaN  \n",
       "177486 589385259.134                NaN  \n",
       "177487 604975976.928          Binance 7  \n",
       "177488 623096217.979            Binance  \n",
       "177489 641521372.638                NaN  \n",
       "177490 668278358.746                NaN  \n",
       "177491 698278358.746          Binance 8  \n",
       "177492 738278358.746            Binance  \n",
       "177493 781470726.834            Binance  \n",
       "177494 985540179.880  Compound USD Coin  "
      ]
     },
     "execution_count": 36,
     "metadata": {},
     "output_type": "execute_result"
    }
   ],
   "source": [
    "pd.options.mode.chained_assignment = None\n",
    "df = pd.read_csv(positive_cumulated_balances)\n",
    "balance = df\n",
    "rich = df.loc[df.index[-10]:,:]\n",
    "ex = pd.read_csv(exchanges, header=None)\n",
    "loop = rich.iterrows()\n",
    "for i, j in loop:\n",
    "    if j['address'] in ex[0].tolist():\n",
    "        rich.loc[i,'nametag'] = ex[ex[0] == j['address']][1].values[0]\n",
    "\n",
    "rich.loc[177493,'nametag'] = 'Binance/FTX'\n",
    "rich.loc[177492,'nametag'] = 'Binance?'\n",
    "rich"
   ]
  },
  {
   "cell_type": "markdown",
   "metadata": {},
   "source": [
    "<center></center>"
   ]
  },
  {
   "cell_type": "markdown",
   "metadata": {},
   "source": [
    "<center></center>"
   ]
  },
  {
   "cell_type": "markdown",
   "metadata": {},
   "source": [
    "## Huobi"
   ]
  },
  {
   "cell_type": "code",
   "execution_count": 37,
   "metadata": {},
   "outputs": [],
   "source": [
    "ex = pd.read_csv(exchanges, header=None)"
   ]
  },
  {
   "cell_type": "code",
   "execution_count": 38,
   "metadata": {},
   "outputs": [
    {
     "name": "stdout",
     "output_type": "stream",
     "text": [
      "Huobi Total Balance: 14687912\n",
      "1.49% of Total\n"
     ]
    }
   ],
   "source": [
    "df = ex.loc[0:73,:]\n",
    "bal = 0 \n",
    "for i in df[0]:\n",
    "    val = balance['balance'][balance['address'] == i]\n",
    "    if not val.empty:\n",
    "        bal += balance['balance'][balance['address'] == i].values[0]\n",
    "    else:\n",
    "        pass\n",
    "print('Huobi Total Balance: {:.0f}\\n{:.2f}% of Total'.format(bal, bal/balance.loc[balance.index[-1], 'cum']*100))"
   ]
  },
  {
   "cell_type": "markdown",
   "metadata": {},
   "source": [
    "<center></center>"
   ]
  },
  {
   "cell_type": "markdown",
   "metadata": {},
   "source": [
    "## Binance"
   ]
  },
  {
   "cell_type": "code",
   "execution_count": 39,
   "metadata": {},
   "outputs": [
    {
     "name": "stdout",
     "output_type": "stream",
     "text": [
      "Binance Total Balance: 69599342\n",
      "7.06% of Total\n"
     ]
    }
   ],
   "source": [
    "df = ex.loc[74:88,:]\n",
    "bal = 0 \n",
    "for i in df[0]:\n",
    "    val = balance['balance'][balance['address'] == i]\n",
    "    if not val.empty:\n",
    "        bal += balance['balance'][balance['address'] == i].values[0]\n",
    "    else:\n",
    "        pass\n",
    "print('Binance Total Balance: {:.0f}\\n{:.2f}% of Total'.format(bal, bal/balance.loc[balance.index[-1], 'cum']*100))"
   ]
  },
  {
   "cell_type": "markdown",
   "metadata": {},
   "source": [
    "<center></center>"
   ]
  },
  {
   "cell_type": "markdown",
   "metadata": {},
   "source": [
    "## Bitfinex"
   ]
  },
  {
   "cell_type": "code",
   "execution_count": 40,
   "metadata": {},
   "outputs": [
    {
     "name": "stdout",
     "output_type": "stream",
     "text": [
      "Bitfinex Total Balance: 1535922\n",
      "0.16% of Total\n"
     ]
    }
   ],
   "source": [
    "df = ex.loc[89:110,:]\n",
    "bal = 0 \n",
    "for i in df[0]:\n",
    "    val = balance['balance'][balance['address'] == i]\n",
    "    if not val.empty:\n",
    "        bal += balance['balance'][balance['address'] == i].values[0]\n",
    "    else:\n",
    "        pass\n",
    "print('Bitfinex Total Balance: {:.0f}\\n{:.2f}% of Total'.format(bal, bal/balance.loc[balance.index[-1], 'cum']*100))"
   ]
  },
  {
   "cell_type": "markdown",
   "metadata": {},
   "source": [
    "<center></center>"
   ]
  },
  {
   "cell_type": "markdown",
   "metadata": {},
   "source": [
    "## OKEx"
   ]
  },
  {
   "cell_type": "code",
   "execution_count": 41,
   "metadata": {},
   "outputs": [
    {
     "name": "stdout",
     "output_type": "stream",
     "text": [
      "OKEx Total Balance: 1100618\n",
      "0.11% of Total\n"
     ]
    }
   ],
   "source": [
    "df = ex.loc[111:115,:]\n",
    "bal = 0 \n",
    "for i in df[0]:\n",
    "    val = balance['balance'][balance['address'] == i]\n",
    "    if not val.empty:\n",
    "        bal += balance['balance'][balance['address'] == i].values[0]\n",
    "    else:\n",
    "        pass\n",
    "print('OKEx Total Balance: {:.0f}\\n{:.2f}% of Total'.format(bal, bal/balance.loc[balance.index[-1], 'cum']*100))"
   ]
  },
  {
   "cell_type": "markdown",
   "metadata": {},
   "source": [
    "<center></center>"
   ]
  },
  {
   "cell_type": "markdown",
   "metadata": {},
   "source": [
    "## Bittrex"
   ]
  },
  {
   "cell_type": "code",
   "execution_count": 42,
   "metadata": {},
   "outputs": [
    {
     "name": "stdout",
     "output_type": "stream",
     "text": [
      "Bittrex Total Balance: 591189\n",
      "0.06% of Total\n"
     ]
    }
   ],
   "source": [
    "df = ex.loc[116:119,:]\n",
    "bal = 0 \n",
    "for i in df[0]:\n",
    "    val = balance['balance'][balance['address'] == i]\n",
    "    if not val.empty:\n",
    "        bal += balance['balance'][balance['address'] == i].values[0]\n",
    "    else:\n",
    "        pass\n",
    "print('Bittrex Total Balance: {:.0f}\\n{:.2f}% of Total'.format(bal, bal/balance.loc[balance.index[-1], 'cum']*100))"
   ]
  },
  {
   "cell_type": "markdown",
   "metadata": {},
   "source": [
    "<center></center>"
   ]
  },
  {
   "cell_type": "markdown",
   "metadata": {},
   "source": [
    "## Compound"
   ]
  },
  {
   "cell_type": "code",
   "execution_count": 43,
   "metadata": {},
   "outputs": [
    {
     "name": "stdout",
     "output_type": "stream",
     "text": [
      "Compound Total Balance: 204069453\n",
      "20.71% of Total\n"
     ]
    }
   ],
   "source": [
    "df = ex.loc[151:179,:]\n",
    "bal = 0 \n",
    "for i in df[0]:\n",
    "    val = balance['balance'][balance['address'] == i]\n",
    "    if not val.empty:\n",
    "        bal += balance['balance'][balance['address'] == i].values[0]\n",
    "    else:\n",
    "        pass\n",
    "print('Compound Total Balance: {:.0f}\\n{:.2f}% of Total'.format(bal, bal/balance.loc[balance.index[-1], 'cum']*100))"
   ]
  },
  {
   "cell_type": "markdown",
   "metadata": {},
   "source": [
    "<center></center>"
   ]
  },
  {
   "cell_type": "markdown",
   "metadata": {},
   "source": [
    "## Poloniex"
   ]
  },
  {
   "cell_type": "code",
   "execution_count": 44,
   "metadata": {},
   "outputs": [
    {
     "name": "stdout",
     "output_type": "stream",
     "text": [
      "Poloniex Total Balance: 7417559\n",
      "0.75% of Total\n"
     ]
    }
   ],
   "source": [
    "df = ex.loc[247:266,:]\n",
    "bal = 0 \n",
    "for i in df[0]:\n",
    "    val = balance['balance'][balance['address'] == i]\n",
    "    if not val.empty:\n",
    "        bal += balance['balance'][balance['address'] == i].values[0]\n",
    "    else:\n",
    "        pass\n",
    "print('Poloniex Total Balance: {:.0f}\\n{:.2f}% of Total'.format(bal, bal/balance.loc[balance.index[-1], 'cum']*100))"
   ]
  },
  {
   "cell_type": "markdown",
   "metadata": {},
   "source": [
    "<center></center>"
   ]
  },
  {
   "cell_type": "markdown",
   "metadata": {},
   "source": [
    "<center></center>"
   ]
  },
  {
   "cell_type": "markdown",
   "metadata": {},
   "source": [
    "<center></center>"
   ]
  },
  {
   "cell_type": "markdown",
   "metadata": {},
   "source": [
    "# II. IV. Pie Chart"
   ]
  },
  {
   "cell_type": "code",
   "execution_count": 50,
   "metadata": {},
   "outputs": [
    {
     "name": "stdout",
     "output_type": "stream",
     "text": [
      "\n"
     ]
    }
   ],
   "source": [
    "df = pd.read_csv(positive_cumulated_balances, index_col='Unnamed: 0')\n",
    "aa = df.iloc[df.index[-1]-80:]\n",
    "bb = df['balance'].iloc[:df.index[-1]-80]\n",
    "df = aa.append(pd.DataFrame({'address': 'others', 'balance': sum(bb)}, index=[0]))\n",
    "label = []\n",
    "counter = 0\n",
    "def getlabel(i):\n",
    "    global counter\n",
    "    if i:\n",
    "        if not i == 'others':\n",
    "            label.append(i + '...')\n",
    "        else:\n",
    "            label.append(i)\n",
    "    else:\n",
    "        label.append('')\n",
    "    counter += 1\n",
    "    \n",
    "[getlabel(i[:6]) if counter >= len(df)-12 else getlabel('') for i in df['address']  ]\n",
    "print()"
   ]
  },
  {
   "cell_type": "code",
   "execution_count": null,
   "metadata": {},
   "outputs": [],
   "source": [
    "print('\\n\\n')\n",
    "# Colorspace colors by: https://colorspace.r-forge.r-project.org/index.html\n",
    "\n",
    "colorspace_set3 = ['#EEBD92','#FFB3B5','#85D0F2','#BCC3FE','#E7B5F5', \n",
    "                 '#FEAFDA', '#61D8D6','#76D9B1','#A4D390','#CFC982']\n",
    "colorsp_dynamic =['#DB9D85', '#87AEDF', '#9DB469', '#6DBC86', '#3DBEAB', \n",
    "                  '#4CB9CC', '#C2A968', '#BB9FE0', '#DA95CC', '#E494AB']\n",
    "colorspa_dark_3 = ['#B675E0','#5991E4','#00AA5A','#6F9F00','#CE7D3B']\n",
    "colorspa_dyna_5 = ['#9DB469','#87AEDF','#DA95CC', '#DB9D85','#3DBEAB']\n",
    "\n",
    "fig = plt.figure(figsize=(25,15), dpi=400)\n",
    "ax = fig.add_subplot()\n",
    "aa = plt.pie(df['balance'],colors=colorsp_dynamic, \n",
    "             labels=label,\n",
    "             autopct=lambda x: r'{:.1f}\\%'.format(x) if x > 1.5 else r'{:.0f}\\%'.format(x) if x > 5  else '', \n",
    "             pctdistance= 0.8, \n",
    "             labeldistance= 1.05, \n",
    "             radius=1, \n",
    "             explode=[0.05 for i in range(0, len(df['balance']))],\n",
    "             wedgeprops = {'linewidth': 0.8, 'edgecolor':'k'}, \n",
    "             startangle=220) \n",
    "\n",
    "# Custom Modifications\n",
    "aa[-1][-1].set_x(-0.7268917458682129)\n",
    "aa[-1][-1].set_fontsize(35)\n",
    "aa[-1][-2].set_fontsize(30)\n",
    "aa[-1][-2].set_x(0.19977073082370535)\n",
    "aa[-1][-2].set_y(0.8000006952023211)\n",
    "aa[-1][-3].set_fontsize(27)\n",
    "aa[-1][-4].set_fontsize(23)\n",
    "aa[-1][-5].set_fontsize(20)\n",
    "aa[-1][-6].set_fontsize(16)\n",
    "aa[-1][-7].set_fontsize(13)\n",
    "aa[-1][-8].set_fontsize(9)\n",
    "aa[-1][-9].set_fontsize(9)\n",
    "aa[-1][-10].set_fontsize(9)\n",
    "aa[-1][-11].set_fontsize(8)\n",
    "\n",
    "fontsize = -43\n",
    "for i in aa[1]:\n",
    "    i.set_fontsize(fontsize)\n",
    "    fontsize += 1\n",
    "aa[1][-1].set_fontsize(55)\n",
    "plt.tight_layout(pad=5)\n",
    "plt.title('U S D C \\ \\ D i s t r i b u t i o n', fontsize = 50)\n",
    "circ = plt.Circle((0,0),0.5,color='black', fc='white',linewidth=1.25)\n",
    "ax.add_artist(circ)\n",
    "plt.savefig('../pics/usdc/usdc_distribution_pie.pdf')"
   ]
  },
  {
   "cell_type": "markdown",
   "metadata": {},
   "source": [
    "## II.V. Lorenz curve"
   ]
  },
  {
   "cell_type": "code",
   "execution_count": 60,
   "metadata": {},
   "outputs": [
    {
     "data": {
      "text/html": [
       "<div>\n",
       "<style scoped>\n",
       "    .dataframe tbody tr th:only-of-type {\n",
       "        vertical-align: middle;\n",
       "    }\n",
       "\n",
       "    .dataframe tbody tr th {\n",
       "        vertical-align: top;\n",
       "    }\n",
       "\n",
       "    .dataframe thead th {\n",
       "        text-align: right;\n",
       "    }\n",
       "</style>\n",
       "<table border=\"1\" class=\"dataframe\">\n",
       "  <thead>\n",
       "    <tr style=\"text-align: right;\">\n",
       "      <th></th>\n",
       "      <th>address</th>\n",
       "      <th>balance</th>\n",
       "      <th>cum</th>\n",
       "    </tr>\n",
       "  </thead>\n",
       "  <tbody>\n",
       "    <tr>\n",
       "      <th>0</th>\n",
       "      <td>0x692150239766b8918be10328fbe844c47fd6f630</td>\n",
       "      <td>0.000</td>\n",
       "      <td>0.000</td>\n",
       "    </tr>\n",
       "    <tr>\n",
       "      <th>1</th>\n",
       "      <td>0x4e757d73a7fb5b1c94f8c513fc1427d535c928d5</td>\n",
       "      <td>0.000</td>\n",
       "      <td>0.000</td>\n",
       "    </tr>\n",
       "    <tr>\n",
       "      <th>2</th>\n",
       "      <td>0x2df21064209a73f46d55498add4864a2c78a1277</td>\n",
       "      <td>0.000</td>\n",
       "      <td>0.000</td>\n",
       "    </tr>\n",
       "    <tr>\n",
       "      <th>3</th>\n",
       "      <td>0x12277af4ed779a95612110ad47717c06311a5a2e</td>\n",
       "      <td>0.000</td>\n",
       "      <td>0.000</td>\n",
       "    </tr>\n",
       "    <tr>\n",
       "      <th>4</th>\n",
       "      <td>0xbcfb3ae38127ea37872739388c8a743ba2c3c4c0</td>\n",
       "      <td>0.000</td>\n",
       "      <td>0.000</td>\n",
       "    </tr>\n",
       "    <tr>\n",
       "      <th>...</th>\n",
       "      <td>...</td>\n",
       "      <td>...</td>\n",
       "      <td>...</td>\n",
       "    </tr>\n",
       "    <tr>\n",
       "      <th>177490</th>\n",
       "      <td>0x230f5fca76585c5bc023747ac880bdaab2c16aba</td>\n",
       "      <td>26756986.108</td>\n",
       "      <td>668278358.746</td>\n",
       "    </tr>\n",
       "    <tr>\n",
       "      <th>177491</th>\n",
       "      <td>0xf977814e90da44bfa03b6295a0616a897441acec</td>\n",
       "      <td>30000000.000</td>\n",
       "      <td>698278358.746</td>\n",
       "    </tr>\n",
       "    <tr>\n",
       "      <th>177492</th>\n",
       "      <td>0x8cee3eeab46774c1cde4f6368e3ae68bccd760bf</td>\n",
       "      <td>40000000.000</td>\n",
       "      <td>738278358.746</td>\n",
       "    </tr>\n",
       "    <tr>\n",
       "      <th>177493</th>\n",
       "      <td>0x92d7796c04ee34d1d16c57fab92fc2bccf434468</td>\n",
       "      <td>43192368.088</td>\n",
       "      <td>781470726.834</td>\n",
       "    </tr>\n",
       "    <tr>\n",
       "      <th>177494</th>\n",
       "      <td>0x39aa39c021dfbae8fac545936693ac917d5e7563</td>\n",
       "      <td>204069453.046</td>\n",
       "      <td>985540179.880</td>\n",
       "    </tr>\n",
       "  </tbody>\n",
       "</table>\n",
       "<p>177495 rows × 3 columns</p>\n",
       "</div>"
      ],
      "text/plain": [
       "                                           address       balance           cum\n",
       "0       0x692150239766b8918be10328fbe844c47fd6f630         0.000         0.000\n",
       "1       0x4e757d73a7fb5b1c94f8c513fc1427d535c928d5         0.000         0.000\n",
       "2       0x2df21064209a73f46d55498add4864a2c78a1277         0.000         0.000\n",
       "3       0x12277af4ed779a95612110ad47717c06311a5a2e         0.000         0.000\n",
       "4       0xbcfb3ae38127ea37872739388c8a743ba2c3c4c0         0.000         0.000\n",
       "...                                            ...           ...           ...\n",
       "177490  0x230f5fca76585c5bc023747ac880bdaab2c16aba  26756986.108 668278358.746\n",
       "177491  0xf977814e90da44bfa03b6295a0616a897441acec  30000000.000 698278358.746\n",
       "177492  0x8cee3eeab46774c1cde4f6368e3ae68bccd760bf  40000000.000 738278358.746\n",
       "177493  0x92d7796c04ee34d1d16c57fab92fc2bccf434468  43192368.088 781470726.834\n",
       "177494  0x39aa39c021dfbae8fac545936693ac917d5e7563 204069453.046 985540179.880\n",
       "\n",
       "[177495 rows x 3 columns]"
      ]
     },
     "execution_count": 60,
     "metadata": {},
     "output_type": "execute_result"
    }
   ],
   "source": [
    "df = pd.read_csv(positive_cumulated_balances, index_col = 'Unnamed: 0')\n",
    "df"
   ]
  },
  {
   "cell_type": "code",
   "execution_count": 61,
   "metadata": {},
   "outputs": [],
   "source": [
    "y_all = df['cum']/df['cum'].iloc[-1]\n",
    "x_all = (np.arange(start = 0 , stop = len(df['cum']), step = 1)/(len(df['cum'])))\n",
    "\n",
    "y_25_75 = df['cum'].iloc[int(df.index[-1]*0.25):int(df.index[-1]*0.75)]\n",
    "y_25_75 = y_25_75/max(y_25_75)\n",
    "x_25_75 = np.arange(start = 0 , stop = len(y_25_75), step = 1)/(len(y_25_75))"
   ]
  },
  {
   "cell_type": "code",
   "execution_count": 62,
   "metadata": {},
   "outputs": [
    {
     "name": "stdout",
     "output_type": "stream",
     "text": [
      "Q3-Q1 (in usdc):\n"
     ]
    },
    {
     "data": {
      "text/plain": [
       "count    88747.000000\n",
       "mean         1.878254\n",
       "std          2.238990\n",
       "min          0.047175\n",
       "25%          0.262992\n",
       "50%          0.880000\n",
       "75%          2.720765\n",
       "max          9.082883\n",
       "Name: balance, dtype: object"
      ]
     },
     "execution_count": 62,
     "metadata": {},
     "output_type": "execute_result"
    }
   ],
   "source": [
    "print('Q3-Q1 (in usdc):')\n",
    "df['balance'].iloc[int(df.index[-1]*0.25):int(df.index[-1]*0.75)].describe().apply(lambda x: format(x/(10**0), 'f'))"
   ]
  },
  {
   "cell_type": "code",
   "execution_count": null,
   "metadata": {},
   "outputs": [],
   "source": [
    "print('\\n\\n')\n",
    "fig = plt.figure(figsize=(15,15))\n",
    "ax = fig.add_subplot()\n",
    "plt.grid()\n",
    "plt.title(r'L o r e n z \\ \\ C u r v e'+'\\n', fontsize=50)\n",
    "plt.xlabel('\\n'+r'\\% \\ \\ of \\ \\ A d d r e s s e s', fontsize=30)\n",
    "plt.ylabel(r'\\% \\ o f \\ \\ t o t a l \\ \\ U S D C \\ \\ s u p p l y'+'\\n',  fontsize=30)\n",
    "plt.xticks(fontsize=20)\n",
    "plt.yticks(fontsize=20)\n",
    "ax.plot(x_all,y_all, linewidth = 5, color = '#2D728F', label = r'$\\ All$')\n",
    "ax.plot(x_25_75,y_25_75, linewidth = 5, color = '#87AEDF', label = r'$\\ Q_3 - Q_1$')\n",
    "plt.legend(fontsize= 35)\n",
    "plt.plot([0, 1], [0, 1], transform=ax.transAxes, linewidth = 4, ls = (0, (5, 10)), color = 'black')\n",
    "ax.set_xlim([0,1.05])\n",
    "plt.savefig('../pics/usdc/uscd_lorenzcurve.pdf')"
   ]
  }
 ],
 "metadata": {
  "kernelspec": {
   "display_name": "master_thesis",
   "language": "python",
   "name": "master_thesis"
  },
  "language_info": {
   "codemirror_mode": {
    "name": "ipython",
    "version": 3
   },
   "file_extension": ".py",
   "mimetype": "text/x-python",
   "name": "python",
   "nbconvert_exporter": "python",
   "pygments_lexer": "ipython3",
   "version": "3.6.9"
  }
 },
 "nbformat": 4,
 "nbformat_minor": 4
}
