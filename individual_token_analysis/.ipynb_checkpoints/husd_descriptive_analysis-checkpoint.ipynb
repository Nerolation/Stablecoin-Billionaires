{
 "cells": [
  {
   "cell_type": "markdown",
   "metadata": {},
   "source": [
    "# Stablecoin Billionaires<br> Descriptive Analysis of the Ethereum-based Stablecoin ecosystem "
   ]
  },
  {
   "cell_type": "markdown",
   "metadata": {},
   "source": [
    "## by Anton Wahrstätter, 01.07.2020"
   ]
  },
  {
   "cell_type": "markdown",
   "metadata": {},
   "source": [
    "# Part IV - HUSD"
   ]
  },
  {
   "cell_type": "code",
   "execution_count": 1,
   "metadata": {},
   "outputs": [],
   "source": [
    "import numpy as np\n",
    "import pandas as pd\n",
    "import matplotlib.pyplot as plt\n",
    "from datetime import datetime\n",
    "from collections import Counter\n",
    "from matplotlib import rc\n",
    "import re\n",
    "import random\n",
    "\n",
    "rc('font', **{'family':'serif','serif': ['Computer Modern']})\n",
    "rc('text', usetex=True)"
   ]
  },
  {
   "cell_type": "code",
   "execution_count": 2,
   "metadata": {},
   "outputs": [],
   "source": [
    "#plots\n",
    "tx_over_date = '../plots/husd/husd_txs_over_date.csv'\n",
    "unique_senders_over_date = '../plots/husd/husd_unique_senders_over_date.csv'\n",
    "unique_recipients_over_date = '../plots/husd/husd_unique_recipients_over_date.csv'\n",
    "tx_count_to = '../plots/husd/husd_tx_count_to.csv'\n",
    "tx_count_from = '../plots/husd/husd_tx_count_from.csv'\n",
    "tx_over_date = '../plots/husd/husd_txs_over_date.csv'\n",
    "balances = '../plots/husd/husd_balances.csv'\n",
    "avg_gas_over_date = '../plots/husd/husd_avg_gas_over_date.csv'\n",
    "avg_value_over_date = '../plots/husd/husd_avg_value_over_date.csv'\n",
    "positive_cumulated_balances = '../plots/husd/husd_positive_cumulated_balances.csv'\n",
    "circulating_supply = '../plots/husd/husd_circulating_supply.csv'\n",
    "unique_recipients_per_day_over_date = '../plots/husd/husd_unique_recipients_per_day_over_date.csv'\n",
    "unique_senders_per_day_over_date = '../plots/husd/husd_unique_senders_per_day_over_date.csv'\n",
    "exchanges = '../plots/exchanges.csv'\n",
    "\n",
    "#data \n",
    "transfer = '../data/husd/transfer/0_husd_transfer_8174400-10370273.csv'\n",
    "mint = '../data/husd/issue/husd_issue.csv'\n",
    "burn = '../data/husd/redeem/husd_redeem.csv'"
   ]
  },
  {
   "cell_type": "markdown",
   "metadata": {},
   "source": [
    "<center></center>"
   ]
  },
  {
   "cell_type": "markdown",
   "metadata": {},
   "source": [
    "# Data"
   ]
  },
  {
   "cell_type": "code",
   "execution_count": 3,
   "metadata": {},
   "outputs": [],
   "source": [
    "df = pd.read_csv(transfer)\n",
    "pd.set_option('display.float_format', lambda x: '%.3f' % x)"
   ]
  },
  {
   "cell_type": "markdown",
   "metadata": {},
   "source": [
    "## Basics"
   ]
  },
  {
   "cell_type": "code",
   "execution_count": 4,
   "metadata": {},
   "outputs": [],
   "source": [
    "df['txvalue'] = df['txvalue'].astype(float)/10**8"
   ]
  },
  {
   "cell_type": "code",
   "execution_count": 5,
   "metadata": {},
   "outputs": [
    {
     "data": {
      "text/html": [
       "<div>\n",
       "<style scoped>\n",
       "    .dataframe tbody tr th:only-of-type {\n",
       "        vertical-align: middle;\n",
       "    }\n",
       "\n",
       "    .dataframe tbody tr th {\n",
       "        vertical-align: top;\n",
       "    }\n",
       "\n",
       "    .dataframe thead th {\n",
       "        text-align: right;\n",
       "    }\n",
       "</style>\n",
       "<table border=\"1\" class=\"dataframe\">\n",
       "  <thead>\n",
       "    <tr style=\"text-align: right;\">\n",
       "      <th></th>\n",
       "      <th>timestamp</th>\n",
       "      <th>blocknumber</th>\n",
       "      <th>txindex</th>\n",
       "      <th>txvalue</th>\n",
       "      <th>gas_price</th>\n",
       "      <th>gas_used</th>\n",
       "    </tr>\n",
       "  </thead>\n",
       "  <tbody>\n",
       "    <tr>\n",
       "      <th>count</th>\n",
       "      <td>36821.000</td>\n",
       "      <td>36821.000</td>\n",
       "      <td>36821.000</td>\n",
       "      <td>36821.000</td>\n",
       "      <td>36821.000</td>\n",
       "      <td>36821.000</td>\n",
       "    </tr>\n",
       "    <tr>\n",
       "      <th>mean</th>\n",
       "      <td>1584309627.906</td>\n",
       "      <td>9685361.843</td>\n",
       "      <td>44.693</td>\n",
       "      <td>236994.674</td>\n",
       "      <td>47252501697.708</td>\n",
       "      <td>44784.038</td>\n",
       "    </tr>\n",
       "    <tr>\n",
       "      <th>std</th>\n",
       "      <td>6402774.980</td>\n",
       "      <td>465988.777</td>\n",
       "      <td>49.986</td>\n",
       "      <td>641696.177</td>\n",
       "      <td>65897350690.575</td>\n",
       "      <td>41259.766</td>\n",
       "    </tr>\n",
       "    <tr>\n",
       "      <th>min</th>\n",
       "      <td>1563604680.000</td>\n",
       "      <td>8185979.000</td>\n",
       "      <td>0.000</td>\n",
       "      <td>0.000</td>\n",
       "      <td>1000000000.000</td>\n",
       "      <td>22662.000</td>\n",
       "    </tr>\n",
       "    <tr>\n",
       "      <th>25%</th>\n",
       "      <td>1580938401.000</td>\n",
       "      <td>9425066.000</td>\n",
       "      <td>7.000</td>\n",
       "      <td>14950.000</td>\n",
       "      <td>20000000000.000</td>\n",
       "      <td>25010.000</td>\n",
       "    </tr>\n",
       "    <tr>\n",
       "      <th>50%</th>\n",
       "      <td>1585327549.000</td>\n",
       "      <td>9754585.000</td>\n",
       "      <td>25.000</td>\n",
       "      <td>90001.000</td>\n",
       "      <td>40000000000.000</td>\n",
       "      <td>40010.000</td>\n",
       "    </tr>\n",
       "    <tr>\n",
       "      <th>75%</th>\n",
       "      <td>1589252685.000</td>\n",
       "      <td>10048893.000</td>\n",
       "      <td>67.000</td>\n",
       "      <td>188999.000</td>\n",
       "      <td>50000000000.000</td>\n",
       "      <td>53508.000</td>\n",
       "    </tr>\n",
       "    <tr>\n",
       "      <th>max</th>\n",
       "      <td>1593558999.000</td>\n",
       "      <td>10370076.000</td>\n",
       "      <td>469.000</td>\n",
       "      <td>50000100.000</td>\n",
       "      <td>1500000000000.000</td>\n",
       "      <td>2709500.000</td>\n",
       "    </tr>\n",
       "  </tbody>\n",
       "</table>\n",
       "</div>"
      ],
      "text/plain": [
       "           timestamp  blocknumber   txindex      txvalue         gas_price  \\\n",
       "count      36821.000    36821.000 36821.000    36821.000         36821.000   \n",
       "mean  1584309627.906  9685361.843    44.693   236994.674   47252501697.708   \n",
       "std      6402774.980   465988.777    49.986   641696.177   65897350690.575   \n",
       "min   1563604680.000  8185979.000     0.000        0.000    1000000000.000   \n",
       "25%   1580938401.000  9425066.000     7.000    14950.000   20000000000.000   \n",
       "50%   1585327549.000  9754585.000    25.000    90001.000   40000000000.000   \n",
       "75%   1589252685.000 10048893.000    67.000   188999.000   50000000000.000   \n",
       "max   1593558999.000 10370076.000   469.000 50000100.000 1500000000000.000   \n",
       "\n",
       "         gas_used  \n",
       "count   36821.000  \n",
       "mean    44784.038  \n",
       "std     41259.766  \n",
       "min     22662.000  \n",
       "25%     25010.000  \n",
       "50%     40010.000  \n",
       "75%     53508.000  \n",
       "max   2709500.000  "
      ]
     },
     "execution_count": 5,
     "metadata": {},
     "output_type": "execute_result"
    }
   ],
   "source": [
    "df.describe()"
   ]
  },
  {
   "cell_type": "markdown",
   "metadata": {},
   "source": [
    "<center></center>"
   ]
  },
  {
   "cell_type": "markdown",
   "metadata": {},
   "source": [
    "## Dataset"
   ]
  },
  {
   "cell_type": "code",
   "execution_count": 6,
   "metadata": {},
   "outputs": [
    {
     "name": "stdout",
     "output_type": "stream",
     "text": [
      "Start:\n",
      "Block:            8185979            \n",
      "Timestamp:      1563604680     \n",
      "UTC Time:    2019-07-20 08:38:00   \n",
      "\n",
      "End:\n",
      "Block:            10370076           \n",
      "Timestamp:      1593558999     \n",
      "UTC Time:    2020-07-01 01:16:39   \n",
      "\n"
     ]
    }
   ],
   "source": [
    "print('Start:')\n",
    "print('Block: {:^30}\\nTimestamp: {:^20}\\nUTC Time: {:^25}\\n'.format(df['blocknumber'].iloc[0],\n",
    "                                                        df['timestamp'].iloc[0],\n",
    "                                                        str(datetime.fromtimestamp(df['timestamp'].iloc[0]))\n",
    "                                                       ))\n",
    "print('End:')\n",
    "print('Block: {:^30}\\nTimestamp: {:^20}\\nUTC Time: {:^25}\\n'.format(df['blocknumber'].iloc[-1],\n",
    "                                                        df['timestamp'].iloc[-1],\n",
    "                                                        str(datetime.fromtimestamp(df['timestamp'].iloc[-1]))\n",
    "                                                       ))"
   ]
  },
  {
   "cell_type": "markdown",
   "metadata": {},
   "source": [
    "## Total Nr. of Blocks"
   ]
  },
  {
   "cell_type": "code",
   "execution_count": 7,
   "metadata": {
    "scrolled": true
   },
   "outputs": [
    {
     "name": "stdout",
     "output_type": "stream",
     "text": [
      "Total Nr. of Blocks: 2184097\n"
     ]
    }
   ],
   "source": [
    "print('Total Nr. of Blocks: {}'.format(df['blocknumber'].iloc[-1]-df['blocknumber'].iloc[0]))"
   ]
  },
  {
   "cell_type": "markdown",
   "metadata": {},
   "source": [
    "<center></center>"
   ]
  },
  {
   "cell_type": "markdown",
   "metadata": {},
   "source": [
    "## Total Nr. of Transfer Events"
   ]
  },
  {
   "cell_type": "code",
   "execution_count": 8,
   "metadata": {},
   "outputs": [
    {
     "name": "stdout",
     "output_type": "stream",
     "text": [
      "Total Nr. of Events: 36,821\n"
     ]
    }
   ],
   "source": [
    "print('Total Nr. of Events: {:,.0f}'.format(df.describe().loc['count','timestamp']))"
   ]
  },
  {
   "cell_type": "markdown",
   "metadata": {},
   "source": [
    "<center></center>"
   ]
  },
  {
   "cell_type": "markdown",
   "metadata": {},
   "source": [
    "## Total Nr. of Addresses"
   ]
  },
  {
   "cell_type": "code",
   "execution_count": 9,
   "metadata": {},
   "outputs": [
    {
     "name": "stdout",
     "output_type": "stream",
     "text": [
      "Total Nr. of Addresses: 3739\n"
     ]
    }
   ],
   "source": [
    "print('Total Nr. of Addresses: {}'.format(len(df['txto'].unique())))"
   ]
  },
  {
   "cell_type": "markdown",
   "metadata": {},
   "source": [
    "<center></center>"
   ]
  },
  {
   "cell_type": "markdown",
   "metadata": {},
   "source": [
    "## Addresses with funds"
   ]
  },
  {
   "cell_type": "code",
   "execution_count": 10,
   "metadata": {},
   "outputs": [
    {
     "name": "stdout",
     "output_type": "stream",
     "text": [
      "Total Nr. of Addresses with funds: 1414\n"
     ]
    }
   ],
   "source": [
    "bal = pd.read_csv(balances)\n",
    "print('Total Nr. of Addresses with funds: {}'.format(len(bal[bal['txvalue']>0])))"
   ]
  },
  {
   "cell_type": "markdown",
   "metadata": {},
   "source": [
    "<center></center>"
   ]
  },
  {
   "cell_type": "markdown",
   "metadata": {},
   "source": [
    "## Avg. Transaction Value"
   ]
  },
  {
   "cell_type": "code",
   "execution_count": 11,
   "metadata": {},
   "outputs": [
    {
     "name": "stdout",
     "output_type": "stream",
     "text": [
      "Avg. Transaction Value: 0 HUSD\n"
     ]
    }
   ],
   "source": [
    "print('Avg. Transaction Value: {:,.0f} HUSD'.format(np.mean(df['txvalue']/ 10**8)))"
   ]
  },
  {
   "cell_type": "markdown",
   "metadata": {},
   "source": [
    "<center></center>"
   ]
  },
  {
   "cell_type": "markdown",
   "metadata": {},
   "source": [
    "## Total Gas Costs"
   ]
  },
  {
   "cell_type": "code",
   "execution_count": 12,
   "metadata": {},
   "outputs": [
    {
     "name": "stdout",
     "output_type": "stream",
     "text": [
      "Total Gas spent for Transfers: 77.673 ether\n"
     ]
    }
   ],
   "source": [
    "df['costs'] = (df['gas_price']/10**18) * df['gas_used']\n",
    "print('Total Gas spent for Transfers: {:,.3f} ether'.format(sum(df['costs'])))"
   ]
  },
  {
   "cell_type": "markdown",
   "metadata": {},
   "source": [
    "<center></center>"
   ]
  },
  {
   "cell_type": "markdown",
   "metadata": {},
   "source": [
    "## Initial HUSD Supply"
   ]
  },
  {
   "cell_type": "code",
   "execution_count": 13,
   "metadata": {},
   "outputs": [],
   "source": [
    "#first mint event\n",
    "#0xdc6bb2a1aff2dbb2613113984b5fbd560e582c0a4369149402d7ea83b0f5983e"
   ]
  },
  {
   "cell_type": "markdown",
   "metadata": {},
   "source": [
    "<center></center>"
   ]
  },
  {
   "cell_type": "markdown",
   "metadata": {},
   "source": [
    "## Total HUSD Supply"
   ]
  },
  {
   "cell_type": "code",
   "execution_count": 14,
   "metadata": {},
   "outputs": [
    {
     "data": {
      "text/plain": [
       "114538719.10987687"
      ]
     },
     "execution_count": 14,
     "metadata": {},
     "output_type": "execute_result"
    }
   ],
   "source": [
    "sum(pd.read_csv(mint)['txvalue']/10**8)-sum(pd.read_csv(burn)['txvalue']/10**8)"
   ]
  },
  {
   "cell_type": "markdown",
   "metadata": {},
   "source": [
    "<center></center>"
   ]
  },
  {
   "cell_type": "markdown",
   "metadata": {},
   "source": [
    "<center></center>"
   ]
  },
  {
   "cell_type": "markdown",
   "metadata": {},
   "source": [
    "<center></center>"
   ]
  },
  {
   "cell_type": "markdown",
   "metadata": {},
   "source": [
    "# I. Event analysis"
   ]
  },
  {
   "cell_type": "markdown",
   "metadata": {},
   "source": [
    "## I.I. Mint Event"
   ]
  },
  {
   "cell_type": "markdown",
   "metadata": {},
   "source": [
    "## Plot new issued tokens over date"
   ]
  },
  {
   "cell_type": "code",
   "execution_count": null,
   "metadata": {},
   "outputs": [],
   "source": [
    "print('\\n\\n')\n",
    "fig = plt.figure(figsize=(40,25), dpi=250)\n",
    "ax = fig.subplots()\n",
    "plt.grid()\n",
    "plt.title(r'I s s u e d \\ \\ H U S D'+'\\n', size= 120)\n",
    "ax.yaxis.get_offset_text().set_fontsize(50)\n",
    "plt.xlabel('\\n'+r'D a t e ', size=120)\n",
    "plt.ylabel(r'H U S D'+'\\n', size=120)\n",
    "plt.yticks(fontsize=60)\n",
    "plt.yticks(fontsize=30)\n",
    "plt.xticks(labels=[\"\\nJul '19'\",\"Oct '19\",\"\\nJan '20\",\"Apr '20\",\"\\nJul '20\"], \n",
    "           ticks=[0,73,165,\n",
    "                  256,347], fontsize=60)\n",
    "\n",
    "def plot_issue_over_date():\n",
    "    _issue = pd.read_csv(mint)\n",
    "    iss = _issue.loc[:, ['timestamp', 'txvalue']]\n",
    "    iss['utc'] = iss['timestamp'].apply(lambda x: str(datetime.utcfromtimestamp(x))[0:10])\n",
    "    iss = iss.groupby('utc', as_index = False)['txvalue'].sum()\n",
    "    a = iss['utc'].iloc[0]\n",
    "    b = iss['utc'].iloc[-1]\n",
    "    idx = pd.date_range(a,b)\n",
    "    iss = iss.set_index('utc')\n",
    "    iss.index = pd.DatetimeIndex(iss.index)\n",
    "    iss = iss.reindex(idx, fill_value=0)\n",
    "    counter = 0\n",
    "    for i in range(0, len(iss)):\n",
    "        plt.plot([counter,counter], [0, iss['txvalue'].iloc[counter]/(10**8)], color= 'black', linewidth=3)\n",
    "        counter += 1\n",
    "    return \n",
    "\n",
    "plt.tight_layout(pad=5)\n",
    "plot_issue_over_date()\n",
    "plt.savefig('../pics/husd/husd_issued_husd_over_date.pdf')"
   ]
  },
  {
   "cell_type": "markdown",
   "metadata": {},
   "source": [
    "## Further info"
   ]
  },
  {
   "cell_type": "code",
   "execution_count": 15,
   "metadata": {},
   "outputs": [
    {
     "name": "stdout",
     "output_type": "stream",
     "text": [
      "Issue Events: 6992\n",
      "Issued HUSD: 1,540,511,785\n",
      "\n",
      "Largest issue: 12,000 HUSD\n",
      " . . . to address: 0x55fe002aeff02f77364de339a1292923a15844b8\n",
      "\n"
     ]
    }
   ],
   "source": [
    "df = pd.read_csv(mint)\n",
    "#df[df['txvalue'] == max(df['txvalue'])]\n",
    "print('Issue Events: {}\\nIssued HUSD: {:,.0f}\\n'.format(len(df), sum(df['txvalue'])/10**8, ':,0f'))\n",
    "print('Largest issue: {:,.0f} HUSD\\n . . . to address: {}\\n'.format(df.loc[3274, 'txvalue']//10**8,'0x55fe002aeff02f77364de339a1292923a15844b8'))"
   ]
  },
  {
   "cell_type": "markdown",
   "metadata": {},
   "source": [
    "<center></center>"
   ]
  },
  {
   "cell_type": "markdown",
   "metadata": {},
   "source": [
    "<center></center>"
   ]
  },
  {
   "cell_type": "markdown",
   "metadata": {},
   "source": [
    "## I.II. Burn Event"
   ]
  },
  {
   "cell_type": "markdown",
   "metadata": {},
   "source": [
    "## Plot burned tokens over date"
   ]
  },
  {
   "cell_type": "code",
   "execution_count": null,
   "metadata": {},
   "outputs": [],
   "source": [
    "print('\\n\\n')\n",
    "fig = plt.figure(figsize=(40,25))\n",
    "ax = fig.subplots()\n",
    "plt.grid()\n",
    "plt.title(r'B u r n e d \\ \\ H U S D'+'\\n', size= 120)\n",
    "ax.yaxis.get_offset_text().set_fontsize(50)\n",
    "plt.xlabel('\\n'+r'D a t e', size=120)\n",
    "plt.ylabel(r'H U S D'+'\\n', size=120)\n",
    "plt.yticks(fontsize=60)\n",
    "plt.yticks(fontsize=30)\n",
    "plt.xticks(labels=[\"\\nJul '19'\",\"Oct '19\",\"\\nJan '20\",\"Apr '20\",\"\\nJul '20\"], \n",
    "           ticks=[0,73,165,256,347], fontsize=60)\n",
    "\n",
    "def plot_burn_over_date():\n",
    "    _dbf = pd.read_csv(burn)\n",
    "    dbf = _dbf.loc[:, ['timestamp', 'txvalue']]\n",
    "    dbf['utc'] = dbf['timestamp'].apply(lambda x: str(datetime.utcfromtimestamp(x))[0:10])\n",
    "    dbf = dbf.groupby('utc', as_index = False)['txvalue'].sum()\n",
    "    a = dbf['utc'].iloc[0]\n",
    "    b = dbf['utc'].iloc[-1]\n",
    "    idx = pd.date_range(a,b)\n",
    "    dbf = dbf.set_index('utc')\n",
    "    dbf.index = pd.DatetimeIndex(dbf.index)\n",
    "    dbf = dbf.reindex(idx, fill_value=0)\n",
    "    counter = 0\n",
    "    for i in range(0, len(dbf)):\n",
    "        plt.plot([counter,counter], [0, dbf['txvalue'].iloc[counter]/(10**8)], color= 'black', linewidth=3)\n",
    "        counter += 1\n",
    "    \n",
    "    return\n",
    "\n",
    "plt.tight_layout(pad=5)\n",
    "plot_burn_over_date()\n",
    "plt.savefig('../pics/husd/husd_burned_husd_over_date.pdf')"
   ]
  },
  {
   "cell_type": "markdown",
   "metadata": {},
   "source": [
    "## Further info"
   ]
  },
  {
   "cell_type": "code",
   "execution_count": 16,
   "metadata": {},
   "outputs": [
    {
     "name": "stdout",
     "output_type": "stream",
     "text": [
      "Burn Events: 3598\n",
      "Burned husd: 1,425,973,065\n",
      ". . . from 75 addesses\n",
      "\n",
      "Largest burn: 285 husd\n",
      " . . . from address: 0x04f34dea4f50ec38d281d02ed6c325ee49679089\n",
      "\n"
     ]
    }
   ],
   "source": [
    "df = pd.read_csv(burn)\n",
    "\n",
    "print('Burn Events: {}\\nBurned husd: {:,.0f}'.format(len(df), sum(df['txvalue'])/10**8, ':,0f'))\n",
    "print('. . . from {} addesses\\n'.format(len(df['address'].unique())))\n",
    "print('Largest burn: {:,.0f} husd\\n . . . from address: {}\\n'.format(df.groupby('address')['txvalue'].sum()[0]/10**8,df.groupby(\"address\")[\"txvalue\"].sum().index[0]))"
   ]
  },
  {
   "cell_type": "markdown",
   "metadata": {},
   "source": [
    "<center></center>"
   ]
  },
  {
   "cell_type": "markdown",
   "metadata": {},
   "source": [
    "<center></center>"
   ]
  },
  {
   "cell_type": "markdown",
   "metadata": {},
   "source": [
    "## Plot circulating supply"
   ]
  },
  {
   "cell_type": "code",
   "execution_count": null,
   "metadata": {},
   "outputs": [],
   "source": [
    "print('\\n\\n')\n",
    "fig = plt.figure(figsize=(20,12), dpi=500)\n",
    "ax = fig.subplots()\n",
    "plt.grid(True)\n",
    "plt.title(r'C i r c u l a t i n g \\ \\ H U S D \\ \\ S u p p l y'+'\\n', size=60)\n",
    "plt.xlabel('\\n'+r'D a t e', size= 60)\n",
    "plt.ylabel(r'H U S D'+'\\n', size= 60)\n",
    "ax.yaxis.get_offset_text().set_fontsize(25)\n",
    "\n",
    "plt.yticks(fontsize=30)\n",
    "plt.xticks(labels=[\"\\nJul '19'\",\"Oct '19\",\"\\nJan '20\",\"Apr '20\",\"\\nJul '20\"], \n",
    "           ticks=[0,73,165,\n",
    "                  256,347], fontsize=30)\n",
    "\n",
    "circ = pd.read_csv(circulating_supply, index_col='Unnamed: 0')\n",
    "\n",
    "plt.plot(range(0, 347), circ['txvalue'].cumsum()/10**8, color='black', linewidth = 4, label = 'HUSD supply')\n",
    "plt.fill_between(range(0, 347),0 , circ['txvalue'].cumsum()/10**8, alpha=0.2, facecolor='#2D728F')\n",
    "lgnd = plt.legend(loc='upper left', fontsize=40)\n",
    "plt.tight_layout(pad=5)\n",
    "plt.savefig('../pics/husd/husd_cirulating_supply.pdf')"
   ]
  },
  {
   "cell_type": "markdown",
   "metadata": {},
   "source": [
    "<center></center>"
   ]
  },
  {
   "cell_type": "markdown",
   "metadata": {},
   "source": [
    "<center></center>"
   ]
  },
  {
   "cell_type": "markdown",
   "metadata": {},
   "source": [
    "<center></center>"
   ]
  },
  {
   "cell_type": "markdown",
   "metadata": {},
   "source": [
    "## I.III. Transfer Event"
   ]
  },
  {
   "cell_type": "markdown",
   "metadata": {},
   "source": [
    "## Plot transfers over date"
   ]
  },
  {
   "cell_type": "code",
   "execution_count": null,
   "metadata": {},
   "outputs": [],
   "source": [
    "print('\\n\\n')\n",
    "fig = plt.figure(figsize=(20,12), dpi=500)\n",
    "ax = fig.subplots()\n",
    "plt.grid(True)\n",
    "plt.title(r'H U S D \\ \\ T r a n s f e r s'+'\\n', size=60)\n",
    "plt.xlabel('\\n'+r'D a t e', size= 50)\n",
    "plt.ylabel(r'T r a n s f e r s'+'\\n', size= 50)\n",
    "plt.yticks(np.arange(0, 601, 100), \n",
    "           np.vectorize(lambda x: f'{x:,.0f}')(np.arange(0, 601, 100)), \n",
    "           fontsize=30)\n",
    "plt.xticks(labels=[\"\\nJul '19'\",\"Oct '19\",\"\\nJan '20\",\"Apr '20\",\"\\nJul '20\"], \n",
    "           ticks=[0,73,165,\n",
    "                  256,347], fontsize=30)\n",
    "\n",
    "def plot_txs_over_date(df, lwd, label, col = '#2D728F', plusbetween = False):\n",
    "    plt.plot(np.arange(0 , len(df['txs'])), df['txs'], color = col, linewidth = lwd, label = label)\n",
    "    if plusbetween:\n",
    "        plt.fill_between(np.arange(0 , len(df['txs'])),0 , df['txs'], alpha=0.1, facecolor='black')\n",
    " \n",
    "    \n",
    "plot_txs_over_date(df = pd.read_csv(tx_over_date, index_col=0), \n",
    "                   col = 'black', lwd = 2, label = 'Transfers', plusbetween=True)\n",
    "\n",
    "plot_txs_over_date(pd.read_csv(unique_senders_per_day_over_date, index_col='Unnamed: 0'), \n",
    "                   col='#9DB469', lwd = 2, label =  'Unique Senders per day')\n",
    "\n",
    "plot_txs_over_date(pd.read_csv(unique_recipients_per_day_over_date, index_col='Unnamed: 0'), \n",
    "                   lwd = 2, label = 'Unique Recipients per day')\n",
    "\n",
    "\n",
    "\n",
    "\n",
    "lgnd = ax.legend(loc='upper right', fontsize=35)\n",
    "lgnd.legendHandles[0].set_linewidth(5.0)\n",
    "lgnd.legendHandles[1].set_linewidth(5.0)\n",
    "lgnd.legendHandles[2].set_linewidth(5.0)\n",
    "\n",
    "plt.tight_layout(pad=5)\n",
    "plt.savefig('../pics/husd/husd_tx_over_date.pdf')\n",
    "plt.show()"
   ]
  },
  {
   "cell_type": "markdown",
   "metadata": {},
   "source": [
    "<center></center>"
   ]
  },
  {
   "cell_type": "markdown",
   "metadata": {},
   "source": [
    "## Most active addresses"
   ]
  },
  {
   "cell_type": "markdown",
   "metadata": {},
   "source": [
    "From:"
   ]
  },
  {
   "cell_type": "code",
   "execution_count": 28,
   "metadata": {},
   "outputs": [
    {
     "data": {
      "text/html": [
       "<div>\n",
       "<style scoped>\n",
       "    .dataframe tbody tr th:only-of-type {\n",
       "        vertical-align: middle;\n",
       "    }\n",
       "\n",
       "    .dataframe tbody tr th {\n",
       "        vertical-align: top;\n",
       "    }\n",
       "\n",
       "    .dataframe thead th {\n",
       "        text-align: right;\n",
       "    }\n",
       "</style>\n",
       "<table border=\"1\" class=\"dataframe\">\n",
       "  <thead>\n",
       "    <tr style=\"text-align: right;\">\n",
       "      <th></th>\n",
       "      <th>txs</th>\n",
       "      <th>tag</th>\n",
       "    </tr>\n",
       "  </thead>\n",
       "  <tbody>\n",
       "    <tr>\n",
       "      <th>0x0000000000000000000000000000000000000000</th>\n",
       "      <td>6992</td>\n",
       "      <td>-</td>\n",
       "    </tr>\n",
       "    <tr>\n",
       "      <th>0x5f64d9c81f5a30f4b29301401f96138792dc5f58</th>\n",
       "      <td>3089</td>\n",
       "      <td>Huobi</td>\n",
       "    </tr>\n",
       "    <tr>\n",
       "      <th>0x6748f50f686bfbca6fe8ad62b22228b87f31ff2b</th>\n",
       "      <td>2152</td>\n",
       "      <td>Huobi 2</td>\n",
       "    </tr>\n",
       "    <tr>\n",
       "      <th>0x1062a747393198f70f71ec65a582423dba7e5ab3</th>\n",
       "      <td>2075</td>\n",
       "      <td>Huobi 9</td>\n",
       "    </tr>\n",
       "    <tr>\n",
       "      <th>0x2faf487a4414fe77e2327f0bf4ae2a264a776ad2</th>\n",
       "      <td>2035</td>\n",
       "      <td>FTX Exchange</td>\n",
       "    </tr>\n",
       "    <tr>\n",
       "      <th>0xe93381fb4c4f14bda253907b18fad305d799241a</th>\n",
       "      <td>1629</td>\n",
       "      <td>Huobi 10</td>\n",
       "    </tr>\n",
       "    <tr>\n",
       "      <th>0xd72ae3c3a7c9819d1d6b411ebf561e660ebbb108</th>\n",
       "      <td>1328</td>\n",
       "      <td>Burn gate of Huobi</td>\n",
       "    </tr>\n",
       "    <tr>\n",
       "      <th>0xf2b8a13a06117b92fbec4de5a0cd9b3ae772ce22</th>\n",
       "      <td>1157</td>\n",
       "      <td>-</td>\n",
       "    </tr>\n",
       "    <tr>\n",
       "      <th>0xab5c66752a9e8167967685f1450532fb96d5d24f</th>\n",
       "      <td>1101</td>\n",
       "      <td>-</td>\n",
       "    </tr>\n",
       "    <tr>\n",
       "      <th>0x75a33ba37d86a0fbd06970577017dec18d896e15</th>\n",
       "      <td>1100</td>\n",
       "      <td>-</td>\n",
       "    </tr>\n",
       "    <tr>\n",
       "      <th>0x46705dfff24256421a05d056c29e81bdc09723b8</th>\n",
       "      <td>822</td>\n",
       "      <td>Huobi 12</td>\n",
       "    </tr>\n",
       "  </tbody>\n",
       "</table>\n",
       "</div>"
      ],
      "text/plain": [
       "                                             txs                 tag\n",
       "0x0000000000000000000000000000000000000000  6992                   -\n",
       "0x5f64d9c81f5a30f4b29301401f96138792dc5f58  3089               Huobi\n",
       "0x6748f50f686bfbca6fe8ad62b22228b87f31ff2b  2152             Huobi 2\n",
       "0x1062a747393198f70f71ec65a582423dba7e5ab3  2075             Huobi 9\n",
       "0x2faf487a4414fe77e2327f0bf4ae2a264a776ad2  2035        FTX Exchange\n",
       "0xe93381fb4c4f14bda253907b18fad305d799241a  1629            Huobi 10\n",
       "0xd72ae3c3a7c9819d1d6b411ebf561e660ebbb108  1328  Burn gate of Huobi\n",
       "0xf2b8a13a06117b92fbec4de5a0cd9b3ae772ce22  1157                   -\n",
       "0xab5c66752a9e8167967685f1450532fb96d5d24f  1101                   -\n",
       "0x75a33ba37d86a0fbd06970577017dec18d896e15  1100                   -\n",
       "0x46705dfff24256421a05d056c29e81bdc09723b8   822            Huobi 12"
      ]
     },
     "execution_count": 28,
     "metadata": {},
     "output_type": "execute_result"
    }
   ],
   "source": [
    "fr = pd.read_csv(tx_count_from, index_col='Unnamed: 0').sort_values('txs', ascending = False)\n",
    "to = pd.read_csv(tx_count_to, index_col='Unnamed: 0').sort_values('txs', ascending = False)\n",
    "fr = pd.DataFrame(fr.loc[:fr.index[10],'txs'])\n",
    "fr['tag'] = ['-', 'Huobi', 'Huobi 2', 'Huobi 9', 'FTX Exchange', 'Huobi 10', 'Burn gate of Huobi', '-', '-', '-', 'Huobi 12']\n",
    "fr"
   ]
  },
  {
   "cell_type": "markdown",
   "metadata": {},
   "source": [
    "To:"
   ]
  },
  {
   "cell_type": "code",
   "execution_count": 30,
   "metadata": {},
   "outputs": [
    {
     "data": {
      "text/html": [
       "<div>\n",
       "<style scoped>\n",
       "    .dataframe tbody tr th:only-of-type {\n",
       "        vertical-align: middle;\n",
       "    }\n",
       "\n",
       "    .dataframe tbody tr th {\n",
       "        vertical-align: top;\n",
       "    }\n",
       "\n",
       "    .dataframe thead th {\n",
       "        text-align: right;\n",
       "    }\n",
       "</style>\n",
       "<table border=\"1\" class=\"dataframe\">\n",
       "  <thead>\n",
       "    <tr style=\"text-align: right;\">\n",
       "      <th></th>\n",
       "      <th>txs</th>\n",
       "      <th>tag</th>\n",
       "    </tr>\n",
       "  </thead>\n",
       "  <tbody>\n",
       "    <tr>\n",
       "      <th>0x5f64d9c81f5a30f4b29301401f96138792dc5f58</th>\n",
       "      <td>4709</td>\n",
       "      <td>Huobi</td>\n",
       "    </tr>\n",
       "    <tr>\n",
       "      <th>0x1062a747393198f70f71ec65a582423dba7e5ab3</th>\n",
       "      <td>3698</td>\n",
       "      <td>Huobi 9</td>\n",
       "    </tr>\n",
       "    <tr>\n",
       "      <th>0x0000000000000000000000000000000000000000</th>\n",
       "      <td>3598</td>\n",
       "      <td>-</td>\n",
       "    </tr>\n",
       "    <tr>\n",
       "      <th>0x6748f50f686bfbca6fe8ad62b22228b87f31ff2b</th>\n",
       "      <td>2208</td>\n",
       "      <td>Huobi 2</td>\n",
       "    </tr>\n",
       "    <tr>\n",
       "      <th>0xd72ae3c3a7c9819d1d6b411ebf561e660ebbb108</th>\n",
       "      <td>1421</td>\n",
       "      <td>Burn gate of Huobi</td>\n",
       "    </tr>\n",
       "    <tr>\n",
       "      <th>0x5195427ca88df768c298721da791b93ad11eca65</th>\n",
       "      <td>1401</td>\n",
       "      <td>-</td>\n",
       "    </tr>\n",
       "    <tr>\n",
       "      <th>0x2faf487a4414fe77e2327f0bf4ae2a264a776ad2</th>\n",
       "      <td>1325</td>\n",
       "      <td>FTX Exchange</td>\n",
       "    </tr>\n",
       "    <tr>\n",
       "      <th>0x75a33ba37d86a0fbd06970577017dec18d896e15</th>\n",
       "      <td>1248</td>\n",
       "      <td>-</td>\n",
       "    </tr>\n",
       "    <tr>\n",
       "      <th>0xe93381fb4c4f14bda253907b18fad305d799241a</th>\n",
       "      <td>1043</td>\n",
       "      <td>Huobi 10</td>\n",
       "    </tr>\n",
       "    <tr>\n",
       "      <th>0xc5a8859c44ac8aa2169afacf45b87c08593bec10</th>\n",
       "      <td>804</td>\n",
       "      <td>-</td>\n",
       "    </tr>\n",
       "    <tr>\n",
       "      <th>0xab5c66752a9e8167967685f1450532fb96d5d24f</th>\n",
       "      <td>716</td>\n",
       "      <td>-</td>\n",
       "    </tr>\n",
       "  </tbody>\n",
       "</table>\n",
       "</div>"
      ],
      "text/plain": [
       "                                             txs                 tag\n",
       "0x5f64d9c81f5a30f4b29301401f96138792dc5f58  4709               Huobi\n",
       "0x1062a747393198f70f71ec65a582423dba7e5ab3  3698             Huobi 9\n",
       "0x0000000000000000000000000000000000000000  3598                   -\n",
       "0x6748f50f686bfbca6fe8ad62b22228b87f31ff2b  2208             Huobi 2\n",
       "0xd72ae3c3a7c9819d1d6b411ebf561e660ebbb108  1421  Burn gate of Huobi\n",
       "0x5195427ca88df768c298721da791b93ad11eca65  1401                   -\n",
       "0x2faf487a4414fe77e2327f0bf4ae2a264a776ad2  1325        FTX Exchange\n",
       "0x75a33ba37d86a0fbd06970577017dec18d896e15  1248                   -\n",
       "0xe93381fb4c4f14bda253907b18fad305d799241a  1043            Huobi 10\n",
       "0xc5a8859c44ac8aa2169afacf45b87c08593bec10   804                   -\n",
       "0xab5c66752a9e8167967685f1450532fb96d5d24f   716                   -"
      ]
     },
     "execution_count": 30,
     "metadata": {},
     "output_type": "execute_result"
    }
   ],
   "source": [
    "to = pd.DataFrame(to.loc[:to.index[10],'txs'])\n",
    "to['tag'] = ['Huobi', 'Huobi 9', '-', 'Huobi 2', 'Burn gate of Huobi', '-', 'FTX Exchange', '-', 'Huobi 10', '-', '-']\n",
    "to"
   ]
  },
  {
   "cell_type": "markdown",
   "metadata": {},
   "source": [
    "<center></center>"
   ]
  },
  {
   "cell_type": "markdown",
   "metadata": {},
   "source": [
    "<center></center>"
   ]
  },
  {
   "cell_type": "markdown",
   "metadata": {},
   "source": [
    "## Activity distribution"
   ]
  },
  {
   "cell_type": "code",
   "execution_count": 31,
   "metadata": {},
   "outputs": [
    {
     "name": "stdout",
     "output_type": "stream",
     "text": [
      "3739 addresses in total\n"
     ]
    },
    {
     "data": {
      "text/html": [
       "<div>\n",
       "<style scoped>\n",
       "    .dataframe tbody tr th:only-of-type {\n",
       "        vertical-align: middle;\n",
       "    }\n",
       "\n",
       "    .dataframe tbody tr th {\n",
       "        vertical-align: top;\n",
       "    }\n",
       "\n",
       "    .dataframe thead th {\n",
       "        text-align: right;\n",
       "    }\n",
       "</style>\n",
       "<table border=\"1\" class=\"dataframe\">\n",
       "  <thead>\n",
       "    <tr style=\"text-align: right;\">\n",
       "      <th></th>\n",
       "      <th>Transactions</th>\n",
       "      <th>Addresses</th>\n",
       "    </tr>\n",
       "  </thead>\n",
       "  <tbody>\n",
       "    <tr>\n",
       "      <th>0</th>\n",
       "      <td>&gt; 500.000</td>\n",
       "      <td>0</td>\n",
       "    </tr>\n",
       "    <tr>\n",
       "      <th>1</th>\n",
       "      <td>100.000-500.000</td>\n",
       "      <td>0</td>\n",
       "    </tr>\n",
       "    <tr>\n",
       "      <th>2</th>\n",
       "      <td>50.000-100.000</td>\n",
       "      <td>0</td>\n",
       "    </tr>\n",
       "    <tr>\n",
       "      <th>3</th>\n",
       "      <td>10.000-50.000</td>\n",
       "      <td>1</td>\n",
       "    </tr>\n",
       "    <tr>\n",
       "      <th>4</th>\n",
       "      <td>1.000-10.000</td>\n",
       "      <td>13</td>\n",
       "    </tr>\n",
       "    <tr>\n",
       "      <th>5</th>\n",
       "      <td>100-1.000</td>\n",
       "      <td>38</td>\n",
       "    </tr>\n",
       "    <tr>\n",
       "      <th>6</th>\n",
       "      <td>10-100</td>\n",
       "      <td>275</td>\n",
       "    </tr>\n",
       "    <tr>\n",
       "      <th>7</th>\n",
       "      <td>&lt; 10</td>\n",
       "      <td>3453</td>\n",
       "    </tr>\n",
       "    <tr>\n",
       "      <th>8</th>\n",
       "      <td>1</td>\n",
       "      <td>1066</td>\n",
       "    </tr>\n",
       "  </tbody>\n",
       "</table>\n",
       "</div>"
      ],
      "text/plain": [
       "      Transactions  Addresses\n",
       "0        > 500.000          0\n",
       "1  100.000-500.000          0\n",
       "2   50.000-100.000          0\n",
       "3    10.000-50.000          1\n",
       "4     1.000-10.000         13\n",
       "5        100-1.000         38\n",
       "6           10-100        275\n",
       "7             < 10       3453\n",
       "8                1       1066"
      ]
     },
     "execution_count": 31,
     "metadata": {},
     "output_type": "execute_result"
    }
   ],
   "source": [
    "df_from = pd.read_csv(tx_count_from, index_col=0)\n",
    "df_to = pd.read_csv(tx_count_to, index_col=0)\n",
    "df_all = pd.concat([df_from, df_to])\n",
    "df = df_all.groupby(df_all.index).sum()\n",
    "print('{} addresses in total'.format(len(df)))\n",
    "df = df.sort_values('txs')\n",
    "gr0 = len(df.loc[df['txs'] >= 500000])\n",
    "gra = len(df.loc[df['txs'] >= 100000]) - gr0 \n",
    "grb = len(df.loc[df['txs'] >= 50000]) - gr0 - gra\n",
    "grc = len(df.loc[df['txs'] >= 10000]) - gr0 - gra - grb\n",
    "grd = len(df.loc[df['txs'] >= 1000]) - gr0 - gra - grb - grc\n",
    "gre = len(df.loc[df['txs'] >= 100]) - gr0 - gra - grb - grc - grd\n",
    "grf = len(df.loc[df['txs'] >= 10]) - gr0 - gra - grb - grc - grd - gre\n",
    "grg = len(df.loc[df['txs'] <= 10])\n",
    "grh = len(df.loc[df['txs'] == 1]) \n",
    "pd.DataFrame({'Transactions': ['> 500.000','100.000-500.000',\n",
    "                               '50.000-100.000',\n",
    "                               '10.000-50.000',\n",
    "                               '1.000-10.000',\n",
    "                               '100-1.000',\n",
    "                               '10-100',\n",
    "                               '< 10', \n",
    "                               '1'], \n",
    "              'Addresses':[gr0,gra,grb,grc,grd,gre,grf,grg,grh]\n",
    "             })"
   ]
  },
  {
   "cell_type": "markdown",
   "metadata": {},
   "source": [
    "<center></center>"
   ]
  },
  {
   "cell_type": "markdown",
   "metadata": {},
   "source": [
    "<center></center>"
   ]
  },
  {
   "cell_type": "markdown",
   "metadata": {},
   "source": [
    "## Plot average transfer amount"
   ]
  },
  {
   "cell_type": "markdown",
   "metadata": {},
   "source": [
    "## Jan '20 - Jul '20"
   ]
  },
  {
   "cell_type": "code",
   "execution_count": null,
   "metadata": {},
   "outputs": [],
   "source": [
    "print('\\n\\n')\n",
    "df = pd.read_csv(avg_value_over_date, index_col=0)\n",
    "df = df.loc[df.index[165]:,:]\n",
    "plt.figure(figsize=(12, 7), dpi=800)\n",
    "\n",
    "plt.grid(True)\n",
    "plt.plot(np.arange(0 , len(df.index.tolist())), df['txvalue'], color = 'black', label = 'Avg. Amount/Day', linewidth = 2)\n",
    "plt.fill_between(np.arange(0 , len(df.index.tolist())),0 , df['txvalue'], alpha=0.2, facecolor='#2D728F')\n",
    "plt.xlabel('\\n'+'D a t e', fontsize=35)\n",
    "plt.ylabel('H U S D'+'\\n', fontsize=30)\n",
    "plt.title(\"H U S D\\nA v g. \\ \\ T r a n s f e r \\ \\ A m o u n t\"+\"\\n\", size = 30)\n",
    "plt.legend(loc=\"upper right\", fontsize=20, shadow= True)\n",
    "plt.ticklabel_format(style = 'plain')\n",
    "plt.xticks(labels=[\"\\nJan '20\",\"Feb '20\",\"\\nMar '20\",\"Apr '20\",\"\\nMay '20\",\"Jun '20\",\"\\nJul '20\"], \n",
    "           ticks=[0,31,60,90,121,152,182], fontsize=23) \n",
    "plt.yticks(np.arange(0, 1000001, 200000), \n",
    "           np.vectorize(lambda x: f'{x:,.0f}')(np.arange(0, 1000001, 200000)), \n",
    "           fontsize=15)\n",
    "plt.tight_layout(pad=1)\n",
    "plt.savefig('../pics/husd/husd_avgtxvalue_jan20.pdf')"
   ]
  },
  {
   "cell_type": "markdown",
   "metadata": {},
   "source": [
    "<center></center>"
   ]
  },
  {
   "cell_type": "markdown",
   "metadata": {},
   "source": [
    "## Further Info"
   ]
  },
  {
   "cell_type": "code",
   "execution_count": 37,
   "metadata": {},
   "outputs": [
    {
     "data": {
      "text/html": [
       "<div>\n",
       "<style scoped>\n",
       "    .dataframe tbody tr th:only-of-type {\n",
       "        vertical-align: middle;\n",
       "    }\n",
       "\n",
       "    .dataframe tbody tr th {\n",
       "        vertical-align: top;\n",
       "    }\n",
       "\n",
       "    .dataframe thead th {\n",
       "        text-align: right;\n",
       "    }\n",
       "</style>\n",
       "<table border=\"1\" class=\"dataframe\">\n",
       "  <thead>\n",
       "    <tr style=\"text-align: right;\">\n",
       "      <th></th>\n",
       "      <th>txvalue</th>\n",
       "    </tr>\n",
       "  </thead>\n",
       "  <tbody>\n",
       "    <tr>\n",
       "      <th>count</th>\n",
       "      <td>182.000</td>\n",
       "    </tr>\n",
       "    <tr>\n",
       "      <th>mean</th>\n",
       "      <td>223063.831</td>\n",
       "    </tr>\n",
       "    <tr>\n",
       "      <th>std</th>\n",
       "      <td>112910.627</td>\n",
       "    </tr>\n",
       "    <tr>\n",
       "      <th>min</th>\n",
       "      <td>48095.594</td>\n",
       "    </tr>\n",
       "    <tr>\n",
       "      <th>25%</th>\n",
       "      <td>140995.809</td>\n",
       "    </tr>\n",
       "    <tr>\n",
       "      <th>50%</th>\n",
       "      <td>213629.267</td>\n",
       "    </tr>\n",
       "    <tr>\n",
       "      <th>75%</th>\n",
       "      <td>269175.583</td>\n",
       "    </tr>\n",
       "    <tr>\n",
       "      <th>max</th>\n",
       "      <td>959148.461</td>\n",
       "    </tr>\n",
       "  </tbody>\n",
       "</table>\n",
       "</div>"
      ],
      "text/plain": [
       "         txvalue\n",
       "count    182.000\n",
       "mean  223063.831\n",
       "std   112910.627\n",
       "min    48095.594\n",
       "25%   140995.809\n",
       "50%   213629.267\n",
       "75%   269175.583\n",
       "max   959148.461"
      ]
     },
     "execution_count": 37,
     "metadata": {},
     "output_type": "execute_result"
    }
   ],
   "source": [
    "df.describe()"
   ]
  },
  {
   "cell_type": "markdown",
   "metadata": {},
   "source": [
    "<center></center>"
   ]
  },
  {
   "cell_type": "markdown",
   "metadata": {},
   "source": [
    "<center></center>"
   ]
  },
  {
   "cell_type": "markdown",
   "metadata": {},
   "source": [
    "## Plot average gas costs"
   ]
  },
  {
   "cell_type": "markdown",
   "metadata": {},
   "source": [
    "## Jan '20 - Jul '20"
   ]
  },
  {
   "cell_type": "code",
   "execution_count": null,
   "metadata": {},
   "outputs": [],
   "source": [
    "print('\\n\\n')\n",
    "df = pd.read_csv(avg_gas_over_date, index_col='Unnamed: 0')\n",
    "df = df.loc[df.index[165]:,:]\n",
    "plt.figure(figsize=(12, 7), dpi=800)\n",
    "plt.grid(True)\n",
    "plt.plot(np.arange(0 , len(df.index.tolist())), df['gas'], color = 'black', label = 'Avg. Gas Costs/Day', linewidth = 2)\n",
    "plt.fill_between(np.arange(0 , len(df.index.tolist())),0 , df['gas'], alpha=0.2, facecolor='#2D728F')\n",
    "plt.xlabel('\\nD a t e', fontsize=35)\n",
    "plt.ylabel('E t h e r\\n', fontsize=30)\n",
    "plt.title('H U S D\\nA v g. \\ \\ G a s \\ \\ C o s t s\\n', size = 30)\n",
    "lgnd = plt.legend(loc='upper left', fontsize=20, shadow= True)\n",
    "plt.ticklabel_format(style = 'plain')\n",
    "plt.xticks(labels=[\"\\nJan '20\",\"Feb '20\",\"\\nMar '20\",\"Apr '20\",\"\\nMay '20\",\"Jun '20\",\"\\nJul '20\"], \n",
    "           ticks=[0,31,60,90,121,152,182], fontsize=20) \n",
    "plt.yticks(np.arange(0, 0.05, 0.01), \n",
    "           np.vectorize(lambda x: f'{x:,.3f}')(np.arange(0, 0.05, 0.01)), \n",
    "           fontsize=15)\n",
    "plt.tight_layout(pad=1)\n",
    "lgnd.legendHandles[0].set_linewidth(3.0)\n",
    "plt.savefig('../pics/husd/husd_avggascosts_jan20.pdf') "
   ]
  },
  {
   "cell_type": "code",
   "execution_count": 40,
   "metadata": {},
   "outputs": [
    {
     "data": {
      "text/html": [
       "<div>\n",
       "<style scoped>\n",
       "    .dataframe tbody tr th:only-of-type {\n",
       "        vertical-align: middle;\n",
       "    }\n",
       "\n",
       "    .dataframe tbody tr th {\n",
       "        vertical-align: top;\n",
       "    }\n",
       "\n",
       "    .dataframe thead th {\n",
       "        text-align: right;\n",
       "    }\n",
       "</style>\n",
       "<table border=\"1\" class=\"dataframe\">\n",
       "  <thead>\n",
       "    <tr style=\"text-align: right;\">\n",
       "      <th></th>\n",
       "      <th>gas</th>\n",
       "    </tr>\n",
       "  </thead>\n",
       "  <tbody>\n",
       "    <tr>\n",
       "      <th>count</th>\n",
       "      <td>193.000</td>\n",
       "    </tr>\n",
       "    <tr>\n",
       "      <th>mean</th>\n",
       "      <td>0.002</td>\n",
       "    </tr>\n",
       "    <tr>\n",
       "      <th>std</th>\n",
       "      <td>0.001</td>\n",
       "    </tr>\n",
       "    <tr>\n",
       "      <th>min</th>\n",
       "      <td>0.001</td>\n",
       "    </tr>\n",
       "    <tr>\n",
       "      <th>25%</th>\n",
       "      <td>0.001</td>\n",
       "    </tr>\n",
       "    <tr>\n",
       "      <th>50%</th>\n",
       "      <td>0.002</td>\n",
       "    </tr>\n",
       "    <tr>\n",
       "      <th>75%</th>\n",
       "      <td>0.002</td>\n",
       "    </tr>\n",
       "    <tr>\n",
       "      <th>max</th>\n",
       "      <td>0.014</td>\n",
       "    </tr>\n",
       "  </tbody>\n",
       "</table>\n",
       "</div>"
      ],
      "text/plain": [
       "          gas\n",
       "count 193.000\n",
       "mean    0.002\n",
       "std     0.001\n",
       "min     0.001\n",
       "25%     0.001\n",
       "50%     0.002\n",
       "75%     0.002\n",
       "max     0.014"
      ]
     },
     "execution_count": 40,
     "metadata": {},
     "output_type": "execute_result"
    }
   ],
   "source": [
    "df.describe()"
   ]
  },
  {
   "cell_type": "markdown",
   "metadata": {},
   "source": [
    "<center></center>"
   ]
  },
  {
   "cell_type": "markdown",
   "metadata": {},
   "source": [
    "<center></center>"
   ]
  },
  {
   "cell_type": "markdown",
   "metadata": {},
   "source": [
    "# II. Balances Analysis"
   ]
  },
  {
   "cell_type": "code",
   "execution_count": 41,
   "metadata": {},
   "outputs": [
    {
     "data": {
      "text/html": [
       "<div>\n",
       "<style scoped>\n",
       "    .dataframe tbody tr th:only-of-type {\n",
       "        vertical-align: middle;\n",
       "    }\n",
       "\n",
       "    .dataframe tbody tr th {\n",
       "        vertical-align: top;\n",
       "    }\n",
       "\n",
       "    .dataframe thead th {\n",
       "        text-align: right;\n",
       "    }\n",
       "</style>\n",
       "<table border=\"1\" class=\"dataframe\">\n",
       "  <thead>\n",
       "    <tr style=\"text-align: right;\">\n",
       "      <th></th>\n",
       "      <th>address</th>\n",
       "      <th>balance</th>\n",
       "      <th>cum</th>\n",
       "    </tr>\n",
       "  </thead>\n",
       "  <tbody>\n",
       "    <tr>\n",
       "      <th>0</th>\n",
       "      <td>0x05293aa9647ff7579d204df7ca3af12c71b085ab</td>\n",
       "      <td>0.000</td>\n",
       "      <td>0.000</td>\n",
       "    </tr>\n",
       "    <tr>\n",
       "      <th>1</th>\n",
       "      <td>0x0eee3e3828a45f7601d5f54bf49bb01d1a9df5ea</td>\n",
       "      <td>0.000</td>\n",
       "      <td>0.000</td>\n",
       "    </tr>\n",
       "    <tr>\n",
       "      <th>2</th>\n",
       "      <td>0xc18842d634a683e6ea5392e3f9f23a6966c88371</td>\n",
       "      <td>0.000</td>\n",
       "      <td>0.000</td>\n",
       "    </tr>\n",
       "    <tr>\n",
       "      <th>3</th>\n",
       "      <td>0x8521ea5a8e36da59660236fee0961b856488acad</td>\n",
       "      <td>0.000</td>\n",
       "      <td>0.000</td>\n",
       "    </tr>\n",
       "    <tr>\n",
       "      <th>4</th>\n",
       "      <td>0x5195427ca88df768c298721da791b93ad11eca65</td>\n",
       "      <td>0.000</td>\n",
       "      <td>0.000</td>\n",
       "    </tr>\n",
       "    <tr>\n",
       "      <th>...</th>\n",
       "      <td>...</td>\n",
       "      <td>...</td>\n",
       "      <td>...</td>\n",
       "    </tr>\n",
       "    <tr>\n",
       "      <th>1409</th>\n",
       "      <td>0xe93381fb4c4f14bda253907b18fad305d799241a</td>\n",
       "      <td>310917.323</td>\n",
       "      <td>1772699.065</td>\n",
       "    </tr>\n",
       "    <tr>\n",
       "      <th>1410</th>\n",
       "      <td>0x4e017f7eddc86809bc3067de7077c3599ab284ed</td>\n",
       "      <td>602850.603</td>\n",
       "      <td>2375549.668</td>\n",
       "    </tr>\n",
       "    <tr>\n",
       "      <th>1411</th>\n",
       "      <td>0x2faf487a4414fe77e2327f0bf4ae2a264a776ad2</td>\n",
       "      <td>776012.106</td>\n",
       "      <td>3151561.774</td>\n",
       "    </tr>\n",
       "    <tr>\n",
       "      <th>1412</th>\n",
       "      <td>0xd70c0deab2b3f7f24a03c724c49e8c1c88dd73e6</td>\n",
       "      <td>905435.000</td>\n",
       "      <td>4056996.774</td>\n",
       "    </tr>\n",
       "    <tr>\n",
       "      <th>1413</th>\n",
       "      <td>0x1062a747393198f70f71ec65a582423dba7e5ab3</td>\n",
       "      <td>110481722.336</td>\n",
       "      <td>114538719.110</td>\n",
       "    </tr>\n",
       "  </tbody>\n",
       "</table>\n",
       "<p>1414 rows × 3 columns</p>\n",
       "</div>"
      ],
      "text/plain": [
       "                                         address       balance           cum\n",
       "0     0x05293aa9647ff7579d204df7ca3af12c71b085ab         0.000         0.000\n",
       "1     0x0eee3e3828a45f7601d5f54bf49bb01d1a9df5ea         0.000         0.000\n",
       "2     0xc18842d634a683e6ea5392e3f9f23a6966c88371         0.000         0.000\n",
       "3     0x8521ea5a8e36da59660236fee0961b856488acad         0.000         0.000\n",
       "4     0x5195427ca88df768c298721da791b93ad11eca65         0.000         0.000\n",
       "...                                          ...           ...           ...\n",
       "1409  0xe93381fb4c4f14bda253907b18fad305d799241a    310917.323   1772699.065\n",
       "1410  0x4e017f7eddc86809bc3067de7077c3599ab284ed    602850.603   2375549.668\n",
       "1411  0x2faf487a4414fe77e2327f0bf4ae2a264a776ad2    776012.106   3151561.774\n",
       "1412  0xd70c0deab2b3f7f24a03c724c49e8c1c88dd73e6    905435.000   4056996.774\n",
       "1413  0x1062a747393198f70f71ec65a582423dba7e5ab3 110481722.336 114538719.110\n",
       "\n",
       "[1414 rows x 3 columns]"
      ]
     },
     "execution_count": 41,
     "metadata": {},
     "output_type": "execute_result"
    }
   ],
   "source": [
    "df = pd.read_csv(positive_cumulated_balances, index_col='Unnamed: 0')\n",
    "df"
   ]
  },
  {
   "cell_type": "markdown",
   "metadata": {},
   "source": [
    "<center></center>"
   ]
  },
  {
   "cell_type": "markdown",
   "metadata": {},
   "source": [
    "## II.I. Quick Summary"
   ]
  },
  {
   "cell_type": "code",
   "execution_count": 42,
   "metadata": {},
   "outputs": [
    {
     "data": {
      "text/plain": [
       "count         1414.000000\n",
       "mean         81003.337419\n",
       "std        2938276.360683\n",
       "min              0.000000\n",
       "25%              3.575325\n",
       "50%             13.000000\n",
       "75%             55.818414\n",
       "max      110481722.335980\n",
       "Name: balance, dtype: object"
      ]
     },
     "execution_count": 42,
     "metadata": {},
     "output_type": "execute_result"
    }
   ],
   "source": [
    "(df[df['balance']>0]['balance']).describe().apply(lambda x: format(x, 'f'))"
   ]
  },
  {
   "cell_type": "code",
   "execution_count": 43,
   "metadata": {},
   "outputs": [
    {
     "name": "stdout",
     "output_type": "stream",
     "text": [
      "238/1414 with less than 1 husd\n"
     ]
    }
   ],
   "source": [
    "print('{}/{} with less than 1 husd' .format(len(df[df['balance']<1]['balance']), len(df['balance'])))"
   ]
  },
  {
   "cell_type": "markdown",
   "metadata": {},
   "source": [
    "<center></center>"
   ]
  },
  {
   "cell_type": "markdown",
   "metadata": {},
   "source": [
    "## II.II. Balance Table"
   ]
  },
  {
   "cell_type": "code",
   "execution_count": 44,
   "metadata": {},
   "outputs": [
    {
     "data": {
      "text/html": [
       "<div>\n",
       "<style scoped>\n",
       "    .dataframe tbody tr th:only-of-type {\n",
       "        vertical-align: middle;\n",
       "    }\n",
       "\n",
       "    .dataframe tbody tr th {\n",
       "        vertical-align: top;\n",
       "    }\n",
       "\n",
       "    .dataframe thead th {\n",
       "        text-align: right;\n",
       "    }\n",
       "</style>\n",
       "<table border=\"1\" class=\"dataframe\">\n",
       "  <thead>\n",
       "    <tr style=\"text-align: right;\">\n",
       "      <th></th>\n",
       "      <th>Accounts in total</th>\n",
       "      <th>% of total supply</th>\n",
       "      <th>husd amount</th>\n",
       "    </tr>\n",
       "  </thead>\n",
       "  <tbody>\n",
       "    <tr>\n",
       "      <th>0.1% of the richest accounts</th>\n",
       "      <td>1</td>\n",
       "      <td>96.460</td>\n",
       "      <td>110,481,722</td>\n",
       "    </tr>\n",
       "    <tr>\n",
       "      <th>1% of the richest accounts</th>\n",
       "      <td>14</td>\n",
       "      <td>99.830</td>\n",
       "      <td>114,342,683</td>\n",
       "    </tr>\n",
       "    <tr>\n",
       "      <th>5% of the richest accounts</th>\n",
       "      <td>71</td>\n",
       "      <td>99.950</td>\n",
       "      <td>114,482,128</td>\n",
       "    </tr>\n",
       "    <tr>\n",
       "      <th>10% of the richest accounts</th>\n",
       "      <td>141</td>\n",
       "      <td>99.970</td>\n",
       "      <td>114,503,994</td>\n",
       "    </tr>\n",
       "  </tbody>\n",
       "</table>\n",
       "</div>"
      ],
      "text/plain": [
       "                             Accounts in total  % of total supply  husd amount\n",
       "0.1% of the richest accounts                 1             96.460  110,481,722\n",
       "1% of the richest accounts                  14             99.830  114,342,683\n",
       "5% of the richest accounts                  71             99.950  114,482,128\n",
       "10% of the richest accounts                141             99.970  114,503,994"
      ]
     },
     "execution_count": 44,
     "metadata": {},
     "output_type": "execute_result"
    }
   ],
   "source": [
    "df = pd.read_csv(positive_cumulated_balances, index_col=0)\n",
    "def get_distribution(perc):\n",
    "    per = round(df.index[-1]*perc)\n",
    "    entities = df.index[-1]- per\n",
    "    upper = df.loc[per:,:]\n",
    "    lower = df.loc[:per,:]\n",
    "    lower_ = lower['cum'].iloc[-1]\n",
    "    upper_ = (upper['cum'].iloc[-1] - upper['cum'].iloc[0])\n",
    "    return entities, lower_, upper_, lower_/ upper['cum'].iloc[-1], upper_/(upper['cum'].iloc[-1])\n",
    "\n",
    "idx90, lower90, upper90, per10, per90 = get_distribution(0.90)\n",
    "idx95, lower95, upper95, per05, per95 = get_distribution(0.95)\n",
    "idx99, lower99, upper99, per01, per99 = get_distribution(0.99)\n",
    "idx999, lower999, upper999, per001, per999 = get_distribution(0.999)\n",
    "\n",
    "df = pd.DataFrame([[f'{idx999:,.0f}', round(per999*100,2), f'{upper999:,.0f}'],\n",
    "             [f'{idx99:,.0f}', round(per99*100,2),f'{upper99:,.0f}'],\n",
    "             [f'{idx95:,.0f}', round(per95*100,2),f'{upper95:,.0f}'],\n",
    "             [f'{idx90:,.0f}', round(per90*100,2),f'{upper90:,.0f}']],\n",
    "                  index=['0.1% of the richest accounts', '1% of the richest accounts','5% of the richest accounts','10% of the richest accounts'],\n",
    "                   columns=['Accounts in total', '% of total supply', 'husd amount'])\n",
    "df"
   ]
  },
  {
   "cell_type": "markdown",
   "metadata": {},
   "source": [
    "<center></center>"
   ]
  },
  {
   "cell_type": "markdown",
   "metadata": {},
   "source": [
    "<center></center>"
   ]
  },
  {
   "cell_type": "markdown",
   "metadata": {},
   "source": [
    "## II.III. Rich list"
   ]
  },
  {
   "cell_type": "code",
   "execution_count": 85,
   "metadata": {},
   "outputs": [
    {
     "data": {
      "text/html": [
       "<div>\n",
       "<style scoped>\n",
       "    .dataframe tbody tr th:only-of-type {\n",
       "        vertical-align: middle;\n",
       "    }\n",
       "\n",
       "    .dataframe tbody tr th {\n",
       "        vertical-align: top;\n",
       "    }\n",
       "\n",
       "    .dataframe thead th {\n",
       "        text-align: right;\n",
       "    }\n",
       "</style>\n",
       "<table border=\"1\" class=\"dataframe\">\n",
       "  <thead>\n",
       "    <tr style=\"text-align: right;\">\n",
       "      <th></th>\n",
       "      <th>Unnamed: 0</th>\n",
       "      <th>address</th>\n",
       "      <th>balance</th>\n",
       "      <th>cum</th>\n",
       "      <th>nametag</th>\n",
       "    </tr>\n",
       "  </thead>\n",
       "  <tbody>\n",
       "    <tr>\n",
       "      <th>1404</th>\n",
       "      <td>1404</td>\n",
       "      <td>0x395e0bd2e6f95c66ba427306c9d5774f4b752aea</td>\n",
       "      <td>115349.017</td>\n",
       "      <td>495653.598</td>\n",
       "      <td>NaN</td>\n",
       "    </tr>\n",
       "    <tr>\n",
       "      <th>1405</th>\n",
       "      <td>1405</td>\n",
       "      <td>0xef58321032cf693fa7e39f31e45cbc32f2092cb3</td>\n",
       "      <td>136950.399</td>\n",
       "      <td>632603.997</td>\n",
       "      <td>NaN</td>\n",
       "    </tr>\n",
       "    <tr>\n",
       "      <th>1406</th>\n",
       "      <td>1406</td>\n",
       "      <td>0x40054c8f7e933c1b195e77684079147059b72888</td>\n",
       "      <td>250194.948</td>\n",
       "      <td>882798.945</td>\n",
       "      <td>NaN</td>\n",
       "    </tr>\n",
       "    <tr>\n",
       "      <th>1407</th>\n",
       "      <td>1407</td>\n",
       "      <td>0x7abe0ce388281d2acf297cb089caef3819b13448</td>\n",
       "      <td>270196.000</td>\n",
       "      <td>1152994.945</td>\n",
       "      <td>NaN</td>\n",
       "    </tr>\n",
       "    <tr>\n",
       "      <th>1408</th>\n",
       "      <td>1408</td>\n",
       "      <td>0x6748f50f686bfbca6fe8ad62b22228b87f31ff2b</td>\n",
       "      <td>308786.796</td>\n",
       "      <td>1461781.741</td>\n",
       "      <td>Huobi 2</td>\n",
       "    </tr>\n",
       "    <tr>\n",
       "      <th>1409</th>\n",
       "      <td>1409</td>\n",
       "      <td>0xe93381fb4c4f14bda253907b18fad305d799241a</td>\n",
       "      <td>310917.323</td>\n",
       "      <td>1772699.065</td>\n",
       "      <td>Huobi 10</td>\n",
       "    </tr>\n",
       "    <tr>\n",
       "      <th>1410</th>\n",
       "      <td>1410</td>\n",
       "      <td>0x4e017f7eddc86809bc3067de7077c3599ab284ed</td>\n",
       "      <td>602850.603</td>\n",
       "      <td>2375549.668</td>\n",
       "      <td>NaN</td>\n",
       "    </tr>\n",
       "    <tr>\n",
       "      <th>1411</th>\n",
       "      <td>1411</td>\n",
       "      <td>0x2faf487a4414fe77e2327f0bf4ae2a264a776ad2</td>\n",
       "      <td>776012.106</td>\n",
       "      <td>3151561.774</td>\n",
       "      <td>NaN</td>\n",
       "    </tr>\n",
       "    <tr>\n",
       "      <th>1412</th>\n",
       "      <td>1412</td>\n",
       "      <td>0xd70c0deab2b3f7f24a03c724c49e8c1c88dd73e6</td>\n",
       "      <td>905435.000</td>\n",
       "      <td>4056996.774</td>\n",
       "      <td>NaN</td>\n",
       "    </tr>\n",
       "    <tr>\n",
       "      <th>1413</th>\n",
       "      <td>1413</td>\n",
       "      <td>0x1062a747393198f70f71ec65a582423dba7e5ab3</td>\n",
       "      <td>110481722.336</td>\n",
       "      <td>114538719.110</td>\n",
       "      <td>Huobi 9</td>\n",
       "    </tr>\n",
       "  </tbody>\n",
       "</table>\n",
       "</div>"
      ],
      "text/plain": [
       "      Unnamed: 0                                     address       balance  \\\n",
       "1404        1404  0x395e0bd2e6f95c66ba427306c9d5774f4b752aea    115349.017   \n",
       "1405        1405  0xef58321032cf693fa7e39f31e45cbc32f2092cb3    136950.399   \n",
       "1406        1406  0x40054c8f7e933c1b195e77684079147059b72888    250194.948   \n",
       "1407        1407  0x7abe0ce388281d2acf297cb089caef3819b13448    270196.000   \n",
       "1408        1408  0x6748f50f686bfbca6fe8ad62b22228b87f31ff2b    308786.796   \n",
       "1409        1409  0xe93381fb4c4f14bda253907b18fad305d799241a    310917.323   \n",
       "1410        1410  0x4e017f7eddc86809bc3067de7077c3599ab284ed    602850.603   \n",
       "1411        1411  0x2faf487a4414fe77e2327f0bf4ae2a264a776ad2    776012.106   \n",
       "1412        1412  0xd70c0deab2b3f7f24a03c724c49e8c1c88dd73e6    905435.000   \n",
       "1413        1413  0x1062a747393198f70f71ec65a582423dba7e5ab3 110481722.336   \n",
       "\n",
       "               cum   nametag  \n",
       "1404    495653.598       NaN  \n",
       "1405    632603.997       NaN  \n",
       "1406    882798.945       NaN  \n",
       "1407   1152994.945       NaN  \n",
       "1408   1461781.741   Huobi 2  \n",
       "1409   1772699.065  Huobi 10  \n",
       "1410   2375549.668       NaN  \n",
       "1411   3151561.774       NaN  \n",
       "1412   4056996.774       NaN  \n",
       "1413 114538719.110   Huobi 9  "
      ]
     },
     "execution_count": 85,
     "metadata": {},
     "output_type": "execute_result"
    }
   ],
   "source": [
    "pd.options.mode.chained_assignment = None\n",
    "df = pd.read_csv(positive_cumulated_balances)\n",
    "balance = df\n",
    "rich = df.loc[df.index[-10]:,:]\n",
    "ex = pd.read_csv(exchanges, header=None)\n",
    "loop = rich.iterrows()\n",
    "for i, j in loop:\n",
    "    if j['address'] in ex[0].tolist():\n",
    "        rich.loc[i,'nametag'] = ex[ex[0] == j['address']][1].values[0]\n",
    "\n",
    "rich"
   ]
  },
  {
   "cell_type": "markdown",
   "metadata": {},
   "source": [
    "<center></center>"
   ]
  },
  {
   "cell_type": "markdown",
   "metadata": {},
   "source": [
    "<center></center>"
   ]
  },
  {
   "cell_type": "markdown",
   "metadata": {},
   "source": [
    "## Huobi"
   ]
  },
  {
   "cell_type": "code",
   "execution_count": 46,
   "metadata": {},
   "outputs": [],
   "source": [
    "ex = pd.read_csv(exchanges, header=None)"
   ]
  },
  {
   "cell_type": "code",
   "execution_count": 47,
   "metadata": {},
   "outputs": [
    {
     "name": "stdout",
     "output_type": "stream",
     "text": [
      "Huobi Total Balance: 111141554\n",
      "97.03% of Total\n"
     ]
    }
   ],
   "source": [
    "df = ex.loc[0:73,:]\n",
    "bal = 0 \n",
    "for i in df[0]:\n",
    "    val = balance['balance'][balance['address'] == i]\n",
    "    if not val.empty:\n",
    "        bal += balance['balance'][balance['address'] == i].values[0]\n",
    "    else:\n",
    "        pass\n",
    "print('Huobi Total Balance: {:.0f}\\n{:.2f}% of Total'.format(bal, bal/balance.loc[balance.index[-1], 'cum']*100))"
   ]
  },
  {
   "cell_type": "markdown",
   "metadata": {},
   "source": [
    "<center></center>"
   ]
  },
  {
   "cell_type": "markdown",
   "metadata": {},
   "source": [
    "## Binance"
   ]
  },
  {
   "cell_type": "code",
   "execution_count": 48,
   "metadata": {},
   "outputs": [
    {
     "name": "stdout",
     "output_type": "stream",
     "text": [
      "Binance Total Balance: 0\n",
      "0.00% of Total\n"
     ]
    }
   ],
   "source": [
    "df = ex.loc[74:88,:]\n",
    "bal = 0 \n",
    "for i in df[0]:\n",
    "    val = balance['balance'][balance['address'] == i]\n",
    "    if not val.empty:\n",
    "        bal += balance['balance'][balance['address'] == i].values[0]\n",
    "    else:\n",
    "        pass\n",
    "print('Binance Total Balance: {:.0f}\\n{:.2f}% of Total'.format(bal, bal/balance.loc[balance.index[-1], 'cum']*100))"
   ]
  },
  {
   "cell_type": "markdown",
   "metadata": {},
   "source": [
    "<center></center>"
   ]
  },
  {
   "cell_type": "markdown",
   "metadata": {},
   "source": [
    "## Bitfinex"
   ]
  },
  {
   "cell_type": "code",
   "execution_count": 49,
   "metadata": {},
   "outputs": [
    {
     "name": "stdout",
     "output_type": "stream",
     "text": [
      "Bitfinex Total Balance: 143\n",
      "0.00% of Total\n"
     ]
    }
   ],
   "source": [
    "df = ex.loc[89:110,:]\n",
    "bal = 0 \n",
    "for i in df[0]:\n",
    "    val = balance['balance'][balance['address'] == i]\n",
    "    if not val.empty:\n",
    "        bal += balance['balance'][balance['address'] == i].values[0]\n",
    "    else:\n",
    "        pass\n",
    "print('Bitfinex Total Balance: {:.0f}\\n{:.2f}% of Total'.format(bal, bal/balance.loc[balance.index[-1], 'cum']*100))"
   ]
  },
  {
   "cell_type": "markdown",
   "metadata": {},
   "source": [
    "<center></center>"
   ]
  },
  {
   "cell_type": "markdown",
   "metadata": {},
   "source": [
    "## OKEx"
   ]
  },
  {
   "cell_type": "code",
   "execution_count": 50,
   "metadata": {},
   "outputs": [
    {
     "name": "stdout",
     "output_type": "stream",
     "text": [
      "OKEx Total Balance: 0\n",
      "0.00% of Total\n"
     ]
    }
   ],
   "source": [
    "df = ex.loc[111:115,:]\n",
    "bal = 0 \n",
    "for i in df[0]:\n",
    "    val = balance['balance'][balance['address'] == i]\n",
    "    if not val.empty:\n",
    "        bal += balance['balance'][balance['address'] == i].values[0]\n",
    "    else:\n",
    "        pass\n",
    "print('OKEx Total Balance: {:.0f}\\n{:.2f}% of Total'.format(bal, bal/balance.loc[balance.index[-1], 'cum']*100))"
   ]
  },
  {
   "cell_type": "markdown",
   "metadata": {},
   "source": [
    "<center></center>"
   ]
  },
  {
   "cell_type": "markdown",
   "metadata": {},
   "source": [
    "## Bittrex"
   ]
  },
  {
   "cell_type": "code",
   "execution_count": 51,
   "metadata": {},
   "outputs": [
    {
     "name": "stdout",
     "output_type": "stream",
     "text": [
      "Bittrex Total Balance: 0\n",
      "0.00% of Total\n"
     ]
    }
   ],
   "source": [
    "df = ex.loc[116:119,:]\n",
    "bal = 0 \n",
    "for i in df[0]:\n",
    "    val = balance['balance'][balance['address'] == i]\n",
    "    if not val.empty:\n",
    "        bal += balance['balance'][balance['address'] == i].values[0]\n",
    "    else:\n",
    "        pass\n",
    "print('Bittrex Total Balance: {:.0f}\\n{:.2f}% of Total'.format(bal, bal/balance.loc[balance.index[-1], 'cum']*100))"
   ]
  },
  {
   "cell_type": "markdown",
   "metadata": {},
   "source": [
    "<center></center>"
   ]
  },
  {
   "cell_type": "markdown",
   "metadata": {},
   "source": [
    "## Compound"
   ]
  },
  {
   "cell_type": "code",
   "execution_count": 52,
   "metadata": {},
   "outputs": [
    {
     "name": "stdout",
     "output_type": "stream",
     "text": [
      "Compound Total Balance: 0\n",
      "0.00% of Total\n"
     ]
    }
   ],
   "source": [
    "df = ex.loc[151:179,:]\n",
    "bal = 0 \n",
    "for i in df[0]:\n",
    "    val = balance['balance'][balance['address'] == i]\n",
    "    if not val.empty:\n",
    "        bal += balance['balance'][balance['address'] == i].values[0]\n",
    "    else:\n",
    "        pass\n",
    "print('Compound Total Balance: {:.0f}\\n{:.2f}% of Total'.format(bal, bal/balance.loc[balance.index[-1], 'cum']*100))"
   ]
  },
  {
   "cell_type": "markdown",
   "metadata": {},
   "source": [
    "<center></center>"
   ]
  },
  {
   "cell_type": "markdown",
   "metadata": {},
   "source": [
    "## Poloniex"
   ]
  },
  {
   "cell_type": "code",
   "execution_count": 53,
   "metadata": {},
   "outputs": [
    {
     "name": "stdout",
     "output_type": "stream",
     "text": [
      "Poloniex Total Balance: 0\n",
      "0.00% of Total\n"
     ]
    }
   ],
   "source": [
    "df = ex.loc[247:266,:]\n",
    "bal = 0 \n",
    "for i in df[0]:\n",
    "    val = balance['balance'][balance['address'] == i]\n",
    "    if not val.empty:\n",
    "        bal += balance['balance'][balance['address'] == i].values[0]\n",
    "    else:\n",
    "        pass\n",
    "print('Poloniex Total Balance: {:.0f}\\n{:.2f}% of Total'.format(bal, bal/balance.loc[balance.index[-1], 'cum']*100))"
   ]
  },
  {
   "cell_type": "markdown",
   "metadata": {},
   "source": [
    "<center></center>"
   ]
  },
  {
   "cell_type": "markdown",
   "metadata": {},
   "source": [
    "<center></center>"
   ]
  },
  {
   "cell_type": "markdown",
   "metadata": {},
   "source": [
    "<center></center>"
   ]
  },
  {
   "cell_type": "markdown",
   "metadata": {},
   "source": [
    "# II. IV. Pie Chart"
   ]
  },
  {
   "cell_type": "code",
   "execution_count": 61,
   "metadata": {},
   "outputs": [
    {
     "name": "stdout",
     "output_type": "stream",
     "text": [
      "\n"
     ]
    }
   ],
   "source": [
    "df = pd.read_csv(positive_cumulated_balances, index_col='Unnamed: 0')\n",
    "aa = df.iloc[df.index[-1]-80:]\n",
    "bb = df['balance'].iloc[:df.index[-1]-80]\n",
    "df = aa.append(pd.DataFrame({'address': 'others', 'balance': sum(bb)}, index=[0]))\n",
    "label = []\n",
    "counter = 0\n",
    "def getlabel(i):\n",
    "    global counter\n",
    "    if i:\n",
    "        if not i == 'others':\n",
    "            label.append(i + '...')\n",
    "        else:\n",
    "            label.append(i)\n",
    "    else:\n",
    "        label.append('')\n",
    "    counter += 1\n",
    "    \n",
    "[getlabel(i[:6]) if counter >= len(df)-5 else getlabel('') for i in df['address']  ]\n",
    "print()"
   ]
  },
  {
   "cell_type": "code",
   "execution_count": null,
   "metadata": {},
   "outputs": [],
   "source": [
    "print('\\n\\n')\n",
    "# Colorspace colors by: https://colorspace.r-forge.r-project.org/index.html\n",
    "\n",
    "colorspace_set3 = ['#EEBD92','#FFB3B5','#85D0F2','#BCC3FE','#E7B5F5', \n",
    "                 '#FEAFDA', '#61D8D6','#76D9B1','#A4D390','#CFC982']\n",
    "colorsp_dynamic =['#DB9D85', '#87AEDF', '#9DB469', '#6DBC86', '#3DBEAB', \n",
    "                  '#4CB9CC', '#C2A968', '#BB9FE0', '#DA95CC', '#E494AB']\n",
    "colorspa_dark_3 = ['#B675E0','#5991E4','#00AA5A','#6F9F00','#CE7D3B']\n",
    "colorspa_dyna_5 = ['#9DB469','#87AEDF','#DA95CC', '#DB9D85','#3DBEAB']\n",
    "\n",
    "fig = plt.figure(figsize=(25,15), dpi=400)\n",
    "ax = fig.add_subplot()\n",
    "aa = plt.pie(df['balance'],colors=colorsp_dynamic, \n",
    "             labels=label,\n",
    "             autopct=lambda x: r'{:.1f}\\%'.format(x) if x > 1.5 else r'{:.0f}\\%'.format(x) if x > 5  else '', \n",
    "             pctdistance= 0.8, \n",
    "             labeldistance= 1.05, \n",
    "             radius=1, \n",
    "             explode=[0.01 for i in range(0, len(df['balance']))],\n",
    "             wedgeprops = {'linewidth': 0.8, 'edgecolor':'k'}, \n",
    "             startangle=0) \n",
    "\n",
    "# Custom Modifications\n",
    "#aa[-1][-1].set_x(-0.7268917458682129)\n",
    "aa[-1][-1].set_fontsize(35)\n",
    "aa[-1][-2].set_fontsize(40)\n",
    "#aa[-1][-2].set_x(0.19977073082370535)\n",
    "#aa[-1][-2].set_y(0.8000006952023211)\n",
    "aa[-1][-3].set_fontsize(27)\n",
    "aa[-1][-4].set_fontsize(23)\n",
    "aa[-1][-5].set_fontsize(20)\n",
    "aa[-1][-6].set_fontsize(16)\n",
    "aa[-1][-7].set_fontsize(13)\n",
    "aa[-1][-8].set_fontsize(9)\n",
    "aa[-1][-9].set_fontsize(9)\n",
    "aa[-1][-10].set_fontsize(9)\n",
    "aa[-1][-11].set_fontsize(8)\n",
    "\n",
    "fontsize = -43\n",
    "for i in aa[1]:\n",
    "    i.set_fontsize(fontsize)\n",
    "    fontsize += 1\n",
    "aa[1][-1].set_fontsize(55)\n",
    "aa[1][-3].set_y(0.24526206965343738)\n",
    "aa[1][-4].set_y(0.16709989305583238)\n",
    "aa[1][-5].set_y(0.0989980411375326)\n",
    "plt.tight_layout(pad=5)\n",
    "plt.title('H U S D \\ \\ D i s t r i b u t i o n', fontsize = 50)\n",
    "circ = plt.Circle((0,0),0.5,color='black', fc='white',linewidth=1.25)\n",
    "ax.add_artist(circ)\n",
    "plt.savefig('../pics/husd/husd_distribution_pie.pdf')"
   ]
  },
  {
   "cell_type": "markdown",
   "metadata": {},
   "source": [
    "## II.V. Lorenz curve"
   ]
  },
  {
   "cell_type": "code",
   "execution_count": 31,
   "metadata": {},
   "outputs": [
    {
     "data": {
      "text/html": [
       "<div>\n",
       "<style scoped>\n",
       "    .dataframe tbody tr th:only-of-type {\n",
       "        vertical-align: middle;\n",
       "    }\n",
       "\n",
       "    .dataframe tbody tr th {\n",
       "        vertical-align: top;\n",
       "    }\n",
       "\n",
       "    .dataframe thead th {\n",
       "        text-align: right;\n",
       "    }\n",
       "</style>\n",
       "<table border=\"1\" class=\"dataframe\">\n",
       "  <thead>\n",
       "    <tr style=\"text-align: right;\">\n",
       "      <th></th>\n",
       "      <th>address</th>\n",
       "      <th>balance</th>\n",
       "      <th>cum</th>\n",
       "    </tr>\n",
       "  </thead>\n",
       "  <tbody>\n",
       "    <tr>\n",
       "      <th>0</th>\n",
       "      <td>0x05293aa9647ff7579d204df7ca3af12c71b085ab</td>\n",
       "      <td>1.000000e-08</td>\n",
       "      <td>1.000000e-08</td>\n",
       "    </tr>\n",
       "    <tr>\n",
       "      <th>1</th>\n",
       "      <td>0x0eee3e3828a45f7601d5f54bf49bb01d1a9df5ea</td>\n",
       "      <td>1.000000e-08</td>\n",
       "      <td>2.000000e-08</td>\n",
       "    </tr>\n",
       "    <tr>\n",
       "      <th>2</th>\n",
       "      <td>0xc18842d634a683e6ea5392e3f9f23a6966c88371</td>\n",
       "      <td>1.000000e-08</td>\n",
       "      <td>3.000000e-08</td>\n",
       "    </tr>\n",
       "    <tr>\n",
       "      <th>3</th>\n",
       "      <td>0x8521ea5a8e36da59660236fee0961b856488acad</td>\n",
       "      <td>1.000000e-08</td>\n",
       "      <td>4.000000e-08</td>\n",
       "    </tr>\n",
       "    <tr>\n",
       "      <th>4</th>\n",
       "      <td>0x5195427ca88df768c298721da791b93ad11eca65</td>\n",
       "      <td>8.000000e-08</td>\n",
       "      <td>1.200000e-07</td>\n",
       "    </tr>\n",
       "    <tr>\n",
       "      <th>...</th>\n",
       "      <td>...</td>\n",
       "      <td>...</td>\n",
       "      <td>...</td>\n",
       "    </tr>\n",
       "    <tr>\n",
       "      <th>1409</th>\n",
       "      <td>0xe93381fb4c4f14bda253907b18fad305d799241a</td>\n",
       "      <td>3.109173e+05</td>\n",
       "      <td>1.772699e+06</td>\n",
       "    </tr>\n",
       "    <tr>\n",
       "      <th>1410</th>\n",
       "      <td>0x4e017f7eddc86809bc3067de7077c3599ab284ed</td>\n",
       "      <td>6.028506e+05</td>\n",
       "      <td>2.375550e+06</td>\n",
       "    </tr>\n",
       "    <tr>\n",
       "      <th>1411</th>\n",
       "      <td>0x2faf487a4414fe77e2327f0bf4ae2a264a776ad2</td>\n",
       "      <td>7.760121e+05</td>\n",
       "      <td>3.151562e+06</td>\n",
       "    </tr>\n",
       "    <tr>\n",
       "      <th>1412</th>\n",
       "      <td>0xd70c0deab2b3f7f24a03c724c49e8c1c88dd73e6</td>\n",
       "      <td>9.054350e+05</td>\n",
       "      <td>4.056997e+06</td>\n",
       "    </tr>\n",
       "    <tr>\n",
       "      <th>1413</th>\n",
       "      <td>0x1062a747393198f70f71ec65a582423dba7e5ab3</td>\n",
       "      <td>1.104817e+08</td>\n",
       "      <td>1.145387e+08</td>\n",
       "    </tr>\n",
       "  </tbody>\n",
       "</table>\n",
       "<p>1414 rows × 3 columns</p>\n",
       "</div>"
      ],
      "text/plain": [
       "                                         address       balance           cum\n",
       "0     0x05293aa9647ff7579d204df7ca3af12c71b085ab  1.000000e-08  1.000000e-08\n",
       "1     0x0eee3e3828a45f7601d5f54bf49bb01d1a9df5ea  1.000000e-08  2.000000e-08\n",
       "2     0xc18842d634a683e6ea5392e3f9f23a6966c88371  1.000000e-08  3.000000e-08\n",
       "3     0x8521ea5a8e36da59660236fee0961b856488acad  1.000000e-08  4.000000e-08\n",
       "4     0x5195427ca88df768c298721da791b93ad11eca65  8.000000e-08  1.200000e-07\n",
       "...                                          ...           ...           ...\n",
       "1409  0xe93381fb4c4f14bda253907b18fad305d799241a  3.109173e+05  1.772699e+06\n",
       "1410  0x4e017f7eddc86809bc3067de7077c3599ab284ed  6.028506e+05  2.375550e+06\n",
       "1411  0x2faf487a4414fe77e2327f0bf4ae2a264a776ad2  7.760121e+05  3.151562e+06\n",
       "1412  0xd70c0deab2b3f7f24a03c724c49e8c1c88dd73e6  9.054350e+05  4.056997e+06\n",
       "1413  0x1062a747393198f70f71ec65a582423dba7e5ab3  1.104817e+08  1.145387e+08\n",
       "\n",
       "[1414 rows x 3 columns]"
      ]
     },
     "execution_count": 31,
     "metadata": {},
     "output_type": "execute_result"
    }
   ],
   "source": [
    "df = pd.read_csv(positive_cumulated_balances, index_col = 'Unnamed: 0')\n",
    "df"
   ]
  },
  {
   "cell_type": "code",
   "execution_count": 82,
   "metadata": {},
   "outputs": [],
   "source": [
    "y_all = df['cum']/df['cum'].iloc[-1]\n",
    "x_all = (np.arange(start = 0 , stop = len(df['cum']), step = 1)/(len(df['cum'])))\n",
    "\n",
    "y_25_75 = df['cum'].iloc[int(df.index[-1]*0.25):int(df.index[-1]*0.75)]\n",
    "y_25_75 = y_25_75/max(y_25_75)\n",
    "x_25_75 = np.arange(start = 0 , stop = len(y_25_75), step = 1)/(len(y_25_75))"
   ]
  },
  {
   "cell_type": "code",
   "execution_count": 83,
   "metadata": {},
   "outputs": [
    {
     "name": "stdout",
     "output_type": "stream",
     "text": [
      "Q3-Q1 (in husd):\n"
     ]
    },
    {
     "data": {
      "text/plain": [
       "count    706.000000\n",
       "mean      17.872535\n",
       "std       12.213403\n",
       "min        3.559201\n",
       "25%        9.893909\n",
       "50%       13.000000\n",
       "75%       23.962700\n",
       "max       55.387642\n",
       "Name: balance, dtype: object"
      ]
     },
     "execution_count": 83,
     "metadata": {},
     "output_type": "execute_result"
    }
   ],
   "source": [
    "print('Q3-Q1 (in husd):')\n",
    "df['balance'].iloc[int(df.index[-1]*0.25):int(df.index[-1]*0.75)].describe().apply(lambda x: format(x/(10**0), 'f'))"
   ]
  },
  {
   "cell_type": "code",
   "execution_count": null,
   "metadata": {},
   "outputs": [],
   "source": [
    "print('\\n\\n')\n",
    "fig = plt.figure(figsize=(15,15))\n",
    "ax = fig.add_subplot()\n",
    "plt.grid()\n",
    "plt.title(r'L o r e n z \\ \\ C u r v e'+'\\n', fontsize=50)\n",
    "plt.xlabel('\\n'+r'\\% \\ \\ of \\ \\ A d d r e s s e s', fontsize=30)\n",
    "plt.ylabel(r'\\% \\ o f \\ \\ t o t a l \\ \\ H U S D \\ \\ s u p p l y'+'\\n',  fontsize=30)\n",
    "plt.xticks(fontsize=20)\n",
    "plt.yticks(fontsize=20)\n",
    "ax.plot(x_all,y_all, linewidth = 5, color = '#2D728F', label = r'$\\ All$')\n",
    "ax.plot(x_25_75,y_25_75, linewidth = 5, color = '#87AEDF', label = r'$\\ Q_3 - Q_1$')\n",
    "plt.legend(fontsize= 35)\n",
    "plt.plot([0, 1], [0, 1], transform=ax.transAxes, linewidth = 4, ls = (0, (5, 10)), color = 'black')\n",
    "ax.set_xlim([0,1.05])\n",
    "plt.savefig('../pics/husd/husd_lorenzcurve.pdf')"
   ]
  }
 ],
 "metadata": {
  "kernelspec": {
   "display_name": "master_thesis",
   "language": "python",
   "name": "master_thesis"
  },
  "language_info": {
   "codemirror_mode": {
    "name": "ipython",
    "version": 3
   },
   "file_extension": ".py",
   "mimetype": "text/x-python",
   "name": "python",
   "nbconvert_exporter": "python",
   "pygments_lexer": "ipython3",
   "version": "3.6.9"
  }
 },
 "nbformat": 4,
 "nbformat_minor": 4
}
