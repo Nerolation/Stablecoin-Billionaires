{
 "cells": [
  {
   "cell_type": "markdown",
   "metadata": {},
   "source": [
    "# Stablecoin Billionaires<br> Descriptive Analysis of the Ethereum-based Stablecoin ecosystem "
   ]
  },
  {
   "cell_type": "markdown",
   "metadata": {},
   "source": [
    "## by Anton Wahrstätter, 01.07.2020"
   ]
  },
  {
   "cell_type": "markdown",
   "metadata": {},
   "source": [
    "# Part I - Tether"
   ]
  },
  {
   "cell_type": "code",
   "execution_count": 1,
   "metadata": {},
   "outputs": [],
   "source": [
    "import numpy as np\n",
    "import pandas as pd\n",
    "import matplotlib.pyplot as plt\n",
    "from datetime import datetime\n",
    "from collections import Counter\n",
    "from matplotlib import rc\n",
    "import re\n",
    "import random\n",
    "\n",
    "rc('font', **{'family':'serif','serif': ['Computer Modern']})\n",
    "rc('text', usetex=True)"
   ]
  },
  {
   "cell_type": "code",
   "execution_count": 2,
   "metadata": {},
   "outputs": [],
   "source": [
    "#plots\n",
    "tx_over_date = '../plots/tether/tether_txs_over_date.csv'\n",
    "unique_senders_over_date = '../plots/tether/tether_unique_senders_over_date.csv'\n",
    "unique_recipients_over_date = '../plots/tether/tether_unique_recipients_over_date.csv'\n",
    "tx_count_to = '../plots/tether/tether_tx_count_to.csv'\n",
    "tx_count_from = '../plots/tether/tether_tx_count_from.csv'\n",
    "tx_over_date = '../plots/tether/tether_txs_over_date.csv'\n",
    "balances = '../plots/tether/tether_balances.csv'\n",
    "avg_gas_over_date = '../plots/tether/tether_avg_gas_over_date.csv'\n",
    "avg_value_over_date = '../plots/tether/tether_avg_value_over_date.csv'\n",
    "positive_cumulated_balances = '../plots/tether/tether_positive_cumulated_balances.csv'\n",
    "circulating_supply = '../plots/tether/tether_circulating_supply.csv'\n",
    "unique_recipients_per_day_over_date = '../plots/tether/tether_unique_recipients_per_day_over_date.csv'\n",
    "unique_senders_per_day_over_date = '../plots/tether/tether_unique_senders_per_day_over_date.csv'\n",
    "exchanges = '../plots/exchanges.csv'\n",
    "\n",
    "#data\n",
    "chunk0 = '../data/tether/transfer/0_tether_transfer_4638568-8513778.csv'\n",
    "chunk1 = '../data/tether/transfer/1_tether_transfer_8513799-8999999.csv'\n",
    "chunk2 = '../data/tether/transfer/2_tether_transfer_9000000-9799999.csv'\n",
    "chunk3 = '../data/tether/transfer/3_tether_transfer_9800000-10037842.csv'\n",
    "chunk4 = '../data/tether/transfer/4_tether_transfer_10037843-10176690.csv'\n",
    "chunk5 = '../data/tether/transfer/5_tether_transfer_10176691-10370273.csv' \n",
    "transfer = '../data/tether/transfer/tether_transfers.csv'\n",
    "issue = '../data/tether/issue/tether_issue.csv'\n",
    "destroyedblackfunds = '../data/tether/destroyedblackfunds/tether_destroyedblackfunds.csv'"
   ]
  },
  {
   "cell_type": "markdown",
   "metadata": {},
   "source": [
    "<center></center>"
   ]
  },
  {
   "cell_type": "markdown",
   "metadata": {},
   "source": [
    "# Data"
   ]
  },
  {
   "cell_type": "code",
   "execution_count": 3,
   "metadata": {},
   "outputs": [],
   "source": [
    "df = pd.read_csv(transfer)\n",
    "pd.set_option('display.float_format', lambda x: '%.3f' % x)"
   ]
  },
  {
   "cell_type": "markdown",
   "metadata": {},
   "source": [
    "## Basics"
   ]
  },
  {
   "cell_type": "code",
   "execution_count": 4,
   "metadata": {},
   "outputs": [
    {
     "data": {
      "text/html": [
       "<div>\n",
       "<style scoped>\n",
       "    .dataframe tbody tr th:only-of-type {\n",
       "        vertical-align: middle;\n",
       "    }\n",
       "\n",
       "    .dataframe tbody tr th {\n",
       "        vertical-align: top;\n",
       "    }\n",
       "\n",
       "    .dataframe thead th {\n",
       "        text-align: right;\n",
       "    }\n",
       "</style>\n",
       "<table border=\"1\" class=\"dataframe\">\n",
       "  <thead>\n",
       "    <tr style=\"text-align: right;\">\n",
       "      <th></th>\n",
       "      <th>timestamp</th>\n",
       "      <th>blocknumber</th>\n",
       "      <th>txindex</th>\n",
       "      <th>txhash</th>\n",
       "      <th>txfrom</th>\n",
       "      <th>txto</th>\n",
       "      <th>txvalue</th>\n",
       "      <th>gas_price</th>\n",
       "      <th>gas_used</th>\n",
       "    </tr>\n",
       "  </thead>\n",
       "  <tbody>\n",
       "    <tr>\n",
       "      <th>0</th>\n",
       "      <td>1511883490</td>\n",
       "      <td>4638568</td>\n",
       "      <td>24</td>\n",
       "      <td>0x51a2395087450379f38a866662090d6656e73929d205...</td>\n",
       "      <td>0x36928500bc1dcd7af6a2b4008875cc336b927d57</td>\n",
       "      <td>0xc6cde7c39eb2f0f0095f41570af89efc2c1ea828</td>\n",
       "      <td>100000000</td>\n",
       "      <td>4000000000</td>\n",
       "      <td>53401</td>\n",
       "    </tr>\n",
       "    <tr>\n",
       "      <th>1</th>\n",
       "      <td>1511883650</td>\n",
       "      <td>4638577</td>\n",
       "      <td>133</td>\n",
       "      <td>0x2c22ad3e367ee78da808ffec1e03a677ebb30703ce6c...</td>\n",
       "      <td>0xc6cde7c39eb2f0f0095f41570af89efc2c1ea828</td>\n",
       "      <td>0x2b2c9153acc4021676c165dc3e3b1c7ad1c7849d</td>\n",
       "      <td>10000000</td>\n",
       "      <td>10100000000</td>\n",
       "      <td>78185</td>\n",
       "    </tr>\n",
       "    <tr>\n",
       "      <th>2</th>\n",
       "      <td>1511883825</td>\n",
       "      <td>4638586</td>\n",
       "      <td>40</td>\n",
       "      <td>0x4afc4e7f282e9de371199df62803ce1f51722f1c669f...</td>\n",
       "      <td>0x36928500bc1dcd7af6a2b4008875cc336b927d57</td>\n",
       "      <td>0xc6cde7c39eb2f0f0095f41570af89efc2c1ea828</td>\n",
       "      <td>99900000000</td>\n",
       "      <td>4000000000</td>\n",
       "      <td>23465</td>\n",
       "    </tr>\n",
       "    <tr>\n",
       "      <th>3</th>\n",
       "      <td>1511885010</td>\n",
       "      <td>4638663</td>\n",
       "      <td>14</td>\n",
       "      <td>0x35348a160fd8b86adea49ff482f0d9d0185d5444206f...</td>\n",
       "      <td>0xc6cde7c39eb2f0f0095f41570af89efc2c1ea828</td>\n",
       "      <td>0x2b2c9153acc4021676c165dc3e3b1c7ad1c7849d</td>\n",
       "      <td>10000000</td>\n",
       "      <td>21000000000</td>\n",
       "      <td>208890</td>\n",
       "    </tr>\n",
       "    <tr>\n",
       "      <th>4</th>\n",
       "      <td>1511885455</td>\n",
       "      <td>4638700</td>\n",
       "      <td>18</td>\n",
       "      <td>0xe544a6ac188ea9c71427907974b90351c6b9ca2555c0...</td>\n",
       "      <td>0x2b2c9153acc4021676c165dc3e3b1c7ad1c7849d</td>\n",
       "      <td>0x9faf5515f177f3a8a845d48c19032b33cc54c09c</td>\n",
       "      <td>20000000</td>\n",
       "      <td>27000000000</td>\n",
       "      <td>38401</td>\n",
       "    </tr>\n",
       "    <tr>\n",
       "      <th>...</th>\n",
       "      <td>...</td>\n",
       "      <td>...</td>\n",
       "      <td>...</td>\n",
       "      <td>...</td>\n",
       "      <td>...</td>\n",
       "      <td>...</td>\n",
       "      <td>...</td>\n",
       "      <td>...</td>\n",
       "      <td>...</td>\n",
       "    </tr>\n",
       "    <tr>\n",
       "      <th>39501955</th>\n",
       "      <td>1593561580</td>\n",
       "      <td>10370273</td>\n",
       "      <td>231</td>\n",
       "      <td>0x1099ba059b11305d0ba50182e2c691b193c32f3265fe...</td>\n",
       "      <td>0x32cf6b531611b23011f92b3949112ff504e9e905</td>\n",
       "      <td>0xf248e371b165bd8d7116b6aae59cd826aa100708</td>\n",
       "      <td>1412451625</td>\n",
       "      <td>36400000000</td>\n",
       "      <td>56209</td>\n",
       "    </tr>\n",
       "    <tr>\n",
       "      <th>39501956</th>\n",
       "      <td>1593561580</td>\n",
       "      <td>10370273</td>\n",
       "      <td>247</td>\n",
       "      <td>0x4f589a62725c3245ca792e3c5af01039bb784687a014...</td>\n",
       "      <td>0x9143e2176ee5db4157f79b944836755ffcd234c9</td>\n",
       "      <td>0xf0b97a87c3d03b7c139c5739f99db61ee554e600</td>\n",
       "      <td>129000000</td>\n",
       "      <td>33600000000</td>\n",
       "      <td>26197</td>\n",
       "    </tr>\n",
       "    <tr>\n",
       "      <th>39501957</th>\n",
       "      <td>1593561580</td>\n",
       "      <td>10370273</td>\n",
       "      <td>259</td>\n",
       "      <td>0x21631a7e2b788a68be78d325c896a666b19106c2c9e8...</td>\n",
       "      <td>0xa5407eae9ba41422680e2e00537571bcc53efbfd</td>\n",
       "      <td>0xdd222f0b646ec393160ae597037db51b5327cdde</td>\n",
       "      <td>500098611</td>\n",
       "      <td>31830000000</td>\n",
       "      <td>99675</td>\n",
       "    </tr>\n",
       "    <tr>\n",
       "      <th>39501958</th>\n",
       "      <td>1593561580</td>\n",
       "      <td>10370273</td>\n",
       "      <td>266</td>\n",
       "      <td>0x345ad323bbd4cf1e87f72632fb37bd65ff7f9478cf8c...</td>\n",
       "      <td>0x00a2b2a9d01a80d1c0219a4b4bc6a02541e3eaa3</td>\n",
       "      <td>0xd98ad997d1b974954782ebe7961336df7966538c</td>\n",
       "      <td>122636450</td>\n",
       "      <td>31000000000</td>\n",
       "      <td>41209</td>\n",
       "    </tr>\n",
       "    <tr>\n",
       "      <th>39501959</th>\n",
       "      <td>1593561580</td>\n",
       "      <td>10370273</td>\n",
       "      <td>269</td>\n",
       "      <td>0x04c92e1aa23e1166c3e10ef187502841a2a1dc253b6a...</td>\n",
       "      <td>0xc357a2e1b4873479982e1c4297ba3b7be5ce0365</td>\n",
       "      <td>0x962e88bc7ae942c080a7a8d9e5d83d2585b8859c</td>\n",
       "      <td>14981000000</td>\n",
       "      <td>30000000000</td>\n",
       "      <td>26221</td>\n",
       "    </tr>\n",
       "  </tbody>\n",
       "</table>\n",
       "<p>39501960 rows × 9 columns</p>\n",
       "</div>"
      ],
      "text/plain": [
       "           timestamp  blocknumber  txindex  \\\n",
       "0         1511883490      4638568       24   \n",
       "1         1511883650      4638577      133   \n",
       "2         1511883825      4638586       40   \n",
       "3         1511885010      4638663       14   \n",
       "4         1511885455      4638700       18   \n",
       "...              ...          ...      ...   \n",
       "39501955  1593561580     10370273      231   \n",
       "39501956  1593561580     10370273      247   \n",
       "39501957  1593561580     10370273      259   \n",
       "39501958  1593561580     10370273      266   \n",
       "39501959  1593561580     10370273      269   \n",
       "\n",
       "                                                     txhash  \\\n",
       "0         0x51a2395087450379f38a866662090d6656e73929d205...   \n",
       "1         0x2c22ad3e367ee78da808ffec1e03a677ebb30703ce6c...   \n",
       "2         0x4afc4e7f282e9de371199df62803ce1f51722f1c669f...   \n",
       "3         0x35348a160fd8b86adea49ff482f0d9d0185d5444206f...   \n",
       "4         0xe544a6ac188ea9c71427907974b90351c6b9ca2555c0...   \n",
       "...                                                     ...   \n",
       "39501955  0x1099ba059b11305d0ba50182e2c691b193c32f3265fe...   \n",
       "39501956  0x4f589a62725c3245ca792e3c5af01039bb784687a014...   \n",
       "39501957  0x21631a7e2b788a68be78d325c896a666b19106c2c9e8...   \n",
       "39501958  0x345ad323bbd4cf1e87f72632fb37bd65ff7f9478cf8c...   \n",
       "39501959  0x04c92e1aa23e1166c3e10ef187502841a2a1dc253b6a...   \n",
       "\n",
       "                                              txfrom  \\\n",
       "0         0x36928500bc1dcd7af6a2b4008875cc336b927d57   \n",
       "1         0xc6cde7c39eb2f0f0095f41570af89efc2c1ea828   \n",
       "2         0x36928500bc1dcd7af6a2b4008875cc336b927d57   \n",
       "3         0xc6cde7c39eb2f0f0095f41570af89efc2c1ea828   \n",
       "4         0x2b2c9153acc4021676c165dc3e3b1c7ad1c7849d   \n",
       "...                                              ...   \n",
       "39501955  0x32cf6b531611b23011f92b3949112ff504e9e905   \n",
       "39501956  0x9143e2176ee5db4157f79b944836755ffcd234c9   \n",
       "39501957  0xa5407eae9ba41422680e2e00537571bcc53efbfd   \n",
       "39501958  0x00a2b2a9d01a80d1c0219a4b4bc6a02541e3eaa3   \n",
       "39501959  0xc357a2e1b4873479982e1c4297ba3b7be5ce0365   \n",
       "\n",
       "                                                txto      txvalue  \\\n",
       "0         0xc6cde7c39eb2f0f0095f41570af89efc2c1ea828    100000000   \n",
       "1         0x2b2c9153acc4021676c165dc3e3b1c7ad1c7849d     10000000   \n",
       "2         0xc6cde7c39eb2f0f0095f41570af89efc2c1ea828  99900000000   \n",
       "3         0x2b2c9153acc4021676c165dc3e3b1c7ad1c7849d     10000000   \n",
       "4         0x9faf5515f177f3a8a845d48c19032b33cc54c09c     20000000   \n",
       "...                                              ...          ...   \n",
       "39501955  0xf248e371b165bd8d7116b6aae59cd826aa100708   1412451625   \n",
       "39501956  0xf0b97a87c3d03b7c139c5739f99db61ee554e600    129000000   \n",
       "39501957  0xdd222f0b646ec393160ae597037db51b5327cdde    500098611   \n",
       "39501958  0xd98ad997d1b974954782ebe7961336df7966538c    122636450   \n",
       "39501959  0x962e88bc7ae942c080a7a8d9e5d83d2585b8859c  14981000000   \n",
       "\n",
       "            gas_price  gas_used  \n",
       "0          4000000000     53401  \n",
       "1         10100000000     78185  \n",
       "2          4000000000     23465  \n",
       "3         21000000000    208890  \n",
       "4         27000000000     38401  \n",
       "...               ...       ...  \n",
       "39501955  36400000000     56209  \n",
       "39501956  33600000000     26197  \n",
       "39501957  31830000000     99675  \n",
       "39501958  31000000000     41209  \n",
       "39501959  30000000000     26221  \n",
       "\n",
       "[39501960 rows x 9 columns]"
      ]
     },
     "execution_count": 4,
     "metadata": {},
     "output_type": "execute_result"
    }
   ],
   "source": [
    "df"
   ]
  },
  {
   "cell_type": "code",
   "execution_count": 5,
   "metadata": {},
   "outputs": [
    {
     "data": {
      "text/html": [
       "<div>\n",
       "<style scoped>\n",
       "    .dataframe tbody tr th:only-of-type {\n",
       "        vertical-align: middle;\n",
       "    }\n",
       "\n",
       "    .dataframe tbody tr th {\n",
       "        vertical-align: top;\n",
       "    }\n",
       "\n",
       "    .dataframe thead th {\n",
       "        text-align: right;\n",
       "    }\n",
       "</style>\n",
       "<table border=\"1\" class=\"dataframe\">\n",
       "  <thead>\n",
       "    <tr style=\"text-align: right;\">\n",
       "      <th></th>\n",
       "      <th>timestamp</th>\n",
       "      <th>blocknumber</th>\n",
       "      <th>txindex</th>\n",
       "      <th>txvalue</th>\n",
       "      <th>gas_price</th>\n",
       "      <th>gas_used</th>\n",
       "    </tr>\n",
       "  </thead>\n",
       "  <tbody>\n",
       "    <tr>\n",
       "      <th>count</th>\n",
       "      <td>39501960.000</td>\n",
       "      <td>39501960.000</td>\n",
       "      <td>39501960.000</td>\n",
       "      <td>39501960.000</td>\n",
       "      <td>39501960.000</td>\n",
       "      <td>39501960.000</td>\n",
       "    </tr>\n",
       "    <tr>\n",
       "      <th>mean</th>\n",
       "      <td>1580935679.401</td>\n",
       "      <td>9444054.995</td>\n",
       "      <td>72.188</td>\n",
       "      <td>8172894411.684</td>\n",
       "      <td>27244892832.678</td>\n",
       "      <td>57439.360</td>\n",
       "    </tr>\n",
       "    <tr>\n",
       "      <th>std</th>\n",
       "      <td>9584380.055</td>\n",
       "      <td>694142.685</td>\n",
       "      <td>57.457</td>\n",
       "      <td>292561831217.660</td>\n",
       "      <td>66752124163.847</td>\n",
       "      <td>226811.609</td>\n",
       "    </tr>\n",
       "    <tr>\n",
       "      <th>min</th>\n",
       "      <td>1511883490.000</td>\n",
       "      <td>4638568.000</td>\n",
       "      <td>0.000</td>\n",
       "      <td>0.000</td>\n",
       "      <td>0.000</td>\n",
       "      <td>22121.000</td>\n",
       "    </tr>\n",
       "    <tr>\n",
       "      <th>25%</th>\n",
       "      <td>1572446336.000</td>\n",
       "      <td>8840837.000</td>\n",
       "      <td>24.000</td>\n",
       "      <td>118180000.000</td>\n",
       "      <td>10500000002.000</td>\n",
       "      <td>26221.000</td>\n",
       "    </tr>\n",
       "    <tr>\n",
       "      <th>50%</th>\n",
       "      <td>1583306564.000</td>\n",
       "      <td>9603341.000</td>\n",
       "      <td>59.000</td>\n",
       "      <td>460000000.000</td>\n",
       "      <td>23352536853.500</td>\n",
       "      <td>41209.000</td>\n",
       "    </tr>\n",
       "    <tr>\n",
       "      <th>75%</th>\n",
       "      <td>1589548490.000</td>\n",
       "      <td>10070942.000</td>\n",
       "      <td>110.000</td>\n",
       "      <td>1827000000.000</td>\n",
       "      <td>37000000000.000</td>\n",
       "      <td>53465.000</td>\n",
       "    </tr>\n",
       "    <tr>\n",
       "      <th>max</th>\n",
       "      <td>1593561580.000</td>\n",
       "      <td>10370273.000</td>\n",
       "      <td>567.000</td>\n",
       "      <td>549037905787436.000</td>\n",
       "      <td>210010998142857.000</td>\n",
       "      <td>9430022.000</td>\n",
       "    </tr>\n",
       "  </tbody>\n",
       "</table>\n",
       "</div>"
      ],
      "text/plain": [
       "           timestamp  blocknumber      txindex             txvalue  \\\n",
       "count   39501960.000 39501960.000 39501960.000        39501960.000   \n",
       "mean  1580935679.401  9444054.995       72.188      8172894411.684   \n",
       "std      9584380.055   694142.685       57.457    292561831217.660   \n",
       "min   1511883490.000  4638568.000        0.000               0.000   \n",
       "25%   1572446336.000  8840837.000       24.000       118180000.000   \n",
       "50%   1583306564.000  9603341.000       59.000       460000000.000   \n",
       "75%   1589548490.000 10070942.000      110.000      1827000000.000   \n",
       "max   1593561580.000 10370273.000      567.000 549037905787436.000   \n",
       "\n",
       "                gas_price     gas_used  \n",
       "count        39501960.000 39501960.000  \n",
       "mean      27244892832.678    57439.360  \n",
       "std       66752124163.847   226811.609  \n",
       "min                 0.000    22121.000  \n",
       "25%       10500000002.000    26221.000  \n",
       "50%       23352536853.500    41209.000  \n",
       "75%       37000000000.000    53465.000  \n",
       "max   210010998142857.000  9430022.000  "
      ]
     },
     "execution_count": 5,
     "metadata": {},
     "output_type": "execute_result"
    }
   ],
   "source": [
    "df.describe()"
   ]
  },
  {
   "cell_type": "markdown",
   "metadata": {},
   "source": [
    "## Largest Transfer and Costs"
   ]
  },
  {
   "cell_type": "code",
   "execution_count": 6,
   "metadata": {},
   "outputs": [
    {
     "data": {
      "text/html": [
       "<div>\n",
       "<style scoped>\n",
       "    .dataframe tbody tr th:only-of-type {\n",
       "        vertical-align: middle;\n",
       "    }\n",
       "\n",
       "    .dataframe tbody tr th {\n",
       "        vertical-align: top;\n",
       "    }\n",
       "\n",
       "    .dataframe thead th {\n",
       "        text-align: right;\n",
       "    }\n",
       "</style>\n",
       "<table border=\"1\" class=\"dataframe\">\n",
       "  <thead>\n",
       "    <tr style=\"text-align: right;\">\n",
       "      <th></th>\n",
       "      <th>timestamp</th>\n",
       "      <th>blocknumber</th>\n",
       "      <th>txindex</th>\n",
       "      <th>txhash</th>\n",
       "      <th>txfrom</th>\n",
       "      <th>txto</th>\n",
       "      <th>txvalue</th>\n",
       "      <th>gas_price</th>\n",
       "      <th>gas_used</th>\n",
       "    </tr>\n",
       "  </thead>\n",
       "  <tbody>\n",
       "    <tr>\n",
       "      <th>805347</th>\n",
       "      <td>1562684575</td>\n",
       "      <td>8117763</td>\n",
       "      <td>66</td>\n",
       "      <td>0xf5b73c8fa7e8c0f0a06b8ecb809784143943c3b0abf6...</td>\n",
       "      <td>0x4e9ce36e442e55ecd9025b9a6e0d88485d628a67</td>\n",
       "      <td>0xbe0eb53f46cd790cd13851d5eff43d12404d33e8</td>\n",
       "      <td>549037905787436</td>\n",
       "      <td>15000000000</td>\n",
       "      <td>38657</td>\n",
       "    </tr>\n",
       "  </tbody>\n",
       "</table>\n",
       "</div>"
      ],
      "text/plain": [
       "         timestamp  blocknumber  txindex  \\\n",
       "805347  1562684575      8117763       66   \n",
       "\n",
       "                                                   txhash  \\\n",
       "805347  0xf5b73c8fa7e8c0f0a06b8ecb809784143943c3b0abf6...   \n",
       "\n",
       "                                            txfrom  \\\n",
       "805347  0x4e9ce36e442e55ecd9025b9a6e0d88485d628a67   \n",
       "\n",
       "                                              txto          txvalue  \\\n",
       "805347  0xbe0eb53f46cd790cd13851d5eff43d12404d33e8  549037905787436   \n",
       "\n",
       "          gas_price  gas_used  \n",
       "805347  15000000000     38657  "
      ]
     },
     "execution_count": 6,
     "metadata": {},
     "output_type": "execute_result"
    }
   ],
   "source": [
    "#Largest tx: 0xf5b73c8fa7e8c0f0a06b8ecb809784143943c3b0abf665747eadf7b4610fa23e\n",
    "la = pd.read_csv(chunk0)\n",
    "la[la['txvalue']==max(la['txvalue'])]"
   ]
  },
  {
   "cell_type": "code",
   "execution_count": 7,
   "metadata": {},
   "outputs": [
    {
     "data": {
      "text/plain": [
       "0.000579855"
      ]
     },
     "execution_count": 7,
     "metadata": {},
     "output_type": "execute_result"
    }
   ],
   "source": [
    "15000000000*38657/10**18"
   ]
  },
  {
   "cell_type": "markdown",
   "metadata": {},
   "source": [
    "<center></center>"
   ]
  },
  {
   "cell_type": "markdown",
   "metadata": {},
   "source": [
    "## Dataset"
   ]
  },
  {
   "cell_type": "code",
   "execution_count": 8,
   "metadata": {},
   "outputs": [
    {
     "name": "stdout",
     "output_type": "stream",
     "text": [
      "Start:\n",
      "Block:            4638568            \n",
      "Timestamp:      1511883490     \n",
      "UTC Time:    2017-11-28 16:38:10   \n",
      "\n",
      "End:\n",
      "Block:            10370273           \n",
      "Timestamp:      1593561580     \n",
      "UTC Time:    2020-07-01 01:59:40   \n",
      "\n"
     ]
    }
   ],
   "source": [
    "print('Start:')\n",
    "print('Block: {:^30}\\nTimestamp: {:^20}\\nUTC Time: {:^25}\\n'.format(df['blocknumber'].iloc[0],\n",
    "                                                        df['timestamp'].iloc[0],\n",
    "                                                        str(datetime.fromtimestamp(df['timestamp'].iloc[0]))\n",
    "                                                       ))\n",
    "print('End:')\n",
    "print('Block: {:^30}\\nTimestamp: {:^20}\\nUTC Time: {:^25}\\n'.format(df['blocknumber'].iloc[-1],\n",
    "                                                        df['timestamp'].iloc[-1],\n",
    "                                                        str(datetime.fromtimestamp(df['timestamp'].iloc[-1]))\n",
    "                                                       ))"
   ]
  },
  {
   "cell_type": "markdown",
   "metadata": {},
   "source": [
    "## Total Nr. of Blocks"
   ]
  },
  {
   "cell_type": "code",
   "execution_count": 9,
   "metadata": {
    "scrolled": true
   },
   "outputs": [
    {
     "name": "stdout",
     "output_type": "stream",
     "text": [
      "Total Nr. of Blocks: 5731705\n"
     ]
    }
   ],
   "source": [
    "print('Total Nr. of Blocks: {}'.format(df['blocknumber'].iloc[-1]-df['blocknumber'].iloc[0]))"
   ]
  },
  {
   "cell_type": "markdown",
   "metadata": {},
   "source": [
    "<center></center>"
   ]
  },
  {
   "cell_type": "markdown",
   "metadata": {},
   "source": [
    "## Total Nr. of Transfer Events"
   ]
  },
  {
   "cell_type": "code",
   "execution_count": 10,
   "metadata": {},
   "outputs": [
    {
     "name": "stdout",
     "output_type": "stream",
     "text": [
      "Total Nr. of Events: 39,501,960\n"
     ]
    }
   ],
   "source": [
    "print('Total Nr. of Events: {:,.0f}'.format(df.describe().loc['count','timestamp']))"
   ]
  },
  {
   "cell_type": "markdown",
   "metadata": {},
   "source": [
    "<center></center>"
   ]
  },
  {
   "cell_type": "markdown",
   "metadata": {},
   "source": [
    "## Total Nr. of Addresses"
   ]
  },
  {
   "cell_type": "code",
   "execution_count": 11,
   "metadata": {},
   "outputs": [
    {
     "name": "stdout",
     "output_type": "stream",
     "text": [
      "Total Nr. of Addresses: 6299834\n"
     ]
    }
   ],
   "source": [
    "print('Total Nr. of Addresses: {}'.format(len(df['txto'].unique())))"
   ]
  },
  {
   "cell_type": "markdown",
   "metadata": {},
   "source": [
    "<center></center>"
   ]
  },
  {
   "cell_type": "markdown",
   "metadata": {},
   "source": [
    "## Addresses with funds"
   ]
  },
  {
   "cell_type": "code",
   "execution_count": 12,
   "metadata": {},
   "outputs": [
    {
     "name": "stdout",
     "output_type": "stream",
     "text": [
      "Total Nr. of Addresses with funds: 1477063\n"
     ]
    }
   ],
   "source": [
    "bal = pd.read_csv(balances)\n",
    "print('Total Nr. of Addresses with funds: {}'.format(len(bal[bal['txvalue']>0])))"
   ]
  },
  {
   "cell_type": "markdown",
   "metadata": {},
   "source": [
    "<center></center>"
   ]
  },
  {
   "cell_type": "markdown",
   "metadata": {},
   "source": [
    "## Avg. Transaction Value"
   ]
  },
  {
   "cell_type": "code",
   "execution_count": 13,
   "metadata": {},
   "outputs": [
    {
     "name": "stdout",
     "output_type": "stream",
     "text": [
      "Avg. Transaction Value: 8,173 tether\n"
     ]
    }
   ],
   "source": [
    "print('Avg. Transaction Value: {:,.0f} tether'.format(np.mean(df['txvalue']/ 10**6)))"
   ]
  },
  {
   "cell_type": "markdown",
   "metadata": {},
   "source": [
    "<center></center>"
   ]
  },
  {
   "cell_type": "markdown",
   "metadata": {},
   "source": [
    "## Total Gas Costs"
   ]
  },
  {
   "cell_type": "code",
   "execution_count": 14,
   "metadata": {},
   "outputs": [
    {
     "name": "stdout",
     "output_type": "stream",
     "text": [
      "Total Gas spent for Transfers: 60,146.923\n"
     ]
    }
   ],
   "source": [
    "df[\"costs\"] = (df[\"gas_price\"]/10**18) * df[\"gas_used\"]\n",
    "print('Total Gas spent for Transfers: {:,.3f}'.format(sum(df[\"costs\"])))"
   ]
  },
  {
   "cell_type": "markdown",
   "metadata": {},
   "source": [
    "<center></center>"
   ]
  },
  {
   "cell_type": "markdown",
   "metadata": {},
   "source": [
    "## Initial Tether Supply"
   ]
  },
  {
   "cell_type": "code",
   "execution_count": 15,
   "metadata": {},
   "outputs": [
    {
     "name": "stdout",
     "output_type": "stream",
     "text": [
      "Initial Supply: 100,000 tether\n"
     ]
    }
   ],
   "source": [
    "init = df[(df['txfrom'] == '0x36928500bc1dcd7af6a2b4008875cc336b927d57') & \n",
    "                     (df['timestamp'] < 1511883900)]['txvalue'].sum()\n",
    "print('Initial Supply: {:,.0f} tether'.format(init/10**6))"
   ]
  },
  {
   "cell_type": "markdown",
   "metadata": {},
   "source": [
    "<center></center>"
   ]
  },
  {
   "cell_type": "markdown",
   "metadata": {},
   "source": [
    "## Total Tether Supply"
   ]
  },
  {
   "cell_type": "code",
   "execution_count": 16,
   "metadata": {},
   "outputs": [
    {
     "data": {
      "text/plain": [
       "6037847550.677356"
      ]
     },
     "execution_count": 16,
     "metadata": {},
     "output_type": "execute_result"
    }
   ],
   "source": [
    "sum(pd.read_csv(issue)['txvalue']/10**6)-sum(pd.read_csv(destroyedblackfunds)['txvalue']/10**6)"
   ]
  },
  {
   "cell_type": "markdown",
   "metadata": {},
   "source": [
    "<center></center>"
   ]
  },
  {
   "cell_type": "markdown",
   "metadata": {},
   "source": [
    "## Balance Bitfinex Multisig as of July 1st"
   ]
  },
  {
   "cell_type": "code",
   "execution_count": 17,
   "metadata": {},
   "outputs": [
    {
     "data": {
      "text/plain": [
       "108850.0"
      ]
     },
     "execution_count": 17,
     "metadata": {},
     "output_type": "execute_result"
    }
   ],
   "source": [
    "6040118005.642-6040009155.642\n"
   ]
  },
  {
   "cell_type": "markdown",
   "metadata": {},
   "source": [
    "<center></center>"
   ]
  },
  {
   "cell_type": "markdown",
   "metadata": {},
   "source": [
    "<center></center>"
   ]
  },
  {
   "cell_type": "markdown",
   "metadata": {},
   "source": [
    "# I. Event analysis"
   ]
  },
  {
   "cell_type": "markdown",
   "metadata": {},
   "source": [
    "## I.I. Issue Event"
   ]
  },
  {
   "cell_type": "markdown",
   "metadata": {},
   "source": [
    "## Plot new issued tokens over date"
   ]
  },
  {
   "cell_type": "code",
   "execution_count": null,
   "metadata": {},
   "outputs": [],
   "source": [
    "print('\\n\\n')\n",
    "fig = plt.figure(figsize=(40,25), dpi=250)\n",
    "ax = fig.subplots()\n",
    "plt.grid()\n",
    "plt.title(r'I s s u e d \\ \\ T e t h e r'+'\\n', size= 120)\n",
    "ax.yaxis.get_offset_text().set_fontsize(50)\n",
    "plt.xlabel('\\n'+r'D a t e ', size=120)\n",
    "plt.ylabel(r'U S D T'+'\\n', size=120)\n",
    "plt.yticks(fontsize=60)\n",
    "plt.xticks(labels=[\"\\nJan '18\",\"Apr '18\",\n",
    "                   \"\\nJul '18\",\"Oct '18\",\"\\nJan '19\",\n",
    "                   \"Apr '19\",\"\\nJul '19\",\"Oct '19\",\n",
    "                   \"\\nJan '20\",\"Apr '20\",\"\\nJul '20\"], \n",
    "           ticks=[34,124,\n",
    "                  215,307,399,\n",
    "                  489,580,672,\n",
    "                  764,855,946], fontsize=60)\n",
    "\n",
    "def plot_issue_over_date():\n",
    "    _issue = pd.read_csv(issue)\n",
    "    iss = _issue.loc[:, ['timestamp', 'txvalue']]\n",
    "    iss['utc'] = iss['timestamp'].apply(lambda x: str(datetime.utcfromtimestamp(x))[0:10])\n",
    "    iss = iss.groupby('utc', as_index = False)['txvalue'].sum()\n",
    "    a = iss['utc'].iloc[0]\n",
    "    b = iss['utc'].iloc[-1]\n",
    "    idx = pd.date_range(a,b)\n",
    "    iss = iss.set_index('utc')\n",
    "    iss.index = pd.DatetimeIndex(iss.index)\n",
    "    iss = iss.reindex(idx, fill_value=0)\n",
    "    counter = 0\n",
    "    for i in range(0, len(iss)):\n",
    "        plt.plot([counter,counter], [0, iss['txvalue'].iloc[counter]/(10**6)], color= 'black', linewidth=5)\n",
    "        counter += 1\n",
    "    return \n",
    "\n",
    "plt.tight_layout(pad=5)\n",
    "plot_issue_over_date()\n",
    "plt.savefig('../pics/tether/tether_issued_tether_over_date.pdf')"
   ]
  },
  {
   "cell_type": "markdown",
   "metadata": {},
   "source": [
    "## Further info"
   ]
  },
  {
   "cell_type": "code",
   "execution_count": 18,
   "metadata": {},
   "outputs": [
    {
     "name": "stdout",
     "output_type": "stream",
     "text": [
      "Issue Events: 74\n",
      "Issued Tether: 6,040,118,006\n",
      "\n",
      "Largest issue: 120,000,000 Tether\n",
      " . . . to address: 0xC6CDE7C39eB2f0F0095F41570af89eFC2C1Ea828\n",
      "\n"
     ]
    }
   ],
   "source": [
    "df = pd.read_csv(issue)\n",
    "\n",
    "print('Issue Events: {}\\nIssued Tether: {:,.0f}\\n'.format(len(df), sum(df['txvalue'])/10**6, \":,0f\"))\n",
    "print('Largest issue: {:,.0f} Tether\\n . . . to address: {}\\n'.format(df.loc[72, 'txvalue']//10**6,'0xC6CDE7C39eB2f0F0095F41570af89eFC2C1Ea828'))"
   ]
  },
  {
   "cell_type": "markdown",
   "metadata": {},
   "source": [
    "<center></center>"
   ]
  },
  {
   "cell_type": "markdown",
   "metadata": {},
   "source": [
    "<center></center>"
   ]
  },
  {
   "cell_type": "markdown",
   "metadata": {},
   "source": [
    "## I.II. DestroyBlackFunds Event"
   ]
  },
  {
   "cell_type": "markdown",
   "metadata": {},
   "source": [
    "## Plot burned tokens over date"
   ]
  },
  {
   "cell_type": "code",
   "execution_count": null,
   "metadata": {},
   "outputs": [],
   "source": [
    "print('\\n\\n')\n",
    "fig = plt.figure(figsize=(40,25))\n",
    "ax = fig.subplots()\n",
    "plt.grid()\n",
    "plt.title(r'B u r n e d \\ \\ T e t h e r'+'\\n', size= 120)\n",
    "ax.yaxis.get_offset_text().set_fontsize(50)\n",
    "plt.xlabel('\\n'+r'D a t e', size=120)\n",
    "plt.ylabel(r'U S D T'+'\\n', size=120)\n",
    "plt.yticks(fontsize=60)\n",
    "plt.xticks(labels=[\"\\nJan '18\",\"Apr '18\",\n",
    "                   \"\\nJul '18\",\"Oct '18\",\"\\nJan '19\",\n",
    "                   \"Apr '19\",\"\\nJul '19\",\"Oct '19\",\n",
    "                   \"\\nJan '20\",\"Apr '20\",\"\\nJul '20\"], \n",
    "           ticks=[34,124,\n",
    "                  215,307,399,\n",
    "                  489,580,672,\n",
    "                  764,855,946], fontsize=60) \n",
    "\n",
    "def plot_burn_over_date():\n",
    "    _dbf = pd.read_csv(destroyedblackfunds)\n",
    "    dbf = _dbf.loc[:, ['timestamp', 'txvalue']]\n",
    "    dbf['utc'] = dbf['timestamp'].apply(lambda x: str(datetime.utcfromtimestamp(x))[0:10])\n",
    "    dbf = dbf.groupby('utc', as_index = False)['txvalue'].sum()\n",
    "    a = dbf['utc'].iloc[0]\n",
    "    b = dbf['utc'].iloc[-1]\n",
    "    idx = pd.date_range(a,b)\n",
    "    dbf = dbf.set_index('utc')\n",
    "    dbf.index = pd.DatetimeIndex(dbf.index)\n",
    "    dbf = dbf.reindex(idx, fill_value=0)\n",
    "    counter = 0\n",
    "    for i in range(0, len(dbf)):\n",
    "        plt.plot([counter,counter], [0, dbf['txvalue'].iloc[counter]/(10**6)], color= 'black', linewidth=5)\n",
    "        counter += 1\n",
    "    return\n",
    "\n",
    "plt.tight_layout(pad=5)\n",
    "plot_burn_over_date()\n",
    "plt.savefig('../pics/tether/tether_burned_tether_over_date.pdf')"
   ]
  },
  {
   "cell_type": "markdown",
   "metadata": {},
   "source": [
    "## Further info"
   ]
  },
  {
   "cell_type": "code",
   "execution_count": 19,
   "metadata": {},
   "outputs": [
    {
     "name": "stdout",
     "output_type": "stream",
     "text": [
      "Burn Events: 49\n",
      "Burned Tether: 2,270,455\n",
      ". . . from 32 addesses\n",
      "\n",
      "Largest burn: 959,534 Tether\n",
      " . . . from address: 0x0000000000000000000000000000000000000000\n",
      "\n"
     ]
    }
   ],
   "source": [
    "df = pd.read_csv(destroyedblackfunds)\n",
    "\n",
    "print('Burn Events: {}\\nBurned Tether: {:,.0f}'.format(len(df), sum(df['txvalue'])/10**6, \":,0f\"))\n",
    "print('. . . from {} addesses\\n'.format(len(df['address'].unique())))\n",
    "print('Largest burn: {:,.0f} Tether\\n . . . from address: {}\\n'.format(df.groupby(\"address\")[\"txvalue\"].sum()[0]/10**6,df.groupby(\"address\")[\"txvalue\"].sum().index[0]))"
   ]
  },
  {
   "cell_type": "markdown",
   "metadata": {},
   "source": [
    "<center></center>"
   ]
  },
  {
   "cell_type": "markdown",
   "metadata": {},
   "source": [
    "<center></center>"
   ]
  },
  {
   "cell_type": "markdown",
   "metadata": {},
   "source": [
    "## Plot circulating supply"
   ]
  },
  {
   "cell_type": "code",
   "execution_count": null,
   "metadata": {},
   "outputs": [],
   "source": [
    "pd.read_csv(circulating_supply, index_col='Unnamed: 0').cumsum()"
   ]
  },
  {
   "cell_type": "code",
   "execution_count": null,
   "metadata": {},
   "outputs": [],
   "source": [
    "print('\\n\\n')\n",
    "fig = plt.figure(figsize=(20,12), dpi=500)\n",
    "ax = fig.subplots()\n",
    "plt.grid(True)\n",
    "plt.title(r'C i r c u l a t i n g \\ \\ T e t h e r \\ \\ S u p p l y'+'\\n', size=60)\n",
    "plt.xlabel('\\n'+r'D a t e', size= 60)\n",
    "plt.ylabel(r'U S D T'+'\\n', size= 60)\n",
    "ax.yaxis.get_offset_text().set_fontsize(25)\n",
    "\n",
    "plt.yticks(fontsize=30)\n",
    "plt.xticks(labels=[\"\\nJan '18\",\"Apr '18\",\n",
    "                       \"\\nJul '18\",\"Oct '18\",\"\\nJan '19\",\n",
    "                       \"Apr '19\",\"\\nJul '19\",\"Oct '19\",\n",
    "                       \"\\nJan '20\",\"Apr '20\",\"\\nJul '20\"], \n",
    "               ticks=[34,124,\n",
    "                      215,307,399,\n",
    "                      489,580,672,\n",
    "                      764,855,946], fontsize=30)\n",
    "\n",
    "circ = pd.read_csv(circulating_supply, index_col='Unnamed: 0')\n",
    "plt.plot(range(0, 945), circ['txvalue'].cumsum()/10**6, color='black', linewidth = 4, label = 'Tether supply')\n",
    "plt.fill_between(range(0, 945),0 , circ['txvalue'].cumsum()/10**6, alpha=0.2, facecolor='#2D728F')\n",
    "lgnd = plt.legend(loc='upper left', fontsize=40)\n",
    "plt.tight_layout(pad=5)\n",
    "plt.savefig('../pics/tether/tether_cirulating_supply.pdf')"
   ]
  },
  {
   "cell_type": "markdown",
   "metadata": {},
   "source": [
    "<center></center>"
   ]
  },
  {
   "cell_type": "markdown",
   "metadata": {},
   "source": [
    "<center></center>"
   ]
  },
  {
   "cell_type": "markdown",
   "metadata": {},
   "source": [
    "<center></center>"
   ]
  },
  {
   "cell_type": "markdown",
   "metadata": {},
   "source": [
    "## I.III. Transfer Event"
   ]
  },
  {
   "cell_type": "markdown",
   "metadata": {},
   "source": [
    "## Plot transfers over date"
   ]
  },
  {
   "cell_type": "code",
   "execution_count": null,
   "metadata": {},
   "outputs": [],
   "source": [
    "print('\\n\\n')\n",
    "fig = plt.figure(figsize=(20,12), dpi=500)\n",
    "ax = fig.subplots()\n",
    "plt.grid(True)\n",
    "plt.title(r'T e t h e r \\ \\ T r a n s f e r s'+'\\n', size=60)\n",
    "plt.xlabel('\\n'+r'D a t e', size= 50)\n",
    "plt.ylabel(r'T r a n s f e r s'+'\\n', size= 50)\n",
    "plt.yticks(np.arange(0, 300001, 50000), \n",
    "           np.vectorize(lambda x: f'{x:,.0f}')(np.arange(0, 300001, 50000)), \n",
    "           fontsize=30)\n",
    "plt.xticks(labels=[\"\\nJan '18\",\"Apr '18\",\n",
    "                       \"\\nJul '18\",\"Oct '18\",\"\\nJan '19\",\n",
    "                       \"Apr '19\",\"\\nJul '19\",\"Oct '19\",\n",
    "                       \"\\nJan '20\",\"Apr '20\",\"\\nJul '20\"], \n",
    "               ticks=[34,124,\n",
    "                      215,307,399,\n",
    "                      489,580,672,\n",
    "                      764,855,946], fontsize=30)\n",
    "\n",
    "def plot_txs_over_date(df, lwd, label, col = '#2D728F', fillbetween=False):\n",
    "    plt.plot(np.arange(0 , len(df[\"txs\"])), df[\"txs\"], color = col, linewidth = lwd, label = label)\n",
    "    if fillbetween:\n",
    "        plt.fill_between(np.arange(0 , len(df['txs'])),0 , df['txs'], alpha=0.2, facecolor='#2D728F')\n",
    " \n",
    "    \n",
    "plot_txs_over_date(df = pd.read_csv(tx_over_date, index_col=0), \n",
    "                   col = 'black', lwd = 2, label = 'Transfers', fillbetween=True)\n",
    "\n",
    "plot_txs_over_date(pd.read_csv(unique_recipients_per_day_over_date, index_col='Unnamed: 0'), \n",
    "                   lwd = 2, label = 'Unique Recipients per day')\n",
    "\n",
    "plot_txs_over_date(pd.read_csv(unique_senders_per_day_over_date, index_col='Unnamed: 0'), \n",
    "                   col='#9DB469', lwd = 2, label =  'Unique Senders per day')\n",
    "\n",
    "lgnd = ax.legend(loc='upper left', fontsize=35)\n",
    "lgnd.legendHandles[0].set_linewidth(5.0)\n",
    "lgnd.legendHandles[1].set_linewidth(5.0)\n",
    "lgnd.legendHandles[2].set_linewidth(5.0)\n",
    "\n",
    "plt.tight_layout(pad=5)\n",
    "plt.savefig('../pics/tether/tether_tx_over_date.pdf')\n",
    "plt.show()"
   ]
  },
  {
   "cell_type": "markdown",
   "metadata": {},
   "source": [
    "<center></center>"
   ]
  },
  {
   "cell_type": "markdown",
   "metadata": {},
   "source": [
    "<center></center>"
   ]
  },
  {
   "cell_type": "markdown",
   "metadata": {},
   "source": [
    "## Plot unique transfers over date"
   ]
  },
  {
   "cell_type": "code",
   "execution_count": null,
   "metadata": {},
   "outputs": [],
   "source": [
    "print('\\n\\n')\n",
    "fig = plt.figure(figsize=(20,12), dpi=500)\n",
    "ax = fig.subplots()\n",
    "plt.grid(True)\n",
    "plt.title(r'T r a n s f e r s \\ \\ o v e r \\ \\ D a t e'+'\\n', size=60)\n",
    "plt.xlabel('\\n'+r'D a t e', size= 50)\n",
    "plt.ylabel(r'T r a n s f e r s'+'\\n', size= 50)\n",
    "plt.yticks(np.arange(0, 60000, 10000), \n",
    "           np.vectorize(lambda x: f'{x:,.0f}')(np.arange(0, 60000, 10000)), \n",
    "           fontsize=30)\n",
    "plt.xticks(labels=[\"\\nJan '18\",\"Apr '18\",\n",
    "                       \"\\nJul '18\",\"Oct '18\",\"\\nJan '19\",\n",
    "                       \"Apr '19\",\"\\nJul '19\",\"Oct '19\",\n",
    "                       \"\\nJan '20\",\"Apr '20\",\"\\nJul '20\"], \n",
    "               ticks=[34,124,\n",
    "                      215,307,399,\n",
    "                      489,580,672,\n",
    "                      764,855,946], fontsize=30)\n",
    "\n",
    "def plot_txs_over_date(df, lwd, label, col = '#2D728F'):\n",
    "    plt.plot(np.arange(0 , len(df['txs'])), df['txs'], color = col, linewidth = lwd, label = label)\n",
    "      \n",
    "\n",
    "plot_txs_over_date(df = pd.read_csv(unique_senders_over_date, index_col=0), \n",
    "                   col = '#87AEDF', lwd = 2, label = 'Unique Senders')\n",
    "\n",
    "plot_txs_over_date(df = pd.read_csv(unique_recipients_over_date, index_col=0), \n",
    "                   col = 'black', lwd = 2, label = 'Unique Recipients')\n",
    "\n",
    "\n",
    "\n",
    "lgnd = ax.legend(loc='upper left', fontsize=35)\n",
    "lgnd.legendHandles[0].set_linewidth(5.0)\n",
    "lgnd.legendHandles[1].set_linewidth(5.0)\n",
    "\n",
    "plt.tight_layout(pad=5)\n",
    "plt.savefig('../pics/tether/tether_unique_tx_over_date.pdf')\n",
    "plt.show()"
   ]
  },
  {
   "cell_type": "markdown",
   "metadata": {},
   "source": [
    "<center></center>"
   ]
  },
  {
   "cell_type": "markdown",
   "metadata": {},
   "source": [
    "<center></center>"
   ]
  },
  {
   "cell_type": "markdown",
   "metadata": {},
   "source": [
    "## Most active addresses"
   ]
  },
  {
   "cell_type": "markdown",
   "metadata": {},
   "source": [
    "From:"
   ]
  },
  {
   "cell_type": "code",
   "execution_count": 20,
   "metadata": {},
   "outputs": [
    {
     "data": {
      "text/html": [
       "<div>\n",
       "<style scoped>\n",
       "    .dataframe tbody tr th:only-of-type {\n",
       "        vertical-align: middle;\n",
       "    }\n",
       "\n",
       "    .dataframe tbody tr th {\n",
       "        vertical-align: top;\n",
       "    }\n",
       "\n",
       "    .dataframe thead th {\n",
       "        text-align: right;\n",
       "    }\n",
       "</style>\n",
       "<table border=\"1\" class=\"dataframe\">\n",
       "  <thead>\n",
       "    <tr style=\"text-align: right;\">\n",
       "      <th></th>\n",
       "      <th>txs</th>\n",
       "      <th>tag</th>\n",
       "    </tr>\n",
       "  </thead>\n",
       "  <tbody>\n",
       "    <tr>\n",
       "      <th>0x6748f50f686bfbca6fe8ad62b22228b87f31ff2b</th>\n",
       "      <td>816526</td>\n",
       "      <td>Huobi 2</td>\n",
       "    </tr>\n",
       "    <tr>\n",
       "      <th>0xab5c66752a9e8167967685f1450532fb96d5d24f</th>\n",
       "      <td>814541</td>\n",
       "      <td>Huobi 1</td>\n",
       "    </tr>\n",
       "    <tr>\n",
       "      <th>0x1062a747393198f70f71ec65a582423dba7e5ab3</th>\n",
       "      <td>789140</td>\n",
       "      <td>Huobi 9</td>\n",
       "    </tr>\n",
       "    <tr>\n",
       "      <th>0xfdb16996831753d5331ff813c29a93c76834a0ad</th>\n",
       "      <td>710860</td>\n",
       "      <td>Huobi 3</td>\n",
       "    </tr>\n",
       "    <tr>\n",
       "      <th>0x46705dfff24256421a05d056c29e81bdc09723b8</th>\n",
       "      <td>688401</td>\n",
       "      <td>Huobi 12</td>\n",
       "    </tr>\n",
       "    <tr>\n",
       "      <th>0xadb2b42f6bd96f5c65920b9ac88619dce4166f94</th>\n",
       "      <td>677574</td>\n",
       "      <td>Huobi 7</td>\n",
       "    </tr>\n",
       "    <tr>\n",
       "      <th>0xeee28d484628d41a82d01e21d12e2e78d69920da</th>\n",
       "      <td>669777</td>\n",
       "      <td>Huobi 4</td>\n",
       "    </tr>\n",
       "    <tr>\n",
       "      <th>0x0a98fb70939162725ae66e626fe4b52cff62c2e5</th>\n",
       "      <td>668977</td>\n",
       "      <td>Huobi</td>\n",
       "    </tr>\n",
       "    <tr>\n",
       "      <th>0xe93381fb4c4f14bda253907b18fad305d799241a</th>\n",
       "      <td>655901</td>\n",
       "      <td>Huobi 10</td>\n",
       "    </tr>\n",
       "    <tr>\n",
       "      <th>0x3f5ce5fbfe3e9af3971dd833d26ba9b5c936f0be</th>\n",
       "      <td>456880</td>\n",
       "      <td>Binance</td>\n",
       "    </tr>\n",
       "    <tr>\n",
       "      <th>0x6cc5f688a315f3dc28a7781717a9a798a59fda7b</th>\n",
       "      <td>389724</td>\n",
       "      <td>OKEx 1</td>\n",
       "    </tr>\n",
       "  </tbody>\n",
       "</table>\n",
       "</div>"
      ],
      "text/plain": [
       "                                               txs       tag\n",
       "0x6748f50f686bfbca6fe8ad62b22228b87f31ff2b  816526   Huobi 2\n",
       "0xab5c66752a9e8167967685f1450532fb96d5d24f  814541   Huobi 1\n",
       "0x1062a747393198f70f71ec65a582423dba7e5ab3  789140   Huobi 9\n",
       "0xfdb16996831753d5331ff813c29a93c76834a0ad  710860   Huobi 3\n",
       "0x46705dfff24256421a05d056c29e81bdc09723b8  688401  Huobi 12\n",
       "0xadb2b42f6bd96f5c65920b9ac88619dce4166f94  677574   Huobi 7\n",
       "0xeee28d484628d41a82d01e21d12e2e78d69920da  669777   Huobi 4\n",
       "0x0a98fb70939162725ae66e626fe4b52cff62c2e5  668977     Huobi\n",
       "0xe93381fb4c4f14bda253907b18fad305d799241a  655901  Huobi 10\n",
       "0x3f5ce5fbfe3e9af3971dd833d26ba9b5c936f0be  456880   Binance\n",
       "0x6cc5f688a315f3dc28a7781717a9a798a59fda7b  389724    OKEx 1"
      ]
     },
     "execution_count": 20,
     "metadata": {},
     "output_type": "execute_result"
    }
   ],
   "source": [
    "fr = pd.read_csv(tx_count_from, index_col='Unnamed: 0').sort_values('txs', ascending = False)\n",
    "to = pd.read_csv(tx_count_to, index_col='Unnamed: 0').sort_values('txs', ascending = False)\n",
    "fr = pd.DataFrame(fr.loc[:fr.index[10],'txs'])\n",
    "fr['tag'] = ['Huobi 2', 'Huobi 1', 'Huobi 9', 'Huobi 3', 'Huobi 12', 'Huobi 7', 'Huobi 4', 'Huobi', 'Huobi 10', 'Binance', 'OKEx 1']\n",
    "fr"
   ]
  },
  {
   "cell_type": "markdown",
   "metadata": {},
   "source": [
    "To:"
   ]
  },
  {
   "cell_type": "code",
   "execution_count": 21,
   "metadata": {},
   "outputs": [
    {
     "data": {
      "text/html": [
       "<div>\n",
       "<style scoped>\n",
       "    .dataframe tbody tr th:only-of-type {\n",
       "        vertical-align: middle;\n",
       "    }\n",
       "\n",
       "    .dataframe tbody tr th {\n",
       "        vertical-align: top;\n",
       "    }\n",
       "\n",
       "    .dataframe thead th {\n",
       "        text-align: right;\n",
       "    }\n",
       "</style>\n",
       "<table border=\"1\" class=\"dataframe\">\n",
       "  <thead>\n",
       "    <tr style=\"text-align: right;\">\n",
       "      <th></th>\n",
       "      <th>txs</th>\n",
       "      <th>tag</th>\n",
       "    </tr>\n",
       "  </thead>\n",
       "  <tbody>\n",
       "    <tr>\n",
       "      <th>0x3f5ce5fbfe3e9af3971dd833d26ba9b5c936f0be</th>\n",
       "      <td>653580</td>\n",
       "      <td>Binance</td>\n",
       "    </tr>\n",
       "    <tr>\n",
       "      <th>0x6cc5f688a315f3dc28a7781717a9a798a59fda7b</th>\n",
       "      <td>318243</td>\n",
       "      <td>OKEx 1</td>\n",
       "    </tr>\n",
       "    <tr>\n",
       "      <th>0x6748f50f686bfbca6fe8ad62b22228b87f31ff2b</th>\n",
       "      <td>277820</td>\n",
       "      <td>Huobi 2</td>\n",
       "    </tr>\n",
       "    <tr>\n",
       "      <th>0xab5c66752a9e8167967685f1450532fb96d5d24f</th>\n",
       "      <td>274992</td>\n",
       "      <td>Huobi 1</td>\n",
       "    </tr>\n",
       "    <tr>\n",
       "      <th>0x1062a747393198f70f71ec65a582423dba7e5ab3</th>\n",
       "      <td>271727</td>\n",
       "      <td>Huobi 9</td>\n",
       "    </tr>\n",
       "    <tr>\n",
       "      <th>0xc6bd3edd07e294cb66b8318356d688b3516ea950</th>\n",
       "      <td>267313</td>\n",
       "      <td>Huobi</td>\n",
       "    </tr>\n",
       "    <tr>\n",
       "      <th>0x4c3dc6d5d3fc47060b5644d057aeb12d31fa79ee</th>\n",
       "      <td>248475</td>\n",
       "      <td>Huobi</td>\n",
       "    </tr>\n",
       "    <tr>\n",
       "      <th>0xeee28d484628d41a82d01e21d12e2e78d69920da</th>\n",
       "      <td>244776</td>\n",
       "      <td>Huobi 4</td>\n",
       "    </tr>\n",
       "    <tr>\n",
       "      <th>0xfdb16996831753d5331ff813c29a93c76834a0ad</th>\n",
       "      <td>244752</td>\n",
       "      <td>Huobi 3</td>\n",
       "    </tr>\n",
       "    <tr>\n",
       "      <th>0xadb2b42f6bd96f5c65920b9ac88619dce4166f94</th>\n",
       "      <td>244674</td>\n",
       "      <td>Huobi 7</td>\n",
       "    </tr>\n",
       "    <tr>\n",
       "      <th>0x0a98fb70939162725ae66e626fe4b52cff62c2e5</th>\n",
       "      <td>237960</td>\n",
       "      <td>Huobi</td>\n",
       "    </tr>\n",
       "  </tbody>\n",
       "</table>\n",
       "</div>"
      ],
      "text/plain": [
       "                                               txs      tag\n",
       "0x3f5ce5fbfe3e9af3971dd833d26ba9b5c936f0be  653580  Binance\n",
       "0x6cc5f688a315f3dc28a7781717a9a798a59fda7b  318243   OKEx 1\n",
       "0x6748f50f686bfbca6fe8ad62b22228b87f31ff2b  277820  Huobi 2\n",
       "0xab5c66752a9e8167967685f1450532fb96d5d24f  274992  Huobi 1\n",
       "0x1062a747393198f70f71ec65a582423dba7e5ab3  271727  Huobi 9\n",
       "0xc6bd3edd07e294cb66b8318356d688b3516ea950  267313    Huobi\n",
       "0x4c3dc6d5d3fc47060b5644d057aeb12d31fa79ee  248475    Huobi\n",
       "0xeee28d484628d41a82d01e21d12e2e78d69920da  244776  Huobi 4\n",
       "0xfdb16996831753d5331ff813c29a93c76834a0ad  244752  Huobi 3\n",
       "0xadb2b42f6bd96f5c65920b9ac88619dce4166f94  244674  Huobi 7\n",
       "0x0a98fb70939162725ae66e626fe4b52cff62c2e5  237960    Huobi"
      ]
     },
     "execution_count": 21,
     "metadata": {},
     "output_type": "execute_result"
    }
   ],
   "source": [
    "to = pd.DataFrame(to.loc[:to.index[10],'txs'])\n",
    "to['tag'] = ['Binance', 'OKEx 1', 'Huobi 2', 'Huobi 1', 'Huobi 9', 'Huobi', 'Huobi', 'Huobi 4', 'Huobi 3', 'Huobi 7', 'Huobi']\n",
    "to"
   ]
  },
  {
   "cell_type": "markdown",
   "metadata": {},
   "source": [
    "<center></center>"
   ]
  },
  {
   "cell_type": "markdown",
   "metadata": {},
   "source": [
    "<center></center>"
   ]
  },
  {
   "cell_type": "markdown",
   "metadata": {},
   "source": [
    "## Activity distribution"
   ]
  },
  {
   "cell_type": "code",
   "execution_count": 22,
   "metadata": {},
   "outputs": [
    {
     "name": "stdout",
     "output_type": "stream",
     "text": [
      "6301972 addresses in total\n"
     ]
    },
    {
     "data": {
      "text/html": [
       "<div>\n",
       "<style scoped>\n",
       "    .dataframe tbody tr th:only-of-type {\n",
       "        vertical-align: middle;\n",
       "    }\n",
       "\n",
       "    .dataframe tbody tr th {\n",
       "        vertical-align: top;\n",
       "    }\n",
       "\n",
       "    .dataframe thead th {\n",
       "        text-align: right;\n",
       "    }\n",
       "</style>\n",
       "<table border=\"1\" class=\"dataframe\">\n",
       "  <thead>\n",
       "    <tr style=\"text-align: right;\">\n",
       "      <th></th>\n",
       "      <th>Transactions</th>\n",
       "      <th>Addresses</th>\n",
       "    </tr>\n",
       "  </thead>\n",
       "  <tbody>\n",
       "    <tr>\n",
       "      <th>0</th>\n",
       "      <td>&gt; 500.000</td>\n",
       "      <td>12</td>\n",
       "    </tr>\n",
       "    <tr>\n",
       "      <th>1</th>\n",
       "      <td>100.000-500.000</td>\n",
       "      <td>29</td>\n",
       "    </tr>\n",
       "    <tr>\n",
       "      <th>2</th>\n",
       "      <td>50.000-100.000</td>\n",
       "      <td>38</td>\n",
       "    </tr>\n",
       "    <tr>\n",
       "      <th>3</th>\n",
       "      <td>10.000-50.000</td>\n",
       "      <td>321</td>\n",
       "    </tr>\n",
       "    <tr>\n",
       "      <th>4</th>\n",
       "      <td>1.000-10.000</td>\n",
       "      <td>3106</td>\n",
       "    </tr>\n",
       "    <tr>\n",
       "      <th>5</th>\n",
       "      <td>100-1.000</td>\n",
       "      <td>50568</td>\n",
       "    </tr>\n",
       "    <tr>\n",
       "      <th>6</th>\n",
       "      <td>10-100</td>\n",
       "      <td>708268</td>\n",
       "    </tr>\n",
       "    <tr>\n",
       "      <th>7</th>\n",
       "      <td>&lt; 10</td>\n",
       "      <td>5626141</td>\n",
       "    </tr>\n",
       "    <tr>\n",
       "      <th>8</th>\n",
       "      <td>1</td>\n",
       "      <td>514435</td>\n",
       "    </tr>\n",
       "  </tbody>\n",
       "</table>\n",
       "</div>"
      ],
      "text/plain": [
       "      Transactions  Addresses\n",
       "0        > 500.000         12\n",
       "1  100.000-500.000         29\n",
       "2   50.000-100.000         38\n",
       "3    10.000-50.000        321\n",
       "4     1.000-10.000       3106\n",
       "5        100-1.000      50568\n",
       "6           10-100     708268\n",
       "7             < 10    5626141\n",
       "8                1     514435"
      ]
     },
     "execution_count": 22,
     "metadata": {},
     "output_type": "execute_result"
    }
   ],
   "source": [
    "df_from = pd.read_csv(tx_count_from, index_col=0)\n",
    "df_to = pd.read_csv(tx_count_to, index_col=0)\n",
    "df_all = pd.concat([df_from, df_to])\n",
    "df = df_all.groupby(df_all.index).sum()\n",
    "print('{} addresses in total'.format(len(df)))\n",
    "df = df.sort_values('txs')\n",
    "gr0 = len(df.loc[df['txs'] >= 500000])\n",
    "gra = len(df.loc[df['txs'] >= 100000]) - gr0 \n",
    "grb = len(df.loc[df['txs'] >= 50000]) - gr0 - gra\n",
    "grc = len(df.loc[df['txs'] >= 10000]) - gr0 - gra - grb\n",
    "grd = len(df.loc[df['txs'] >= 1000]) - gr0 - gra - grb - grc\n",
    "gre = len(df.loc[df['txs'] >= 100]) - gr0 - gra - grb - grc - grd\n",
    "grf = len(df.loc[df['txs'] >= 10]) - gr0 - gra - grb - grc - grd - gre\n",
    "grg = len(df.loc[df['txs'] <= 10])\n",
    "grh = len(df.loc[df['txs'] == 1]) \n",
    "pd.DataFrame({'Transactions': ['> 500.000','100.000-500.000',\n",
    "                               '50.000-100.000',\n",
    "                               '10.000-50.000',\n",
    "                               '1.000-10.000',\n",
    "                               '100-1.000',\n",
    "                               '10-100',\n",
    "                               '< 10', \n",
    "                               '1'], \n",
    "              'Addresses':[gr0,gra,grb,grc,grd,gre,grf,grg,grh]\n",
    "             })"
   ]
  },
  {
   "cell_type": "markdown",
   "metadata": {},
   "source": [
    "<center></center>"
   ]
  },
  {
   "cell_type": "markdown",
   "metadata": {},
   "source": [
    "<center></center>"
   ]
  },
  {
   "cell_type": "markdown",
   "metadata": {},
   "source": [
    "## Transaction != Transfer"
   ]
  },
  {
   "cell_type": "code",
   "execution_count": 23,
   "metadata": {},
   "outputs": [],
   "source": [
    "df = pd.read_csv(chunk5)"
   ]
  },
  {
   "cell_type": "code",
   "execution_count": 24,
   "metadata": {},
   "outputs": [],
   "source": [
    "_df = dict(Counter(df[df['txhash'].duplicated()]['txhash'].tolist()))"
   ]
  },
  {
   "cell_type": "code",
   "execution_count": 25,
   "metadata": {},
   "outputs": [],
   "source": [
    "has = max(_df, key=_df.get)"
   ]
  },
  {
   "cell_type": "code",
   "execution_count": 27,
   "metadata": {},
   "outputs": [
    {
     "data": {
      "text/plain": [
       "250"
      ]
     },
     "execution_count": 27,
     "metadata": {},
     "output_type": "execute_result"
    }
   ],
   "source": [
    "max(_df.values())"
   ]
  },
  {
   "cell_type": "code",
   "execution_count": 28,
   "metadata": {},
   "outputs": [
    {
     "data": {
      "text/plain": [
       "19"
      ]
     },
     "execution_count": 28,
     "metadata": {},
     "output_type": "execute_result"
    }
   ],
   "source": [
    "len(df[df['txhash']=='0xe49af17de711d7ca1f034f2fb821082a83a50b53d8b4a649addbc0b87d0c3faf']['txto'][df[df['txhash']=='0xe49af17de711d7ca1f034f2fb821082a83a50b53d8b4a649addbc0b87d0c3faf']['txto'].duplicated()])"
   ]
  },
  {
   "cell_type": "code",
   "execution_count": 29,
   "metadata": {},
   "outputs": [
    {
     "data": {
      "text/plain": [
       "'0xd4a015df7729a7dac116b5d00f2ff0387d5564a4be8b66cd6dbb3ed0e891ba7d'"
      ]
     },
     "execution_count": 29,
     "metadata": {},
     "output_type": "execute_result"
    }
   ],
   "source": [
    "has"
   ]
  },
  {
   "cell_type": "markdown",
   "metadata": {},
   "source": [
    "<center></center>"
   ]
  },
  {
   "cell_type": "markdown",
   "metadata": {},
   "source": [
    "<center></center>"
   ]
  },
  {
   "cell_type": "markdown",
   "metadata": {},
   "source": [
    "# Transfer Amount"
   ]
  },
  {
   "cell_type": "markdown",
   "metadata": {},
   "source": [
    "## Jan '20 - Jul '20"
   ]
  },
  {
   "cell_type": "code",
   "execution_count": 30,
   "metadata": {},
   "outputs": [],
   "source": [
    "df = pd.read_csv(avg_value_over_date, index_col=0)\n",
    "df = df.loc[df.index[764]:,:]"
   ]
  },
  {
   "cell_type": "code",
   "execution_count": null,
   "metadata": {},
   "outputs": [],
   "source": [
    "print('\\n\\n')\n",
    "plt.figure(figsize=(12, 7), dpi=800)\n",
    "plt.grid(True)\n",
    "plt.plot(np.arange(0 , len(df.index.tolist())), df['txvalue'], color = 'black', label = 'Avg. Amount/Day', linewidth = 2)\n",
    "plt.fill_between(np.arange(0 , len(df.index.tolist())),0 , df['txvalue'], alpha=0.2, facecolor='#2D728F')\n",
    "plt.xlabel('\\n'+'D a t e', fontsize=35)\n",
    "plt.ylabel('U S D T'+'\\n', fontsize=30)\n",
    "plt.title(\"T e t h e r\\nA v g. \\ \\ T r a n s f e r \\ \\ A m o u n t\"+\"\\n\", size = 30)\n",
    "plt.legend(loc=\"upper right\", fontsize=20, shadow= True)\n",
    "plt.ticklabel_format(style = 'plain')\n",
    "plt.xticks(labels=[\"\\nJan '20\",\"Feb '20\",\"\\nMar '20\",\"Apr '20\",\"\\nMay '20\",\"Jun '20\",\"\\nJul '20\"], \n",
    "           ticks=[0,31,60,90,121,152,182], fontsize=23) \n",
    "plt.yticks(np.arange(0, 50001, 10000), \n",
    "           np.vectorize(lambda x: f'{x:,.0f}')(np.arange(0, 50001, 10000)), \n",
    "           fontsize=15)\n",
    "plt.tight_layout(pad=1)\n",
    "plt.savefig('../pics/tether/tether_avgtxvalue_jan20.pdf')"
   ]
  },
  {
   "cell_type": "markdown",
   "metadata": {},
   "source": [
    "<center></center>"
   ]
  },
  {
   "cell_type": "markdown",
   "metadata": {},
   "source": [
    "## Further Info"
   ]
  },
  {
   "cell_type": "code",
   "execution_count": 31,
   "metadata": {},
   "outputs": [
    {
     "data": {
      "text/html": [
       "<div>\n",
       "<style scoped>\n",
       "    .dataframe tbody tr th:only-of-type {\n",
       "        vertical-align: middle;\n",
       "    }\n",
       "\n",
       "    .dataframe tbody tr th {\n",
       "        vertical-align: top;\n",
       "    }\n",
       "\n",
       "    .dataframe thead th {\n",
       "        text-align: right;\n",
       "    }\n",
       "</style>\n",
       "<table border=\"1\" class=\"dataframe\">\n",
       "  <thead>\n",
       "    <tr style=\"text-align: right;\">\n",
       "      <th></th>\n",
       "      <th>txvalue</th>\n",
       "    </tr>\n",
       "  </thead>\n",
       "  <tbody>\n",
       "    <tr>\n",
       "      <th>count</th>\n",
       "      <td>182.000</td>\n",
       "    </tr>\n",
       "    <tr>\n",
       "      <th>mean</th>\n",
       "      <td>8134.001</td>\n",
       "    </tr>\n",
       "    <tr>\n",
       "      <th>std</th>\n",
       "      <td>2603.998</td>\n",
       "    </tr>\n",
       "    <tr>\n",
       "      <th>min</th>\n",
       "      <td>2668.441</td>\n",
       "    </tr>\n",
       "    <tr>\n",
       "      <th>25%</th>\n",
       "      <td>6393.337</td>\n",
       "    </tr>\n",
       "    <tr>\n",
       "      <th>50%</th>\n",
       "      <td>8009.014</td>\n",
       "    </tr>\n",
       "    <tr>\n",
       "      <th>75%</th>\n",
       "      <td>9495.828</td>\n",
       "    </tr>\n",
       "    <tr>\n",
       "      <th>max</th>\n",
       "      <td>20665.404</td>\n",
       "    </tr>\n",
       "  </tbody>\n",
       "</table>\n",
       "</div>"
      ],
      "text/plain": [
       "        txvalue\n",
       "count   182.000\n",
       "mean   8134.001\n",
       "std    2603.998\n",
       "min    2668.441\n",
       "25%    6393.337\n",
       "50%    8009.014\n",
       "75%    9495.828\n",
       "max   20665.404"
      ]
     },
     "execution_count": 31,
     "metadata": {},
     "output_type": "execute_result"
    }
   ],
   "source": [
    "df.describe()"
   ]
  },
  {
   "cell_type": "markdown",
   "metadata": {},
   "source": [
    "<center></center>"
   ]
  },
  {
   "cell_type": "markdown",
   "metadata": {},
   "source": [
    "<center></center>"
   ]
  },
  {
   "cell_type": "markdown",
   "metadata": {},
   "source": [
    "<center></center>"
   ]
  },
  {
   "cell_type": "code",
   "execution_count": 32,
   "metadata": {},
   "outputs": [
    {
     "data": {
      "text/html": [
       "<div>\n",
       "<style scoped>\n",
       "    .dataframe tbody tr th:only-of-type {\n",
       "        vertical-align: middle;\n",
       "    }\n",
       "\n",
       "    .dataframe tbody tr th {\n",
       "        vertical-align: top;\n",
       "    }\n",
       "\n",
       "    .dataframe thead th {\n",
       "        text-align: right;\n",
       "    }\n",
       "</style>\n",
       "<table border=\"1\" class=\"dataframe\">\n",
       "  <thead>\n",
       "    <tr style=\"text-align: right;\">\n",
       "      <th></th>\n",
       "      <th>timestamp</th>\n",
       "      <th>blocknumber</th>\n",
       "      <th>txindex</th>\n",
       "      <th>txhash</th>\n",
       "      <th>txfrom</th>\n",
       "      <th>txto</th>\n",
       "      <th>txvalue</th>\n",
       "      <th>gas_price</th>\n",
       "      <th>gas_used</th>\n",
       "      <th>costs</th>\n",
       "    </tr>\n",
       "  </thead>\n",
       "  <tbody>\n",
       "    <tr>\n",
       "      <th>6177356</th>\n",
       "      <td>1593313610</td>\n",
       "      <td>10351725</td>\n",
       "      <td>166</td>\n",
       "      <td>0x5c89c1eaf05b5ff467aa8c7cc764804d7ff4690fac94...</td>\n",
       "      <td>0x02ed3d40f0cf56ed5e5a827e69879a37acea109d</td>\n",
       "      <td>0xfdea36043bb04c1184330a985efa2bf0e0d9aa79</td>\n",
       "      <td>10990753</td>\n",
       "      <td>540000000</td>\n",
       "      <td>41197</td>\n",
       "      <td>0.000</td>\n",
       "    </tr>\n",
       "    <tr>\n",
       "      <th>943524</th>\n",
       "      <td>1591342044</td>\n",
       "      <td>10204388</td>\n",
       "      <td>175</td>\n",
       "      <td>0x83bc924caf3b3c3ea64bcca949c1db6479e1db978224...</td>\n",
       "      <td>0xd7ef77a93cd5db35589a58fc0e9aa7971ee96170</td>\n",
       "      <td>0x369aacc1fc5e691eaca1f342c4ebb046c5117573</td>\n",
       "      <td>1</td>\n",
       "      <td>1000000000</td>\n",
       "      <td>41173</td>\n",
       "      <td>0.000</td>\n",
       "    </tr>\n",
       "    <tr>\n",
       "      <th>2538661</th>\n",
       "      <td>1591933909</td>\n",
       "      <td>10248556</td>\n",
       "      <td>164</td>\n",
       "      <td>0x915165d3c7734f93dd672e628bf3c10abdc87d627725...</td>\n",
       "      <td>0x3f0e0c18efa50f91c0f0f30ccbd74b0feabb47d7</td>\n",
       "      <td>0xf80e216ab8aa72be5432ca75b1a9afdc2225d588</td>\n",
       "      <td>4000000</td>\n",
       "      <td>1000000000</td>\n",
       "      <td>41185</td>\n",
       "      <td>0.000</td>\n",
       "    </tr>\n",
       "    <tr>\n",
       "      <th>2833351</th>\n",
       "      <td>1592044102</td>\n",
       "      <td>10256813</td>\n",
       "      <td>136</td>\n",
       "      <td>0x8b1d3fd076bd8e9cd015db91546988931ded9645ac7b...</td>\n",
       "      <td>0x88d675f2420a7f17eeb510654b080a401bcc21cd</td>\n",
       "      <td>0xccf28f4f15b1aafd1f84bf037610845c592aebe7</td>\n",
       "      <td>13713342</td>\n",
       "      <td>1000000000</td>\n",
       "      <td>41197</td>\n",
       "      <td>0.000</td>\n",
       "    </tr>\n",
       "    <tr>\n",
       "      <th>3064859</th>\n",
       "      <td>1592166199</td>\n",
       "      <td>10265987</td>\n",
       "      <td>141</td>\n",
       "      <td>0x7553520d9f0eeda6997af46cc50c89e8c6ca8f2bed56...</td>\n",
       "      <td>0xb90432f943ac620338067ba44bb2ddb98b6445c2</td>\n",
       "      <td>0xbc7e71db5cbf25255ea69f298f8affd54234a558</td>\n",
       "      <td>10000000</td>\n",
       "      <td>1000000000</td>\n",
       "      <td>41197</td>\n",
       "      <td>0.000</td>\n",
       "    </tr>\n",
       "    <tr>\n",
       "      <th>...</th>\n",
       "      <td>...</td>\n",
       "      <td>...</td>\n",
       "      <td>...</td>\n",
       "      <td>...</td>\n",
       "      <td>...</td>\n",
       "      <td>...</td>\n",
       "      <td>...</td>\n",
       "      <td>...</td>\n",
       "      <td>...</td>\n",
       "      <td>...</td>\n",
       "    </tr>\n",
       "    <tr>\n",
       "      <th>708915</th>\n",
       "      <td>1591247557</td>\n",
       "      <td>10197363</td>\n",
       "      <td>0</td>\n",
       "      <td>0x0f5304457800bc922fe2e63c8237672f50ce53fdaca9...</td>\n",
       "      <td>0x72e6e05a3459e1856d579c70ff6cf6e48f0e99cb</td>\n",
       "      <td>0x962e88bc7ae942c080a7a8d9e5d83d2585b8859c</td>\n",
       "      <td>354000000</td>\n",
       "      <td>181261353781428</td>\n",
       "      <td>26209</td>\n",
       "      <td>4.751</td>\n",
       "    </tr>\n",
       "    <tr>\n",
       "      <th>1264360</th>\n",
       "      <td>1591457926</td>\n",
       "      <td>10213001</td>\n",
       "      <td>0</td>\n",
       "      <td>0xd704e6848868e0a75b3718a8f66eee089ac9046a4bfb...</td>\n",
       "      <td>0xdd041298c3b126aa198a1a1fe6718ba9c5bd1478</td>\n",
       "      <td>0x962e88bc7ae942c080a7a8d9e5d83d2585b8859c</td>\n",
       "      <td>30300000</td>\n",
       "      <td>210010998142857</td>\n",
       "      <td>26209</td>\n",
       "      <td>5.504</td>\n",
       "    </tr>\n",
       "    <tr>\n",
       "      <th>5631881</th>\n",
       "      <td>1593087635</td>\n",
       "      <td>10334888</td>\n",
       "      <td>0</td>\n",
       "      <td>0xafae82ebac25289b0384cfd1554cb27b00dad4f81c8c...</td>\n",
       "      <td>0x8c863333c2e92f02e01f7a3c6d131e4d59f78990</td>\n",
       "      <td>0xf650c3d88d12db855b8bf7d11be6c55a4e07dcc9</td>\n",
       "      <td>93194794804</td>\n",
       "      <td>4244493944360</td>\n",
       "      <td>1507681</td>\n",
       "      <td>6.399</td>\n",
       "    </tr>\n",
       "    <tr>\n",
       "      <th>5631880</th>\n",
       "      <td>1593087635</td>\n",
       "      <td>10334888</td>\n",
       "      <td>0</td>\n",
       "      <td>0xafae82ebac25289b0384cfd1554cb27b00dad4f81c8c...</td>\n",
       "      <td>0xf650c3d88d12db855b8bf7d11be6c55a4e07dcc9</td>\n",
       "      <td>0x8c863333c2e92f02e01f7a3c6d131e4d59f78990</td>\n",
       "      <td>93192206235</td>\n",
       "      <td>4244493944360</td>\n",
       "      <td>1507681</td>\n",
       "      <td>6.399</td>\n",
       "    </tr>\n",
       "    <tr>\n",
       "      <th>6747219</th>\n",
       "      <td>1593526117</td>\n",
       "      <td>10367553</td>\n",
       "      <td>0</td>\n",
       "      <td>0x2baf54b20e026b1efacf307feb5d46dd4574355c61cc...</td>\n",
       "      <td>0x3d29e80185c78555ec9052b393135e6a2db56fd1</td>\n",
       "      <td>0xbac5286d70c29ba553094173cdf7e5f3a38dcd21</td>\n",
       "      <td>2252600000</td>\n",
       "      <td>8742000000000</td>\n",
       "      <td>1134997</td>\n",
       "      <td>9.922</td>\n",
       "    </tr>\n",
       "  </tbody>\n",
       "</table>\n",
       "<p>6813266 rows × 10 columns</p>\n",
       "</div>"
      ],
      "text/plain": [
       "          timestamp  blocknumber  txindex  \\\n",
       "6177356  1593313610     10351725      166   \n",
       "943524   1591342044     10204388      175   \n",
       "2538661  1591933909     10248556      164   \n",
       "2833351  1592044102     10256813      136   \n",
       "3064859  1592166199     10265987      141   \n",
       "...             ...          ...      ...   \n",
       "708915   1591247557     10197363        0   \n",
       "1264360  1591457926     10213001        0   \n",
       "5631881  1593087635     10334888        0   \n",
       "5631880  1593087635     10334888        0   \n",
       "6747219  1593526117     10367553        0   \n",
       "\n",
       "                                                    txhash  \\\n",
       "6177356  0x5c89c1eaf05b5ff467aa8c7cc764804d7ff4690fac94...   \n",
       "943524   0x83bc924caf3b3c3ea64bcca949c1db6479e1db978224...   \n",
       "2538661  0x915165d3c7734f93dd672e628bf3c10abdc87d627725...   \n",
       "2833351  0x8b1d3fd076bd8e9cd015db91546988931ded9645ac7b...   \n",
       "3064859  0x7553520d9f0eeda6997af46cc50c89e8c6ca8f2bed56...   \n",
       "...                                                    ...   \n",
       "708915   0x0f5304457800bc922fe2e63c8237672f50ce53fdaca9...   \n",
       "1264360  0xd704e6848868e0a75b3718a8f66eee089ac9046a4bfb...   \n",
       "5631881  0xafae82ebac25289b0384cfd1554cb27b00dad4f81c8c...   \n",
       "5631880  0xafae82ebac25289b0384cfd1554cb27b00dad4f81c8c...   \n",
       "6747219  0x2baf54b20e026b1efacf307feb5d46dd4574355c61cc...   \n",
       "\n",
       "                                             txfrom  \\\n",
       "6177356  0x02ed3d40f0cf56ed5e5a827e69879a37acea109d   \n",
       "943524   0xd7ef77a93cd5db35589a58fc0e9aa7971ee96170   \n",
       "2538661  0x3f0e0c18efa50f91c0f0f30ccbd74b0feabb47d7   \n",
       "2833351  0x88d675f2420a7f17eeb510654b080a401bcc21cd   \n",
       "3064859  0xb90432f943ac620338067ba44bb2ddb98b6445c2   \n",
       "...                                             ...   \n",
       "708915   0x72e6e05a3459e1856d579c70ff6cf6e48f0e99cb   \n",
       "1264360  0xdd041298c3b126aa198a1a1fe6718ba9c5bd1478   \n",
       "5631881  0x8c863333c2e92f02e01f7a3c6d131e4d59f78990   \n",
       "5631880  0xf650c3d88d12db855b8bf7d11be6c55a4e07dcc9   \n",
       "6747219  0x3d29e80185c78555ec9052b393135e6a2db56fd1   \n",
       "\n",
       "                                               txto      txvalue  \\\n",
       "6177356  0xfdea36043bb04c1184330a985efa2bf0e0d9aa79     10990753   \n",
       "943524   0x369aacc1fc5e691eaca1f342c4ebb046c5117573            1   \n",
       "2538661  0xf80e216ab8aa72be5432ca75b1a9afdc2225d588      4000000   \n",
       "2833351  0xccf28f4f15b1aafd1f84bf037610845c592aebe7     13713342   \n",
       "3064859  0xbc7e71db5cbf25255ea69f298f8affd54234a558     10000000   \n",
       "...                                             ...          ...   \n",
       "708915   0x962e88bc7ae942c080a7a8d9e5d83d2585b8859c    354000000   \n",
       "1264360  0x962e88bc7ae942c080a7a8d9e5d83d2585b8859c     30300000   \n",
       "5631881  0xf650c3d88d12db855b8bf7d11be6c55a4e07dcc9  93194794804   \n",
       "5631880  0x8c863333c2e92f02e01f7a3c6d131e4d59f78990  93192206235   \n",
       "6747219  0xbac5286d70c29ba553094173cdf7e5f3a38dcd21   2252600000   \n",
       "\n",
       "               gas_price  gas_used  costs  \n",
       "6177356        540000000     41197  0.000  \n",
       "943524        1000000000     41173  0.000  \n",
       "2538661       1000000000     41185  0.000  \n",
       "2833351       1000000000     41197  0.000  \n",
       "3064859       1000000000     41197  0.000  \n",
       "...                  ...       ...    ...  \n",
       "708915   181261353781428     26209  4.751  \n",
       "1264360  210010998142857     26209  5.504  \n",
       "5631881    4244493944360   1507681  6.399  \n",
       "5631880    4244493944360   1507681  6.399  \n",
       "6747219    8742000000000   1134997  9.922  \n",
       "\n",
       "[6813266 rows x 10 columns]"
      ]
     },
     "execution_count": 32,
     "metadata": {},
     "output_type": "execute_result"
    }
   ],
   "source": [
    "#some expensive ones\n",
    "aa = pd.read_csv(chunk5)\n",
    "aa[\"costs\"] = (aa[\"gas_price\"]/10**18).multiply(aa[\"gas_used\"])\n",
    "aa.sort_values(\"costs\")"
   ]
  },
  {
   "cell_type": "markdown",
   "metadata": {},
   "source": [
    "# Gas Costs"
   ]
  },
  {
   "cell_type": "markdown",
   "metadata": {},
   "source": [
    "<center></center>"
   ]
  },
  {
   "cell_type": "markdown",
   "metadata": {},
   "source": [
    "## Jan '20 - Jul '20"
   ]
  },
  {
   "cell_type": "code",
   "execution_count": 33,
   "metadata": {},
   "outputs": [],
   "source": [
    "df = pd.read_csv(avg_gas_over_date)\n",
    "df = df.loc[df.index[764]:,:]"
   ]
  },
  {
   "cell_type": "code",
   "execution_count": null,
   "metadata": {},
   "outputs": [],
   "source": [
    "print('\\n\\n')\n",
    "plt.figure(figsize=(12, 7), dpi=800)\n",
    "plt.grid(True)\n",
    "plt.plot(np.arange(0 , len(df.index.tolist())), df['gas'], color = 'black', label = 'Avg. Gas Costs/Day', linewidth = 2)\n",
    "plt.fill_between(np.arange(0 , len(df.index.tolist())),0 , df['gas'], alpha=0.2, facecolor='#2D728F')\n",
    "plt.xlabel('\\nD a t e', fontsize=35)\n",
    "plt.ylabel('E t h e r\\n', fontsize=30)\n",
    "plt.title('T e t h e r\\nA v g. \\ \\ G a s \\ \\ C o s t s\\n', size = 30)\n",
    "lgnd = plt.legend(loc='upper left', fontsize=20, shadow= True)\n",
    "plt.ticklabel_format(style = 'plain')\n",
    "plt.xticks(labels=[\"\\nJan '20\",\"Feb '20\",\"\\nMar '20\",\"Apr '20\",\"\\nMay '20\",\"Jun '20\",\"\\nJul '20\"], \n",
    "           ticks=[0,31,60,90,121,152,182], fontsize=20) \n",
    "plt.yticks(np.arange(0, 0.05, 0.01), \n",
    "           np.vectorize(lambda x: f'{x:,.3f}')(np.arange(0, 0.05, 0.01)), \n",
    "           fontsize=15)\n",
    "plt.tight_layout(pad=1)\n",
    "\n",
    "lgnd.legendHandles[0].set_linewidth(3.0)\n",
    "plt.savefig('../pics/tether/tether_avggascosts_jan20.pdf') "
   ]
  },
  {
   "cell_type": "markdown",
   "metadata": {},
   "source": [
    "## Further Info "
   ]
  },
  {
   "cell_type": "code",
   "execution_count": 34,
   "metadata": {},
   "outputs": [
    {
     "data": {
      "text/html": [
       "<div>\n",
       "<style scoped>\n",
       "    .dataframe tbody tr th:only-of-type {\n",
       "        vertical-align: middle;\n",
       "    }\n",
       "\n",
       "    .dataframe tbody tr th {\n",
       "        vertical-align: top;\n",
       "    }\n",
       "\n",
       "    .dataframe thead th {\n",
       "        text-align: right;\n",
       "    }\n",
       "</style>\n",
       "<table border=\"1\" class=\"dataframe\">\n",
       "  <thead>\n",
       "    <tr style=\"text-align: right;\">\n",
       "      <th></th>\n",
       "      <th>gas</th>\n",
       "    </tr>\n",
       "  </thead>\n",
       "  <tbody>\n",
       "    <tr>\n",
       "      <th>count</th>\n",
       "      <td>182.000000</td>\n",
       "    </tr>\n",
       "    <tr>\n",
       "      <th>mean</th>\n",
       "      <td>0.001578</td>\n",
       "    </tr>\n",
       "    <tr>\n",
       "      <th>std</th>\n",
       "      <td>0.001083</td>\n",
       "    </tr>\n",
       "    <tr>\n",
       "      <th>min</th>\n",
       "      <td>0.000680</td>\n",
       "    </tr>\n",
       "    <tr>\n",
       "      <th>25%</th>\n",
       "      <td>0.000879</td>\n",
       "    </tr>\n",
       "    <tr>\n",
       "      <th>50%</th>\n",
       "      <td>0.001123</td>\n",
       "    </tr>\n",
       "    <tr>\n",
       "      <th>75%</th>\n",
       "      <td>0.002146</td>\n",
       "    </tr>\n",
       "    <tr>\n",
       "      <th>max</th>\n",
       "      <td>0.010481</td>\n",
       "    </tr>\n",
       "  </tbody>\n",
       "</table>\n",
       "</div>"
      ],
      "text/plain": [
       "             gas\n",
       "count 182.000000\n",
       "mean    0.001578\n",
       "std     0.001083\n",
       "min     0.000680\n",
       "25%     0.000879\n",
       "50%     0.001123\n",
       "75%     0.002146\n",
       "max     0.010481"
      ]
     },
     "execution_count": 34,
     "metadata": {},
     "output_type": "execute_result"
    }
   ],
   "source": [
    "pd.set_option('display.float_format', lambda x: '%.6f' % x)\n",
    "df.describe()"
   ]
  },
  {
   "cell_type": "markdown",
   "metadata": {},
   "source": [
    "<center></center>"
   ]
  },
  {
   "cell_type": "markdown",
   "metadata": {},
   "source": [
    "<center></center>"
   ]
  },
  {
   "cell_type": "markdown",
   "metadata": {},
   "source": [
    "# II. Balances Analysis"
   ]
  },
  {
   "cell_type": "code",
   "execution_count": 35,
   "metadata": {},
   "outputs": [
    {
     "name": "stderr",
     "output_type": "stream",
     "text": [
      "/home/nero/python/master_thesis/lib/python3.6/site-packages/numpy/lib/arraysetops.py:569: FutureWarning: elementwise comparison failed; returning scalar instead, but in the future will perform elementwise comparison\n",
      "  mask |= (ar1 == a)\n"
     ]
    },
    {
     "data": {
      "text/html": [
       "<div>\n",
       "<style scoped>\n",
       "    .dataframe tbody tr th:only-of-type {\n",
       "        vertical-align: middle;\n",
       "    }\n",
       "\n",
       "    .dataframe tbody tr th {\n",
       "        vertical-align: top;\n",
       "    }\n",
       "\n",
       "    .dataframe thead th {\n",
       "        text-align: right;\n",
       "    }\n",
       "</style>\n",
       "<table border=\"1\" class=\"dataframe\">\n",
       "  <thead>\n",
       "    <tr style=\"text-align: right;\">\n",
       "      <th></th>\n",
       "      <th>address</th>\n",
       "      <th>balance</th>\n",
       "      <th>cum</th>\n",
       "    </tr>\n",
       "  </thead>\n",
       "  <tbody>\n",
       "    <tr>\n",
       "      <th>0</th>\n",
       "      <td>0x3527995dc66caef918fd97855854e4afe2faa869</td>\n",
       "      <td>0.000001</td>\n",
       "      <td>0.000001</td>\n",
       "    </tr>\n",
       "    <tr>\n",
       "      <th>1</th>\n",
       "      <td>0xd559f7518a7b4208c32fe76aff704e917b61c927</td>\n",
       "      <td>0.000001</td>\n",
       "      <td>0.000002</td>\n",
       "    </tr>\n",
       "    <tr>\n",
       "      <th>2</th>\n",
       "      <td>0xb55a57255b387dfeaf51d08f81eadf42007e00ec</td>\n",
       "      <td>0.000001</td>\n",
       "      <td>0.000003</td>\n",
       "    </tr>\n",
       "    <tr>\n",
       "      <th>3</th>\n",
       "      <td>0xdac4d16e24ccc324b762109467ea9b9d3b231d41</td>\n",
       "      <td>0.000001</td>\n",
       "      <td>0.000004</td>\n",
       "    </tr>\n",
       "    <tr>\n",
       "      <th>4</th>\n",
       "      <td>0x801bd853627dc527c95c8337b92caaef8720555c</td>\n",
       "      <td>0.000001</td>\n",
       "      <td>0.000005</td>\n",
       "    </tr>\n",
       "    <tr>\n",
       "      <th>...</th>\n",
       "      <td>...</td>\n",
       "      <td>...</td>\n",
       "      <td>...</td>\n",
       "    </tr>\n",
       "    <tr>\n",
       "      <th>1477057</th>\n",
       "      <td>0x5754284f345afc66a98fbb0a0afe71e0f007b949</td>\n",
       "      <td>139291708.339840</td>\n",
       "      <td>4985660847.421669</td>\n",
       "    </tr>\n",
       "    <tr>\n",
       "      <th>1477058</th>\n",
       "      <td>0xfdb16996831753d5331ff813c29a93c76834a0ad</td>\n",
       "      <td>152457482.812605</td>\n",
       "      <td>5138118330.234274</td>\n",
       "    </tr>\n",
       "    <tr>\n",
       "      <th>1477059</th>\n",
       "      <td>0x6748f50f686bfbca6fe8ad62b22228b87f31ff2b</td>\n",
       "      <td>198610436.106398</td>\n",
       "      <td>5336728766.340672</td>\n",
       "    </tr>\n",
       "    <tr>\n",
       "      <th>1477060</th>\n",
       "      <td>0xbe0eb53f46cd790cd13851d5eff43d12404d33e8</td>\n",
       "      <td>301118650.039683</td>\n",
       "      <td>5637847416.380355</td>\n",
       "    </tr>\n",
       "    <tr>\n",
       "      <th>1477061</th>\n",
       "      <td>0x7b8c69a0f660cd43ef67948976daae77bc6a019b</td>\n",
       "      <td>400000001.030000</td>\n",
       "      <td>6037847417.410355</td>\n",
       "    </tr>\n",
       "  </tbody>\n",
       "</table>\n",
       "<p>1477062 rows × 3 columns</p>\n",
       "</div>"
      ],
      "text/plain": [
       "                                            address          balance  \\\n",
       "0        0x3527995dc66caef918fd97855854e4afe2faa869         0.000001   \n",
       "1        0xd559f7518a7b4208c32fe76aff704e917b61c927         0.000001   \n",
       "2        0xb55a57255b387dfeaf51d08f81eadf42007e00ec         0.000001   \n",
       "3        0xdac4d16e24ccc324b762109467ea9b9d3b231d41         0.000001   \n",
       "4        0x801bd853627dc527c95c8337b92caaef8720555c         0.000001   \n",
       "...                                             ...              ...   \n",
       "1477057  0x5754284f345afc66a98fbb0a0afe71e0f007b949 139291708.339840   \n",
       "1477058  0xfdb16996831753d5331ff813c29a93c76834a0ad 152457482.812605   \n",
       "1477059  0x6748f50f686bfbca6fe8ad62b22228b87f31ff2b 198610436.106398   \n",
       "1477060  0xbe0eb53f46cd790cd13851d5eff43d12404d33e8 301118650.039683   \n",
       "1477061  0x7b8c69a0f660cd43ef67948976daae77bc6a019b 400000001.030000   \n",
       "\n",
       "                      cum  \n",
       "0                0.000001  \n",
       "1                0.000002  \n",
       "2                0.000003  \n",
       "3                0.000004  \n",
       "4                0.000005  \n",
       "...                   ...  \n",
       "1477057 4985660847.421669  \n",
       "1477058 5138118330.234274  \n",
       "1477059 5336728766.340672  \n",
       "1477060 5637847416.380355  \n",
       "1477061 6037847417.410355  \n",
       "\n",
       "[1477062 rows x 3 columns]"
      ]
     },
     "execution_count": 35,
     "metadata": {},
     "output_type": "execute_result"
    }
   ],
   "source": [
    "df = pd.read_csv(positive_cumulated_balances, index_col=\"Unnamed: 0\")\n",
    "df"
   ]
  },
  {
   "cell_type": "markdown",
   "metadata": {},
   "source": [
    "<center></center>"
   ]
  },
  {
   "cell_type": "markdown",
   "metadata": {},
   "source": [
    "## II.I. Quick Summary"
   ]
  },
  {
   "cell_type": "code",
   "execution_count": 36,
   "metadata": {},
   "outputs": [
    {
     "data": {
      "text/plain": [
       "count    1477062.000000\n",
       "mean           0.004088\n",
       "std            0.511874\n",
       "min            0.000000\n",
       "25%            0.000000\n",
       "50%            0.000010\n",
       "75%            0.000075\n",
       "max          400.000001\n",
       "Name: balance, dtype: object"
      ]
     },
     "execution_count": 36,
     "metadata": {},
     "output_type": "execute_result"
    }
   ],
   "source": [
    "(df[df['balance']>0]['balance']/1000000).describe().apply(lambda x: format(x, 'f'))"
   ]
  },
  {
   "cell_type": "markdown",
   "metadata": {},
   "source": [
    "<center></center>"
   ]
  },
  {
   "cell_type": "markdown",
   "metadata": {},
   "source": [
    "## II.II. Balance Table"
   ]
  },
  {
   "cell_type": "code",
   "execution_count": 37,
   "metadata": {},
   "outputs": [
    {
     "name": "stderr",
     "output_type": "stream",
     "text": [
      "/home/nero/python/master_thesis/lib/python3.6/site-packages/numpy/lib/arraysetops.py:569: FutureWarning: elementwise comparison failed; returning scalar instead, but in the future will perform elementwise comparison\n",
      "  mask |= (ar1 == a)\n"
     ]
    },
    {
     "data": {
      "text/html": [
       "<div>\n",
       "<style scoped>\n",
       "    .dataframe tbody tr th:only-of-type {\n",
       "        vertical-align: middle;\n",
       "    }\n",
       "\n",
       "    .dataframe tbody tr th {\n",
       "        vertical-align: top;\n",
       "    }\n",
       "\n",
       "    .dataframe thead th {\n",
       "        text-align: right;\n",
       "    }\n",
       "</style>\n",
       "<table border=\"1\" class=\"dataframe\">\n",
       "  <thead>\n",
       "    <tr style=\"text-align: right;\">\n",
       "      <th></th>\n",
       "      <th>Accounts in total</th>\n",
       "      <th>% of total supply</th>\n",
       "      <th>Tether amount</th>\n",
       "    </tr>\n",
       "  </thead>\n",
       "  <tbody>\n",
       "    <tr>\n",
       "      <th>0.1% of the richest accounts</th>\n",
       "      <td>1,477</td>\n",
       "      <td>80.350000</td>\n",
       "      <td>4,851</td>\n",
       "    </tr>\n",
       "    <tr>\n",
       "      <th>1% of the richest accounts</th>\n",
       "      <td>14,771</td>\n",
       "      <td>96.000000</td>\n",
       "      <td>5,796</td>\n",
       "    </tr>\n",
       "    <tr>\n",
       "      <th>5% of the richest accounts</th>\n",
       "      <td>73,853</td>\n",
       "      <td>98.850000</td>\n",
       "      <td>5,968</td>\n",
       "    </tr>\n",
       "    <tr>\n",
       "      <th>10% of the richest accounts</th>\n",
       "      <td>147,706</td>\n",
       "      <td>99.350000</td>\n",
       "      <td>5,999</td>\n",
       "    </tr>\n",
       "  </tbody>\n",
       "</table>\n",
       "</div>"
      ],
      "text/plain": [
       "                             Accounts in total  % of total supply  \\\n",
       "0.1% of the richest accounts             1,477          80.350000   \n",
       "1% of the richest accounts              14,771          96.000000   \n",
       "5% of the richest accounts              73,853          98.850000   \n",
       "10% of the richest accounts            147,706          99.350000   \n",
       "\n",
       "                             Tether amount  \n",
       "0.1% of the richest accounts         4,851  \n",
       "1% of the richest accounts           5,796  \n",
       "5% of the richest accounts           5,968  \n",
       "10% of the richest accounts          5,999  "
      ]
     },
     "execution_count": 37,
     "metadata": {},
     "output_type": "execute_result"
    }
   ],
   "source": [
    "df = pd.read_csv(positive_cumulated_balances, index_col=0)\n",
    "def get_distribution(perc):\n",
    "    per = round(df.index[-1]*perc)\n",
    "    entities = df.index[-1]- per\n",
    "    upper = df.loc[per:,:]\n",
    "    lower = df.loc[:per,:]\n",
    "    lower_ = lower['cum'].iloc[-1] /(10*10**5)\n",
    "    upper_ = (upper['cum'].iloc[-1] - upper['cum'].iloc[0])/(10*10**5)\n",
    "    return entities, lower_, upper_, lower_/ upper['cum'].iloc[-1]/(10*10**5), upper_/(upper['cum'].iloc[-1]/(10*10**5))\n",
    "\n",
    "idx90, lower90, upper90, per10, per90 = get_distribution(0.90)\n",
    "idx95, lower95, upper95, per05, per95 = get_distribution(0.95)\n",
    "idx99, lower99, upper99, per01, per99 = get_distribution(0.99)\n",
    "idx999, lower999, upper999, per001, per999 = get_distribution(0.999)\n",
    "\n",
    "df = pd.DataFrame([[f'{idx999:,.0f}', round(per999*100,2), f'{upper999:,.0f}'],\n",
    "             [f'{idx99:,.0f}', round(per99*100,2),f'{upper99:,.0f}'],\n",
    "             [f'{idx95:,.0f}', round(per95*100,2),f'{upper95:,.0f}'],\n",
    "             [f'{idx90:,.0f}', round(per90*100,2),f'{upper90:,.0f}']],\n",
    "                  index=['0.1% of the richest accounts', '1% of the richest accounts','5% of the richest accounts','10% of the richest accounts'],\n",
    "                   columns=['Accounts in total', '% of total supply', 'Tether amount'])\n",
    "df"
   ]
  },
  {
   "cell_type": "markdown",
   "metadata": {},
   "source": [
    "<center></center>"
   ]
  },
  {
   "cell_type": "markdown",
   "metadata": {},
   "source": [
    "<center></center>"
   ]
  },
  {
   "cell_type": "markdown",
   "metadata": {},
   "source": [
    "## II.III. Rich list"
   ]
  },
  {
   "cell_type": "code",
   "execution_count": 38,
   "metadata": {},
   "outputs": [
    {
     "name": "stdout",
     "output_type": "stream",
     "text": [
      "0x7b8c69a0f660cd43ef67948976daae77bc6a019b: all tether transfers from Huobi 2 \n",
      "0x5754284f345afc66a98fbb0a0afe71e0f007b949: Bitfinex\n",
      "0x5041ed759dd4afc3a72b8192c143f72f4724081a: OKEx\n"
     ]
    },
    {
     "data": {
      "text/html": [
       "<div>\n",
       "<style scoped>\n",
       "    .dataframe tbody tr th:only-of-type {\n",
       "        vertical-align: middle;\n",
       "    }\n",
       "\n",
       "    .dataframe tbody tr th {\n",
       "        vertical-align: top;\n",
       "    }\n",
       "\n",
       "    .dataframe thead th {\n",
       "        text-align: right;\n",
       "    }\n",
       "</style>\n",
       "<table border=\"1\" class=\"dataframe\">\n",
       "  <thead>\n",
       "    <tr style=\"text-align: right;\">\n",
       "      <th></th>\n",
       "      <th>Unnamed: 0</th>\n",
       "      <th>address</th>\n",
       "      <th>balance</th>\n",
       "      <th>cum</th>\n",
       "      <th>nametag</th>\n",
       "    </tr>\n",
       "  </thead>\n",
       "  <tbody>\n",
       "    <tr>\n",
       "      <th>1477052</th>\n",
       "      <td>1477052.000000</td>\n",
       "      <td>0x3f5ce5fbfe3e9af3971dd833d26ba9b5c936f0be</td>\n",
       "      <td>48898196.515196</td>\n",
       "      <td>4585938678.788507</td>\n",
       "      <td>Binance</td>\n",
       "    </tr>\n",
       "    <tr>\n",
       "      <th>1477053</th>\n",
       "      <td>1477053.000000</td>\n",
       "      <td>0xf650c3d88d12db855b8bf7d11be6c55a4e07dcc9</td>\n",
       "      <td>50338228.375235</td>\n",
       "      <td>4636276907.163742</td>\n",
       "      <td>Compound Tether</td>\n",
       "    </tr>\n",
       "    <tr>\n",
       "      <th>1477054</th>\n",
       "      <td>1477054.000000</td>\n",
       "      <td>0x66f820a414680b5bcda5eeca5dea238543f42054</td>\n",
       "      <td>52000000.000000</td>\n",
       "      <td>4688276907.163742</td>\n",
       "      <td>Bittrex 3</td>\n",
       "    </tr>\n",
       "    <tr>\n",
       "      <th>1477055</th>\n",
       "      <td>1477055.000000</td>\n",
       "      <td>0x5041ed759dd4afc3a72b8192c143f72f4724081a</td>\n",
       "      <td>58992008.040176</td>\n",
       "      <td>4747268915.203918</td>\n",
       "      <td>OKEx</td>\n",
       "    </tr>\n",
       "    <tr>\n",
       "      <th>1477056</th>\n",
       "      <td>1477056.000000</td>\n",
       "      <td>0x742d35cc6634c0532925a3b844bc454e4438f44e</td>\n",
       "      <td>99100223.877911</td>\n",
       "      <td>4846369139.081829</td>\n",
       "      <td>Bitfinex 2</td>\n",
       "    </tr>\n",
       "    <tr>\n",
       "      <th>1477057</th>\n",
       "      <td>1477057.000000</td>\n",
       "      <td>0x5754284f345afc66a98fbb0a0afe71e0f007b949</td>\n",
       "      <td>139291708.339840</td>\n",
       "      <td>4985660847.421669</td>\n",
       "      <td>Bitfinex</td>\n",
       "    </tr>\n",
       "    <tr>\n",
       "      <th>1477058</th>\n",
       "      <td>1477058.000000</td>\n",
       "      <td>0xfdb16996831753d5331ff813c29a93c76834a0ad</td>\n",
       "      <td>152457482.812605</td>\n",
       "      <td>5138118330.234274</td>\n",
       "      <td>Huobi 3</td>\n",
       "    </tr>\n",
       "    <tr>\n",
       "      <th>1477059</th>\n",
       "      <td>1477059.000000</td>\n",
       "      <td>0x6748f50f686bfbca6fe8ad62b22228b87f31ff2b</td>\n",
       "      <td>198610436.106398</td>\n",
       "      <td>5336728766.340672</td>\n",
       "      <td>Huobi 2</td>\n",
       "    </tr>\n",
       "    <tr>\n",
       "      <th>1477060</th>\n",
       "      <td>1477060.000000</td>\n",
       "      <td>0xbe0eb53f46cd790cd13851d5eff43d12404d33e8</td>\n",
       "      <td>301118650.039683</td>\n",
       "      <td>5637847416.380355</td>\n",
       "      <td>Binance 7</td>\n",
       "    </tr>\n",
       "    <tr>\n",
       "      <th>1477061</th>\n",
       "      <td>1477061.000000</td>\n",
       "      <td>0x7b8c69a0f660cd43ef67948976daae77bc6a019b</td>\n",
       "      <td>400000001.030000</td>\n",
       "      <td>6037847417.410355</td>\n",
       "      <td>Huobi</td>\n",
       "    </tr>\n",
       "    <tr>\n",
       "      <th>1477085</th>\n",
       "      <td>nan</td>\n",
       "      <td>NaN</td>\n",
       "      <td>nan</td>\n",
       "      <td>nan</td>\n",
       "      <td>Huobi</td>\n",
       "    </tr>\n",
       "    <tr>\n",
       "      <th>1477081</th>\n",
       "      <td>nan</td>\n",
       "      <td>NaN</td>\n",
       "      <td>nan</td>\n",
       "      <td>nan</td>\n",
       "      <td>Bitfinex</td>\n",
       "    </tr>\n",
       "    <tr>\n",
       "      <th>1477079</th>\n",
       "      <td>nan</td>\n",
       "      <td>NaN</td>\n",
       "      <td>nan</td>\n",
       "      <td>nan</td>\n",
       "      <td>OKEx</td>\n",
       "    </tr>\n",
       "  </tbody>\n",
       "</table>\n",
       "</div>"
      ],
      "text/plain": [
       "            Unnamed: 0                                     address  \\\n",
       "1477052 1477052.000000  0x3f5ce5fbfe3e9af3971dd833d26ba9b5c936f0be   \n",
       "1477053 1477053.000000  0xf650c3d88d12db855b8bf7d11be6c55a4e07dcc9   \n",
       "1477054 1477054.000000  0x66f820a414680b5bcda5eeca5dea238543f42054   \n",
       "1477055 1477055.000000  0x5041ed759dd4afc3a72b8192c143f72f4724081a   \n",
       "1477056 1477056.000000  0x742d35cc6634c0532925a3b844bc454e4438f44e   \n",
       "1477057 1477057.000000  0x5754284f345afc66a98fbb0a0afe71e0f007b949   \n",
       "1477058 1477058.000000  0xfdb16996831753d5331ff813c29a93c76834a0ad   \n",
       "1477059 1477059.000000  0x6748f50f686bfbca6fe8ad62b22228b87f31ff2b   \n",
       "1477060 1477060.000000  0xbe0eb53f46cd790cd13851d5eff43d12404d33e8   \n",
       "1477061 1477061.000000  0x7b8c69a0f660cd43ef67948976daae77bc6a019b   \n",
       "1477085            nan                                         NaN   \n",
       "1477081            nan                                         NaN   \n",
       "1477079            nan                                         NaN   \n",
       "\n",
       "                 balance               cum          nametag  \n",
       "1477052  48898196.515196 4585938678.788507          Binance  \n",
       "1477053  50338228.375235 4636276907.163742  Compound Tether  \n",
       "1477054  52000000.000000 4688276907.163742        Bittrex 3  \n",
       "1477055  58992008.040176 4747268915.203918             OKEx  \n",
       "1477056  99100223.877911 4846369139.081829       Bitfinex 2  \n",
       "1477057 139291708.339840 4985660847.421669         Bitfinex  \n",
       "1477058 152457482.812605 5138118330.234274          Huobi 3  \n",
       "1477059 198610436.106398 5336728766.340672          Huobi 2  \n",
       "1477060 301118650.039683 5637847416.380355        Binance 7  \n",
       "1477061 400000001.030000 6037847417.410355            Huobi  \n",
       "1477085              nan               nan            Huobi  \n",
       "1477081              nan               nan         Bitfinex  \n",
       "1477079              nan               nan             OKEx  "
      ]
     },
     "execution_count": 38,
     "metadata": {},
     "output_type": "execute_result"
    }
   ],
   "source": [
    "pd.options.mode.chained_assignment = None\n",
    "df = pd.read_csv(positive_cumulated_balances)\n",
    "balance = df\n",
    "rich = df.loc[df.index[-10]:,:]\n",
    "ex = pd.read_csv(exchanges, header=None)\n",
    "loop = rich.iterrows()\n",
    "for i, j in loop:\n",
    "    if j['address'] in ex[0].tolist():\n",
    "        rich.loc[i,'nametag'] = ex[ex[0] == j['address']][1].values[0]\n",
    "print('0x7b8c69a0f660cd43ef67948976daae77bc6a019b: all tether transfers from Huobi 2 ')\n",
    "print('0x5754284f345afc66a98fbb0a0afe71e0f007b949: Bitfinex')\n",
    "print('0x5041ed759dd4afc3a72b8192c143f72f4724081a: OKEx')\n",
    "\n",
    "rich.loc[1477085,'nametag'] = 'Huobi'\n",
    "rich.loc[1477081,'nametag'] = 'Bitfinex'\n",
    "rich.loc[1477079,'nametag'] = 'OKEx'\n",
    "rich"
   ]
  },
  {
   "cell_type": "markdown",
   "metadata": {},
   "source": [
    "<center></center>"
   ]
  },
  {
   "cell_type": "markdown",
   "metadata": {},
   "source": [
    "<center></center>"
   ]
  },
  {
   "cell_type": "markdown",
   "metadata": {},
   "source": [
    "## Huobi"
   ]
  },
  {
   "cell_type": "code",
   "execution_count": 39,
   "metadata": {},
   "outputs": [],
   "source": [
    "ex = pd.read_csv(exchanges, header=None)"
   ]
  },
  {
   "cell_type": "code",
   "execution_count": 40,
   "metadata": {},
   "outputs": [
    {
     "name": "stdout",
     "output_type": "stream",
     "text": [
      "Huobi Total Balance: 764\n",
      "12.66% of Total\n"
     ]
    }
   ],
   "source": [
    "df = ex.loc[0:73,:]\n",
    "bal = 0 \n",
    "for i in df[0]:\n",
    "    val = balance['balance'][balance['address'] == i]\n",
    "    if not val.empty:\n",
    "        bal += balance['balance'][balance['address'] == i].values[0]\n",
    "    else:\n",
    "        pass\n",
    "print('Huobi Total Balance: {:.0f}\\n{:.2f}% of Total'.format(bal/(10**6), bal/balance.loc[balance.index[-1], 'cum']*100))"
   ]
  },
  {
   "cell_type": "markdown",
   "metadata": {},
   "source": [
    "<center></center>"
   ]
  },
  {
   "cell_type": "markdown",
   "metadata": {},
   "source": [
    "## Binance"
   ]
  },
  {
   "cell_type": "code",
   "execution_count": 41,
   "metadata": {},
   "outputs": [
    {
     "name": "stdout",
     "output_type": "stream",
     "text": [
      "Binance Total Balance: 379\n",
      "6.28% of Total\n"
     ]
    }
   ],
   "source": [
    "df = ex.loc[74:88,:]\n",
    "bal = 0 \n",
    "for i in df[0]:\n",
    "    val = balance['balance'][balance['address'] == i]\n",
    "    if not val.empty:\n",
    "        bal += balance['balance'][balance['address'] == i].values[0]\n",
    "    else:\n",
    "        pass\n",
    "print('Binance Total Balance: {:.0f}\\n{:.2f}% of Total'.format(bal/(10**6), bal/balance.loc[balance.index[-1], 'cum']*100))"
   ]
  },
  {
   "cell_type": "markdown",
   "metadata": {},
   "source": [
    "<center></center>"
   ]
  },
  {
   "cell_type": "markdown",
   "metadata": {},
   "source": [
    "## Bitfinex"
   ]
  },
  {
   "cell_type": "code",
   "execution_count": 42,
   "metadata": {},
   "outputs": [
    {
     "name": "stdout",
     "output_type": "stream",
     "text": [
      "Bitfinex Total Balance: 287\n",
      "4.75% of Total\n"
     ]
    }
   ],
   "source": [
    "df = ex.loc[89:110,:]\n",
    "bal = 0 \n",
    "for i in df[0]:\n",
    "    val = balance['balance'][balance['address'] == i]\n",
    "    if not val.empty:\n",
    "        bal += balance['balance'][balance['address'] == i].values[0]\n",
    "    else:\n",
    "        pass\n",
    "print('Bitfinex Total Balance: {:.0f}\\n{:.2f}% of Total'.format(bal/(10**6), bal/balance.loc[balance.index[-1], 'cum']*100))"
   ]
  },
  {
   "cell_type": "markdown",
   "metadata": {},
   "source": [
    "<center></center>"
   ]
  },
  {
   "cell_type": "markdown",
   "metadata": {},
   "source": [
    "## OKEx"
   ]
  },
  {
   "cell_type": "code",
   "execution_count": 43,
   "metadata": {},
   "outputs": [
    {
     "name": "stdout",
     "output_type": "stream",
     "text": [
      "OKEx Total Balance: 59\n",
      "0.98% of Total\n"
     ]
    }
   ],
   "source": [
    "df = ex.loc[111:115,:]\n",
    "bal = 0 \n",
    "for i in df[0]:\n",
    "    val = balance['balance'][balance['address'] == i]\n",
    "    if not val.empty:\n",
    "        bal += balance['balance'][balance['address'] == i].values[0]\n",
    "    else:\n",
    "        pass\n",
    "print('OKEx Total Balance: {:.0f}\\n{:.2f}% of Total'.format(bal/(10**6), bal/balance.loc[balance.index[-1], 'cum']*100))"
   ]
  },
  {
   "cell_type": "markdown",
   "metadata": {},
   "source": [
    "<center></center>"
   ]
  },
  {
   "cell_type": "markdown",
   "metadata": {},
   "source": [
    "## Bittrex"
   ]
  },
  {
   "cell_type": "code",
   "execution_count": 44,
   "metadata": {},
   "outputs": [
    {
     "name": "stdout",
     "output_type": "stream",
     "text": [
      "Bittrex Total Balance: 56\n",
      "0.92% of Total\n"
     ]
    }
   ],
   "source": [
    "df = ex.loc[116:119,:]\n",
    "bal = 0 \n",
    "for i in df[0]:\n",
    "    val = balance['balance'][balance['address'] == i]\n",
    "    if not val.empty:\n",
    "        bal += balance['balance'][balance['address'] == i].values[0]\n",
    "    else:\n",
    "        pass\n",
    "print('Bittrex Total Balance: {:.0f}\\n{:.2f}% of Total'.format(bal/(10**6), bal/balance.loc[balance.index[-1], 'cum']*100))"
   ]
  },
  {
   "cell_type": "markdown",
   "metadata": {},
   "source": [
    "<center></center>"
   ]
  },
  {
   "cell_type": "markdown",
   "metadata": {},
   "source": [
    "## Compound"
   ]
  },
  {
   "cell_type": "code",
   "execution_count": 45,
   "metadata": {},
   "outputs": [
    {
     "name": "stdout",
     "output_type": "stream",
     "text": [
      "Compound Total Balance: 50\n",
      "0.83% of Total\n"
     ]
    }
   ],
   "source": [
    "df = ex.loc[151:179,:]\n",
    "bal = 0 \n",
    "for i in df[0]:\n",
    "    val = balance['balance'][balance['address'] == i]\n",
    "    if not val.empty:\n",
    "        bal += balance['balance'][balance['address'] == i].values[0]\n",
    "    else:\n",
    "        pass\n",
    "print('Compound Total Balance: {:.0f}\\n{:.2f}% of Total'.format(bal/(10**6), bal/balance.loc[balance.index[-1], 'cum']*100))"
   ]
  },
  {
   "cell_type": "markdown",
   "metadata": {},
   "source": [
    "<center></center>"
   ]
  },
  {
   "cell_type": "markdown",
   "metadata": {},
   "source": [
    "## Poloniex"
   ]
  },
  {
   "cell_type": "code",
   "execution_count": 46,
   "metadata": {},
   "outputs": [
    {
     "name": "stdout",
     "output_type": "stream",
     "text": [
      "Poloniex Total Balance: 22\n",
      "0.36% of Total\n"
     ]
    }
   ],
   "source": [
    "df = ex.loc[247:266,:]\n",
    "bal = 0 \n",
    "for i in df[0]:\n",
    "    val = balance['balance'][balance['address'] == i]\n",
    "    if not val.empty:\n",
    "        bal += balance['balance'][balance['address'] == i].values[0]\n",
    "    else:\n",
    "        pass\n",
    "print('Poloniex Total Balance: {:.0f}\\n{:.2f}% of Total'.format(bal/(10**6), bal/balance.loc[balance.index[-1], 'cum']*100))"
   ]
  },
  {
   "cell_type": "markdown",
   "metadata": {},
   "source": [
    "<center></center>"
   ]
  },
  {
   "cell_type": "markdown",
   "metadata": {},
   "source": [
    "<center></center>"
   ]
  },
  {
   "cell_type": "markdown",
   "metadata": {},
   "source": [
    "<center></center>"
   ]
  },
  {
   "cell_type": "markdown",
   "metadata": {},
   "source": [
    "# II. IV. Pie Chart"
   ]
  },
  {
   "cell_type": "code",
   "execution_count": null,
   "metadata": {},
   "outputs": [],
   "source": [
    "df = pd.read_csv(positive_cumulated_balances, index_col=\"Unnamed: 0\")\n",
    "aa = df.iloc[df.index[-1]-80:]\n",
    "bb = df['balance'].iloc[:df.index[-1]-80]\n",
    "df = aa.append(pd.DataFrame({'address': 'others', 'balance': sum(bb)}, index=[0]))\n",
    "label = []\n",
    "counter = 0\n",
    "def getlabel(i):\n",
    "    global counter\n",
    "    if i:\n",
    "        if not i == 'others':\n",
    "            label.append(i + '...')\n",
    "        else:\n",
    "            label.append(i)\n",
    "    else:\n",
    "        label.append('')\n",
    "    counter += 1\n",
    "    \n",
    "[getlabel(i[:6]) if counter >= len(df)-11 else getlabel('') for i in df['address']  ]\n",
    "print()"
   ]
  },
  {
   "cell_type": "code",
   "execution_count": null,
   "metadata": {},
   "outputs": [],
   "source": [
    "print('\\n\\n')\n",
    "# Colorspace colors by: https://colorspace.r-forge.r-project.org/index.html\n",
    "\n",
    "colorspace_set3 = ['#EEBD92','#FFB3B5','#85D0F2','#BCC3FE','#E7B5F5', \n",
    "                 '#FEAFDA', '#61D8D6','#76D9B1','#A4D390','#CFC982']\n",
    "colorsp_dynamic =['#DB9D85', '#87AEDF', '#9DB469', '#6DBC86', '#3DBEAB', \n",
    "                  '#4CB9CC', '#C2A968', '#BB9FE0', '#DA95CC', '#E494AB']\n",
    "colorspa_dark_3 = ['#B675E0','#5991E4','#00AA5A','#6F9F00','#CE7D3B']\n",
    "colorspa_dyna_5 = ['#9DB469','#87AEDF','#DA95CC', '#DB9D85','#3DBEAB']\n",
    "\n",
    "fig = plt.figure(figsize=(25,15), dpi=400)\n",
    "ax = fig.add_subplot()\n",
    "aa = plt.pie(df['balance'],colors=colorsp_dynamic, \n",
    "             labels=label,\n",
    "             autopct=lambda x: r'{:.1f}\\%'.format(x) if x > 0.8 else r'{:.0f}\\%'.format(x) if x > 1  else '', \n",
    "             pctdistance= 0.8, \n",
    "             labeldistance= 1.05, \n",
    "             radius=1, \n",
    "             explode=[0.05 for i in range(0, len(df['balance']))],\n",
    "             wedgeprops = {'linewidth': 0.8, 'edgecolor':'k'}, \n",
    "             startangle=285) \n",
    "\n",
    "# Custom Modifications\n",
    "aa[-1][-1].set_x(-0.7268917458682129)\n",
    "aa[-1][-1].set_fontsize(35)\n",
    "aa[-1][-2].set_fontsize(30)\n",
    "aa[-1][-2].set_x(0.19977073082370535)\n",
    "aa[-1][-2].set_y(0.8000006952023211)\n",
    "aa[-1][-3].set_fontsize(27)\n",
    "aa[-1][-4].set_fontsize(24)\n",
    "aa[-1][-5].set_fontsize(20)\n",
    "aa[-1][-6].set_fontsize(16)\n",
    "aa[-1][-7].set_fontsize(13)\n",
    "aa[-1][-8].set_fontsize(9)\n",
    "aa[-1][-9].set_fontsize(9)\n",
    "aa[-1][-10].set_fontsize(9)\n",
    "aa[-1][-11].set_fontsize(8)\n",
    "\n",
    "fontsize = -120\n",
    "for i in aa[1]:\n",
    "    i.set_fontsize(fontsize)\n",
    "    fontsize += 2\n",
    "aa[1][-1].set_fontsize(50)\n",
    "plt.tight_layout(pad=5)\n",
    "plt.title('T e t h e r \\ \\ D i s t r i b u t i o n', fontsize = 50)\n",
    "circ = plt.Circle((0,0),0.5,color='black', fc='white',linewidth=1.25)\n",
    "ax.add_artist(circ)\n",
    "plt.savefig('../pics/tether/tether_distribution_pie.pdf')"
   ]
  },
  {
   "cell_type": "markdown",
   "metadata": {},
   "source": [
    "## II.V. Lorenz curve"
   ]
  },
  {
   "cell_type": "code",
   "execution_count": 47,
   "metadata": {},
   "outputs": [
    {
     "name": "stderr",
     "output_type": "stream",
     "text": [
      "/home/nero/python/master_thesis/lib/python3.6/site-packages/numpy/lib/arraysetops.py:569: FutureWarning: elementwise comparison failed; returning scalar instead, but in the future will perform elementwise comparison\n",
      "  mask |= (ar1 == a)\n"
     ]
    },
    {
     "data": {
      "text/html": [
       "<div>\n",
       "<style scoped>\n",
       "    .dataframe tbody tr th:only-of-type {\n",
       "        vertical-align: middle;\n",
       "    }\n",
       "\n",
       "    .dataframe tbody tr th {\n",
       "        vertical-align: top;\n",
       "    }\n",
       "\n",
       "    .dataframe thead th {\n",
       "        text-align: right;\n",
       "    }\n",
       "</style>\n",
       "<table border=\"1\" class=\"dataframe\">\n",
       "  <thead>\n",
       "    <tr style=\"text-align: right;\">\n",
       "      <th></th>\n",
       "      <th>address</th>\n",
       "      <th>balance</th>\n",
       "      <th>cum</th>\n",
       "    </tr>\n",
       "  </thead>\n",
       "  <tbody>\n",
       "    <tr>\n",
       "      <th>0</th>\n",
       "      <td>0x3527995dc66caef918fd97855854e4afe2faa869</td>\n",
       "      <td>0.000001</td>\n",
       "      <td>0.000001</td>\n",
       "    </tr>\n",
       "    <tr>\n",
       "      <th>1</th>\n",
       "      <td>0xd559f7518a7b4208c32fe76aff704e917b61c927</td>\n",
       "      <td>0.000001</td>\n",
       "      <td>0.000002</td>\n",
       "    </tr>\n",
       "    <tr>\n",
       "      <th>2</th>\n",
       "      <td>0xb55a57255b387dfeaf51d08f81eadf42007e00ec</td>\n",
       "      <td>0.000001</td>\n",
       "      <td>0.000003</td>\n",
       "    </tr>\n",
       "    <tr>\n",
       "      <th>3</th>\n",
       "      <td>0xdac4d16e24ccc324b762109467ea9b9d3b231d41</td>\n",
       "      <td>0.000001</td>\n",
       "      <td>0.000004</td>\n",
       "    </tr>\n",
       "    <tr>\n",
       "      <th>4</th>\n",
       "      <td>0x801bd853627dc527c95c8337b92caaef8720555c</td>\n",
       "      <td>0.000001</td>\n",
       "      <td>0.000005</td>\n",
       "    </tr>\n",
       "    <tr>\n",
       "      <th>...</th>\n",
       "      <td>...</td>\n",
       "      <td>...</td>\n",
       "      <td>...</td>\n",
       "    </tr>\n",
       "    <tr>\n",
       "      <th>1477057</th>\n",
       "      <td>0x5754284f345afc66a98fbb0a0afe71e0f007b949</td>\n",
       "      <td>139291708.339840</td>\n",
       "      <td>4985660847.421669</td>\n",
       "    </tr>\n",
       "    <tr>\n",
       "      <th>1477058</th>\n",
       "      <td>0xfdb16996831753d5331ff813c29a93c76834a0ad</td>\n",
       "      <td>152457482.812605</td>\n",
       "      <td>5138118330.234274</td>\n",
       "    </tr>\n",
       "    <tr>\n",
       "      <th>1477059</th>\n",
       "      <td>0x6748f50f686bfbca6fe8ad62b22228b87f31ff2b</td>\n",
       "      <td>198610436.106398</td>\n",
       "      <td>5336728766.340672</td>\n",
       "    </tr>\n",
       "    <tr>\n",
       "      <th>1477060</th>\n",
       "      <td>0xbe0eb53f46cd790cd13851d5eff43d12404d33e8</td>\n",
       "      <td>301118650.039683</td>\n",
       "      <td>5637847416.380355</td>\n",
       "    </tr>\n",
       "    <tr>\n",
       "      <th>1477061</th>\n",
       "      <td>0x7b8c69a0f660cd43ef67948976daae77bc6a019b</td>\n",
       "      <td>400000001.030000</td>\n",
       "      <td>6037847417.410355</td>\n",
       "    </tr>\n",
       "  </tbody>\n",
       "</table>\n",
       "<p>1477062 rows × 3 columns</p>\n",
       "</div>"
      ],
      "text/plain": [
       "                                            address          balance  \\\n",
       "0        0x3527995dc66caef918fd97855854e4afe2faa869         0.000001   \n",
       "1        0xd559f7518a7b4208c32fe76aff704e917b61c927         0.000001   \n",
       "2        0xb55a57255b387dfeaf51d08f81eadf42007e00ec         0.000001   \n",
       "3        0xdac4d16e24ccc324b762109467ea9b9d3b231d41         0.000001   \n",
       "4        0x801bd853627dc527c95c8337b92caaef8720555c         0.000001   \n",
       "...                                             ...              ...   \n",
       "1477057  0x5754284f345afc66a98fbb0a0afe71e0f007b949 139291708.339840   \n",
       "1477058  0xfdb16996831753d5331ff813c29a93c76834a0ad 152457482.812605   \n",
       "1477059  0x6748f50f686bfbca6fe8ad62b22228b87f31ff2b 198610436.106398   \n",
       "1477060  0xbe0eb53f46cd790cd13851d5eff43d12404d33e8 301118650.039683   \n",
       "1477061  0x7b8c69a0f660cd43ef67948976daae77bc6a019b 400000001.030000   \n",
       "\n",
       "                      cum  \n",
       "0                0.000001  \n",
       "1                0.000002  \n",
       "2                0.000003  \n",
       "3                0.000004  \n",
       "4                0.000005  \n",
       "...                   ...  \n",
       "1477057 4985660847.421669  \n",
       "1477058 5138118330.234274  \n",
       "1477059 5336728766.340672  \n",
       "1477060 5637847416.380355  \n",
       "1477061 6037847417.410355  \n",
       "\n",
       "[1477062 rows x 3 columns]"
      ]
     },
     "execution_count": 47,
     "metadata": {},
     "output_type": "execute_result"
    }
   ],
   "source": [
    "df = pd.read_csv(positive_cumulated_balances, index_col = \"Unnamed: 0\")\n",
    "df"
   ]
  },
  {
   "cell_type": "code",
   "execution_count": 48,
   "metadata": {},
   "outputs": [],
   "source": [
    "y_all = df['cum']/df['cum'].iloc[-1]\n",
    "x_all = (np.arange(start = 0 , stop = len(df['cum']), step = 1)/(len(df['cum'])))\n",
    "\n",
    "y_25_75 = df['cum'].iloc[int(df.index[-1]*0.25):int(df.index[-1]*0.75)]\n",
    "y_25_75 = y_25_75/max(y_25_75)\n",
    "x_25_75 = np.arange(start = 0 , stop = len(y_25_75), step = 1)/(len(y_25_75))"
   ]
  },
  {
   "cell_type": "code",
   "execution_count": 49,
   "metadata": {},
   "outputs": [
    {
     "name": "stdout",
     "output_type": "stream",
     "text": [
      "Q3-Q1 (in ether):\n"
     ]
    },
    {
     "data": {
      "text/plain": [
       "count    0.738530\n",
       "mean     0.000018\n",
       "std      0.000021\n",
       "min      0.000000\n",
       "25%      0.000001\n",
       "50%      0.000010\n",
       "75%      0.000030\n",
       "max      0.000075\n",
       "Name: balance, dtype: object"
      ]
     },
     "execution_count": 49,
     "metadata": {},
     "output_type": "execute_result"
    }
   ],
   "source": [
    "print('Q3-Q1 (in ether):')\n",
    "df['balance'].iloc[int(df.index[-1]*0.25):int(df.index[-1]*0.75)].describe().apply(lambda x: format(x/(10**6), 'f'))"
   ]
  },
  {
   "cell_type": "code",
   "execution_count": null,
   "metadata": {},
   "outputs": [],
   "source": [
    "print('\\n\\n')\n",
    "fig = plt.figure(figsize=(15,15))\n",
    "ax = fig.add_subplot()\n",
    "plt.grid()\n",
    "plt.title(r'L o r e n z \\ \\ C u r v e'+'\\n', fontsize=50)\n",
    "plt.xlabel('\\n'+r'\\% \\ \\ of \\ \\ A d d r e s s e s', fontsize=30)\n",
    "plt.ylabel(r'\\% \\ o f \\ \\ t o t a l \\ \\ T e t h e r \\ \\ s u p p l y'+'\\n',  fontsize=30)\n",
    "plt.xticks(fontsize=20)\n",
    "plt.yticks(fontsize=20)\n",
    "ax.plot(x_all,y_all, linewidth = 5, color = '#2D728F', label = r'$\\ All$')\n",
    "ax.plot(x_25_75,y_25_75, linewidth = 5, color = '#87AEDF', label = r'$\\ Q_3 - Q_1$')\n",
    "plt.legend(fontsize= 35)\n",
    "plt.plot([0, 1], [0, 1], transform=ax.transAxes, linewidth = 4, ls = (0, (5, 10)), color = 'black')\n",
    "ax.set_xlim([0,1.05])\n",
    "plt.savefig('../pics/tether/tether_lorenzcurve.pdf')"
   ]
  },
  {
   "cell_type": "markdown",
   "metadata": {},
   "source": [
    "<center></center>"
   ]
  },
  {
   "cell_type": "markdown",
   "metadata": {},
   "source": [
    "# Graphs that didn't made it but are too nice to throw away"
   ]
  },
  {
   "cell_type": "markdown",
   "metadata": {},
   "source": [
    "## Jan '19 - Jul '20"
   ]
  },
  {
   "cell_type": "code",
   "execution_count": null,
   "metadata": {},
   "outputs": [],
   "source": [
    "df = pd.read_csv(avg_value_over_date, index_col=0)\n",
    "df = df.loc[df.index[399]:,:]\n",
    "plt.figure(figsize=(12, 7), dpi=800)\n",
    "\n",
    "plt.grid(True)\n",
    "plt.plot(np.arange(0 , len(df.index.tolist())), df['txvalue'], color = 'black', label = 'Avg. Amount/Day')\n",
    "plt.xlabel('\\n'+r'D a t e', fontsize=45)\n",
    "plt.ylabel(r'U S D T'+'\\n', fontsize=35)\n",
    "plt.title(r\"A v e r a g e \\ \\ T r a n s f e r \\ \\ A m o u n t\"+\"\\n\"+r\"J a n \\ \\ ' 1 9 \\ \\ - \\ \\ J u l \\ \\ ' 2 0\" + '\\n', size = 30)\n",
    "lgnd = plt.legend(loc=\"upper right\", fontsize=20, shadow= True)\n",
    "plt.ticklabel_format(style = 'plain')\n",
    "plt.xticks(labels=[\"\\nJan '19\",\"Apr '19\",\"\\nJul '19\",\"Oct '19\",\n",
    "                   \"\\nJan '20\",\"Apr '20\",\"\\nJul '20\"], \n",
    "           ticks=[0,90,181,273,\n",
    "                  365,456, 547], fontsize=23) \n",
    "plt.yticks(np.arange(0, 400001, 50000), \n",
    "           np.vectorize(lambda x: f'{x:,.0f}')(np.arange(0, 400001, 50000)), \n",
    "           fontsize=15)\n",
    "plt.tight_layout(pad=1)\n",
    "lgnd.legendHandles[0].set_linewidth(3.0)\n",
    "plt.savefig('../pics/tether/tether_avgtxvalue_jan19.pdf')"
   ]
  },
  {
   "cell_type": "markdown",
   "metadata": {},
   "source": [
    "## Plot average gas costs"
   ]
  },
  {
   "cell_type": "markdown",
   "metadata": {},
   "source": [
    "## Sep '17 - Jul '20"
   ]
  },
  {
   "cell_type": "code",
   "execution_count": null,
   "metadata": {},
   "outputs": [],
   "source": [
    "print('\\n\\n')\n",
    "df = pd.read_csv(avg_gas_over_date)\n",
    "plt.figure(figsize=(12, 7), dpi=800)\n",
    "plt.grid(True)\n",
    "plt.plot(np.arange(0 , len(df.index.tolist())), df['gas'], color = 'black', label = 'Avg. Gas Costs/Day', linewidth = 1)\n",
    "plt.xlabel('\\n'+'D a t e', fontsize=45)\n",
    "plt.ylabel('E t h e r'+'\\n', fontsize=35)\n",
    "plt.title(\"A v g. \\ \\ G a s \\ \\ C o s t s\"+\"\\n\"+\"S e p \\ \\ ' 1 7 \\ \\ - \\ \\ J u l \\ \\ ' 2 0\" + '\\n', size = 30)\n",
    "lgnd = plt.legend(loc=\"upper left\", fontsize=20, shadow= True)\n",
    "plt.ticklabel_format(style = 'plain')\n",
    "plt.xticks(labels=[\"\\nJan 18\",\"Apr '18\",\n",
    "                       \"\\nJul '18\",\"Oct '18\",\"\\nJan '19\",\n",
    "                       \"Apr '19\",\"\\nJul '19\",\"Oct '19\",\n",
    "                       \"\\nJan '20\",\"Apr '20\",\"\\nJul '20\"], \n",
    "               ticks=[34,124,\n",
    "                      215,307,399,\n",
    "                      489,580,672,\n",
    "                      764,855,946], fontsize=20) \n",
    "plt.yticks(fontsize=15)\n",
    "plt.tight_layout(pad=1)\n",
    "lgnd.legendHandles[0].set_linewidth(3.0)\n",
    "plt.savefig('../pics/tether/tether_avggascosts_sept17.pdf') \n",
    "    \n"
   ]
  },
  {
   "cell_type": "markdown",
   "metadata": {},
   "source": [
    "## Jan '19 - Jul '20"
   ]
  },
  {
   "cell_type": "code",
   "execution_count": null,
   "metadata": {},
   "outputs": [],
   "source": [
    "print('\\n\\n')\n",
    "df = pd.read_csv(avg_gas_over_date)\n",
    "df = df.iloc[399:,]\n",
    "plt.figure(figsize=(12, 7), dpi=800)\n",
    "plt.grid(True)\n",
    "plt.plot(np.arange(0 , len(df.index.tolist())), df['gas'], color = 'black', label = 'Avg. Gas Costs/Day')\n",
    "plt.xlabel('Date', fontsize=35)\n",
    "plt.ylabel('Ether', fontsize=30)\n",
    "plt.title(\"Average Gas Costs\\nJan '19 - Jul '20\\n\", size = 30)\n",
    "lgnd = plt.legend(loc=\"upper left\", fontsize=20, shadow= True)\n",
    "plt.ticklabel_format(style = 'plain')\n",
    "plt.xticks(labels=[\"\\nJan '19\",\"Apr '19\",\"\\nJul '19\",\"Oct '19\",\n",
    "                   \"\\nJan '20\",\"Apr '20\",\"\\nJul '20\"], \n",
    "           ticks=[0,90,181,273,\n",
    "                  365,456, 547], fontsize=20) \n",
    "plt.yticks(fontsize=15)\n",
    "plt.tight_layout(pad=1)\n",
    "lgnd.legendHandles[0].set_linewidth(3.0)\n",
    "plt.savefig('../pics/tether/tether_avggascosts_jan19.pdf') "
   ]
  },
  {
   "cell_type": "markdown",
   "metadata": {},
   "source": [
    "<center></center>"
   ]
  }
 ],
 "metadata": {
  "kernelspec": {
   "display_name": "master_thesis",
   "language": "python",
   "name": "master_thesis"
  },
  "language_info": {
   "codemirror_mode": {
    "name": "ipython",
    "version": 3
   },
   "file_extension": ".py",
   "mimetype": "text/x-python",
   "name": "python",
   "nbconvert_exporter": "python",
   "pygments_lexer": "ipython3",
   "version": "3.6.9"
  }
 },
 "nbformat": 4,
 "nbformat_minor": 4
}
