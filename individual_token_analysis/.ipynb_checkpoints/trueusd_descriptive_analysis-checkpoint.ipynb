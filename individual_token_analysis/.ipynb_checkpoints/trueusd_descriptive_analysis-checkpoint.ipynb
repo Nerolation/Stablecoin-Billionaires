{
 "cells": [
  {
   "cell_type": "markdown",
   "metadata": {},
   "source": [
    "# Stablecoin Billionaires<br> Descriptive Analysis of the Ethereum-based Stablecoin ecosystem "
   ]
  },
  {
   "cell_type": "markdown",
   "metadata": {},
   "source": [
    "## by Anton Wahrstätter, 01.07.2020"
   ]
  },
  {
   "cell_type": "markdown",
   "metadata": {},
   "source": [
    "# Part VI - TrueUSD"
   ]
  },
  {
   "cell_type": "code",
   "execution_count": 1,
   "metadata": {},
   "outputs": [],
   "source": [
    "import numpy as np\n",
    "import pandas as pd\n",
    "import matplotlib.pyplot as plt\n",
    "from datetime import datetime\n",
    "from collections import Counter\n",
    "from matplotlib import rc\n",
    "import re\n",
    "import random\n",
    "\n",
    "rc('font', **{'family':'serif','serif': ['Computer Modern']})\n",
    "rc('text', usetex=True)\n",
    "\n",
    "#decimals\n",
    "dec = 18"
   ]
  },
  {
   "cell_type": "code",
   "execution_count": 2,
   "metadata": {},
   "outputs": [],
   "source": [
    "#plots\n",
    "tx_over_date = '../plots/trueusd/trueusd_txs_over_date.csv'\n",
    "unique_senders_over_date = '../plots/trueusd/trueusd_unique_senders_over_date.csv'\n",
    "unique_recipients_over_date = '../plots/trueusd/trueusd_unique_recipients_over_date.csv'\n",
    "tx_count_to = '../plots/trueusd/trueusd_tx_count_to.csv'\n",
    "tx_count_from = '../plots/trueusd/trueusd_tx_count_from.csv'\n",
    "tx_over_date = '../plots/trueusd/trueusd_txs_over_date.csv'\n",
    "balances = '../plots/trueusd/trueusd_balances.csv'\n",
    "avg_gas_over_date = '../plots/trueusd/trueusd_avg_gas_over_date.csv'\n",
    "avg_value_over_date = '../plots/trueusd/trueusd_avg_value_over_date.csv'\n",
    "positive_cumulated_balances = '../plots/trueusd/trueusd_positive_cumulated_balances.csv'\n",
    "circulating_supply = '../plots/trueusd/trueusd_circulating_supply.csv'\n",
    "unique_recipients_per_day_over_date = '../plots/trueusd/trueusd_unique_recipients_per_day_over_date.csv'\n",
    "unique_senders_per_day_over_date = '../plots/trueusd/trueusd_unique_senders_per_day_over_date.csv'\n",
    "exchanges = '../plots/exchanges.csv'\n",
    "\n",
    "#data \n",
    "transfer = '../data/trueusd/transfer/0_trueUSD_transfer_5198636-10370273.csv'\n",
    "\n",
    "mint = '../data/trueusd/mint/trueusd_mint.csv'\n",
    "burn = '../data/trueusd/burn/trueusd_burn.csv'\n"
   ]
  },
  {
   "cell_type": "markdown",
   "metadata": {},
   "source": [
    "<center></center>"
   ]
  },
  {
   "cell_type": "markdown",
   "metadata": {},
   "source": [
    "# Data"
   ]
  },
  {
   "cell_type": "code",
   "execution_count": 4,
   "metadata": {},
   "outputs": [],
   "source": [
    "df = pd.read_csv(transfer)\n",
    "pd.set_option('display.float_format', lambda x: '%.3f' % x)"
   ]
  },
  {
   "cell_type": "markdown",
   "metadata": {},
   "source": [
    "## Basics"
   ]
  },
  {
   "cell_type": "code",
   "execution_count": 5,
   "metadata": {},
   "outputs": [],
   "source": [
    "df['txvalue'] = df['txvalue'].astype(float)/10**dec"
   ]
  },
  {
   "cell_type": "code",
   "execution_count": 6,
   "metadata": {},
   "outputs": [
    {
     "data": {
      "text/html": [
       "<div>\n",
       "<style scoped>\n",
       "    .dataframe tbody tr th:only-of-type {\n",
       "        vertical-align: middle;\n",
       "    }\n",
       "\n",
       "    .dataframe tbody tr th {\n",
       "        vertical-align: top;\n",
       "    }\n",
       "\n",
       "    .dataframe thead th {\n",
       "        text-align: right;\n",
       "    }\n",
       "</style>\n",
       "<table border=\"1\" class=\"dataframe\">\n",
       "  <thead>\n",
       "    <tr style=\"text-align: right;\">\n",
       "      <th></th>\n",
       "      <th>Unnamed: 0</th>\n",
       "      <th>timestamp</th>\n",
       "      <th>blocknumber</th>\n",
       "      <th>txindex</th>\n",
       "      <th>txvalue</th>\n",
       "      <th>gas_price</th>\n",
       "      <th>gas_used</th>\n",
       "    </tr>\n",
       "  </thead>\n",
       "  <tbody>\n",
       "    <tr>\n",
       "      <th>count</th>\n",
       "      <td>814750.000</td>\n",
       "      <td>814750.000</td>\n",
       "      <td>814750.000</td>\n",
       "      <td>814750.000</td>\n",
       "      <td>814750.000</td>\n",
       "      <td>814750.000</td>\n",
       "      <td>814750.000</td>\n",
       "    </tr>\n",
       "    <tr>\n",
       "      <th>mean</th>\n",
       "      <td>314109.833</td>\n",
       "      <td>1565135345.313</td>\n",
       "      <td>8305251.327</td>\n",
       "      <td>64.222</td>\n",
       "      <td>15168.464</td>\n",
       "      <td>20112704549.078</td>\n",
       "      <td>90049.336</td>\n",
       "    </tr>\n",
       "    <tr>\n",
       "      <th>std</th>\n",
       "      <td>215916.394</td>\n",
       "      <td>15769702.150</td>\n",
       "      <td>1125259.467</td>\n",
       "      <td>52.716</td>\n",
       "      <td>222554.285</td>\n",
       "      <td>25113067486.193</td>\n",
       "      <td>189216.572</td>\n",
       "    </tr>\n",
       "    <tr>\n",
       "      <th>min</th>\n",
       "      <td>0.000</td>\n",
       "      <td>1520220614.000</td>\n",
       "      <td>5198636.000</td>\n",
       "      <td>0.000</td>\n",
       "      <td>0.000</td>\n",
       "      <td>0.000</td>\n",
       "      <td>24428.000</td>\n",
       "    </tr>\n",
       "    <tr>\n",
       "      <th>25%</th>\n",
       "      <td>101843.250</td>\n",
       "      <td>1554886690.500</td>\n",
       "      <td>7539378.500</td>\n",
       "      <td>21.000</td>\n",
       "      <td>76.435</td>\n",
       "      <td>6000000000.000</td>\n",
       "      <td>29584.000</td>\n",
       "    </tr>\n",
       "    <tr>\n",
       "      <th>50%</th>\n",
       "      <td>299944.500</td>\n",
       "      <td>1563149200.000</td>\n",
       "      <td>8152326.000</td>\n",
       "      <td>52.000</td>\n",
       "      <td>500.000</td>\n",
       "      <td>15000000000.000</td>\n",
       "      <td>37281.000</td>\n",
       "    </tr>\n",
       "    <tr>\n",
       "      <th>75%</th>\n",
       "      <td>503631.750</td>\n",
       "      <td>1579467196.500</td>\n",
       "      <td>9314107.750</td>\n",
       "      <td>96.000</td>\n",
       "      <td>3343.110</td>\n",
       "      <td>30000000000.000</td>\n",
       "      <td>62098.000</td>\n",
       "    </tr>\n",
       "    <tr>\n",
       "      <th>max</th>\n",
       "      <td>707319.000</td>\n",
       "      <td>1593561562.000</td>\n",
       "      <td>10370272.000</td>\n",
       "      <td>458.000</td>\n",
       "      <td>69405654.262</td>\n",
       "      <td>5913730466413.000</td>\n",
       "      <td>6990077.000</td>\n",
       "    </tr>\n",
       "  </tbody>\n",
       "</table>\n",
       "</div>"
      ],
      "text/plain": [
       "       Unnamed: 0      timestamp  blocknumber    txindex      txvalue  \\\n",
       "count  814750.000     814750.000   814750.000 814750.000   814750.000   \n",
       "mean   314109.833 1565135345.313  8305251.327     64.222    15168.464   \n",
       "std    215916.394   15769702.150  1125259.467     52.716   222554.285   \n",
       "min         0.000 1520220614.000  5198636.000      0.000        0.000   \n",
       "25%    101843.250 1554886690.500  7539378.500     21.000       76.435   \n",
       "50%    299944.500 1563149200.000  8152326.000     52.000      500.000   \n",
       "75%    503631.750 1579467196.500  9314107.750     96.000     3343.110   \n",
       "max    707319.000 1593561562.000 10370272.000    458.000 69405654.262   \n",
       "\n",
       "              gas_price    gas_used  \n",
       "count        814750.000  814750.000  \n",
       "mean    20112704549.078   90049.336  \n",
       "std     25113067486.193  189216.572  \n",
       "min               0.000   24428.000  \n",
       "25%      6000000000.000   29584.000  \n",
       "50%     15000000000.000   37281.000  \n",
       "75%     30000000000.000   62098.000  \n",
       "max   5913730466413.000 6990077.000  "
      ]
     },
     "execution_count": 6,
     "metadata": {},
     "output_type": "execute_result"
    }
   ],
   "source": [
    "df.describe()"
   ]
  },
  {
   "cell_type": "code",
   "execution_count": 6,
   "metadata": {},
   "outputs": [
    {
     "data": {
      "text/plain": [
       "count     814750.000\n",
       "mean       15168.464\n",
       "std       222554.285\n",
       "min            0.000\n",
       "25%           76.435\n",
       "50%          500.000\n",
       "75%         3343.110\n",
       "max     69405654.262\n",
       "Name: txvalue, dtype: float64"
      ]
     },
     "execution_count": 6,
     "metadata": {},
     "output_type": "execute_result"
    }
   ],
   "source": [
    "(df['txvalue']/10**dec).describe()"
   ]
  },
  {
   "cell_type": "markdown",
   "metadata": {},
   "source": [
    "<center></center>"
   ]
  },
  {
   "cell_type": "markdown",
   "metadata": {},
   "source": [
    "## Dataset"
   ]
  },
  {
   "cell_type": "code",
   "execution_count": 6,
   "metadata": {},
   "outputs": [
    {
     "name": "stdout",
     "output_type": "stream",
     "text": [
      "Start:\n",
      "Block:            5198636            \n",
      "Timestamp:      1520220614     \n",
      "UTC Time:    2018-03-05 04:30:14   \n",
      "\n",
      "End:\n",
      "Block:            10370272           \n",
      "Timestamp:      1593561562     \n",
      "UTC Time:    2020-07-01 01:59:22   \n",
      "\n"
     ]
    }
   ],
   "source": [
    "print('Start:')\n",
    "print('Block: {:^30}\\nTimestamp: {:^20}\\nUTC Time: {:^25}\\n'.format(df['blocknumber'].iloc[0],\n",
    "                                                        df['timestamp'].iloc[0],\n",
    "                                                        str(datetime.fromtimestamp(df['timestamp'].iloc[0]))\n",
    "                                                       ))\n",
    "print('End:')\n",
    "print('Block: {:^30}\\nTimestamp: {:^20}\\nUTC Time: {:^25}\\n'.format(df['blocknumber'].iloc[-1],\n",
    "                                                        df['timestamp'].iloc[-1],\n",
    "                                                        str(datetime.fromtimestamp(df['timestamp'].iloc[-1]))\n",
    "                                                       ))"
   ]
  },
  {
   "cell_type": "markdown",
   "metadata": {},
   "source": [
    "## Total Nr. of Blocks"
   ]
  },
  {
   "cell_type": "code",
   "execution_count": 7,
   "metadata": {
    "scrolled": true
   },
   "outputs": [
    {
     "name": "stdout",
     "output_type": "stream",
     "text": [
      "Total Nr. of Blocks: 5171636\n"
     ]
    }
   ],
   "source": [
    "print('Total Nr. of Blocks: {}'.format(df['blocknumber'].iloc[-1]-df['blocknumber'].iloc[0]))"
   ]
  },
  {
   "cell_type": "markdown",
   "metadata": {},
   "source": [
    "<center></center>"
   ]
  },
  {
   "cell_type": "markdown",
   "metadata": {},
   "source": [
    "## Total Nr. of Transfer Events"
   ]
  },
  {
   "cell_type": "code",
   "execution_count": 8,
   "metadata": {},
   "outputs": [
    {
     "name": "stdout",
     "output_type": "stream",
     "text": [
      "Total Nr. of Events: 814,750\n"
     ]
    }
   ],
   "source": [
    "print('Total Nr. of Events: {:,.0f}'.format(df.describe().loc['count','timestamp']))"
   ]
  },
  {
   "cell_type": "markdown",
   "metadata": {},
   "source": [
    "<center></center>"
   ]
  },
  {
   "cell_type": "markdown",
   "metadata": {},
   "source": [
    "## Total Nr. of Addresses"
   ]
  },
  {
   "cell_type": "code",
   "execution_count": 9,
   "metadata": {},
   "outputs": [
    {
     "name": "stdout",
     "output_type": "stream",
     "text": [
      "Total Nr. of Addresses: 145242\n"
     ]
    }
   ],
   "source": [
    "print('Total Nr. of Addresses: {}'.format(len(df['txto'].unique())))"
   ]
  },
  {
   "cell_type": "markdown",
   "metadata": {},
   "source": [
    "<center></center>"
   ]
  },
  {
   "cell_type": "markdown",
   "metadata": {},
   "source": [
    "## Addresses with funds"
   ]
  },
  {
   "cell_type": "code",
   "execution_count": 10,
   "metadata": {},
   "outputs": [
    {
     "name": "stdout",
     "output_type": "stream",
     "text": [
      "Total Nr. of Addresses with funds: 29547\n"
     ]
    }
   ],
   "source": [
    "bal = pd.read_csv(balances)\n",
    "print('Total Nr. of Addresses with funds: {}'.format(len(bal[bal['txvalue']>0])))"
   ]
  },
  {
   "cell_type": "markdown",
   "metadata": {},
   "source": [
    "<center></center>"
   ]
  },
  {
   "cell_type": "markdown",
   "metadata": {},
   "source": [
    "## Avg. Transaction Value"
   ]
  },
  {
   "cell_type": "code",
   "execution_count": 11,
   "metadata": {},
   "outputs": [
    {
     "name": "stdout",
     "output_type": "stream",
     "text": [
      "Avg. Transaction Value: 15,168 TUSD\n"
     ]
    }
   ],
   "source": [
    "print('Avg. Transaction Value: {:,.0f} TUSD'.format(np.mean(df['txvalue']/10**dec)))"
   ]
  },
  {
   "cell_type": "markdown",
   "metadata": {},
   "source": [
    "<center></center>"
   ]
  },
  {
   "cell_type": "markdown",
   "metadata": {},
   "source": [
    "## Total Gas Costs"
   ]
  },
  {
   "cell_type": "code",
   "execution_count": 12,
   "metadata": {},
   "outputs": [
    {
     "name": "stdout",
     "output_type": "stream",
     "text": [
      "Total Gas spent for Transfers: 1,209.223 ether\n"
     ]
    }
   ],
   "source": [
    "df['costs'] = (df['gas_price']/10**18) * df['gas_used']\n",
    "print('Total Gas spent for Transfers: {:,.3f} ether'.format(sum(df['costs'])))"
   ]
  },
  {
   "cell_type": "markdown",
   "metadata": {},
   "source": [
    "<center></center>"
   ]
  },
  {
   "cell_type": "markdown",
   "metadata": {},
   "source": [
    "## Total TrueUSD Supply"
   ]
  },
  {
   "cell_type": "markdown",
   "metadata": {},
   "source": [
    "<center></center>"
   ]
  },
  {
   "cell_type": "code",
   "execution_count": 10,
   "metadata": {},
   "outputs": [],
   "source": [
    "all_token = (sum(pd.read_csv(mint)['txvalue'].astype(float))-sum(pd.read_csv(burn)['txvalue'].astype(float)))/(10**18)"
   ]
  },
  {
   "cell_type": "code",
   "execution_count": 13,
   "metadata": {},
   "outputs": [
    {
     "data": {
      "text/plain": [
       "139901682.53001994"
      ]
     },
     "execution_count": 13,
     "metadata": {},
     "output_type": "execute_result"
    }
   ],
   "source": [
    "new_token"
   ]
  },
  {
   "cell_type": "code",
   "execution_count": 16,
   "metadata": {},
   "outputs": [
    {
     "data": {
      "text/plain": [
       "139901682.53001988"
      ]
     },
     "execution_count": 16,
     "metadata": {},
     "output_type": "execute_result"
    }
   ],
   "source": [
    "df = pd.read_csv(transfer)\n",
    "sum(df[df['txfrom'] == '0x0000000000000000000000000000000000000000'][\"txvalue\"].astype(float))/(10**dec)- sum(df[df['txto'] == '0x0000000000000000000000000000000000000000'][\"txvalue\"].astype(float))/(10**dec)"
   ]
  },
  {
   "cell_type": "code",
   "execution_count": 18,
   "metadata": {},
   "outputs": [
    {
     "data": {
      "text/plain": [
       "139901682"
      ]
     },
     "execution_count": 18,
     "metadata": {},
     "output_type": "execute_result"
    }
   ],
   "source": [
    "-65351940+205253622\n"
   ]
  },
  {
   "cell_type": "markdown",
   "metadata": {},
   "source": [
    "<center></center>"
   ]
  },
  {
   "cell_type": "markdown",
   "metadata": {},
   "source": [
    "<center></center>"
   ]
  },
  {
   "cell_type": "markdown",
   "metadata": {},
   "source": [
    "<center></center>"
   ]
  },
  {
   "cell_type": "markdown",
   "metadata": {},
   "source": [
    "# I. Event analysis"
   ]
  },
  {
   "cell_type": "markdown",
   "metadata": {},
   "source": [
    "## I.I. Mint Event"
   ]
  },
  {
   "cell_type": "markdown",
   "metadata": {},
   "source": [
    "## Plot new issued tokens over date"
   ]
  },
  {
   "cell_type": "code",
   "execution_count": null,
   "metadata": {},
   "outputs": [],
   "source": [
    "print('\\n\\n')\n",
    "fig = plt.figure(figsize=(40,25), dpi=250)\n",
    "ax = fig.subplots()\n",
    "plt.grid()\n",
    "plt.title(r'I s s u e d \\ \\ T r u e U S D'+'\\n', size= 120)\n",
    "ax.yaxis.get_offset_text().set_fontsize(50)\n",
    "plt.xlabel('\\n'+r'D a t e ', size=120)\n",
    "plt.ylabel(r'T U S D'+'\\n', size=120)\n",
    "plt.yticks(fontsize=60)\n",
    "plt.xticks(labels=[\"Apr '18\",\n",
    "                   \"\\nJul '18\",\"Oct '18\",\"\\nJan '19\",\n",
    "                   \"Apr '19\",\"\\nJul '19\",\"Oct '19\",\n",
    "                   \"\\nJan '20\",\"Apr '20\",\"\\nJul '20\"], \n",
    "           ticks=[27,\n",
    "                  118,204,302,\n",
    "                  392,483,575,\n",
    "                  667,758,849], fontsize=60)\n",
    "\n",
    "def plot_issue_over_date():\n",
    "    _issue = pd.read_csv(mint)\n",
    "    _issue_old = pd.read_csv(mint_old)\n",
    "    _issue = _issue.append(_issue_old).sort_values('timestamp')\n",
    "    _issue[\"txvalue\"] = _issue[\"txvalue\"].astype(float)\n",
    "    iss = _issue.loc[:, ['timestamp', 'txvalue']]\n",
    "    iss['utc'] = iss['timestamp'].apply(lambda x: str(datetime.utcfromtimestamp(x))[0:10])\n",
    "    iss = iss.groupby('utc', as_index = False)['txvalue'].sum()\n",
    "    a = iss['utc'].iloc[0]\n",
    "    b = iss['utc'].iloc[-1]\n",
    "    idx = pd.date_range(a,b)\n",
    "    iss = iss.set_index('utc')\n",
    "    iss.index = pd.DatetimeIndex(iss.index)\n",
    "    iss = iss.reindex(idx, fill_value=0)\n",
    "    counter = 0\n",
    "    for i in range(0, len(iss)):\n",
    "        plt.plot([counter,counter], [0, iss['txvalue'].iloc[counter]/(10**dec)], color= 'black', linewidth=3)\n",
    "        counter += 1\n",
    "    return \n",
    "\n",
    "plt.tight_layout(pad=5)\n",
    "plot_issue_over_date()\n",
    "plt.savefig('../pics/trueusd/trueusd_issued_TUSD_over_date.pdf')"
   ]
  },
  {
   "cell_type": "markdown",
   "metadata": {},
   "source": [
    "## Further info"
   ]
  },
  {
   "cell_type": "code",
   "execution_count": 20,
   "metadata": {},
   "outputs": [
    {
     "name": "stdout",
     "output_type": "stream",
     "text": [
      "Issue Events: 6552\n",
      "Issued trueusd: 1,066,112,357\n",
      "\n",
      "Largest issue: 62,799 trueusd\n",
      " . . . to address: 0x55fe002aeff02f77364de339a1292923a15844b8\n",
      "\n"
     ]
    }
   ],
   "source": [
    "df = pd.read_csv(mint)\n",
    "df['txvalue'] = df['txvalue'].astype(float)\n",
    "#print(df[df['txvalue'] == max(df['txvalue'])])\n",
    "print('Issue Events: {}\\nIssued trueusd: {:,.0f}\\n'.format(len(df), sum(df['txvalue'])/10**dec, ':,0f'))\n",
    "print('Largest issue: {:,.0f} trueusd\\n . . . to address: {}\\n'.format(df.loc[484, 'txvalue']//10**dec,'0x55fe002aeff02f77364de339a1292923a15844b8'))"
   ]
  },
  {
   "cell_type": "markdown",
   "metadata": {},
   "source": [
    "<center></center>"
   ]
  },
  {
   "cell_type": "markdown",
   "metadata": {},
   "source": [
    "<center></center>"
   ]
  },
  {
   "cell_type": "markdown",
   "metadata": {},
   "source": [
    "## I.II. Burn Event"
   ]
  },
  {
   "cell_type": "markdown",
   "metadata": {},
   "source": [
    "## Plot burned tokens over date"
   ]
  },
  {
   "cell_type": "code",
   "execution_count": null,
   "metadata": {},
   "outputs": [],
   "source": [
    "print('\\n\\n')\n",
    "fig = plt.figure(figsize=(40,25))\n",
    "ax = fig.subplots()\n",
    "plt.grid()\n",
    "plt.title(r'B u r n e d \\ \\ T r u e U S D'+'\\n', size= 120)\n",
    "ax.yaxis.get_offset_text().set_fontsize(50)\n",
    "plt.xlabel('\\n'+r'D a t e', size=120)\n",
    "plt.ylabel(r'T U S D'+'\\n', size=120)\n",
    "plt.yticks(fontsize=60)\n",
    "plt.xticks(labels=[\"Apr '18\",\"\\nJul '18\",\"Oct '18\",\"\\nJan '19\",\n",
    "                   \"Apr '19\",\"\\nJul '19\",\"Oct '19\",\n",
    "                   \"\\nJan '20\",\"Apr '20\",\"\\nJul '20\"], \n",
    "           ticks=[0,83,175,267,\n",
    "                  357,448,540,\n",
    "                  632,723,814], fontsize=60)\n",
    "\n",
    "def plot_burn_over_date():\n",
    "    _dbf = pd.read_csv(burn)\n",
    "    _dbf_old = pd.read_csv(burn_old)\n",
    "    _dbf = _dbf.append(_dbf_old).sort_values('timestamp')\n",
    "    _dbf[\"txvalue\"] = _dbf[\"txvalue\"].astype(float)\n",
    "    dbf = _dbf.loc[:, ['timestamp', 'txvalue']]\n",
    "    dbf['utc'] = dbf['timestamp'].apply(lambda x: str(datetime.utcfromtimestamp(x))[0:10])\n",
    "    dbf = dbf.groupby('utc', as_index = False)['txvalue'].sum()\n",
    "    a = dbf['utc'].iloc[0]\n",
    "    b = dbf['utc'].iloc[-1]\n",
    "    idx = pd.date_range(a,b)\n",
    "    dbf = dbf.set_index('utc')\n",
    "    dbf.index = pd.DatetimeIndex(dbf.index)\n",
    "    dbf = dbf.reindex(idx, fill_value=0)\n",
    "    counter = 0\n",
    "    for i in range(0, len(dbf)):\n",
    "        plt.plot([counter,counter], [0, dbf['txvalue'].iloc[counter]/(10**dec)], color= 'black', linewidth=3)\n",
    "        counter += 1\n",
    "    \n",
    "    return\n",
    "\n",
    "plt.tight_layout(pad=5)\n",
    "plot_burn_over_date()\n",
    "plt.savefig('../pics/trueusd/trueusd_burned_TUSD_over_date.pdf')"
   ]
  },
  {
   "cell_type": "markdown",
   "metadata": {},
   "source": [
    "## Further info"
   ]
  },
  {
   "cell_type": "code",
   "execution_count": 22,
   "metadata": {},
   "outputs": [
    {
     "name": "stdout",
     "output_type": "stream",
     "text": [
      "Burn Events: 4179\n",
      "Burned TUSD: 926,210,674\n",
      ". . . from 483 addesses\n",
      "\n",
      "Largest burn: 16,393,562 TUSD\n",
      " . . . from address: 0x0000000000000000000000000000000000000027\n",
      "\n"
     ]
    }
   ],
   "source": [
    "df = pd.read_csv(burn)\n",
    "df['txvalue'] = df['txvalue'].astype(float)\n",
    "idx = df[df['txvalue'] == max(df['txvalue'])].index[0]\n",
    "\n",
    "\n",
    "print('Burn Events: {}\\nBurned TUSD: {:,.0f}'.format(len(df), sum(df['txvalue'])/10**dec, ':,0f'))\n",
    "print('. . . from {} addesses\\n'.format(len(df['address'].unique())))\n",
    "print('Largest burn: {:,.0f} TUSD\\n . . . from address: {}\\n'.format(df['txvalue'].iloc[idx]/(10**dec), \n",
    "                                                                     df.groupby(\"address\")[\"txvalue\"].sum().index[0]))"
   ]
  },
  {
   "cell_type": "markdown",
   "metadata": {},
   "source": [
    "<center></center>"
   ]
  },
  {
   "cell_type": "markdown",
   "metadata": {},
   "source": [
    "<center></center>"
   ]
  },
  {
   "cell_type": "markdown",
   "metadata": {},
   "source": [
    "## Plot circulating supply"
   ]
  },
  {
   "cell_type": "code",
   "execution_count": null,
   "metadata": {},
   "outputs": [],
   "source": [
    "print('\\n\\n')\n",
    "fig = plt.figure(figsize=(20,12), dpi=500)\n",
    "ax = fig.subplots()\n",
    "plt.grid(True)\n",
    "plt.title(r'C i r c u l a t i n g \\ \\ T r u e U S D \\ \\ S u p p l y'+'\\n', size=60)\n",
    "plt.xlabel('\\n'+r'D a t e', size= 60)\n",
    "plt.ylabel(r'T U S D'+'\\n', size= 60)\n",
    "ax.yaxis.get_offset_text().set_fontsize(25)\n",
    "\n",
    "plt.yticks(fontsize=30)\n",
    "plt.xticks(labels=[\"Apr '18\",\n",
    "                   \"\\nJul '18\",\"Oct '18\",\"\\nJan '19\",\n",
    "                   \"Apr '19\",\"\\nJul '19\",\"Oct '19\",\n",
    "                   \"\\nJan '20\",\"Apr '20\",\"\\nJul '20\"], \n",
    "           ticks=[27,\n",
    "                  118,204,302,\n",
    "                  392,483,575,\n",
    "                  667,758,849], fontsize=30)\n",
    "\n",
    "circ = pd.read_csv(circulating_supply, index_col='Unnamed: 0')\n",
    "\n",
    "plt.plot(range(0, 849), circ['txvalue'].cumsum()/10**dec, color='black', linewidth = 4, label = 'TUSD supply')\n",
    "plt.fill_between(range(0, 849),0 , circ['txvalue'].cumsum()/10**dec, alpha=0.2, facecolor='#2D728F')\n",
    "lgnd = plt.legend(loc='upper left', fontsize=40)\n",
    "plt.tight_layout(pad=5)\n",
    "plt.savefig('../pics/trueusd/trueusd_cirulating_supply.pdf')"
   ]
  },
  {
   "cell_type": "markdown",
   "metadata": {},
   "source": [
    "<center></center>"
   ]
  },
  {
   "cell_type": "markdown",
   "metadata": {},
   "source": [
    "<center></center>"
   ]
  },
  {
   "cell_type": "markdown",
   "metadata": {},
   "source": [
    "<center></center>"
   ]
  },
  {
   "cell_type": "markdown",
   "metadata": {},
   "source": [
    "## I.III. Transfer Event"
   ]
  },
  {
   "cell_type": "markdown",
   "metadata": {},
   "source": [
    "## Plot transfers over date"
   ]
  },
  {
   "cell_type": "code",
   "execution_count": null,
   "metadata": {},
   "outputs": [],
   "source": [
    "print('\\n\\n')\n",
    "fig = plt.figure(figsize=(20,12), dpi=500)\n",
    "ax = fig.subplots()\n",
    "plt.grid(True)\n",
    "plt.title(r'T r u e U S D \\ \\ T r a n s f e r s'+'\\n', size=60)\n",
    "plt.xlabel('\\n'+r'D a t e', size= 50)\n",
    "plt.ylabel(r'T r a n s f e r s'+'\\n', size= 50)\n",
    "plt.yticks(np.arange(0, 5001, 1000), \n",
    "           np.vectorize(lambda x: f'{x:,.0f}')(np.arange(0, 5001, 1000)), \n",
    "           fontsize=30)\n",
    "plt.xticks(labels=[\"Apr '18\",\n",
    "                   \"\\nJul '18\",\"Oct '18\",\"\\nJan '19\",\n",
    "                   \"Apr '19\",\"\\nJul '19\",\"Oct '19\",\n",
    "                   \"\\nJan '20\",\"Apr '20\",\"\\nJul '20\"], \n",
    "           ticks=[27,\n",
    "                  118,204,302,\n",
    "                  392,483,575,\n",
    "                  667,758,849], fontsize=30)\n",
    "\n",
    "\n",
    "def plot_txs_over_date(df, lwd, label, col = '#2D728F', fillbetween=False):\n",
    "    plt.plot(np.arange(0 , len(df['txs'])), df['txs'], color = col, linewidth = lwd, label = label)\n",
    "    if fillbetween:\n",
    "        plt.fill_between(np.arange(0 , len(df['txs'])),0 , df['txs'], alpha=0.2, facecolor='#2D728F')  \n",
    "    \n",
    "plot_txs_over_date(df = pd.read_csv(tx_over_date, index_col=0), \n",
    "                   col = 'black', lwd = 2, label = 'Transfers', fillbetween=True)\n",
    "\n",
    "plot_txs_over_date(pd.read_csv(unique_recipients_per_day_over_date, index_col='Unnamed: 0'), \n",
    "                   lwd = 2, label = 'Unique Recipients per day')\n",
    "\n",
    "plot_txs_over_date(pd.read_csv(unique_senders_per_day_over_date, index_col='Unnamed: 0'), \n",
    "                   col='#9DB469', lwd = 2, label =  'Unique Senders per day')\n",
    "\n",
    "lgnd = ax.legend(loc='upper left', fontsize=35)\n",
    "lgnd.legendHandles[0].set_linewidth(5.0)\n",
    "lgnd.legendHandles[1].set_linewidth(5.0)\n",
    "lgnd.legendHandles[2].set_linewidth(5.0)\n",
    "\n",
    "plt.tight_layout(pad=5)\n",
    "plt.savefig('../pics/trueusd/trueusd_tx_over_date.pdf')\n",
    "plt.show()"
   ]
  },
  {
   "cell_type": "markdown",
   "metadata": {},
   "source": [
    "<center></center>"
   ]
  },
  {
   "cell_type": "markdown",
   "metadata": {},
   "source": [
    "## Most active addresses"
   ]
  },
  {
   "cell_type": "markdown",
   "metadata": {},
   "source": [
    "From:"
   ]
  },
  {
   "cell_type": "code",
   "execution_count": 25,
   "metadata": {},
   "outputs": [
    {
     "data": {
      "text/html": [
       "<div>\n",
       "<style scoped>\n",
       "    .dataframe tbody tr th:only-of-type {\n",
       "        vertical-align: middle;\n",
       "    }\n",
       "\n",
       "    .dataframe tbody tr th {\n",
       "        vertical-align: top;\n",
       "    }\n",
       "\n",
       "    .dataframe thead th {\n",
       "        text-align: right;\n",
       "    }\n",
       "</style>\n",
       "<table border=\"1\" class=\"dataframe\">\n",
       "  <thead>\n",
       "    <tr style=\"text-align: right;\">\n",
       "      <th></th>\n",
       "      <th>txs</th>\n",
       "      <th>tag</th>\n",
       "    </tr>\n",
       "  </thead>\n",
       "  <tbody>\n",
       "    <tr>\n",
       "      <th>0x3f5ce5fbfe3e9af3971dd833d26ba9b5c936f0be</th>\n",
       "      <td>34870</td>\n",
       "      <td>Binance</td>\n",
       "    </tr>\n",
       "    <tr>\n",
       "      <th>0x59a5208b32e627891c389ebafc644145224006e8</th>\n",
       "      <td>22823</td>\n",
       "      <td>HitBTC 2</td>\n",
       "    </tr>\n",
       "    <tr>\n",
       "      <th>0xfbb1b73c4f0bda4f67dca266ce6ef42f520fbb98</th>\n",
       "      <td>22297</td>\n",
       "      <td>Bittrex</td>\n",
       "    </tr>\n",
       "    <tr>\n",
       "      <th>0x0681d8db095565fe8a346fa0277bffde9c0edbbf</th>\n",
       "      <td>20608</td>\n",
       "      <td>Binance 4</td>\n",
       "    </tr>\n",
       "    <tr>\n",
       "      <th>0xd551234ae421e3bcba99a0da6d736074f22192ff</th>\n",
       "      <td>20560</td>\n",
       "      <td>Binance 2</td>\n",
       "    </tr>\n",
       "    <tr>\n",
       "      <th>0x564286362092d8e7936f0549571a803b203aaced</th>\n",
       "      <td>20527</td>\n",
       "      <td>Binance 3</td>\n",
       "    </tr>\n",
       "    <tr>\n",
       "      <th>0x29d5527caa78f1946a409fa6acaf14a0a4a0274b</th>\n",
       "      <td>14836</td>\n",
       "      <td>-</td>\n",
       "    </tr>\n",
       "    <tr>\n",
       "      <th>0x0000000000000000000000000000000000000000</th>\n",
       "      <td>6552</td>\n",
       "      <td>-</td>\n",
       "    </tr>\n",
       "    <tr>\n",
       "      <th>0x6cc5f688a315f3dc28a7781717a9a798a59fda7b</th>\n",
       "      <td>6112</td>\n",
       "      <td>OKEx 1</td>\n",
       "    </tr>\n",
       "    <tr>\n",
       "      <th>0x94fe3ad91dacba8ec4b82f56ff7c122181f1535d</th>\n",
       "      <td>5950</td>\n",
       "      <td>Faa.st</td>\n",
       "    </tr>\n",
       "    <tr>\n",
       "      <th>0x9ae49c0d7f8f9ef4b864e004fe86ac8294e20950</th>\n",
       "      <td>5778</td>\n",
       "      <td>Kyber: Old Contract</td>\n",
       "    </tr>\n",
       "  </tbody>\n",
       "</table>\n",
       "</div>"
      ],
      "text/plain": [
       "                                              txs                  tag\n",
       "0x3f5ce5fbfe3e9af3971dd833d26ba9b5c936f0be  34870              Binance\n",
       "0x59a5208b32e627891c389ebafc644145224006e8  22823             HitBTC 2\n",
       "0xfbb1b73c4f0bda4f67dca266ce6ef42f520fbb98  22297              Bittrex\n",
       "0x0681d8db095565fe8a346fa0277bffde9c0edbbf  20608            Binance 4\n",
       "0xd551234ae421e3bcba99a0da6d736074f22192ff  20560            Binance 2\n",
       "0x564286362092d8e7936f0549571a803b203aaced  20527            Binance 3\n",
       "0x29d5527caa78f1946a409fa6acaf14a0a4a0274b  14836                    -\n",
       "0x0000000000000000000000000000000000000000   6552                    -\n",
       "0x6cc5f688a315f3dc28a7781717a9a798a59fda7b   6112              OKEx 1 \n",
       "0x94fe3ad91dacba8ec4b82f56ff7c122181f1535d   5950               Faa.st\n",
       "0x9ae49c0d7f8f9ef4b864e004fe86ac8294e20950   5778  Kyber: Old Contract"
      ]
     },
     "execution_count": 25,
     "metadata": {},
     "output_type": "execute_result"
    }
   ],
   "source": [
    "fr = pd.read_csv(tx_count_from, index_col='Unnamed: 0').sort_values('txs', ascending = False)\n",
    "to = pd.read_csv(tx_count_to, index_col='Unnamed: 0').sort_values('txs', ascending = False)\n",
    "fr = pd.DataFrame(fr.loc[:fr.index[10],'txs'])\n",
    "fr['tag'] = ['Binance', 'HitBTC 2', 'Bittrex', 'Binance 4', 'Binance 2', 'Binance 3', '-', '-', 'OKEx 1 ', 'Faa.st', 'Kyber: Old Contract']\n",
    "fr"
   ]
  },
  {
   "cell_type": "markdown",
   "metadata": {},
   "source": [
    "To:"
   ]
  },
  {
   "cell_type": "code",
   "execution_count": 26,
   "metadata": {},
   "outputs": [
    {
     "data": {
      "text/html": [
       "<div>\n",
       "<style scoped>\n",
       "    .dataframe tbody tr th:only-of-type {\n",
       "        vertical-align: middle;\n",
       "    }\n",
       "\n",
       "    .dataframe tbody tr th {\n",
       "        vertical-align: top;\n",
       "    }\n",
       "\n",
       "    .dataframe thead th {\n",
       "        text-align: right;\n",
       "    }\n",
       "</style>\n",
       "<table border=\"1\" class=\"dataframe\">\n",
       "  <thead>\n",
       "    <tr style=\"text-align: right;\">\n",
       "      <th></th>\n",
       "      <th>txs</th>\n",
       "      <th>tag</th>\n",
       "    </tr>\n",
       "  </thead>\n",
       "  <tbody>\n",
       "    <tr>\n",
       "      <th>0x3f5ce5fbfe3e9af3971dd833d26ba9b5c936f0be</th>\n",
       "      <td>77027</td>\n",
       "      <td>Binance</td>\n",
       "    </tr>\n",
       "    <tr>\n",
       "      <th>0xfbb1b73c4f0bda4f67dca266ce6ef42f520fbb98</th>\n",
       "      <td>12572</td>\n",
       "      <td>Bittrex</td>\n",
       "    </tr>\n",
       "    <tr>\n",
       "      <th>0x29d5527caa78f1946a409fa6acaf14a0a4a0274b</th>\n",
       "      <td>11627</td>\n",
       "      <td>-</td>\n",
       "    </tr>\n",
       "    <tr>\n",
       "      <th>0xa12431d0b9db640034b0cdfceef9cce161e62be4</th>\n",
       "      <td>10477</td>\n",
       "      <td>HitBTC 3</td>\n",
       "    </tr>\n",
       "    <tr>\n",
       "      <th>0x986ccf5234d9cfbb25246f1a5bfa51f4ccfcb308</th>\n",
       "      <td>9500</td>\n",
       "      <td>-</td>\n",
       "    </tr>\n",
       "    <tr>\n",
       "      <th>0x5b7934cdbb5cd076bd486e0f017aeb777bf0d04c</th>\n",
       "      <td>8865</td>\n",
       "      <td>-</td>\n",
       "    </tr>\n",
       "    <tr>\n",
       "      <th>0x4f30e682d0541eac91748bd38a648d759261b8f3</th>\n",
       "      <td>6478</td>\n",
       "      <td>Uniswap: Old TUSD Token</td>\n",
       "    </tr>\n",
       "    <tr>\n",
       "      <th>0x9ae49c0d7f8f9ef4b864e004fe86ac8294e20950</th>\n",
       "      <td>5779</td>\n",
       "      <td>Kyber: Old Contract</td>\n",
       "    </tr>\n",
       "    <tr>\n",
       "      <th>0x5048b9d01097498fd72f3f14bc9bc74a5aac8fa7</th>\n",
       "      <td>5624</td>\n",
       "      <td>Uniswap: TUSD</td>\n",
       "    </tr>\n",
       "    <tr>\n",
       "      <th>0x6cc5f688a315f3dc28a7781717a9a798a59fda7b</th>\n",
       "      <td>4920</td>\n",
       "      <td>OKEx 1</td>\n",
       "    </tr>\n",
       "    <tr>\n",
       "      <th>0x0a2311594059b468c9897338b027c8782398b481</th>\n",
       "      <td>4829</td>\n",
       "      <td>-</td>\n",
       "    </tr>\n",
       "  </tbody>\n",
       "</table>\n",
       "</div>"
      ],
      "text/plain": [
       "                                              txs                      tag\n",
       "0x3f5ce5fbfe3e9af3971dd833d26ba9b5c936f0be  77027                  Binance\n",
       "0xfbb1b73c4f0bda4f67dca266ce6ef42f520fbb98  12572                  Bittrex\n",
       "0x29d5527caa78f1946a409fa6acaf14a0a4a0274b  11627                        -\n",
       "0xa12431d0b9db640034b0cdfceef9cce161e62be4  10477                 HitBTC 3\n",
       "0x986ccf5234d9cfbb25246f1a5bfa51f4ccfcb308   9500                        -\n",
       "0x5b7934cdbb5cd076bd486e0f017aeb777bf0d04c   8865                        -\n",
       "0x4f30e682d0541eac91748bd38a648d759261b8f3   6478  Uniswap: Old TUSD Token\n",
       "0x9ae49c0d7f8f9ef4b864e004fe86ac8294e20950   5779      Kyber: Old Contract\n",
       "0x5048b9d01097498fd72f3f14bc9bc74a5aac8fa7   5624            Uniswap: TUSD\n",
       "0x6cc5f688a315f3dc28a7781717a9a798a59fda7b   4920                   OKEx 1\n",
       "0x0a2311594059b468c9897338b027c8782398b481   4829                        -"
      ]
     },
     "execution_count": 26,
     "metadata": {},
     "output_type": "execute_result"
    }
   ],
   "source": [
    "to = pd.DataFrame(to.loc[:to.index[10],'txs'])\n",
    "to['tag'] = ['Binance', 'Bittrex', '-', 'HitBTC 3', '-', '-', 'Uniswap: Old TUSD Token', 'Kyber: Old Contract', 'Uniswap: TUSD', 'OKEx 1', '-']\n",
    "to"
   ]
  },
  {
   "cell_type": "markdown",
   "metadata": {},
   "source": [
    "<center></center>"
   ]
  },
  {
   "cell_type": "markdown",
   "metadata": {},
   "source": [
    "<center></center>"
   ]
  },
  {
   "cell_type": "markdown",
   "metadata": {},
   "source": [
    "## Activity distribution"
   ]
  },
  {
   "cell_type": "code",
   "execution_count": 27,
   "metadata": {},
   "outputs": [
    {
     "name": "stdout",
     "output_type": "stream",
     "text": [
      "145346 addresses in total\n"
     ]
    },
    {
     "data": {
      "text/html": [
       "<div>\n",
       "<style scoped>\n",
       "    .dataframe tbody tr th:only-of-type {\n",
       "        vertical-align: middle;\n",
       "    }\n",
       "\n",
       "    .dataframe tbody tr th {\n",
       "        vertical-align: top;\n",
       "    }\n",
       "\n",
       "    .dataframe thead th {\n",
       "        text-align: right;\n",
       "    }\n",
       "</style>\n",
       "<table border=\"1\" class=\"dataframe\">\n",
       "  <thead>\n",
       "    <tr style=\"text-align: right;\">\n",
       "      <th></th>\n",
       "      <th>Transactions</th>\n",
       "      <th>Addresses</th>\n",
       "    </tr>\n",
       "  </thead>\n",
       "  <tbody>\n",
       "    <tr>\n",
       "      <th>0</th>\n",
       "      <td>&gt; 500.000</td>\n",
       "      <td>0</td>\n",
       "    </tr>\n",
       "    <tr>\n",
       "      <th>1</th>\n",
       "      <td>100.000-500.000</td>\n",
       "      <td>1</td>\n",
       "    </tr>\n",
       "    <tr>\n",
       "      <th>2</th>\n",
       "      <td>50.000-100.000</td>\n",
       "      <td>0</td>\n",
       "    </tr>\n",
       "    <tr>\n",
       "      <th>3</th>\n",
       "      <td>10.000-50.000</td>\n",
       "      <td>14</td>\n",
       "    </tr>\n",
       "    <tr>\n",
       "      <th>4</th>\n",
       "      <td>1.000-10.000</td>\n",
       "      <td>132</td>\n",
       "    </tr>\n",
       "    <tr>\n",
       "      <th>5</th>\n",
       "      <td>100-1.000</td>\n",
       "      <td>884</td>\n",
       "    </tr>\n",
       "    <tr>\n",
       "      <th>6</th>\n",
       "      <td>10-100</td>\n",
       "      <td>14164</td>\n",
       "    </tr>\n",
       "    <tr>\n",
       "      <th>7</th>\n",
       "      <td>&lt; 10</td>\n",
       "      <td>131939</td>\n",
       "    </tr>\n",
       "    <tr>\n",
       "      <th>8</th>\n",
       "      <td>1</td>\n",
       "      <td>10457</td>\n",
       "    </tr>\n",
       "  </tbody>\n",
       "</table>\n",
       "</div>"
      ],
      "text/plain": [
       "      Transactions  Addresses\n",
       "0        > 500.000          0\n",
       "1  100.000-500.000          1\n",
       "2   50.000-100.000          0\n",
       "3    10.000-50.000         14\n",
       "4     1.000-10.000        132\n",
       "5        100-1.000        884\n",
       "6           10-100      14164\n",
       "7             < 10     131939\n",
       "8                1      10457"
      ]
     },
     "execution_count": 27,
     "metadata": {},
     "output_type": "execute_result"
    }
   ],
   "source": [
    "df_from = pd.read_csv(tx_count_from, index_col=0)\n",
    "df_to = pd.read_csv(tx_count_to, index_col=0)\n",
    "df_all = pd.concat([df_from, df_to])\n",
    "df = df_all.groupby(df_all.index).sum()\n",
    "print('{} addresses in total'.format(len(df)))\n",
    "df = df.sort_values('txs')\n",
    "gr0 = len(df.loc[df['txs'] >= 500000])\n",
    "gra = len(df.loc[df['txs'] >= 100000]) - gr0 \n",
    "grb = len(df.loc[df['txs'] >= 50000]) - gr0 - gra\n",
    "grc = len(df.loc[df['txs'] >= 10000]) - gr0 - gra - grb\n",
    "grd = len(df.loc[df['txs'] >= 1000]) - gr0 - gra - grb - grc\n",
    "gre = len(df.loc[df['txs'] >= 100]) - gr0 - gra - grb - grc - grd\n",
    "grf = len(df.loc[df['txs'] >= 10]) - gr0 - gra - grb - grc - grd - gre\n",
    "grg = len(df.loc[df['txs'] <= 10])\n",
    "grh = len(df.loc[df['txs'] == 1]) \n",
    "pd.DataFrame({'Transactions': ['> 500.000','100.000-500.000',\n",
    "                               '50.000-100.000',\n",
    "                               '10.000-50.000',\n",
    "                               '1.000-10.000',\n",
    "                               '100-1.000',\n",
    "                               '10-100',\n",
    "                               '< 10', \n",
    "                               '1'], \n",
    "              'Addresses':[gr0,gra,grb,grc,grd,gre,grf,grg,grh]\n",
    "             })"
   ]
  },
  {
   "cell_type": "markdown",
   "metadata": {},
   "source": [
    "<center></center>"
   ]
  },
  {
   "cell_type": "markdown",
   "metadata": {},
   "source": [
    "<center></center>"
   ]
  },
  {
   "cell_type": "markdown",
   "metadata": {},
   "source": [
    "## Plot average transfer amount"
   ]
  },
  {
   "cell_type": "markdown",
   "metadata": {},
   "source": [
    "## Jan '20 - Jul '20"
   ]
  },
  {
   "cell_type": "code",
   "execution_count": null,
   "metadata": {},
   "outputs": [],
   "source": [
    "print('\\n\\n')\n",
    "df = pd.read_csv(avg_value_over_date, index_col=0)\n",
    "df = df.loc[df.index[667]:,:]\n",
    "plt.figure(figsize=(12, 7), dpi=800)\n",
    "plt.grid(True)\n",
    "plt.plot(np.arange(0 , len(df.index.tolist())), df['txvalue'], color = 'black', label = 'Avg. Amount/Day', linewidth = 2)\n",
    "plt.fill_between(np.arange(0 , len(df.index.tolist())),0 , df['txvalue'], alpha=0.2, facecolor='#2D728F')\n",
    "plt.xlabel('\\n'+'D a t e', fontsize=35)\n",
    "plt.ylabel('T U S D'+'\\n', fontsize=30)\n",
    "plt.title(\"T r u e U S D\\nA v g. \\ \\ T r a n s f e r \\ \\ A m o u n t\\n\", size = 30)\n",
    "plt.legend(loc=\"upper left\", fontsize=20, shadow= True)\n",
    "plt.ticklabel_format(style = 'plain')\n",
    "plt.xticks(labels=[\"\\nJan '20\",\"Feb '20\",\"\\nMar '20\",\"Apr '20\",\"\\nMay '20\",\"Jun '20\",\"\\nJul '20\"], \n",
    "           ticks=[0,31,60,90,121,152,182], fontsize=23) \n",
    "plt.yticks(np.arange(0, 70001, 10000), \n",
    "           np.vectorize(lambda x: f'{x:,.0f}')(np.arange(0, 70001, 10000)), \n",
    "           fontsize=15)\n",
    "plt.tight_layout(pad=1)\n",
    "plt.savefig('../pics/trueusd/trueusd_avgtxvalue_jan20.pdf')"
   ]
  },
  {
   "cell_type": "markdown",
   "metadata": {},
   "source": [
    "<center></center>"
   ]
  },
  {
   "cell_type": "markdown",
   "metadata": {},
   "source": [
    "## Further Info"
   ]
  },
  {
   "cell_type": "code",
   "execution_count": 29,
   "metadata": {},
   "outputs": [
    {
     "data": {
      "text/html": [
       "<div>\n",
       "<style scoped>\n",
       "    .dataframe tbody tr th:only-of-type {\n",
       "        vertical-align: middle;\n",
       "    }\n",
       "\n",
       "    .dataframe tbody tr th {\n",
       "        vertical-align: top;\n",
       "    }\n",
       "\n",
       "    .dataframe thead th {\n",
       "        text-align: right;\n",
       "    }\n",
       "</style>\n",
       "<table border=\"1\" class=\"dataframe\">\n",
       "  <thead>\n",
       "    <tr style=\"text-align: right;\">\n",
       "      <th></th>\n",
       "      <th>txvalue</th>\n",
       "    </tr>\n",
       "  </thead>\n",
       "  <tbody>\n",
       "    <tr>\n",
       "      <th>count</th>\n",
       "      <td>182.000</td>\n",
       "    </tr>\n",
       "    <tr>\n",
       "      <th>mean</th>\n",
       "      <td>13837.033</td>\n",
       "    </tr>\n",
       "    <tr>\n",
       "      <th>std</th>\n",
       "      <td>8309.189</td>\n",
       "    </tr>\n",
       "    <tr>\n",
       "      <th>min</th>\n",
       "      <td>2795.083</td>\n",
       "    </tr>\n",
       "    <tr>\n",
       "      <th>25%</th>\n",
       "      <td>8550.434</td>\n",
       "    </tr>\n",
       "    <tr>\n",
       "      <th>50%</th>\n",
       "      <td>12045.235</td>\n",
       "    </tr>\n",
       "    <tr>\n",
       "      <th>75%</th>\n",
       "      <td>16825.533</td>\n",
       "    </tr>\n",
       "    <tr>\n",
       "      <th>max</th>\n",
       "      <td>73766.905</td>\n",
       "    </tr>\n",
       "  </tbody>\n",
       "</table>\n",
       "</div>"
      ],
      "text/plain": [
       "        txvalue\n",
       "count   182.000\n",
       "mean  13837.033\n",
       "std    8309.189\n",
       "min    2795.083\n",
       "25%    8550.434\n",
       "50%   12045.235\n",
       "75%   16825.533\n",
       "max   73766.905"
      ]
     },
     "execution_count": 29,
     "metadata": {},
     "output_type": "execute_result"
    }
   ],
   "source": [
    "df.describe()"
   ]
  },
  {
   "cell_type": "markdown",
   "metadata": {},
   "source": [
    "<center></center>"
   ]
  },
  {
   "cell_type": "markdown",
   "metadata": {},
   "source": [
    "<center></center>"
   ]
  },
  {
   "cell_type": "markdown",
   "metadata": {},
   "source": [
    "## Plot average gas costs"
   ]
  },
  {
   "cell_type": "markdown",
   "metadata": {},
   "source": [
    "## Jan '20 - Jul '20"
   ]
  },
  {
   "cell_type": "code",
   "execution_count": null,
   "metadata": {},
   "outputs": [],
   "source": [
    "print('\\n\\n')\n",
    "df = pd.read_csv(avg_gas_over_date)\n",
    "df = df.loc[df.index[667]:,:]\n",
    "plt.figure(figsize=(12, 7), dpi=800)\n",
    "plt.grid(True)\n",
    "plt.plot(np.arange(0 , len(df.index.tolist())), df['gas'], color = 'black', label = 'Avg. Gas Costs/Day', linewidth = 2)\n",
    "plt.fill_between(np.arange(0 , len(df.index.tolist())),0 , df['gas'], alpha=0.2, facecolor='#2D728F')\n",
    "plt.xlabel('\\nD a t e', fontsize=35)\n",
    "plt.ylabel('E t h e r\\n', fontsize=30)\n",
    "plt.title(\"T r u e U S D\\nA v g. \\ \\ G a s \\ \\ C o s t s\\n\", size = 30)\n",
    "lgnd = plt.legend(loc='upper left', fontsize=20, shadow= True)\n",
    "plt.ticklabel_format(style = 'plain')\n",
    "plt.xticks(labels=[\"\\nJan '20\",\"Feb '20\",\"\\nMar '20\",\"Apr '20\",\"\\nMay '20\",\"Jun '20\",\"\\nJul '20\"], \n",
    "           ticks=[0,31,60,90,121,152,182], fontsize=20) \n",
    "plt.yticks(np.arange(0, 0.05, 0.01), \n",
    "           np.vectorize(lambda x: f'{x:,.3f}')(np.arange(0, 0.05, 0.01)), \n",
    "           fontsize=15)\n",
    "plt.tight_layout(pad=1)\n",
    "lgnd.legendHandles[0].set_linewidth(3.0)\n",
    "plt.savefig('../pics/trueusd/trueusd_avggascosts_jan20.pdf') "
   ]
  },
  {
   "cell_type": "code",
   "execution_count": 60,
   "metadata": {},
   "outputs": [
    {
     "data": {
      "text/html": [
       "<div>\n",
       "<style scoped>\n",
       "    .dataframe tbody tr th:only-of-type {\n",
       "        vertical-align: middle;\n",
       "    }\n",
       "\n",
       "    .dataframe tbody tr th {\n",
       "        vertical-align: top;\n",
       "    }\n",
       "\n",
       "    .dataframe thead th {\n",
       "        text-align: right;\n",
       "    }\n",
       "</style>\n",
       "<table border=\"1\" class=\"dataframe\">\n",
       "  <thead>\n",
       "    <tr style=\"text-align: right;\">\n",
       "      <th></th>\n",
       "      <th>gas</th>\n",
       "    </tr>\n",
       "  </thead>\n",
       "  <tbody>\n",
       "    <tr>\n",
       "      <th>count</th>\n",
       "      <td>182.000</td>\n",
       "    </tr>\n",
       "    <tr>\n",
       "      <th>mean</th>\n",
       "      <td>0.002</td>\n",
       "    </tr>\n",
       "    <tr>\n",
       "      <th>std</th>\n",
       "      <td>0.002</td>\n",
       "    </tr>\n",
       "    <tr>\n",
       "      <th>min</th>\n",
       "      <td>0.000</td>\n",
       "    </tr>\n",
       "    <tr>\n",
       "      <th>25%</th>\n",
       "      <td>0.001</td>\n",
       "    </tr>\n",
       "    <tr>\n",
       "      <th>50%</th>\n",
       "      <td>0.001</td>\n",
       "    </tr>\n",
       "    <tr>\n",
       "      <th>75%</th>\n",
       "      <td>0.002</td>\n",
       "    </tr>\n",
       "    <tr>\n",
       "      <th>max</th>\n",
       "      <td>0.012</td>\n",
       "    </tr>\n",
       "  </tbody>\n",
       "</table>\n",
       "</div>"
      ],
      "text/plain": [
       "          gas\n",
       "count 182.000\n",
       "mean    0.002\n",
       "std     0.002\n",
       "min     0.000\n",
       "25%     0.001\n",
       "50%     0.001\n",
       "75%     0.002\n",
       "max     0.012"
      ]
     },
     "execution_count": 60,
     "metadata": {},
     "output_type": "execute_result"
    }
   ],
   "source": [
    "df.describe()"
   ]
  },
  {
   "cell_type": "markdown",
   "metadata": {},
   "source": [
    "<center></center>"
   ]
  },
  {
   "cell_type": "markdown",
   "metadata": {},
   "source": [
    "<center></center>"
   ]
  },
  {
   "cell_type": "markdown",
   "metadata": {},
   "source": [
    "# II. Balances Analysis"
   ]
  },
  {
   "cell_type": "code",
   "execution_count": 61,
   "metadata": {},
   "outputs": [
    {
     "data": {
      "text/html": [
       "<div>\n",
       "<style scoped>\n",
       "    .dataframe tbody tr th:only-of-type {\n",
       "        vertical-align: middle;\n",
       "    }\n",
       "\n",
       "    .dataframe tbody tr th {\n",
       "        vertical-align: top;\n",
       "    }\n",
       "\n",
       "    .dataframe thead th {\n",
       "        text-align: right;\n",
       "    }\n",
       "</style>\n",
       "<table border=\"1\" class=\"dataframe\">\n",
       "  <thead>\n",
       "    <tr style=\"text-align: right;\">\n",
       "      <th></th>\n",
       "      <th>address</th>\n",
       "      <th>balance</th>\n",
       "      <th>cum</th>\n",
       "    </tr>\n",
       "  </thead>\n",
       "  <tbody>\n",
       "    <tr>\n",
       "      <th>0</th>\n",
       "      <td>0xcfece4b39088d32e01c8661175c6f1e83581d476</td>\n",
       "      <td>0.000</td>\n",
       "      <td>0.000</td>\n",
       "    </tr>\n",
       "    <tr>\n",
       "      <th>1</th>\n",
       "      <td>0x9fdbf65f3ef29607ce0140d6a32bd921dc929e71</td>\n",
       "      <td>0.000</td>\n",
       "      <td>0.000</td>\n",
       "    </tr>\n",
       "    <tr>\n",
       "      <th>2</th>\n",
       "      <td>0x486a22cf91167c72c7d6a5167b5fc2eb79b2c679</td>\n",
       "      <td>0.000</td>\n",
       "      <td>0.000</td>\n",
       "    </tr>\n",
       "    <tr>\n",
       "      <th>3</th>\n",
       "      <td>0xcf1635986fdb990569e0cfd0175fd2c503f7a0cd</td>\n",
       "      <td>0.000</td>\n",
       "      <td>0.000</td>\n",
       "    </tr>\n",
       "    <tr>\n",
       "      <th>4</th>\n",
       "      <td>0x488ec0c2d39015038c672715c1a0c3a3688259df</td>\n",
       "      <td>0.000</td>\n",
       "      <td>0.000</td>\n",
       "    </tr>\n",
       "    <tr>\n",
       "      <th>...</th>\n",
       "      <td>...</td>\n",
       "      <td>...</td>\n",
       "      <td>...</td>\n",
       "    </tr>\n",
       "    <tr>\n",
       "      <th>29542</th>\n",
       "      <td>0xb8d2b921c0ea0ca27266fa63907a079ef25084d0</td>\n",
       "      <td>2313700.000</td>\n",
       "      <td>102568960.608</td>\n",
       "    </tr>\n",
       "    <tr>\n",
       "      <th>29543</th>\n",
       "      <td>0x270cd0b43f6fe2512a32597c7a05fb01ee6ec8e1</td>\n",
       "      <td>2500584.653</td>\n",
       "      <td>105069545.261</td>\n",
       "    </tr>\n",
       "    <tr>\n",
       "      <th>29544</th>\n",
       "      <td>0xfbb1b73c4f0bda4f67dca266ce6ef42f520fbb98</td>\n",
       "      <td>6335412.229</td>\n",
       "      <td>111404957.490</td>\n",
       "    </tr>\n",
       "    <tr>\n",
       "      <th>29545</th>\n",
       "      <td>0x3f5ce5fbfe3e9af3971dd833d26ba9b5c936f0be</td>\n",
       "      <td>12496725.040</td>\n",
       "      <td>123901682.530</td>\n",
       "    </tr>\n",
       "    <tr>\n",
       "      <th>29546</th>\n",
       "      <td>0xf977814e90da44bfa03b6295a0616a897441acec</td>\n",
       "      <td>16000000.000</td>\n",
       "      <td>139901682.530</td>\n",
       "    </tr>\n",
       "  </tbody>\n",
       "</table>\n",
       "<p>29547 rows × 3 columns</p>\n",
       "</div>"
      ],
      "text/plain": [
       "                                          address      balance           cum\n",
       "0      0xcfece4b39088d32e01c8661175c6f1e83581d476        0.000         0.000\n",
       "1      0x9fdbf65f3ef29607ce0140d6a32bd921dc929e71        0.000         0.000\n",
       "2      0x486a22cf91167c72c7d6a5167b5fc2eb79b2c679        0.000         0.000\n",
       "3      0xcf1635986fdb990569e0cfd0175fd2c503f7a0cd        0.000         0.000\n",
       "4      0x488ec0c2d39015038c672715c1a0c3a3688259df        0.000         0.000\n",
       "...                                           ...          ...           ...\n",
       "29542  0xb8d2b921c0ea0ca27266fa63907a079ef25084d0  2313700.000 102568960.608\n",
       "29543  0x270cd0b43f6fe2512a32597c7a05fb01ee6ec8e1  2500584.653 105069545.261\n",
       "29544  0xfbb1b73c4f0bda4f67dca266ce6ef42f520fbb98  6335412.229 111404957.490\n",
       "29545  0x3f5ce5fbfe3e9af3971dd833d26ba9b5c936f0be 12496725.040 123901682.530\n",
       "29546  0xf977814e90da44bfa03b6295a0616a897441acec 16000000.000 139901682.530\n",
       "\n",
       "[29547 rows x 3 columns]"
      ]
     },
     "execution_count": 61,
     "metadata": {},
     "output_type": "execute_result"
    }
   ],
   "source": [
    "df = pd.read_csv(positive_cumulated_balances, index_col='Unnamed: 0')\n",
    "df"
   ]
  },
  {
   "cell_type": "markdown",
   "metadata": {},
   "source": [
    "<center></center>"
   ]
  },
  {
   "cell_type": "markdown",
   "metadata": {},
   "source": [
    "## II.I. Quick Summary"
   ]
  },
  {
   "cell_type": "code",
   "execution_count": 62,
   "metadata": {},
   "outputs": [
    {
     "data": {
      "text/plain": [
       "count       29547.000000\n",
       "mean         4734.886199\n",
       "std        132656.637339\n",
       "min             0.000000\n",
       "25%             0.050000\n",
       "50%             3.380000\n",
       "75%           100.000000\n",
       "max      16000000.000000\n",
       "Name: balance, dtype: object"
      ]
     },
     "execution_count": 62,
     "metadata": {},
     "output_type": "execute_result"
    }
   ],
   "source": [
    "(df[df['balance']>0]['balance']).describe().apply(lambda x: format(x, 'f'))"
   ]
  },
  {
   "cell_type": "code",
   "execution_count": 63,
   "metadata": {},
   "outputs": [
    {
     "name": "stdout",
     "output_type": "stream",
     "text": [
      "12038/29547 with less than 1 TUSD\n"
     ]
    }
   ],
   "source": [
    "print('{}/{} with less than 1 TUSD' .format(len(df[df['balance']<1]['balance']), len(df['balance'])))"
   ]
  },
  {
   "cell_type": "markdown",
   "metadata": {},
   "source": [
    "<center></center>"
   ]
  },
  {
   "cell_type": "markdown",
   "metadata": {},
   "source": [
    "## II.II. Balance Table"
   ]
  },
  {
   "cell_type": "code",
   "execution_count": 64,
   "metadata": {},
   "outputs": [
    {
     "data": {
      "text/html": [
       "<div>\n",
       "<style scoped>\n",
       "    .dataframe tbody tr th:only-of-type {\n",
       "        vertical-align: middle;\n",
       "    }\n",
       "\n",
       "    .dataframe tbody tr th {\n",
       "        vertical-align: top;\n",
       "    }\n",
       "\n",
       "    .dataframe thead th {\n",
       "        text-align: right;\n",
       "    }\n",
       "</style>\n",
       "<table border=\"1\" class=\"dataframe\">\n",
       "  <thead>\n",
       "    <tr style=\"text-align: right;\">\n",
       "      <th></th>\n",
       "      <th>Accounts in total</th>\n",
       "      <th>% of total supply</th>\n",
       "      <th>TUSD amount</th>\n",
       "    </tr>\n",
       "  </thead>\n",
       "  <tbody>\n",
       "    <tr>\n",
       "      <th>0.1% of the richest accounts</th>\n",
       "      <td>30</td>\n",
       "      <td>50.160</td>\n",
       "      <td>70,171,362</td>\n",
       "    </tr>\n",
       "    <tr>\n",
       "      <th>1% of the richest accounts</th>\n",
       "      <td>295</td>\n",
       "      <td>84.640</td>\n",
       "      <td>118,407,106</td>\n",
       "    </tr>\n",
       "    <tr>\n",
       "      <th>5% of the richest accounts</th>\n",
       "      <td>1,477</td>\n",
       "      <td>96.360</td>\n",
       "      <td>134,814,414</td>\n",
       "    </tr>\n",
       "    <tr>\n",
       "      <th>10% of the richest accounts</th>\n",
       "      <td>2,955</td>\n",
       "      <td>98.620</td>\n",
       "      <td>137,977,206</td>\n",
       "    </tr>\n",
       "  </tbody>\n",
       "</table>\n",
       "</div>"
      ],
      "text/plain": [
       "                             Accounts in total  % of total supply  TUSD amount\n",
       "0.1% of the richest accounts                30             50.160   70,171,362\n",
       "1% of the richest accounts                 295             84.640  118,407,106\n",
       "5% of the richest accounts               1,477             96.360  134,814,414\n",
       "10% of the richest accounts              2,955             98.620  137,977,206"
      ]
     },
     "execution_count": 64,
     "metadata": {},
     "output_type": "execute_result"
    }
   ],
   "source": [
    "df = pd.read_csv(positive_cumulated_balances, index_col=0)\n",
    "def get_distribution(perc):\n",
    "    per = round(df.index[-1]*perc)\n",
    "    entities = df.index[-1]- per\n",
    "    upper = df.loc[per:,:]\n",
    "    lower = df.loc[:per,:]\n",
    "    lower_ = lower['cum'].iloc[-1]\n",
    "    upper_ = (upper['cum'].iloc[-1] - upper['cum'].iloc[0])\n",
    "    return entities, lower_, upper_, lower_/ upper['cum'].iloc[-1], upper_/(upper['cum'].iloc[-1])\n",
    "\n",
    "idx90, lower90, upper90, per10, per90 = get_distribution(0.90)\n",
    "idx95, lower95, upper95, per05, per95 = get_distribution(0.95)\n",
    "idx99, lower99, upper99, per01, per99 = get_distribution(0.99)\n",
    "idx999, lower999, upper999, per001, per999 = get_distribution(0.999)\n",
    "\n",
    "df = pd.DataFrame([[f'{idx999:,.0f}', round(per999*100,2), f'{upper999:,.0f}'],\n",
    "             [f'{idx99:,.0f}', round(per99*100,2),f'{upper99:,.0f}'],\n",
    "             [f'{idx95:,.0f}', round(per95*100,2),f'{upper95:,.0f}'],\n",
    "             [f'{idx90:,.0f}', round(per90*100,2),f'{upper90:,.0f}']],\n",
    "                  index=['0.1% of the richest accounts', '1% of the richest accounts','5% of the richest accounts','10% of the richest accounts'],\n",
    "                   columns=['Accounts in total', '% of total supply', 'TUSD amount'])\n",
    "df"
   ]
  },
  {
   "cell_type": "markdown",
   "metadata": {},
   "source": [
    "<center></center>"
   ]
  },
  {
   "cell_type": "markdown",
   "metadata": {},
   "source": [
    "<center></center>"
   ]
  },
  {
   "cell_type": "markdown",
   "metadata": {},
   "source": [
    "## II.III. Rich list"
   ]
  },
  {
   "cell_type": "code",
   "execution_count": 65,
   "metadata": {},
   "outputs": [
    {
     "data": {
      "text/html": [
       "<div>\n",
       "<style scoped>\n",
       "    .dataframe tbody tr th:only-of-type {\n",
       "        vertical-align: middle;\n",
       "    }\n",
       "\n",
       "    .dataframe tbody tr th {\n",
       "        vertical-align: top;\n",
       "    }\n",
       "\n",
       "    .dataframe thead th {\n",
       "        text-align: right;\n",
       "    }\n",
       "</style>\n",
       "<table border=\"1\" class=\"dataframe\">\n",
       "  <thead>\n",
       "    <tr style=\"text-align: right;\">\n",
       "      <th></th>\n",
       "      <th>Unnamed: 0</th>\n",
       "      <th>address</th>\n",
       "      <th>balance</th>\n",
       "      <th>cum</th>\n",
       "      <th>nametag</th>\n",
       "    </tr>\n",
       "  </thead>\n",
       "  <tbody>\n",
       "    <tr>\n",
       "      <th>29537</th>\n",
       "      <td>29537</td>\n",
       "      <td>0x0681d8db095565fe8a346fa0277bffde9c0edbbf</td>\n",
       "      <td>1497065.248</td>\n",
       "      <td>92756586.449</td>\n",
       "      <td>Binance 4</td>\n",
       "    </tr>\n",
       "    <tr>\n",
       "      <th>29538</th>\n",
       "      <td>29538</td>\n",
       "      <td>0x0b4412d296387dc3f6d197f4791fb53b3ad8b80a</td>\n",
       "      <td>1502313.087</td>\n",
       "      <td>94258899.536</td>\n",
       "      <td>NaN</td>\n",
       "    </tr>\n",
       "    <tr>\n",
       "      <th>29539</th>\n",
       "      <td>29539</td>\n",
       "      <td>0x4f1f46d1197e9eac11012d300b6bd5c555ac1514</td>\n",
       "      <td>1576538.581</td>\n",
       "      <td>95835438.117</td>\n",
       "      <td>NaN</td>\n",
       "    </tr>\n",
       "    <tr>\n",
       "      <th>29540</th>\n",
       "      <td>29540</td>\n",
       "      <td>0xd551234ae421e3bcba99a0da6d736074f22192ff</td>\n",
       "      <td>2197301.267</td>\n",
       "      <td>98032739.384</td>\n",
       "      <td>Binance 2</td>\n",
       "    </tr>\n",
       "    <tr>\n",
       "      <th>29541</th>\n",
       "      <td>29541</td>\n",
       "      <td>0x564286362092d8e7936f0549571a803b203aaced</td>\n",
       "      <td>2222521.224</td>\n",
       "      <td>100255260.608</td>\n",
       "      <td>Binance 3</td>\n",
       "    </tr>\n",
       "    <tr>\n",
       "      <th>29542</th>\n",
       "      <td>29542</td>\n",
       "      <td>0xb8d2b921c0ea0ca27266fa63907a079ef25084d0</td>\n",
       "      <td>2313700.000</td>\n",
       "      <td>102568960.608</td>\n",
       "      <td>NaN</td>\n",
       "    </tr>\n",
       "    <tr>\n",
       "      <th>29543</th>\n",
       "      <td>29543</td>\n",
       "      <td>0x270cd0b43f6fe2512a32597c7a05fb01ee6ec8e1</td>\n",
       "      <td>2500584.653</td>\n",
       "      <td>105069545.261</td>\n",
       "      <td>NaN</td>\n",
       "    </tr>\n",
       "    <tr>\n",
       "      <th>29544</th>\n",
       "      <td>29544</td>\n",
       "      <td>0xfbb1b73c4f0bda4f67dca266ce6ef42f520fbb98</td>\n",
       "      <td>6335412.229</td>\n",
       "      <td>111404957.490</td>\n",
       "      <td>Bittrex 1</td>\n",
       "    </tr>\n",
       "    <tr>\n",
       "      <th>29545</th>\n",
       "      <td>29545</td>\n",
       "      <td>0x3f5ce5fbfe3e9af3971dd833d26ba9b5c936f0be</td>\n",
       "      <td>12496725.040</td>\n",
       "      <td>123901682.530</td>\n",
       "      <td>Binance</td>\n",
       "    </tr>\n",
       "    <tr>\n",
       "      <th>29546</th>\n",
       "      <td>29546</td>\n",
       "      <td>0xf977814e90da44bfa03b6295a0616a897441acec</td>\n",
       "      <td>16000000.000</td>\n",
       "      <td>139901682.530</td>\n",
       "      <td>Binance 8</td>\n",
       "    </tr>\n",
       "  </tbody>\n",
       "</table>\n",
       "</div>"
      ],
      "text/plain": [
       "       Unnamed: 0                                     address      balance  \\\n",
       "29537       29537  0x0681d8db095565fe8a346fa0277bffde9c0edbbf  1497065.248   \n",
       "29538       29538  0x0b4412d296387dc3f6d197f4791fb53b3ad8b80a  1502313.087   \n",
       "29539       29539  0x4f1f46d1197e9eac11012d300b6bd5c555ac1514  1576538.581   \n",
       "29540       29540  0xd551234ae421e3bcba99a0da6d736074f22192ff  2197301.267   \n",
       "29541       29541  0x564286362092d8e7936f0549571a803b203aaced  2222521.224   \n",
       "29542       29542  0xb8d2b921c0ea0ca27266fa63907a079ef25084d0  2313700.000   \n",
       "29543       29543  0x270cd0b43f6fe2512a32597c7a05fb01ee6ec8e1  2500584.653   \n",
       "29544       29544  0xfbb1b73c4f0bda4f67dca266ce6ef42f520fbb98  6335412.229   \n",
       "29545       29545  0x3f5ce5fbfe3e9af3971dd833d26ba9b5c936f0be 12496725.040   \n",
       "29546       29546  0xf977814e90da44bfa03b6295a0616a897441acec 16000000.000   \n",
       "\n",
       "                cum    nametag  \n",
       "29537  92756586.449  Binance 4  \n",
       "29538  94258899.536        NaN  \n",
       "29539  95835438.117        NaN  \n",
       "29540  98032739.384  Binance 2  \n",
       "29541 100255260.608  Binance 3  \n",
       "29542 102568960.608        NaN  \n",
       "29543 105069545.261        NaN  \n",
       "29544 111404957.490  Bittrex 1  \n",
       "29545 123901682.530    Binance  \n",
       "29546 139901682.530  Binance 8  "
      ]
     },
     "execution_count": 65,
     "metadata": {},
     "output_type": "execute_result"
    }
   ],
   "source": [
    "pd.options.mode.chained_assignment = None\n",
    "df = pd.read_csv(positive_cumulated_balances)\n",
    "balance = df\n",
    "rich = df.loc[df.index[-10]:,:]\n",
    "ex = pd.read_csv(exchanges, header=None)\n",
    "loop = rich.iterrows()\n",
    "for i, j in loop:\n",
    "    if j['address'] in ex[0].tolist():\n",
    "        rich.loc[i,'nametag'] = ex[ex[0] == j['address']][1].values[0]\n",
    "\n",
    "\n",
    "rich"
   ]
  },
  {
   "cell_type": "markdown",
   "metadata": {},
   "source": [
    "<center></center>"
   ]
  },
  {
   "cell_type": "markdown",
   "metadata": {},
   "source": [
    "<center></center>"
   ]
  },
  {
   "cell_type": "markdown",
   "metadata": {},
   "source": [
    "## Huobi"
   ]
  },
  {
   "cell_type": "code",
   "execution_count": 66,
   "metadata": {},
   "outputs": [],
   "source": [
    "ex = pd.read_csv(exchanges, header=None)"
   ]
  },
  {
   "cell_type": "code",
   "execution_count": 67,
   "metadata": {},
   "outputs": [
    {
     "name": "stdout",
     "output_type": "stream",
     "text": [
      "Huobi Total Balance: 1396055\n",
      "1.00% of Total\n"
     ]
    }
   ],
   "source": [
    "df = ex.loc[0:73,:]\n",
    "bal = 0 \n",
    "for i in df[0]:\n",
    "    val = balance['balance'][balance['address'] == i]\n",
    "    if not val.empty:\n",
    "        bal += balance['balance'][balance['address'] == i].values[0]\n",
    "    else:\n",
    "        pass\n",
    "print('Huobi Total Balance: {:.0f}\\n{:.2f}% of Total'.format(bal, bal/balance.loc[balance.index[-1], 'cum']*100))"
   ]
  },
  {
   "cell_type": "markdown",
   "metadata": {},
   "source": [
    "<center></center>"
   ]
  },
  {
   "cell_type": "markdown",
   "metadata": {},
   "source": [
    "## Binance"
   ]
  },
  {
   "cell_type": "code",
   "execution_count": 68,
   "metadata": {},
   "outputs": [
    {
     "name": "stdout",
     "output_type": "stream",
     "text": [
      "Binance Total Balance: 34413613\n",
      "24.60% of Total\n"
     ]
    }
   ],
   "source": [
    "df = ex.loc[74:88,:]\n",
    "bal = 0 \n",
    "for i in df[0]:\n",
    "    val = balance['balance'][balance['address'] == i]\n",
    "    if not val.empty:\n",
    "        bal += balance['balance'][balance['address'] == i].values[0]\n",
    "    else:\n",
    "        pass\n",
    "print('Binance Total Balance: {:.0f}\\n{:.2f}% of Total'.format(bal, bal/balance.loc[balance.index[-1], 'cum']*100))"
   ]
  },
  {
   "cell_type": "markdown",
   "metadata": {},
   "source": [
    "<center></center>"
   ]
  },
  {
   "cell_type": "markdown",
   "metadata": {},
   "source": [
    "## Bitfinex"
   ]
  },
  {
   "cell_type": "code",
   "execution_count": 69,
   "metadata": {},
   "outputs": [
    {
     "name": "stdout",
     "output_type": "stream",
     "text": [
      "Bitfinex Total Balance: 106779\n",
      "0.08% of Total\n"
     ]
    }
   ],
   "source": [
    "df = ex.loc[89:110,:]\n",
    "bal = 0 \n",
    "for i in df[0]:\n",
    "    val = balance['balance'][balance['address'] == i]\n",
    "    if not val.empty:\n",
    "        bal += balance['balance'][balance['address'] == i].values[0]\n",
    "    else:\n",
    "        pass\n",
    "print('Bitfinex Total Balance: {:.0f}\\n{:.2f}% of Total'.format(bal, bal/balance.loc[balance.index[-1], 'cum']*100))"
   ]
  },
  {
   "cell_type": "markdown",
   "metadata": {},
   "source": [
    "<center></center>"
   ]
  },
  {
   "cell_type": "markdown",
   "metadata": {},
   "source": [
    "## OKEx"
   ]
  },
  {
   "cell_type": "code",
   "execution_count": 70,
   "metadata": {},
   "outputs": [
    {
     "name": "stdout",
     "output_type": "stream",
     "text": [
      "OKEx Total Balance: 396577\n",
      "0.28% of Total\n"
     ]
    }
   ],
   "source": [
    "df = ex.loc[111:115,:]\n",
    "bal = 0 \n",
    "for i in df[0]:\n",
    "    val = balance['balance'][balance['address'] == i]\n",
    "    if not val.empty:\n",
    "        bal += balance['balance'][balance['address'] == i].values[0]\n",
    "    else:\n",
    "        pass\n",
    "print('OKEx Total Balance: {:.0f}\\n{:.2f}% of Total'.format(bal, bal/balance.loc[balance.index[-1], 'cum']*100))"
   ]
  },
  {
   "cell_type": "markdown",
   "metadata": {},
   "source": [
    "<center></center>"
   ]
  },
  {
   "cell_type": "markdown",
   "metadata": {},
   "source": [
    "## Bittrex"
   ]
  },
  {
   "cell_type": "code",
   "execution_count": 71,
   "metadata": {},
   "outputs": [
    {
     "name": "stdout",
     "output_type": "stream",
     "text": [
      "Bittrex Total Balance: 6335412\n",
      "4.53% of Total\n"
     ]
    }
   ],
   "source": [
    "df = ex.loc[116:119,:]\n",
    "bal = 0 \n",
    "for i in df[0]:\n",
    "    val = balance['balance'][balance['address'] == i]\n",
    "    if not val.empty:\n",
    "        bal += balance['balance'][balance['address'] == i].values[0]\n",
    "    else:\n",
    "        pass\n",
    "print('Bittrex Total Balance: {:.0f}\\n{:.2f}% of Total'.format(bal, bal/balance.loc[balance.index[-1], 'cum']*100))"
   ]
  },
  {
   "cell_type": "markdown",
   "metadata": {},
   "source": [
    "<center></center>"
   ]
  },
  {
   "cell_type": "markdown",
   "metadata": {},
   "source": [
    "## Compound"
   ]
  },
  {
   "cell_type": "code",
   "execution_count": 72,
   "metadata": {},
   "outputs": [
    {
     "name": "stdout",
     "output_type": "stream",
     "text": [
      "Compound Total Balance: 0\n",
      "0.00% of Total\n"
     ]
    }
   ],
   "source": [
    "df = ex.loc[151:179,:]\n",
    "bal = 0 \n",
    "for i in df[0]:\n",
    "    val = balance['balance'][balance['address'] == i]\n",
    "    if not val.empty:\n",
    "        bal += balance['balance'][balance['address'] == i].values[0]\n",
    "    else:\n",
    "        pass\n",
    "print('Compound Total Balance: {:.0f}\\n{:.2f}% of Total'.format(bal, bal/balance.loc[balance.index[-1], 'cum']*100))"
   ]
  },
  {
   "cell_type": "markdown",
   "metadata": {},
   "source": [
    "<center></center>"
   ]
  },
  {
   "cell_type": "markdown",
   "metadata": {},
   "source": [
    "## Poloniex"
   ]
  },
  {
   "cell_type": "code",
   "execution_count": 73,
   "metadata": {},
   "outputs": [
    {
     "name": "stdout",
     "output_type": "stream",
     "text": [
      "Poloniex Total Balance: 712\n",
      "0.00% of Total\n"
     ]
    }
   ],
   "source": [
    "df = ex.loc[247:266,:]\n",
    "bal = 0 \n",
    "for i in df[0]:\n",
    "    val = balance['balance'][balance['address'] == i]\n",
    "    if not val.empty:\n",
    "        bal += balance['balance'][balance['address'] == i].values[0]\n",
    "    else:\n",
    "        pass\n",
    "print('Poloniex Total Balance: {:.0f}\\n{:.2f}% of Total'.format(bal, bal/balance.loc[balance.index[-1], 'cum']*100))"
   ]
  },
  {
   "cell_type": "markdown",
   "metadata": {},
   "source": [
    "<center></center>"
   ]
  },
  {
   "cell_type": "markdown",
   "metadata": {},
   "source": [
    "<center></center>"
   ]
  },
  {
   "cell_type": "markdown",
   "metadata": {},
   "source": [
    "# II. IV. Pie Chart"
   ]
  },
  {
   "cell_type": "code",
   "execution_count": 81,
   "metadata": {},
   "outputs": [
    {
     "name": "stdout",
     "output_type": "stream",
     "text": [
      "\n"
     ]
    }
   ],
   "source": [
    "df = pd.read_csv(positive_cumulated_balances, index_col='Unnamed: 0')\n",
    "aa = df.iloc[df.index[-1]-80:]\n",
    "bb = df['balance'].iloc[:df.index[-1]-80]\n",
    "df = aa.append(pd.DataFrame({'address': 'others', 'balance': sum(bb)}, index=[0]))\n",
    "label = []\n",
    "counter = 0\n",
    "def getlabel(i):\n",
    "    global counter\n",
    "    if i:\n",
    "        if not i == 'others':\n",
    "            label.append(i + '...')\n",
    "        else:\n",
    "            label.append(i)\n",
    "    else:\n",
    "        label.append('')\n",
    "    counter += 1\n",
    "    \n",
    "[getlabel(i[:6]) if counter >= len(df)-11 else getlabel('') for i in df['address']  ]\n",
    "print()"
   ]
  },
  {
   "cell_type": "code",
   "execution_count": null,
   "metadata": {},
   "outputs": [],
   "source": [
    "print('\\n\\n')\n",
    "# Colorspace colors by: https://colorspace.r-forge.r-project.org/index.html\n",
    "\n",
    "colorspace_set3 = ['#EEBD92','#FFB3B5','#85D0F2','#BCC3FE','#E7B5F5', \n",
    "                 '#FEAFDA', '#61D8D6','#76D9B1','#A4D390','#CFC982']\n",
    "colorsp_dynamic =['#DB9D85', '#87AEDF', '#9DB469', '#6DBC86', '#3DBEAB', \n",
    "                  '#4CB9CC', '#C2A968', '#BB9FE0', '#DA95CC', '#E494AB']\n",
    "colorspa_dark_3 = ['#B675E0','#5991E4','#00AA5A','#6F9F00','#CE7D3B']\n",
    "colorspa_dyna_5 = ['#9DB469','#87AEDF','#DA95CC', '#DB9D85','#3DBEAB']\n",
    "\n",
    "fig = plt.figure(figsize=(25,15), dpi=400)\n",
    "ax = fig.add_subplot()\n",
    "aa = plt.pie(df['balance'],colors=colorsp_dynamic, \n",
    "             labels=label,\n",
    "             autopct=lambda x: r'{:.1f}\\%'.format(x) if x > 1.0 else r'{:.0f}\\%'.format(x) if x > 5  else '', \n",
    "             pctdistance= 0.8, \n",
    "             labeldistance= 1.05, \n",
    "             radius=1, \n",
    "             explode=[0.05 for i in range(0, len(df['balance']))],\n",
    "             wedgeprops = {'linewidth': 0.8, 'edgecolor':'k'}, \n",
    "             startangle=200) \n",
    "\n",
    "# Custom Modifications\n",
    "#aa[-1][-1].set_x(-0.7268917458682129)\n",
    "aa[-1][-1].set_fontsize(35)\n",
    "aa[-1][-2].set_fontsize(30)\n",
    "#aa[-1][-2].set_x(0.19977073082370535)\n",
    "#aa[-1][-2].set_y(0.8000006952023211)\n",
    "aa[-1][-3].set_fontsize(27)\n",
    "aa[-1][-4].set_fontsize(23)\n",
    "aa[-1][-5].set_fontsize(20)\n",
    "aa[-1][-6].set_fontsize(16)\n",
    "aa[-1][-7].set_fontsize(13)\n",
    "aa[-1][-8].set_fontsize(9)\n",
    "aa[-1][-9].set_fontsize(9)\n",
    "aa[-1][-10].set_fontsize(9)\n",
    "aa[-1][-11].set_fontsize(8)\n",
    "\n",
    "fontsize = -43\n",
    "for i in aa[1]:\n",
    "    i.set_fontsize(fontsize)\n",
    "    fontsize += 1\n",
    "aa[1][-1].set_fontsize(55)\n",
    "plt.tight_layout(pad=5)\n",
    "plt.title('T r u e U S D \\ \\ D i s t r i b u t i o n', fontsize = 50)\n",
    "circ = plt.Circle((0,0),0.5,color='black', fc='white',linewidth=1.25)\n",
    "ax.add_artist(circ)\n",
    "plt.savefig('../pics/trueusd/trueusd_distribution_pie.pdf')"
   ]
  },
  {
   "cell_type": "markdown",
   "metadata": {},
   "source": [
    "## II.V. Lorenz curve"
   ]
  },
  {
   "cell_type": "code",
   "execution_count": 76,
   "metadata": {},
   "outputs": [
    {
     "data": {
      "text/html": [
       "<div>\n",
       "<style scoped>\n",
       "    .dataframe tbody tr th:only-of-type {\n",
       "        vertical-align: middle;\n",
       "    }\n",
       "\n",
       "    .dataframe tbody tr th {\n",
       "        vertical-align: top;\n",
       "    }\n",
       "\n",
       "    .dataframe thead th {\n",
       "        text-align: right;\n",
       "    }\n",
       "</style>\n",
       "<table border=\"1\" class=\"dataframe\">\n",
       "  <thead>\n",
       "    <tr style=\"text-align: right;\">\n",
       "      <th></th>\n",
       "      <th>address</th>\n",
       "      <th>balance</th>\n",
       "      <th>cum</th>\n",
       "    </tr>\n",
       "  </thead>\n",
       "  <tbody>\n",
       "    <tr>\n",
       "      <th>0</th>\n",
       "      <td>0xcfece4b39088d32e01c8661175c6f1e83581d476</td>\n",
       "      <td>0.000</td>\n",
       "      <td>0.000</td>\n",
       "    </tr>\n",
       "    <tr>\n",
       "      <th>1</th>\n",
       "      <td>0x9fdbf65f3ef29607ce0140d6a32bd921dc929e71</td>\n",
       "      <td>0.000</td>\n",
       "      <td>0.000</td>\n",
       "    </tr>\n",
       "    <tr>\n",
       "      <th>2</th>\n",
       "      <td>0x486a22cf91167c72c7d6a5167b5fc2eb79b2c679</td>\n",
       "      <td>0.000</td>\n",
       "      <td>0.000</td>\n",
       "    </tr>\n",
       "    <tr>\n",
       "      <th>3</th>\n",
       "      <td>0xcf1635986fdb990569e0cfd0175fd2c503f7a0cd</td>\n",
       "      <td>0.000</td>\n",
       "      <td>0.000</td>\n",
       "    </tr>\n",
       "    <tr>\n",
       "      <th>4</th>\n",
       "      <td>0x488ec0c2d39015038c672715c1a0c3a3688259df</td>\n",
       "      <td>0.000</td>\n",
       "      <td>0.000</td>\n",
       "    </tr>\n",
       "    <tr>\n",
       "      <th>...</th>\n",
       "      <td>...</td>\n",
       "      <td>...</td>\n",
       "      <td>...</td>\n",
       "    </tr>\n",
       "    <tr>\n",
       "      <th>29542</th>\n",
       "      <td>0xb8d2b921c0ea0ca27266fa63907a079ef25084d0</td>\n",
       "      <td>2313700.000</td>\n",
       "      <td>102568960.608</td>\n",
       "    </tr>\n",
       "    <tr>\n",
       "      <th>29543</th>\n",
       "      <td>0x270cd0b43f6fe2512a32597c7a05fb01ee6ec8e1</td>\n",
       "      <td>2500584.653</td>\n",
       "      <td>105069545.261</td>\n",
       "    </tr>\n",
       "    <tr>\n",
       "      <th>29544</th>\n",
       "      <td>0xfbb1b73c4f0bda4f67dca266ce6ef42f520fbb98</td>\n",
       "      <td>6335412.229</td>\n",
       "      <td>111404957.490</td>\n",
       "    </tr>\n",
       "    <tr>\n",
       "      <th>29545</th>\n",
       "      <td>0x3f5ce5fbfe3e9af3971dd833d26ba9b5c936f0be</td>\n",
       "      <td>12496725.040</td>\n",
       "      <td>123901682.530</td>\n",
       "    </tr>\n",
       "    <tr>\n",
       "      <th>29546</th>\n",
       "      <td>0xf977814e90da44bfa03b6295a0616a897441acec</td>\n",
       "      <td>16000000.000</td>\n",
       "      <td>139901682.530</td>\n",
       "    </tr>\n",
       "  </tbody>\n",
       "</table>\n",
       "<p>29547 rows × 3 columns</p>\n",
       "</div>"
      ],
      "text/plain": [
       "                                          address      balance           cum\n",
       "0      0xcfece4b39088d32e01c8661175c6f1e83581d476        0.000         0.000\n",
       "1      0x9fdbf65f3ef29607ce0140d6a32bd921dc929e71        0.000         0.000\n",
       "2      0x486a22cf91167c72c7d6a5167b5fc2eb79b2c679        0.000         0.000\n",
       "3      0xcf1635986fdb990569e0cfd0175fd2c503f7a0cd        0.000         0.000\n",
       "4      0x488ec0c2d39015038c672715c1a0c3a3688259df        0.000         0.000\n",
       "...                                           ...          ...           ...\n",
       "29542  0xb8d2b921c0ea0ca27266fa63907a079ef25084d0  2313700.000 102568960.608\n",
       "29543  0x270cd0b43f6fe2512a32597c7a05fb01ee6ec8e1  2500584.653 105069545.261\n",
       "29544  0xfbb1b73c4f0bda4f67dca266ce6ef42f520fbb98  6335412.229 111404957.490\n",
       "29545  0x3f5ce5fbfe3e9af3971dd833d26ba9b5c936f0be 12496725.040 123901682.530\n",
       "29546  0xf977814e90da44bfa03b6295a0616a897441acec 16000000.000 139901682.530\n",
       "\n",
       "[29547 rows x 3 columns]"
      ]
     },
     "execution_count": 76,
     "metadata": {},
     "output_type": "execute_result"
    }
   ],
   "source": [
    "df = pd.read_csv(positive_cumulated_balances, index_col = 'Unnamed: 0')\n",
    "df"
   ]
  },
  {
   "cell_type": "code",
   "execution_count": 77,
   "metadata": {},
   "outputs": [],
   "source": [
    "y_all = df['cum']/df['cum'].iloc[-1]\n",
    "x_all = (np.arange(start = 0 , stop = len(df['cum']), step = 1)/(len(df['cum'])))\n",
    "\n",
    "y_25_75 = df['cum'].iloc[int(df.index[-1]*0.25):int(df.index[-1]*0.75)]\n",
    "y_25_75 = y_25_75/max(y_25_75)\n",
    "x_25_75 = np.arange(start = 0 , stop = len(y_25_75), step = 1)/(len(y_25_75))"
   ]
  },
  {
   "cell_type": "code",
   "execution_count": 78,
   "metadata": {},
   "outputs": [
    {
     "name": "stdout",
     "output_type": "stream",
     "text": [
      "Q3-Q1 (in TUSD):\n"
     ]
    },
    {
     "data": {
      "text/plain": [
       "count    14773.000000\n",
       "mean        14.383266\n",
       "std         22.958412\n",
       "min          0.050000\n",
       "25%          0.777993\n",
       "50%          3.378649\n",
       "75%         17.411860\n",
       "max        100.000000\n",
       "Name: balance, dtype: object"
      ]
     },
     "execution_count": 78,
     "metadata": {},
     "output_type": "execute_result"
    }
   ],
   "source": [
    "print('Q3-Q1 (in TUSD):')\n",
    "df['balance'].iloc[int(df.index[-1]*0.25):int(df.index[-1]*0.75)].describe().apply(lambda x: format(x/(10**0), 'f'))"
   ]
  },
  {
   "cell_type": "code",
   "execution_count": null,
   "metadata": {},
   "outputs": [],
   "source": [
    "print('\\n\\n')\n",
    "fig = plt.figure(figsize=(15,15))\n",
    "ax = fig.add_subplot()\n",
    "plt.grid()\n",
    "plt.title(r'L o r e n z \\ \\ C u r v e'+'\\n', fontsize=50)\n",
    "plt.xlabel('\\n'+r'\\% \\ \\ of \\ \\ A d d r e s s e s', fontsize=30)\n",
    "plt.ylabel(r'\\% \\ o f \\ \\ t o t a l \\ \\ T U S D \\ \\ s u p p l y'+'\\n',  fontsize=30)\n",
    "plt.xticks(fontsize=20)\n",
    "plt.yticks(fontsize=20)\n",
    "ax.plot(x_all,y_all, linewidth = 5, color = '#2D728F', label = r'$\\ All$')\n",
    "ax.plot(x_25_75,y_25_75, linewidth = 5, color = '#87AEDF', label = r'$\\ Q_3 - Q_1$')\n",
    "plt.legend(fontsize= 35)\n",
    "plt.plot([0, 1], [0, 1], transform=ax.transAxes, linewidth = 4, ls = (0, (5, 10)), color = 'black')\n",
    "ax.set_xlim([0,1.05])\n",
    "plt.savefig('../pics/trueusd/trueusd_lorenzcurve.pdf')"
   ]
  }
 ],
 "metadata": {
  "kernelspec": {
   "display_name": "master_thesis",
   "language": "python",
   "name": "master_thesis"
  },
  "language_info": {
   "codemirror_mode": {
    "name": "ipython",
    "version": 3
   },
   "file_extension": ".py",
   "mimetype": "text/x-python",
   "name": "python",
   "nbconvert_exporter": "python",
   "pygments_lexer": "ipython3",
   "version": "3.6.9"
  }
 },
 "nbformat": 4,
 "nbformat_minor": 4
}
