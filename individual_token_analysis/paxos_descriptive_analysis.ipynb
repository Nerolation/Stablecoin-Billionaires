{
 "cells": [
  {
   "cell_type": "markdown",
   "metadata": {},
   "source": [
    "<h1><center>Stablecoin Billionaires<br> Descriptive Analysis of the Ethereum-based <br>\n",
    "    Stablecoin ecosystem</center></h1>  "
   ]
  },
  {
   "cell_type": "markdown",
   "metadata": {},
   "source": [
    "<h2><center> by Anton Wahrstätter<br>01.07.2020</h2></center>"
   ]
  },
  {
   "cell_type": "markdown",
   "metadata": {},
   "source": [
    "<h2><center>Part III - Paxos Standard</h2></center>"
   ]
  },
  {
   "cell_type": "code",
   "execution_count": 1,
   "metadata": {},
   "outputs": [],
   "source": [
    "import numpy as np\n",
    "import pandas as pd\n",
    "import matplotlib.pyplot as plt\n",
    "from datetime import datetime\n",
    "from collections import Counter\n",
    "from matplotlib import rc\n",
    "import re\n",
    "import random\n",
    "\n",
    "rc('font', **{'family':'serif','serif': ['Computer Modern']})\n",
    "rc('text', usetex=True)\n",
    "\n",
    "#decimals\n",
    "dec = 18"
   ]
  },
  {
   "cell_type": "code",
   "execution_count": 2,
   "metadata": {},
   "outputs": [],
   "source": [
    "#plots\n",
    "tx_over_date = '../plots/paxos/paxos_txs_over_date.csv'\n",
    "unique_senders_over_date = '../plots/paxos/paxos_unique_senders_over_date.csv'\n",
    "unique_recipients_over_date = '../plots/paxos/paxos_unique_recipients_over_date.csv'\n",
    "tx_count_to = '../plots/paxos/paxos_tx_count_to.csv'\n",
    "tx_count_from = '../plots/paxos/paxos_tx_count_from.csv'\n",
    "tx_over_date = '../plots/paxos/paxos_txs_over_date.csv'\n",
    "balances = '../plots/paxos/paxos_balances.csv'\n",
    "avg_gas_over_date = '../plots/paxos/paxos_avg_gas_over_date.csv'\n",
    "avg_value_over_date = '../plots/paxos/paxos_avg_value_over_date.csv'\n",
    "positive_cumulated_balances = '../plots/paxos/paxos_positive_cumulated_balances.csv'\n",
    "circulating_supply = '../plots/paxos/paxos_circulating_supply.csv'\n",
    "unique_recipients_per_day_over_date = '../plots/paxos/paxos_unique_recipients_per_day_over_date.csv'\n",
    "unique_senders_per_day_over_date = '../plots/paxos/paxos_unique_senders_per_day_over_date.csv'\n",
    "exchanges = '../plots/exchanges.csv'\n",
    "\n",
    "#data \n",
    "transfer = '../data/paxos/transfer/0_paxos_transfer_6294931-10370273.csv'\n",
    "mint = '../data/paxos/supplyincreased/paxos_supplyincreased.csv'\n",
    "burn = '../data/paxos/supplydecreased/paxos_supplydecreased.csv'"
   ]
  },
  {
   "cell_type": "markdown",
   "metadata": {},
   "source": [
    "<center></center>"
   ]
  },
  {
   "cell_type": "markdown",
   "metadata": {},
   "source": [
    "# Data"
   ]
  },
  {
   "cell_type": "code",
   "execution_count": 3,
   "metadata": {},
   "outputs": [],
   "source": [
    "df = pd.read_csv(transfer)\n",
    "pd.set_option('display.float_format', lambda x: '%.3f' % x)"
   ]
  },
  {
   "cell_type": "markdown",
   "metadata": {},
   "source": [
    "## Basics"
   ]
  },
  {
   "cell_type": "code",
   "execution_count": 4,
   "metadata": {},
   "outputs": [],
   "source": [
    "df['txvalue'] = df['txvalue'].astype(float)/10**18"
   ]
  },
  {
   "cell_type": "code",
   "execution_count": 5,
   "metadata": {},
   "outputs": [
    {
     "data": {
      "text/html": [
       "<div>\n",
       "<style scoped>\n",
       "    .dataframe tbody tr th:only-of-type {\n",
       "        vertical-align: middle;\n",
       "    }\n",
       "\n",
       "    .dataframe tbody tr th {\n",
       "        vertical-align: top;\n",
       "    }\n",
       "\n",
       "    .dataframe thead th {\n",
       "        text-align: right;\n",
       "    }\n",
       "</style>\n",
       "<table border=\"1\" class=\"dataframe\">\n",
       "  <thead>\n",
       "    <tr style=\"text-align: right;\">\n",
       "      <th></th>\n",
       "      <th>timestamp</th>\n",
       "      <th>blocknumber</th>\n",
       "      <th>txindex</th>\n",
       "      <th>txvalue</th>\n",
       "      <th>gas_price</th>\n",
       "      <th>gas_used</th>\n",
       "    </tr>\n",
       "  </thead>\n",
       "  <tbody>\n",
       "    <tr>\n",
       "      <th>count</th>\n",
       "      <td>2580722.000</td>\n",
       "      <td>2580722.000</td>\n",
       "      <td>2580722.000</td>\n",
       "      <td>2580722.000</td>\n",
       "      <td>2580722.000</td>\n",
       "      <td>2580722.000</td>\n",
       "    </tr>\n",
       "    <tr>\n",
       "      <th>mean</th>\n",
       "      <td>1584005181.464</td>\n",
       "      <td>9665616.218</td>\n",
       "      <td>78.687</td>\n",
       "      <td>8879.987</td>\n",
       "      <td>15768757613.356</td>\n",
       "      <td>152639.472</td>\n",
       "    </tr>\n",
       "    <tr>\n",
       "      <th>std</th>\n",
       "      <td>9869912.885</td>\n",
       "      <td>714086.655</td>\n",
       "      <td>49.558</td>\n",
       "      <td>162386.313</td>\n",
       "      <td>14983724913.008</td>\n",
       "      <td>128012.264</td>\n",
       "    </tr>\n",
       "    <tr>\n",
       "      <th>min</th>\n",
       "      <td>1536584636.000</td>\n",
       "      <td>6306166.000</td>\n",
       "      <td>0.000</td>\n",
       "      <td>0.000</td>\n",
       "      <td>0.000</td>\n",
       "      <td>24375.000</td>\n",
       "    </tr>\n",
       "    <tr>\n",
       "      <th>25%</th>\n",
       "      <td>1582370892.000</td>\n",
       "      <td>9532888.500</td>\n",
       "      <td>40.000</td>\n",
       "      <td>20.000</td>\n",
       "      <td>5000000000.000</td>\n",
       "      <td>54823.000</td>\n",
       "    </tr>\n",
       "    <tr>\n",
       "      <th>50%</th>\n",
       "      <td>1587413738.000</td>\n",
       "      <td>9911407.000</td>\n",
       "      <td>71.000</td>\n",
       "      <td>100.000</td>\n",
       "      <td>11300000000.000</td>\n",
       "      <td>104887.000</td>\n",
       "    </tr>\n",
       "    <tr>\n",
       "      <th>75%</th>\n",
       "      <td>1590178871.000</td>\n",
       "      <td>10117748.000</td>\n",
       "      <td>110.000</td>\n",
       "      <td>500.000</td>\n",
       "      <td>23000000000.000</td>\n",
       "      <td>197075.000</td>\n",
       "    </tr>\n",
       "    <tr>\n",
       "      <th>max</th>\n",
       "      <td>1593561562.000</td>\n",
       "      <td>10370272.000</td>\n",
       "      <td>491.000</td>\n",
       "      <td>57852545.303</td>\n",
       "      <td>1500000000000.000</td>\n",
       "      <td>5182695.000</td>\n",
       "    </tr>\n",
       "  </tbody>\n",
       "</table>\n",
       "</div>"
      ],
      "text/plain": [
       "           timestamp  blocknumber     txindex      txvalue         gas_price  \\\n",
       "count    2580722.000  2580722.000 2580722.000  2580722.000       2580722.000   \n",
       "mean  1584005181.464  9665616.218      78.687     8879.987   15768757613.356   \n",
       "std      9869912.885   714086.655      49.558   162386.313   14983724913.008   \n",
       "min   1536584636.000  6306166.000       0.000        0.000             0.000   \n",
       "25%   1582370892.000  9532888.500      40.000       20.000    5000000000.000   \n",
       "50%   1587413738.000  9911407.000      71.000      100.000   11300000000.000   \n",
       "75%   1590178871.000 10117748.000     110.000      500.000   23000000000.000   \n",
       "max   1593561562.000 10370272.000     491.000 57852545.303 1500000000000.000   \n",
       "\n",
       "         gas_used  \n",
       "count 2580722.000  \n",
       "mean   152639.472  \n",
       "std    128012.264  \n",
       "min     24375.000  \n",
       "25%     54823.000  \n",
       "50%    104887.000  \n",
       "75%    197075.000  \n",
       "max   5182695.000  "
      ]
     },
     "execution_count": 5,
     "metadata": {},
     "output_type": "execute_result"
    }
   ],
   "source": [
    "df.describe()"
   ]
  },
  {
   "cell_type": "markdown",
   "metadata": {},
   "source": [
    "<center></center>"
   ]
  },
  {
   "cell_type": "markdown",
   "metadata": {},
   "source": [
    "## Dataset"
   ]
  },
  {
   "cell_type": "code",
   "execution_count": 6,
   "metadata": {},
   "outputs": [
    {
     "name": "stdout",
     "output_type": "stream",
     "text": [
      "Start:\n",
      "Block:            6306166            \n",
      "Timestamp:      1536584636     \n",
      "UTC Time:    2018-09-10 15:03:56   \n",
      "\n",
      "End:\n",
      "Block:            10370272           \n",
      "Timestamp:      1593561562     \n",
      "UTC Time:    2020-07-01 01:59:22   \n",
      "\n"
     ]
    }
   ],
   "source": [
    "print('Start:')\n",
    "print('Block: {:^30}\\nTimestamp: {:^20}\\nUTC Time: {:^25}\\n'.format(df['blocknumber'].iloc[0],\n",
    "                                                        df['timestamp'].iloc[0],\n",
    "                                                        str(datetime.fromtimestamp(df['timestamp'].iloc[0]))\n",
    "                                                       ))\n",
    "print('End:')\n",
    "print('Block: {:^30}\\nTimestamp: {:^20}\\nUTC Time: {:^25}\\n'.format(df['blocknumber'].iloc[-1],\n",
    "                                                        df['timestamp'].iloc[-1],\n",
    "                                                        str(datetime.fromtimestamp(df['timestamp'].iloc[-1]))\n",
    "                                                       ))"
   ]
  },
  {
   "cell_type": "markdown",
   "metadata": {},
   "source": [
    "## Total Nr. of Blocks"
   ]
  },
  {
   "cell_type": "code",
   "execution_count": 7,
   "metadata": {
    "scrolled": true
   },
   "outputs": [
    {
     "name": "stdout",
     "output_type": "stream",
     "text": [
      "Total Nr. of Blocks: 4064106\n"
     ]
    }
   ],
   "source": [
    "print('Total Nr. of Blocks: {}'.format(df['blocknumber'].iloc[-1]-df['blocknumber'].iloc[0]))"
   ]
  },
  {
   "cell_type": "markdown",
   "metadata": {},
   "source": [
    "<center></center>"
   ]
  },
  {
   "cell_type": "markdown",
   "metadata": {},
   "source": [
    "## Total Nr. of Transfer Events"
   ]
  },
  {
   "cell_type": "code",
   "execution_count": 8,
   "metadata": {},
   "outputs": [
    {
     "name": "stdout",
     "output_type": "stream",
     "text": [
      "Total Nr. of Events: 2,580,722\n"
     ]
    }
   ],
   "source": [
    "print('Total Nr. of Events: {:,.0f}'.format(df.describe().loc['count','timestamp']))"
   ]
  },
  {
   "cell_type": "markdown",
   "metadata": {},
   "source": [
    "<center></center>"
   ]
  },
  {
   "cell_type": "markdown",
   "metadata": {},
   "source": [
    "## Total Nr. of Addresses"
   ]
  },
  {
   "cell_type": "code",
   "execution_count": 9,
   "metadata": {},
   "outputs": [
    {
     "name": "stdout",
     "output_type": "stream",
     "text": [
      "Total Nr. of Addresses: 1029956\n"
     ]
    }
   ],
   "source": [
    "print('Total Nr. of Addresses: {}'.format(len(df['txto'].unique())))"
   ]
  },
  {
   "cell_type": "markdown",
   "metadata": {},
   "source": [
    "<center></center>"
   ]
  },
  {
   "cell_type": "markdown",
   "metadata": {},
   "source": [
    "## Addresses with funds"
   ]
  },
  {
   "cell_type": "code",
   "execution_count": 10,
   "metadata": {},
   "outputs": [
    {
     "name": "stdout",
     "output_type": "stream",
     "text": [
      "Total Nr. of Addresses with funds: 86004\n"
     ]
    }
   ],
   "source": [
    "bal = pd.read_csv(balances)\n",
    "print('Total Nr. of Addresses with funds: {}'.format(len(bal[bal['txvalue']>0])))"
   ]
  },
  {
   "cell_type": "markdown",
   "metadata": {},
   "source": [
    "<center></center>"
   ]
  },
  {
   "cell_type": "markdown",
   "metadata": {},
   "source": [
    "## Avg. Transaction Value"
   ]
  },
  {
   "cell_type": "code",
   "execution_count": 11,
   "metadata": {},
   "outputs": [
    {
     "name": "stdout",
     "output_type": "stream",
     "text": [
      "Avg. Transaction Value: 8,880 Pax\n"
     ]
    }
   ],
   "source": [
    "print('Avg. Transaction Value: {:,.0f} Pax'.format(np.mean(df['txvalue']/10**dec)))"
   ]
  },
  {
   "cell_type": "markdown",
   "metadata": {},
   "source": [
    "<center></center>"
   ]
  },
  {
   "cell_type": "markdown",
   "metadata": {},
   "source": [
    "## Total Gas Costs"
   ]
  },
  {
   "cell_type": "code",
   "execution_count": 12,
   "metadata": {},
   "outputs": [
    {
     "name": "stdout",
     "output_type": "stream",
     "text": [
      "Total Gas spent for Transfers: 5,558.547 ether\n"
     ]
    }
   ],
   "source": [
    "df['costs'] = (df['gas_price']/10**dec) * df['gas_used']\n",
    "print('Total Gas spent for Transfers: {:,.3f} ether'.format(sum(df['costs'])))"
   ]
  },
  {
   "cell_type": "markdown",
   "metadata": {},
   "source": [
    "<center></center>"
   ]
  },
  {
   "cell_type": "markdown",
   "metadata": {},
   "source": [
    "## Total Paxos Supply"
   ]
  },
  {
   "cell_type": "code",
   "execution_count": 13,
   "metadata": {},
   "outputs": [
    {
     "data": {
      "text/plain": [
       "241123246.6999984"
      ]
     },
     "execution_count": 13,
     "metadata": {},
     "output_type": "execute_result"
    }
   ],
   "source": [
    "(sum(pd.read_csv(mint)['txvalue'].astype(float))-sum(pd.read_csv(burn)['txvalue'].astype(float)))/(10**dec)"
   ]
  },
  {
   "cell_type": "markdown",
   "metadata": {},
   "source": [
    "<center></center>"
   ]
  },
  {
   "cell_type": "code",
   "execution_count": 14,
   "metadata": {},
   "outputs": [
    {
     "data": {
      "text/plain": [
       "241123246.69999838"
      ]
     },
     "execution_count": 14,
     "metadata": {},
     "output_type": "execute_result"
    }
   ],
   "source": [
    "#other method\n",
    "sum(df[df['txfrom'] == '0x0000000000000000000000000000000000000000'][\"txvalue\"].astype(float))/(10**dec)- sum(df[df['txto'] == '0x0000000000000000000000000000000000000000'][\"txvalue\"].astype(float))/(10**dec)"
   ]
  },
  {
   "cell_type": "markdown",
   "metadata": {},
   "source": [
    "<center></center>"
   ]
  },
  {
   "cell_type": "markdown",
   "metadata": {},
   "source": [
    "<center></center>"
   ]
  },
  {
   "cell_type": "markdown",
   "metadata": {},
   "source": [
    "<center></center>"
   ]
  },
  {
   "cell_type": "markdown",
   "metadata": {},
   "source": [
    "# I. Event analysis"
   ]
  },
  {
   "cell_type": "markdown",
   "metadata": {},
   "source": [
    "## I.I. Mint Event"
   ]
  },
  {
   "cell_type": "markdown",
   "metadata": {},
   "source": [
    "## Plot new issued tokens over date"
   ]
  },
  {
   "cell_type": "code",
   "execution_count": null,
   "metadata": {},
   "outputs": [],
   "source": [
    "print('\\n\\n')\n",
    "fig = plt.figure(figsize=(40,25), dpi=250)\n",
    "ax = fig.subplots()\n",
    "plt.grid()\n",
    "plt.title(r'I s s u e d \\ \\ P A X'+'\\n', size= 120)\n",
    "ax.yaxis.get_offset_text().set_fontsize(50)\n",
    "plt.xlabel('\\n'+r'D a t e ', size=120)\n",
    "plt.ylabel(r'P A X'+'\\n', size=120)\n",
    "plt.yticks(fontsize=60)\n",
    "plt.xticks(labels=[\"Okt '18\",\"\\nJan '19\",\n",
    "                   \"Apr '19\",\"\\nJul '19\",\"Oct '19\",\n",
    "                   \"\\nJan '20\",\"Apr '20\",\"\\nJul '20\"], \n",
    "           ticks=[21,113,\n",
    "                  203,294,386,\n",
    "                  478,569,660], fontsize=60)\n",
    "\n",
    "def plot_issue_over_date():\n",
    "    _issue = pd.read_csv(mint)\n",
    "    _issue[\"txvalue\"] = _issue[\"txvalue\"].astype(float)\n",
    "    iss = _issue.loc[:, ['timestamp', 'txvalue']]\n",
    "    iss['utc'] = iss['timestamp'].apply(lambda x: str(datetime.utcfromtimestamp(x))[0:10])\n",
    "    iss = iss.groupby('utc', as_index = False)['txvalue'].sum()\n",
    "    a = iss['utc'].iloc[0]\n",
    "    b = iss['utc'].iloc[-1]\n",
    "    idx = pd.date_range(a,b)\n",
    "    iss = iss.set_index('utc')\n",
    "    iss.index = pd.DatetimeIndex(iss.index)\n",
    "    iss = iss.reindex(idx, fill_value=0)\n",
    "    counter = 0\n",
    "    for i in range(0, len(iss)):\n",
    "        plt.plot([counter,counter], [0, iss['txvalue'].iloc[counter]/(10**dec)], color= 'black', linewidth=3)\n",
    "        counter += 1\n",
    "    return \n",
    "\n",
    "plt.tight_layout(pad=5)\n",
    "plot_issue_over_date()\n",
    "plt.savefig('../pics/paxos/paxos_issued_pax_over_date.pdf')"
   ]
  },
  {
   "cell_type": "markdown",
   "metadata": {},
   "source": [
    "## Further info"
   ]
  },
  {
   "cell_type": "code",
   "execution_count": 16,
   "metadata": {},
   "outputs": [
    {
     "name": "stdout",
     "output_type": "stream",
     "text": [
      "Issue Events: 940\n",
      "Issued Paxos: 1,733,264,062\n",
      "\n",
      "Largest issue: 21,912,463 Paxos\n",
      " . . . to address: 0x55fe002aeff02f77364de339a1292923a15844b8\n",
      "\n"
     ]
    }
   ],
   "source": [
    "df = pd.read_csv(mint)\n",
    "df['txvalue'] = df['txvalue'].astype(float)\n",
    "#print(df[df['txvalue'] == max(df['txvalue'])])\n",
    "print('Issue Events: {}\\nIssued Paxos: {:,.0f}\\n'.format(len(df), sum(df['txvalue'])/10**dec, ':,0f'))\n",
    "print('Largest issue: {:,.0f} Paxos\\n . . . to address: {}\\n'.format(df.loc[716, 'txvalue']//10**dec,'0x55fe002aeff02f77364de339a1292923a15844b8'))"
   ]
  },
  {
   "cell_type": "markdown",
   "metadata": {},
   "source": [
    "<center></center>"
   ]
  },
  {
   "cell_type": "markdown",
   "metadata": {},
   "source": [
    "<center></center>"
   ]
  },
  {
   "cell_type": "markdown",
   "metadata": {},
   "source": [
    "## I.II. Burn Event"
   ]
  },
  {
   "cell_type": "markdown",
   "metadata": {},
   "source": [
    "## Plot burned tokens over date"
   ]
  },
  {
   "cell_type": "code",
   "execution_count": null,
   "metadata": {},
   "outputs": [],
   "source": [
    "print('\\n\\n')\n",
    "fig = plt.figure(figsize=(40,25))\n",
    "ax = fig.subplots()\n",
    "plt.grid()\n",
    "plt.title(r'B u r n e d \\ \\ P A X'+'\\n', size= 120)\n",
    "ax.yaxis.get_offset_text().set_fontsize(50)\n",
    "plt.xlabel('\\n'+r'D a t e', size=120)\n",
    "plt.ylabel(r'P A X'+'\\n', size=120)\n",
    "plt.yticks(fontsize=60)\n",
    "plt.xticks(labels=[\"Okt '18\",\"\\nJan '19\",\n",
    "                   \"Apr '19\",\"\\nJul '19\",\"Oct '19\",\n",
    "                   \"\\nJan '20\",\"Apr '20\",\"\\nJul '20\"], \n",
    "           ticks=[19,111,\n",
    "                  201,292,384,\n",
    "                  476,567,658], fontsize=60)\n",
    "\n",
    "def plot_burn_over_date():\n",
    "    _dbf = pd.read_csv(burn)\n",
    "    _dbf[\"txvalue\"] = _dbf[\"txvalue\"].astype(float)\n",
    "    dbf = _dbf.loc[:, ['timestamp', 'txvalue']]\n",
    "    dbf['utc'] = dbf['timestamp'].apply(lambda x: str(datetime.utcfromtimestamp(x))[0:10])\n",
    "    dbf = dbf.groupby('utc', as_index = False)['txvalue'].sum()\n",
    "    a = dbf['utc'].iloc[0]\n",
    "    b = dbf['utc'].iloc[-1]\n",
    "    idx = pd.date_range(a,b)\n",
    "    dbf = dbf.set_index('utc')\n",
    "    dbf.index = pd.DatetimeIndex(dbf.index)\n",
    "    dbf = dbf.reindex(idx, fill_value=0)\n",
    "    counter = 0\n",
    "    for i in range(0, len(dbf)):\n",
    "        plt.plot([counter,counter], [0, dbf['txvalue'].iloc[counter]/(10**dec)], color= 'black', linewidth=3)\n",
    "        counter += 1\n",
    "    \n",
    "    return\n",
    "\n",
    "plt.tight_layout(pad=5)\n",
    "plot_burn_over_date()\n",
    "plt.savefig('../pics/paxos/paxos_burned_pax_over_date.pdf')"
   ]
  },
  {
   "cell_type": "markdown",
   "metadata": {},
   "source": [
    "## Further info"
   ]
  },
  {
   "cell_type": "code",
   "execution_count": 18,
   "metadata": {},
   "outputs": [
    {
     "name": "stdout",
     "output_type": "stream",
     "text": [
      "Burn Events: 906\n",
      "Burned pax: 1,492,140,815\n",
      ". . . from 2 addesses\n",
      "\n",
      "Largest burn: 25,299,564 pax\n",
      " . . . from address: 0x5195427ca88df768c298721da791b93ad11eca65\n",
      "\n"
     ]
    }
   ],
   "source": [
    "df = pd.read_csv(burn)\n",
    "df['txvalue'] = df['txvalue'].astype(float)\n",
    "idx = df[df['txvalue'] == max(df['txvalue'])].index[0]\n",
    "df['txvalue'].iloc[idx]\n",
    "\n",
    "print('Burn Events: {}\\nBurned pax: {:,.0f}'.format(len(df), sum(df['txvalue'])/10**dec, ':,0f'))\n",
    "print('. . . from {} addesses\\n'.format(len(df['address'].unique())))\n",
    "print('Largest burn: {:,.0f} pax\\n . . . from address: {}\\n'.format(df['txvalue'].iloc[idx]/(10**dec), \n",
    "                                                                     df.groupby(\"address\")[\"txvalue\"].sum().index[0]))"
   ]
  },
  {
   "cell_type": "markdown",
   "metadata": {},
   "source": [
    "<center></center>"
   ]
  },
  {
   "cell_type": "markdown",
   "metadata": {},
   "source": [
    "<center></center>"
   ]
  },
  {
   "cell_type": "markdown",
   "metadata": {},
   "source": [
    "## Plot circulating supply"
   ]
  },
  {
   "cell_type": "code",
   "execution_count": null,
   "metadata": {},
   "outputs": [],
   "source": [
    "print('\\n\\n')\n",
    "fig = plt.figure(figsize=(20,12), dpi=500)\n",
    "ax = fig.subplots()\n",
    "plt.grid(True)\n",
    "plt.title(r'C i r c u l a t i n g \\ \\ P A X \\ \\ S u p p l y'+'\\n', size=60)\n",
    "plt.xlabel('\\n'+r'D a t e', size= 60)\n",
    "plt.ylabel(r'P A X'+'\\n', size= 60)\n",
    "ax.yaxis.get_offset_text().set_fontsize(25)\n",
    "\n",
    "plt.yticks(fontsize=30)\n",
    "plt.xticks(labels=[\"Okt '18\",\"\\nJan '19\",\n",
    "                   \"Apr '19\",\"\\nJul '19\",\"Oct '19\",\n",
    "                   \"\\nJan '20\",\"Apr '20\",\"\\nJul '20\"], \n",
    "           ticks=[21,113,\n",
    "                  203,294,386,\n",
    "                  478,569,660], fontsize=30)\n",
    "\n",
    "circ = pd.read_csv(circulating_supply, index_col='Unnamed: 0')\n",
    "\n",
    "plt.plot(range(0, 660), circ['txvalue'].cumsum()/10**dec, color='black', linewidth = 4, label = 'Paxos supply')\n",
    "plt.fill_between(range(0, 660),0 , circ['txvalue'].cumsum()/10**dec, alpha=0.2, facecolor='#2D728F')\n",
    "lgnd = plt.legend(loc='upper left', fontsize=40)\n",
    "plt.tight_layout(pad=5)\n",
    "plt.savefig('../pics/paxos/paxos_cirulating_supply.pdf')"
   ]
  },
  {
   "cell_type": "markdown",
   "metadata": {},
   "source": [
    "<center></center>"
   ]
  },
  {
   "cell_type": "markdown",
   "metadata": {},
   "source": [
    "<center></center>"
   ]
  },
  {
   "cell_type": "markdown",
   "metadata": {},
   "source": [
    "<center></center>"
   ]
  },
  {
   "cell_type": "markdown",
   "metadata": {},
   "source": [
    "## I.III. Transfer Event"
   ]
  },
  {
   "cell_type": "markdown",
   "metadata": {},
   "source": [
    "## Plot transfers over date"
   ]
  },
  {
   "cell_type": "code",
   "execution_count": null,
   "metadata": {},
   "outputs": [],
   "source": [
    "print('\\n\\n')\n",
    "fig = plt.figure(figsize=(20,12), dpi=500)\n",
    "ax = fig.subplots()\n",
    "plt.grid(True)\n",
    "plt.title(r'P A X \\ \\ T r a n s f e r s'+'\\n', size=60)\n",
    "plt.xlabel('\\n'+r'D a t e', size= 50)\n",
    "plt.ylabel(r'T r a n s f e r s'+'\\n', size= 50)\n",
    "plt.yticks(np.arange(0, 30001, 5000), \n",
    "           np.vectorize(lambda x: f'{x:,.0f}')(np.arange(0, 30001, 5000)), \n",
    "           fontsize=30)\n",
    "plt.xticks(labels=[\"Okt '18\",\"\\nJan '19\",\n",
    "                   \"Apr '19\",\"\\nJul '19\",\"Oct '19\",\n",
    "                   \"\\nJan '20\",\"Apr '20\",\"\\nJul '20\"], \n",
    "           ticks=[21,113,\n",
    "                  203,294,386,\n",
    "                  478,569,660], fontsize=30)\n",
    "\n",
    "def plot_txs_over_date(df, lwd, label, col = '#2D728F', fillbetween=False):\n",
    "    plt.plot(np.arange(0 , len(df['txs'])), df['txs'], color = col, linewidth = lwd, label = label)\n",
    "    if fillbetween:\n",
    "        plt.fill_between(np.arange(0 , len(df['txs'])),0 , df['txs'], alpha=0.2, facecolor='#2D728F')    \n",
    "plot_txs_over_date(df = pd.read_csv(tx_over_date, index_col=0), \n",
    "                   col = 'black', lwd = 2, label = 'Transfers', fillbetween=True)\n",
    "\n",
    "plot_txs_over_date(pd.read_csv(unique_recipients_per_day_over_date, index_col='Unnamed: 0'), \n",
    "                   lwd = 2, label = 'Unique Recipients per day')\n",
    "\n",
    "plot_txs_over_date(pd.read_csv(unique_senders_per_day_over_date, index_col='Unnamed: 0'), \n",
    "                   col='#9DB469', lwd = 2, label =  'Unique Senders per day')\n",
    "\n",
    "lgnd = ax.legend(loc='upper left', fontsize=35)\n",
    "lgnd.legendHandles[0].set_linewidth(5.0)\n",
    "lgnd.legendHandles[1].set_linewidth(5.0)\n",
    "lgnd.legendHandles[2].set_linewidth(5.0)\n",
    "\n",
    "plt.tight_layout(pad=5)\n",
    "plt.savefig('../pics/paxos/paxos_tx_over_date.pdf')\n",
    "plt.show()"
   ]
  },
  {
   "cell_type": "markdown",
   "metadata": {},
   "source": [
    "<center></center>"
   ]
  },
  {
   "cell_type": "markdown",
   "metadata": {},
   "source": [
    "## Most active addresses"
   ]
  },
  {
   "cell_type": "markdown",
   "metadata": {},
   "source": [
    "From:"
   ]
  },
  {
   "cell_type": "code",
   "execution_count": 21,
   "metadata": {},
   "outputs": [
    {
     "data": {
      "text/html": [
       "<div>\n",
       "<style scoped>\n",
       "    .dataframe tbody tr th:only-of-type {\n",
       "        vertical-align: middle;\n",
       "    }\n",
       "\n",
       "    .dataframe tbody tr th {\n",
       "        vertical-align: top;\n",
       "    }\n",
       "\n",
       "    .dataframe thead th {\n",
       "        text-align: right;\n",
       "    }\n",
       "</style>\n",
       "<table border=\"1\" class=\"dataframe\">\n",
       "  <thead>\n",
       "    <tr style=\"text-align: right;\">\n",
       "      <th></th>\n",
       "      <th>txs</th>\n",
       "      <th>tag</th>\n",
       "    </tr>\n",
       "  </thead>\n",
       "  <tbody>\n",
       "    <tr>\n",
       "      <th>0x8a91c9a16cd62693649d80afa85a09dbbdcb8508</th>\n",
       "      <td>308538</td>\n",
       "      <td>MMM BSC</td>\n",
       "    </tr>\n",
       "    <tr>\n",
       "      <th>0xc88f7666330b4b511358b7742dc2a3234710e7b1</th>\n",
       "      <td>78751</td>\n",
       "      <td>Scammer</td>\n",
       "    </tr>\n",
       "    <tr>\n",
       "      <th>0x65bf64ff5f51272f729bdcd7acfb00677ced86cd</th>\n",
       "      <td>31926</td>\n",
       "      <td>Kyber: Contract</td>\n",
       "    </tr>\n",
       "    <tr>\n",
       "      <th>0x41f8d14c9475444f30a80431c68cf24dc9a8369a</th>\n",
       "      <td>30765</td>\n",
       "      <td>-</td>\n",
       "    </tr>\n",
       "    <tr>\n",
       "      <th>0x3f5ce5fbfe3e9af3971dd833d26ba9b5c936f0be</th>\n",
       "      <td>15835</td>\n",
       "      <td>Binance</td>\n",
       "    </tr>\n",
       "    <tr>\n",
       "      <th>0x6f7b74aa23cabd638d7ebe804577043c435192b9</th>\n",
       "      <td>15054</td>\n",
       "      <td>-</td>\n",
       "    </tr>\n",
       "    <tr>\n",
       "      <th>0xc5a8859c44ac8aa2169afacf45b87c08593bec10</th>\n",
       "      <td>14816</td>\n",
       "      <td>-</td>\n",
       "    </tr>\n",
       "    <tr>\n",
       "      <th>0x0681d8db095565fe8a346fa0277bffde9c0edbbf</th>\n",
       "      <td>11561</td>\n",
       "      <td>Binance 4</td>\n",
       "    </tr>\n",
       "    <tr>\n",
       "      <th>0x564286362092d8e7936f0549571a803b203aaced</th>\n",
       "      <td>11435</td>\n",
       "      <td>Binance 3</td>\n",
       "    </tr>\n",
       "    <tr>\n",
       "      <th>0xd551234ae421e3bcba99a0da6d736074f22192ff</th>\n",
       "      <td>11345</td>\n",
       "      <td>Binance 2</td>\n",
       "    </tr>\n",
       "    <tr>\n",
       "      <th>0xff8e926d0d92b5da930f5534a79e5b821f719f8a</th>\n",
       "      <td>10831</td>\n",
       "      <td>BillionMoney.live</td>\n",
       "    </tr>\n",
       "  </tbody>\n",
       "</table>\n",
       "</div>"
      ],
      "text/plain": [
       "                                               txs                tag\n",
       "0x8a91c9a16cd62693649d80afa85a09dbbdcb8508  308538            MMM BSC\n",
       "0xc88f7666330b4b511358b7742dc2a3234710e7b1   78751            Scammer\n",
       "0x65bf64ff5f51272f729bdcd7acfb00677ced86cd   31926    Kyber: Contract\n",
       "0x41f8d14c9475444f30a80431c68cf24dc9a8369a   30765                  -\n",
       "0x3f5ce5fbfe3e9af3971dd833d26ba9b5c936f0be   15835            Binance\n",
       "0x6f7b74aa23cabd638d7ebe804577043c435192b9   15054                  -\n",
       "0xc5a8859c44ac8aa2169afacf45b87c08593bec10   14816                  -\n",
       "0x0681d8db095565fe8a346fa0277bffde9c0edbbf   11561         Binance 4 \n",
       "0x564286362092d8e7936f0549571a803b203aaced   11435          Binance 3\n",
       "0xd551234ae421e3bcba99a0da6d736074f22192ff   11345          Binance 2\n",
       "0xff8e926d0d92b5da930f5534a79e5b821f719f8a   10831  BillionMoney.live"
      ]
     },
     "execution_count": 21,
     "metadata": {},
     "output_type": "execute_result"
    }
   ],
   "source": [
    "fr = pd.read_csv(tx_count_from, index_col='Unnamed: 0').sort_values('txs', ascending = False)\n",
    "to = pd.read_csv(tx_count_to, index_col='Unnamed: 0').sort_values('txs', ascending = False)\n",
    "fr = pd.DataFrame(fr.loc[:fr.index[10],'txs'])\n",
    "fr['tag'] = ['MMM BSC', 'Scammer', 'Kyber: Contract', '-', 'Binance', '-', '-', 'Binance 4 ', 'Binance 3', 'Binance 2', 'BillionMoney.live']\n",
    "fr"
   ]
  },
  {
   "cell_type": "markdown",
   "metadata": {},
   "source": [
    "To:"
   ]
  },
  {
   "cell_type": "code",
   "execution_count": 22,
   "metadata": {},
   "outputs": [
    {
     "data": {
      "text/html": [
       "<div>\n",
       "<style scoped>\n",
       "    .dataframe tbody tr th:only-of-type {\n",
       "        vertical-align: middle;\n",
       "    }\n",
       "\n",
       "    .dataframe tbody tr th {\n",
       "        vertical-align: top;\n",
       "    }\n",
       "\n",
       "    .dataframe thead th {\n",
       "        text-align: right;\n",
       "    }\n",
       "</style>\n",
       "<table border=\"1\" class=\"dataframe\">\n",
       "  <thead>\n",
       "    <tr style=\"text-align: right;\">\n",
       "      <th></th>\n",
       "      <th>txs</th>\n",
       "      <th>tag</th>\n",
       "    </tr>\n",
       "  </thead>\n",
       "  <tbody>\n",
       "    <tr>\n",
       "      <th>0x8a91c9a16cd62693649d80afa85a09dbbdcb8508</th>\n",
       "      <td>341716</td>\n",
       "      <td>MMM BSC</td>\n",
       "    </tr>\n",
       "    <tr>\n",
       "      <th>0x6f7b74aa23cabd638d7ebe804577043c435192b9</th>\n",
       "      <td>162555</td>\n",
       "      <td>-</td>\n",
       "    </tr>\n",
       "    <tr>\n",
       "      <th>0xc88f7666330b4b511358b7742dc2a3234710e7b1</th>\n",
       "      <td>56733</td>\n",
       "      <td>Scammer</td>\n",
       "    </tr>\n",
       "    <tr>\n",
       "      <th>0x3f5ce5fbfe3e9af3971dd833d26ba9b5c936f0be</th>\n",
       "      <td>35865</td>\n",
       "      <td>Binance</td>\n",
       "    </tr>\n",
       "    <tr>\n",
       "      <th>0x41f8d14c9475444f30a80431c68cf24dc9a8369a</th>\n",
       "      <td>30763</td>\n",
       "      <td>-</td>\n",
       "    </tr>\n",
       "    <tr>\n",
       "      <th>0x65bf64ff5f51272f729bdcd7acfb00677ced86cd</th>\n",
       "      <td>30126</td>\n",
       "      <td>Kyber: Contract</td>\n",
       "    </tr>\n",
       "    <tr>\n",
       "      <th>0x5195427ca88df768c298721da791b93ad11eca65</th>\n",
       "      <td>15997</td>\n",
       "      <td>-</td>\n",
       "    </tr>\n",
       "    <tr>\n",
       "      <th>0xff8e926d0d92b5da930f5534a79e5b821f719f8a</th>\n",
       "      <td>10997</td>\n",
       "      <td>BillionMoney.live</td>\n",
       "    </tr>\n",
       "    <tr>\n",
       "      <th>0x7cd860672c477e4c312cdde6f922c51235caf52d</th>\n",
       "      <td>10123</td>\n",
       "      <td>-</td>\n",
       "    </tr>\n",
       "    <tr>\n",
       "      <th>0x56178a0d5f301baf6cf3e1cd53d9863437345bf9</th>\n",
       "      <td>8045</td>\n",
       "      <td>-</td>\n",
       "    </tr>\n",
       "    <tr>\n",
       "      <th>0x5c9f3fff6ee846a83080f373f8cea1451bb4a3d9</th>\n",
       "      <td>6714</td>\n",
       "      <td>-</td>\n",
       "    </tr>\n",
       "  </tbody>\n",
       "</table>\n",
       "</div>"
      ],
      "text/plain": [
       "                                               txs                tag\n",
       "0x8a91c9a16cd62693649d80afa85a09dbbdcb8508  341716            MMM BSC\n",
       "0x6f7b74aa23cabd638d7ebe804577043c435192b9  162555                  -\n",
       "0xc88f7666330b4b511358b7742dc2a3234710e7b1   56733            Scammer\n",
       "0x3f5ce5fbfe3e9af3971dd833d26ba9b5c936f0be   35865            Binance\n",
       "0x41f8d14c9475444f30a80431c68cf24dc9a8369a   30763                  -\n",
       "0x65bf64ff5f51272f729bdcd7acfb00677ced86cd   30126    Kyber: Contract\n",
       "0x5195427ca88df768c298721da791b93ad11eca65   15997                  -\n",
       "0xff8e926d0d92b5da930f5534a79e5b821f719f8a   10997  BillionMoney.live\n",
       "0x7cd860672c477e4c312cdde6f922c51235caf52d   10123                  -\n",
       "0x56178a0d5f301baf6cf3e1cd53d9863437345bf9    8045                  -\n",
       "0x5c9f3fff6ee846a83080f373f8cea1451bb4a3d9    6714                  -"
      ]
     },
     "execution_count": 22,
     "metadata": {},
     "output_type": "execute_result"
    }
   ],
   "source": [
    "to = pd.DataFrame(to.loc[:to.index[10],'txs'])\n",
    "to['tag'] = ['MMM BSC', '-', 'Scammer', 'Binance', '-', 'Kyber: Contract', '-', 'BillionMoney.live', '-', '-', '-']\n",
    "to"
   ]
  },
  {
   "cell_type": "markdown",
   "metadata": {},
   "source": [
    "<center></center>"
   ]
  },
  {
   "cell_type": "markdown",
   "metadata": {},
   "source": [
    "<center></center>"
   ]
  },
  {
   "cell_type": "markdown",
   "metadata": {},
   "source": [
    "## Activity distribution"
   ]
  },
  {
   "cell_type": "code",
   "execution_count": 23,
   "metadata": {},
   "outputs": [
    {
     "name": "stdout",
     "output_type": "stream",
     "text": [
      "1029973 addresses in total\n"
     ]
    },
    {
     "data": {
      "text/html": [
       "<div>\n",
       "<style scoped>\n",
       "    .dataframe tbody tr th:only-of-type {\n",
       "        vertical-align: middle;\n",
       "    }\n",
       "\n",
       "    .dataframe tbody tr th {\n",
       "        vertical-align: top;\n",
       "    }\n",
       "\n",
       "    .dataframe thead th {\n",
       "        text-align: right;\n",
       "    }\n",
       "</style>\n",
       "<table border=\"1\" class=\"dataframe\">\n",
       "  <thead>\n",
       "    <tr style=\"text-align: right;\">\n",
       "      <th></th>\n",
       "      <th>Transactions</th>\n",
       "      <th>Addresses</th>\n",
       "    </tr>\n",
       "  </thead>\n",
       "  <tbody>\n",
       "    <tr>\n",
       "      <th>0</th>\n",
       "      <td>&gt; 500.000</td>\n",
       "      <td>1</td>\n",
       "    </tr>\n",
       "    <tr>\n",
       "      <th>1</th>\n",
       "      <td>100.000-500.000</td>\n",
       "      <td>2</td>\n",
       "    </tr>\n",
       "    <tr>\n",
       "      <th>2</th>\n",
       "      <td>50.000-100.000</td>\n",
       "      <td>3</td>\n",
       "    </tr>\n",
       "    <tr>\n",
       "      <th>3</th>\n",
       "      <td>10.000-50.000</td>\n",
       "      <td>11</td>\n",
       "    </tr>\n",
       "    <tr>\n",
       "      <th>4</th>\n",
       "      <td>1.000-10.000</td>\n",
       "      <td>125</td>\n",
       "    </tr>\n",
       "    <tr>\n",
       "      <th>5</th>\n",
       "      <td>100-1.000</td>\n",
       "      <td>2468</td>\n",
       "    </tr>\n",
       "    <tr>\n",
       "      <th>6</th>\n",
       "      <td>10-100</td>\n",
       "      <td>33112</td>\n",
       "    </tr>\n",
       "    <tr>\n",
       "      <th>7</th>\n",
       "      <td>&lt; 10</td>\n",
       "      <td>996931</td>\n",
       "    </tr>\n",
       "    <tr>\n",
       "      <th>8</th>\n",
       "      <td>1</td>\n",
       "      <td>23107</td>\n",
       "    </tr>\n",
       "  </tbody>\n",
       "</table>\n",
       "</div>"
      ],
      "text/plain": [
       "      Transactions  Addresses\n",
       "0        > 500.000          1\n",
       "1  100.000-500.000          2\n",
       "2   50.000-100.000          3\n",
       "3    10.000-50.000         11\n",
       "4     1.000-10.000        125\n",
       "5        100-1.000       2468\n",
       "6           10-100      33112\n",
       "7             < 10     996931\n",
       "8                1      23107"
      ]
     },
     "execution_count": 23,
     "metadata": {},
     "output_type": "execute_result"
    }
   ],
   "source": [
    "df_from = pd.read_csv(tx_count_from, index_col=0)\n",
    "df_to = pd.read_csv(tx_count_to, index_col=0)\n",
    "df_all = pd.concat([df_from, df_to])\n",
    "df = df_all.groupby(df_all.index).sum()\n",
    "print('{} addresses in total'.format(len(df)))\n",
    "df = df.sort_values('txs')\n",
    "gr0 = len(df.loc[df['txs'] >= 500000])\n",
    "gra = len(df.loc[df['txs'] >= 100000]) - gr0 \n",
    "grb = len(df.loc[df['txs'] >= 50000]) - gr0 - gra\n",
    "grc = len(df.loc[df['txs'] >= 10000]) - gr0 - gra - grb\n",
    "grd = len(df.loc[df['txs'] >= 1000]) - gr0 - gra - grb - grc\n",
    "gre = len(df.loc[df['txs'] >= 100]) - gr0 - gra - grb - grc - grd\n",
    "grf = len(df.loc[df['txs'] >= 10]) - gr0 - gra - grb - grc - grd - gre\n",
    "grg = len(df.loc[df['txs'] <= 10])\n",
    "grh = len(df.loc[df['txs'] == 1]) \n",
    "pd.DataFrame({'Transactions': ['> 500.000','100.000-500.000',\n",
    "                               '50.000-100.000',\n",
    "                               '10.000-50.000',\n",
    "                               '1.000-10.000',\n",
    "                               '100-1.000',\n",
    "                               '10-100',\n",
    "                               '< 10', \n",
    "                               '1'], \n",
    "              'Addresses':[gr0,gra,grb,grc,grd,gre,grf,grg,grh]\n",
    "             })"
   ]
  },
  {
   "cell_type": "markdown",
   "metadata": {},
   "source": [
    "<center></center>"
   ]
  },
  {
   "cell_type": "markdown",
   "metadata": {},
   "source": [
    "<center></center>"
   ]
  },
  {
   "cell_type": "markdown",
   "metadata": {},
   "source": [
    "## Plot average transfer amount"
   ]
  },
  {
   "cell_type": "markdown",
   "metadata": {},
   "source": [
    "## Jan '20 - Jul '20"
   ]
  },
  {
   "cell_type": "code",
   "execution_count": null,
   "metadata": {},
   "outputs": [],
   "source": [
    "print('\\n\\n')\n",
    "df = pd.read_csv(avg_value_over_date, index_col=0)\n",
    "df = df.loc[df.index[478]:,:]\n",
    "plt.figure(figsize=(12, 7), dpi=800)\n",
    "\n",
    "plt.grid(True)\n",
    "plt.plot(np.arange(0 , len(df.index.tolist())), df['txvalue'], color = 'black', label = 'Avg. Amount/Day', linewidth = 2)\n",
    "plt.fill_between(np.arange(0 , len(df.index.tolist())),0 , df['txvalue'], alpha=0.2, facecolor='#2D728F')\n",
    "plt.xlabel('\\n'+'D a t e', fontsize=35)\n",
    "plt.ylabel('P A X'+'\\n', fontsize=30)\n",
    "plt.title(\"P a x o s \\ \\ S t a n d a r d\\nA v g. \\ \\ T r a n s f e r \\ \\ A m o u n t\"+\"\\n\", size = 30)\n",
    "plt.legend(loc=\"upper right\", fontsize=20, shadow= True)\n",
    "plt.ticklabel_format(style = 'plain')\n",
    "plt.xticks(labels=[\"\\nJan '20\",\"Feb '20\",\"\\nMar '20\",\"Apr '20\",\"\\nMay '20\",\"Jun '20\",\"\\nJul '20\"], \n",
    "           ticks=[0,31,60,90,121,152,182], fontsize=23) \n",
    "plt.yticks(np.arange(0, 50001, 10000), \n",
    "           np.vectorize(lambda x: f'{x:,.0f}')(np.arange(0, 50001, 10000)), \n",
    "           fontsize=15)\n",
    "plt.tight_layout(pad=1)\n",
    "plt.savefig('../pics/paxos/paxos_avgtxvalue_jan20.pdf')"
   ]
  },
  {
   "cell_type": "markdown",
   "metadata": {},
   "source": [
    "<center></center>"
   ]
  },
  {
   "cell_type": "markdown",
   "metadata": {},
   "source": [
    "## Further Info"
   ]
  },
  {
   "cell_type": "code",
   "execution_count": 25,
   "metadata": {},
   "outputs": [
    {
     "data": {
      "text/html": [
       "<div>\n",
       "<style scoped>\n",
       "    .dataframe tbody tr th:only-of-type {\n",
       "        vertical-align: middle;\n",
       "    }\n",
       "\n",
       "    .dataframe tbody tr th {\n",
       "        vertical-align: top;\n",
       "    }\n",
       "\n",
       "    .dataframe thead th {\n",
       "        text-align: right;\n",
       "    }\n",
       "</style>\n",
       "<table border=\"1\" class=\"dataframe\">\n",
       "  <thead>\n",
       "    <tr style=\"text-align: right;\">\n",
       "      <th></th>\n",
       "      <th>txvalue</th>\n",
       "    </tr>\n",
       "  </thead>\n",
       "  <tbody>\n",
       "    <tr>\n",
       "      <th>count</th>\n",
       "      <td>182.000</td>\n",
       "    </tr>\n",
       "    <tr>\n",
       "      <th>mean</th>\n",
       "      <td>5376.390</td>\n",
       "    </tr>\n",
       "    <tr>\n",
       "      <th>std</th>\n",
       "      <td>5658.326</td>\n",
       "    </tr>\n",
       "    <tr>\n",
       "      <th>min</th>\n",
       "      <td>477.272</td>\n",
       "    </tr>\n",
       "    <tr>\n",
       "      <th>25%</th>\n",
       "      <td>2005.187</td>\n",
       "    </tr>\n",
       "    <tr>\n",
       "      <th>50%</th>\n",
       "      <td>3695.525</td>\n",
       "    </tr>\n",
       "    <tr>\n",
       "      <th>75%</th>\n",
       "      <td>6202.192</td>\n",
       "    </tr>\n",
       "    <tr>\n",
       "      <th>max</th>\n",
       "      <td>42037.668</td>\n",
       "    </tr>\n",
       "  </tbody>\n",
       "</table>\n",
       "</div>"
      ],
      "text/plain": [
       "        txvalue\n",
       "count   182.000\n",
       "mean   5376.390\n",
       "std    5658.326\n",
       "min     477.272\n",
       "25%    2005.187\n",
       "50%    3695.525\n",
       "75%    6202.192\n",
       "max   42037.668"
      ]
     },
     "execution_count": 25,
     "metadata": {},
     "output_type": "execute_result"
    }
   ],
   "source": [
    "df.describe()"
   ]
  },
  {
   "cell_type": "markdown",
   "metadata": {},
   "source": [
    "<center></center>"
   ]
  },
  {
   "cell_type": "markdown",
   "metadata": {},
   "source": [
    "<center></center>"
   ]
  },
  {
   "cell_type": "markdown",
   "metadata": {},
   "source": [
    "## Plot average gas costs"
   ]
  },
  {
   "cell_type": "markdown",
   "metadata": {},
   "source": [
    "## Jan '20 - Jul '20"
   ]
  },
  {
   "cell_type": "code",
   "execution_count": null,
   "metadata": {},
   "outputs": [],
   "source": [
    "print('\\n\\n')\n",
    "df = pd.read_csv(avg_gas_over_date)\n",
    "df = df.loc[df.index[478]:,:]\n",
    "plt.figure(figsize=(12, 7), dpi=800)\n",
    "plt.grid(True)\n",
    "plt.plot(np.arange(0 , len(df.index.tolist())), df['gas'], color = 'black', label = 'Avg. Gas Costs/Day', linewidth = 2)\n",
    "plt.fill_between(np.arange(0 , len(df.index.tolist())),0 , df['gas'], alpha=0.2, facecolor='#2D728F')\n",
    "plt.xlabel('\\nD a t e', fontsize=35)\n",
    "plt.ylabel('E t h e r\\n', fontsize=30)\n",
    "plt.title(\"P a x o s \\ \\ S t a n d a r d\\nA v g. \\ \\ T r a n s f e r \\ \\ A m o u n t\"+\"\\n\", size = 30)\n",
    "lgnd = plt.legend(loc='upper left', fontsize=20, shadow= True)\n",
    "plt.ticklabel_format(style = 'plain')\n",
    "plt.xticks(labels=[\"\\nJan '20\",\"Feb '20\",\"\\nMar '20\",\"Apr '20\",\"\\nMay '20\",\"Jun '20\",\"\\nJul '20\"], \n",
    "           ticks=[0,31,60,90,121,152,182], fontsize=20) \n",
    "plt.yticks(np.arange(0, 0.05, 0.01), \n",
    "           np.vectorize(lambda x: f'{x:,.3f}')(np.arange(0, 0.05, 0.01)), \n",
    "           fontsize=15)\n",
    "plt.tight_layout(pad=1)\n",
    "lgnd.legendHandles[0].set_linewidth(3.0)\n",
    "plt.savefig('../pics/paxos/paxos_avggascosts_jan20.pdf') "
   ]
  },
  {
   "cell_type": "code",
   "execution_count": 27,
   "metadata": {},
   "outputs": [
    {
     "data": {
      "text/html": [
       "<div>\n",
       "<style scoped>\n",
       "    .dataframe tbody tr th:only-of-type {\n",
       "        vertical-align: middle;\n",
       "    }\n",
       "\n",
       "    .dataframe tbody tr th {\n",
       "        vertical-align: top;\n",
       "    }\n",
       "\n",
       "    .dataframe thead th {\n",
       "        text-align: right;\n",
       "    }\n",
       "</style>\n",
       "<table border=\"1\" class=\"dataframe\">\n",
       "  <thead>\n",
       "    <tr style=\"text-align: right;\">\n",
       "      <th></th>\n",
       "      <th>gas</th>\n",
       "    </tr>\n",
       "  </thead>\n",
       "  <tbody>\n",
       "    <tr>\n",
       "      <th>count</th>\n",
       "      <td>182.000</td>\n",
       "    </tr>\n",
       "    <tr>\n",
       "      <th>mean</th>\n",
       "      <td>0.002</td>\n",
       "    </tr>\n",
       "    <tr>\n",
       "      <th>std</th>\n",
       "      <td>0.002</td>\n",
       "    </tr>\n",
       "    <tr>\n",
       "      <th>min</th>\n",
       "      <td>0.000</td>\n",
       "    </tr>\n",
       "    <tr>\n",
       "      <th>25%</th>\n",
       "      <td>0.001</td>\n",
       "    </tr>\n",
       "    <tr>\n",
       "      <th>50%</th>\n",
       "      <td>0.001</td>\n",
       "    </tr>\n",
       "    <tr>\n",
       "      <th>75%</th>\n",
       "      <td>0.003</td>\n",
       "    </tr>\n",
       "    <tr>\n",
       "      <th>max</th>\n",
       "      <td>0.006</td>\n",
       "    </tr>\n",
       "  </tbody>\n",
       "</table>\n",
       "</div>"
      ],
      "text/plain": [
       "          gas\n",
       "count 182.000\n",
       "mean    0.002\n",
       "std     0.002\n",
       "min     0.000\n",
       "25%     0.001\n",
       "50%     0.001\n",
       "75%     0.003\n",
       "max     0.006"
      ]
     },
     "execution_count": 27,
     "metadata": {},
     "output_type": "execute_result"
    }
   ],
   "source": [
    "df.describe()"
   ]
  },
  {
   "cell_type": "markdown",
   "metadata": {},
   "source": [
    "<center></center>"
   ]
  },
  {
   "cell_type": "markdown",
   "metadata": {},
   "source": [
    "<center></center>"
   ]
  },
  {
   "cell_type": "markdown",
   "metadata": {},
   "source": [
    "# II. Balances Analysis"
   ]
  },
  {
   "cell_type": "code",
   "execution_count": 28,
   "metadata": {},
   "outputs": [
    {
     "data": {
      "text/html": [
       "<div>\n",
       "<style scoped>\n",
       "    .dataframe tbody tr th:only-of-type {\n",
       "        vertical-align: middle;\n",
       "    }\n",
       "\n",
       "    .dataframe tbody tr th {\n",
       "        vertical-align: top;\n",
       "    }\n",
       "\n",
       "    .dataframe thead th {\n",
       "        text-align: right;\n",
       "    }\n",
       "</style>\n",
       "<table border=\"1\" class=\"dataframe\">\n",
       "  <thead>\n",
       "    <tr style=\"text-align: right;\">\n",
       "      <th></th>\n",
       "      <th>address</th>\n",
       "      <th>balance</th>\n",
       "      <th>cum</th>\n",
       "    </tr>\n",
       "  </thead>\n",
       "  <tbody>\n",
       "    <tr>\n",
       "      <th>0</th>\n",
       "      <td>0xee28d3003b34e011e8390ef8bb6e2c8cf0c1f444</td>\n",
       "      <td>0.000</td>\n",
       "      <td>0.000</td>\n",
       "    </tr>\n",
       "    <tr>\n",
       "      <th>1</th>\n",
       "      <td>0xfa9a04678e55f8e6c99379dded3329852534d3c2</td>\n",
       "      <td>0.000</td>\n",
       "      <td>0.000</td>\n",
       "    </tr>\n",
       "    <tr>\n",
       "      <th>2</th>\n",
       "      <td>0x5143fd9259cf7c752f87964d8814be9c49f3fe52</td>\n",
       "      <td>0.000</td>\n",
       "      <td>0.000</td>\n",
       "    </tr>\n",
       "    <tr>\n",
       "      <th>3</th>\n",
       "      <td>0x0b5b79ec6aca02f3035be09787cf41e6f40abae1</td>\n",
       "      <td>0.000</td>\n",
       "      <td>0.000</td>\n",
       "    </tr>\n",
       "    <tr>\n",
       "      <th>4</th>\n",
       "      <td>0x02a0f7692487de621ef9433de15103f5a88c178b</td>\n",
       "      <td>0.000</td>\n",
       "      <td>0.000</td>\n",
       "    </tr>\n",
       "    <tr>\n",
       "      <th>...</th>\n",
       "      <td>...</td>\n",
       "      <td>...</td>\n",
       "      <td>...</td>\n",
       "    </tr>\n",
       "    <tr>\n",
       "      <th>85999</th>\n",
       "      <td>0x3f5ce5fbfe3e9af3971dd833d26ba9b5c936f0be</td>\n",
       "      <td>5940703.355</td>\n",
       "      <td>105825400.235</td>\n",
       "    </tr>\n",
       "    <tr>\n",
       "      <th>86000</th>\n",
       "      <td>0x0a1bc490eec8cdf57df1b1a3f71e82e1a057be61</td>\n",
       "      <td>7056447.640</td>\n",
       "      <td>112881847.875</td>\n",
       "    </tr>\n",
       "    <tr>\n",
       "      <th>86001</th>\n",
       "      <td>0xc295485f479a45287689a1c27f7cc08d365ce938</td>\n",
       "      <td>7300000.000</td>\n",
       "      <td>120181847.875</td>\n",
       "    </tr>\n",
       "    <tr>\n",
       "      <th>86002</th>\n",
       "      <td>0xf977814e90da44bfa03b6295a0616a897441acec</td>\n",
       "      <td>17300138.399</td>\n",
       "      <td>137481986.274</td>\n",
       "    </tr>\n",
       "    <tr>\n",
       "      <th>86003</th>\n",
       "      <td>0xe62b5b82fb63f19579f35e44cf998d4819b0322a</td>\n",
       "      <td>103641260.426</td>\n",
       "      <td>241123246.700</td>\n",
       "    </tr>\n",
       "  </tbody>\n",
       "</table>\n",
       "<p>86004 rows × 3 columns</p>\n",
       "</div>"
      ],
      "text/plain": [
       "                                          address       balance           cum\n",
       "0      0xee28d3003b34e011e8390ef8bb6e2c8cf0c1f444         0.000         0.000\n",
       "1      0xfa9a04678e55f8e6c99379dded3329852534d3c2         0.000         0.000\n",
       "2      0x5143fd9259cf7c752f87964d8814be9c49f3fe52         0.000         0.000\n",
       "3      0x0b5b79ec6aca02f3035be09787cf41e6f40abae1         0.000         0.000\n",
       "4      0x02a0f7692487de621ef9433de15103f5a88c178b         0.000         0.000\n",
       "...                                           ...           ...           ...\n",
       "85999  0x3f5ce5fbfe3e9af3971dd833d26ba9b5c936f0be   5940703.355 105825400.235\n",
       "86000  0x0a1bc490eec8cdf57df1b1a3f71e82e1a057be61   7056447.640 112881847.875\n",
       "86001  0xc295485f479a45287689a1c27f7cc08d365ce938   7300000.000 120181847.875\n",
       "86002  0xf977814e90da44bfa03b6295a0616a897441acec  17300138.399 137481986.274\n",
       "86003  0xe62b5b82fb63f19579f35e44cf998d4819b0322a 103641260.426 241123246.700\n",
       "\n",
       "[86004 rows x 3 columns]"
      ]
     },
     "execution_count": 28,
     "metadata": {},
     "output_type": "execute_result"
    }
   ],
   "source": [
    "df = pd.read_csv(positive_cumulated_balances, index_col='Unnamed: 0')\n",
    "df"
   ]
  },
  {
   "cell_type": "markdown",
   "metadata": {},
   "source": [
    "<center></center>"
   ]
  },
  {
   "cell_type": "markdown",
   "metadata": {},
   "source": [
    "## II.I. Quick Summary"
   ]
  },
  {
   "cell_type": "code",
   "execution_count": 29,
   "metadata": {},
   "outputs": [
    {
     "data": {
      "text/plain": [
       "count        86004.000000\n",
       "mean          2803.628281\n",
       "std         363226.153829\n",
       "min              0.000000\n",
       "25%              0.126044\n",
       "50%              4.690000\n",
       "75%             45.105434\n",
       "max      103641260.425813\n",
       "Name: balance, dtype: object"
      ]
     },
     "execution_count": 29,
     "metadata": {},
     "output_type": "execute_result"
    }
   ],
   "source": [
    "(df[df['balance']>0]['balance']).describe().apply(lambda x: format(x, 'f'))"
   ]
  },
  {
   "cell_type": "code",
   "execution_count": 30,
   "metadata": {},
   "outputs": [
    {
     "name": "stdout",
     "output_type": "stream",
     "text": [
      "33037/86004 with less than 1 pax\n"
     ]
    }
   ],
   "source": [
    "print('{}/{} with less than 1 pax' .format(len(df[df['balance']<1]['balance']), len(df['balance'])))"
   ]
  },
  {
   "cell_type": "markdown",
   "metadata": {},
   "source": [
    "<center></center>"
   ]
  },
  {
   "cell_type": "markdown",
   "metadata": {},
   "source": [
    "## II.II. Balance Table"
   ]
  },
  {
   "cell_type": "code",
   "execution_count": 31,
   "metadata": {},
   "outputs": [
    {
     "data": {
      "text/html": [
       "<div>\n",
       "<style scoped>\n",
       "    .dataframe tbody tr th:only-of-type {\n",
       "        vertical-align: middle;\n",
       "    }\n",
       "\n",
       "    .dataframe tbody tr th {\n",
       "        vertical-align: top;\n",
       "    }\n",
       "\n",
       "    .dataframe thead th {\n",
       "        text-align: right;\n",
       "    }\n",
       "</style>\n",
       "<table border=\"1\" class=\"dataframe\">\n",
       "  <thead>\n",
       "    <tr style=\"text-align: right;\">\n",
       "      <th></th>\n",
       "      <th>Accounts in total</th>\n",
       "      <th>% of total supply</th>\n",
       "      <th>pax amount</th>\n",
       "    </tr>\n",
       "  </thead>\n",
       "  <tbody>\n",
       "    <tr>\n",
       "      <th>0.1% of the richest accounts</th>\n",
       "      <td>86</td>\n",
       "      <td>85.080</td>\n",
       "      <td>205,150,277</td>\n",
       "    </tr>\n",
       "    <tr>\n",
       "      <th>1% of the richest accounts</th>\n",
       "      <td>860</td>\n",
       "      <td>94.640</td>\n",
       "      <td>228,191,539</td>\n",
       "    </tr>\n",
       "    <tr>\n",
       "      <th>5% of the richest accounts</th>\n",
       "      <td>4,300</td>\n",
       "      <td>98.240</td>\n",
       "      <td>236,874,691</td>\n",
       "    </tr>\n",
       "    <tr>\n",
       "      <th>10% of the richest accounts</th>\n",
       "      <td>8,600</td>\n",
       "      <td>99.230</td>\n",
       "      <td>239,274,326</td>\n",
       "    </tr>\n",
       "  </tbody>\n",
       "</table>\n",
       "</div>"
      ],
      "text/plain": [
       "                             Accounts in total  % of total supply   pax amount\n",
       "0.1% of the richest accounts                86             85.080  205,150,277\n",
       "1% of the richest accounts                 860             94.640  228,191,539\n",
       "5% of the richest accounts               4,300             98.240  236,874,691\n",
       "10% of the richest accounts              8,600             99.230  239,274,326"
      ]
     },
     "execution_count": 31,
     "metadata": {},
     "output_type": "execute_result"
    }
   ],
   "source": [
    "df = pd.read_csv(positive_cumulated_balances, index_col=0)\n",
    "def get_distribution(perc):\n",
    "    per = round(df.index[-1]*perc)\n",
    "    entities = df.index[-1]- per\n",
    "    upper = df.loc[per:,:]\n",
    "    lower = df.loc[:per,:]\n",
    "    lower_ = lower['cum'].iloc[-1]\n",
    "    upper_ = (upper['cum'].iloc[-1] - upper['cum'].iloc[0])\n",
    "    return entities, lower_, upper_, lower_/ upper['cum'].iloc[-1], upper_/(upper['cum'].iloc[-1])\n",
    "\n",
    "idx90, lower90, upper90, per10, per90 = get_distribution(0.90)\n",
    "idx95, lower95, upper95, per05, per95 = get_distribution(0.95)\n",
    "idx99, lower99, upper99, per01, per99 = get_distribution(0.99)\n",
    "idx999, lower999, upper999, per001, per999 = get_distribution(0.999)\n",
    "\n",
    "df = pd.DataFrame([[f'{idx999:,.0f}', round(per999*100,2), f'{upper999:,.0f}'],\n",
    "             [f'{idx99:,.0f}', round(per99*100,2),f'{upper99:,.0f}'],\n",
    "             [f'{idx95:,.0f}', round(per95*100,2),f'{upper95:,.0f}'],\n",
    "             [f'{idx90:,.0f}', round(per90*100,2),f'{upper90:,.0f}']],\n",
    "                  index=['0.1% of the richest accounts', '1% of the richest accounts','5% of the richest accounts','10% of the richest accounts'],\n",
    "                   columns=['Accounts in total', '% of total supply', 'pax amount'])\n",
    "df"
   ]
  },
  {
   "cell_type": "markdown",
   "metadata": {},
   "source": [
    "<center></center>"
   ]
  },
  {
   "cell_type": "markdown",
   "metadata": {},
   "source": [
    "<center></center>"
   ]
  },
  {
   "cell_type": "markdown",
   "metadata": {},
   "source": [
    "## II.III. Rich list"
   ]
  },
  {
   "cell_type": "code",
   "execution_count": 32,
   "metadata": {},
   "outputs": [
    {
     "data": {
      "text/html": [
       "<div>\n",
       "<style scoped>\n",
       "    .dataframe tbody tr th:only-of-type {\n",
       "        vertical-align: middle;\n",
       "    }\n",
       "\n",
       "    .dataframe tbody tr th {\n",
       "        vertical-align: top;\n",
       "    }\n",
       "\n",
       "    .dataframe thead th {\n",
       "        text-align: right;\n",
       "    }\n",
       "</style>\n",
       "<table border=\"1\" class=\"dataframe\">\n",
       "  <thead>\n",
       "    <tr style=\"text-align: right;\">\n",
       "      <th></th>\n",
       "      <th>Unnamed: 0</th>\n",
       "      <th>address</th>\n",
       "      <th>balance</th>\n",
       "      <th>cum</th>\n",
       "      <th>nametag</th>\n",
       "    </tr>\n",
       "  </thead>\n",
       "  <tbody>\n",
       "    <tr>\n",
       "      <th>85994</th>\n",
       "      <td>85994</td>\n",
       "      <td>0x5c985e89dde482efe97ea9f1950ad149eb73829b</td>\n",
       "      <td>4375407.001</td>\n",
       "      <td>78322708.508</td>\n",
       "      <td>Huobi 5</td>\n",
       "    </tr>\n",
       "    <tr>\n",
       "      <th>85995</th>\n",
       "      <td>85995</td>\n",
       "      <td>0x611479ce1d3d457ffe9fb2abbaf8d3fe2ad8fffb</td>\n",
       "      <td>5000075.001</td>\n",
       "      <td>83322783.509</td>\n",
       "      <td>NaN</td>\n",
       "    </tr>\n",
       "    <tr>\n",
       "      <th>85996</th>\n",
       "      <td>85996</td>\n",
       "      <td>0x2a549b4af9ec39b03142da6dc32221fc390b5533</td>\n",
       "      <td>5145839.147</td>\n",
       "      <td>88468622.656</td>\n",
       "      <td>NaN</td>\n",
       "    </tr>\n",
       "    <tr>\n",
       "      <th>85997</th>\n",
       "      <td>85997</td>\n",
       "      <td>0x8a91c9a16cd62693649d80afa85a09dbbdcb8508</td>\n",
       "      <td>5572046.493</td>\n",
       "      <td>94040669.150</td>\n",
       "      <td>MMM BSC</td>\n",
       "    </tr>\n",
       "    <tr>\n",
       "      <th>85998</th>\n",
       "      <td>85998</td>\n",
       "      <td>0xc5a8859c44ac8aa2169afacf45b87c08593bec10</td>\n",
       "      <td>5844027.730</td>\n",
       "      <td>99884696.880</td>\n",
       "      <td>NaN</td>\n",
       "    </tr>\n",
       "    <tr>\n",
       "      <th>85999</th>\n",
       "      <td>85999</td>\n",
       "      <td>0x3f5ce5fbfe3e9af3971dd833d26ba9b5c936f0be</td>\n",
       "      <td>5940703.355</td>\n",
       "      <td>105825400.235</td>\n",
       "      <td>Binance</td>\n",
       "    </tr>\n",
       "    <tr>\n",
       "      <th>86000</th>\n",
       "      <td>86000</td>\n",
       "      <td>0x0a1bc490eec8cdf57df1b1a3f71e82e1a057be61</td>\n",
       "      <td>7056447.640</td>\n",
       "      <td>112881847.875</td>\n",
       "      <td>NaN</td>\n",
       "    </tr>\n",
       "    <tr>\n",
       "      <th>86001</th>\n",
       "      <td>86001</td>\n",
       "      <td>0xc295485f479a45287689a1c27f7cc08d365ce938</td>\n",
       "      <td>7300000.000</td>\n",
       "      <td>120181847.875</td>\n",
       "      <td>NaN</td>\n",
       "    </tr>\n",
       "    <tr>\n",
       "      <th>86002</th>\n",
       "      <td>86002</td>\n",
       "      <td>0xf977814e90da44bfa03b6295a0616a897441acec</td>\n",
       "      <td>17300138.399</td>\n",
       "      <td>137481986.274</td>\n",
       "      <td>Binance 8</td>\n",
       "    </tr>\n",
       "    <tr>\n",
       "      <th>86003</th>\n",
       "      <td>86003</td>\n",
       "      <td>0xe62b5b82fb63f19579f35e44cf998d4819b0322a</td>\n",
       "      <td>103641260.426</td>\n",
       "      <td>241123246.700</td>\n",
       "      <td>Paxos</td>\n",
       "    </tr>\n",
       "  </tbody>\n",
       "</table>\n",
       "</div>"
      ],
      "text/plain": [
       "       Unnamed: 0                                     address       balance  \\\n",
       "85994       85994  0x5c985e89dde482efe97ea9f1950ad149eb73829b   4375407.001   \n",
       "85995       85995  0x611479ce1d3d457ffe9fb2abbaf8d3fe2ad8fffb   5000075.001   \n",
       "85996       85996  0x2a549b4af9ec39b03142da6dc32221fc390b5533   5145839.147   \n",
       "85997       85997  0x8a91c9a16cd62693649d80afa85a09dbbdcb8508   5572046.493   \n",
       "85998       85998  0xc5a8859c44ac8aa2169afacf45b87c08593bec10   5844027.730   \n",
       "85999       85999  0x3f5ce5fbfe3e9af3971dd833d26ba9b5c936f0be   5940703.355   \n",
       "86000       86000  0x0a1bc490eec8cdf57df1b1a3f71e82e1a057be61   7056447.640   \n",
       "86001       86001  0xc295485f479a45287689a1c27f7cc08d365ce938   7300000.000   \n",
       "86002       86002  0xf977814e90da44bfa03b6295a0616a897441acec  17300138.399   \n",
       "86003       86003  0xe62b5b82fb63f19579f35e44cf998d4819b0322a 103641260.426   \n",
       "\n",
       "                cum    nametag  \n",
       "85994  78322708.508    Huobi 5  \n",
       "85995  83322783.509        NaN  \n",
       "85996  88468622.656        NaN  \n",
       "85997  94040669.150    MMM BSC  \n",
       "85998  99884696.880        NaN  \n",
       "85999 105825400.235    Binance  \n",
       "86000 112881847.875        NaN  \n",
       "86001 120181847.875        NaN  \n",
       "86002 137481986.274  Binance 8  \n",
       "86003 241123246.700      Paxos  "
      ]
     },
     "execution_count": 32,
     "metadata": {},
     "output_type": "execute_result"
    }
   ],
   "source": [
    "pd.options.mode.chained_assignment = None\n",
    "df = pd.read_csv(positive_cumulated_balances)\n",
    "balance = df\n",
    "rich = df.loc[df.index[-10]:,:]\n",
    "ex = pd.read_csv(exchanges, header=None)\n",
    "loop = rich.iterrows()\n",
    "for i, j in loop:\n",
    "    if j['address'] in ex[0].tolist():\n",
    "        rich.loc[i,'nametag'] = ex[ex[0] == j['address']][1].values[0]\n",
    "\n",
    "\n",
    "rich.loc[86003,'nametag'] = 'Paxos'\n",
    "rich.loc[85997,'nametag'] = 'MMM BSC'\n",
    "\n",
    "rich"
   ]
  },
  {
   "cell_type": "markdown",
   "metadata": {},
   "source": [
    "<center></center>"
   ]
  },
  {
   "cell_type": "markdown",
   "metadata": {},
   "source": [
    "<center></center>"
   ]
  },
  {
   "cell_type": "markdown",
   "metadata": {},
   "source": [
    "## Huobi"
   ]
  },
  {
   "cell_type": "code",
   "execution_count": 33,
   "metadata": {},
   "outputs": [],
   "source": [
    "ex = pd.read_csv(exchanges, header=None)"
   ]
  },
  {
   "cell_type": "code",
   "execution_count": 34,
   "metadata": {},
   "outputs": [
    {
     "name": "stdout",
     "output_type": "stream",
     "text": [
      "Huobi Total Balance: 5917167\n",
      "2.45% of Total\n"
     ]
    }
   ],
   "source": [
    "df = ex.loc[0:73,:]\n",
    "bal = 0 \n",
    "for i in df[0]:\n",
    "    val = balance['balance'][balance['address'] == i]\n",
    "    if not val.empty:\n",
    "        bal += balance['balance'][balance['address'] == i].values[0]\n",
    "    else:\n",
    "        pass\n",
    "print('Huobi Total Balance: {:.0f}\\n{:.2f}% of Total'.format(bal, bal/balance.loc[balance.index[-1], 'cum']*100))"
   ]
  },
  {
   "cell_type": "markdown",
   "metadata": {},
   "source": [
    "<center></center>"
   ]
  },
  {
   "cell_type": "markdown",
   "metadata": {},
   "source": [
    "## Binance"
   ]
  },
  {
   "cell_type": "code",
   "execution_count": 35,
   "metadata": {},
   "outputs": [
    {
     "name": "stdout",
     "output_type": "stream",
     "text": [
      "Binance Total Balance: 26766779\n",
      "11.10% of Total\n"
     ]
    }
   ],
   "source": [
    "df = ex.loc[74:88,:]\n",
    "bal = 0 \n",
    "for i in df[0]:\n",
    "    val = balance['balance'][balance['address'] == i]\n",
    "    if not val.empty:\n",
    "        bal += balance['balance'][balance['address'] == i].values[0]\n",
    "    else:\n",
    "        pass\n",
    "print('Binance Total Balance: {:.0f}\\n{:.2f}% of Total'.format(bal, bal/balance.loc[balance.index[-1], 'cum']*100))"
   ]
  },
  {
   "cell_type": "markdown",
   "metadata": {},
   "source": [
    "<center></center>"
   ]
  },
  {
   "cell_type": "markdown",
   "metadata": {},
   "source": [
    "## Bitfinex"
   ]
  },
  {
   "cell_type": "code",
   "execution_count": 36,
   "metadata": {},
   "outputs": [
    {
     "name": "stdout",
     "output_type": "stream",
     "text": [
      "Bitfinex Total Balance: 76526\n",
      "0.03% of Total\n"
     ]
    }
   ],
   "source": [
    "df = ex.loc[89:110,:]\n",
    "bal = 0 \n",
    "for i in df[0]:\n",
    "    val = balance['balance'][balance['address'] == i]\n",
    "    if not val.empty:\n",
    "        bal += balance['balance'][balance['address'] == i].values[0]\n",
    "    else:\n",
    "        pass\n",
    "print('Bitfinex Total Balance: {:.0f}\\n{:.2f}% of Total'.format(bal, bal/balance.loc[balance.index[-1], 'cum']*100))"
   ]
  },
  {
   "cell_type": "markdown",
   "metadata": {},
   "source": [
    "<center></center>"
   ]
  },
  {
   "cell_type": "markdown",
   "metadata": {},
   "source": [
    "## OKEx"
   ]
  },
  {
   "cell_type": "code",
   "execution_count": 37,
   "metadata": {},
   "outputs": [
    {
     "name": "stdout",
     "output_type": "stream",
     "text": [
      "OKEx Total Balance: 1591858\n",
      "0.66% of Total\n"
     ]
    }
   ],
   "source": [
    "df = ex.loc[111:115,:]\n",
    "bal = 0 \n",
    "for i in df[0]:\n",
    "    val = balance['balance'][balance['address'] == i]\n",
    "    if not val.empty:\n",
    "        bal += balance['balance'][balance['address'] == i].values[0]\n",
    "    else:\n",
    "        pass\n",
    "print('OKEx Total Balance: {:.0f}\\n{:.2f}% of Total'.format(bal, bal/balance.loc[balance.index[-1], 'cum']*100))"
   ]
  },
  {
   "cell_type": "markdown",
   "metadata": {},
   "source": [
    "<center></center>"
   ]
  },
  {
   "cell_type": "markdown",
   "metadata": {},
   "source": [
    "## Bittrex"
   ]
  },
  {
   "cell_type": "code",
   "execution_count": 38,
   "metadata": {},
   "outputs": [
    {
     "name": "stdout",
     "output_type": "stream",
     "text": [
      "Bittrex Total Balance: 211346\n",
      "0.09% of Total\n"
     ]
    }
   ],
   "source": [
    "df = ex.loc[116:119,:]\n",
    "bal = 0 \n",
    "for i in df[0]:\n",
    "    val = balance['balance'][balance['address'] == i]\n",
    "    if not val.empty:\n",
    "        bal += balance['balance'][balance['address'] == i].values[0]\n",
    "    else:\n",
    "        pass\n",
    "print('Bittrex Total Balance: {:.0f}\\n{:.2f}% of Total'.format(bal, bal/balance.loc[balance.index[-1], 'cum']*100))"
   ]
  },
  {
   "cell_type": "markdown",
   "metadata": {},
   "source": [
    "<center></center>"
   ]
  },
  {
   "cell_type": "markdown",
   "metadata": {},
   "source": [
    "## Compound"
   ]
  },
  {
   "cell_type": "code",
   "execution_count": 39,
   "metadata": {},
   "outputs": [
    {
     "name": "stdout",
     "output_type": "stream",
     "text": [
      "Compound Total Balance: 0\n",
      "0.00% of Total\n"
     ]
    }
   ],
   "source": [
    "df = ex.loc[151:179,:]\n",
    "bal = 0 \n",
    "for i in df[0]:\n",
    "    val = balance['balance'][balance['address'] == i]\n",
    "    if not val.empty:\n",
    "        bal += balance['balance'][balance['address'] == i].values[0]\n",
    "    else:\n",
    "        pass\n",
    "print('Compound Total Balance: {:.0f}\\n{:.2f}% of Total'.format(bal, bal/balance.loc[balance.index[-1], 'cum']*100))"
   ]
  },
  {
   "cell_type": "markdown",
   "metadata": {},
   "source": [
    "<center></center>"
   ]
  },
  {
   "cell_type": "markdown",
   "metadata": {},
   "source": [
    "## Poloniex"
   ]
  },
  {
   "cell_type": "code",
   "execution_count": 40,
   "metadata": {},
   "outputs": [
    {
     "name": "stdout",
     "output_type": "stream",
     "text": [
      "Poloniex Total Balance: 44940\n",
      "0.02% of Total\n"
     ]
    }
   ],
   "source": [
    "df = ex.loc[247:266,:]\n",
    "bal = 0 \n",
    "for i in df[0]:\n",
    "    val = balance['balance'][balance['address'] == i]\n",
    "    if not val.empty:\n",
    "        bal += balance['balance'][balance['address'] == i].values[0]\n",
    "    else:\n",
    "        pass\n",
    "print('Poloniex Total Balance: {:.0f}\\n{:.2f}% of Total'.format(bal, bal/balance.loc[balance.index[-1], 'cum']*100))"
   ]
  },
  {
   "cell_type": "markdown",
   "metadata": {},
   "source": [
    "<center></center>"
   ]
  },
  {
   "cell_type": "markdown",
   "metadata": {},
   "source": [
    "<center></center>"
   ]
  },
  {
   "cell_type": "markdown",
   "metadata": {},
   "source": [
    "<center></center>"
   ]
  },
  {
   "cell_type": "markdown",
   "metadata": {},
   "source": [
    "# II. IV. Pie Chart"
   ]
  },
  {
   "cell_type": "code",
   "execution_count": 41,
   "metadata": {},
   "outputs": [
    {
     "name": "stdout",
     "output_type": "stream",
     "text": [
      "\n"
     ]
    }
   ],
   "source": [
    "df = pd.read_csv(positive_cumulated_balances, index_col='Unnamed: 0')\n",
    "aa = df.iloc[df.index[-1]-80:]\n",
    "bb = df['balance'].iloc[:df.index[-1]-80]\n",
    "df = aa.append(pd.DataFrame({'address': 'others', 'balance': sum(bb)}, index=[0]))\n",
    "label = []\n",
    "counter = 0\n",
    "def getlabel(i):\n",
    "    global counter\n",
    "    if i:\n",
    "        if not i == 'others':\n",
    "            label.append(i + '...')\n",
    "        else:\n",
    "            label.append(i)\n",
    "    else:\n",
    "        label.append('')\n",
    "    counter += 1\n",
    "    \n",
    "[getlabel(i[:6]) if counter >= len(df)-11 else getlabel('') for i in df['address']  ]\n",
    "print()"
   ]
  },
  {
   "cell_type": "code",
   "execution_count": null,
   "metadata": {},
   "outputs": [],
   "source": [
    "print('\\n\\n')\n",
    "# Colorspace colors by: https://colorspace.r-forge.r-project.org/index.html\n",
    "\n",
    "colorspace_set3 = ['#EEBD92','#FFB3B5','#85D0F2','#BCC3FE','#E7B5F5', \n",
    "                 '#FEAFDA', '#61D8D6','#76D9B1','#A4D390','#CFC982']\n",
    "colorsp_dynamic =['#DB9D85', '#87AEDF', '#9DB469', '#6DBC86', '#3DBEAB', \n",
    "                  '#4CB9CC', '#C2A968', '#BB9FE0', '#DA95CC', '#E494AB']\n",
    "colorspa_dark_3 = ['#B675E0','#5991E4','#00AA5A','#6F9F00','#CE7D3B']\n",
    "colorspa_dyna_5 = ['#9DB469','#87AEDF','#DA95CC', '#DB9D85','#3DBEAB']\n",
    "\n",
    "fig = plt.figure(figsize=(25,15), dpi=400)\n",
    "ax = fig.add_subplot()\n",
    "aa = plt.pie(df['balance'],colors=colorsp_dynamic, \n",
    "             labels=label,\n",
    "             autopct=lambda x: r'{:.1f}\\%'.format(x) if x > 1.5 else r'{:.0f}\\%'.format(x) if x > 5  else '', \n",
    "             pctdistance= 0.8, \n",
    "             labeldistance= 1.05, \n",
    "             radius=1, \n",
    "             explode=[0.05 for i in range(0, len(df['balance']))],\n",
    "             wedgeprops = {'linewidth': 0.8, 'edgecolor':'k'}, \n",
    "             startangle=250) \n",
    "\n",
    "# Custom Modifications\n",
    "#aa[-1][-1].set_x(-0.7268917458682129)\n",
    "aa[-1][-1].set_fontsize(35)\n",
    "aa[-1][-2].set_fontsize(30)\n",
    "#aa[-1][-2].set_x(0.19977073082370535)\n",
    "#aa[-1][-2].set_y(0.8000006952023211)\n",
    "aa[-1][-3].set_fontsize(27)\n",
    "aa[-1][-4].set_fontsize(23)\n",
    "aa[-1][-5].set_fontsize(20)\n",
    "aa[-1][-6].set_fontsize(16)\n",
    "aa[-1][-7].set_fontsize(13)\n",
    "aa[-1][-8].set_fontsize(9)\n",
    "aa[-1][-9].set_fontsize(9)\n",
    "aa[-1][-10].set_fontsize(9)\n",
    "aa[-1][-11].set_fontsize(8)\n",
    "\n",
    "fontsize = -43\n",
    "for i in aa[1]:\n",
    "    i.set_fontsize(fontsize)\n",
    "    fontsize += 1\n",
    "aa[1][-1].set_fontsize(55)\n",
    "plt.tight_layout(pad=5)\n",
    "plt.title('P A X \\ \\ D i s t r i b u t i o n', fontsize = 50)\n",
    "circ = plt.Circle((0,0),0.5,color='black', fc='white',linewidth=1.25)\n",
    "ax.add_artist(circ)\n",
    "plt.savefig('../pics/paxos/paxos_distribution_pie.pdf')"
   ]
  },
  {
   "cell_type": "markdown",
   "metadata": {},
   "source": [
    "## II.V. Lorenz curve"
   ]
  },
  {
   "cell_type": "code",
   "execution_count": 43,
   "metadata": {},
   "outputs": [
    {
     "data": {
      "text/html": [
       "<div>\n",
       "<style scoped>\n",
       "    .dataframe tbody tr th:only-of-type {\n",
       "        vertical-align: middle;\n",
       "    }\n",
       "\n",
       "    .dataframe tbody tr th {\n",
       "        vertical-align: top;\n",
       "    }\n",
       "\n",
       "    .dataframe thead th {\n",
       "        text-align: right;\n",
       "    }\n",
       "</style>\n",
       "<table border=\"1\" class=\"dataframe\">\n",
       "  <thead>\n",
       "    <tr style=\"text-align: right;\">\n",
       "      <th></th>\n",
       "      <th>address</th>\n",
       "      <th>balance</th>\n",
       "      <th>cum</th>\n",
       "    </tr>\n",
       "  </thead>\n",
       "  <tbody>\n",
       "    <tr>\n",
       "      <th>0</th>\n",
       "      <td>0xee28d3003b34e011e8390ef8bb6e2c8cf0c1f444</td>\n",
       "      <td>0.000</td>\n",
       "      <td>0.000</td>\n",
       "    </tr>\n",
       "    <tr>\n",
       "      <th>1</th>\n",
       "      <td>0xfa9a04678e55f8e6c99379dded3329852534d3c2</td>\n",
       "      <td>0.000</td>\n",
       "      <td>0.000</td>\n",
       "    </tr>\n",
       "    <tr>\n",
       "      <th>2</th>\n",
       "      <td>0x5143fd9259cf7c752f87964d8814be9c49f3fe52</td>\n",
       "      <td>0.000</td>\n",
       "      <td>0.000</td>\n",
       "    </tr>\n",
       "    <tr>\n",
       "      <th>3</th>\n",
       "      <td>0x0b5b79ec6aca02f3035be09787cf41e6f40abae1</td>\n",
       "      <td>0.000</td>\n",
       "      <td>0.000</td>\n",
       "    </tr>\n",
       "    <tr>\n",
       "      <th>4</th>\n",
       "      <td>0x02a0f7692487de621ef9433de15103f5a88c178b</td>\n",
       "      <td>0.000</td>\n",
       "      <td>0.000</td>\n",
       "    </tr>\n",
       "    <tr>\n",
       "      <th>...</th>\n",
       "      <td>...</td>\n",
       "      <td>...</td>\n",
       "      <td>...</td>\n",
       "    </tr>\n",
       "    <tr>\n",
       "      <th>85999</th>\n",
       "      <td>0x3f5ce5fbfe3e9af3971dd833d26ba9b5c936f0be</td>\n",
       "      <td>5940703.355</td>\n",
       "      <td>105825400.235</td>\n",
       "    </tr>\n",
       "    <tr>\n",
       "      <th>86000</th>\n",
       "      <td>0x0a1bc490eec8cdf57df1b1a3f71e82e1a057be61</td>\n",
       "      <td>7056447.640</td>\n",
       "      <td>112881847.875</td>\n",
       "    </tr>\n",
       "    <tr>\n",
       "      <th>86001</th>\n",
       "      <td>0xc295485f479a45287689a1c27f7cc08d365ce938</td>\n",
       "      <td>7300000.000</td>\n",
       "      <td>120181847.875</td>\n",
       "    </tr>\n",
       "    <tr>\n",
       "      <th>86002</th>\n",
       "      <td>0xf977814e90da44bfa03b6295a0616a897441acec</td>\n",
       "      <td>17300138.399</td>\n",
       "      <td>137481986.274</td>\n",
       "    </tr>\n",
       "    <tr>\n",
       "      <th>86003</th>\n",
       "      <td>0xe62b5b82fb63f19579f35e44cf998d4819b0322a</td>\n",
       "      <td>103641260.426</td>\n",
       "      <td>241123246.700</td>\n",
       "    </tr>\n",
       "  </tbody>\n",
       "</table>\n",
       "<p>86004 rows × 3 columns</p>\n",
       "</div>"
      ],
      "text/plain": [
       "                                          address       balance           cum\n",
       "0      0xee28d3003b34e011e8390ef8bb6e2c8cf0c1f444         0.000         0.000\n",
       "1      0xfa9a04678e55f8e6c99379dded3329852534d3c2         0.000         0.000\n",
       "2      0x5143fd9259cf7c752f87964d8814be9c49f3fe52         0.000         0.000\n",
       "3      0x0b5b79ec6aca02f3035be09787cf41e6f40abae1         0.000         0.000\n",
       "4      0x02a0f7692487de621ef9433de15103f5a88c178b         0.000         0.000\n",
       "...                                           ...           ...           ...\n",
       "85999  0x3f5ce5fbfe3e9af3971dd833d26ba9b5c936f0be   5940703.355 105825400.235\n",
       "86000  0x0a1bc490eec8cdf57df1b1a3f71e82e1a057be61   7056447.640 112881847.875\n",
       "86001  0xc295485f479a45287689a1c27f7cc08d365ce938   7300000.000 120181847.875\n",
       "86002  0xf977814e90da44bfa03b6295a0616a897441acec  17300138.399 137481986.274\n",
       "86003  0xe62b5b82fb63f19579f35e44cf998d4819b0322a 103641260.426 241123246.700\n",
       "\n",
       "[86004 rows x 3 columns]"
      ]
     },
     "execution_count": 43,
     "metadata": {},
     "output_type": "execute_result"
    }
   ],
   "source": [
    "df = pd.read_csv(positive_cumulated_balances, index_col = 'Unnamed: 0')\n",
    "df"
   ]
  },
  {
   "cell_type": "code",
   "execution_count": 44,
   "metadata": {},
   "outputs": [],
   "source": [
    "y_all = df['cum']/df['cum'].iloc[-1]\n",
    "x_all = (np.arange(start = 0 , stop = len(df['cum']), step = 1)/(len(df['cum'])))\n",
    "\n",
    "y_25_75 = df['cum'].iloc[int(df.index[-1]*0.25):int(df.index[-1]*0.75)]\n",
    "y_25_75 = y_25_75/max(y_25_75)\n",
    "x_25_75 = np.arange(start = 0 , stop = len(y_25_75), step = 1)/(len(y_25_75))"
   ]
  },
  {
   "cell_type": "code",
   "execution_count": 45,
   "metadata": {},
   "outputs": [
    {
     "name": "stdout",
     "output_type": "stream",
     "text": [
      "Q3-Q1 (in pax):\n"
     ]
    },
    {
     "data": {
      "text/plain": [
       "count    43002.000000\n",
       "mean         8.477693\n",
       "std         10.402178\n",
       "min          0.126041\n",
       "25%          0.950017\n",
       "50%          4.689466\n",
       "75%         10.828251\n",
       "max         45.100000\n",
       "Name: balance, dtype: object"
      ]
     },
     "execution_count": 45,
     "metadata": {},
     "output_type": "execute_result"
    }
   ],
   "source": [
    "print('Q3-Q1 (in pax):')\n",
    "df['balance'].iloc[int(df.index[-1]*0.25):int(df.index[-1]*0.75)].describe().apply(lambda x: format(x/(10**0), 'f'))"
   ]
  },
  {
   "cell_type": "code",
   "execution_count": null,
   "metadata": {},
   "outputs": [],
   "source": [
    "print('\\n\\n')\n",
    "fig = plt.figure(figsize=(15,15))\n",
    "ax = fig.add_subplot()\n",
    "plt.grid()\n",
    "plt.title(r'L o r e n z \\ \\ C u r v e'+'\\n', fontsize=50)\n",
    "plt.xlabel('\\n'+r'\\% \\ \\ of \\ \\ A d d r e s s e s', fontsize=30)\n",
    "plt.ylabel(r'\\% \\ o f \\ \\ t o t a l \\ \\ P A X \\ \\ s u p p l y'+'\\n',  fontsize=30)\n",
    "plt.xticks(fontsize=20)\n",
    "plt.yticks(fontsize=20)\n",
    "ax.plot(x_all,y_all, linewidth = 5, color = '#2D728F', label = r'$\\ All$')\n",
    "ax.plot(x_25_75,y_25_75, linewidth = 5, color = '#87AEDF', label = r'$\\ Q_3 - Q_1$')\n",
    "plt.legend(fontsize= 35)\n",
    "plt.plot([0, 1], [0, 1], transform=ax.transAxes, linewidth = 4, ls = (0, (5, 10)), color = 'black')\n",
    "ax.set_xlim([0,1.05])\n",
    "plt.savefig('../pics/paxos/paxos_lorenzcurve.pdf')"
   ]
  }
 ],
 "metadata": {
  "kernelspec": {
   "display_name": "master_thesis",
   "language": "python",
   "name": "master_thesis"
  },
  "language_info": {
   "codemirror_mode": {
    "name": "ipython",
    "version": 3
   },
   "file_extension": ".py",
   "mimetype": "text/x-python",
   "name": "python",
   "nbconvert_exporter": "python",
   "pygments_lexer": "ipython3",
   "version": "3.6.9"
  }
 },
 "nbformat": 4,
 "nbformat_minor": 4
}
