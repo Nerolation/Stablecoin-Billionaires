{
 "cells": [
  {
   "cell_type": "markdown",
   "metadata": {},
   "source": [
    "# Stablecoin Billionaires<br> Descriptive Analysis of the Ethereum-based Stablecoin ecosystem "
   ]
  },
  {
   "cell_type": "markdown",
   "metadata": {},
   "source": [
    "## by Anton Wahrstätter, 01.07.2020"
   ]
  },
  {
   "cell_type": "markdown",
   "metadata": {},
   "source": [
    "# Analytics Part of the thesis"
   ]
  },
  {
   "cell_type": "code",
   "execution_count": 1,
   "metadata": {},
   "outputs": [],
   "source": [
    "import numpy as np\n",
    "import pandas as pd\n",
    "import matplotlib\n",
    "import matplotlib.pyplot as plt\n",
    "from datetime import datetime\n",
    "from collections import Counter\n",
    "from matplotlib import rc"
   ]
  },
  {
   "cell_type": "code",
   "execution_count": 2,
   "metadata": {},
   "outputs": [],
   "source": [
    "#plots\n",
    "exchanges = 'plots/exchanges.csv'\n",
    "\n",
    "dai_tx_over_date = 'plots/dai/dai_txs_over_date.csv'\n",
    "dai_balances = 'plots/dai/dai_balances.csv'\n",
    "dai_positive_cumulated_balances = 'plots/dai/dai_positive_cumulated_balances.csv'\n",
    "dai_circulating_supply = 'plots/dai/dai_circulating_supply.csv'\n",
    "\n",
    "tether_tx_over_date = 'plots/tether/tether_txs_over_date.csv'\n",
    "tether_balances = 'plots/tether/tether_balances.csv'\n",
    "tether_positive_cumulated_balances = 'plots/tether/tether_positive_cumulated_balances.csv'\n",
    "tether_circulating_supply = 'plots/tether/tether_circulating_supply.csv'\n",
    "tether_chunk5 = 'data/tether/transfer/5_tether_transfer_10176691-10370273.csv' \n",
    "\n",
    "usdc_tx_over_date = 'plots/usdc/usdc_txs_over_date.csv'\n",
    "usdc_balances = 'plots/usdc/usdc_balances.csv'\n",
    "usdc_positive_cumulated_balances = 'plots/usdc/usdc_positive_cumulated_balances.csv'\n",
    "usdc_circulating_supply = 'plots/usdc/usdc_circulating_supply.csv'\n",
    "\n",
    "\n",
    "paxos_tx_over_date = 'plots/paxos/paxos_txs_over_date.csv'\n",
    "paxos_balances = 'plots/paxos/paxos_balances.csv'\n",
    "paxos_positive_cumulated_balances = 'plots/paxos/paxos_positive_cumulated_balances.csv'\n",
    "paxos_circulating_supply = 'plots/paxos/paxos_circulating_supply.csv'\n",
    "paxos_tx_count_to = 'plots/paxos/paxos_tx_count_to.csv'\n",
    "paxos_tx_count_from = 'plots/paxos/paxos_tx_count_from.csv'\n",
    "\n",
    "\n",
    "trueusd_tx_over_date = 'plots/trueusd/trueusd_txs_over_date.csv'\n",
    "trueusd_balances = 'plots/trueusd/trueusd_balances.csv'\n",
    "trueusd_positive_cumulated_balances = 'plots/trueusd/trueusd_positive_cumulated_balances.csv'\n",
    "trueusd_circulating_supply = 'plots/trueusd/trueusd_circulating_supply.csv'\n",
    "\n",
    "\n",
    "binanceusd_tx_over_date = 'plots/binanceusd/binanceusd_txs_over_date.csv'\n",
    "binanceusd_balances = 'plots/binanceusd/binanceusd_balances.csv'\n",
    "binanceusd_positive_cumulated_balances = 'plots/binanceusd/binanceusd_positive_cumulated_balances.csv'\n",
    "binanceusd_circulating_supply = 'plots/binanceusd/binanceusd_circulating_supply.csv'\n",
    "\n",
    "\n",
    "husd_tx_over_date = 'plots/husd/husd_txs_over_date.csv'\n",
    "husd_balances = 'plots/husd/husd_balances.csv'\n",
    "husd_positive_cumulated_balances = 'plots/husd/husd_positive_cumulated_balances.csv'\n",
    "husd_circulating_supply = 'plots/husd/husd_circulating_supply.csv'\n",
    "\n",
    "#data \n",
    "\n",
    "#tether\n",
    "tether_transfer = 'data/tether/transfer/tether_transfers.csv'\n",
    "tether_mint = 'data/tether/issue/tether_issue.csv'\n",
    "tether_burn = 'data/tether/destroyedblackfunds/tether_destroyedblackfunds.csv'\n",
    "\n",
    "#usdc\n",
    "usdc_transfer = 'data/usdc/transfer/0_usdc_transfer_6082465-10370273.csv' \n",
    "usdc_mint = 'data/usdc/mint/usdc_mint.csv' \n",
    "usdc_burn = 'data/usdc/burn/usdc_burn.csv' \n",
    "\n",
    "#paxos\n",
    "paxos_transfer = 'data/paxos/transfer/0_paxos_transfer_6294931-10370273.csv' \n",
    "paxos_mint = 'data/paxos/supplyincreased/paxos_supplyincreased.csv'\n",
    "paxos_burn = 'data/paxos/supplydecreased/paxos_supplydecreased.csv'\n",
    "\n",
    "#dai\n",
    "dai_transfer = 'data/dai/transfer/0_dai_transfer_8928158-10370273.csv' \n",
    "dai_mint = 'data/dai/mint/dai_mint.csv'\n",
    "dai_burn = 'data/dai/burn/dai_burn.csv'\n",
    "\n",
    "\n",
    "#trueusd\n",
    "trueusd_transfer = 'data/trueusd/transfer/0_trueUSD_transfer_5198636-10370273.csv'\n",
    "trueusd_mint = 'data/trueusd/mint/trueusd_mint.csv'\n",
    "trueusd_burn = 'data/trueusd/burn/trueusd_burn.csv'\n",
    "\n",
    "\n",
    "#binance usd\n",
    "binanceusd_transfer = 'data/binanceusd/transfer/0_binanceusd_transfer_8493105-10370273.csv'\n",
    "binanceusd_mint = 'data/binanceusd/supplyincreased/binanceusd_supplyincreased.csv'\n",
    "binanceusd_burn = 'data/binanceusd/supplydecreased/binanceusd_supplydecreased.csv'\n",
    "\n",
    "\n",
    "#husd\n",
    "husd_transfer = 'data/husd/transfer/0_husd_transfer_8174400-10370273.csv'\n",
    "husd_mint = 'data/husd/issue/husd_issue.csv'\n",
    "husd_burn = 'data/husd/redeem/husd_redeem.csv'\n",
    "\n",
    "\n",
    "_all_transfer = [tether_tx_over_date, usdc_tx_over_date, paxos_tx_over_date, dai_tx_over_date, trueusd_tx_over_date, binanceusd_tx_over_date, husd_tx_over_date]\n",
    "\n",
    "\n",
    "_all = [usdc_transfer,usdc_mint,\n",
    "        usdc_burn,paxos_transfer,paxos_mint,paxos_burn,dai_transfer,tether_transfer,tether_mint,tether_burn,\n",
    "        dai_mint,dai_burn,trueusd_transfer,trueusd_mint,trueusd_burn,\n",
    "        binanceusd_transfer,binanceusd_mint,binanceusd_burn,husd_transfer,husd_mint,husd_burn]\n",
    "\n",
    "_all_tx = [usdc_transfer,paxos_transfer,dai_transfer,tether_transfer,\n",
    "           trueusd_transfer,binanceusd_transfer,husd_transfer]\n",
    "\n",
    "_all_mint = [usdc_mint,paxos_mint,dai_mint,tether_mint,\n",
    "           trueusd_mint,binanceusd_mint,husd_mint]\n",
    "\n",
    "_all_burn = [usdc_burn,paxos_burn,dai_burn,tether_burn,\n",
    "           trueusd_burn,binanceusd_burn,husd_burn]\n",
    "\n",
    "_all_non_transfer = [tether_mint,tether_burn,usdc_mint,usdc_burn,paxos_mint,\n",
    "                     paxos_burn,dai_mint,dai_burn,trueusd_mint,trueusd_burn,\n",
    "                     binanceusd_mint,binanceusd_burn,husd_mint,husd_burn]\n",
    "\n",
    "_all_positive_cumulated_balances = [dai_positive_cumulated_balances, tether_positive_cumulated_balances,\n",
    "                                    usdc_positive_cumulated_balances, paxos_positive_cumulated_balances, \n",
    "                                    trueusd_positive_cumulated_balances, \n",
    "                                    binanceusd_positive_cumulated_balances, husd_positive_cumulated_balances]\n",
    "\n",
    "_all_balances = [dai_balances, tether_balances, usdc_balances, paxos_balances, \n",
    "                 trueusd_balances, binanceusd_balances, husd_balances]"
   ]
  },
  {
   "cell_type": "markdown",
   "metadata": {},
   "source": [
    "<center></center>"
   ]
  },
  {
   "cell_type": "markdown",
   "metadata": {},
   "source": [
    "<center></center>"
   ]
  },
  {
   "cell_type": "markdown",
   "metadata": {},
   "source": [
    "<center></center>"
   ]
  },
  {
   "cell_type": "markdown",
   "metadata": {},
   "source": [
    "# Data"
   ]
  },
  {
   "cell_type": "code",
   "execution_count": 3,
   "metadata": {},
   "outputs": [
    {
     "name": "stdout",
     "output_type": "stream",
     "text": [
      "The dataset consisists of 48983417 rows\n"
     ]
    }
   ],
   "source": [
    "rows = 0\n",
    "for i in _all:\n",
    "    rows += pd.read_csv(i).describe().loc['count','timestamp']\n",
    "print('The dataset consisists of {:.0f} rows'.format(rows))"
   ]
  },
  {
   "cell_type": "markdown",
   "metadata": {},
   "source": [
    "Non Transfer Events"
   ]
  },
  {
   "cell_type": "code",
   "execution_count": 4,
   "metadata": {},
   "outputs": [
    {
     "name": "stdout",
     "output_type": "stream",
     "text": [
      "The dataset consisists of 352065 rows that are not Transfer Events\n"
     ]
    }
   ],
   "source": [
    "rows_non_transfer = 0\n",
    "for i in _all_non_transfer:\n",
    "    rows_non_transfer += pd.read_csv(i).describe().loc['count','timestamp']\n",
    "print('The dataset consisists of {:.0f} rows that are not Transfer Events'.format(rows_non_transfer))"
   ]
  },
  {
   "cell_type": "code",
   "execution_count": 5,
   "metadata": {},
   "outputs": [
    {
     "name": "stdout",
     "output_type": "stream",
     "text": [
      "In total, 48,631,352 Transfer Events\n",
      "In total, 99.28% of all Events are Transfer Events\n"
     ]
    }
   ],
   "source": [
    "print('In total, {:,.0f} Transfer Events'.format(48983417-352065))\n",
    "print('In total, {:.2f}% of all Events are Transfer Events'.format((48983417-352065)/48983417*100))"
   ]
  },
  {
   "cell_type": "code",
   "execution_count": 6,
   "metadata": {},
   "outputs": [
    {
     "name": "stdout",
     "output_type": "stream",
     "text": [
      "440,498,614 observations in total\n"
     ]
    }
   ],
   "source": [
    "print('{:,.0f} observations in total'.format(48631352*9+352065*8-74))"
   ]
  },
  {
   "cell_type": "markdown",
   "metadata": {},
   "source": [
    "<center></center>"
   ]
  },
  {
   "cell_type": "markdown",
   "metadata": {},
   "source": [
    "## Unique Transactions (!Transfers)'"
   ]
  },
  {
   "cell_type": "code",
   "execution_count": 7,
   "metadata": {},
   "outputs": [
    {
     "name": "stdout",
     "output_type": "stream",
     "text": [
      "The Transfer Events were included in 46,204,011 transactions\n"
     ]
    }
   ],
   "source": [
    "rows_transactions = 0\n",
    "for i in _all_tx:\n",
    "    rows_transactions += len(pd.read_csv(i)['txhash'].unique())\n",
    "\n",
    "print('The Transfer Events were included in {:,.0f} transactions'.format(rows_transactions))"
   ]
  },
  {
   "cell_type": "markdown",
   "metadata": {},
   "source": [
    "<center></center>"
   ]
  },
  {
   "cell_type": "markdown",
   "metadata": {},
   "source": [
    "<center></center>"
   ]
  },
  {
   "cell_type": "markdown",
   "metadata": {},
   "source": [
    "<center></center>"
   ]
  },
  {
   "cell_type": "markdown",
   "metadata": {},
   "source": [
    "# 4.1.1 Transfers"
   ]
  },
  {
   "cell_type": "markdown",
   "metadata": {},
   "source": [
    "## Transfers per Transaction"
   ]
  },
  {
   "cell_type": "code",
   "execution_count": 8,
   "metadata": {},
   "outputs": [
    {
     "name": "stdout",
     "output_type": "stream",
     "text": [
      "Transfers/Transaction: 1.05\n"
     ]
    }
   ],
   "source": [
    "print('Transfers/Transaction: {:,.2f}'.format(48631352/46204011))"
   ]
  },
  {
   "cell_type": "markdown",
   "metadata": {},
   "source": [
    "## TetherTransfers/Total Transfers"
   ]
  },
  {
   "cell_type": "code",
   "execution_count": 9,
   "metadata": {},
   "outputs": [
    {
     "name": "stdout",
     "output_type": "stream",
     "text": [
      "Tether Transfers/Total Transfers: 0.81\n"
     ]
    }
   ],
   "source": [
    "print('Tether Transfers/Total Transfers: {:,.2f}'.format(39501960/48631352))"
   ]
  },
  {
   "cell_type": "markdown",
   "metadata": {},
   "source": [
    "## Tether Transfer Rise 2020"
   ]
  },
  {
   "cell_type": "code",
   "execution_count": 10,
   "metadata": {},
   "outputs": [
    {
     "name": "stdout",
     "output_type": "stream",
     "text": [
      "Transfers from January 1st until July 1st increased by 516.8 %\n"
     ]
    }
   ],
   "source": [
    "print('Transfers from January 1st until July 1st increased by {:,.1f} %'.format(pd.read_csv(tether_tx_over_date, index_col=0).loc[945,]['txs']/pd.read_csv(tether_tx_over_date, index_col=0).loc[764,]['txs']*100))"
   ]
  },
  {
   "cell_type": "markdown",
   "metadata": {},
   "source": [
    "## Others"
   ]
  },
  {
   "cell_type": "code",
   "execution_count": 11,
   "metadata": {},
   "outputs": [
    {
     "name": "stdout",
     "output_type": "stream",
     "text": [
      "Transfers from January 1st until July 1st increased by 367.4 % from 9,304 to 34,181\n"
     ]
    }
   ],
   "source": [
    "idx = pd.date_range('01/01/2020', '30/06/2020')\n",
    "_all = {}\n",
    "for i in _all_transfer:\n",
    "    token = i.split('/')[1]\n",
    "    df = pd.read_csv(i, index_col='dates').drop('Unnamed: 0', axis=1)\n",
    "    df.index = pd.DatetimeIndex(df.index)\n",
    "    _all[token] = df.reindex(idx, fill_value=0).loc['01/01/2020':,:]\n",
    "others = _all['usdc']+_all['paxos']+_all['dai']+_all['trueusd']+_all['binanceusd']+_all['husd']\n",
    "print('Transfers from January 1st until July 1st increased by {:,.1f} % from {:,.0f} to {:,.0f}'.format(float(others.loc['2020-06-30',]/others.loc['2020-01-01',])*100, float(others.loc['2020-01-01',]), float(others.loc['2020-06-30',])))"
   ]
  },
  {
   "cell_type": "markdown",
   "metadata": {},
   "source": [
    "## Paxos Scammer"
   ]
  },
  {
   "cell_type": "code",
   "execution_count": 12,
   "metadata": {},
   "outputs": [
    {
     "data": {
      "text/html": [
       "<div>\n",
       "<style scoped>\n",
       "    .dataframe tbody tr th:only-of-type {\n",
       "        vertical-align: middle;\n",
       "    }\n",
       "\n",
       "    .dataframe tbody tr th {\n",
       "        vertical-align: top;\n",
       "    }\n",
       "\n",
       "    .dataframe thead th {\n",
       "        text-align: right;\n",
       "    }\n",
       "</style>\n",
       "<table border=\"1\" class=\"dataframe\">\n",
       "  <thead>\n",
       "    <tr style=\"text-align: right;\">\n",
       "      <th></th>\n",
       "      <th></th>\n",
       "      <th>txs</th>\n",
       "    </tr>\n",
       "    <tr>\n",
       "      <th></th>\n",
       "      <th>tag</th>\n",
       "      <th></th>\n",
       "    </tr>\n",
       "  </thead>\n",
       "  <tbody>\n",
       "    <tr>\n",
       "      <th>0x65bf64ff5f51272f729bdcd7acfb00677ced86cd</th>\n",
       "      <th>Kyber: Contract</th>\n",
       "      <td>31926</td>\n",
       "    </tr>\n",
       "    <tr>\n",
       "      <th>0xc88f7666330b4b511358b7742dc2a3234710e7b1</th>\n",
       "      <th>Scammer</th>\n",
       "      <td>135484</td>\n",
       "    </tr>\n",
       "    <tr>\n",
       "      <th>0x6f7b74aa23cabd638d7ebe804577043c435192b9</th>\n",
       "      <th>-</th>\n",
       "      <td>162555</td>\n",
       "    </tr>\n",
       "    <tr>\n",
       "      <th>0x8a91c9a16cd62693649d80afa85a09dbbdcb8508</th>\n",
       "      <th>MMM BSC</th>\n",
       "      <td>650254</td>\n",
       "    </tr>\n",
       "  </tbody>\n",
       "</table>\n",
       "</div>"
      ],
      "text/plain": [
       "                                                               txs\n",
       "                                           tag                    \n",
       "0x65bf64ff5f51272f729bdcd7acfb00677ced86cd Kyber: Contract   31926\n",
       "0xc88f7666330b4b511358b7742dc2a3234710e7b1 Scammer          135484\n",
       "0x6f7b74aa23cabd638d7ebe804577043c435192b9 -                162555\n",
       "0x8a91c9a16cd62693649d80afa85a09dbbdcb8508 MMM BSC          650254"
      ]
     },
     "execution_count": 12,
     "metadata": {},
     "output_type": "execute_result"
    }
   ],
   "source": [
    "fr = pd.read_csv(paxos_tx_count_from, index_col='Unnamed: 0').sort_values('txs', ascending = False)\n",
    "to = pd.read_csv(paxos_tx_count_to, index_col='Unnamed: 0').sort_values('txs', ascending = False)\n",
    "fr = pd.DataFrame(fr.loc[:fr.index[2],'txs'])\n",
    "fr['tag'] = ['MMM BSC', 'Scammer', 'Kyber: Contract']\n",
    "to = pd.DataFrame(to.loc[:to.index[2],'txs'])\n",
    "to['tag'] = ['MMM BSC', '-', 'Scammer']\n",
    "to.append(fr).groupby([to.append(fr).index, to.append(fr)['tag']]).sum().sort_values('txs')"
   ]
  },
  {
   "cell_type": "code",
   "execution_count": 13,
   "metadata": {},
   "outputs": [
    {
     "data": {
      "text/plain": [
       "2580722"
      ]
     },
     "execution_count": 13,
     "metadata": {},
     "output_type": "execute_result"
    }
   ],
   "source": [
    "len(pd.read_csv(paxos_transfer))"
   ]
  },
  {
   "cell_type": "code",
   "execution_count": 14,
   "metadata": {},
   "outputs": [
    {
     "name": "stdout",
     "output_type": "stream",
     "text": [
      "Share of MMMBSC Scammer: 25.20 %\n",
      "Share of both Scammers: 30.45 %\n"
     ]
    }
   ],
   "source": [
    "print('Share of MMMBSC Scammer: {:.2f} %'.format(650256/2580722*100))\n",
    "print('Share of both Scammers: {:.2f} %'.format((650254+135484)/2580722*100))"
   ]
  },
  {
   "cell_type": "markdown",
   "metadata": {},
   "source": [
    "<center></center>"
   ]
  },
  {
   "cell_type": "markdown",
   "metadata": {},
   "source": [
    "<center></center>"
   ]
  },
  {
   "cell_type": "markdown",
   "metadata": {},
   "source": [
    "# DAI ATH Analysis"
   ]
  },
  {
   "cell_type": "code",
   "execution_count": 15,
   "metadata": {},
   "outputs": [],
   "source": [
    "df = pd.read_csv(dai_transfer)"
   ]
  },
  {
   "cell_type": "markdown",
   "metadata": {},
   "source": [
    "## Most active DAI addresses"
   ]
  },
  {
   "cell_type": "code",
   "execution_count": 16,
   "metadata": {},
   "outputs": [
    {
     "data": {
      "text/plain": [
       "0x5d3a536e4d6dbd6114cc1ead35777bab948e3643     73711\n",
       "0x65bf64ff5f51272f729bdcd7acfb00677ced86cd    101304\n",
       "0x2a1530c4c41db0b0b2bb646cb5eb1a67b7158667    112147\n",
       "0x794e6e91555438afc3ccf1c5076a74f42133d08d    137676\n",
       "0x0000000000000000000000000000000000000000    167956\n",
       "Name: 0, dtype: int64"
      ]
     },
     "execution_count": 16,
     "metadata": {},
     "output_type": "execute_result"
    }
   ],
   "source": [
    "pd.DataFrame(dict(Counter(df['txto'])), index=[0]).T[0].sort_values().iloc[-5:]"
   ]
  },
  {
   "cell_type": "markdown",
   "metadata": {},
   "source": [
    "## Avg. Transfers from/to DSR"
   ]
  },
  {
   "cell_type": "code",
   "execution_count": 17,
   "metadata": {},
   "outputs": [
    {
     "name": "stdout",
     "output_type": "stream",
     "text": [
      "On average, 723.9 transfers to the address\n",
      "On average 647.1 transfers from the address\n",
      "\n",
      "On 12 & 13 March:\n",
      "8,706.0 and 7,681.0 transfers to and from the address\n",
      "\n",
      "Increase by 634.99 % on  12 March\n",
      "Withdrawals increased by 421.73 % on  12 March\n",
      "Deposits increased by 825.63 % on  12 March\n",
      "\n",
      "Increase by 560.23 % on  13 March\n",
      "Withdrawals increased by 419.41 % on  13 March\n",
      "Deposits increased by 686.11 % on  13 March\n",
      "\n",
      "Increase by 597.61 % on  both days\n"
     ]
    }
   ],
   "source": [
    "ts = 1573603200\n",
    "addr = '0x0000000000000000000000000000000000000000'\n",
    "txs_from = []\n",
    "txs_to = []\n",
    "while ts < 1593561601:\n",
    "    df2 = df[(df['timestamp'] > ts) & (df['timestamp'] < ts+86400)]\n",
    "    txs_from.append(len(df2[df2['txfrom'] == addr].index))\n",
    "    txs_to.append(len(df2[df2['txto'] == addr].index))\n",
    "    ts += 86400\n",
    "txs = (sum(txs_to)+sum(txs_from))/len(txs_to)\n",
    "    \n",
    "print('On average, {:,.1f} transfers to the address\\nOn average {:,.1f} transfers from the address'.format(sum(txs_to)/len(txs_to),sum(txs_from)/len(txs_from)))\n",
    "ts = 1583971200\n",
    "_df = df[(df['timestamp'] >= ts+86400*0) & (df['timestamp'] < ts+86400*1)]\n",
    "_to_12 = len(_df[_df['txto'] == addr].index)\n",
    "_df = df[(df['timestamp'] >= ts+86400*1) & (df['timestamp'] < ts+86400*2)]\n",
    "_to_13 = len(_df[_df['txto'] == addr].index)\n",
    "\n",
    "_df = df[(df['timestamp'] >= ts+86400*0) & (df['timestamp'] < ts+86400*1)]\n",
    "_fr_12 = len(_df[_df['txfrom'] == addr].index)\n",
    "_df = df[(df['timestamp'] >= ts+86400*1) & (df['timestamp'] < ts+86400*2)]\n",
    "_fr_13 = len(_df[_df['txfrom'] == addr].index)\n",
    "\n",
    "df_12 = _to_12 + _fr_12\n",
    "df_13 = _to_13 + _fr_13\n",
    "\n",
    "print('\\nOn 12 & 13 March:')\n",
    "print('{:,.1f} and {:,.1f} transfers to and from the address\\n'.format(df_12 ,df_13))\n",
    "print('Increase by {:,.2f} % on  12 March'.format(df_12/txs*100))\n",
    "print('Withdrawals increased by {:,.2f} % on  12 March'.format(_fr_12/(sum(txs_from)/len(txs_from))*100))\n",
    "print('Deposits increased by {:,.2f} % on  12 March\\n'.format(_to_12/(sum(txs_to)/len(txs_to))*100))\n",
    "print('Increase by {:,.2f} % on  13 March'.format(df_13/txs*100))\n",
    "print('Withdrawals increased by {:,.2f} % on  13 March'.format(_fr_13/(sum(txs_from)/len(txs_from))*100))\n",
    "print('Deposits increased by {:,.2f} % on  13 March\\n'.format(_to_13/(sum(txs_to)/len(txs_to))*100))\n",
    "print('Increase by {:,.2f} % on  both days'.format((df_12+df_13)/(txs*2)*100))"
   ]
  },
  {
   "cell_type": "markdown",
   "metadata": {},
   "source": [
    "## Avg. Transfers from/to OasisDEX"
   ]
  },
  {
   "cell_type": "code",
   "execution_count": 18,
   "metadata": {},
   "outputs": [
    {
     "name": "stdout",
     "output_type": "stream",
     "text": [
      "On average, 593.4 transfers to the address\n",
      "On average 724.9 transfers from the address\n",
      "\n",
      "On 12 & 13 March:\n",
      "7,354.0 and 3,156.0 transfers to and from the address\n",
      "\n",
      "Increase by 557.84 % on  12 March\n",
      "Increase by 239.40 % on  13 March\n",
      "Increase by 398.62 % on  both days\n"
     ]
    }
   ],
   "source": [
    "ts = 1573603200\n",
    "addr = '0x794e6e91555438afc3ccf1c5076a74f42133d08d'\n",
    "txs_from = []\n",
    "txs_to = []\n",
    "while ts < 1593561601:\n",
    "    df2 = df[(df['timestamp'] > ts) & (df['timestamp'] < ts+86400)]\n",
    "    txs_from.append(len(df2[df2['txfrom'] == addr].index))\n",
    "    txs_to.append(len(df2[df2['txto'] == addr].index))\n",
    "    ts += 86400\n",
    "txs = (sum(txs_to)+sum(txs_from))/len(txs_to)\n",
    "    \n",
    "print('On average, {:,.1f} transfers to the address\\nOn average {:,.1f} transfers from the address'.format(sum(txs_to)/len(txs_to),sum(txs_from)/len(txs_from)))\n",
    "ts = 1583971200\n",
    "_df = df[(df['timestamp'] >= ts+86400*0) & (df['timestamp'] < ts+86400*1)]\n",
    "_to_12 = len(_df[_df['txto'] == addr].index)\n",
    "_df = df[(df['timestamp'] >= ts+86400*1) & (df['timestamp'] < ts+86400*2)]\n",
    "_to_13 = len(_df[_df['txto'] == addr].index)\n",
    "\n",
    "_df = df[(df['timestamp'] >= ts+86400*0) & (df['timestamp'] < ts+86400*1)]\n",
    "_fr_12 = len(_df[_df['txfrom'] == addr].index)\n",
    "_df = df[(df['timestamp'] >= ts+86400*1) & (df['timestamp'] < ts+86400*2)]\n",
    "_fr_13 = len(_df[_df['txfrom'] == addr].index)\n",
    "\n",
    "df_12 = _to_12 + _fr_12\n",
    "df_13 = _to_13 + _fr_13\n",
    "\n",
    "print('\\nOn 12 & 13 March:')\n",
    "print('{:,.1f} and {:,.1f} transfers to and from the address\\n'.format(df_12 ,df_13))\n",
    "print('Increase by {:,.2f} % on  12 March'.format(df_12/txs*100))\n",
    "print('Increase by {:,.2f} % on  13 March'.format(df_13/txs*100))\n",
    "print('Increase by {:,.2f} % on  both days'.format((df_12+df_13)/(txs*2)*100))"
   ]
  },
  {
   "cell_type": "markdown",
   "metadata": {},
   "source": [
    "## Avg. Transfers from/to Uniswap: DAI"
   ]
  },
  {
   "cell_type": "code",
   "execution_count": 19,
   "metadata": {},
   "outputs": [
    {
     "name": "stdout",
     "output_type": "stream",
     "text": [
      "On average, 483.4 transfers to the address\n",
      "On average 459.4 transfers from the address\n",
      "\n",
      "On 12 & 13 March:\n",
      "6,622.0 and 6,781.0 transfers to and from the address\n",
      "\n",
      "Increase by 702.42 % on  12 March\n",
      "Increase by 719.28 % on  13 March\n",
      "Increase by 710.85 % on  both days\n"
     ]
    }
   ],
   "source": [
    "ts = 1573603200\n",
    "addr = '0x2a1530c4c41db0b0b2bb646cb5eb1a67b7158667'\n",
    "txs_from = []\n",
    "txs_to = []\n",
    "while ts < 1593561601:\n",
    "    df2 = df[(df['timestamp'] > ts) & (df['timestamp'] < ts+86400)]\n",
    "    txs_from.append(len(df2[df2['txfrom'] == addr].index))\n",
    "    txs_to.append(len(df2[df2['txto'] == addr].index))\n",
    "    ts += 86400\n",
    "txs = (sum(txs_to)+sum(txs_from))/len(txs_to)\n",
    "    \n",
    "print('On average, {:,.1f} transfers to the address\\nOn average {:,.1f} transfers from the address'.format(sum(txs_to)/len(txs_to),sum(txs_from)/len(txs_from)))\n",
    "ts = 1583971200\n",
    "_df = df[(df['timestamp'] >= ts+86400*0) & (df['timestamp'] < ts+86400*1)]\n",
    "_to_12 = len(_df[_df['txto'] == addr].index)\n",
    "_df = df[(df['timestamp'] >= ts+86400*1) & (df['timestamp'] < ts+86400*2)]\n",
    "_to_13 = len(_df[_df['txto'] == addr].index)\n",
    "\n",
    "_df = df[(df['timestamp'] >= ts+86400*0) & (df['timestamp'] < ts+86400*1)]\n",
    "_fr_12 = len(_df[_df['txfrom'] == addr].index)\n",
    "_df = df[(df['timestamp'] >= ts+86400*1) & (df['timestamp'] < ts+86400*2)]\n",
    "_fr_13 = len(_df[_df['txfrom'] == addr].index)\n",
    "\n",
    "df_12 = _to_12 + _fr_12\n",
    "df_13 = _to_13 + _fr_13\n",
    "\n",
    "print('\\nOn 12 & 13 March:')\n",
    "print('{:,.1f} and {:,.1f} transfers to and from the address\\n'.format(df_12 ,df_13))\n",
    "print('Increase by {:,.2f} % on  12 March'.format(df_12/txs*100))\n",
    "print('Increase by {:,.2f} % on  13 March'.format(df_13/txs*100))\n",
    "print('Increase by {:,.2f} % on  both days'.format((df_12+df_13)/(txs*2)*100))"
   ]
  },
  {
   "cell_type": "markdown",
   "metadata": {},
   "source": [
    "## Avg. Transfers from/to Kyber"
   ]
  },
  {
   "cell_type": "code",
   "execution_count": 20,
   "metadata": {},
   "outputs": [
    {
     "name": "stdout",
     "output_type": "stream",
     "text": [
      "On average, 436.7 transfers to the address\n",
      "On average 450.7 transfers from the address\n",
      "\n",
      "On 12 & 13 March:\n",
      "6,542.0 and 4,983.0 transfers to and from the address\n",
      "\n",
      "Increase by 737.27 % on  12 March\n",
      "Increase by 561.57 % on  13 March\n",
      "Increase by 649.42 % on  both days\n"
     ]
    }
   ],
   "source": [
    "ts = 1573603200\n",
    "addr = '0x65bf64ff5f51272f729bdcd7acfb00677ced86cd'\n",
    "txs_from = []\n",
    "txs_to = []\n",
    "while ts < 1593561601:\n",
    "    df2 = df[(df['timestamp'] > ts) & (df['timestamp'] < ts+86400)]\n",
    "    txs_from.append(len(df2[df2['txfrom'] == addr].index))\n",
    "    txs_to.append(len(df2[df2['txto'] == addr].index))\n",
    "    ts += 86400\n",
    "txs = (sum(txs_to)+sum(txs_from))/len(txs_to)\n",
    "    \n",
    "print('On average, {:,.1f} transfers to the address\\nOn average {:,.1f} transfers from the address'.format(sum(txs_to)/len(txs_to),sum(txs_from)/len(txs_from)))\n",
    "ts = 1583971200\n",
    "_df = df[(df['timestamp'] >= ts+86400*0) & (df['timestamp'] < ts+86400*1)]\n",
    "_to_12 = len(_df[_df['txto'] == addr].index)\n",
    "_df = df[(df['timestamp'] >= ts+86400*1) & (df['timestamp'] < ts+86400*2)]\n",
    "_to_13 = len(_df[_df['txto'] == addr].index)\n",
    "\n",
    "_df = df[(df['timestamp'] >= ts+86400*0) & (df['timestamp'] < ts+86400*1)]\n",
    "_fr_12 = len(_df[_df['txfrom'] == addr].index)\n",
    "_df = df[(df['timestamp'] >= ts+86400*1) & (df['timestamp'] < ts+86400*2)]\n",
    "_fr_13 = len(_df[_df['txfrom'] == addr].index)\n",
    "\n",
    "df_12 = _to_12 + _fr_12\n",
    "df_13 = _to_13 + _fr_13\n",
    "\n",
    "print('\\nOn 12 & 13 March:')\n",
    "print('{:,.1f} and {:,.1f} transfers to and from the address\\n'.format(df_12 ,df_13))\n",
    "print('Increase by {:,.2f} % on  12 March'.format(df_12/txs*100))\n",
    "print('Increase by {:,.2f} % on  13 March'.format(df_13/txs*100))\n",
    "print('Increase by {:,.2f} % on  both days'.format((df_12+df_13)/(txs*2)*100))"
   ]
  },
  {
   "cell_type": "markdown",
   "metadata": {},
   "source": [
    "## Avg. Transfers from/to Compound Dai"
   ]
  },
  {
   "cell_type": "code",
   "execution_count": 21,
   "metadata": {},
   "outputs": [
    {
     "name": "stdout",
     "output_type": "stream",
     "text": [
      "On average, 317.7 transfers to the address\n",
      "On average 313.9 transfers from the address\n",
      "\n",
      "On 12 & 13 March:\n",
      "2,419.0 and 2,644.0 transfers to and from the address\n",
      "\n",
      "Increase by 383.00 % on  12 March\n",
      "Increase by 418.62 % on  13 March\n"
     ]
    }
   ],
   "source": [
    "ts = 1573603200\n",
    "addr = '0x5d3a536e4d6dbd6114cc1ead35777bab948e3643'\n",
    "txs_from = []\n",
    "txs_to = []\n",
    "while ts < 1593561601:\n",
    "    df2 = df[(df['timestamp'] > ts) & (df['timestamp'] < ts+86400)]\n",
    "    txs_from.append(len(df2[df2['txfrom'] == addr].index))\n",
    "    txs_to.append(len(df2[df2['txto'] == addr].index))\n",
    "    ts += 86400\n",
    "txs = (sum(txs_to)+sum(txs_from))/len(txs_to)\n",
    "    \n",
    "print('On average, {:,.1f} transfers to the address\\nOn average {:,.1f} transfers from the address'.format(sum(txs_to)/len(txs_to),sum(txs_from)/len(txs_from)))\n",
    "ts = 1583971200\n",
    "_df = df[(df['timestamp'] >= ts+86400*0) & (df['timestamp'] < ts+86400*1)]\n",
    "_to_12 = len(_df[_df['txto'] == addr].index)\n",
    "_df = df[(df['timestamp'] >= ts+86400*1) & (df['timestamp'] < ts+86400*2)]\n",
    "_to_13 = len(_df[_df['txto'] == addr].index)\n",
    "\n",
    "_df = df[(df['timestamp'] >= ts+86400*0) & (df['timestamp'] < ts+86400*1)]\n",
    "_fr_12 = len(_df[_df['txfrom'] == addr].index)\n",
    "_df = df[(df['timestamp'] >= ts+86400*1) & (df['timestamp'] < ts+86400*2)]\n",
    "_fr_13 = len(_df[_df['txfrom'] == addr].index)\n",
    "\n",
    "df_12 = _to_12 + _fr_12\n",
    "df_13 = _to_13 + _fr_13\n",
    "\n",
    "print('\\nOn 12 & 13 March:')\n",
    "print('{:,.1f} and {:,.1f} transfers to and from the address\\n'.format(df_12 ,df_13))\n",
    "print('Increase by {:,.2f} % on  12 March'.format(df_12/txs*100))\n",
    "print('Increase by {:,.2f} % on  13 March'.format(df_13/txs*100))"
   ]
  },
  {
   "cell_type": "markdown",
   "metadata": {},
   "source": [
    "<center></center>"
   ]
  },
  {
   "cell_type": "markdown",
   "metadata": {},
   "source": [
    "<center></center>"
   ]
  },
  {
   "cell_type": "markdown",
   "metadata": {},
   "source": [
    "# Gas Cost Comparison"
   ]
  },
  {
   "cell_type": "markdown",
   "metadata": {},
   "source": [
    "## Average Gas Fees All Time"
   ]
  },
  {
   "cell_type": "code",
   "execution_count": 22,
   "metadata": {
    "scrolled": true
   },
   "outputs": [
    {
     "data": {
      "text/html": [
       "<div>\n",
       "<style scoped>\n",
       "    .dataframe tbody tr th:only-of-type {\n",
       "        vertical-align: middle;\n",
       "    }\n",
       "\n",
       "    .dataframe tbody tr th {\n",
       "        vertical-align: top;\n",
       "    }\n",
       "\n",
       "    .dataframe thead th {\n",
       "        text-align: right;\n",
       "    }\n",
       "</style>\n",
       "<table border=\"1\" class=\"dataframe\">\n",
       "  <thead>\n",
       "    <tr style=\"text-align: right;\">\n",
       "      <th></th>\n",
       "      <th>gascosts</th>\n",
       "    </tr>\n",
       "  </thead>\n",
       "  <tbody>\n",
       "    <tr>\n",
       "      <th>gas_teth</th>\n",
       "      <td>0.001565</td>\n",
       "    </tr>\n",
       "    <tr>\n",
       "      <th>gas_dai_</th>\n",
       "      <td>0.008374</td>\n",
       "    </tr>\n",
       "    <tr>\n",
       "      <th>gas_usdc</th>\n",
       "      <td>0.007920</td>\n",
       "    </tr>\n",
       "    <tr>\n",
       "      <th>gas_paxo</th>\n",
       "      <td>0.002407</td>\n",
       "    </tr>\n",
       "    <tr>\n",
       "      <th>gas_tusd</th>\n",
       "      <td>0.001811</td>\n",
       "    </tr>\n",
       "    <tr>\n",
       "      <th>gas_bina</th>\n",
       "      <td>0.008662</td>\n",
       "    </tr>\n",
       "    <tr>\n",
       "      <th>gas_husd</th>\n",
       "      <td>0.002116</td>\n",
       "    </tr>\n",
       "  </tbody>\n",
       "</table>\n",
       "</div>"
      ],
      "text/plain": [
       "          gascosts\n",
       "gas_teth  0.001565\n",
       "gas_dai_  0.008374\n",
       "gas_usdc  0.007920\n",
       "gas_paxo  0.002407\n",
       "gas_tusd  0.001811\n",
       "gas_bina  0.008662\n",
       "gas_husd  0.002116"
      ]
     },
     "execution_count": 22,
     "metadata": {},
     "output_type": "execute_result"
    }
   ],
   "source": [
    "gas_teth = 27244892832.678*57439.360/10**18\n",
    "gas_dai_ = 17711503439.366*472827.895/10**18\n",
    "gas_usdc = 20520686635.884*385927.692/10**18\n",
    "gas_paxo = 15768757613.356*152639.472/10**18\n",
    "gas_tusd = 20112704549.078*90049.336/10**18\n",
    "gas_bina = 33194878037.906*260947.284/10**18\n",
    "gas_husd = 47252501697.708*44784.038/10**18\n",
    "pd.DataFrame({'gascosts': [gas_teth,gas_dai_,gas_usdc,gas_paxo,gas_tusd,gas_bina,gas_husd]}, \n",
    "             index=['gas_teth','gas_dai_','gas_usdc','gas_paxo','gas_tusd','gas_bina','gas_husd'])"
   ]
  },
  {
   "cell_type": "markdown",
   "metadata": {},
   "source": [
    "## Average Gas Fees 2020"
   ]
  },
  {
   "cell_type": "code",
   "execution_count": 23,
   "metadata": {},
   "outputs": [
    {
     "data": {
      "text/plain": [
       "{'usdc': 0.009161195861560514,\n",
       " 'paxos': 0.0023980192127576482,\n",
       " 'dai': 0.007909282581493824,\n",
       " 'tether': 0.0018932924837845818,\n",
       " 'trueusd': 0.0022737699877749783,\n",
       " 'binanceusd': 0.007751093391282079,\n",
       " 'husd': 0.0023120683945212833}"
      ]
     },
     "execution_count": 23,
     "metadata": {},
     "output_type": "execute_result"
    }
   ],
   "source": [
    "ga = {}\n",
    "for i in _all_tx:\n",
    "    tk = i.split('/')[1]\n",
    "    _tf = pd.read_csv(i, usecols = ['timestamp','gas_price','gas_used'])\n",
    "    _tf = _tf[_tf['timestamp'] >= 1577836800] #01.01.2020\n",
    "    _tf['costs'] = _tf['gas_used']*_tf['gas_price']/10**18\n",
    "    ga[tk] = sum(_tf['costs'])/len(_tf['costs'])\n",
    "ga"
   ]
  },
  {
   "cell_type": "code",
   "execution_count": 24,
   "metadata": {},
   "outputs": [
    {
     "name": "stdout",
     "output_type": "stream",
     "text": [
      "DAI/USDT: 4.177528115298713\n",
      "USDC/USDT: 4.838764184627098\n",
      "BUSD/USDT: 4.093975683983118\n"
     ]
    }
   ],
   "source": [
    "print('DAI/USDT: {}\\nUSDC/USDT: {}\\nBUSD/USDT: {}'.format(0.007909282581493824/0.0018932924837845818, \n",
    "                                                          0.009161195861560514/0.0018932924837845818, \n",
    "                                                          0.007751093391282079/0.0018932924837845818))"
   ]
  },
  {
   "cell_type": "markdown",
   "metadata": {},
   "source": [
    "# DeFi Impact on DAI's Gas Fee 2020"
   ]
  },
  {
   "cell_type": "code",
   "execution_count": 25,
   "metadata": {},
   "outputs": [
    {
     "name": "stdout",
     "output_type": "stream",
     "text": [
      "DeFi/USDT: 4.880717050050525\n",
      "Avg. DeFi Transfer costs: 0.009240622545124259\n",
      "DeFi share of total: 0.5842269411063207\n"
     ]
    }
   ],
   "source": [
    "dai_ = pd.read_csv(dai_transfer)\n",
    "dai = dai_[dai_['timestamp'] >= 1577836800] \n",
    "fr_da = dai[dai['txfrom'].isin(['0x0000000000000000000000000000000000000000',   # DSR\n",
    "                                '0x794e6e91555438afc3ccf1c5076a74f42133d08d',   # OasisDEX\n",
    "                                '0x2a1530c4c41db0b0b2bb646cb5eb1a67b7158667',   # Uniswap: DAI\n",
    "                                '0x65bf64ff5f51272f729bdcd7acfb00677ced86cd',   # Kyber: Contract\n",
    "                                '0x39755357759ce0d7f32dc8dc45414cca409ae24e',   # Eth2Dai: Old Contract\n",
    "                                '0x5d3a536e4d6dbd6114cc1ead35777bab948e3643',   # Compound DAI\n",
    "                                '0x11111254369792b2ca5d084ab5eea397ca8fa48b',   # 1inch.exchange\n",
    "                                '0xd152f549545093347a162dce210e7293f1452150',   # Disperse.app\n",
    "                                '0x31e085afd48a1d6e51cc193153d625e8f0514c7f'])] # Kyber: Reserve ...\n",
    "\n",
    "to_da = dai[dai['txto'].isin(['0x0000000000000000000000000000000000000000',     # DSR\n",
    "                              '0x794e6e91555438afc3ccf1c5076a74f42133d08d',   # OasisDEX\n",
    "                              '0x2a1530c4c41db0b0b2bb646cb5eb1a67b7158667',   # Uniswap: DAI\n",
    "                              '0x65bf64ff5f51272f729bdcd7acfb00677ced86cd',   # Kyber: Contract\n",
    "                              '0x39755357759ce0d7f32dc8dc45414cca409ae24e',   # Eth2Dai: Old Contract\n",
    "                              '0x5d3a536e4d6dbd6114cc1ead35777bab948e3643',   # Compound DAI\n",
    "                              '0x11111254369792b2ca5d084ab5eea397ca8fa48b',   # 1inch.exchange\n",
    "                              '0xd152f549545093347a162dce210e7293f1452150',   # Disperse.app\n",
    "                              '0x31e085afd48a1d6e51cc193153d625e8f0514c7f'])] # Kyber: Reserve ...\n",
    "\n",
    "perc_defi = (len(fr_da)+len(to_da))/len(dai)\n",
    "df = fr_da.loc[:,['gas_price', 'gas_used']].append(to_da.loc[:,['gas_price', 'gas_used']])\n",
    "df['costs'] = df['gas_price']*df['gas_used']/10**18\n",
    "avg_defi_cost = df['costs'].mean()\n",
    "\n",
    "\n",
    "print('DeFi/USDT: {}\\nAvg. DeFi Transfer costs: {}\\nDeFi share of total: {}'.format(avg_defi_cost/0.001893292,\n",
    "                                                                                   avg_defi_cost,\n",
    "                                                                                   perc_defi))\n"
   ]
  },
  {
   "cell_type": "markdown",
   "metadata": {},
   "source": [
    "# DeFi Impact DAI's Gas Fee on since May '20"
   ]
  },
  {
   "cell_type": "code",
   "execution_count": 26,
   "metadata": {},
   "outputs": [
    {
     "name": "stdout",
     "output_type": "stream",
     "text": [
      "DeFi/USDT: 8.239312602864114\n",
      "Avg. DeFi Transfer costs: 0.015599424636501805\n",
      "DeFi share of total: 0.4189651641426577\n",
      "Avg. since May against tether: 6.463919118348534\n"
     ]
    },
    {
     "name": "stderr",
     "output_type": "stream",
     "text": [
      "/home/nero/python/master_thesis/lib/python3.6/site-packages/ipykernel_launcher.py:26: SettingWithCopyWarning: \n",
      "A value is trying to be set on a copy of a slice from a DataFrame.\n",
      "Try using .loc[row_indexer,col_indexer] = value instead\n",
      "\n",
      "See the caveats in the documentation: https://pandas.pydata.org/pandas-docs/stable/user_guide/indexing.html#returning-a-view-versus-a-copy\n"
     ]
    }
   ],
   "source": [
    "dai_ = pd.read_csv(dai_transfer)\n",
    "dai = dai_[dai_['timestamp'] >= 1588291200] \n",
    "fr_da = dai[dai['txfrom'].isin(['0x0000000000000000000000000000000000000000',   # DSR\n",
    "                                '0x794e6e91555438afc3ccf1c5076a74f42133d08d',   # OasisDEX\n",
    "                                '0x2a1530c4c41db0b0b2bb646cb5eb1a67b7158667',   # Uniswap: DAI\n",
    "                                '0x65bf64ff5f51272f729bdcd7acfb00677ced86cd',   # Kyber: Contract\n",
    "                                '0x39755357759ce0d7f32dc8dc45414cca409ae24e',   # Eth2Dai: Old Contract\n",
    "                                '0x5d3a536e4d6dbd6114cc1ead35777bab948e3643',   # Compound DAI\n",
    "                                '0x11111254369792b2ca5d084ab5eea397ca8fa48b',   # 1inch.exchange\n",
    "                                '0xd152f549545093347a162dce210e7293f1452150',   # Disperse.app\n",
    "                                '0x31e085afd48a1d6e51cc193153d625e8f0514c7f'])] # Kyber: Reserve ...\n",
    "\n",
    "to_da = dai[dai['txto'].isin(['0x0000000000000000000000000000000000000000',     # DSR\n",
    "                              '0x794e6e91555438afc3ccf1c5076a74f42133d08d',   # OasisDEX\n",
    "                              '0x2a1530c4c41db0b0b2bb646cb5eb1a67b7158667',   # Uniswap: DAI\n",
    "                              '0x65bf64ff5f51272f729bdcd7acfb00677ced86cd',   # Kyber: Contract\n",
    "                              '0x39755357759ce0d7f32dc8dc45414cca409ae24e',   # Eth2Dai: Old Contract\n",
    "                              '0x5d3a536e4d6dbd6114cc1ead35777bab948e3643',   # Compound DAI\n",
    "                              '0x11111254369792b2ca5d084ab5eea397ca8fa48b',   # 1inch.exchange\n",
    "                              '0xd152f549545093347a162dce210e7293f1452150',   # Disperse.app\n",
    "                              '0x31e085afd48a1d6e51cc193153d625e8f0514c7f'])] # Kyber: Reserve ...\n",
    "\n",
    "perc_defi = (len(fr_da)+len(to_da))/len(dai)\n",
    "df = fr_da.loc[:,['gas_price', 'gas_used']].append(to_da.loc[:,['gas_price', 'gas_used']])\n",
    "df['costs'] = df['gas_price']*df['gas_used']/10**18\n",
    "dai['costs'] = (dai['gas_price']*dai['gas_used']/10**18)\n",
    "avg_defi_cost = df['costs'].mean()\n",
    "\n",
    "\n",
    "print('DeFi/USDT: {}\\nAvg. DeFi Transfer costs: {}\\nDeFi share of total: {}'.format(avg_defi_cost/0.001893292,\n",
    "                                                                                   avg_defi_cost,\n",
    "                                                                                   perc_defi,\n",
    "                                                                                   ))\n",
    "print('Avg. since May against tether: {}'.format((sum(dai['costs'])/len(dai)/0.001893292)))"
   ]
  },
  {
   "cell_type": "markdown",
   "metadata": {},
   "source": [
    "## DSR costs "
   ]
  },
  {
   "cell_type": "code",
   "execution_count": 27,
   "metadata": {},
   "outputs": [
    {
     "name": "stdout",
     "output_type": "stream",
     "text": [
      "Avg. DSR Transfer costs: 0.008790741414179674\n",
      "DSR/USDT: 4.6430974027887615\n"
     ]
    },
    {
     "name": "stderr",
     "output_type": "stream",
     "text": [
      "/home/nero/python/master_thesis/lib/python3.6/site-packages/ipykernel_launcher.py:2: SettingWithCopyWarning: \n",
      "A value is trying to be set on a copy of a slice from a DataFrame.\n",
      "Try using .loc[row_indexer,col_indexer] = value instead\n",
      "\n",
      "See the caveats in the documentation: https://pandas.pydata.org/pandas-docs/stable/user_guide/indexing.html#returning-a-view-versus-a-copy\n",
      "  \n"
     ]
    }
   ],
   "source": [
    "dsr = dai_[(dai_['txfrom'] == '0x0000000000000000000000000000000000000000') | (dai_['txto'] == '0x0000000000000000000000000000000000000000') ]\n",
    "dsr['costs'] = dsr['gas_price']*dsr['gas_used']/10**18\n",
    "print('Avg. DSR Transfer costs: {}\\nDSR/USDT: {}'.format(sum(dsr['costs'])/len(dsr['costs']),\n",
    "                                                         sum(dsr['costs'])/len(dsr['costs'])/0.0018932924837845818))"
   ]
  },
  {
   "cell_type": "markdown",
   "metadata": {},
   "source": [
    "# DeFi Impact on USDC's Gas Fee 2020"
   ]
  },
  {
   "cell_type": "code",
   "execution_count": 28,
   "metadata": {},
   "outputs": [
    {
     "name": "stdout",
     "output_type": "stream",
     "text": [
      "DeFi/USDT Costs: 11.486055929153634\n",
      "Avg. DeFi Transfer costs: 0.021746457802219142\n",
      "DeFi share of total: 0.28068383923020784\n"
     ]
    }
   ],
   "source": [
    "usdc = pd.read_csv(usdc_transfer)\n",
    "usdc = usdc[usdc['timestamp'] >= 1577836800] \n",
    "fr_da = usdc[usdc['txfrom'].isin(['0xd152f549545093347a162dce210e7293f1452150',   # Disperse.app\n",
    "                                  '0x97dec872013f6b5fb443861090ad931542878126',   # Uniswap: USDC\n",
    "                                  '0x65bf64ff5f51272f729bdcd7acfb00677ced86cd',   # Kyber: Contract\n",
    "                                  '0x39aa39c021dfbae8fac545936693ac917d5e7563',   # Compound USD Coin\n",
    "                                  '0x11111254369792b2ca5d084ab5eea397ca8fa48b',   # 1inch.exchange\n",
    "                                  '0x9ae49c0d7f8f9ef4b864e004fe86ac8294e20950',   # Kyber: Old Contract\n",
    "                                  '0x04046027549f739edfd5b2a78efdbaf0f0bf4514',   # BlockFi\n",
    "                                  '0x65b0bf8ee4947edd2a500d74e50a3d757dc79de0',   # Nexo: Wallet\n",
    "                                  '0x32a3256a4b15badd4a6e072a03d23404d925a5cf',   # Celsius Network: Contract\n",
    "                                  '0xaf38668f4719ecf9452dc0300be3f6c83cbf3721'])] # Nuo Network: Kernel Escrow\n",
    "\n",
    "\n",
    "to_da = usdc[usdc['txto'].isin(['0xd152f549545093347a162dce210e7293f1452150',   # Disperse.app\n",
    "                                '0x97dec872013f6b5fb443861090ad931542878126',   # Uniswap: USDC\n",
    "                                '0x65bf64ff5f51272f729bdcd7acfb00677ced86cd',   # Kyber: Contract\n",
    "                                '0x39aa39c021dfbae8fac545936693ac917d5e7563',   # Compound USD Coin\n",
    "                                '0x11111254369792b2ca5d084ab5eea397ca8fa48b',   # 1inch.exchange\n",
    "                                '0x9ae49c0d7f8f9ef4b864e004fe86ac8294e20950',   # Kyber: Old Contract\n",
    "                                '0x04046027549f739edfd5b2a78efdbaf0f0bf4514',   # BlockFi\n",
    "                                '0x65b0bf8ee4947edd2a500d74e50a3d757dc79de0',   # Nexo: Wallet\n",
    "                                '0x32a3256a4b15badd4a6e072a03d23404d925a5cf',   # Celsius Network: Contract\n",
    "                                '0xaf38668f4719ecf9452dc0300be3f6c83cbf3721'])] # Nuo Network: Kernel Escrow\n",
    "\n",
    "\n",
    "perc_defi = (len(fr_da)+len(to_da))/len(usdc)\n",
    "df = fr_da.loc[:,['gas_price', 'gas_used']].append(to_da.loc[:,['gas_price', 'gas_used']])\n",
    "df['costs'] = df['gas_price']*df['gas_used']/10**18\n",
    "avg_defi_cost = df['costs'].mean()\n",
    "\n",
    "print('DeFi/USDT Costs: {}\\nAvg. DeFi Transfer costs: {}\\nDeFi share of total: {}'.format(avg_defi_cost/0.001893292,\n",
    "                                                                                   avg_defi_cost,\n",
    "                                                                                   perc_defi))"
   ]
  },
  {
   "cell_type": "markdown",
   "metadata": {},
   "source": [
    "# DeFi Impact on USDC's Gas Fee since May '20"
   ]
  },
  {
   "cell_type": "code",
   "execution_count": 29,
   "metadata": {},
   "outputs": [
    {
     "name": "stdout",
     "output_type": "stream",
     "text": [
      "DeFi/USDT: 22.05727449921721\n",
      "Avg. DeFi Transfer costs: 0.04176086135117195\n",
      "DeFi share of total: 0.25147508008146985\n",
      "Avg. since May against tether: 8.148281711425113\n"
     ]
    }
   ],
   "source": [
    "usdc = pd.read_csv(usdc_transfer)\n",
    "usdc = usdc[usdc['timestamp'] >= 1588291200] \n",
    "fr_da = usdc[usdc['txfrom'].isin(['0xd152f549545093347a162dce210e7293f1452150',   # Disperse.app\n",
    "                                  '0x97dec872013f6b5fb443861090ad931542878126',   # Uniswap: USDC\n",
    "                                  '0x65bf64ff5f51272f729bdcd7acfb00677ced86cd',   # Kyber: Contract\n",
    "                                  '0x39aa39c021dfbae8fac545936693ac917d5e7563',   # Compound USD Coin\n",
    "                                  '0x11111254369792b2ca5d084ab5eea397ca8fa48b',   # 1inch.exchange\n",
    "                                  '0x9ae49c0d7f8f9ef4b864e004fe86ac8294e20950',   # Kyber: Old Contract\n",
    "                                  '0x04046027549f739edfd5b2a78efdbaf0f0bf4514',   # BlockFi\n",
    "                                  '0x65b0bf8ee4947edd2a500d74e50a3d757dc79de0',   # Nexo: Wallet\n",
    "                                  '0x32a3256a4b15badd4a6e072a03d23404d925a5cf',   # Celsius Network: Contract\n",
    "                                  '0xaf38668f4719ecf9452dc0300be3f6c83cbf3721'])] # Nuo Network: Kernel Escrow\n",
    "\n",
    "\n",
    "to_da = usdc[usdc['txto'].isin(['0xd152f549545093347a162dce210e7293f1452150',   # Disperse.app\n",
    "                                '0x97dec872013f6b5fb443861090ad931542878126',   # Uniswap: USDC\n",
    "                                '0x65bf64ff5f51272f729bdcd7acfb00677ced86cd',   # Kyber: Contract\n",
    "                                '0x39aa39c021dfbae8fac545936693ac917d5e7563',   # Compound USD Coin\n",
    "                                '0x11111254369792b2ca5d084ab5eea397ca8fa48b',   # 1inch.exchange\n",
    "                                '0x9ae49c0d7f8f9ef4b864e004fe86ac8294e20950',   # Kyber: Old Contract\n",
    "                                '0x04046027549f739edfd5b2a78efdbaf0f0bf4514',   # BlockFi\n",
    "                                '0x65b0bf8ee4947edd2a500d74e50a3d757dc79de0',   # Nexo: Wallet\n",
    "                                '0x32a3256a4b15badd4a6e072a03d23404d925a5cf',   # Celsius Network: Contract\n",
    "                                '0xaf38668f4719ecf9452dc0300be3f6c83cbf3721'])] # Nuo Network: Kernel Escrow\n",
    "\n",
    "\n",
    "perc_defi = (len(fr_da)+len(to_da))/len(usdc)\n",
    "df = fr_da.loc[:,['gas_price', 'gas_used']].append(to_da.loc[:,['gas_price', 'gas_used']])\n",
    "df['costs'] = df['gas_price']*df['gas_used']/10**18\n",
    "usdc['costs'] = (usdc['gas_price']*usdc['gas_used']/10**18)\n",
    "avg_defi_cost = df['costs'].mean()\n",
    "\n",
    "print('DeFi/USDT: {}\\nAvg. DeFi Transfer costs: {}\\nDeFi share of total: {}'.format(avg_defi_cost/0.001893292,\n",
    "                                                                                   avg_defi_cost,\n",
    "                                                                                   perc_defi))\n",
    "\n",
    "print('Avg. since May against tether: {}'.format((sum(usdc['costs'])/len(usdc)/0.001893292)))"
   ]
  },
  {
   "cell_type": "markdown",
   "metadata": {},
   "source": [
    "<center></center>"
   ]
  },
  {
   "cell_type": "markdown",
   "metadata": {},
   "source": [
    "<center></center>"
   ]
  },
  {
   "cell_type": "markdown",
   "metadata": {},
   "source": [
    "## Most expensive transfer"
   ]
  },
  {
   "cell_type": "code",
   "execution_count": 30,
   "metadata": {},
   "outputs": [
    {
     "name": "stdout",
     "output_type": "stream",
     "text": [
      "['0x2baf54b20e026b1efacf307feb5d46dd4574355c61cc3f2c6522ef6f127d8ac4']\n"
     ]
    },
    {
     "data": {
      "text/html": [
       "<div>\n",
       "<style scoped>\n",
       "    .dataframe tbody tr th:only-of-type {\n",
       "        vertical-align: middle;\n",
       "    }\n",
       "\n",
       "    .dataframe tbody tr th {\n",
       "        vertical-align: top;\n",
       "    }\n",
       "\n",
       "    .dataframe thead th {\n",
       "        text-align: right;\n",
       "    }\n",
       "</style>\n",
       "<table border=\"1\" class=\"dataframe\">\n",
       "  <thead>\n",
       "    <tr style=\"text-align: right;\">\n",
       "      <th></th>\n",
       "      <th>txhash</th>\n",
       "      <th>gas_price</th>\n",
       "      <th>gas_used</th>\n",
       "      <th>costs</th>\n",
       "    </tr>\n",
       "  </thead>\n",
       "  <tbody>\n",
       "    <tr>\n",
       "      <th>6747219</th>\n",
       "      <td>0x2baf54b20e026b1efacf307feb5d46dd4574355c61cc...</td>\n",
       "      <td>8742000000000</td>\n",
       "      <td>1134997</td>\n",
       "      <td>9.922144</td>\n",
       "    </tr>\n",
       "  </tbody>\n",
       "</table>\n",
       "</div>"
      ],
      "text/plain": [
       "                                                    txhash      gas_price  \\\n",
       "6747219  0x2baf54b20e026b1efacf307feb5d46dd4574355c61cc...  8742000000000   \n",
       "\n",
       "         gas_used     costs  \n",
       "6747219   1134997  9.922144  "
      ]
     },
     "execution_count": 30,
     "metadata": {},
     "output_type": "execute_result"
    }
   ],
   "source": [
    "aa = pd.read_csv(tether_chunk5, usecols=['txhash','gas_price', 'gas_used'])\n",
    "aa[\"costs\"] = (aa[\"gas_price\"]/10**18).multiply(aa[\"gas_used\"])\n",
    "aa = aa[aa['costs'] == max(aa['costs'])]\n",
    "print(aa['txhash'].tolist())\n",
    "aa"
   ]
  },
  {
   "cell_type": "markdown",
   "metadata": {},
   "source": [
    "<center></center>"
   ]
  },
  {
   "cell_type": "markdown",
   "metadata": {},
   "source": [
    "<center></center>"
   ]
  },
  {
   "cell_type": "markdown",
   "metadata": {},
   "source": [
    "# Circulating supply Analytics"
   ]
  },
  {
   "cell_type": "code",
   "execution_count": 31,
   "metadata": {},
   "outputs": [
    {
     "name": "stdout",
     "output_type": "stream",
     "text": [
      "usdc\n",
      "paxos\n",
      "dai\n",
      "tether\n",
      "trueusd\n",
      "binanceusd\n",
      "husd\n",
      "In total, 7,800,726,550 Stablecoins\n"
     ]
    }
   ],
   "source": [
    "su = 0\n",
    "for i, j in zip(_all_mint,_all_burn):\n",
    "    tk = i.split('/')[1]\n",
    "    tk2 = j.split('/')[1]\n",
    "    assert(tk==tk2)\n",
    "    if tk in ['dai', 'trueusd', 'paxos', 'binanceusd']:\n",
    "        dec=18\n",
    "    elif tk in ['husd']:\n",
    "        dec=8\n",
    "    else:\n",
    "        dec=6\n",
    "    print(tk)\n",
    "    df = pd.read_csv(i)\n",
    "    df2 = pd.read_csv(j)\n",
    "    su += sum(df['txvalue'].astype(float)/10**dec) - sum(df2['txvalue'].astype(float)/10**dec)    \n",
    "print('In total, {:,.0f} Stablecoins'.format(su))\n"
   ]
  },
  {
   "cell_type": "markdown",
   "metadata": {},
   "source": [
    "## USDT supply"
   ]
  },
  {
   "cell_type": "code",
   "execution_count": 32,
   "metadata": {},
   "outputs": [
    {
     "data": {
      "text/plain": [
       "6037847550.677356"
      ]
     },
     "execution_count": 32,
     "metadata": {},
     "output_type": "execute_result"
    }
   ],
   "source": [
    "sum(pd.read_csv(tether_mint)['txvalue']/10**6)-sum(pd.read_csv(tether_burn)['txvalue']/10**6)"
   ]
  },
  {
   "cell_type": "markdown",
   "metadata": {},
   "source": [
    "## USDC supply"
   ]
  },
  {
   "cell_type": "code",
   "execution_count": 33,
   "metadata": {},
   "outputs": [
    {
     "data": {
      "text/plain": [
       "985540179.8800354"
      ]
     },
     "execution_count": 33,
     "metadata": {},
     "output_type": "execute_result"
    }
   ],
   "source": [
    "sum(pd.read_csv(usdc_mint)['txvalue']/10**6)-sum(pd.read_csv(usdc_burn)['txvalue']/10**6)"
   ]
  },
  {
   "cell_type": "markdown",
   "metadata": {},
   "source": [
    "## Others supply"
   ]
  },
  {
   "cell_type": "code",
   "execution_count": 34,
   "metadata": {},
   "outputs": [
    {
     "data": {
      "text/plain": [
       "1762878999.3226442"
      ]
     },
     "execution_count": 34,
     "metadata": {},
     "output_type": "execute_result"
    }
   ],
   "source": [
    "7800726550-6037847550.677356"
   ]
  },
  {
   "cell_type": "markdown",
   "metadata": {},
   "source": [
    "## USDT supply/Others"
   ]
  },
  {
   "cell_type": "code",
   "execution_count": 35,
   "metadata": {},
   "outputs": [
    {
     "data": {
      "text/plain": [
       "3.4249926132180906"
      ]
     },
     "execution_count": 35,
     "metadata": {},
     "output_type": "execute_result"
    }
   ],
   "source": [
    "6037847550.677356/1762878999.3226442"
   ]
  },
  {
   "cell_type": "markdown",
   "metadata": {},
   "source": [
    "## USDT supply/total Stablecoin supply"
   ]
  },
  {
   "cell_type": "code",
   "execution_count": 36,
   "metadata": {},
   "outputs": [
    {
     "data": {
      "text/plain": [
       "0.7740109221848516"
      ]
     },
     "execution_count": 36,
     "metadata": {},
     "output_type": "execute_result"
    }
   ],
   "source": [
    "6037847550.677356/7800726550"
   ]
  },
  {
   "cell_type": "markdown",
   "metadata": {},
   "source": [
    "## Mint Events"
   ]
  },
  {
   "cell_type": "code",
   "execution_count": 37,
   "metadata": {},
   "outputs": [
    {
     "name": "stdout",
     "output_type": "stream",
     "text": [
      "In total, 170,386 Mint Events\n"
     ]
    },
    {
     "data": {
      "text/plain": [
       "({'usdc': 5358,\n",
       "  'paxos': 940,\n",
       "  'dai': 150131,\n",
       "  'tether': 74,\n",
       "  'trueusd': 6552,\n",
       "  'binanceusd': 339,\n",
       "  'husd': 6992},\n",
       " {'usdc': 493706.0,\n",
       "  'paxos': 1843898.0,\n",
       "  'dai': 9306.0,\n",
       "  'tether': 81623216.0,\n",
       "  'trueusd': 162716.0,\n",
       "  'binanceusd': 2277252.0,\n",
       "  'husd': 220325.0})"
      ]
     },
     "execution_count": 37,
     "metadata": {},
     "output_type": "execute_result"
    }
   ],
   "source": [
    "tks = {}\n",
    "avg = {}\n",
    "rows = 0\n",
    "for i in _all_mint:\n",
    "    tk = i.split('/')[1]\n",
    "    if tk in ['dai', 'trueusd', 'paxos', 'binanceusd']:\n",
    "        dec=18\n",
    "    elif tk in ['husd']:\n",
    "        dec=8\n",
    "    else:\n",
    "        dec=6\n",
    "    df = pd.read_csv(i)\n",
    "    rws = len(df)\n",
    "    me = round((df['txvalue'].astype(float)/10**dec).mean())\n",
    "    rows += rws\n",
    "    tks[tk] = rws\n",
    "    avg[tk] = me\n",
    "    \n",
    "print('In total, {:,.0f} Mint Events'.format(rows))\n",
    "tks, avg"
   ]
  },
  {
   "cell_type": "markdown",
   "metadata": {},
   "source": [
    "## HUSD mint + burn events / total events"
   ]
  },
  {
   "cell_type": "code",
   "execution_count": 38,
   "metadata": {},
   "outputs": [
    {
     "data": {
      "text/plain": [
       "'22.34 %'"
      ]
     },
     "execution_count": 38,
     "metadata": {},
     "output_type": "execute_result"
    }
   ],
   "source": [
    "'{:.2f} %'.format((3598+6992)/(3598+6992 + 36821)*100)"
   ]
  },
  {
   "cell_type": "markdown",
   "metadata": {},
   "source": [
    "## DAI mint + burn events / total events"
   ]
  },
  {
   "cell_type": "code",
   "execution_count": 39,
   "metadata": {},
   "outputs": [
    {
     "data": {
      "text/plain": [
       "'10.73 %'"
      ]
     },
     "execution_count": 39,
     "metadata": {},
     "output_type": "execute_result"
    }
   ],
   "source": [
    "'{:.2f} %'.format((150131+167956)/(150131+167956 + 2647517)*100)"
   ]
  },
  {
   "cell_type": "markdown",
   "metadata": {},
   "source": [
    "## Burn Events"
   ]
  },
  {
   "cell_type": "code",
   "execution_count": 40,
   "metadata": {},
   "outputs": [
    {
     "name": "stdout",
     "output_type": "stream",
     "text": [
      "In total, 181,679 Burn Events\n"
     ]
    },
    {
     "data": {
      "text/plain": [
       "({'usdc': 4659,\n",
       "  'paxos': 906,\n",
       "  'dai': 167956,\n",
       "  'tether': 49,\n",
       "  'trueusd': 4179,\n",
       "  'binanceusd': 332,\n",
       "  'husd': 3598},\n",
       " {'usdc': 356243.0,\n",
       "  'paxos': 1646955.0,\n",
       "  'dai': 7684.0,\n",
       "  'tether': 46336.0,\n",
       "  'trueusd': 221635.0,\n",
       "  'binanceusd': 1797560.0,\n",
       "  'husd': 396324.0})"
      ]
     },
     "execution_count": 40,
     "metadata": {},
     "output_type": "execute_result"
    }
   ],
   "source": [
    "tks = {}\n",
    "avg = {}\n",
    "rows = 0\n",
    "for i in _all_burn:\n",
    "    tk = i.split('/')[1]\n",
    "    if tk in ['dai', 'trueusd', 'paxos', 'binanceusd']:\n",
    "        dec=18\n",
    "    elif tk in ['husd']:\n",
    "        dec=8\n",
    "    else:\n",
    "        dec=6\n",
    "    df = pd.read_csv(i)\n",
    "    rws = len(df)\n",
    "    me = round((df['txvalue'].astype(float)/10**dec).mean())\n",
    "    rows += rws\n",
    "    tks[tk] = rws\n",
    "    avg[tk] = me\n",
    "    \n",
    "print('In total, {:,.0f} Burn Events'.format(rows))\n",
    "tks, avg"
   ]
  },
  {
   "cell_type": "markdown",
   "metadata": {},
   "source": [
    "## Number of events influencing the total supply"
   ]
  },
  {
   "cell_type": "code",
   "execution_count": 41,
   "metadata": {},
   "outputs": [
    {
     "data": {
      "text/plain": [
       "352065"
      ]
     },
     "execution_count": 41,
     "metadata": {},
     "output_type": "execute_result"
    }
   ],
   "source": [
    "170386+181679"
   ]
  },
  {
   "cell_type": "markdown",
   "metadata": {},
   "source": [
    "## DAI/Total"
   ]
  },
  {
   "cell_type": "code",
   "execution_count": 42,
   "metadata": {},
   "outputs": [
    {
     "data": {
      "text/plain": [
       "0.903489412466448"
      ]
     },
     "execution_count": 42,
     "metadata": {},
     "output_type": "execute_result"
    }
   ],
   "source": [
    "(150131+167956)/(170386+181679)"
   ]
  },
  {
   "cell_type": "markdown",
   "metadata": {},
   "source": [
    "## Dai Max Mint"
   ]
  },
  {
   "cell_type": "code",
   "execution_count": 43,
   "metadata": {},
   "outputs": [
    {
     "data": {
      "text/plain": [
       "(50010514.4993202,\n",
       " '2020-03-12',\n",
       " 1395,\n",
       " '9999999999999999999999',\n",
       " 8.268412335773972)"
      ]
     },
     "execution_count": 43,
     "metadata": {},
     "output_type": "execute_result"
    }
   ],
   "source": [
    "df = pd.read_csv(dai_mint, index_col=0)\n",
    "mean_all = []\n",
    "ts = 1573603200\n",
    "dailymax = 0\n",
    "\n",
    "while ts < 1593561600:\n",
    "    dailysum = sum(df[(df['timestamp'] >= ts) & (df['timestamp'] < ts+86400) ]['txvalue'].astype(float)/10**18)\n",
    "    if dailysum > dailymax:\n",
    "        dailymax = dailysum\n",
    "        day = str(datetime.utcfromtimestamp(ts))[0:10]\n",
    "        tos = len(df[(df['timestamp'] >= ts) & (df['timestamp'] < ts+86400) ]['txto'].unique())\n",
    "        lar = max(df[(df['timestamp'] >= ts) & (df['timestamp'] < ts+86400) ]['txvalue'])\n",
    "    mean_all.append(dailysum)\n",
    "    ts += 86400\n",
    "    \n",
    "dailymax, day, tos, lar, dailymax/(sum(mean_all)/len(mean_all))"
   ]
  },
  {
   "cell_type": "markdown",
   "metadata": {},
   "source": [
    "## Dai Max Burn"
   ]
  },
  {
   "cell_type": "code",
   "execution_count": 44,
   "metadata": {},
   "outputs": [
    {
     "data": {
      "text/plain": [
       "(49257315.902408466, '2020-03-12', 1, '9999999999999999999', 8.816399230229104)"
      ]
     },
     "execution_count": 44,
     "metadata": {},
     "output_type": "execute_result"
    }
   ],
   "source": [
    "df = pd.read_csv(dai_burn, index_col=0)\n",
    "mean_all = []\n",
    "ts = 1573603200\n",
    "dailymax = 0\n",
    "\n",
    "while ts < 1593561600:\n",
    "    dailysum = sum(df[(df['timestamp'] >= ts) & (df['timestamp'] < ts+86400) ]['txvalue'].astype(float)/10**18)\n",
    "    if dailysum > dailymax:\n",
    "        dailymax = dailysum\n",
    "        day = str(datetime.utcfromtimestamp(ts))[0:10]\n",
    "        tos = len(df[(df['timestamp'] >= ts) & (df['timestamp'] < ts+86400) ]['txto'].unique())\n",
    "        lar = max(df[(df['timestamp'] >= ts) & (df['timestamp'] < ts+86400) ]['txvalue'])\n",
    "    mean_all.append(dailysum)\n",
    "    ts += 86400\n",
    "    \n",
    "dailymax, day, tos, lar, dailymax/(sum(mean_all)/len(mean_all))"
   ]
  },
  {
   "cell_type": "code",
   "execution_count": 45,
   "metadata": {},
   "outputs": [
    {
     "data": {
      "text/html": [
       "<div>\n",
       "<style scoped>\n",
       "    .dataframe tbody tr th:only-of-type {\n",
       "        vertical-align: middle;\n",
       "    }\n",
       "\n",
       "    .dataframe tbody tr th {\n",
       "        vertical-align: top;\n",
       "    }\n",
       "\n",
       "    .dataframe thead th {\n",
       "        text-align: right;\n",
       "    }\n",
       "</style>\n",
       "<table border=\"1\" class=\"dataframe\">\n",
       "  <thead>\n",
       "    <tr style=\"text-align: right;\">\n",
       "      <th></th>\n",
       "      <th>timestamp</th>\n",
       "      <th>blocknumber</th>\n",
       "      <th>txindex</th>\n",
       "      <th>txhash</th>\n",
       "      <th>address</th>\n",
       "      <th>txvalue</th>\n",
       "      <th>gas_price</th>\n",
       "      <th>gas_used</th>\n",
       "    </tr>\n",
       "  </thead>\n",
       "  <tbody>\n",
       "    <tr>\n",
       "      <th>0</th>\n",
       "      <td>1537881127</td>\n",
       "      <td>6397040</td>\n",
       "      <td>18</td>\n",
       "      <td>0x9b47deb01c98c2206924627e3d8f75455bdc6d806a31...</td>\n",
       "      <td>0xe7ab0dd2a069fa115c0d7878af6fd95ba0f9100a</td>\n",
       "      <td>700000</td>\n",
       "      <td>4562519813</td>\n",
       "      <td>23817</td>\n",
       "    </tr>\n",
       "    <tr>\n",
       "      <th>1</th>\n",
       "      <td>1537974804</td>\n",
       "      <td>6403672</td>\n",
       "      <td>15</td>\n",
       "      <td>0x54dd56e75b866b31b1a889b3e236eb6a147ea04335e7...</td>\n",
       "      <td>0xe7ab0dd2a069fa115c0d7878af6fd95ba0f9100a</td>\n",
       "      <td>100600000</td>\n",
       "      <td>8199999999</td>\n",
       "      <td>23881</td>\n",
       "    </tr>\n",
       "    <tr>\n",
       "      <th>2</th>\n",
       "      <td>1537981159</td>\n",
       "      <td>6404133</td>\n",
       "      <td>25</td>\n",
       "      <td>0x5540f56e2f9d04a5588cde7979b27bc03ed058cc66cc...</td>\n",
       "      <td>0xe7ab0dd2a069fa115c0d7878af6fd95ba0f9100a</td>\n",
       "      <td>200000</td>\n",
       "      <td>9600000000</td>\n",
       "      <td>23817</td>\n",
       "    </tr>\n",
       "    <tr>\n",
       "      <th>3</th>\n",
       "      <td>1537989861</td>\n",
       "      <td>6404725</td>\n",
       "      <td>32</td>\n",
       "      <td>0x916cd2058bc9f22924dd68b28ab5a301945d556068f3...</td>\n",
       "      <td>0xe7ab0dd2a069fa115c0d7878af6fd95ba0f9100a</td>\n",
       "      <td>100000</td>\n",
       "      <td>9600000000</td>\n",
       "      <td>23817</td>\n",
       "    </tr>\n",
       "    <tr>\n",
       "      <th>4</th>\n",
       "      <td>1537991650</td>\n",
       "      <td>6404854</td>\n",
       "      <td>85</td>\n",
       "      <td>0xbedc798d5db254313d6594d20f2a3bd1dc5e5d775737...</td>\n",
       "      <td>0xe7ab0dd2a069fa115c0d7878af6fd95ba0f9100a</td>\n",
       "      <td>100000</td>\n",
       "      <td>9600000000</td>\n",
       "      <td>23817</td>\n",
       "    </tr>\n",
       "    <tr>\n",
       "      <th>...</th>\n",
       "      <td>...</td>\n",
       "      <td>...</td>\n",
       "      <td>...</td>\n",
       "      <td>...</td>\n",
       "      <td>...</td>\n",
       "      <td>...</td>\n",
       "      <td>...</td>\n",
       "      <td>...</td>\n",
       "    </tr>\n",
       "    <tr>\n",
       "      <th>4654</th>\n",
       "      <td>1593536756</td>\n",
       "      <td>10368389</td>\n",
       "      <td>86</td>\n",
       "      <td>0x209ca6899b12deed05b8ebbb21f8646ae6324c96fa75...</td>\n",
       "      <td>0xe7ab0dd2a069fa115c0d7878af6fd95ba0f9100a</td>\n",
       "      <td>1970000000000</td>\n",
       "      <td>52800000000</td>\n",
       "      <td>27677</td>\n",
       "    </tr>\n",
       "    <tr>\n",
       "      <th>4655</th>\n",
       "      <td>1593537484</td>\n",
       "      <td>10368436</td>\n",
       "      <td>7</td>\n",
       "      <td>0x214292924c7ff6942dd2af763f479996a98a120f2127...</td>\n",
       "      <td>0xe7ab0dd2a069fa115c0d7878af6fd95ba0f9100a</td>\n",
       "      <td>15298100000</td>\n",
       "      <td>52800000000</td>\n",
       "      <td>27677</td>\n",
       "    </tr>\n",
       "    <tr>\n",
       "      <th>4656</th>\n",
       "      <td>1593549721</td>\n",
       "      <td>10369366</td>\n",
       "      <td>19</td>\n",
       "      <td>0xcb735a0b76a2ccf8141a46cfbf5591f69ed3b75ca200...</td>\n",
       "      <td>0xe7ab0dd2a069fa115c0d7878af6fd95ba0f9100a</td>\n",
       "      <td>13500200000</td>\n",
       "      <td>36000000000</td>\n",
       "      <td>27677</td>\n",
       "    </tr>\n",
       "    <tr>\n",
       "      <th>4657</th>\n",
       "      <td>1593552047</td>\n",
       "      <td>10369544</td>\n",
       "      <td>42</td>\n",
       "      <td>0x9f9b07cb1c10bc67da15b0ad5ed497c42365bd07f038...</td>\n",
       "      <td>0xe7ab0dd2a069fa115c0d7878af6fd95ba0f9100a</td>\n",
       "      <td>4028860000</td>\n",
       "      <td>34800000000</td>\n",
       "      <td>27665</td>\n",
       "    </tr>\n",
       "    <tr>\n",
       "      <th>4658</th>\n",
       "      <td>1593554944</td>\n",
       "      <td>10369768</td>\n",
       "      <td>46</td>\n",
       "      <td>0x209441dc0e4828b913a64436bc39f8eae252d8167370...</td>\n",
       "      <td>0xe7ab0dd2a069fa115c0d7878af6fd95ba0f9100a</td>\n",
       "      <td>5000000000000</td>\n",
       "      <td>34800000000</td>\n",
       "      <td>27677</td>\n",
       "    </tr>\n",
       "  </tbody>\n",
       "</table>\n",
       "<p>4659 rows × 8 columns</p>\n",
       "</div>"
      ],
      "text/plain": [
       "       timestamp  blocknumber  txindex  \\\n",
       "0     1537881127      6397040       18   \n",
       "1     1537974804      6403672       15   \n",
       "2     1537981159      6404133       25   \n",
       "3     1537989861      6404725       32   \n",
       "4     1537991650      6404854       85   \n",
       "...          ...          ...      ...   \n",
       "4654  1593536756     10368389       86   \n",
       "4655  1593537484     10368436        7   \n",
       "4656  1593549721     10369366       19   \n",
       "4657  1593552047     10369544       42   \n",
       "4658  1593554944     10369768       46   \n",
       "\n",
       "                                                 txhash  \\\n",
       "0     0x9b47deb01c98c2206924627e3d8f75455bdc6d806a31...   \n",
       "1     0x54dd56e75b866b31b1a889b3e236eb6a147ea04335e7...   \n",
       "2     0x5540f56e2f9d04a5588cde7979b27bc03ed058cc66cc...   \n",
       "3     0x916cd2058bc9f22924dd68b28ab5a301945d556068f3...   \n",
       "4     0xbedc798d5db254313d6594d20f2a3bd1dc5e5d775737...   \n",
       "...                                                 ...   \n",
       "4654  0x209ca6899b12deed05b8ebbb21f8646ae6324c96fa75...   \n",
       "4655  0x214292924c7ff6942dd2af763f479996a98a120f2127...   \n",
       "4656  0xcb735a0b76a2ccf8141a46cfbf5591f69ed3b75ca200...   \n",
       "4657  0x9f9b07cb1c10bc67da15b0ad5ed497c42365bd07f038...   \n",
       "4658  0x209441dc0e4828b913a64436bc39f8eae252d8167370...   \n",
       "\n",
       "                                         address        txvalue    gas_price  \\\n",
       "0     0xe7ab0dd2a069fa115c0d7878af6fd95ba0f9100a         700000   4562519813   \n",
       "1     0xe7ab0dd2a069fa115c0d7878af6fd95ba0f9100a      100600000   8199999999   \n",
       "2     0xe7ab0dd2a069fa115c0d7878af6fd95ba0f9100a         200000   9600000000   \n",
       "3     0xe7ab0dd2a069fa115c0d7878af6fd95ba0f9100a         100000   9600000000   \n",
       "4     0xe7ab0dd2a069fa115c0d7878af6fd95ba0f9100a         100000   9600000000   \n",
       "...                                          ...            ...          ...   \n",
       "4654  0xe7ab0dd2a069fa115c0d7878af6fd95ba0f9100a  1970000000000  52800000000   \n",
       "4655  0xe7ab0dd2a069fa115c0d7878af6fd95ba0f9100a    15298100000  52800000000   \n",
       "4656  0xe7ab0dd2a069fa115c0d7878af6fd95ba0f9100a    13500200000  36000000000   \n",
       "4657  0xe7ab0dd2a069fa115c0d7878af6fd95ba0f9100a     4028860000  34800000000   \n",
       "4658  0xe7ab0dd2a069fa115c0d7878af6fd95ba0f9100a  5000000000000  34800000000   \n",
       "\n",
       "      gas_used  \n",
       "0        23817  \n",
       "1        23881  \n",
       "2        23817  \n",
       "3        23817  \n",
       "4        23817  \n",
       "...        ...  \n",
       "4654     27677  \n",
       "4655     27677  \n",
       "4656     27677  \n",
       "4657     27665  \n",
       "4658     27677  \n",
       "\n",
       "[4659 rows x 8 columns]"
      ]
     },
     "execution_count": 45,
     "metadata": {},
     "output_type": "execute_result"
    }
   ],
   "source": [
    "df = pd.read_csv(usdc_burn)\n",
    "df"
   ]
  },
  {
   "cell_type": "markdown",
   "metadata": {},
   "source": [
    "## Describe Mint and burns"
   ]
  },
  {
   "cell_type": "code",
   "execution_count": 46,
   "metadata": {},
   "outputs": [],
   "source": [
    "mb = pd.DataFrame()\n",
    "for i, j in zip(_all_mint,_all_burn):\n",
    "    tk = i.split('/')[1]\n",
    "    tk2 = j.split('/')[1]\n",
    "    assert(tk==tk2)\n",
    "    if tk in ['dai', 'trueusd', 'paxos', 'binanceusd']:\n",
    "        dec=18\n",
    "    elif tk in ['husd']:\n",
    "        dec=8\n",
    "    else:\n",
    "        dec=6\n",
    "    df = pd.read_csv(i)\n",
    "    df2 = pd.read_csv(j)\n",
    "    mn = pd.DataFrame({tk+'_mint':df['txvalue'].astype(float)/10**dec})\n",
    "    mn2 = pd.DataFrame({tk+'_burn':df2['txvalue'].astype(float)/10**dec})\n",
    "    mb = pd.concat([mb, mn], axis=1)\n",
    "    mb = pd.concat([mb, mn2], axis=1)\n",
    "    "
   ]
  },
  {
   "cell_type": "code",
   "execution_count": 47,
   "metadata": {},
   "outputs": [
    {
     "data": {
      "text/html": [
       "<div>\n",
       "<style scoped>\n",
       "    .dataframe tbody tr th:only-of-type {\n",
       "        vertical-align: middle;\n",
       "    }\n",
       "\n",
       "    .dataframe tbody tr th {\n",
       "        vertical-align: top;\n",
       "    }\n",
       "\n",
       "    .dataframe thead th {\n",
       "        text-align: right;\n",
       "    }\n",
       "</style>\n",
       "<table border=\"1\" class=\"dataframe\">\n",
       "  <thead>\n",
       "    <tr style=\"text-align: right;\">\n",
       "      <th></th>\n",
       "      <th>usdc_mint</th>\n",
       "      <th>usdc_burn</th>\n",
       "      <th>paxos_mint</th>\n",
       "      <th>paxos_burn</th>\n",
       "      <th>dai_mint</th>\n",
       "      <th>dai_burn</th>\n",
       "      <th>tether_mint</th>\n",
       "      <th>tether_burn</th>\n",
       "      <th>trueusd_mint</th>\n",
       "      <th>trueusd_burn</th>\n",
       "      <th>binanceusd_mint</th>\n",
       "      <th>binanceusd_burn</th>\n",
       "      <th>husd_mint</th>\n",
       "      <th>husd_burn</th>\n",
       "    </tr>\n",
       "  </thead>\n",
       "  <tbody>\n",
       "    <tr>\n",
       "      <th>count</th>\n",
       "      <td>5,358</td>\n",
       "      <td>4,659</td>\n",
       "      <td>940</td>\n",
       "      <td>906</td>\n",
       "      <td>150,131</td>\n",
       "      <td>167,956</td>\n",
       "      <td>74</td>\n",
       "      <td>49</td>\n",
       "      <td>6,552</td>\n",
       "      <td>4,179</td>\n",
       "      <td>339</td>\n",
       "      <td>332</td>\n",
       "      <td>6,992</td>\n",
       "      <td>3,598</td>\n",
       "    </tr>\n",
       "    <tr>\n",
       "      <th>mean</th>\n",
       "      <td>493,706</td>\n",
       "      <td>356,243</td>\n",
       "      <td>1,843,898</td>\n",
       "      <td>1,646,955</td>\n",
       "      <td>9,306</td>\n",
       "      <td>7,684</td>\n",
       "      <td>81,623,216</td>\n",
       "      <td>46,336</td>\n",
       "      <td>162,716</td>\n",
       "      <td>221,635</td>\n",
       "      <td>2,277,252</td>\n",
       "      <td>1,797,560</td>\n",
       "      <td>220,325</td>\n",
       "      <td>396,324</td>\n",
       "    </tr>\n",
       "    <tr>\n",
       "      <th>std</th>\n",
       "      <td>2,281,151</td>\n",
       "      <td>1,392,515</td>\n",
       "      <td>2,550,257</td>\n",
       "      <td>2,153,321</td>\n",
       "      <td>101,596</td>\n",
       "      <td>91,764</td>\n",
       "      <td>64,045,805</td>\n",
       "      <td>132,812</td>\n",
       "      <td>554,634</td>\n",
       "      <td>574,051</td>\n",
       "      <td>2,826,449</td>\n",
       "      <td>2,568,350</td>\n",
       "      <td>592,585</td>\n",
       "      <td>840,599</td>\n",
       "    </tr>\n",
       "    <tr>\n",
       "      <th>min</th>\n",
       "      <td>0</td>\n",
       "      <td>0</td>\n",
       "      <td>0</td>\n",
       "      <td>0</td>\n",
       "      <td>0</td>\n",
       "      <td>0</td>\n",
       "      <td>8,006</td>\n",
       "      <td>2</td>\n",
       "      <td>0</td>\n",
       "      <td>0</td>\n",
       "      <td>1</td>\n",
       "      <td>1</td>\n",
       "      <td>1</td>\n",
       "      <td>1</td>\n",
       "    </tr>\n",
       "    <tr>\n",
       "      <th>25%</th>\n",
       "      <td>3,881</td>\n",
       "      <td>4,177</td>\n",
       "      <td>176,900</td>\n",
       "      <td>270,000</td>\n",
       "      <td>26</td>\n",
       "      <td>6</td>\n",
       "      <td>30,000,000</td>\n",
       "      <td>1,027</td>\n",
       "      <td>8,260</td>\n",
       "      <td>8,830</td>\n",
       "      <td>226,099</td>\n",
       "      <td>247,588</td>\n",
       "      <td>74,999</td>\n",
       "      <td>49,999</td>\n",
       "    </tr>\n",
       "    <tr>\n",
       "      <th>50%</th>\n",
       "      <td>19,892</td>\n",
       "      <td>18,621</td>\n",
       "      <td>801,865</td>\n",
       "      <td>863,383</td>\n",
       "      <td>238</td>\n",
       "      <td>100</td>\n",
       "      <td>60,000,000</td>\n",
       "      <td>3,636</td>\n",
       "      <td>19,989</td>\n",
       "      <td>49,999</td>\n",
       "      <td>895,339</td>\n",
       "      <td>881,002</td>\n",
       "      <td>97,305</td>\n",
       "      <td>97,749</td>\n",
       "    </tr>\n",
       "    <tr>\n",
       "      <th>75%</th>\n",
       "      <td>107,744</td>\n",
       "      <td>205,811</td>\n",
       "      <td>2,500,000</td>\n",
       "      <td>2,192,586</td>\n",
       "      <td>1,750</td>\n",
       "      <td>1,027</td>\n",
       "      <td>120,000,000</td>\n",
       "      <td>27,674</td>\n",
       "      <td>101,144</td>\n",
       "      <td>182,522</td>\n",
       "      <td>3,698,886</td>\n",
       "      <td>2,065,372</td>\n",
       "      <td>150,692</td>\n",
       "      <td>350,000</td>\n",
       "    </tr>\n",
       "    <tr>\n",
       "      <th>max</th>\n",
       "      <td>35,028,442</td>\n",
       "      <td>44,230,590</td>\n",
       "      <td>21,912,464</td>\n",
       "      <td>25,299,564</td>\n",
       "      <td>10,000,613</td>\n",
       "      <td>12,000,717</td>\n",
       "      <td>300,000,000</td>\n",
       "      <td>884,664</td>\n",
       "      <td>11,372,152</td>\n",
       "      <td>16,393,562</td>\n",
       "      <td>14,377,033</td>\n",
       "      <td>18,092,256</td>\n",
       "      <td>10,000,000</td>\n",
       "      <td>10,278,258</td>\n",
       "    </tr>\n",
       "  </tbody>\n",
       "</table>\n",
       "</div>"
      ],
      "text/plain": [
       "       usdc_mint  usdc_burn  paxos_mint  paxos_burn   dai_mint   dai_burn  \\\n",
       "count      5,358      4,659         940         906    150,131    167,956   \n",
       "mean     493,706    356,243   1,843,898   1,646,955      9,306      7,684   \n",
       "std    2,281,151  1,392,515   2,550,257   2,153,321    101,596     91,764   \n",
       "min            0          0           0           0          0          0   \n",
       "25%        3,881      4,177     176,900     270,000         26          6   \n",
       "50%       19,892     18,621     801,865     863,383        238        100   \n",
       "75%      107,744    205,811   2,500,000   2,192,586      1,750      1,027   \n",
       "max   35,028,442 44,230,590  21,912,464  25,299,564 10,000,613 12,000,717   \n",
       "\n",
       "       tether_mint  tether_burn  trueusd_mint  trueusd_burn  binanceusd_mint  \\\n",
       "count           74           49         6,552         4,179              339   \n",
       "mean    81,623,216       46,336       162,716       221,635        2,277,252   \n",
       "std     64,045,805      132,812       554,634       574,051        2,826,449   \n",
       "min          8,006            2             0             0                1   \n",
       "25%     30,000,000        1,027         8,260         8,830          226,099   \n",
       "50%     60,000,000        3,636        19,989        49,999          895,339   \n",
       "75%    120,000,000       27,674       101,144       182,522        3,698,886   \n",
       "max    300,000,000      884,664    11,372,152    16,393,562       14,377,033   \n",
       "\n",
       "       binanceusd_burn  husd_mint  husd_burn  \n",
       "count              332      6,992      3,598  \n",
       "mean         1,797,560    220,325    396,324  \n",
       "std          2,568,350    592,585    840,599  \n",
       "min                  1          1          1  \n",
       "25%            247,588     74,999     49,999  \n",
       "50%            881,002     97,305     97,749  \n",
       "75%          2,065,372    150,692    350,000  \n",
       "max         18,092,256 10,000,000 10,278,258  "
      ]
     },
     "execution_count": 47,
     "metadata": {},
     "output_type": "execute_result"
    }
   ],
   "source": [
    "pd.set_option('display.float_format', lambda x: format(x, ',.0f'))\n",
    "mb.describe()"
   ]
  },
  {
   "cell_type": "markdown",
   "metadata": {},
   "source": [
    "## Tether Mints in 2020"
   ]
  },
  {
   "cell_type": "code",
   "execution_count": 48,
   "metadata": {},
   "outputs": [
    {
     "data": {
      "text/plain": [
       "(3740008005.642, 0.6191945260255685)"
      ]
     },
     "execution_count": 48,
     "metadata": {},
     "output_type": "execute_result"
    }
   ],
   "source": [
    "df = pd.read_csv(tether_mint)\n",
    "to_mi = sum(df['txvalue'])\n",
    "ts = 1577836800 # 01.01.2020\n",
    "sum(df[df['timestamp'] >= ts]['txvalue'])/10**6,sum(df[df['timestamp'] >= ts]['txvalue'])/to_mi"
   ]
  },
  {
   "cell_type": "markdown",
   "metadata": {},
   "source": [
    "## DAI mints to unique addresses"
   ]
  },
  {
   "cell_type": "code",
   "execution_count": 49,
   "metadata": {},
   "outputs": [
    {
     "data": {
      "text/plain": [
       "35150"
      ]
     },
     "execution_count": 49,
     "metadata": {},
     "output_type": "execute_result"
    }
   ],
   "source": [
    "len(pd.read_csv(dai_mint, index_col=0)['txto'].unique())"
   ]
  },
  {
   "cell_type": "markdown",
   "metadata": {},
   "source": [
    "## DAI burns from unique addresses"
   ]
  },
  {
   "cell_type": "code",
   "execution_count": 50,
   "metadata": {},
   "outputs": [
    {
     "data": {
      "text/plain": [
       "15471"
      ]
     },
     "execution_count": 50,
     "metadata": {},
     "output_type": "execute_result"
    }
   ],
   "source": [
    "len(pd.read_csv(dai_burn, index_col=0)['address'].unique())"
   ]
  },
  {
   "cell_type": "markdown",
   "metadata": {},
   "source": [
    "## Tether burns from unique addresses"
   ]
  },
  {
   "cell_type": "code",
   "execution_count": 51,
   "metadata": {},
   "outputs": [
    {
     "data": {
      "text/plain": [
       "32"
      ]
     },
     "execution_count": 51,
     "metadata": {},
     "output_type": "execute_result"
    }
   ],
   "source": [
    "len(pd.read_csv(tether_burn, index_col=0)['address'].unique())"
   ]
  },
  {
   "cell_type": "markdown",
   "metadata": {},
   "source": [
    "## USDC mints to unique addresses"
   ]
  },
  {
   "cell_type": "code",
   "execution_count": 52,
   "metadata": {},
   "outputs": [
    {
     "data": {
      "text/plain": [
       "(3,\n",
       " array(['0x55fe002aeff02f77364de339a1292923a15844b8',\n",
       "        '0x28c5b0445d0728bc25f143f8eba5c5539fae151a',\n",
       "        '0x895f07957b863f4ab6086035a6990d8366bc3266'], dtype=object))"
      ]
     },
     "execution_count": 52,
     "metadata": {},
     "output_type": "execute_result"
    }
   ],
   "source": [
    "df = pd.read_csv(usdc_mint, index_col=0)\n",
    "len(df['address'].unique()),df['address'].unique()"
   ]
  },
  {
   "cell_type": "code",
   "execution_count": 53,
   "metadata": {},
   "outputs": [
    {
     "data": {
      "text/plain": [
       "2645276048.520032"
      ]
     },
     "execution_count": 53,
     "metadata": {},
     "output_type": "execute_result"
    }
   ],
   "source": [
    "df = pd.read_csv(usdc_mint, index_col=0)\n",
    "sum(df[df['address'] == '0x55fe002aeff02f77364de339a1292923a15844b8']['txvalue']/10**6)"
   ]
  },
  {
   "cell_type": "markdown",
   "metadata": {},
   "source": [
    "## USDC burns from unique addresses"
   ]
  },
  {
   "cell_type": "code",
   "execution_count": 54,
   "metadata": {},
   "outputs": [
    {
     "data": {
      "text/plain": [
       "(3,\n",
       " array(['0xe7ab0dd2a069fa115c0d7878af6fd95ba0f9100a',\n",
       "        '0x24bdd8771b08c2ea6fe0e898126e65bd49021be3',\n",
       "        '0xd4c1315948125cd20c11c5e9565a3632c1710055'], dtype=object))"
      ]
     },
     "execution_count": 54,
     "metadata": {},
     "output_type": "execute_result"
    }
   ],
   "source": [
    "df = pd.read_csv(usdc_burn, index_col=0)\n",
    "len(df['address'].unique()),df['address'].unique()"
   ]
  },
  {
   "cell_type": "code",
   "execution_count": 55,
   "metadata": {},
   "outputs": [
    {
     "data": {
      "text/plain": [
       "18.34"
      ]
     },
     "execution_count": 55,
     "metadata": {},
     "output_type": "execute_result"
    }
   ],
   "source": [
    "df = pd.read_csv(usdc_burn, index_col=0)\n",
    "sum(df[df['address'] == '0xd4c1315948125cd20c11c5e9565a3632c1710055']['txvalue']/10**6)"
   ]
  },
  {
   "cell_type": "markdown",
   "metadata": {},
   "source": [
    "## TrueUSD mints to unique addresses"
   ]
  },
  {
   "cell_type": "code",
   "execution_count": 56,
   "metadata": {},
   "outputs": [
    {
     "data": {
      "text/plain": [
       "793"
      ]
     },
     "execution_count": 56,
     "metadata": {},
     "output_type": "execute_result"
    }
   ],
   "source": [
    "len(pd.read_csv(trueusd_mint, index_col=0)['address'].unique())"
   ]
  },
  {
   "cell_type": "markdown",
   "metadata": {},
   "source": [
    "## TrueUSD burns from unique addresses"
   ]
  },
  {
   "cell_type": "code",
   "execution_count": 57,
   "metadata": {},
   "outputs": [
    {
     "data": {
      "text/plain": [
       "483"
      ]
     },
     "execution_count": 57,
     "metadata": {},
     "output_type": "execute_result"
    }
   ],
   "source": [
    "len(pd.read_csv(trueusd_burn, index_col=0)['address'].unique())"
   ]
  },
  {
   "cell_type": "markdown",
   "metadata": {},
   "source": [
    "## Paxos, BinanceUSD and HUSD mints to unique addresses"
   ]
  },
  {
   "cell_type": "code",
   "execution_count": 58,
   "metadata": {},
   "outputs": [
    {
     "data": {
      "text/plain": [
       "(2, 1, 129)"
      ]
     },
     "execution_count": 58,
     "metadata": {},
     "output_type": "execute_result"
    }
   ],
   "source": [
    "len(pd.read_csv(paxos_mint, index_col=0)['address'].unique()),len(pd.read_csv(binanceusd_mint, index_col=0)['address'].unique()),len(pd.read_csv(husd_mint, index_col=0)['address'].unique())"
   ]
  },
  {
   "cell_type": "markdown",
   "metadata": {},
   "source": [
    "## Paxos, BinanceUSD and HUSD burns from unique addresses"
   ]
  },
  {
   "cell_type": "code",
   "execution_count": 59,
   "metadata": {},
   "outputs": [
    {
     "data": {
      "text/plain": [
       "(2, 1, 75)"
      ]
     },
     "execution_count": 59,
     "metadata": {},
     "output_type": "execute_result"
    }
   ],
   "source": [
    "len(pd.read_csv(paxos_burn, index_col=0)['address'].unique()),len(pd.read_csv(binanceusd_burn, index_col=0)['address'].unique()),len(pd.read_csv(husd_burn, index_col=0)['address'].unique())"
   ]
  },
  {
   "cell_type": "markdown",
   "metadata": {},
   "source": [
    "## DAI total Mint"
   ]
  },
  {
   "cell_type": "code",
   "execution_count": 60,
   "metadata": {},
   "outputs": [
    {
     "data": {
      "text/plain": [
       "1397176190.5681052"
      ]
     },
     "execution_count": 60,
     "metadata": {},
     "output_type": "execute_result"
    }
   ],
   "source": [
    "sum(pd.read_csv(dai_mint, index_col=0)['txvalue'].astype(float)/10**18)"
   ]
  },
  {
   "cell_type": "markdown",
   "metadata": {},
   "source": [
    "## DAI total Burn"
   ]
  },
  {
   "cell_type": "code",
   "execution_count": 61,
   "metadata": {},
   "outputs": [
    {
     "data": {
      "text/plain": [
       "1290599447.2712698"
      ]
     },
     "execution_count": 61,
     "metadata": {},
     "output_type": "execute_result"
    }
   ],
   "source": [
    "sum(pd.read_csv(dai_burn, index_col=0)['txvalue'].astype(float)/10**18)"
   ]
  },
  {
   "cell_type": "markdown",
   "metadata": {},
   "source": [
    "## Tether total Burn"
   ]
  },
  {
   "cell_type": "code",
   "execution_count": 62,
   "metadata": {},
   "outputs": [
    {
     "data": {
      "text/plain": [
       "2270454.964644"
      ]
     },
     "execution_count": 62,
     "metadata": {},
     "output_type": "execute_result"
    }
   ],
   "source": [
    "sum(pd.read_csv(tether_burn, index_col=0)['txvalue'].astype(float)/10**6)"
   ]
  },
  {
   "cell_type": "markdown",
   "metadata": {},
   "source": [
    "## USDC total Mint"
   ]
  },
  {
   "cell_type": "code",
   "execution_count": 63,
   "metadata": {},
   "outputs": [
    {
     "data": {
      "text/plain": [
       "2645276542.510031"
      ]
     },
     "execution_count": 63,
     "metadata": {},
     "output_type": "execute_result"
    }
   ],
   "source": [
    "sum(pd.read_csv(usdc_mint, index_col=0)['txvalue'].astype(float)/10**6)"
   ]
  },
  {
   "cell_type": "markdown",
   "metadata": {},
   "source": [
    "## USDC total Burn"
   ]
  },
  {
   "cell_type": "code",
   "execution_count": 64,
   "metadata": {},
   "outputs": [
    {
     "data": {
      "text/plain": [
       "1659736362.6299958"
      ]
     },
     "execution_count": 64,
     "metadata": {},
     "output_type": "execute_result"
    }
   ],
   "source": [
    "sum(pd.read_csv(usdc_burn, index_col=0)['txvalue'].astype(float)/10**6)"
   ]
  },
  {
   "cell_type": "markdown",
   "metadata": {},
   "source": [
    "## TrueUSD total Mint"
   ]
  },
  {
   "cell_type": "code",
   "execution_count": 65,
   "metadata": {},
   "outputs": [
    {
     "data": {
      "text/plain": [
       "1066112356.8955718"
      ]
     },
     "execution_count": 65,
     "metadata": {},
     "output_type": "execute_result"
    }
   ],
   "source": [
    "sum(pd.read_csv(trueusd_mint, index_col=0)['txvalue'].astype(float)/10**18)"
   ]
  },
  {
   "cell_type": "markdown",
   "metadata": {},
   "source": [
    "## TrueUSD total Burn"
   ]
  },
  {
   "cell_type": "code",
   "execution_count": 66,
   "metadata": {},
   "outputs": [
    {
     "data": {
      "text/plain": [
       "926210674.3655705"
      ]
     },
     "execution_count": 66,
     "metadata": {},
     "output_type": "execute_result"
    }
   ],
   "source": [
    "sum(pd.read_csv(trueusd_burn, index_col=0)['txvalue'].astype(float)/10**18)"
   ]
  },
  {
   "cell_type": "markdown",
   "metadata": {},
   "source": [
    "## PAX, BUSD and HUSD total Mint"
   ]
  },
  {
   "cell_type": "code",
   "execution_count": 67,
   "metadata": {},
   "outputs": [
    {
     "data": {
      "text/plain": [
       "(1733264062.0199983, 771988399.8999997, 1540511784.5581985)"
      ]
     },
     "execution_count": 67,
     "metadata": {},
     "output_type": "execute_result"
    }
   ],
   "source": [
    "sum(pd.read_csv(paxos_mint, index_col=0)['txvalue'].astype(float)/10**18),sum(pd.read_csv(binanceusd_mint, index_col=0)['txvalue'].astype(float)/10**18),sum(pd.read_csv(husd_mint, index_col=0)['txvalue'].astype(float)/10**8)"
   ]
  },
  {
   "cell_type": "markdown",
   "metadata": {},
   "source": [
    "## PAX, BUSD and HUSD total Burn"
   ]
  },
  {
   "cell_type": "code",
   "execution_count": 68,
   "metadata": {},
   "outputs": [
    {
     "data": {
      "text/plain": [
       "(1492140815.3200006, 596789972.3399998, 1425973065.4483216)"
      ]
     },
     "execution_count": 68,
     "metadata": {},
     "output_type": "execute_result"
    }
   ],
   "source": [
    "sum(pd.read_csv(paxos_burn, index_col=0)['txvalue'].astype(float)/10**18),sum(pd.read_csv(binanceusd_burn, index_col=0)['txvalue'].astype(float)/10**18),sum(pd.read_csv(husd_burn, index_col=0)['txvalue'].astype(float)/10**8)"
   ]
  },
  {
   "cell_type": "code",
   "execution_count": 69,
   "metadata": {},
   "outputs": [
    {
     "data": {
      "text/html": [
       "<div>\n",
       "<style scoped>\n",
       "    .dataframe tbody tr th:only-of-type {\n",
       "        vertical-align: middle;\n",
       "    }\n",
       "\n",
       "    .dataframe tbody tr th {\n",
       "        vertical-align: top;\n",
       "    }\n",
       "\n",
       "    .dataframe thead th {\n",
       "        text-align: right;\n",
       "    }\n",
       "</style>\n",
       "<table border=\"1\" class=\"dataframe\">\n",
       "  <thead>\n",
       "    <tr style=\"text-align: right;\">\n",
       "      <th></th>\n",
       "      <th>blocknumber</th>\n",
       "      <th>txindex</th>\n",
       "      <th>txhash</th>\n",
       "      <th>address</th>\n",
       "      <th>txvalue</th>\n",
       "      <th>gas_price</th>\n",
       "      <th>gas_used</th>\n",
       "    </tr>\n",
       "    <tr>\n",
       "      <th>timestamp</th>\n",
       "      <th></th>\n",
       "      <th></th>\n",
       "      <th></th>\n",
       "      <th></th>\n",
       "      <th></th>\n",
       "      <th></th>\n",
       "      <th></th>\n",
       "    </tr>\n",
       "  </thead>\n",
       "  <tbody>\n",
       "    <tr>\n",
       "      <th>1538687920</th>\n",
       "      <td>6454091</td>\n",
       "      <td>0</td>\n",
       "      <td>0x61afd4f9432220240e946be97c4c31f724d33d4762d1...</td>\n",
       "      <td>0xcba1766e19f32d79e3ba7a2764f04a7042324f0a</td>\n",
       "      <td>834660550000000000000000</td>\n",
       "      <td>140000000000</td>\n",
       "      <td>40024</td>\n",
       "    </tr>\n",
       "    <tr>\n",
       "      <th>1539028971</th>\n",
       "      <td>6478494</td>\n",
       "      <td>15</td>\n",
       "      <td>0xbf1a0cbe7c01b7e8f0072b64c4113865d0eef3e725c6...</td>\n",
       "      <td>0xcba1766e19f32d79e3ba7a2764f04a7042324f0a</td>\n",
       "      <td>998561240000000000000000</td>\n",
       "      <td>92000000000</td>\n",
       "      <td>39960</td>\n",
       "    </tr>\n",
       "    <tr>\n",
       "      <th>1539114508</th>\n",
       "      <td>6484536</td>\n",
       "      <td>7</td>\n",
       "      <td>0xc0a5591fcf14b69fad663c701f68ab5b664c10103397...</td>\n",
       "      <td>0xcba1766e19f32d79e3ba7a2764f04a7042324f0a</td>\n",
       "      <td>75610000000000000000000</td>\n",
       "      <td>15000000000</td>\n",
       "      <td>40024</td>\n",
       "    </tr>\n",
       "    <tr>\n",
       "      <th>1539206117</th>\n",
       "      <td>6491114</td>\n",
       "      <td>12</td>\n",
       "      <td>0x0faef377875ab3c020762170ebed89a73629a3f2be9d...</td>\n",
       "      <td>0xcba1766e19f32d79e3ba7a2764f04a7042324f0a</td>\n",
       "      <td>198578540000000000000000</td>\n",
       "      <td>32000000000</td>\n",
       "      <td>40024</td>\n",
       "    </tr>\n",
       "    <tr>\n",
       "      <th>1539287543</th>\n",
       "      <td>6496901</td>\n",
       "      <td>126</td>\n",
       "      <td>0x319850d58422bef004356d25c5c2fe44f9d7f9eaa53d...</td>\n",
       "      <td>0xcba1766e19f32d79e3ba7a2764f04a7042324f0a</td>\n",
       "      <td>92628200000000000000000</td>\n",
       "      <td>20000000000</td>\n",
       "      <td>40024</td>\n",
       "    </tr>\n",
       "    <tr>\n",
       "      <th>1539724381</th>\n",
       "      <td>6527996</td>\n",
       "      <td>25</td>\n",
       "      <td>0xb1e8ea50235b5746addacb5529bf1dc5aa45ab3592b4...</td>\n",
       "      <td>0xcba1766e19f32d79e3ba7a2764f04a7042324f0a</td>\n",
       "      <td>288185400000000000000000</td>\n",
       "      <td>14000000000</td>\n",
       "      <td>40024</td>\n",
       "    </tr>\n",
       "    <tr>\n",
       "      <th>1539803972</th>\n",
       "      <td>6533639</td>\n",
       "      <td>1</td>\n",
       "      <td>0x7d4e361f1b709c0ce36b88f3ed26cb831fdbdc39d111...</td>\n",
       "      <td>0xcba1766e19f32d79e3ba7a2764f04a7042324f0a</td>\n",
       "      <td>249748700000000000000000</td>\n",
       "      <td>12000000000</td>\n",
       "      <td>40024</td>\n",
       "    </tr>\n",
       "    <tr>\n",
       "      <th>1539816033</th>\n",
       "      <td>6534506</td>\n",
       "      <td>1</td>\n",
       "      <td>0x1ac3e842eabcfafd429ed07c398df69d410b271fb83c...</td>\n",
       "      <td>0xcba1766e19f32d79e3ba7a2764f04a7042324f0a</td>\n",
       "      <td>100249000000000000000000</td>\n",
       "      <td>20000000000</td>\n",
       "      <td>40024</td>\n",
       "    </tr>\n",
       "    <tr>\n",
       "      <th>1539894508</th>\n",
       "      <td>6540075</td>\n",
       "      <td>60</td>\n",
       "      <td>0x188e970a9af0d5c4206e579948123e2efa26ce158c7a...</td>\n",
       "      <td>0xcba1766e19f32d79e3ba7a2764f04a7042324f0a</td>\n",
       "      <td>267874040000000000000000</td>\n",
       "      <td>14000000000</td>\n",
       "      <td>40024</td>\n",
       "    </tr>\n",
       "  </tbody>\n",
       "</table>\n",
       "</div>"
      ],
      "text/plain": [
       "            blocknumber  txindex  \\\n",
       "timestamp                          \n",
       "1538687920      6454091        0   \n",
       "1539028971      6478494       15   \n",
       "1539114508      6484536        7   \n",
       "1539206117      6491114       12   \n",
       "1539287543      6496901      126   \n",
       "1539724381      6527996       25   \n",
       "1539803972      6533639        1   \n",
       "1539816033      6534506        1   \n",
       "1539894508      6540075       60   \n",
       "\n",
       "                                                       txhash  \\\n",
       "timestamp                                                       \n",
       "1538687920  0x61afd4f9432220240e946be97c4c31f724d33d4762d1...   \n",
       "1539028971  0xbf1a0cbe7c01b7e8f0072b64c4113865d0eef3e725c6...   \n",
       "1539114508  0xc0a5591fcf14b69fad663c701f68ab5b664c10103397...   \n",
       "1539206117  0x0faef377875ab3c020762170ebed89a73629a3f2be9d...   \n",
       "1539287543  0x319850d58422bef004356d25c5c2fe44f9d7f9eaa53d...   \n",
       "1539724381  0xb1e8ea50235b5746addacb5529bf1dc5aa45ab3592b4...   \n",
       "1539803972  0x7d4e361f1b709c0ce36b88f3ed26cb831fdbdc39d111...   \n",
       "1539816033  0x1ac3e842eabcfafd429ed07c398df69d410b271fb83c...   \n",
       "1539894508  0x188e970a9af0d5c4206e579948123e2efa26ce158c7a...   \n",
       "\n",
       "                                               address  \\\n",
       "timestamp                                                \n",
       "1538687920  0xcba1766e19f32d79e3ba7a2764f04a7042324f0a   \n",
       "1539028971  0xcba1766e19f32d79e3ba7a2764f04a7042324f0a   \n",
       "1539114508  0xcba1766e19f32d79e3ba7a2764f04a7042324f0a   \n",
       "1539206117  0xcba1766e19f32d79e3ba7a2764f04a7042324f0a   \n",
       "1539287543  0xcba1766e19f32d79e3ba7a2764f04a7042324f0a   \n",
       "1539724381  0xcba1766e19f32d79e3ba7a2764f04a7042324f0a   \n",
       "1539803972  0xcba1766e19f32d79e3ba7a2764f04a7042324f0a   \n",
       "1539816033  0xcba1766e19f32d79e3ba7a2764f04a7042324f0a   \n",
       "1539894508  0xcba1766e19f32d79e3ba7a2764f04a7042324f0a   \n",
       "\n",
       "                             txvalue     gas_price  gas_used  \n",
       "timestamp                                                     \n",
       "1538687920  834660550000000000000000  140000000000     40024  \n",
       "1539028971  998561240000000000000000   92000000000     39960  \n",
       "1539114508   75610000000000000000000   15000000000     40024  \n",
       "1539206117  198578540000000000000000   32000000000     40024  \n",
       "1539287543   92628200000000000000000   20000000000     40024  \n",
       "1539724381  288185400000000000000000   14000000000     40024  \n",
       "1539803972  249748700000000000000000   12000000000     40024  \n",
       "1539816033  100249000000000000000000   20000000000     40024  \n",
       "1539894508  267874040000000000000000   14000000000     40024  "
      ]
     },
     "execution_count": 69,
     "metadata": {},
     "output_type": "execute_result"
    }
   ],
   "source": [
    "df = pd.read_csv(paxos_burn, index_col=0)#\n",
    "df[df['address'] != '0x5195427ca88df768c298721da791b93ad11eca65']"
   ]
  },
  {
   "cell_type": "markdown",
   "metadata": {},
   "source": [
    "<center></center>"
   ]
  },
  {
   "cell_type": "markdown",
   "metadata": {},
   "source": [
    "<center></center>"
   ]
  },
  {
   "cell_type": "markdown",
   "metadata": {},
   "source": [
    "<center></center>"
   ]
  },
  {
   "cell_type": "markdown",
   "metadata": {},
   "source": [
    "<center></center>"
   ]
  },
  {
   "cell_type": "markdown",
   "metadata": {},
   "source": [
    "<center></center>"
   ]
  },
  {
   "cell_type": "markdown",
   "metadata": {},
   "source": [
    "<center></center>"
   ]
  },
  {
   "cell_type": "markdown",
   "metadata": {},
   "source": [
    "# Address Analytics"
   ]
  },
  {
   "cell_type": "markdown",
   "metadata": {},
   "source": [
    "## Total Addresses"
   ]
  },
  {
   "cell_type": "code",
   "execution_count": 70,
   "metadata": {},
   "outputs": [
    {
     "name": "stdout",
     "output_type": "stream",
     "text": [
      "Total unique addresses: 8,372,918\n"
     ]
    },
    {
     "data": {
      "text/plain": [
       "{'dai': '250,327',\n",
       " 'tether': '6,301,972',\n",
       " 'usdc': '778,574',\n",
       " 'paxos': '1,029,973',\n",
       " 'trueusd': '145,346',\n",
       " 'binanceusd': '10,395',\n",
       " 'husd': '3,739'}"
      ]
     },
     "execution_count": 70,
     "metadata": {},
     "output_type": "execute_result"
    }
   ],
   "source": [
    "addr = []\n",
    "toke = {}\n",
    "for i in _all_balances:\n",
    "    tk = i.split('/')[1]\n",
    "    df = pd.read_csv(i)\n",
    "    df = df['address'].tolist()\n",
    "    addr = addr + df\n",
    "    toke[tk] = '{:,.0f}'.format(len(df))\n",
    "    \n",
    "print('Total unique addresses: {:,.0f}'.format(len(set(addr))))\n",
    "toke"
   ]
  },
  {
   "cell_type": "markdown",
   "metadata": {},
   "source": [
    "## Tethers share of addresses"
   ]
  },
  {
   "cell_type": "code",
   "execution_count": 71,
   "metadata": {},
   "outputs": [
    {
     "data": {
      "text/plain": [
       "0.7526613780285439"
      ]
     },
     "execution_count": 71,
     "metadata": {},
     "output_type": "execute_result"
    }
   ],
   "source": [
    "6301972/8372918"
   ]
  },
  {
   "cell_type": "markdown",
   "metadata": {},
   "source": [
    "## Total positive Addresses"
   ]
  },
  {
   "cell_type": "code",
   "execution_count": 72,
   "metadata": {},
   "outputs": [],
   "source": [
    "fr = pd.read_csv('plots/summary/from.csv')\n",
    "to = pd.read_csv('plots/summary/to.csv')\n",
    "df = fr.append(to).groupby('Unnamed: 0').sum()"
   ]
  },
  {
   "cell_type": "code",
   "execution_count": 73,
   "metadata": {},
   "outputs": [
    {
     "name": "stderr",
     "output_type": "stream",
     "text": [
      "/home/nero/python/master_thesis/lib/python3.6/site-packages/numpy/lib/arraysetops.py:569: FutureWarning: elementwise comparison failed; returning scalar instead, but in the future will perform elementwise comparison\n",
      "  mask |= (ar1 == a)\n"
     ]
    }
   ],
   "source": [
    "tether_bal = pd.read_csv(tether_positive_cumulated_balances, index_col='Unnamed: 0').drop('cum', axis=1).set_index('address')\n",
    "usdc_bal = pd.read_csv(usdc_positive_cumulated_balances, index_col='Unnamed: 0').drop('cum', axis=1).set_index('address')\n",
    "dai_bal = pd.read_csv(dai_positive_cumulated_balances, index_col='Unnamed: 0').drop('cum', axis=1).set_index('address')\n",
    "paxos_bal = pd.read_csv(paxos_positive_cumulated_balances, index_col='Unnamed: 0').drop('cum', axis=1).set_index('address')\n",
    "binanceusd_bal = pd.read_csv(binanceusd_positive_cumulated_balances, index_col='Unnamed: 0').drop('cum', axis=1).set_index('address')\n",
    "trueusd_bal = pd.read_csv(trueusd_positive_cumulated_balances, index_col='Unnamed: 0').drop('cum', axis=1).set_index('address')\n",
    "husd_bal = pd.read_csv(husd_positive_cumulated_balances, index_col='Unnamed: 0').drop('cum', axis=1).set_index('address')\n",
    "df['bal_tether'] = tether_bal\n",
    "df['bal_usdc'] = usdc_bal\n",
    "df['bal_dai'] = dai_bal\n",
    "df['bal_paxos'] = paxos_bal\n",
    "df['bal_binanceusd'] = binanceusd_bal\n",
    "df['bal_trueusd'] = trueusd_bal\n",
    "df['bal_husd'] = husd_bal\n",
    "df = df.fillna(0)\n",
    "df['sum'] = df['bal_tether']+df['bal_usdc']+df['bal_dai']+df['bal_paxos']+df['bal_binanceusd']+df['bal_trueusd'] +df['bal_husd'] \n",
    "df['normsum'] = df['sum']/sum(df['sum'])\n",
    "df = df.sort_values('sum')"
   ]
  },
  {
   "cell_type": "markdown",
   "metadata": {},
   "source": [
    "## Describe Dataset"
   ]
  },
  {
   "cell_type": "code",
   "execution_count": 74,
   "metadata": {
    "scrolled": true
   },
   "outputs": [
    {
     "data": {
      "text/html": [
       "<div>\n",
       "<style scoped>\n",
       "    .dataframe tbody tr th:only-of-type {\n",
       "        vertical-align: middle;\n",
       "    }\n",
       "\n",
       "    .dataframe tbody tr th {\n",
       "        vertical-align: top;\n",
       "    }\n",
       "\n",
       "    .dataframe thead th {\n",
       "        text-align: right;\n",
       "    }\n",
       "</style>\n",
       "<table border=\"1\" class=\"dataframe\">\n",
       "  <thead>\n",
       "    <tr style=\"text-align: right;\">\n",
       "      <th></th>\n",
       "      <th>txs</th>\n",
       "      <th>bal_tether</th>\n",
       "      <th>bal_usdc</th>\n",
       "      <th>bal_dai</th>\n",
       "      <th>bal_paxos</th>\n",
       "      <th>bal_binanceusd</th>\n",
       "      <th>bal_trueusd</th>\n",
       "      <th>bal_husd</th>\n",
       "      <th>sum</th>\n",
       "      <th>normsum</th>\n",
       "    </tr>\n",
       "  </thead>\n",
       "  <tbody>\n",
       "    <tr>\n",
       "      <th>count</th>\n",
       "      <td>8,372,918</td>\n",
       "      <td>8,372,918</td>\n",
       "      <td>8,372,918</td>\n",
       "      <td>8,372,918</td>\n",
       "      <td>8,372,918</td>\n",
       "      <td>8,372,918</td>\n",
       "      <td>8,372,918</td>\n",
       "      <td>8,372,918</td>\n",
       "      <td>8,372,918</td>\n",
       "      <td>8,372,918</td>\n",
       "    </tr>\n",
       "    <tr>\n",
       "      <th>mean</th>\n",
       "      <td>12</td>\n",
       "      <td>721</td>\n",
       "      <td>118</td>\n",
       "      <td>13</td>\n",
       "      <td>29</td>\n",
       "      <td>21</td>\n",
       "      <td>17</td>\n",
       "      <td>14</td>\n",
       "      <td>932</td>\n",
       "      <td>0</td>\n",
       "    </tr>\n",
       "    <tr>\n",
       "      <th>std</th>\n",
       "      <td>1,345</td>\n",
       "      <td>214,998</td>\n",
       "      <td>77,078</td>\n",
       "      <td>4,125</td>\n",
       "      <td>36,814</td>\n",
       "      <td>29,216</td>\n",
       "      <td>7,885</td>\n",
       "      <td>38,185</td>\n",
       "      <td>254,580</td>\n",
       "      <td>0</td>\n",
       "    </tr>\n",
       "    <tr>\n",
       "      <th>min</th>\n",
       "      <td>1</td>\n",
       "      <td>0</td>\n",
       "      <td>0</td>\n",
       "      <td>0</td>\n",
       "      <td>0</td>\n",
       "      <td>0</td>\n",
       "      <td>0</td>\n",
       "      <td>0</td>\n",
       "      <td>0</td>\n",
       "      <td>0</td>\n",
       "    </tr>\n",
       "    <tr>\n",
       "      <th>25%</th>\n",
       "      <td>2</td>\n",
       "      <td>0</td>\n",
       "      <td>0</td>\n",
       "      <td>0</td>\n",
       "      <td>0</td>\n",
       "      <td>0</td>\n",
       "      <td>0</td>\n",
       "      <td>0</td>\n",
       "      <td>0</td>\n",
       "      <td>0</td>\n",
       "    </tr>\n",
       "    <tr>\n",
       "      <th>50%</th>\n",
       "      <td>2</td>\n",
       "      <td>0</td>\n",
       "      <td>0</td>\n",
       "      <td>0</td>\n",
       "      <td>0</td>\n",
       "      <td>0</td>\n",
       "      <td>0</td>\n",
       "      <td>0</td>\n",
       "      <td>0</td>\n",
       "      <td>0</td>\n",
       "    </tr>\n",
       "    <tr>\n",
       "      <th>75%</th>\n",
       "      <td>4</td>\n",
       "      <td>0</td>\n",
       "      <td>0</td>\n",
       "      <td>0</td>\n",
       "      <td>0</td>\n",
       "      <td>0</td>\n",
       "      <td>0</td>\n",
       "      <td>0</td>\n",
       "      <td>0</td>\n",
       "      <td>0</td>\n",
       "    </tr>\n",
       "    <tr>\n",
       "      <th>max</th>\n",
       "      <td>1,519,422</td>\n",
       "      <td>400,000,001</td>\n",
       "      <td>204,069,453</td>\n",
       "      <td>4,793,577</td>\n",
       "      <td>103,641,260</td>\n",
       "      <td>73,401,722</td>\n",
       "      <td>16,000,000</td>\n",
       "      <td>110,481,722</td>\n",
       "      <td>400,000,001</td>\n",
       "      <td>0</td>\n",
       "    </tr>\n",
       "  </tbody>\n",
       "</table>\n",
       "</div>"
      ],
      "text/plain": [
       "            txs  bal_tether    bal_usdc   bal_dai   bal_paxos  bal_binanceusd  \\\n",
       "count 8,372,918   8,372,918   8,372,918 8,372,918   8,372,918       8,372,918   \n",
       "mean         12         721         118        13          29              21   \n",
       "std       1,345     214,998      77,078     4,125      36,814          29,216   \n",
       "min           1           0           0         0           0               0   \n",
       "25%           2           0           0         0           0               0   \n",
       "50%           2           0           0         0           0               0   \n",
       "75%           4           0           0         0           0               0   \n",
       "max   1,519,422 400,000,001 204,069,453 4,793,577 103,641,260      73,401,722   \n",
       "\n",
       "       bal_trueusd    bal_husd         sum   normsum  \n",
       "count    8,372,918   8,372,918   8,372,918 8,372,918  \n",
       "mean            17          14         932         0  \n",
       "std          7,885      38,185     254,580         0  \n",
       "min              0           0           0         0  \n",
       "25%              0           0           0         0  \n",
       "50%              0           0           0         0  \n",
       "75%              0           0           0         0  \n",
       "max     16,000,000 110,481,722 400,000,001         0  "
      ]
     },
     "execution_count": 74,
     "metadata": {},
     "output_type": "execute_result"
    }
   ],
   "source": [
    "df.describe()"
   ]
  },
  {
   "cell_type": "markdown",
   "metadata": {},
   "source": [
    "## Addresses with a positive balance"
   ]
  },
  {
   "cell_type": "code",
   "execution_count": 75,
   "metadata": {},
   "outputs": [
    {
     "name": "stdout",
     "output_type": "stream",
     "text": [
      "1842166 addresses with 7800726416.487084 USD\n"
     ]
    }
   ],
   "source": [
    "print('{} addresses with {} USD'.format(len(df[df['sum'] > 0]), sum(df[df['sum'] > 0 ]['sum'])))"
   ]
  },
  {
   "cell_type": "markdown",
   "metadata": {},
   "source": [
    "## Addresses with less than 1 dollar in Stablecoins"
   ]
  },
  {
   "cell_type": "code",
   "execution_count": 76,
   "metadata": {},
   "outputs": [
    {
     "name": "stdout",
     "output_type": "stream",
     "text": [
      "775459 addresses with 193561.2900282917 USD\n"
     ]
    }
   ],
   "source": [
    "print('{} addresses with {} USD'.format(len(df[(df['sum'] <= 1) & (df['sum'] > 0)]), sum(df[(df['sum'] <= 1) & (df['sum'] > 0)]['sum'])  ))"
   ]
  },
  {
   "cell_type": "markdown",
   "metadata": {},
   "source": [
    "## Addresses with less than 0.01 dollar in Stablecoins"
   ]
  },
  {
   "cell_type": "code",
   "execution_count": 77,
   "metadata": {},
   "outputs": [
    {
     "name": "stdout",
     "output_type": "stream",
     "text": [
      "402217 addresses with 246.45750668766428 USD\n"
     ]
    }
   ],
   "source": [
    "print('{} addresses with {} USD'.format(len(df[(df['sum'] < 0.01) & (df['sum'] > 0)]), sum(df[(df['sum'] < 0.01) & (df['sum'] > 0)]['sum'])  ))"
   ]
  },
  {
   "cell_type": "markdown",
   "metadata": {},
   "source": [
    "## Addresses withmore than 1 mio dollar in Stablecoins"
   ]
  },
  {
   "cell_type": "code",
   "execution_count": 78,
   "metadata": {},
   "outputs": [
    {
     "name": "stdout",
     "output_type": "stream",
     "text": [
      "845 addresses with 5720399092.89443 USD\n"
     ]
    }
   ],
   "source": [
    "print('{} addresses with {} USD'.format(len(df[df['sum'] > 1e6]), sum(df[df['sum'] > 1e6]['sum'])))"
   ]
  },
  {
   "cell_type": "code",
   "execution_count": 79,
   "metadata": {},
   "outputs": [
    {
     "name": "stdout",
     "output_type": "stream",
     "text": [
      "184,217.00 addresses (10.00%) own 7,755,749,070.82; 99.42% of total\n",
      "92,108.00 addresses (5.00%) own 7,715,787,880.91; 98.91% of total\n",
      "18,422.00 addresses (1.00%) own 7,482,654,365.92; 95.92% of total\n",
      "1,842.00 addresses (0.10%) own 6,356,096,425.76; 81.48% of total\n",
      "184.00 addresses (0.10%) own 4,325,454,351.26; 55.45% of total\n"
     ]
    }
   ],
   "source": [
    "df_ = df[df['sum']>0]\n",
    "dfsu = sum(df_['sum'])\n",
    "\n",
    "a = df_.iloc[-round(len(df_)/10):,:] # 10 %\n",
    "b = df_.iloc[-round(len(df_)/20):,:] # 5 %\n",
    "x = df_.iloc[-round(len(df_)/100):,:] # 1 %\n",
    "y = df_.iloc[-round(len(df_)/1000):,:] # 0.1 %\n",
    "z = df_.iloc[-round(len(df_)/10000):,:] # 0.01 %\n",
    "\n",
    "al = len(a)\n",
    "bl = len(b)\n",
    "xl = len(x)\n",
    "yl = len(y)\n",
    "zl = len(z)\n",
    "\n",
    "asu = sum(a['sum'])\n",
    "bsu = sum(b['sum'])\n",
    "xsu = sum(x['sum'])\n",
    "ysu = sum(y['sum'])\n",
    "zsu = sum(z['sum'])\n",
    "\n",
    "print('{:,.2f} addresses ({:,.2f}%) own {:,.2f}; {:,.2f}% of total'.format(al, 10, asu, asu/dfsu*100))\n",
    "print('{:,.2f} addresses ({:,.2f}%) own {:,.2f}; {:,.2f}% of total'.format(bl, 5, bsu, bsu/dfsu*100))\n",
    "print('{:,.2f} addresses ({:,.2f}%) own {:,.2f}; {:,.2f}% of total'.format(xl, 1, xsu, xsu/dfsu*100))\n",
    "print('{:,.2f} addresses ({:,.2f}%) own {:,.2f}; {:,.2f}% of total'.format(yl, 0.1, ysu, ysu/dfsu*100))\n",
    "print('{:,.2f} addresses ({:,.2f}%) own {:,.2f}; {:,.2f}% of total'.format(zl, 0.1, zsu, zsu/dfsu*100))"
   ]
  },
  {
   "cell_type": "markdown",
   "metadata": {},
   "source": [
    "## Desribe positive addresses"
   ]
  },
  {
   "cell_type": "code",
   "execution_count": 80,
   "metadata": {},
   "outputs": [
    {
     "data": {
      "text/html": [
       "<style  type=\"text/css\" >\n",
       "</style><table id=\"T_f7ee84ae_0c6a_11eb_82b3_98fa9bc23e44\" ><thead>    <tr>        <th class=\"blank level0\" ></th>        <th class=\"col_heading level0 col0\" >txs</th>        <th class=\"col_heading level0 col1\" >bal_tether</th>        <th class=\"col_heading level0 col2\" >bal_usdc</th>        <th class=\"col_heading level0 col3\" >bal_dai</th>        <th class=\"col_heading level0 col4\" >bal_paxos</th>        <th class=\"col_heading level0 col5\" >bal_binanceusd</th>        <th class=\"col_heading level0 col6\" >bal_trueusd</th>        <th class=\"col_heading level0 col7\" >bal_husd</th>        <th class=\"col_heading level0 col8\" >sum</th>        <th class=\"col_heading level0 col9\" >normsum</th>    </tr></thead><tbody>\n",
       "                <tr>\n",
       "                        <th id=\"T_f7ee84ae_0c6a_11eb_82b3_98fa9bc23e44level0_row0\" class=\"row_heading level0 row0\" >count</th>\n",
       "                        <td id=\"T_f7ee84ae_0c6a_11eb_82b3_98fa9bc23e44row0_col0\" class=\"data row0 col0\" >1,842,166.00</td>\n",
       "                        <td id=\"T_f7ee84ae_0c6a_11eb_82b3_98fa9bc23e44row0_col1\" class=\"data row0 col1\" >1,477,062.00</td>\n",
       "                        <td id=\"T_f7ee84ae_0c6a_11eb_82b3_98fa9bc23e44row0_col2\" class=\"data row0 col2\" >177,495.00</td>\n",
       "                        <td id=\"T_f7ee84ae_0c6a_11eb_82b3_98fa9bc23e44row0_col3\" class=\"data row0 col3\" >100,149.00</td>\n",
       "                        <td id=\"T_f7ee84ae_0c6a_11eb_82b3_98fa9bc23e44row0_col4\" class=\"data row0 col4\" >86,004.00</td>\n",
       "                        <td id=\"T_f7ee84ae_0c6a_11eb_82b3_98fa9bc23e44row0_col5\" class=\"data row0 col5\" >5,184.00</td>\n",
       "                        <td id=\"T_f7ee84ae_0c6a_11eb_82b3_98fa9bc23e44row0_col6\" class=\"data row0 col6\" >29,547.00</td>\n",
       "                        <td id=\"T_f7ee84ae_0c6a_11eb_82b3_98fa9bc23e44row0_col7\" class=\"data row0 col7\" >1,414.00</td>\n",
       "                        <td id=\"T_f7ee84ae_0c6a_11eb_82b3_98fa9bc23e44row0_col8\" class=\"data row0 col8\" >1,842,166.00</td>\n",
       "                        <td id=\"T_f7ee84ae_0c6a_11eb_82b3_98fa9bc23e44row0_col9\" class=\"data row0 col9\" >1,842,166.00</td>\n",
       "            </tr>\n",
       "            <tr>\n",
       "                        <th id=\"T_f7ee84ae_0c6a_11eb_82b3_98fa9bc23e44level0_row1\" class=\"row_heading level0 row1\" >mean</th>\n",
       "                        <td id=\"T_f7ee84ae_0c6a_11eb_82b3_98fa9bc23e44row1_col0\" class=\"data row1 col0\" >30.23</td>\n",
       "                        <td id=\"T_f7ee84ae_0c6a_11eb_82b3_98fa9bc23e44row1_col1\" class=\"data row1 col1\" >4,087.74</td>\n",
       "                        <td id=\"T_f7ee84ae_0c6a_11eb_82b3_98fa9bc23e44row1_col2\" class=\"data row1 col2\" >5,552.50</td>\n",
       "                        <td id=\"T_f7ee84ae_0c6a_11eb_82b3_98fa9bc23e44row1_col3\" class=\"data row1 col3\" >1,064.18</td>\n",
       "                        <td id=\"T_f7ee84ae_0c6a_11eb_82b3_98fa9bc23e44row1_col4\" class=\"data row1 col4\" >2,803.63</td>\n",
       "                        <td id=\"T_f7ee84ae_0c6a_11eb_82b3_98fa9bc23e44row1_col5\" class=\"data row1 col5\" >33,795.99</td>\n",
       "                        <td id=\"T_f7ee84ae_0c6a_11eb_82b3_98fa9bc23e44row1_col6\" class=\"data row1 col6\" >4,734.89</td>\n",
       "                        <td id=\"T_f7ee84ae_0c6a_11eb_82b3_98fa9bc23e44row1_col7\" class=\"data row1 col7\" >81,003.34</td>\n",
       "                        <td id=\"T_f7ee84ae_0c6a_11eb_82b3_98fa9bc23e44row1_col8\" class=\"data row1 col8\" >4,234.54</td>\n",
       "                        <td id=\"T_f7ee84ae_0c6a_11eb_82b3_98fa9bc23e44row1_col9\" class=\"data row1 col9\" >0.00</td>\n",
       "            </tr>\n",
       "            <tr>\n",
       "                        <th id=\"T_f7ee84ae_0c6a_11eb_82b3_98fa9bc23e44level0_row2\" class=\"row_heading level0 row2\" >std</th>\n",
       "                        <td id=\"T_f7ee84ae_0c6a_11eb_82b3_98fa9bc23e44row2_col0\" class=\"data row2 col0\" >2,846.32</td>\n",
       "                        <td id=\"T_f7ee84ae_0c6a_11eb_82b3_98fa9bc23e44row2_col1\" class=\"data row2 col1\" >511,873.84</td>\n",
       "                        <td id=\"T_f7ee84ae_0c6a_11eb_82b3_98fa9bc23e44row2_col2\" class=\"data row2 col2\" >529,361.08</td>\n",
       "                        <td id=\"T_f7ee84ae_0c6a_11eb_82b3_98fa9bc23e44row2_col3\" class=\"data row2 col3\" >37,707.09</td>\n",
       "                        <td id=\"T_f7ee84ae_0c6a_11eb_82b3_98fa9bc23e44row2_col4\" class=\"data row2 col4\" >363,226.15</td>\n",
       "                        <td id=\"T_f7ee84ae_0c6a_11eb_82b3_98fa9bc23e44row2_col5\" class=\"data row2 col5\" >1,173,787.30</td>\n",
       "                        <td id=\"T_f7ee84ae_0c6a_11eb_82b3_98fa9bc23e44row2_col6\" class=\"data row2 col6\" >132,656.64</td>\n",
       "                        <td id=\"T_f7ee84ae_0c6a_11eb_82b3_98fa9bc23e44row2_col7\" class=\"data row2 col7\" >2,938,276.36</td>\n",
       "                        <td id=\"T_f7ee84ae_0c6a_11eb_82b3_98fa9bc23e44row2_col8\" class=\"data row2 col8\" >542,735.38</td>\n",
       "                        <td id=\"T_f7ee84ae_0c6a_11eb_82b3_98fa9bc23e44row2_col9\" class=\"data row2 col9\" >0.00</td>\n",
       "            </tr>\n",
       "            <tr>\n",
       "                        <th id=\"T_f7ee84ae_0c6a_11eb_82b3_98fa9bc23e44level0_row3\" class=\"row_heading level0 row3\" >min</th>\n",
       "                        <td id=\"T_f7ee84ae_0c6a_11eb_82b3_98fa9bc23e44row3_col0\" class=\"data row3 col0\" >1.00</td>\n",
       "                        <td id=\"T_f7ee84ae_0c6a_11eb_82b3_98fa9bc23e44row3_col1\" class=\"data row3 col1\" >0.00</td>\n",
       "                        <td id=\"T_f7ee84ae_0c6a_11eb_82b3_98fa9bc23e44row3_col2\" class=\"data row3 col2\" >0.00</td>\n",
       "                        <td id=\"T_f7ee84ae_0c6a_11eb_82b3_98fa9bc23e44row3_col3\" class=\"data row3 col3\" >0.00</td>\n",
       "                        <td id=\"T_f7ee84ae_0c6a_11eb_82b3_98fa9bc23e44row3_col4\" class=\"data row3 col4\" >0.00</td>\n",
       "                        <td id=\"T_f7ee84ae_0c6a_11eb_82b3_98fa9bc23e44row3_col5\" class=\"data row3 col5\" >0.00</td>\n",
       "                        <td id=\"T_f7ee84ae_0c6a_11eb_82b3_98fa9bc23e44row3_col6\" class=\"data row3 col6\" >0.00</td>\n",
       "                        <td id=\"T_f7ee84ae_0c6a_11eb_82b3_98fa9bc23e44row3_col7\" class=\"data row3 col7\" >0.00</td>\n",
       "                        <td id=\"T_f7ee84ae_0c6a_11eb_82b3_98fa9bc23e44row3_col8\" class=\"data row3 col8\" >0.00</td>\n",
       "                        <td id=\"T_f7ee84ae_0c6a_11eb_82b3_98fa9bc23e44row3_col9\" class=\"data row3 col9\" >0.00</td>\n",
       "            </tr>\n",
       "            <tr>\n",
       "                        <th id=\"T_f7ee84ae_0c6a_11eb_82b3_98fa9bc23e44level0_row4\" class=\"row_heading level0 row4\" >25%</th>\n",
       "                        <td id=\"T_f7ee84ae_0c6a_11eb_82b3_98fa9bc23e44row4_col0\" class=\"data row4 col0\" >1.00</td>\n",
       "                        <td id=\"T_f7ee84ae_0c6a_11eb_82b3_98fa9bc23e44row4_col1\" class=\"data row4 col1\" >0.03</td>\n",
       "                        <td id=\"T_f7ee84ae_0c6a_11eb_82b3_98fa9bc23e44row4_col2\" class=\"data row4 col2\" >0.05</td>\n",
       "                        <td id=\"T_f7ee84ae_0c6a_11eb_82b3_98fa9bc23e44row4_col3\" class=\"data row4 col3\" >0.08</td>\n",
       "                        <td id=\"T_f7ee84ae_0c6a_11eb_82b3_98fa9bc23e44row4_col4\" class=\"data row4 col4\" >0.13</td>\n",
       "                        <td id=\"T_f7ee84ae_0c6a_11eb_82b3_98fa9bc23e44row4_col5\" class=\"data row4 col5\" >1.00</td>\n",
       "                        <td id=\"T_f7ee84ae_0c6a_11eb_82b3_98fa9bc23e44row4_col6\" class=\"data row4 col6\" >0.05</td>\n",
       "                        <td id=\"T_f7ee84ae_0c6a_11eb_82b3_98fa9bc23e44row4_col7\" class=\"data row4 col7\" >3.58</td>\n",
       "                        <td id=\"T_f7ee84ae_0c6a_11eb_82b3_98fa9bc23e44row4_col8\" class=\"data row4 col8\" >0.05</td>\n",
       "                        <td id=\"T_f7ee84ae_0c6a_11eb_82b3_98fa9bc23e44row4_col9\" class=\"data row4 col9\" >0.00</td>\n",
       "            </tr>\n",
       "            <tr>\n",
       "                        <th id=\"T_f7ee84ae_0c6a_11eb_82b3_98fa9bc23e44level0_row5\" class=\"row_heading level0 row5\" >50%</th>\n",
       "                        <td id=\"T_f7ee84ae_0c6a_11eb_82b3_98fa9bc23e44row5_col0\" class=\"data row5 col0\" >2.00</td>\n",
       "                        <td id=\"T_f7ee84ae_0c6a_11eb_82b3_98fa9bc23e44row5_col1\" class=\"data row5 col1\" >10.00</td>\n",
       "                        <td id=\"T_f7ee84ae_0c6a_11eb_82b3_98fa9bc23e44row5_col2\" class=\"data row5 col2\" >0.88</td>\n",
       "                        <td id=\"T_f7ee84ae_0c6a_11eb_82b3_98fa9bc23e44row5_col3\" class=\"data row5 col3\" >1.93</td>\n",
       "                        <td id=\"T_f7ee84ae_0c6a_11eb_82b3_98fa9bc23e44row5_col4\" class=\"data row5 col4\" >4.69</td>\n",
       "                        <td id=\"T_f7ee84ae_0c6a_11eb_82b3_98fa9bc23e44row5_col5\" class=\"data row5 col5\" >1.00</td>\n",
       "                        <td id=\"T_f7ee84ae_0c6a_11eb_82b3_98fa9bc23e44row5_col6\" class=\"data row5 col6\" >3.38</td>\n",
       "                        <td id=\"T_f7ee84ae_0c6a_11eb_82b3_98fa9bc23e44row5_col7\" class=\"data row5 col7\" >13.00</td>\n",
       "                        <td id=\"T_f7ee84ae_0c6a_11eb_82b3_98fa9bc23e44row5_col8\" class=\"data row5 col8\" >5.00</td>\n",
       "                        <td id=\"T_f7ee84ae_0c6a_11eb_82b3_98fa9bc23e44row5_col9\" class=\"data row5 col9\" >0.00</td>\n",
       "            </tr>\n",
       "            <tr>\n",
       "                        <th id=\"T_f7ee84ae_0c6a_11eb_82b3_98fa9bc23e44level0_row6\" class=\"row_heading level0 row6\" >75%</th>\n",
       "                        <td id=\"T_f7ee84ae_0c6a_11eb_82b3_98fa9bc23e44row6_col0\" class=\"data row6 col0\" >5.00</td>\n",
       "                        <td id=\"T_f7ee84ae_0c6a_11eb_82b3_98fa9bc23e44row6_col1\" class=\"data row6 col1\" >74.85</td>\n",
       "                        <td id=\"T_f7ee84ae_0c6a_11eb_82b3_98fa9bc23e44row6_col2\" class=\"data row6 col2\" >9.09</td>\n",
       "                        <td id=\"T_f7ee84ae_0c6a_11eb_82b3_98fa9bc23e44row6_col3\" class=\"data row6 col3\" >39.89</td>\n",
       "                        <td id=\"T_f7ee84ae_0c6a_11eb_82b3_98fa9bc23e44row6_col4\" class=\"data row6 col4\" >45.11</td>\n",
       "                        <td id=\"T_f7ee84ae_0c6a_11eb_82b3_98fa9bc23e44row6_col5\" class=\"data row6 col5\" >100.00</td>\n",
       "                        <td id=\"T_f7ee84ae_0c6a_11eb_82b3_98fa9bc23e44row6_col6\" class=\"data row6 col6\" >100.00</td>\n",
       "                        <td id=\"T_f7ee84ae_0c6a_11eb_82b3_98fa9bc23e44row6_col7\" class=\"data row6 col7\" >55.82</td>\n",
       "                        <td id=\"T_f7ee84ae_0c6a_11eb_82b3_98fa9bc23e44row6_col8\" class=\"data row6 col8\" >68.00</td>\n",
       "                        <td id=\"T_f7ee84ae_0c6a_11eb_82b3_98fa9bc23e44row6_col9\" class=\"data row6 col9\" >0.00</td>\n",
       "            </tr>\n",
       "            <tr>\n",
       "                        <th id=\"T_f7ee84ae_0c6a_11eb_82b3_98fa9bc23e44level0_row7\" class=\"row_heading level0 row7\" >max</th>\n",
       "                        <td id=\"T_f7ee84ae_0c6a_11eb_82b3_98fa9bc23e44row7_col0\" class=\"data row7 col0\" >1,519,422.00</td>\n",
       "                        <td id=\"T_f7ee84ae_0c6a_11eb_82b3_98fa9bc23e44row7_col1\" class=\"data row7 col1\" >400,000,001.03</td>\n",
       "                        <td id=\"T_f7ee84ae_0c6a_11eb_82b3_98fa9bc23e44row7_col2\" class=\"data row7 col2\" >204,069,453.05</td>\n",
       "                        <td id=\"T_f7ee84ae_0c6a_11eb_82b3_98fa9bc23e44row7_col3\" class=\"data row7 col3\" >4,793,577.19</td>\n",
       "                        <td id=\"T_f7ee84ae_0c6a_11eb_82b3_98fa9bc23e44row7_col4\" class=\"data row7 col4\" >103,641,260.43</td>\n",
       "                        <td id=\"T_f7ee84ae_0c6a_11eb_82b3_98fa9bc23e44row7_col5\" class=\"data row7 col5\" >73,401,721.98</td>\n",
       "                        <td id=\"T_f7ee84ae_0c6a_11eb_82b3_98fa9bc23e44row7_col6\" class=\"data row7 col6\" >16,000,000.00</td>\n",
       "                        <td id=\"T_f7ee84ae_0c6a_11eb_82b3_98fa9bc23e44row7_col7\" class=\"data row7 col7\" >110,481,722.34</td>\n",
       "                        <td id=\"T_f7ee84ae_0c6a_11eb_82b3_98fa9bc23e44row7_col8\" class=\"data row7 col8\" >400,000,001.03</td>\n",
       "                        <td id=\"T_f7ee84ae_0c6a_11eb_82b3_98fa9bc23e44row7_col9\" class=\"data row7 col9\" >0.05</td>\n",
       "            </tr>\n",
       "    </tbody></table>"
      ],
      "text/plain": [
       "<pandas.io.formats.style.Styler at 0x7f21bfb184e0>"
      ]
     },
     "execution_count": 80,
     "metadata": {},
     "output_type": "execute_result"
    }
   ],
   "source": [
    "ds = df[(df.loc[:,'bal_tether':'bal_husd']>0).any(axis=1)].replace(0, np.NaN).describe().style.format(\"{:,.2f}\")\n",
    "ds"
   ]
  },
  {
   "cell_type": "markdown",
   "metadata": {},
   "source": [
    "## Addresses with a balance larger than 10 USD"
   ]
  },
  {
   "cell_type": "code",
   "execution_count": 81,
   "metadata": {},
   "outputs": [
    {
     "name": "stdout",
     "output_type": "stream",
     "text": [
      "Tether Addresses with a balance larger than 10 USD: 721,859\n",
      "USDC Addresses with a balance larger than 10 USD: 40,874\n",
      "Paxos Addresses with a balance larger than 10 USD: 33,033\n",
      "TrueUSD Addresses with a balance larger than 10 USD: 12,127\n",
      "BinanceUSD Addresses with a balance larger than 10 USD: 1,882\n",
      "HUSD Addresses with a balance larger than 10 USD: 872\n",
      "DAI Addresses with a balance larger than 10 USD: 34,848\n"
     ]
    }
   ],
   "source": [
    "print('Tether Addresses with a balance larger than 10 USD: {:,.0f}'.format(len(df[(df['bal_tether']>10)])))\n",
    "print('USDC Addresses with a balance larger than 10 USD: {:,.0f}'.format(len(df[(df['bal_usdc']>10)])))\n",
    "print('Paxos Addresses with a balance larger than 10 USD: {:,.0f}'.format(len(df[(df['bal_paxos']>10)])))\n",
    "print('TrueUSD Addresses with a balance larger than 10 USD: {:,.0f}'.format(len(df[(df['bal_trueusd']>10)])))\n",
    "print('BinanceUSD Addresses with a balance larger than 10 USD: {:,.0f}'.format(len(df[(df['bal_binanceusd']>10)])))\n",
    "print('HUSD Addresses with a balance larger than 10 USD: {:,.0f}'.format(len(df[(df['bal_husd']>10)])))\n",
    "print('DAI Addresses with a balance larger than 10 USD: {:,.0f}'.format(len(df[(df['bal_dai']>10)])))"
   ]
  },
  {
   "cell_type": "markdown",
   "metadata": {},
   "source": [
    "## Positive Addresses with Tether/Positive Addresses"
   ]
  },
  {
   "cell_type": "code",
   "execution_count": 82,
   "metadata": {},
   "outputs": [
    {
     "data": {
      "text/plain": [
       "'Positive Addresses with Tether/Positive Addresses: 80.18%'"
      ]
     },
     "execution_count": 82,
     "metadata": {},
     "output_type": "execute_result"
    }
   ],
   "source": [
    "'Positive Addresses with Tether/Positive Addresses: {:.2f}%'.format(\n",
    "    len(df[(df['bal_tether']>0)]) # positive tether addresses\n",
    "    /\n",
    "    len(df[(df.loc[:,'bal_tether':'bal_husd']>0).any(axis=1)])\n",
    "    *100\n",
    ")"
   ]
  },
  {
   "cell_type": "markdown",
   "metadata": {},
   "source": [
    "## Summed balance of the 20 richest addresses for each token"
   ]
  },
  {
   "cell_type": "code",
   "execution_count": 83,
   "metadata": {},
   "outputs": [
    {
     "data": {
      "text/plain": [
       "(1671114670.6516562,\n",
       " 353879020.381916,\n",
       " 854060.255374942,\n",
       " 128587533.09064157,\n",
       " 125996499.91060933,\n",
       " 29135952.287240606,\n",
       " 110790509.13191232)"
      ]
     },
     "execution_count": 83,
     "metadata": {},
     "output_type": "execute_result"
    }
   ],
   "source": [
    "te,uc,da,pa,bu,tu,hu = [0]*7\n",
    "for i,e in df.tail(20).iloc[::-1].iterrows():\n",
    "    a,b,c,d,e,f,g = e.tolist()[1:-2]\n",
    "    te += a\n",
    "    uc += b\n",
    "    da += c\n",
    "    pa += d\n",
    "    bu += e\n",
    "    tu += f\n",
    "    hu += g\n",
    "te,uc,da,pa,bu,tu,hu"
   ]
  },
  {
   "cell_type": "code",
   "execution_count": 84,
   "metadata": {},
   "outputs": [
    {
     "data": {
      "text/html": [
       "<div>\n",
       "<style scoped>\n",
       "    .dataframe tbody tr th:only-of-type {\n",
       "        vertical-align: middle;\n",
       "    }\n",
       "\n",
       "    .dataframe tbody tr th {\n",
       "        vertical-align: top;\n",
       "    }\n",
       "\n",
       "    .dataframe thead th {\n",
       "        text-align: right;\n",
       "    }\n",
       "</style>\n",
       "<table border=\"1\" class=\"dataframe\">\n",
       "  <thead>\n",
       "    <tr style=\"text-align: right;\">\n",
       "      <th></th>\n",
       "      <th>txs</th>\n",
       "      <th>bal_tether</th>\n",
       "      <th>bal_usdc</th>\n",
       "      <th>bal_dai</th>\n",
       "      <th>bal_paxos</th>\n",
       "      <th>bal_binanceusd</th>\n",
       "      <th>bal_trueusd</th>\n",
       "      <th>bal_husd</th>\n",
       "      <th>sum</th>\n",
       "      <th>normsum</th>\n",
       "    </tr>\n",
       "    <tr>\n",
       "      <th>Unnamed: 0</th>\n",
       "      <th></th>\n",
       "      <th></th>\n",
       "      <th></th>\n",
       "      <th></th>\n",
       "      <th></th>\n",
       "      <th></th>\n",
       "      <th></th>\n",
       "      <th></th>\n",
       "      <th></th>\n",
       "      <th></th>\n",
       "    </tr>\n",
       "  </thead>\n",
       "  <tbody>\n",
       "    <tr>\n",
       "      <th>0x570aeda18a21d8fff6d28a5ef34164553cf9cb77</th>\n",
       "      <td>24</td>\n",
       "      <td>34,650,000</td>\n",
       "      <td>0</td>\n",
       "      <td>0</td>\n",
       "      <td>0</td>\n",
       "      <td>0</td>\n",
       "      <td>0</td>\n",
       "      <td>0</td>\n",
       "      <td>34,650,000</td>\n",
       "      <td>0</td>\n",
       "    </tr>\n",
       "    <tr>\n",
       "      <th>0x8cee3eeab46774c1cde4f6368e3ae68bccd760bf</th>\n",
       "      <td>46</td>\n",
       "      <td>0</td>\n",
       "      <td>40,000,000</td>\n",
       "      <td>0</td>\n",
       "      <td>0</td>\n",
       "      <td>0</td>\n",
       "      <td>0</td>\n",
       "      <td>0</td>\n",
       "      <td>40,000,000</td>\n",
       "      <td>0</td>\n",
       "    </tr>\n",
       "    <tr>\n",
       "      <th>0x778476d4c51f93078d61e51c978f90b4a6e500af</th>\n",
       "      <td>22</td>\n",
       "      <td>40,200,000</td>\n",
       "      <td>0</td>\n",
       "      <td>0</td>\n",
       "      <td>0</td>\n",
       "      <td>0</td>\n",
       "      <td>0</td>\n",
       "      <td>0</td>\n",
       "      <td>40,200,000</td>\n",
       "      <td>0</td>\n",
       "    </tr>\n",
       "    <tr>\n",
       "      <th>0x92d7796c04ee34d1d16c57fab92fc2bccf434468</th>\n",
       "      <td>38</td>\n",
       "      <td>0</td>\n",
       "      <td>43,192,368</td>\n",
       "      <td>0</td>\n",
       "      <td>0</td>\n",
       "      <td>0</td>\n",
       "      <td>0</td>\n",
       "      <td>0</td>\n",
       "      <td>43,192,368</td>\n",
       "      <td>0</td>\n",
       "    </tr>\n",
       "    <tr>\n",
       "      <th>0xd30b438df65f4f788563b2b3611bd6059bff4ad9</th>\n",
       "      <td>10720</td>\n",
       "      <td>45,747,252</td>\n",
       "      <td>269,727</td>\n",
       "      <td>0</td>\n",
       "      <td>37,048</td>\n",
       "      <td>0</td>\n",
       "      <td>135,871</td>\n",
       "      <td>0</td>\n",
       "      <td>46,189,898</td>\n",
       "      <td>0</td>\n",
       "    </tr>\n",
       "    <tr>\n",
       "      <th>0x876eabf441b2ee5b5b0554fd502a8e0600950cfa</th>\n",
       "      <td>71809</td>\n",
       "      <td>47,865,226</td>\n",
       "      <td>1,415,211</td>\n",
       "      <td>854,060</td>\n",
       "      <td>76,224</td>\n",
       "      <td>0</td>\n",
       "      <td>106,262</td>\n",
       "      <td>0</td>\n",
       "      <td>50,316,982</td>\n",
       "      <td>0</td>\n",
       "    </tr>\n",
       "    <tr>\n",
       "      <th>0xf650c3d88d12db855b8bf7d11be6c55a4e07dcc9</th>\n",
       "      <td>24383</td>\n",
       "      <td>50,338,228</td>\n",
       "      <td>0</td>\n",
       "      <td>0</td>\n",
       "      <td>0</td>\n",
       "      <td>0</td>\n",
       "      <td>0</td>\n",
       "      <td>0</td>\n",
       "      <td>50,338,228</td>\n",
       "      <td>0</td>\n",
       "    </tr>\n",
       "    <tr>\n",
       "      <th>0x66f820a414680b5bcda5eeca5dea238543f42054</th>\n",
       "      <td>8</td>\n",
       "      <td>52,000,000</td>\n",
       "      <td>0</td>\n",
       "      <td>0</td>\n",
       "      <td>0</td>\n",
       "      <td>0</td>\n",
       "      <td>0</td>\n",
       "      <td>0</td>\n",
       "      <td>52,000,000</td>\n",
       "      <td>0</td>\n",
       "    </tr>\n",
       "    <tr>\n",
       "      <th>0x5041ed759dd4afc3a72b8192c143f72f4724081a</th>\n",
       "      <td>410514</td>\n",
       "      <td>58,992,008</td>\n",
       "      <td>1,100,618</td>\n",
       "      <td>0</td>\n",
       "      <td>1,591,858</td>\n",
       "      <td>0</td>\n",
       "      <td>396,577</td>\n",
       "      <td>0</td>\n",
       "      <td>62,081,061</td>\n",
       "      <td>0</td>\n",
       "    </tr>\n",
       "    <tr>\n",
       "      <th>0xf977814e90da44bfa03b6295a0616a897441acec</th>\n",
       "      <td>284</td>\n",
       "      <td>0</td>\n",
       "      <td>30,000,000</td>\n",
       "      <td>0</td>\n",
       "      <td>17,300,138</td>\n",
       "      <td>30,000,000</td>\n",
       "      <td>16,000,000</td>\n",
       "      <td>0</td>\n",
       "      <td>93,300,138</td>\n",
       "      <td>0</td>\n",
       "    </tr>\n",
       "    <tr>\n",
       "      <th>0x742d35cc6634c0532925a3b844bc454e4438f44e</th>\n",
       "      <td>1808</td>\n",
       "      <td>99,100,224</td>\n",
       "      <td>120,684</td>\n",
       "      <td>0</td>\n",
       "      <td>301</td>\n",
       "      <td>0</td>\n",
       "      <td>517</td>\n",
       "      <td>0</td>\n",
       "      <td>99,221,727</td>\n",
       "      <td>0</td>\n",
       "    </tr>\n",
       "    <tr>\n",
       "      <th>0xe62b5b82fb63f19579f35e44cf998d4819b0322a</th>\n",
       "      <td>624</td>\n",
       "      <td>0</td>\n",
       "      <td>0</td>\n",
       "      <td>0</td>\n",
       "      <td>103,641,260</td>\n",
       "      <td>0</td>\n",
       "      <td>0</td>\n",
       "      <td>0</td>\n",
       "      <td>103,641,260</td>\n",
       "      <td>0</td>\n",
       "    </tr>\n",
       "    <tr>\n",
       "      <th>0x3f5ce5fbfe3e9af3971dd833d26ba9b5c936f0be</th>\n",
       "      <td>1519422</td>\n",
       "      <td>48,898,197</td>\n",
       "      <td>18,120,241</td>\n",
       "      <td>0</td>\n",
       "      <td>5,940,703</td>\n",
       "      <td>22,594,778</td>\n",
       "      <td>12,496,725</td>\n",
       "      <td>0</td>\n",
       "      <td>108,050,644</td>\n",
       "      <td>0</td>\n",
       "    </tr>\n",
       "    <tr>\n",
       "      <th>0x1062a747393198f70f71ec65a582423dba7e5ab3</th>\n",
       "      <td>1068124</td>\n",
       "      <td>1,845,258</td>\n",
       "      <td>0</td>\n",
       "      <td>0</td>\n",
       "      <td>0</td>\n",
       "      <td>0</td>\n",
       "      <td>0</td>\n",
       "      <td>110,481,722</td>\n",
       "      <td>112,326,980</td>\n",
       "      <td>0</td>\n",
       "    </tr>\n",
       "    <tr>\n",
       "      <th>0x5754284f345afc66a98fbb0a0afe71e0f007b949</th>\n",
       "      <td>2202</td>\n",
       "      <td>139,291,708</td>\n",
       "      <td>0</td>\n",
       "      <td>0</td>\n",
       "      <td>0</td>\n",
       "      <td>0</td>\n",
       "      <td>0</td>\n",
       "      <td>0</td>\n",
       "      <td>139,291,708</td>\n",
       "      <td>0</td>\n",
       "    </tr>\n",
       "    <tr>\n",
       "      <th>0xfdb16996831753d5331ff813c29a93c76834a0ad</th>\n",
       "      <td>958966</td>\n",
       "      <td>152,457,483</td>\n",
       "      <td>0</td>\n",
       "      <td>0</td>\n",
       "      <td>0</td>\n",
       "      <td>0</td>\n",
       "      <td>0</td>\n",
       "      <td>0</td>\n",
       "      <td>152,457,483</td>\n",
       "      <td>0</td>\n",
       "    </tr>\n",
       "    <tr>\n",
       "      <th>0x6748f50f686bfbca6fe8ad62b22228b87f31ff2b</th>\n",
       "      <td>1102392</td>\n",
       "      <td>198,610,436</td>\n",
       "      <td>0</td>\n",
       "      <td>0</td>\n",
       "      <td>0</td>\n",
       "      <td>0</td>\n",
       "      <td>0</td>\n",
       "      <td>308,787</td>\n",
       "      <td>198,919,223</td>\n",
       "      <td>0</td>\n",
       "    </tr>\n",
       "    <tr>\n",
       "      <th>0x39aa39c021dfbae8fac545936693ac917d5e7563</th>\n",
       "      <td>88470</td>\n",
       "      <td>0</td>\n",
       "      <td>204,069,453</td>\n",
       "      <td>0</td>\n",
       "      <td>0</td>\n",
       "      <td>0</td>\n",
       "      <td>0</td>\n",
       "      <td>0</td>\n",
       "      <td>204,069,453</td>\n",
       "      <td>0</td>\n",
       "    </tr>\n",
       "    <tr>\n",
       "      <th>0xbe0eb53f46cd790cd13851d5eff43d12404d33e8</th>\n",
       "      <td>269</td>\n",
       "      <td>301,118,650</td>\n",
       "      <td>15,590,718</td>\n",
       "      <td>0</td>\n",
       "      <td>0</td>\n",
       "      <td>73,401,722</td>\n",
       "      <td>0</td>\n",
       "      <td>0</td>\n",
       "      <td>390,111,090</td>\n",
       "      <td>0</td>\n",
       "    </tr>\n",
       "    <tr>\n",
       "      <th>0x7b8c69a0f660cd43ef67948976daae77bc6a019b</th>\n",
       "      <td>27</td>\n",
       "      <td>400,000,001</td>\n",
       "      <td>0</td>\n",
       "      <td>0</td>\n",
       "      <td>0</td>\n",
       "      <td>0</td>\n",
       "      <td>0</td>\n",
       "      <td>0</td>\n",
       "      <td>400,000,001</td>\n",
       "      <td>0</td>\n",
       "    </tr>\n",
       "  </tbody>\n",
       "</table>\n",
       "</div>"
      ],
      "text/plain": [
       "                                                txs  bal_tether    bal_usdc  \\\n",
       "Unnamed: 0                                                                    \n",
       "0x570aeda18a21d8fff6d28a5ef34164553cf9cb77       24  34,650,000           0   \n",
       "0x8cee3eeab46774c1cde4f6368e3ae68bccd760bf       46           0  40,000,000   \n",
       "0x778476d4c51f93078d61e51c978f90b4a6e500af       22  40,200,000           0   \n",
       "0x92d7796c04ee34d1d16c57fab92fc2bccf434468       38           0  43,192,368   \n",
       "0xd30b438df65f4f788563b2b3611bd6059bff4ad9    10720  45,747,252     269,727   \n",
       "0x876eabf441b2ee5b5b0554fd502a8e0600950cfa    71809  47,865,226   1,415,211   \n",
       "0xf650c3d88d12db855b8bf7d11be6c55a4e07dcc9    24383  50,338,228           0   \n",
       "0x66f820a414680b5bcda5eeca5dea238543f42054        8  52,000,000           0   \n",
       "0x5041ed759dd4afc3a72b8192c143f72f4724081a   410514  58,992,008   1,100,618   \n",
       "0xf977814e90da44bfa03b6295a0616a897441acec      284           0  30,000,000   \n",
       "0x742d35cc6634c0532925a3b844bc454e4438f44e     1808  99,100,224     120,684   \n",
       "0xe62b5b82fb63f19579f35e44cf998d4819b0322a      624           0           0   \n",
       "0x3f5ce5fbfe3e9af3971dd833d26ba9b5c936f0be  1519422  48,898,197  18,120,241   \n",
       "0x1062a747393198f70f71ec65a582423dba7e5ab3  1068124   1,845,258           0   \n",
       "0x5754284f345afc66a98fbb0a0afe71e0f007b949     2202 139,291,708           0   \n",
       "0xfdb16996831753d5331ff813c29a93c76834a0ad   958966 152,457,483           0   \n",
       "0x6748f50f686bfbca6fe8ad62b22228b87f31ff2b  1102392 198,610,436           0   \n",
       "0x39aa39c021dfbae8fac545936693ac917d5e7563    88470           0 204,069,453   \n",
       "0xbe0eb53f46cd790cd13851d5eff43d12404d33e8      269 301,118,650  15,590,718   \n",
       "0x7b8c69a0f660cd43ef67948976daae77bc6a019b       27 400,000,001           0   \n",
       "\n",
       "                                            bal_dai   bal_paxos  \\\n",
       "Unnamed: 0                                                        \n",
       "0x570aeda18a21d8fff6d28a5ef34164553cf9cb77        0           0   \n",
       "0x8cee3eeab46774c1cde4f6368e3ae68bccd760bf        0           0   \n",
       "0x778476d4c51f93078d61e51c978f90b4a6e500af        0           0   \n",
       "0x92d7796c04ee34d1d16c57fab92fc2bccf434468        0           0   \n",
       "0xd30b438df65f4f788563b2b3611bd6059bff4ad9        0      37,048   \n",
       "0x876eabf441b2ee5b5b0554fd502a8e0600950cfa  854,060      76,224   \n",
       "0xf650c3d88d12db855b8bf7d11be6c55a4e07dcc9        0           0   \n",
       "0x66f820a414680b5bcda5eeca5dea238543f42054        0           0   \n",
       "0x5041ed759dd4afc3a72b8192c143f72f4724081a        0   1,591,858   \n",
       "0xf977814e90da44bfa03b6295a0616a897441acec        0  17,300,138   \n",
       "0x742d35cc6634c0532925a3b844bc454e4438f44e        0         301   \n",
       "0xe62b5b82fb63f19579f35e44cf998d4819b0322a        0 103,641,260   \n",
       "0x3f5ce5fbfe3e9af3971dd833d26ba9b5c936f0be        0   5,940,703   \n",
       "0x1062a747393198f70f71ec65a582423dba7e5ab3        0           0   \n",
       "0x5754284f345afc66a98fbb0a0afe71e0f007b949        0           0   \n",
       "0xfdb16996831753d5331ff813c29a93c76834a0ad        0           0   \n",
       "0x6748f50f686bfbca6fe8ad62b22228b87f31ff2b        0           0   \n",
       "0x39aa39c021dfbae8fac545936693ac917d5e7563        0           0   \n",
       "0xbe0eb53f46cd790cd13851d5eff43d12404d33e8        0           0   \n",
       "0x7b8c69a0f660cd43ef67948976daae77bc6a019b        0           0   \n",
       "\n",
       "                                            bal_binanceusd  bal_trueusd  \\\n",
       "Unnamed: 0                                                                \n",
       "0x570aeda18a21d8fff6d28a5ef34164553cf9cb77               0            0   \n",
       "0x8cee3eeab46774c1cde4f6368e3ae68bccd760bf               0            0   \n",
       "0x778476d4c51f93078d61e51c978f90b4a6e500af               0            0   \n",
       "0x92d7796c04ee34d1d16c57fab92fc2bccf434468               0            0   \n",
       "0xd30b438df65f4f788563b2b3611bd6059bff4ad9               0      135,871   \n",
       "0x876eabf441b2ee5b5b0554fd502a8e0600950cfa               0      106,262   \n",
       "0xf650c3d88d12db855b8bf7d11be6c55a4e07dcc9               0            0   \n",
       "0x66f820a414680b5bcda5eeca5dea238543f42054               0            0   \n",
       "0x5041ed759dd4afc3a72b8192c143f72f4724081a               0      396,577   \n",
       "0xf977814e90da44bfa03b6295a0616a897441acec      30,000,000   16,000,000   \n",
       "0x742d35cc6634c0532925a3b844bc454e4438f44e               0          517   \n",
       "0xe62b5b82fb63f19579f35e44cf998d4819b0322a               0            0   \n",
       "0x3f5ce5fbfe3e9af3971dd833d26ba9b5c936f0be      22,594,778   12,496,725   \n",
       "0x1062a747393198f70f71ec65a582423dba7e5ab3               0            0   \n",
       "0x5754284f345afc66a98fbb0a0afe71e0f007b949               0            0   \n",
       "0xfdb16996831753d5331ff813c29a93c76834a0ad               0            0   \n",
       "0x6748f50f686bfbca6fe8ad62b22228b87f31ff2b               0            0   \n",
       "0x39aa39c021dfbae8fac545936693ac917d5e7563               0            0   \n",
       "0xbe0eb53f46cd790cd13851d5eff43d12404d33e8      73,401,722            0   \n",
       "0x7b8c69a0f660cd43ef67948976daae77bc6a019b               0            0   \n",
       "\n",
       "                                              bal_husd         sum  normsum  \n",
       "Unnamed: 0                                                                   \n",
       "0x570aeda18a21d8fff6d28a5ef34164553cf9cb77           0  34,650,000        0  \n",
       "0x8cee3eeab46774c1cde4f6368e3ae68bccd760bf           0  40,000,000        0  \n",
       "0x778476d4c51f93078d61e51c978f90b4a6e500af           0  40,200,000        0  \n",
       "0x92d7796c04ee34d1d16c57fab92fc2bccf434468           0  43,192,368        0  \n",
       "0xd30b438df65f4f788563b2b3611bd6059bff4ad9           0  46,189,898        0  \n",
       "0x876eabf441b2ee5b5b0554fd502a8e0600950cfa           0  50,316,982        0  \n",
       "0xf650c3d88d12db855b8bf7d11be6c55a4e07dcc9           0  50,338,228        0  \n",
       "0x66f820a414680b5bcda5eeca5dea238543f42054           0  52,000,000        0  \n",
       "0x5041ed759dd4afc3a72b8192c143f72f4724081a           0  62,081,061        0  \n",
       "0xf977814e90da44bfa03b6295a0616a897441acec           0  93,300,138        0  \n",
       "0x742d35cc6634c0532925a3b844bc454e4438f44e           0  99,221,727        0  \n",
       "0xe62b5b82fb63f19579f35e44cf998d4819b0322a           0 103,641,260        0  \n",
       "0x3f5ce5fbfe3e9af3971dd833d26ba9b5c936f0be           0 108,050,644        0  \n",
       "0x1062a747393198f70f71ec65a582423dba7e5ab3 110,481,722 112,326,980        0  \n",
       "0x5754284f345afc66a98fbb0a0afe71e0f007b949           0 139,291,708        0  \n",
       "0xfdb16996831753d5331ff813c29a93c76834a0ad           0 152,457,483        0  \n",
       "0x6748f50f686bfbca6fe8ad62b22228b87f31ff2b     308,787 198,919,223        0  \n",
       "0x39aa39c021dfbae8fac545936693ac917d5e7563           0 204,069,453        0  \n",
       "0xbe0eb53f46cd790cd13851d5eff43d12404d33e8           0 390,111,090        0  \n",
       "0x7b8c69a0f660cd43ef67948976daae77bc6a019b           0 400,000,001        0  "
      ]
     },
     "execution_count": 84,
     "metadata": {},
     "output_type": "execute_result"
    }
   ],
   "source": [
    "df.tail(20)"
   ]
  },
  {
   "cell_type": "markdown",
   "metadata": {},
   "source": [
    "# Rich List (Latex)"
   ]
  },
  {
   "cell_type": "code",
   "execution_count": 85,
   "metadata": {},
   "outputs": [
    {
     "name": "stdout",
     "output_type": "stream",
     "text": [
      "0x7b8 & & 400.00 & - & - & - & - & - & - & 400.00 \\\\[-0.6ex] \n",
      "\\hline\n",
      "0xbe0 & & 301.12 & 15.59 & - & - & 73.40 & - & - & 390.11 \\\\[-0.6ex] \n",
      "\\hline\n",
      "0x39a & & - & 204.07 & - & - & - & - & - & 204.07 \\\\[-0.6ex] \n",
      "\\hline\n",
      "0x674 & & 198.61 & - & - & - & - & - & 0.31 & 198.92 \\\\[-0.6ex] \n",
      "\\hline\n",
      "0xfdb & & 152.46 & - & - & - & - & - & - & 152.46 \\\\[-0.6ex] \n",
      "\\hline\n",
      "0x575 & & 139.29 & - & - & - & - & - & - & 139.29 \\\\[-0.6ex] \n",
      "\\hline\n",
      "0x106 & & 1.85 & - & - & - & - & - & 110.48 & 112.33 \\\\[-0.6ex] \n",
      "\\hline\n",
      "0x3f5 & & 48.90 & 18.12 & - & 5.94 & 22.59 & 12.50 & - & 108.05 \\\\[-0.6ex] \n",
      "\\hline\n",
      "0xe62 & & - & - & - & 103.64 & - & - & - & 103.64 \\\\[-0.6ex] \n",
      "\\hline\n",
      "0x742 & & 99.10 & 0.12 & - & - & - & - & - & 99.22 \\\\[-0.6ex] \n",
      "\\hline\n",
      "0xf97 & & - & 30.00 & - & 17.30 & 30.00 & 16.00 & - & 93.30 \\\\[-0.6ex] \n",
      "\\hline\n",
      "0x504 & & 58.99 & 1.10 & - & 1.59 & - & 0.40 & - & 62.08 \\\\[-0.6ex] \n",
      "\\hline\n",
      "0x66f & & 52.00 & - & - & - & - & - & - & 52.00 \\\\[-0.6ex] \n",
      "\\hline\n",
      "0xf65 & & 50.34 & - & - & - & - & - & - & 50.34 \\\\[-0.6ex] \n",
      "\\hline\n",
      "0x876 & & 47.87 & 1.42 & 0.85 & 0.08 & - & 0.11 & - & 50.32 \\\\[-0.6ex] \n",
      "\\hline\n",
      "0xd30 & & 45.75 & 0.27 & - & 0.04 & - & 0.14 & - & 46.19 \\\\[-0.6ex] \n",
      "\\hline\n",
      "0x92d & & - & 43.19 & - & - & - & - & - & 43.19 \\\\[-0.6ex] \n",
      "\\hline\n",
      "0x778 & & 40.20 & - & - & - & - & - & - & 40.20 \\\\[-0.6ex] \n",
      "\\hline\n",
      "0x8ce & & - & 40.00 & - & - & - & - & - & 40.00 \\\\[-0.6ex] \n",
      "\\hline\n",
      "0x570 & & 34.65 & - & - & - & - & - & - & 34.65 \\\\[-0.6ex] \n",
      "\\hline\n",
      "$\\sum$&&1,671.11&353.88&0.85&128.59&126.00&29.14&110.79&2,420\\\\[-0.6ex]\n"
     ]
    }
   ],
   "source": [
    "te,uc,da,pa,bu,tu,hu= [0]*7\n",
    "for i,e in df.tail(20).iloc[::-1].iterrows():\n",
    "    su = sum(e.tolist()[1:-2])\n",
    "    _a,_b,_c,_d,_e,_f,_g = e.tolist()[1:-2]\n",
    "    te += _a/1e6\n",
    "    uc += _b/1e6\n",
    "    da += _c/1e6\n",
    "    pa += _d/1e6\n",
    "    bu += _e/1e6\n",
    "    tu += _f/1e6\n",
    "    hu += _g/1e6\n",
    "    ba = [j.replace('0.00', '-') if float(j) == 0 else j for j in ['{:,.2f}'.format(i/1e6) for i in e.tolist()[1:-2]]]\n",
    "    print(i[0:5] +' & & ' + ' & '.join(ba) + ' & {:,.2f} \\\\\\[-0.6ex] \\n\\hline'.format(su/1e6))\n",
    "to=te+uc+da+pa+bu+tu+hu\n",
    "print('$\\sum$&&{:,.2f}&{:,.2f}&{:,.2f}&{:,.2f}&{:,.2f}&{:,.2f}&{:,.2f}&{:,.0f}\\\\\\[-0.6ex]'.format(te,uc,da,pa,bu,tu,hu,to))"
   ]
  },
  {
   "cell_type": "markdown",
   "metadata": {},
   "source": [
    "## Balance of richest address"
   ]
  },
  {
   "cell_type": "code",
   "execution_count": 86,
   "metadata": {},
   "outputs": [
    {
     "data": {
      "text/plain": [
       "400000001.03"
      ]
     },
     "execution_count": 86,
     "metadata": {},
     "output_type": "execute_result"
    }
   ],
   "source": [
    "df.reset_index().loc[df.loc[:,'bal_tether'].argmax(),:]['bal_tether']"
   ]
  },
  {
   "cell_type": "markdown",
   "metadata": {},
   "source": [
    "## Balance of 2nd richest address"
   ]
  },
  {
   "cell_type": "code",
   "execution_count": 87,
   "metadata": {},
   "outputs": [
    {
     "data": {
      "text/plain": [
       "390111089.81406724"
      ]
     },
     "execution_count": 87,
     "metadata": {},
     "output_type": "execute_result"
    }
   ],
   "source": [
    "sum(df.loc['0xbe0eb53f46cd790cd13851d5eff43d12404d33e8','bal_tether':'bal_husd'])"
   ]
  },
  {
   "cell_type": "markdown",
   "metadata": {},
   "source": [
    "## ... and its tokens"
   ]
  },
  {
   "cell_type": "code",
   "execution_count": 88,
   "metadata": {},
   "outputs": [
    {
     "data": {
      "text/plain": [
       "bal_tether        301118650.039683\n",
       "bal_usdc           15590717.794137\n",
       "bal_dai                   0.000000\n",
       "bal_paxos                 0.000000\n",
       "bal_binanceusd     73401721.980247\n",
       "bal_trueusd               0.000000\n",
       "bal_husd                  0.000000\n",
       "Name: 0xbe0eb53f46cd790cd13851d5eff43d12404d33e8, dtype: object"
      ]
     },
     "execution_count": 88,
     "metadata": {},
     "output_type": "execute_result"
    }
   ],
   "source": [
    "df.loc['0xbe0eb53f46cd790cd13851d5eff43d12404d33e8','bal_tether':'bal_husd'].apply(lambda x: format(x, '6f'))"
   ]
  },
  {
   "cell_type": "markdown",
   "metadata": {},
   "source": [
    "## Balance of 3rt richest address"
   ]
  },
  {
   "cell_type": "code",
   "execution_count": 89,
   "metadata": {},
   "outputs": [
    {
     "data": {
      "text/plain": [
       "204069453.045619"
      ]
     },
     "execution_count": 89,
     "metadata": {},
     "output_type": "execute_result"
    }
   ],
   "source": [
    "sum(df.loc['0x39aa39c021dfbae8fac545936693ac917d5e7563','bal_tether':'bal_husd'])"
   ]
  },
  {
   "cell_type": "markdown",
   "metadata": {},
   "source": [
    "## Balance of richest HUSD address"
   ]
  },
  {
   "cell_type": "code",
   "execution_count": 90,
   "metadata": {},
   "outputs": [
    {
     "data": {
      "text/plain": [
       "112326980.12696469"
      ]
     },
     "execution_count": 90,
     "metadata": {},
     "output_type": "execute_result"
    }
   ],
   "source": [
    "sum(df.loc['0x1062a747393198f70f71ec65a582423dba7e5ab3','bal_tether':'bal_husd'])"
   ]
  },
  {
   "cell_type": "markdown",
   "metadata": {},
   "source": [
    "## Balance of richest DAI address"
   ]
  },
  {
   "cell_type": "code",
   "execution_count": 91,
   "metadata": {},
   "outputs": [
    {
     "data": {
      "text/plain": [
       "11819917.268960418"
      ]
     },
     "execution_count": 91,
     "metadata": {},
     "output_type": "execute_result"
    }
   ],
   "source": [
    "sum(df.loc['0x1e0447b19bb6ecfdae1e4ae1694b0c3659614e4e','bal_tether':'bal_husd'])"
   ]
  },
  {
   "cell_type": "code",
   "execution_count": 92,
   "metadata": {},
   "outputs": [
    {
     "data": {
      "text/plain": [
       "bal_tether               0\n",
       "bal_usdc         7,026,340\n",
       "bal_dai          4,793,577\n",
       "bal_paxos                0\n",
       "bal_binanceusd           0\n",
       "bal_trueusd              0\n",
       "bal_husd                 0\n",
       "Name: 0x1e0447b19bb6ecfdae1e4ae1694b0c3659614e4e, dtype: float64"
      ]
     },
     "execution_count": 92,
     "metadata": {},
     "output_type": "execute_result"
    }
   ],
   "source": [
    "df.loc['0x1e0447b19bb6ecfdae1e4ae1694b0c3659614e4e','bal_tether':'bal_husd']"
   ]
  },
  {
   "cell_type": "code",
   "execution_count": 93,
   "metadata": {},
   "outputs": [
    {
     "data": {
      "text/html": [
       "<div>\n",
       "<style scoped>\n",
       "    .dataframe tbody tr th:only-of-type {\n",
       "        vertical-align: middle;\n",
       "    }\n",
       "\n",
       "    .dataframe tbody tr th {\n",
       "        vertical-align: top;\n",
       "    }\n",
       "\n",
       "    .dataframe thead th {\n",
       "        text-align: right;\n",
       "    }\n",
       "</style>\n",
       "<table border=\"1\" class=\"dataframe\">\n",
       "  <thead>\n",
       "    <tr style=\"text-align: right;\">\n",
       "      <th></th>\n",
       "      <th>txs</th>\n",
       "      <th>bal_tether</th>\n",
       "      <th>bal_usdc</th>\n",
       "      <th>bal_dai</th>\n",
       "      <th>bal_paxos</th>\n",
       "      <th>bal_binanceusd</th>\n",
       "      <th>bal_trueusd</th>\n",
       "      <th>bal_husd</th>\n",
       "      <th>sum</th>\n",
       "      <th>normsum</th>\n",
       "    </tr>\n",
       "    <tr>\n",
       "      <th>Unnamed: 0</th>\n",
       "      <th></th>\n",
       "      <th></th>\n",
       "      <th></th>\n",
       "      <th></th>\n",
       "      <th></th>\n",
       "      <th></th>\n",
       "      <th></th>\n",
       "      <th></th>\n",
       "      <th></th>\n",
       "      <th></th>\n",
       "    </tr>\n",
       "  </thead>\n",
       "  <tbody>\n",
       "    <tr>\n",
       "      <th>0x1e0447b19bb6ecfdae1e4ae1694b0c3659614e4e</th>\n",
       "      <td>67139</td>\n",
       "      <td>0</td>\n",
       "      <td>7,026,340</td>\n",
       "      <td>4,793,577</td>\n",
       "      <td>0</td>\n",
       "      <td>0</td>\n",
       "      <td>0</td>\n",
       "      <td>0</td>\n",
       "      <td>11,819,917</td>\n",
       "      <td>0</td>\n",
       "    </tr>\n",
       "    <tr>\n",
       "      <th>0xdf69a3d879147c74cb39ce00ba1554f1e67e73f2</th>\n",
       "      <td>103</td>\n",
       "      <td>11,862,535</td>\n",
       "      <td>0</td>\n",
       "      <td>0</td>\n",
       "      <td>0</td>\n",
       "      <td>0</td>\n",
       "      <td>0</td>\n",
       "      <td>0</td>\n",
       "      <td>11,862,535</td>\n",
       "      <td>0</td>\n",
       "    </tr>\n",
       "    <tr>\n",
       "      <th>0x18d59157acdf390cdf542019ce7d61932a51bde4</th>\n",
       "      <td>14</td>\n",
       "      <td>11,863,324</td>\n",
       "      <td>0</td>\n",
       "      <td>0</td>\n",
       "      <td>0</td>\n",
       "      <td>0</td>\n",
       "      <td>0</td>\n",
       "      <td>0</td>\n",
       "      <td>11,863,324</td>\n",
       "      <td>0</td>\n",
       "    </tr>\n",
       "    <tr>\n",
       "      <th>0x88ffb8704872d28c38441818e8321b04d6e4ad73</th>\n",
       "      <td>5</td>\n",
       "      <td>11,873,925</td>\n",
       "      <td>0</td>\n",
       "      <td>0</td>\n",
       "      <td>0</td>\n",
       "      <td>0</td>\n",
       "      <td>0</td>\n",
       "      <td>0</td>\n",
       "      <td>11,873,925</td>\n",
       "      <td>0</td>\n",
       "    </tr>\n",
       "    <tr>\n",
       "      <th>0x9588b1a50c3c7608d057fbdac2408d041cced703</th>\n",
       "      <td>1</td>\n",
       "      <td>11,914,267</td>\n",
       "      <td>0</td>\n",
       "      <td>0</td>\n",
       "      <td>0</td>\n",
       "      <td>0</td>\n",
       "      <td>0</td>\n",
       "      <td>0</td>\n",
       "      <td>11,914,267</td>\n",
       "      <td>0</td>\n",
       "    </tr>\n",
       "    <tr>\n",
       "      <th>...</th>\n",
       "      <td>...</td>\n",
       "      <td>...</td>\n",
       "      <td>...</td>\n",
       "      <td>...</td>\n",
       "      <td>...</td>\n",
       "      <td>...</td>\n",
       "      <td>...</td>\n",
       "      <td>...</td>\n",
       "      <td>...</td>\n",
       "      <td>...</td>\n",
       "    </tr>\n",
       "    <tr>\n",
       "      <th>0xfdb16996831753d5331ff813c29a93c76834a0ad</th>\n",
       "      <td>958966</td>\n",
       "      <td>152,457,483</td>\n",
       "      <td>0</td>\n",
       "      <td>0</td>\n",
       "      <td>0</td>\n",
       "      <td>0</td>\n",
       "      <td>0</td>\n",
       "      <td>0</td>\n",
       "      <td>152,457,483</td>\n",
       "      <td>0</td>\n",
       "    </tr>\n",
       "    <tr>\n",
       "      <th>0x6748f50f686bfbca6fe8ad62b22228b87f31ff2b</th>\n",
       "      <td>1102392</td>\n",
       "      <td>198,610,436</td>\n",
       "      <td>0</td>\n",
       "      <td>0</td>\n",
       "      <td>0</td>\n",
       "      <td>0</td>\n",
       "      <td>0</td>\n",
       "      <td>308,787</td>\n",
       "      <td>198,919,223</td>\n",
       "      <td>0</td>\n",
       "    </tr>\n",
       "    <tr>\n",
       "      <th>0x39aa39c021dfbae8fac545936693ac917d5e7563</th>\n",
       "      <td>88470</td>\n",
       "      <td>0</td>\n",
       "      <td>204,069,453</td>\n",
       "      <td>0</td>\n",
       "      <td>0</td>\n",
       "      <td>0</td>\n",
       "      <td>0</td>\n",
       "      <td>0</td>\n",
       "      <td>204,069,453</td>\n",
       "      <td>0</td>\n",
       "    </tr>\n",
       "    <tr>\n",
       "      <th>0xbe0eb53f46cd790cd13851d5eff43d12404d33e8</th>\n",
       "      <td>269</td>\n",
       "      <td>301,118,650</td>\n",
       "      <td>15,590,718</td>\n",
       "      <td>0</td>\n",
       "      <td>0</td>\n",
       "      <td>73,401,722</td>\n",
       "      <td>0</td>\n",
       "      <td>0</td>\n",
       "      <td>390,111,090</td>\n",
       "      <td>0</td>\n",
       "    </tr>\n",
       "    <tr>\n",
       "      <th>0x7b8c69a0f660cd43ef67948976daae77bc6a019b</th>\n",
       "      <td>27</td>\n",
       "      <td>400,000,001</td>\n",
       "      <td>0</td>\n",
       "      <td>0</td>\n",
       "      <td>0</td>\n",
       "      <td>0</td>\n",
       "      <td>0</td>\n",
       "      <td>0</td>\n",
       "      <td>400,000,001</td>\n",
       "      <td>0</td>\n",
       "    </tr>\n",
       "  </tbody>\n",
       "</table>\n",
       "<p>83 rows × 10 columns</p>\n",
       "</div>"
      ],
      "text/plain": [
       "                                                txs  bal_tether    bal_usdc  \\\n",
       "Unnamed: 0                                                                    \n",
       "0x1e0447b19bb6ecfdae1e4ae1694b0c3659614e4e    67139           0   7,026,340   \n",
       "0xdf69a3d879147c74cb39ce00ba1554f1e67e73f2      103  11,862,535           0   \n",
       "0x18d59157acdf390cdf542019ce7d61932a51bde4       14  11,863,324           0   \n",
       "0x88ffb8704872d28c38441818e8321b04d6e4ad73        5  11,873,925           0   \n",
       "0x9588b1a50c3c7608d057fbdac2408d041cced703        1  11,914,267           0   \n",
       "...                                             ...         ...         ...   \n",
       "0xfdb16996831753d5331ff813c29a93c76834a0ad   958966 152,457,483           0   \n",
       "0x6748f50f686bfbca6fe8ad62b22228b87f31ff2b  1102392 198,610,436           0   \n",
       "0x39aa39c021dfbae8fac545936693ac917d5e7563    88470           0 204,069,453   \n",
       "0xbe0eb53f46cd790cd13851d5eff43d12404d33e8      269 301,118,650  15,590,718   \n",
       "0x7b8c69a0f660cd43ef67948976daae77bc6a019b       27 400,000,001           0   \n",
       "\n",
       "                                             bal_dai  bal_paxos  \\\n",
       "Unnamed: 0                                                        \n",
       "0x1e0447b19bb6ecfdae1e4ae1694b0c3659614e4e 4,793,577          0   \n",
       "0xdf69a3d879147c74cb39ce00ba1554f1e67e73f2         0          0   \n",
       "0x18d59157acdf390cdf542019ce7d61932a51bde4         0          0   \n",
       "0x88ffb8704872d28c38441818e8321b04d6e4ad73         0          0   \n",
       "0x9588b1a50c3c7608d057fbdac2408d041cced703         0          0   \n",
       "...                                              ...        ...   \n",
       "0xfdb16996831753d5331ff813c29a93c76834a0ad         0          0   \n",
       "0x6748f50f686bfbca6fe8ad62b22228b87f31ff2b         0          0   \n",
       "0x39aa39c021dfbae8fac545936693ac917d5e7563         0          0   \n",
       "0xbe0eb53f46cd790cd13851d5eff43d12404d33e8         0          0   \n",
       "0x7b8c69a0f660cd43ef67948976daae77bc6a019b         0          0   \n",
       "\n",
       "                                            bal_binanceusd  bal_trueusd  \\\n",
       "Unnamed: 0                                                                \n",
       "0x1e0447b19bb6ecfdae1e4ae1694b0c3659614e4e               0            0   \n",
       "0xdf69a3d879147c74cb39ce00ba1554f1e67e73f2               0            0   \n",
       "0x18d59157acdf390cdf542019ce7d61932a51bde4               0            0   \n",
       "0x88ffb8704872d28c38441818e8321b04d6e4ad73               0            0   \n",
       "0x9588b1a50c3c7608d057fbdac2408d041cced703               0            0   \n",
       "...                                                    ...          ...   \n",
       "0xfdb16996831753d5331ff813c29a93c76834a0ad               0            0   \n",
       "0x6748f50f686bfbca6fe8ad62b22228b87f31ff2b               0            0   \n",
       "0x39aa39c021dfbae8fac545936693ac917d5e7563               0            0   \n",
       "0xbe0eb53f46cd790cd13851d5eff43d12404d33e8      73,401,722            0   \n",
       "0x7b8c69a0f660cd43ef67948976daae77bc6a019b               0            0   \n",
       "\n",
       "                                            bal_husd         sum  normsum  \n",
       "Unnamed: 0                                                                 \n",
       "0x1e0447b19bb6ecfdae1e4ae1694b0c3659614e4e         0  11,819,917        0  \n",
       "0xdf69a3d879147c74cb39ce00ba1554f1e67e73f2         0  11,862,535        0  \n",
       "0x18d59157acdf390cdf542019ce7d61932a51bde4         0  11,863,324        0  \n",
       "0x88ffb8704872d28c38441818e8321b04d6e4ad73         0  11,873,925        0  \n",
       "0x9588b1a50c3c7608d057fbdac2408d041cced703         0  11,914,267        0  \n",
       "...                                              ...         ...      ...  \n",
       "0xfdb16996831753d5331ff813c29a93c76834a0ad         0 152,457,483        0  \n",
       "0x6748f50f686bfbca6fe8ad62b22228b87f31ff2b   308,787 198,919,223        0  \n",
       "0x39aa39c021dfbae8fac545936693ac917d5e7563         0 204,069,453        0  \n",
       "0xbe0eb53f46cd790cd13851d5eff43d12404d33e8         0 390,111,090        0  \n",
       "0x7b8c69a0f660cd43ef67948976daae77bc6a019b         0 400,000,001        0  \n",
       "\n",
       "[83 rows x 10 columns]"
      ]
     },
     "execution_count": 93,
     "metadata": {},
     "output_type": "execute_result"
    }
   ],
   "source": [
    "df.tail(83)"
   ]
  },
  {
   "cell_type": "markdown",
   "metadata": {},
   "source": [
    "## Are there addresses that have more than one Stablecoin?"
   ]
  },
  {
   "cell_type": "code",
   "execution_count": 94,
   "metadata": {},
   "outputs": [],
   "source": [
    "df_dai = set(pd.read_csv(dai_positive_cumulated_balances)['address'])\n",
    "df_tet = set(pd.read_csv(tether_positive_cumulated_balances)['address'])\n",
    "df_usd = set(pd.read_csv(usdc_positive_cumulated_balances)['address'])\n",
    "df_pax = set(pd.read_csv(paxos_positive_cumulated_balances)['address'])\n",
    "df_hus = set(pd.read_csv(husd_positive_cumulated_balances)['address'])\n",
    "df_bin = set(pd.read_csv(binanceusd_positive_cumulated_balances)['address'])\n",
    "df_tus = set(pd.read_csv(trueusd_positive_cumulated_balances)['address'])"
   ]
  },
  {
   "cell_type": "code",
   "execution_count": 95,
   "metadata": {},
   "outputs": [],
   "source": [
    "#Tether and DAI Stablecoin\n",
    "\n",
    "def get_similar_addr_1(df, df2, df3=None, df4=None, df5=None, df6=None, df7=None):\n",
    "    if df3:\n",
    "        df2 = set(list(df2)+list(df3))\n",
    "        if df4:\n",
    "            df2 = set(list(df2)+list(df4))\n",
    "            if df5:\n",
    "                df2 = set(list(df2)+list(df5))\n",
    "                if df6:\n",
    "                    df2 = set(list(df2)+list(df6))\n",
    "                    if df7:\n",
    "                        df2 = set(list(df2)+list(df7))\n",
    "    print()                \n",
    "    return [i for i in df if i in df2]\n",
    "\n",
    "def get_similar_addr_2(df, df2, df3=None, df4=None, df5=None, df6=None, df7=None):\n",
    "    if df7:\n",
    "        return [i for i in df if i in df2 and i in df3 and i in df4 and i in df5 and i in df6 and i in df7]\n",
    "        \n",
    "    print()                \n",
    "    return [i for i in df if i in df2]"
   ]
  },
  {
   "cell_type": "markdown",
   "metadata": {},
   "source": [
    "## Addresses that have USDT and at least one other Stablecoin"
   ]
  },
  {
   "cell_type": "code",
   "execution_count": 96,
   "metadata": {},
   "outputs": [
    {
     "name": "stdout",
     "output_type": "stream",
     "text": [
      "\n"
     ]
    },
    {
     "data": {
      "text/plain": [
       "'Addresses with USDT and at least one other Stablecoin: 19,703(1.33%)'"
      ]
     },
     "execution_count": 96,
     "metadata": {},
     "output_type": "execute_result"
    }
   ],
   "source": [
    "addrs = get_similar_addr_1(list(df_tet),df_dai,df_usd,df_pax,df_hus,df_bin,df_tus)  \n",
    "to_ba = len(df_tet)\n",
    "'Addresses with USDT and at least one other Stablecoin: {:,.0f}({:,.2f}%)'.format(len(addrs),len(addrs)/to_ba*100)"
   ]
  },
  {
   "cell_type": "markdown",
   "metadata": {},
   "source": [
    "## Addresses that have DAI and at least one other Stablecoin"
   ]
  },
  {
   "cell_type": "code",
   "execution_count": 97,
   "metadata": {},
   "outputs": [
    {
     "name": "stdout",
     "output_type": "stream",
     "text": [
      "\n"
     ]
    },
    {
     "data": {
      "text/plain": [
       "'Addresses with DAI and at least one other Stablecoin: 9,901(9.89%)'"
      ]
     },
     "execution_count": 97,
     "metadata": {},
     "output_type": "execute_result"
    }
   ],
   "source": [
    "addrs = get_similar_addr_1(list(df_dai),df_tet,df_usd,df_pax,df_hus,df_bin,df_tus)  \n",
    "to_ba = len(df_dai)\n",
    "'Addresses with DAI and at least one other Stablecoin: {:,.0f}({:,.2f}%)'.format(len(addrs),len(addrs)/to_ba*100)"
   ]
  },
  {
   "cell_type": "markdown",
   "metadata": {},
   "source": [
    "## Addresses that have USDC and at least one other Stablecoin"
   ]
  },
  {
   "cell_type": "code",
   "execution_count": 98,
   "metadata": {},
   "outputs": [
    {
     "name": "stdout",
     "output_type": "stream",
     "text": [
      "\n"
     ]
    },
    {
     "data": {
      "text/plain": [
       "'Addresses with USDC and at least one other Stablecoin: 15,714(8.85%)'"
      ]
     },
     "execution_count": 98,
     "metadata": {},
     "output_type": "execute_result"
    }
   ],
   "source": [
    "addrs = get_similar_addr_1(list(df_usd),df_tet,df_dai,df_pax,df_hus,df_bin,df_tus)  \n",
    "to_ba = len(df_usd)\n",
    "'Addresses with USDC and at least one other Stablecoin: {:,.0f}({:,.2f}%)'.format(len(addrs),len(addrs)/to_ba*100)"
   ]
  },
  {
   "cell_type": "markdown",
   "metadata": {},
   "source": [
    "## Addresses that have PAX and at least one other Stablecoin"
   ]
  },
  {
   "cell_type": "code",
   "execution_count": 99,
   "metadata": {},
   "outputs": [
    {
     "name": "stdout",
     "output_type": "stream",
     "text": [
      "\n"
     ]
    },
    {
     "data": {
      "text/plain": [
       "'Addresses with PAX and at least one other Stablecoin: 8,115(9.44%)'"
      ]
     },
     "execution_count": 99,
     "metadata": {},
     "output_type": "execute_result"
    }
   ],
   "source": [
    "addrs = get_similar_addr_1(list(df_pax),df_tet,df_usd,df_dai,df_hus,df_bin,df_tus)  \n",
    "to_ba = len(df_pax)\n",
    "'Addresses with PAX and at least one other Stablecoin: {:,.0f}({:,.2f}%)'.format(len(addrs),len(addrs)/to_ba*100)"
   ]
  },
  {
   "cell_type": "markdown",
   "metadata": {},
   "source": [
    "## Addresses that have TUSD and at least one other Stablecoin"
   ]
  },
  {
   "cell_type": "code",
   "execution_count": 100,
   "metadata": {},
   "outputs": [
    {
     "name": "stdout",
     "output_type": "stream",
     "text": [
      "\n"
     ]
    },
    {
     "data": {
      "text/plain": [
       "'Addresses with TUSD and at least one other Stablecoin: 6,716(22.73%)'"
      ]
     },
     "execution_count": 100,
     "metadata": {},
     "output_type": "execute_result"
    }
   ],
   "source": [
    "addrs = get_similar_addr_1(list(df_tus),df_tet,df_usd,df_pax,df_hus,df_bin,df_dai)  \n",
    "to_ba = len(df_tus)\n",
    "'Addresses with TUSD and at least one other Stablecoin: {:,.0f}({:,.2f}%)'.format(len(addrs),len(addrs)/to_ba*100)"
   ]
  },
  {
   "cell_type": "markdown",
   "metadata": {},
   "source": [
    "## Addresses that have BUSD and at least one other Stablecoin"
   ]
  },
  {
   "cell_type": "code",
   "execution_count": 101,
   "metadata": {},
   "outputs": [
    {
     "name": "stdout",
     "output_type": "stream",
     "text": [
      "\n"
     ]
    },
    {
     "data": {
      "text/plain": [
       "'Addresses with BUSD and at least one other Stablecoin: 2,847(54.92%)'"
      ]
     },
     "execution_count": 101,
     "metadata": {},
     "output_type": "execute_result"
    }
   ],
   "source": [
    "addrs = get_similar_addr_1(list(df_bin),df_tet,df_usd,df_pax,df_hus,df_dai,df_tus)  \n",
    "to_ba = len(df_bin)\n",
    "'Addresses with BUSD and at least one other Stablecoin: {:,.0f}({:,.2f}%)'.format(len(addrs),len(addrs)/to_ba*100)"
   ]
  },
  {
   "cell_type": "markdown",
   "metadata": {},
   "source": [
    "## Addresses that have HUSD and at least one other Stablecoin"
   ]
  },
  {
   "cell_type": "code",
   "execution_count": 102,
   "metadata": {},
   "outputs": [
    {
     "name": "stdout",
     "output_type": "stream",
     "text": [
      "\n"
     ]
    },
    {
     "data": {
      "text/plain": [
       "'Addresses with HUSD and at least one other Stablecoin: 476(33.66%)'"
      ]
     },
     "execution_count": 102,
     "metadata": {},
     "output_type": "execute_result"
    }
   ],
   "source": [
    "addrs = get_similar_addr_1(list(df_hus),df_tet,df_usd,df_pax,df_dai,df_bin,df_tus)  \n",
    "to_ba = len(df_hus)\n",
    "'Addresses with HUSD and at least one other Stablecoin: {:,.0f}({:,.2f}%)'.format(len(addrs),len(addrs)/to_ba*100)"
   ]
  },
  {
   "cell_type": "markdown",
   "metadata": {},
   "source": [
    "## Addresses owing all Stablecoins analyzed (latex formated)"
   ]
  },
  {
   "cell_type": "code",
   "execution_count": 103,
   "metadata": {},
   "outputs": [
    {
     "name": "stdout",
     "output_type": "stream",
     "text": [
      "0x81f7ef7586c7da8fdb0bb94032f3ad06ae21f644 & \\\\ [0ex]\n",
      "0x41f8d14c9475444f30a80431c68cf24dc9a8369a & \\\\ [0ex]\n",
      "0x03ef3f37856bd08eb47e2de7abc4ddd2c19b60f2 & \\\\ [0ex]\n",
      "0xfa453aec042a837e4aebbadab9d4e25b15fad69d & \\\\ [0ex]\n",
      "0x8d12a197cb00d4747a1fe03395095ce2a5cc6819 & \\\\ [0ex]\n",
      "0x395e0bd2e6f95c66ba427306c9d5774f4b752aea & \\\\ [0ex]\n",
      "0x3c020e014069df790d4f4e63fd297ba4e1c8e51f & \\\\ [0ex]\n",
      "0x7cd860672c477e4c312cdde6f922c51235caf52d & \\\\ [0ex]\n",
      "0x9df7c98c933a0cb409606a3a24b1660a70283542 & \\\\ [0ex]\n",
      "0xd77459d138f27a20ff23e1132c48d6bdbd9d8dea & \\\\ [0ex]\n",
      "0xf67b7969c0e85fdd47a48c9514be53ff10f4dbf1 & \\\\ [0ex]\n"
     ]
    }
   ],
   "source": [
    "_all = get_similar_addr_2(df_tet, df_dai,df_pax, df_usd, df_tus, df_hus, df_bin)    \n",
    "\n",
    "for i in _all:\n",
    "    print(i, '& \\\\\\ [0ex]')"
   ]
  },
  {
   "cell_type": "markdown",
   "metadata": {},
   "source": [
    "# Billionaires"
   ]
  },
  {
   "cell_type": "markdown",
   "metadata": {},
   "source": [
    "## Huobi"
   ]
  },
  {
   "cell_type": "code",
   "execution_count": 104,
   "metadata": {},
   "outputs": [
    {
     "name": "stdout",
     "output_type": "stream",
     "text": [
      "Huobi Total Balance: 897,573,359 on Ethereum\n",
      "Additional 124,680,800* and 64,389,947** on Bitcoin\n",
      "and 627,942,845*** on Tron\n",
      "------------------------\n",
      "In Total: 1,086,644,106 USD without Tron\n",
      "------------------------\n",
      "\n",
      "*35hK24tcLEWcgNA4JxpvbkNkoAcDGqQPsP, **1HckjUpRGcrrRAtFaaCAUaGjsPx9oYmLaZ ***TNaRAoLUyYEV2uF7GUrzSjRQTU8v5ZJ5VR\n"
     ]
    }
   ],
   "source": [
    "ex = pd.read_csv(exchanges, header=None)\n",
    "df = ex.loc[0:73,:]\n",
    "bal = 0\n",
    "for i in _all_positive_cumulated_balances:\n",
    "    balance = pd.read_csv(i)\n",
    "    for i in df[0]:\n",
    "        val = balance['balance'][balance['address'] == i]\n",
    "        if not val.empty:\n",
    "            bal += balance['balance'][balance['address'] == i].values[0]\n",
    "        else:\n",
    "            pass\n",
    "print('Huobi Total Balance: {:,.0f} on Ethereum\\nAdditional 124,680,800* and 64,389,947** on Bitcoin'.format(bal))\n",
    "print('and 627,942,845*** on Tron')\n",
    "print('------------------------\\nIn Total: {:,.0f} USD without Tron\\n------------------------\\n'.format(bal+124680800+64389947))\n",
    "print('*35hK24tcLEWcgNA4JxpvbkNkoAcDGqQPsP, **1HckjUpRGcrrRAtFaaCAUaGjsPx9oYmLaZ', '***TNaRAoLUyYEV2uF7GUrzSjRQTU8v5ZJ5VR')"
   ]
  },
  {
   "cell_type": "markdown",
   "metadata": {},
   "source": [
    "## Huobi share of total Stablecoin supply"
   ]
  },
  {
   "cell_type": "code",
   "execution_count": 105,
   "metadata": {},
   "outputs": [
    {
     "data": {
      "text/plain": [
       "0.1150627897602692"
      ]
     },
     "execution_count": 105,
     "metadata": {},
     "output_type": "execute_result"
    }
   ],
   "source": [
    "897573359/7800726550"
   ]
  },
  {
   "cell_type": "markdown",
   "metadata": {},
   "source": [
    "## Binance"
   ]
  },
  {
   "cell_type": "code",
   "execution_count": 106,
   "metadata": {},
   "outputs": [
    {
     "name": "stdout",
     "output_type": "stream",
     "text": [
      "Binance Total Balance: 642,624,504 on Ethereum\n",
      "Additional 112,413,357* on Bitcoin\n",
      "and 257,387,652** on Tron\n",
      "------------------------\n",
      "In Total: 1,012,425,513 USD\n",
      "------------------------\n",
      "\n",
      "*1FoWyxwPXuj4C6abqwhjDWdz6D4PZgYRjA, **TWd4WrZ9wn84f5x1hZhL4DHvk738ns5jwb\n"
     ]
    }
   ],
   "source": [
    "ex = pd.read_csv(exchanges, header=None)\n",
    "df = ex.loc[74:88,:]\n",
    "bal = 0\n",
    "for i in _all_positive_cumulated_balances:\n",
    "    balance = pd.read_csv(i)\n",
    "    for i in df[0]:\n",
    "        val = balance['balance'][balance['address'] == i]\n",
    "        if not val.empty:\n",
    "            bal += balance['balance'][balance['address'] == i].values[0]\n",
    "        else:\n",
    "            pass\n",
    "print('Binance Total Balance: {:,.0f} on Ethereum\\nAdditional 112,413,357* on Bitcoin'.format(bal))\n",
    "print('and 257,387,652** on Tron')\n",
    "\n",
    "print('------------------------\\nIn Total: {:,.0f} USD\\n------------------------\\n'.format(bal+112413357+257387652))\n",
    "print('*1FoWyxwPXuj4C6abqwhjDWdz6D4PZgYRjA, **TWd4WrZ9wn84f5x1hZhL4DHvk738ns5jwb')"
   ]
  },
  {
   "cell_type": "markdown",
   "metadata": {},
   "source": [
    "## Binance share of total Stablecoin supply"
   ]
  },
  {
   "cell_type": "code",
   "execution_count": 107,
   "metadata": {},
   "outputs": [
    {
     "data": {
      "text/plain": [
       "0.08238008342953644"
      ]
     },
     "execution_count": 107,
     "metadata": {},
     "output_type": "execute_result"
    }
   ],
   "source": [
    "642624504/7800726550"
   ]
  },
  {
   "cell_type": "markdown",
   "metadata": {},
   "source": [
    "## Latex code for Appendix with all identified addresses"
   ]
  },
  {
   "cell_type": "code",
   "execution_count": 108,
   "metadata": {},
   "outputs": [
    {
     "name": "stdout",
     "output_type": "stream",
     "text": [
      "\\footnotesize{ 0xab5c66752a9e8167967685f1450532fb96d5d24f }  &  \\footnotesize{ Huobi 1 }  \\\\ [-2.3ex]\n",
      "\\footnotesize{ 0xe93381fb4c4f14bda253907b18fad305d799241a }  &  \\footnotesize{ Huobi 10 }  \\\\ [-2.3ex]\n",
      "\\footnotesize{ 0xfa4b5be3f2f84f56703c42eb22142744e95a2c58 }  &  \\footnotesize{ Huobi 11 }  \\\\ [-2.3ex]\n",
      "\\footnotesize{ 0x46705dfff24256421a05d056c29e81bdc09723b8 }  &  \\footnotesize{ Huobi 12 }  \\\\ [-2.3ex]\n",
      "\\footnotesize{ 0x32598293906b5b17c27d657db3ad2c9b3f3e4265 }  &  \\footnotesize{ Huobi 13 }  \\\\ [-2.3ex]\n",
      "\\footnotesize{ 0x5861b8446a2f6e19a067874c133f04c578928727 }  &  \\footnotesize{ Huobi 14 }  \\\\ [-2.3ex]\n",
      "\\footnotesize{ 0x926fc576b7facf6ae2d08ee2d4734c134a743988 }  &  \\footnotesize{ Huobi 15 }  \\\\ [-2.3ex]\n",
      "\\footnotesize{ 0xeec606a66edb6f497662ea31b5eb1610da87ab5f }  &  \\footnotesize{ Huobi 16 }  \\\\ [-2.3ex]\n",
      "\\footnotesize{ 0x7ef35bb398e0416b81b019fea395219b65c52164 }  &  \\footnotesize{ Huobi 17 }  \\\\ [-2.3ex]\n",
      "\\footnotesize{ 0x229b5c097f9b35009ca1321ad2034d4b3d5070f6 }  &  \\footnotesize{ Huobi 18 }  \\\\ [-2.3ex]\n",
      "\\footnotesize{ 0xd8a83b72377476d0a66683cde20a8aad0b628713 }  &  \\footnotesize{ Huobi 19 }  \\\\ [-2.3ex]\n",
      "\\footnotesize{ 0x6748f50f686bfbca6fe8ad62b22228b87f31ff2b }  &  \\footnotesize{ Huobi 2 }  \\\\ [-2.3ex]\n",
      "\\footnotesize{ 0x90e9ddd9d8d5ae4e3763d0cf856c97594dea7325 }  &  \\footnotesize{ Huobi 20 }  \\\\ [-2.3ex]\n",
      "\\footnotesize{ 0x18916e1a2933cb349145a280473a5de8eb6630cb }  &  \\footnotesize{ Huobi 21 }  \\\\ [-2.3ex]\n",
      "\\footnotesize{ 0x6f48a3e70f0251d1e83a989e62aaa2281a6d5380 }  &  \\footnotesize{ Huobi 22 }  \\\\ [-2.3ex]\n",
      "\\footnotesize{ 0xf056f435ba0cc4fcd2f1b17e3766549ffc404b94 }  &  \\footnotesize{ Huobi 23 }  \\\\ [-2.3ex]\n",
      "\\footnotesize{ 0x137ad9c4777e1d36e4b605e745e8f37b2b62e9c5 }  &  \\footnotesize{ Huobi 24 }  \\\\ [-2.3ex]\n",
      "\\footnotesize{ 0x5401dbf7da53e1c9dbf484e3d69505815f2f5e6e }  &  \\footnotesize{ Huobi 25 }  \\\\ [-2.3ex]\n",
      "\\footnotesize{ 0x034f854b44d28e26386c1bc37ff9b20c6380b00d }  &  \\footnotesize{ Huobi 26 }  \\\\ [-2.3ex]\n",
      "\\footnotesize{ 0x0577a79cfc63bbc0df38833ff4c4a3bf2095b404 }  &  \\footnotesize{ Huobi 27 }  \\\\ [-2.3ex]\n",
      "\\footnotesize{ 0x0c6c34cdd915845376fb5407e0895196c9dd4eec }  &  \\footnotesize{ Huobi 28 }  \\\\ [-2.3ex]\n",
      "\\footnotesize{ 0x794d28ac31bcb136294761a556b68d2634094153 }  &  \\footnotesize{ Huobi 29 }  \\\\ [-2.3ex]\n",
      "\\footnotesize{ 0xfdb16996831753d5331ff813c29a93c76834a0ad }  &  \\footnotesize{ Huobi 3 }  \\\\ [-2.3ex]\n",
      "\\footnotesize{ 0xfd54078badd5653571726c3370afb127351a6f26 }  &  \\footnotesize{ Huobi 30 }  \\\\ [-2.3ex]\n",
      "\\footnotesize{ 0xb4cd0386d2db86f30c1a11c2b8c4f4185c1dade9 }  &  \\footnotesize{ Huobi 31 }  \\\\ [-2.3ex]\n",
      "\\footnotesize{ 0x4d77a1144dc74f26838b69391a6d3b1e403d0990 }  &  \\footnotesize{ Huobi 32 }  \\\\ [-2.3ex]\n",
      "\\footnotesize{ 0x28ffe35688ffffd0659aee2e34778b0ae4e193ad }  &  \\footnotesize{ Huobi 33 }  \\\\ [-2.3ex]\n",
      "\\footnotesize{ 0xcac725bef4f114f728cbcfd744a731c2a463c3fc }  &  \\footnotesize{ Huobi 34 }  \\\\ [-2.3ex]\n",
      "\\footnotesize{ 0x73f8fc2e74302eb2efda125a326655acf0dc2d1b }  &  \\footnotesize{ Huobi 35 }  \\\\ [-2.3ex]\n",
      "\\footnotesize{ 0xeee28d484628d41a82d01e21d12e2e78d69920da }  &  \\footnotesize{ Huobi 4 }  \\\\ [-2.3ex]\n",
      "\\footnotesize{ 0x5c985e89dde482efe97ea9f1950ad149eb73829b }  &  \\footnotesize{ Huobi 5 }  \\\\ [-2.3ex]\n",
      "\\footnotesize{ 0xdc76cd25977e0a5ae17155770273ad58648900d3 }  &  \\footnotesize{ Huobi 6 }  \\\\ [-2.3ex]\n",
      "\\footnotesize{ 0xadb2b42f6bd96f5c65920b9ac88619dce4166f94 }  &  \\footnotesize{ Huobi 7 }  \\\\ [-2.3ex]\n",
      "\\footnotesize{ 0xa8660c8ffd6d578f657b72c0c811284aef0b735e }  &  \\footnotesize{ Huobi 8 }  \\\\ [-2.3ex]\n",
      "\\footnotesize{ 0x1062a747393198f70f71ec65a582423dba7e5ab3 }  &  \\footnotesize{ Huobi 9 }  \\\\ [-2.3ex]\n",
      "\\footnotesize{ 0x9d6d492bd500da5b33cf95a5d610a73360fcaaa0 }  &  \\footnotesize{ Huobi Mining Pool }  \\\\ [-2.3ex]\n",
      "\\footnotesize{ 0xa66daa57432024023db65477ba87d4e7f5f95213 }  &  \\footnotesize{ Huobi Pool Token }  \\\\ [-2.3ex]\n",
      "\\footnotesize{ 0x6f259637dcd74c767781e37bc6133cd6a68aa161 }  &  \\footnotesize{ Huobi Token }  \\\\ [-2.3ex]\n",
      "\\footnotesize{ 0x0316eb71485b0ab14103307bf65a021042c6d380 }  &  \\footnotesize{ Huobi: HBTC Token }  \\\\ [-2.3ex]\n",
      "\\footnotesize{ 0x1d1e10e8c66b67692f4c002c0cb334de5d485e41 }  &  \\footnotesize{ Huobi: Old Address 1 }  \\\\ [-2.3ex]\n",
      "\\footnotesize{ 0xea0cfef143182d7b9208fbfeda9d172c2aced972 }  &  \\footnotesize{ Huobi: Old Address 10 }  \\\\ [-2.3ex]\n",
      "\\footnotesize{ 0x0c92efa186074ba716d0e2156a6ffabd579f8035 }  &  \\footnotesize{ Huobi: Old Address 11 }  \\\\ [-2.3ex]\n",
      "\\footnotesize{ 0x91dfa9d9e062a50d2f351bfba0d35a9604993dac }  &  \\footnotesize{ Huobi: Old Address 12 }  \\\\ [-2.3ex]\n",
      "\\footnotesize{ 0x8e8bc99b79488c276d6f3ca11901e9abd77efea4 }  &  \\footnotesize{ Huobi: Old Address 13 }  \\\\ [-2.3ex]\n",
      "\\footnotesize{ 0xb9a4873d8d2c22e56b8574e8605644d08e047549 }  &  \\footnotesize{ Huobi: Old Address 14 }  \\\\ [-2.3ex]\n",
      "\\footnotesize{ 0x170af0a02339743687afd3dc8d48cffd1f660728 }  &  \\footnotesize{ Huobi: Old Address 15 }  \\\\ [-2.3ex]\n",
      "\\footnotesize{ 0xf775a9a0ad44807bc15936df0ee68902af1a0eee }  &  \\footnotesize{ Huobi: Old Address 16 }  \\\\ [-2.3ex]\n",
      "\\footnotesize{ 0x75a83599de596cbc91a1821ffa618c40e22ac8ca }  &  \\footnotesize{ Huobi: Old Address 17 }  \\\\ [-2.3ex]\n",
      "\\footnotesize{ 0x48ab9f29795dfb44b36587c50da4b30c0e84d3ed }  &  \\footnotesize{ Huobi: Old Address 18 }  \\\\ [-2.3ex]\n",
      "\\footnotesize{ 0x90f49e24a9554126f591d28174e157ca267194ba }  &  \\footnotesize{ Huobi: Old Address 19 }  \\\\ [-2.3ex]\n",
      "\\footnotesize{ 0x1b93129f05cc2e840135aab154223c75097b69bf }  &  \\footnotesize{ Huobi: Old Address 2 }  \\\\ [-2.3ex]\n",
      "\\footnotesize{ 0xe3314bbf3334228b257779e28228cfb86fa4261b }  &  \\footnotesize{ Huobi: Old Address 20 }  \\\\ [-2.3ex]\n",
      "\\footnotesize{ 0x6edb9d6547befc3397801c94bb8c97d2e8087e2f }  &  \\footnotesize{ Huobi: Old Address 21 }  \\\\ [-2.3ex]\n",
      "\\footnotesize{ 0x8aabba0077f1565df73e9d15dd3784a2b0033dad }  &  \\footnotesize{ Huobi: Old Address 22 }  \\\\ [-2.3ex]\n",
      "\\footnotesize{ 0xd3a2f775e973c1671f2047e620448b8662dcd3ca }  &  \\footnotesize{ Huobi: Old Address 23 }  \\\\ [-2.3ex]\n",
      "\\footnotesize{ 0x1c515eaa87568c850043a89c2d2c2e8187adb056 }  &  \\footnotesize{ Huobi: Old Address 24 }  \\\\ [-2.3ex]\n",
      "\\footnotesize{ 0x60b45f993223dcb8bdf05e3391f7630e5a51d787 }  &  \\footnotesize{ Huobi: Old Address 25 }  \\\\ [-2.3ex]\n",
      "\\footnotesize{ 0xa23d7dd4b8a1060344caf18a29b42350852af481 }  &  \\footnotesize{ Huobi: Old Address 26 }  \\\\ [-2.3ex]\n",
      "\\footnotesize{ 0x9eebb2815dba2166d8287afa9a2c89336ba9deaa }  &  \\footnotesize{ Huobi: Old Address 27 }  \\\\ [-2.3ex]\n",
      "\\footnotesize{ 0xd10e08325c0e95d59c607a693483680fe5b755b3 }  &  \\footnotesize{ Huobi: Old Address 28 }  \\\\ [-2.3ex]\n",
      "\\footnotesize{ 0xc837f51a0efa33f8eca03570e3d01a4b2cf97ffd }  &  \\footnotesize{ Huobi: Old Address 29 }  \\\\ [-2.3ex]\n",
      "\\footnotesize{ 0xeb6d43fe241fb2320b5a3c9be9cdfd4dd8226451 }  &  \\footnotesize{ Huobi: Old Address 3 }  \\\\ [-2.3ex]\n",
      "\\footnotesize{ 0xf7a8af16acb302351d7ea26ffc380575b741724c }  &  \\footnotesize{ Huobi: Old Address 30 }  \\\\ [-2.3ex]\n",
      "\\footnotesize{ 0x636b76ae213358b9867591299e5c62b8d014e372 }  &  \\footnotesize{ Huobi: Old Address 31 }  \\\\ [-2.3ex]\n",
      "\\footnotesize{ 0x9a755332d874c893111207b0b220ce2615cd036f }  &  \\footnotesize{ Huobi: Old Address 32 }  \\\\ [-2.3ex]\n",
      "\\footnotesize{ 0xecd8b3877d8e7cd0739de18a5b545bc0b3538566 }  &  \\footnotesize{ Huobi: Old Address 33 }  \\\\ [-2.3ex]\n",
      "\\footnotesize{ 0xef54f559b5e3b55b783c7bc59850f83514b6149c }  &  \\footnotesize{ Huobi: Old Address 34 }  \\\\ [-2.3ex]\n",
      "\\footnotesize{ 0x956e0dbecc0e873d34a5e39b25f364b2ca036730 }  &  \\footnotesize{ Huobi: Old Address 4 }  \\\\ [-2.3ex]\n",
      "\\footnotesize{ 0x6f50c6bff08ec925232937b204b0ae23c488402a }  &  \\footnotesize{ Huobi: Old Address 5 }  \\\\ [-2.3ex]\n",
      "\\footnotesize{ 0xdf95de30cdff4381b69f9e4fa8dddce31a0128df }  &  \\footnotesize{ Huobi: Old Address 6 }  \\\\ [-2.3ex]\n",
      "\\footnotesize{ 0x25c6459e5c5b01694f6453e8961420ccd1edf3b1 }  &  \\footnotesize{ Huobi: Old Address 7 }  \\\\ [-2.3ex]\n",
      "\\footnotesize{ 0x04645af26b54bd85dc02ac65054e87362a72cb22 }  &  \\footnotesize{ Huobi: Old Address 8 }  \\\\ [-2.3ex]\n",
      "\\footnotesize{ 0xb2a48f542dc56b89b24c04076cbe565b3dc58e7b }  &  \\footnotesize{ Huobi: Old Address 9 }  \\\\ [-2.3ex]\n",
      "\\footnotesize{ 0x3f5ce5fbfe3e9af3971dd833d26ba9b5c936f0be }  &  \\footnotesize{ Binance }  \\\\ [-2.3ex]\n",
      "\\footnotesize{ 0xd551234ae421e3bcba99a0da6d736074f22192ff }  &  \\footnotesize{ Binance 2 }  \\\\ [-2.3ex]\n",
      "\\footnotesize{ 0x564286362092d8e7936f0549571a803b203aaced }  &  \\footnotesize{ Binance 3 }  \\\\ [-2.3ex]\n",
      "\\footnotesize{ 0x0681d8db095565fe8a346fa0277bffde9c0edbbf }  &  \\footnotesize{ Binance 4 }  \\\\ [-2.3ex]\n",
      "\\footnotesize{ 0xfe9e8709d3215310075d67e3ed32a380ccf451c8 }  &  \\footnotesize{ Binance 5 }  \\\\ [-2.3ex]\n",
      "\\footnotesize{ 0x4e9ce36e442e55ecd9025b9a6e0d88485d628a67 }  &  \\footnotesize{ Binance 6 }  \\\\ [-2.3ex]\n",
      "\\footnotesize{ 0xbe0eb53f46cd790cd13851d5eff43d12404d33e8 }  &  \\footnotesize{ Binance 7 }  \\\\ [-2.3ex]\n",
      "\\footnotesize{ 0xf977814e90da44bfa03b6295a0616a897441acec }  &  \\footnotesize{ Binance 8 }  \\\\ [-2.3ex]\n",
      "\\footnotesize{ 0x001866ae5b3de6caa5a51543fd9fb64f524f5478 }  &  \\footnotesize{ Binance 9 }  \\\\ [-2.3ex]\n",
      "\\footnotesize{ 0x8b99f3660622e21f2910ecca7fbe51d654a1517d }  &  \\footnotesize{ Binance Charity }  \\\\ [-2.3ex]\n",
      "\\footnotesize{ 0xab83d182f3485cf1d6ccdd34c7cfef95b4c08da4 }  &  \\footnotesize{ Binance JEX }  \\\\ [-2.3ex]\n",
      "\\footnotesize{ 0xb8c77482e45f1f44de1745f52c74426c631bdd52 }  &  \\footnotesize{ Binance Token }  \\\\ [-2.3ex]\n",
      "\\footnotesize{ 0x4fabb145d64652a948d72533023f6e7a623c7c53 }  &  \\footnotesize{ Binance USD }  \\\\ [-2.3ex]\n",
      "\\footnotesize{ 0xc9a2c4868f0f96faaa739b59934dc9cb304112ec }  &  \\footnotesize{ Binance: BGBP Token }  \\\\ [-2.3ex]\n",
      "\\footnotesize{ 0x0b95993a39a363d99280ac950f5e4536ab5c5566 }  &  \\footnotesize{ Binance: Contract }  \\\\ [-2.3ex]\n",
      "\\footnotesize{ 0x5754284f345afc66a98fbb0a0afe71e0f007b949 }  &  \\footnotesize{ Bitfinex }  \\\\ [-2.3ex]\n",
      "\\footnotesize{ 0x1151314c646ce4e0efd76d1af4760ae66a9fe30f }  &  \\footnotesize{ Bitfinex 1 }  \\\\ [-2.3ex]\n",
      "\\footnotesize{ 0x742d35cc6634c0532925a3b844bc454e4438f44e }  &  \\footnotesize{ Bitfinex 2 }  \\\\ [-2.3ex]\n",
      "\\footnotesize{ 0x876eabf441b2ee5b5b0554fd502a8e0600950cfa }  &  \\footnotesize{ Bitfinex 3 }  \\\\ [-2.3ex]\n",
      "\\footnotesize{ 0x7727e5113d1d161373623e5f49fd568b4f543a9e }  &  \\footnotesize{ Bitfinex: Contract 1 }  \\\\ [-2.3ex]\n",
      "\\footnotesize{ 0x0e55c54249f25f70d519b7fb1c20e3331e7ba76d }  &  \\footnotesize{ Bitfinex: Contract 2 }  \\\\ [-2.3ex]\n",
      "\\footnotesize{ 0x5dbdebcae07cc958ba5290ff9deaae554e29e7b4 }  &  \\footnotesize{ Bitfinex: Deployer 1 }  \\\\ [-2.3ex]\n",
      "\\footnotesize{ 0x2ee3b2df6534abc759ffe994f7b8dcdfaa02cd31 }  &  \\footnotesize{ Bitfinex: Deployer 2 }  \\\\ [-2.3ex]\n",
      "\\footnotesize{ 0xe1f3c653248de6894d683cb2f10de7ca2253046f }  &  \\footnotesize{ Bitfinex: Deployer 3 }  \\\\ [-2.3ex]\n",
      "\\footnotesize{ 0x2903cadbe271e057edef157340b52a5898d7424f }  &  \\footnotesize{ Bitfinex: Deployer 4 }  \\\\ [-2.3ex]\n",
      "\\footnotesize{ 0x36928500bc1dcd7af6a2b4008875cc336b927d57 }  &  \\footnotesize{ Bitfinex: Deployer 5 }  \\\\ [-2.3ex]\n",
      "\\footnotesize{ 0x14d06788090769f669427b6aea1c0240d2321f34 }  &  \\footnotesize{ Bitfinex: Deployer 6 }  \\\\ [-2.3ex]\n",
      "\\footnotesize{ 0x2af5d2ad76741191d15dfe7bf6ac92d4bd912ca3 }  &  \\footnotesize{ Bitfinex: LEO Token }  \\\\ [-2.3ex]\n",
      "\\footnotesize{ 0xab7c74abc0c4d48d1bdad5dcb26153fc8780f83e }  &  \\footnotesize{ Bitfinex: MultiSig 1 }  \\\\ [-2.3ex]\n",
      "\\footnotesize{ 0xc6cde7c39eb2f0f0095f41570af89efc2c1ea828 }  &  \\footnotesize{ Bitfinex: MultiSig 2 }  \\\\ [-2.3ex]\n",
      "\\footnotesize{ 0xcafb10ee663f465f9d10588ac44ed20ed608c11e }  &  \\footnotesize{ Bitfinex: Old Address 1 }  \\\\ [-2.3ex]\n",
      "\\footnotesize{ 0x7180eb39a6264938fdb3effd7341c4727c382153 }  &  \\footnotesize{ Bitfinex: Old Address 2 }  \\\\ [-2.3ex]\n",
      "\\footnotesize{ 0x69c6dcc8f83b196605fa1076897af0e7e2b6b044 }  &  \\footnotesize{ Bitfinex: Old Contract 1 }  \\\\ [-2.3ex]\n",
      "\\footnotesize{ 0x8d5a41e85f4ce2433beef476305d307b9205d98d }  &  \\footnotesize{ Bitfinex: Old Contract 2 }  \\\\ [-2.3ex]\n",
      "\\footnotesize{ 0xabdf147870235fcfc34153828c769a70b3fae01f }  &  \\footnotesize{ Tether EUR }  \\\\ [-2.3ex]\n",
      "\\footnotesize{ 0x4922a015c4407f87432b179bb209e125432e4a2a }  &  \\footnotesize{ Tether Gold: XAUt Token }  \\\\ [-2.3ex]\n",
      "\\footnotesize{ 0xdac17f958d2ee523a2206206994597c13d831ec7 }  &  \\footnotesize{ Tether USD }  \\\\ [-2.3ex]\n",
      "\\footnotesize{ 0x5041ed759dd4afc3a72b8192c143f72f4724081a }  &  \\footnotesize{ OKEx }  \\\\ [-2.3ex]\n",
      "\\footnotesize{ 0x6cc5f688a315f3dc28a7781717a9a798a59fda7b }  &  \\footnotesize{ OKEx 1 }  \\\\ [-2.3ex]\n",
      "\\footnotesize{ 0x236f9f97e0e62388479bf9e5ba4889e46b0273c3 }  &  \\footnotesize{ OKEx 2 }  \\\\ [-2.3ex]\n",
      "\\footnotesize{ 0xa7efae728d2936e78bda97dc267687568dd593f3 }  &  \\footnotesize{ OKEx 3 }  \\\\ [-2.3ex]\n",
      "\\footnotesize{ 0x75231f58b43240c9718dd58b4967c5114342a86c }  &  \\footnotesize{ OKEx: OKB Token }  \\\\ [-2.3ex]\n",
      "\\footnotesize{ 0xfbb1b73c4f0bda4f67dca266ce6ef42f520fbb98 }  &  \\footnotesize{ Bittrex 1 }  \\\\ [-2.3ex]\n"
     ]
    },
    {
     "name": "stdout",
     "output_type": "stream",
     "text": [
      "\\footnotesize{ 0xe94b04a0fed112f3664e45adb2b8915693dd5ff3 }  &  \\footnotesize{ Bittrex 2 }  \\\\ [-2.3ex]\n",
      "\\footnotesize{ 0x66f820a414680b5bcda5eeca5dea238543f42054 }  &  \\footnotesize{ Bittrex 3 }  \\\\ [-2.3ex]\n",
      "\\footnotesize{ 0xa3c1e324ca1ce40db73ed6026c4a177f099b5770 }  &  \\footnotesize{ Bittrex: Controller }  \\\\ [-2.3ex]\n",
      "\\footnotesize{ 0x88d34944cf554e9cccf4a24292d891f620e9c94f }  &  \\footnotesize{ Bithumb 1 }  \\\\ [-2.3ex]\n",
      "\\footnotesize{ 0x186549a4ae594fc1f70ba4cffdac714b405be3f9 }  &  \\footnotesize{ Bithumb 10 }  \\\\ [-2.3ex]\n",
      "\\footnotesize{ 0xd273bd546b11bd60214a2f9d71f22a088aafe31b }  &  \\footnotesize{ Bithumb 11 }  \\\\ [-2.3ex]\n",
      "\\footnotesize{ 0x3052cd6bf951449a984fe4b5a38b46aef9455c8e }  &  \\footnotesize{ Bithumb 2 }  \\\\ [-2.3ex]\n",
      "\\footnotesize{ 0x2140efd7ba31169c69dfff6cdc66c542f0211825 }  &  \\footnotesize{ Bithumb 3 }  \\\\ [-2.3ex]\n",
      "\\footnotesize{ 0xa0ff1e0f30b5dda2dc01e7e828290bc72b71e57d }  &  \\footnotesize{ Bithumb 4 }  \\\\ [-2.3ex]\n",
      "\\footnotesize{ 0xc1da8f69e4881efe341600620268934ef01a3e63 }  &  \\footnotesize{ Bithumb 5 }  \\\\ [-2.3ex]\n",
      "\\footnotesize{ 0xb4460b75254ce0563bb68ec219208344c7ea838c }  &  \\footnotesize{ Bithumb 6 }  \\\\ [-2.3ex]\n",
      "\\footnotesize{ 0x15878e87c685f866edfaf454be6dc06fa517b35b }  &  \\footnotesize{ Bithumb 7 }  \\\\ [-2.3ex]\n",
      "\\footnotesize{ 0x31d03f07178bcd74f9099afebd23b0ae30184ab5 }  &  \\footnotesize{ Bithumb 8 }  \\\\ [-2.3ex]\n",
      "\\footnotesize{ 0xed48dc0628789c2956b1e41726d062a86ec45bff }  &  \\footnotesize{ Bithumb 9 }  \\\\ [-2.3ex]\n",
      "\\footnotesize{ 0x3fbe1f8fc5ddb27d428aa60f661eaaab0d2000ce }  &  \\footnotesize{ Bithumb: Contract 1 }  \\\\ [-2.3ex]\n",
      "\\footnotesize{ 0xbb5a0408fa54287b9074a2f47ab54c855e95ef82 }  &  \\footnotesize{ Bithumb: Old Address 1 }  \\\\ [-2.3ex]\n",
      "\\footnotesize{ 0x5521a68d4f8253fc44bfb1490249369b3e299a4a }  &  \\footnotesize{ Bithumb: Old Address 2 }  \\\\ [-2.3ex]\n",
      "\\footnotesize{ 0x8fa8af91c675452200e49b4683a33ca2e1a34e42 }  &  \\footnotesize{ Bithumb: Old Address 3 }  \\\\ [-2.3ex]\n",
      "\\footnotesize{ 0x3b83cd1a8e516b6eb9f1af992e9354b15a6f9672 }  &  \\footnotesize{ Bithumb: Old Address 4 }  \\\\ [-2.3ex]\n",
      "\\footnotesize{ 0x00bdb5699745f5b860228c8f939abf1b9ae374ed }  &  \\footnotesize{ Bitstamp 1 }  \\\\ [-2.3ex]\n",
      "\\footnotesize{ 0x1522900b6dafac587d499a862861c0869be6e428 }  &  \\footnotesize{ Bitstamp 2 }  \\\\ [-2.3ex]\n",
      "\\footnotesize{ 0x9a9bed3eb03e386d66f8a29dc67dc29bbb1ccb72 }  &  \\footnotesize{ Bitstamp 3 }  \\\\ [-2.3ex]\n",
      "\\footnotesize{ 0x059799f2261d37b829c2850cee67b5b975432271 }  &  \\footnotesize{ Bitstamp 4 }  \\\\ [-2.3ex]\n",
      "\\footnotesize{ 0x4c766def136f59f6494f0969b1355882080cf8e0 }  &  \\footnotesize{ Bitstamp 5 }  \\\\ [-2.3ex]\n",
      "\\footnotesize{ 0xc5b611f502a0dcf6c3188fd494061ae29b2baa4f }  &  \\footnotesize{ Bitstamp 6 }  \\\\ [-2.3ex]\n",
      "\\footnotesize{ 0x538d72ded42a76a30f730292da939e0577f22f57 }  &  \\footnotesize{ Bitstamp: Deployer }  \\\\ [-2.3ex]\n",
      "\\footnotesize{ 0xfca70e67b3f93f679992cd36323eeb5a5370c8e4 }  &  \\footnotesize{ Bitstamp: Old Address 1 }  \\\\ [-2.3ex]\n",
      "\\footnotesize{ 0x2910543af39aba0cd09dbb2d50200b3e800a63d2 }  &  \\footnotesize{ Kraken 1 }  \\\\ [-2.3ex]\n",
      "\\footnotesize{ 0x0a869d79a7052c7f1b55a8ebabbea3420f0d1e13 }  &  \\footnotesize{ Kraken 2 }  \\\\ [-2.3ex]\n",
      "\\footnotesize{ 0xe853c56864a2ebe4576a807d26fdc4a0ada51919 }  &  \\footnotesize{ Kraken 3 }  \\\\ [-2.3ex]\n",
      "\\footnotesize{ 0x267be1c1d684f78cb4f6a176c4911b741e4ffdc0 }  &  \\footnotesize{ Kraken 4 }  \\\\ [-2.3ex]\n",
      "\\footnotesize{ 0xfa52274dd61e1643d2205169732f29114bc240b3 }  &  \\footnotesize{ Kraken 5 }  \\\\ [-2.3ex]\n",
      "\\footnotesize{ 0x53d284357ec70ce289d6d64134dfac8e511c8a3d }  &  \\footnotesize{ Kraken 6 }  \\\\ [-2.3ex]\n",
      "\\footnotesize{ 0x2e7542ec36df6429d8c397f88c4cf0c925948f44 }  &  \\footnotesize{ Kraken: Deployer }  \\\\ [-2.3ex]\n",
      "\\footnotesize{ 0x3fda67f7583380e67ef93072294a7fac882fd7e7 }  &  \\footnotesize{ Compound }  \\\\ [-2.3ex]\n",
      "\\footnotesize{ 0xb3319f5d18bc0d84dd1b4825dcde5d5f7266d407 }  &  \\footnotesize{ Compound 0x }  \\\\ [-2.3ex]\n",
      "\\footnotesize{ 0x158079ee67fce2f58472a96584a73c7ab9ac95c1 }  &  \\footnotesize{ Compound Augur }  \\\\ [-2.3ex]\n",
      "\\footnotesize{ 0x6c8c6b02e7b2be14d4fa6022dfd6d75921d90e4e }  &  \\footnotesize{ Compound Basic Attention Token }  \\\\ [-2.3ex]\n",
      "\\footnotesize{ 0x5d3a536e4d6dbd6114cc1ead35777bab948e3643 }  &  \\footnotesize{ Compound Dai }  \\\\ [-2.3ex]\n",
      "\\footnotesize{ 0x4ddc2d193948926d02f9b1fe9e1daa0718270ed5 }  &  \\footnotesize{ Compound Ether }  \\\\ [-2.3ex]\n",
      "\\footnotesize{ 0xf5dce57282a584d2746faf1593d3121fcac444dc }  &  \\footnotesize{ Compound Sai }  \\\\ [-2.3ex]\n",
      "\\footnotesize{ 0xf650c3d88d12db855b8bf7d11be6c55a4e07dcc9 }  &  \\footnotesize{ Compound Tether }  \\\\ [-2.3ex]\n",
      "\\footnotesize{ 0x39aa39c021dfbae8fac545936693ac917d5e7563 }  &  \\footnotesize{ Compound USD Coin }  \\\\ [-2.3ex]\n",
      "\\footnotesize{ 0xc11b1268c1a384e55c48c2391d8d480264a3a7f4 }  &  \\footnotesize{ Compound Wrapped BTC }  \\\\ [-2.3ex]\n",
      "\\footnotesize{ 0xc00e94cb662c3520282e6f5717214004a7f26888 }  &  \\footnotesize{ Compound: COMP Token }  \\\\ [-2.3ex]\n",
      "\\footnotesize{ 0x3d9819210a31b4961b30ef54be2aed79b9c9cd3b }  &  \\footnotesize{ Compound: Comptroller }  \\\\ [-2.3ex]\n",
      "\\footnotesize{ 0xf859a1ad94bcf445a406b892ef0d3082f4174088 }  &  \\footnotesize{ Compound: Contract 1 }  \\\\ [-2.3ex]\n",
      "\\footnotesize{ 0xa7ff0d561cd15ed525e31bbe0af3fe34ac2059f6 }  &  \\footnotesize{ Compound: Deployer 1 }  \\\\ [-2.3ex]\n",
      "\\footnotesize{ 0x1449e0687810bddd356ae6dd87789244a46d9adb }  &  \\footnotesize{ Compound: Deployer 2 }  \\\\ [-2.3ex]\n",
      "\\footnotesize{ 0xcec237e83a080f3225ab1562605ee6dedf5644cc }  &  \\footnotesize{ Compound: Deployer 3 }  \\\\ [-2.3ex]\n",
      "\\footnotesize{ 0xfe83af639f769ead20bad76067abc120245a06a9 }  &  \\footnotesize{ Compound: Deployer 4 }  \\\\ [-2.3ex]\n",
      "\\footnotesize{ 0xc0da01a04c3f3e0be433606045bb7017a7323e38 }  &  \\footnotesize{ Compound: Governor Alpha }  \\\\ [-2.3ex]\n",
      "\\footnotesize{ 0x1055be4bf7338c7606d9efdcf80593f180ba043e }  &  \\footnotesize{ Compound: Liquidator }  \\\\ [-2.3ex]\n",
      "\\footnotesize{ 0x02557a5e05defeffd4cae6d83ea3d173b272c904 }  &  \\footnotesize{ Compound: Oracle }  \\\\ [-2.3ex]\n",
      "\\footnotesize{ 0x9e77ad51e5c0825d6e440f49e49ef1a1bca37b5d }  &  \\footnotesize{ Compound: Oracle 2 }  \\\\ [-2.3ex]\n",
      "\\footnotesize{ 0xe7664229833ae4abf4e269b8f23a86b657e2338d }  &  \\footnotesize{ Compound: Oracle v2 }  \\\\ [-2.3ex]\n",
      "\\footnotesize{ 0xddc46a3b076aec7ab3fc37420a8edd2959764ec4 }  &  \\footnotesize{ Compound: Price Oracle Proxy }  \\\\ [-2.3ex]\n",
      "\\footnotesize{ 0xd25c029a607ee888bdbdbe054515e25ec6f3fff9 }  &  \\footnotesize{ Compound: Rate Model }  \\\\ [-2.3ex]\n",
      "\\footnotesize{ 0x0a97f822272519d5296e21de278a86cd3ce3c96a }  &  \\footnotesize{ Compound: Rate Model 2 }  \\\\ [-2.3ex]\n",
      "\\footnotesize{ 0x16c2a19edbc68780dfc03708bc9021ef34db2e33 }  &  \\footnotesize{ Compound: Rate Model 3 }  \\\\ [-2.3ex]\n",
      "\\footnotesize{ 0xcdaf8cb1839952cbe6d98d248e593b782a2419c7 }  &  \\footnotesize{ Compound: Rate Model 4 }  \\\\ [-2.3ex]\n",
      "\\footnotesize{ 0xd928c8ead620bb316d2cefe3caf81dc2dec6ff63 }  &  \\footnotesize{ Compound: Rate Model 5 }  \\\\ [-2.3ex]\n",
      "\\footnotesize{ 0x8ac03df808efae9397a9d95888230ee022b997f4 }  &  \\footnotesize{ Compound: Stablecoin Rate Model }  \\\\ [-2.3ex]\n",
      "\\footnotesize{ 0x6b175474e89094c44da98b954eedeac495271d0f }  &  \\footnotesize{ Dai Stablecoin }  \\\\ [-2.3ex]\n",
      "\\footnotesize{ 0x39755357759ce0d7f32dc8dc45414cca409ae24e }  &  \\footnotesize{ Eth2Dai: Old Contract }  \\\\ [-2.3ex]\n",
      "\\footnotesize{ 0x9f8f72aa9304c8b593d555f12ef6589cc3a579a2 }  &  \\footnotesize{ Maker Token }  \\\\ [-2.3ex]\n",
      "\\footnotesize{ 0x5ef30b9986345249bc32d8928b7ee64de9435e39 }  &  \\footnotesize{ Maker: CDP Manager }  \\\\ [-2.3ex]\n",
      "\\footnotesize{ 0x448a5065aebb8e423f0896e6c5d525c040f59af3 }  &  \\footnotesize{ Maker: Contract 1 }  \\\\ [-2.3ex]\n",
      "\\footnotesize{ 0xbda109309f9fafa6dd6a9cb9f1df4085b27ee8ef }  &  \\footnotesize{ Maker: Contract 2 }  \\\\ [-2.3ex]\n",
      "\\footnotesize{ 0x9b0f70df76165442ca6092939132bbaea77f2d7a }  &  \\footnotesize{ Maker: Contract 3 }  \\\\ [-2.3ex]\n",
      "\\footnotesize{ 0x9b0ccf7c8994e19f39b2b4cf708e0a7df65fa8a3 }  &  \\footnotesize{ Maker: Contract 4 }  \\\\ [-2.3ex]\n",
      "\\footnotesize{ 0xf2c5369cffb8ea6284452b0326e326dbfdcb867c }  &  \\footnotesize{ Maker: Contract 5 }  \\\\ [-2.3ex]\n",
      "\\footnotesize{ 0x315cbb88168396d12e1a255f9cb935408fe80710 }  &  \\footnotesize{ Maker: Contract 6 }  \\\\ [-2.3ex]\n",
      "\\footnotesize{ 0x79f6d0f646706e1261acf0b93dcb864f357d4680 }  &  \\footnotesize{ Maker: Contract 7 }  \\\\ [-2.3ex]\n",
      "\\footnotesize{ 0x8e2a84d6ade1e7fffee039a35ef5f19f13057152 }  &  \\footnotesize{ Maker: Contract 8 }  \\\\ [-2.3ex]\n",
      "\\footnotesize{ 0x69076e44a9c70a67d5b79d95795aba299083c275 }  &  \\footnotesize{ Maker: Contract 9 }  \\\\ [-2.3ex]\n",
      "\\footnotesize{ 0x4f26ffbe5f04ed43630fdc30a87638d53d0b0876 }  &  \\footnotesize{ Maker: Deployer 1 }  \\\\ [-2.3ex]\n",
      "\\footnotesize{ 0xdb33dfd3d61308c33c63209845dad3e6bfb2c674 }  &  \\footnotesize{ Maker: Deployer 2 }  \\\\ [-2.3ex]\n",
      "\\footnotesize{ 0x00daa9a2d88bed5a29a6ca93e0b7d860cd1d403f }  &  \\footnotesize{ Maker: Deployer 3 }  \\\\ [-2.3ex]\n",
      "\\footnotesize{ 0xddb108893104de4e1c6d0e47c42237db4e617acc }  &  \\footnotesize{ Maker: Deployer 4 }  \\\\ [-2.3ex]\n",
      "\\footnotesize{ 0xa26e15c895efc0616177b7c1e7270a4c7d51c997 }  &  \\footnotesize{ Maker: DS Proxy Factory }  \\\\ [-2.3ex]\n",
      "\\footnotesize{ 0x36a724bd100c39f0ea4d3a20f7097ee01a8ff573 }  &  \\footnotesize{ Maker: Get CDPS }  \\\\ [-2.3ex]\n",
      "\\footnotesize{ 0x9ef05f7f6deb616fd37ac3c959a2ddd25a54e4f5 }  &  \\footnotesize{ Maker: Governance Contract }  \\\\ [-2.3ex]\n",
      "\\footnotesize{ 0x78f2c2af65126834c51822f56be0d7469d7a523e }  &  \\footnotesize{ Maker: MCD Cat }  \\\\ [-2.3ex]\n",
      "\\footnotesize{ 0xbaa65281c2fa2baacb2cb550ba051525a480d3f4 }  &  \\footnotesize{ Maker: MCD Deploy }  \\\\ [-2.3ex]\n",
      "\\footnotesize{ 0xab14d3ce3f733cacb76ec2abe7d2fcb00c99f3d5 }  &  \\footnotesize{ Maker: MCD End }  \\\\ [-2.3ex]\n",
      "\\footnotesize{ 0x0581a0abe32aae9b5f0f68defab77c6759100085 }  &  \\footnotesize{ Maker: MCD ESM }  \\\\ [-2.3ex]\n",
      "\\footnotesize{ 0xdfe0fb1be2a52cdbf8fb962d5701d7fd0902db9f }  &  \\footnotesize{ Maker: MCD Flap }  \\\\ [-2.3ex]\n",
      "\\footnotesize{ 0xaa745404d55f88c108a28c86abe7b5a1e7817c07 }  &  \\footnotesize{ Maker: MCD Flip BAT A }  \\\\ [-2.3ex]\n",
      "\\footnotesize{ 0xd8a04f5412223f513dc55f839574430f5ec15531 }  &  \\footnotesize{ Maker: MCD Flip ETH A }  \\\\ [-2.3ex]\n",
      "\\footnotesize{ 0x5432b2f3c0dff95aa191c45e5cbd539e2820ae72 }  &  \\footnotesize{ Maker: MCD Flip SAI }  \\\\ [-2.3ex]\n",
      "\\footnotesize{ 0xbe00fe8dfd9c079f1e5f5ad7ae9a3ad2c571fcac }  &  \\footnotesize{ Maker: MCD Flop }  \\\\ [-2.3ex]\n",
      "\\footnotesize{ 0x4f5f0933158569c026d617337614d00ee6589b6e }  &  \\footnotesize{ Maker: MCD Gov Actions }  \\\\ [-2.3ex]\n",
      "\\footnotesize{ 0x3d0b1912b66114d4096f48a8cee3a56c231772ca }  &  \\footnotesize{ Maker: MCD Join BAT A }  \\\\ [-2.3ex]\n",
      "\\footnotesize{ 0x9759a6ac90977b93b58547b4a71c78317f391a28 }  &  \\footnotesize{ Maker: MCD Join DAI }  \\\\ [-2.3ex]\n",
      "\\footnotesize{ 0x2f0b23f53734252bda2277357e97e1517d6b042a }  &  \\footnotesize{ Maker: MCD Join ETH A }  \\\\ [-2.3ex]\n",
      "\\footnotesize{ 0xad37fd42185ba63009177058208dd1be4b136e6b }  &  \\footnotesize{ Maker: MCD Join SAI }  \\\\ [-2.3ex]\n",
      "\\footnotesize{ 0x19c0976f590d67707e62397c87829d896dc0f1f1 }  &  \\footnotesize{ Maker: MCD Jug }  \\\\ [-2.3ex]\n",
      "\\footnotesize{ 0xbe286431454714f511008713973d3b053a2d38f3 }  &  \\footnotesize{ Maker: MCD Pause }  \\\\ [-2.3ex]\n",
      "\\footnotesize{ 0xbe8e3e3618f7474f8cb1d074a26affef007e98fb }  &  \\footnotesize{ Maker: MCD Pause Proxy }  \\\\ [-2.3ex]\n",
      "\\footnotesize{ 0x197e90f9fad81970ba7976f33cbd77088e5d7cf7 }  &  \\footnotesize{ Maker: MCD Pot }  \\\\ [-2.3ex]\n",
      "\\footnotesize{ 0x65c79fcb50ca1594b025960e539ed7a9a6d434a3 }  &  \\footnotesize{ Maker: MCD Spot }  \\\\ [-2.3ex]\n",
      "\\footnotesize{ 0x35d1b3f3d7966a1dfe207aa4514c12a259a0492b }  &  \\footnotesize{ Maker: MCD Vat }  \\\\ [-2.3ex]\n",
      "\\footnotesize{ 0xa950524441892a31ebddf91d3ceefa04bf454466 }  &  \\footnotesize{ Maker: MCD Vow }  \\\\ [-2.3ex]\n",
      "\\footnotesize{ 0x99041f808d598b782d5a3e498681c2452a31da08 }  &  \\footnotesize{ Maker: Medianizer 1 }  \\\\ [-2.3ex]\n",
      "\\footnotesize{ 0x729d19f657bd0614b4985cf1d82531c67569197b }  &  \\footnotesize{ Maker: Medianizer 2 }  \\\\ [-2.3ex]\n",
      "\\footnotesize{ 0xc73e0383f3aff3215e6f04b0331d58cecf0ab849 }  &  \\footnotesize{ Maker: Migration }  \\\\ [-2.3ex]\n",
      "\\footnotesize{ 0xe4b22d484958e582098a98229a24e8a43801b674 }  &  \\footnotesize{ Maker: Migration Proxy Actions }  \\\\ [-2.3ex]\n",
      "\\footnotesize{ 0x5e227ad1969ea493b43f840cff78d08a6fc17796 }  &  \\footnotesize{ Maker: Multicall }  \\\\ [-2.3ex]\n",
      "\\footnotesize{ 0x8ee7d9235e01e6b42345120b5d270bdb763624c7 }  &  \\footnotesize{ Maker: MultiSig }  \\\\ [-2.3ex]\n",
      "\\footnotesize{ 0x793ebbe21607e4f04788f89c7a9b97320773ec59 }  &  \\footnotesize{ Maker: Oasis Proxy }  \\\\ [-2.3ex]\n",
      "\\footnotesize{ 0xc66ea802717bfb9833400264dd12c2bceaa34a6d }  &  \\footnotesize{ Maker: Old Token }  \\\\ [-2.3ex]\n",
      "\\footnotesize{ 0xb4eb54af9cc7882df0121d26c5b97e802915abe6 }  &  \\footnotesize{ Maker: PIP BAT }  \\\\ [-2.3ex]\n",
      "\\footnotesize{ 0x81fe72b5a8d1a857d176c3e7d5bd2679a9b85763 }  &  \\footnotesize{ Maker: PIP ETH }  \\\\ [-2.3ex]\n",
      "\\footnotesize{ 0x54003dbf6ae6cba6ddae571ccdc34d834b44ab1e }  &  \\footnotesize{ Maker: PIP SAI }  \\\\ [-2.3ex]\n",
      "\\footnotesize{ 0x82ecd135dce65fbc6dbdd0e4237e0af93ffd5038 }  &  \\footnotesize{ Maker: Proxy Actions }  \\\\ [-2.3ex]\n",
      "\\footnotesize{ 0x07ee93aeea0a36fff2a9b95dd22bd6049ee54f26 }  &  \\footnotesize{ Maker: Proxy Actions DSR }  \\\\ [-2.3ex]\n",
      "\\footnotesize{ 0x069b2fb501b6f16d1f5fe245b16f6993808f1008 }  &  \\footnotesize{ Maker: Proxy Actions End }  \\\\ [-2.3ex]\n",
      "\\footnotesize{ 0x1b93556ab8dccef01cd7823c617a6d340f53fb58 }  &  \\footnotesize{ Maker: Proxy Deployer }  \\\\ [-2.3ex]\n",
      "\\footnotesize{ 0x6bda13d43b7edd6cafe1f70fb98b5d40f61a1370 }  &  \\footnotesize{ Maker: Proxy Pause Actions }  \\\\ [-2.3ex]\n",
      "\\footnotesize{ 0x4678f0a6958e4d2bc4f1baf7bc52e8f3564f3fe4 }  &  \\footnotesize{ Maker: Proxy Registry }  \\\\ [-2.3ex]\n",
      "\\footnotesize{ 0x190c2cfc69e68a8e8d5e2b9e2b9cc3332caff77b }  &  \\footnotesize{ Maker: Sai Proxy 1 }  \\\\ [-2.3ex]\n",
      "\\footnotesize{ 0x526af336d614ade5cc252a407062b8861af998f5 }  &  \\footnotesize{ Maker: Sai Proxy 2 }  \\\\ [-2.3ex]\n",
      "\\footnotesize{ 0xbf72da2bd84c5170618fbe5914b0eca9638d5eb5 }  &  \\footnotesize{ Maker: WBTC }  \\\\ [-2.3ex]\n",
      "\\footnotesize{ 0x794e6e91555438afc3ccf1c5076a74f42133d08d }  &  \\footnotesize{ OasisDEX }  \\\\ [-2.3ex]\n",
      "\\footnotesize{ 0x14fbca95be7e99c15cc2996c6c9d841e54b79425 }  &  \\footnotesize{ OasisDex: Old Contract 1 }  \\\\ [-2.3ex]\n",
      "\\footnotesize{ 0xb7ac09c2c0217b07d7c103029b4918a2c401eecb }  &  \\footnotesize{ OasisDex: Old Contract 2 }  \\\\ [-2.3ex]\n",
      "\\footnotesize{ 0xf53ad2c6851052a81b42133467480961b2321c09 }  &  \\footnotesize{ Pooled Ether }  \\\\ [-2.3ex]\n",
      "\\footnotesize{ 0x59adcf176ed2f6788a41b8ea4c4904518e62b6a4 }  &  \\footnotesize{ ProtoSAI Token }  \\\\ [-2.3ex]\n",
      "\\footnotesize{ 0x89d24a6b4ccb1b6faa2625fe562bdd9a23260359 }  &  \\footnotesize{ Sai Stablecoin }  \\\\ [-2.3ex]\n",
      "\\footnotesize{ 0x32be343b94f860124dc4fee278fdcbd38c102d88 }  &  \\footnotesize{ Poloniex }  \\\\ [-2.3ex]\n",
      "\\footnotesize{ 0x209c4784ab1e8183cf58ca33cb740efbf3fc18ef }  &  \\footnotesize{ Poloniex 2 }  \\\\ [-2.3ex]\n",
      "\\footnotesize{ 0xb794f5ea0ba39494ce839613fffba74279579268 }  &  \\footnotesize{ Poloniex 3 }  \\\\ [-2.3ex]\n",
      "\\footnotesize{ 0xa910f92acdaf488fa6ef02174fb86208ad7722ba }  &  \\footnotesize{ Poloniex 4 }  \\\\ [-2.3ex]\n",
      "\\footnotesize{ 0xaa9fa73dfe17ecaa2c89b39f0bb2779613c5fc3b }  &  \\footnotesize{ Poloniex: BAT }  \\\\ [-2.3ex]\n",
      "\\footnotesize{ 0x2fa2bc2ce6a4f92952921a4caa46b3727d24a1ec }  &  \\footnotesize{ Poloniex: BNT }  \\\\ [-2.3ex]\n",
      "\\footnotesize{ 0x31a2feb9b5d3b5f4e76c71d6c92fc46ebb3cb1c1 }  &  \\footnotesize{ Poloniex: CVC }  \\\\ [-2.3ex]\n",
      "\\footnotesize{ 0x6b71834d65c5c4d8ed158d54b47e6ea4ff4e5437 }  &  \\footnotesize{ Poloniex: FOAM }  \\\\ [-2.3ex]\n",
      "\\footnotesize{ 0x48d466b7c0d32b61e8a82cd2bcf060f7c3f966df }  &  \\footnotesize{ Poloniex: GNO }  \\\\ [-2.3ex]\n",
      "\\footnotesize{ 0x0536806df512d6cdde913cf95c9886f65b1d3462 }  &  \\footnotesize{ Poloniex: GNT }  \\\\ [-2.3ex]\n",
      "\\footnotesize{ 0x8d451ae5ee8f557a9ce7a9d7be8a8cb40002d5cb }  &  \\footnotesize{ Poloniex: KNC }  \\\\ [-2.3ex]\n",
      "\\footnotesize{ 0xbd2ec7c608a06fe975dbdca729e84dedb34ecc21 }  &  \\footnotesize{ Poloniex: LOOM }  \\\\ [-2.3ex]\n",
      "\\footnotesize{ 0xc0e30823e5e628df8bc9bf2636a347e1512f0ecb }  &  \\footnotesize{ Poloniex: MANA }  \\\\ [-2.3ex]\n",
      "\\footnotesize{ 0x65f9b2e4d7aaeb40ffea8c6f5844d5ad7da257e0 }  &  \\footnotesize{ Poloniex: NXC }  \\\\ [-2.3ex]\n",
      "\\footnotesize{ 0x36b01066b7fa4a0fdb2968ea0256c848e9135674 }  &  \\footnotesize{ Poloniex: OMG }  \\\\ [-2.3ex]\n",
      "\\footnotesize{ 0xab11204cfeaccffa63c2d23aef2ea9accdb0a0d5 }  &  \\footnotesize{ Poloniex: REP }  \\\\ [-2.3ex]\n",
      "\\footnotesize{ 0x6795cf8eb25585eadc356ae32ac6641016c550f2 }  &  \\footnotesize{ Poloniex: SNT }  \\\\ [-2.3ex]\n",
      "\\footnotesize{ 0xfbf2173154f7625713be22e0504404ebfe021eae }  &  \\footnotesize{ Poloniex: STORJ }  \\\\ [-2.3ex]\n",
      "\\footnotesize{ 0x6f803466bcd17f44fa18975bf7c509ba64bf3825 }  &  \\footnotesize{ Poloniex: USDC }  \\\\ [-2.3ex]\n",
      "\\footnotesize{ 0xead6be34ce315940264519f250d8160f369fa5cd }  &  \\footnotesize{ Poloniex: ZRX }  \\\\ [-2.3ex]\n",
      "\\footnotesize{ 0x8a6629feba4196e0a61b8e8c94d4905e525bc055 }  &  \\footnotesize{ dYdX: Admin Impl }  \\\\ [-2.3ex]\n",
      "\\footnotesize{ 0x57b98aa8a8b69c6295195d153fe6edd0b0d176ac }  &  \\footnotesize{ dYdX: Auction Proxy }  \\\\ [-2.3ex]\n",
      "\\footnotesize{ 0xfbc08a66f8bac391f21472d9625c1092ff41cc04 }  &  \\footnotesize{ dYdX: Bucket Lender Factory }  \\\\ [-2.3ex]\n",
      "\\footnotesize{ 0x787f552bdc17332c98aa360748884513e3cb401a }  &  \\footnotesize{ dYdX: Dai Price Oracle }  \\\\ [-2.3ex]\n",
      "\\footnotesize{ 0xa2f79147143e9100e1dd65df277ac54825197148 }  &  \\footnotesize{ dYdX: Deployer }  \\\\ [-2.3ex]\n",
      "\\footnotesize{ 0x686f7d0b698b6780a8ce1d6ae13bb8c813552ff3 }  &  \\footnotesize{ dYdX: Dutch Auction Closer }  \\\\ [-2.3ex]\n",
      "\\footnotesize{ 0x2657eca107d7c2abcf72c7a97c8eeef863c22507 }  &  \\footnotesize{ dYdX: Erc20 Long Factory }  \\\\ [-2.3ex]\n",
      "\\footnotesize{ 0xd5e3e6f3f5de6c778bcd31e175e7b4a543b9d89d }  &  \\footnotesize{ dYdX: ERC20 Long Factory 2 }  \\\\ [-2.3ex]\n",
      "\\footnotesize{ 0x5be497a12e92b8deb68da9d0ed9943f8dc3067ca }  &  \\footnotesize{ dYdX: ERC20 Position Withdrawer }  \\\\ [-2.3ex]\n",
      "\\footnotesize{ 0xf57263953d4d02707cc26b64b920820cd310a01d }  &  \\footnotesize{ dYdX: ERC20 Position Withdrawer V2 }  \\\\ [-2.3ex]\n",
      "\\footnotesize{ 0xc72786ad71b5ef5326299409d5fe6912c05635ab }  &  \\footnotesize{ dYdX: Erc20 Short Factory }  \\\\ [-2.3ex]\n",
      "\\footnotesize{ 0x4cf98de1793ef45a2cfe9c622d871c63d61ecb28 }  &  \\footnotesize{ dYdX: ERC20 Short Factory 2 }  \\\\ [-2.3ex]\n",
      "\\footnotesize{ 0x1098898efacd41e1824cd610f52d0f8690bdc87a }  &  \\footnotesize{ dYdX: Erc721 Margin Position }  \\\\ [-2.3ex]\n",
      "\\footnotesize{ 0x61fa58d7ef40d6f6853740330b62ccad34f8bc04 }  &  \\footnotesize{ dYdX: Eth Wrapper Bucket Lender }  \\\\ [-2.3ex]\n",
      "\\footnotesize{ 0x0ece224fbc24d40b446c6a94a142dc41fae76f2d }  &  \\footnotesize{ dYdX: Expiry }  \\\\ [-2.3ex]\n",
      "\\footnotesize{ 0x36bf21c8e661b21e6166e4385f574941fdc6caff }  &  \\footnotesize{ dYdX: Margin }  \\\\ [-2.3ex]\n",
      "\\footnotesize{ 0xd72136c6da6ae959b5960c204edf8bc260087bca }  &  \\footnotesize{ dYdX: Oasis V1 Simple Exchange Wrapper }  \\\\ [-2.3ex]\n",
      "\\footnotesize{ 0xf85baccc3e7fd4b6a49818fc46503bb51539d554 }  &  \\footnotesize{ dYdX: Oasis V2 Simple Exchange Wrapper }  \\\\ [-2.3ex]\n",
      "\\footnotesize{ 0x89b5925a310b22e3e51cf9e2b3405a8c9b680835 }  &  \\footnotesize{ dYdX: Oasis V3 Simple Exchange Wrapper }  \\\\ [-2.3ex]\n",
      "\\footnotesize{ 0xcb17e969288ae849d5e0717694c5c56e70e798ed }  &  \\footnotesize{ dYdX: Open Directly Exchange Wrapper }  \\\\ [-2.3ex]\n",
      "\\footnotesize{ 0x56e7d4520abfecf10b38368b00723d9bd3c21ee1 }  &  \\footnotesize{ dYdX: Operation Impl }  \\\\ [-2.3ex]\n",
      "\\footnotesize{ 0xa8b39829ce2246f89b31c013b8cde15506fb9a76 }  &  \\footnotesize{ dYdX: Payable Proxy For Solo Margin }  \\\\ [-2.3ex]\n",
      "\\footnotesize{ 0xad91a0ddf799176a0a87a32dafe8f3dd28479918 }  &  \\footnotesize{ dYdX: Polynomial Interest Setter }  \\\\ [-2.3ex]\n",
      "\\footnotesize{ 0x1e0447b19bb6ecfdae1e4ae1694b0c3659614e4e }  &  \\footnotesize{ dYdX: Solo Margin }  \\\\ [-2.3ex]\n",
      "\\footnotesize{ 0xeafd335c0e72bb89857972ee7a3ba90bd5a2f7fd }  &  \\footnotesize{ dYdX: Token Proxy }  \\\\ [-2.3ex]\n",
      "\\footnotesize{ 0x52f1c952a48a4588f9ae615d38cfdbf8df036e60 }  &  \\footnotesize{ dYdX: Usdc Price Oracle }  \\\\ [-2.3ex]\n",
      "\\footnotesize{ 0x5199071825cc1d6cd019b0d7d42b08106f6cf16d }  &  \\footnotesize{ dYdX: Vault }  \\\\ [-2.3ex]\n",
      "\\footnotesize{ 0x8418bb725b3ac45ec8fff3791dd8b4e0480cc2a2 }  &  \\footnotesize{ dYdX: Weth Payout Recipient }  \\\\ [-2.3ex]\n",
      "\\footnotesize{ 0xf61ae328463cd997c7b58e7045cdc613e1cfdb69 }  &  \\footnotesize{ dYdX: Weth Price Oracle }  \\\\ [-2.3ex]\n",
      "\\footnotesize{ 0x5d4b4d9f5274f72d7d4308597d0ea95b97b094cf }  &  \\footnotesize{ dYdX: ZeroEx V1 Exchange Wrapper }  \\\\ [-2.3ex]\n",
      "\\footnotesize{ 0xa26d16a21805b14b2977555ffdea34e5e6fc43ba }  &  \\footnotesize{ dYdX: ZeroEx V2 Exchange Wrapper }  \\\\ [-2.3ex]\n",
      "\\footnotesize{ 0x059550a1ca3c46a2adb803e9e3ea4585a34f004a }  &  \\footnotesize{ DydX Expo }  \\\\ [-2.3ex]\n"
     ]
    }
   ],
   "source": [
    "ex = pd.read_csv(exchanges).iloc[:,:]\n",
    "for i, e in ex.iterrows():\n",
    "    print('\\\\footnotesize{',e[0],'}', ' & ', '\\\\footnotesize{', e[1],'}', ' \\\\\\ [-2.3ex]')"
   ]
  }
 ],
 "metadata": {
  "kernelspec": {
   "display_name": "master_thesis",
   "language": "python",
   "name": "master_thesis"
  },
  "language_info": {
   "codemirror_mode": {
    "name": "ipython",
    "version": 3
   },
   "file_extension": ".py",
   "mimetype": "text/x-python",
   "name": "python",
   "nbconvert_exporter": "python",
   "pygments_lexer": "ipython3",
   "version": "3.6.9"
  }
 },
 "nbformat": 4,
 "nbformat_minor": 4
}
